{
 "cells": [
  {
   "cell_type": "code",
   "execution_count": null,
   "id": "c1a9a9e5-4d5a-4ddb-a341-ce5ccc8f0df7",
   "metadata": {},
   "outputs": [
    {
     "name": "stdout",
     "output_type": "stream",
     "text": [
      "Packed 1298 files into 29 bins\n",
      "Swarm: 24116978 Submitted\n",
      "Swarm: 24116978 | 2024-04-11 14:50:49\n",
      "1              PENDING\n",
      "Swarm: 24116978 | 2024-04-11 14:51:49\n",
      "1              PENDING\n",
      "Swarm: 24116978 | 2024-04-11 14:52:49\n",
      "1              PENDING\n",
      "Swarm: 24116978 | 2024-04-11 14:53:49\n",
      "1              PENDING\n",
      "Swarm: 24116978 | 2024-04-11 14:54:49\n",
      "29              RUNNING\n",
      "Swarm: 24116978 | 2024-04-11 14:55:49\n",
      "29              RUNNING\n",
      "Swarm: 24116978 | 2024-04-11 14:56:50\n",
      "29              RUNNING\n",
      "Swarm: 24116978 | 2024-04-11 14:57:50\n",
      "29              RUNNING\n",
      "Swarm: 24116978 | 2024-04-11 14:58:50\n",
      "29              RUNNING\n",
      "Swarm: 24116978 | 2024-04-11 14:59:50\n",
      "29              RUNNING\n",
      "Swarm: 24116978 | 2024-04-11 15:00:50\n",
      "29              RUNNING\n",
      "Swarm: 24116978 | 2024-04-11 15:01:50\n",
      "29              RUNNING\n",
      "Swarm: 24116978 | 2024-04-11 15:02:50\n",
      "29              RUNNING\n",
      "Swarm: 24116978 | 2024-04-11 15:03:50\n",
      "29              RUNNING\n",
      "Swarm: 24116978 | 2024-04-11 15:04:51\n",
      "29              RUNNING\n"
     ]
    }
   ],
   "source": [
    "from core_functions.mmseqs_functions import realign_all_fastas_swarm_binned\n",
    "from paths_and_parameters import realignment_swarm_opts\n",
    "\n",
    "#fasta_root = \"/data/luojaa/kog_fastas/\"\n",
    "fasta_root = \"/data/luojaa/unaligned_fastas/\"\n",
    "swarm_opts = realignment_swarm_opts\n",
    "realign_all_fastas_swarm_binned(fasta_root, swarm_opts, max_swarms=1000, \n",
    "                                max_sequences=30, filter_entropy=0.25, muscle_reps=5)\n",
    "\n"
   ]
  },
  {
   "cell_type": "code",
   "execution_count": null,
   "id": "c6eb8af6-fa7d-4ecd-86f9-bb4834b733d7",
   "metadata": {},
   "outputs": [],
   "source": []
  }
 ],
 "metadata": {
  "kernelspec": {
   "display_name": "Python 3 (ipykernel)",
   "language": "python",
   "name": "python3"
  },
  "language_info": {
   "codemirror_mode": {
    "name": "ipython",
    "version": 3
   },
   "file_extension": ".py",
   "mimetype": "text/x-python",
   "name": "python",
   "nbconvert_exporter": "python",
   "pygments_lexer": "ipython3",
   "version": "3.10.10"
  }
 },
 "nbformat": 4,
 "nbformat_minor": 5
}
