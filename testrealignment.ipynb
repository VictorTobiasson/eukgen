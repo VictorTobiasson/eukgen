{
 "cells": [
  {
   "cell_type": "code",
   "execution_count": 1,
   "id": "5205894f-0648-410f-8015-5a592ebd3ec5",
   "metadata": {
    "tags": []
   },
   "outputs": [],
   "source": [
    "from paths_and_parameters import path_tmp, exe_python, exe_realignment, muscle_realignment_timeout"
   ]
  },
  {
   "cell_type": "code",
   "execution_count": 1,
   "id": "c1a9a9e5-4d5a-4ddb-a341-ce5ccc8f0df7",
   "metadata": {},
   "outputs": [
    {
     "name": "stdout",
     "output_type": "stream",
     "text": [
      "Packed 405 files into 25 bins\n",
      "Swarm: 24375325 Submitted\n",
      "Swarm: 24375325 | 2024-04-15 14:13:44\n",
      "23            COMPLETED \n",
      "      2              RUNNING\n",
      "Swarm: 24375325 | 2024-04-15 14:14:44\n",
      "24            COMPLETED \n",
      "      1              RUNNING\n",
      "Swarm: 24375325 | 2024-04-15 14:15:44\n",
      "24            COMPLETED \n",
      "      1              RUNNING\n",
      "Swarm: 24375325 | 2024-04-15 14:16:44\n",
      "24            COMPLETED \n",
      "      1              RUNNING\n",
      "Swarm: 24375325 | 2024-04-15 14:17:44\n",
      "24            COMPLETED \n",
      "      1              RUNNING\n",
      "Swarm: 24375325 | 2024-04-15 14:18:44\n",
      "24            COMPLETED \n",
      "      1              RUNNING\n",
      "Swarm: 24375325 | 2024-04-15 14:19:44\n",
      "24            COMPLETED \n",
      "      1              RUNNING\n",
      "Swarm: 24375325 | 2024-04-15 14:20:45\n",
      "24            COMPLETED \n",
      "      1              RUNNING\n",
      "Swarm: 24375325 | 2024-04-15 14:21:45\n",
      "24            COMPLETED \n",
      "      1              RUNNING\n",
      "Swarm: 24375325 | 2024-04-15 14:22:45\n",
      "24            COMPLETED \n",
      "      1              RUNNING\n",
      "Swarm: 24375325 | 2024-04-15 14:23:45\n",
      "24            COMPLETED \n",
      "      1              RUNNING\n",
      "Swarm: 24375325 | 2024-04-15 14:24:45\n",
      "24            COMPLETED \n",
      "      1              RUNNING\n",
      "Swarm: 24375325 | 2024-04-15 14:25:45\n",
      "1   CANCELLED by 61268 \n",
      "     24            COMPLETED\n",
      "All statuses for 24375325 are \"COMPLETED\", returning.\n"
     ]
    },
    {
     "data": {
      "text/plain": [
       "'/data/luojaa/kog_fastas_prok_unaligned/'"
      ]
     },
     "execution_count": 1,
     "metadata": {},
     "output_type": "execute_result"
    }
   ],
   "source": [
    "from core_functions.mmseqs_functions import realign_all_fastas_swarm_binned\n",
    "from paths_and_parameters import realignment_swarm_opts\n",
    "\n",
    "#fasta_root = \"/data/luojaa/kog_fastas/\"\n",
    "fasta_root = \"/data/luojaa/kog_fastas_prok_unaligned/\"\n",
    "swarm_opts = realignment_swarm_opts\n",
    "realign_all_fastas_swarm_binned(fasta_root, swarm_opts, max_swarms=1000, \n",
    "                                max_sequences=30, filter_entropy=0.25, muscle_reps=1)\n",
    "\n"
   ]
  },
  {
   "cell_type": "code",
   "execution_count": null,
   "id": "c6eb8af6-fa7d-4ecd-86f9-bb4834b733d7",
   "metadata": {},
   "outputs": [],
   "source": []
  }
 ],
 "metadata": {
  "kernelspec": {
   "display_name": "default",
   "language": "python",
   "name": "default"
  },
  "language_info": {
   "codemirror_mode": {
    "name": "ipython",
    "version": 3
   },
   "file_extension": ".py",
   "mimetype": "text/x-python",
   "name": "python",
   "nbconvert_exporter": "python",
   "pygments_lexer": "ipython3",
   "version": "3.12.2"
  }
 },
 "nbformat": 4,
 "nbformat_minor": 5
}
