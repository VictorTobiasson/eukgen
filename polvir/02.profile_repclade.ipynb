{
 "cells": [
  {
   "cell_type": "code",
   "execution_count": 1,
   "id": "49fa7ceb-aeda-4aeb-8dc6-24ea92bb6018",
   "metadata": {},
   "outputs": [],
   "source": [
    "import os\n",
    "import sys\n",
    "module_path = \"/data/luojaa/eukgen/\"\n",
    "sys.path.append(module_path)\n",
    "from core_functions.helper_functions import fasta_to_dict, dict_to_fasta, filter_by_entropy \n",
    "import pandas as pd\n",
    "import numpy as np"
   ]
  },
  {
   "cell_type": "code",
   "execution_count": 2,
   "id": "601ed00c-76d9-4460-b913-35bae610afbd",
   "metadata": {},
   "outputs": [
    {
     "name": "stdout",
     "output_type": "stream",
     "text": [
      "/vf/users/luojaa/eukgen\n"
     ]
    }
   ],
   "source": [
    "cd /data/luojaa/eukgen/"
   ]
  },
  {
   "cell_type": "markdown",
   "id": "cb4acb79-c862-4b13-8b97-61019e52e6c0",
   "metadata": {},
   "source": [
    "## build profiles from repclade usalign"
   ]
  },
  {
   "cell_type": "code",
   "execution_count": 3,
   "id": "6ae6c0d8-80c6-4bdd-b3fc-1630bc064718",
   "metadata": {},
   "outputs": [],
   "source": [
    "fasta_root = \"/data/luojaa/polvir/USalignDB/repclade.usalign_clean.entropyfilt.fasta\"\n",
    "output_root = \"/data/luojaa/polvir/processing/hhdb/\"\n",
    "DB_name = \"polcore\"\n",
    "cmd_hhmake = f\"hhmake -i {fasta_root} -o {output_root}{DB_name}.hmm -M 50 -add_cons\"\n",
    "#os.system(cmd_hhmake)"
   ]
  },
  {
   "cell_type": "markdown",
   "id": "258fb96c-ae18-4653-bfae-c0b78d8b415c",
   "metadata": {},
   "source": [
    "## hhalign search against all seqs"
   ]
  },
  {
   "cell_type": "code",
   "execution_count": 4,
   "id": "4b00b431-d6dc-4c04-a61a-153db82c3088",
   "metadata": {},
   "outputs": [],
   "source": [
    "#bash command from /data/luojaa/polvir/seqs\n",
    "#for f in *; do hhalign -i $f -t ../processing/hhdb/polcore.hmm -o ../processing/hhalign_out/$f.ffdata; done\n",
    "# to do: ffindex later"
   ]
  },
  {
   "cell_type": "markdown",
   "id": "5646dd2b-aed5-45da-aefc-0e8415d5a2d2",
   "metadata": {},
   "source": [
    "## Parse hhalign output "
   ]
  },
  {
   "cell_type": "code",
   "execution_count": 222,
   "id": "2ad3c71b-a82a-4936-96d0-bb2985cf19b5",
   "metadata": {},
   "outputs": [],
   "source": [
    "from core_functions.hhsuite_functions import merge_hhsuite_search_results"
   ]
  },
  {
   "cell_type": "code",
   "execution_count": 239,
   "id": "1a266da0-ce47-4b27-8fd3-0590e2ca42ad",
   "metadata": {},
   "outputs": [],
   "source": [
    "search_root= \"/data/luojaa/polvir/processing/hhalign_mact/\"\n",
    "output_name = \"/data/luojaa/polvir/processing/merged_hhalignmact\"\n",
    "chunk_no = 10\n",
    "pairwise_cov = .1\n",
    "probability = .1"
   ]
  },
  {
   "cell_type": "code",
   "execution_count": 244,
   "id": "b9c0f39e-44ce-4187-a9af-78b050c232cf",
   "metadata": {},
   "outputs": [],
   "source": [
    "# for file in *; do printf '\\0' >> \"$file\"; done # add null byte\n",
    "#merge_hhsuite_search_results(search_root, output_name, write_tsv=True, filter_cov=pairwise_cov, filter_prob=probability)"
   ]
  },
  {
   "cell_type": "markdown",
   "id": "bdec973f-16ea-4c78-a486-8d06247fa95c",
   "metadata": {},
   "source": [
    "## define insertion gap based on alignment confidences"
   ]
  },
  {
   "cell_type": "code",
   "execution_count": 245,
   "id": "3f005dad-f7b1-4e9e-b74e-5d6ab6dcfce9",
   "metadata": {},
   "outputs": [],
   "source": [
    "#hhalign_merged = \"/data/luojaa/polvir/processing/merged_hhalign.tsv\"\n",
    "hhalign_merged = \"/data/luojaa/polvir/processing/merged_hhalignmact.tsv\"\n",
    "hhalign_raw = pd.read_csv(hhalign_merged, sep = \"\\t\")\n",
    "hhalign_df = hhalign_raw[hhalign_raw.Query != hhalign_raw.Target].reset_index()"
   ]
  },
  {
   "cell_type": "code",
   "execution_count": 246,
   "id": "95ab46a8-57bf-45c5-8218-07daab7d51c0",
   "metadata": {},
   "outputs": [],
   "source": [
    "def conf_encode(scores, target_seq):\n",
    "    arr_score, rv = np.array(list(scores)), np.array(list(scores))\n",
    "    arr_seq = np.array(list(target_seq))\n",
    "    querygap = list((arr_seq != \"-\") & (arr_score == \" \"))\n",
    "    targetgap = list(arr_seq == \"-\")\n",
    "    for i, deletion in enumerate(querygap):\n",
    "        if deletion:\n",
    "            rv[i] = '7'\n",
    "    for i, insertion in enumerate(targetgap):\n",
    "        if insertion:\n",
    "            rv[i] = '0'\n",
    "    return [int(i) > 3 for i in rv]"
   ]
  },
  {
   "cell_type": "code",
   "execution_count": 247,
   "id": "27f0c439-9d1d-4956-b0f9-85a3095df592",
   "metadata": {},
   "outputs": [],
   "source": [
    "hhalign_df[\"conf_encoded\"] = hhalign_df.apply(lambda x: conf_encode(x.Confidence, x.Target_sequence), axis = 1)"
   ]
  },
  {
   "cell_type": "code",
   "execution_count": 248,
   "id": "c527a0b6-61b3-449f-9149-d90ad7c1d87c",
   "metadata": {},
   "outputs": [],
   "source": [
    "def gap_bounds(bin_array):\n",
    "    # Convert the input to a NumPy array if it's not already\n",
    "    arr = np.array(bin_array, dtype=bool)\n",
    "    \n",
    "    # Find runs of False\n",
    "    runs = np.concatenate(([0], np.where(np.diff(arr))[0] + 1, [len(arr)]))\n",
    "    lengths = np.diff(runs)\n",
    "    \n",
    "    # Find long rungs\n",
    "    long_runs = np.where((lengths > 50) & (~arr[runs[:-1]]))[0]\n",
    "    \n",
    "    # Get start and end indices of long False runs\n",
    "    result = [(runs[i], runs[i+1]-1) for i in long_runs]\n",
    "    \n",
    "    return result"
   ]
  },
  {
   "cell_type": "code",
   "execution_count": 250,
   "id": "a17c7959-60c7-4c1b-9e3c-8569630d55b8",
   "metadata": {},
   "outputs": [],
   "source": [
    "hhalign_df[\"gap_bounds_raw\"] = hhalign_df.conf_encoded.apply(lambda x: gap_bounds(x))\n",
    "hhalign_df[\"num_gaps\"] = hhalign_df.gap_bounds_raw.apply(lambda x: len(x))"
   ]
  },
  {
   "cell_type": "code",
   "execution_count": 251,
   "id": "769be9f8-220a-4bdf-ba0c-191f7cffe61b",
   "metadata": {},
   "outputs": [],
   "source": [
    "def map_gaps(query_seq, query_offset, gaps):\n",
    "    j = query_offset - 1\n",
    "    gapmap = {}\n",
    "    for i, aa in enumerate(list(query_seq)):\n",
    "        if aa != \"-\":\n",
    "            j += 1\n",
    "        gapmap[i] = j\n",
    "    gaps_final = []\n",
    "    for t in gaps:\n",
    "        t_adj = (gapmap[t[0]], gapmap[t[1]])\n",
    "        gaps_final.append(t_adj)\n",
    "    return gaps_final"
   ]
  },
  {
   "cell_type": "code",
   "execution_count": 252,
   "id": "f16c65e8-996f-4b98-b5db-9b332a92d8c5",
   "metadata": {},
   "outputs": [],
   "source": [
    "hhalign_df[\"gap_pdb\"] = hhalign_df.apply(lambda x: map_gaps(x.Query_sequence, x[\"Query-HMM-start\"], x.gap_bounds_raw), axis = 1)"
   ]
  },
  {
   "cell_type": "markdown",
   "id": "998b9d9b-6d6c-4f4e-8e49-ac6069d1007c",
   "metadata": {},
   "source": [
    "## splice out insertions from pdb files"
   ]
  },
  {
   "cell_type": "code",
   "execution_count": 253,
   "id": "780ebdaf-1170-4381-97e2-5cd1be150f94",
   "metadata": {},
   "outputs": [],
   "source": [
    "from Bio import PDB"
   ]
  },
  {
   "cell_type": "code",
   "execution_count": 254,
   "id": "57579718-43c3-48cf-8222-b3128e996de8",
   "metadata": {},
   "outputs": [],
   "source": [
    "exclude = \"\"\"A3_NZ_CP040846\n",
    "AA1_JAEOSG010000207\n",
    "AA1_JAEOTO010000014\n",
    "AA1_JAEOUO010000001\n",
    "EZ_29176.XP_003881007\n",
    "EZ_5664.LmjF.23\n",
    "EZ_5679.XP_010699305\n",
    "EZ_5811\n",
    "EZ_99158.XP_008887255\n",
    "EZ_KAG5504462\n",
    "Mega_GCA_000911955\n",
    "Mega_Marseillevirus_LCMAC202\"\"\".split(\"\\n\")"
   ]
  },
  {
   "cell_type": "code",
   "execution_count": 255,
   "id": "04cd3453-9fc5-4b65-b973-27dc6a3792cb",
   "metadata": {},
   "outputs": [],
   "source": [
    "for i, seq in enumerate(list(hhalign_df.Query)):\n",
    "    if \".\" in seq:\n",
    "        seq_header = \".\".join(seq.split(\".\")[:-1])\n",
    "    else:\n",
    "        seq_header = seq\n",
    "    if seq_header not in exclude:\n",
    "        input_file = f\"/data/luojaa/polvir/af2_structures/{seq_header}.pdb\"\n",
    "        output_file = f\"/data/luojaa/polvir/structures/refined_50gap_01mact/{seq_header}.refined.pdb\"\n",
    "        omit_regions = hhalign_df.iloc[i,-1]\n",
    "        parser = PDB.PDBParser()\n",
    "        structure = parser.get_structure(\"protein\", input_file)\n",
    "        \n",
    "        # Create a new structure for the spliced portion\n",
    "        new_structure = PDB.Structure.Structure(\"spliced_protein\")\n",
    "        \n",
    "        # Iterate through models, chains, and residues\n",
    "        for model in structure:\n",
    "            new_model = PDB.Model.Model(model.id)\n",
    "            new_structure.add(new_model)\n",
    "            for chain in model:\n",
    "                new_chain = PDB.Chain.Chain(chain.id)\n",
    "                new_model.add(new_chain)\n",
    "                for residue in chain:\n",
    "                    residue_num = residue.id[1]\n",
    "                    if not any(start <= residue_num <= end for start, end in omit_regions):\n",
    "                        # clip unaligned ends\n",
    "                        if not ((hhalign_df[\"Query-HMM-start\"][i] > residue_num) | (residue_num > hhalign_df[\"Query-HMM-end\"][i])): \n",
    "                            new_chain.add(residue)\n",
    "\n",
    "        # Save the new structure\n",
    "        io = PDB.PDBIO()\n",
    "        io.set_structure(new_structure)\n",
    "        io.save(output_file)"
   ]
  },
  {
   "cell_type": "code",
   "execution_count": null,
   "id": "d78e67de-d07d-4660-acc3-0cb83f042443",
   "metadata": {},
   "outputs": [],
   "source": []
  }
 ],
 "metadata": {
  "kernelspec": {
   "display_name": "default",
   "language": "python",
   "name": "default"
  },
  "language_info": {
   "codemirror_mode": {
    "name": "ipython",
    "version": 3
   },
   "file_extension": ".py",
   "mimetype": "text/x-python",
   "name": "python",
   "nbconvert_exporter": "python",
   "pygments_lexer": "ipython3",
   "version": "3.12.2"
  }
 },
 "nbformat": 4,
 "nbformat_minor": 5
}
