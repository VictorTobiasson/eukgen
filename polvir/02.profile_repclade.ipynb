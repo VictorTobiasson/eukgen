{
 "cells": [
  {
   "cell_type": "code",
   "execution_count": 1,
   "id": "49fa7ceb-aeda-4aeb-8dc6-24ea92bb6018",
   "metadata": {},
   "outputs": [],
   "source": [
    "import os\n",
    "import sys\n",
    "module_path = \"/data/luojaa/eukgen/\"\n",
    "sys.path.append(module_path)\n",
    "from core_functions.helper_functions import fasta_to_dict, dict_to_fasta, filter_by_entropy \n",
    "import pandas as pd\n",
    "import numpy as np"
   ]
  },
  {
   "cell_type": "code",
   "execution_count": 2,
   "id": "601ed00c-76d9-4460-b913-35bae610afbd",
   "metadata": {},
   "outputs": [
    {
     "name": "stdout",
     "output_type": "stream",
     "text": [
      "/vf/users/luojaa/eukgen\n"
     ]
    }
   ],
   "source": [
    "cd /data/luojaa/eukgen/"
   ]
  },
  {
   "cell_type": "markdown",
   "id": "cb4acb79-c862-4b13-8b97-61019e52e6c0",
   "metadata": {},
   "source": [
    "## build profiles from repclade usalign"
   ]
  },
  {
   "cell_type": "code",
   "execution_count": 3,
   "id": "6ae6c0d8-80c6-4bdd-b3fc-1630bc064718",
   "metadata": {},
   "outputs": [],
   "source": [
    "fasta_root = \"/data/luojaa/polvir/USalignDB/repclade.usalign_clean.entropyfilt.fasta\"\n",
    "output_root = \"/data/luojaa/polvir/processing/hhdb/\"\n",
    "DB_name = \"polcore\"\n",
    "cmd_hhmake = f\"hhmake -i {fasta_root} -o {output_root}{DB_name}.hmm -M 50 -add_cons\"\n",
    "#os.system(cmd_hhmake)"
   ]
  },
  {
   "cell_type": "markdown",
   "id": "258fb96c-ae18-4653-bfae-c0b78d8b415c",
   "metadata": {},
   "source": [
    "## hhalign search against all seqs"
   ]
  },
  {
   "cell_type": "code",
   "execution_count": 4,
   "id": "4b00b431-d6dc-4c04-a61a-153db82c3088",
   "metadata": {},
   "outputs": [],
   "source": [
    "#bash command from /data/luojaa/polvir/seqs\n",
    "#for f in *; do hhalign -i $f -t ../processing/hhdb/polcore.hmm -o ../processing/hhalign_out/$f.ffdata; done"
   ]
  },
  {
   "cell_type": "markdown",
   "id": "5646dd2b-aed5-45da-aefc-0e8415d5a2d2",
   "metadata": {},
   "source": [
    "## Parse hhalign output "
   ]
  },
  {
   "cell_type": "code",
   "execution_count": 72,
   "id": "2ad3c71b-a82a-4936-96d0-bb2985cf19b5",
   "metadata": {},
   "outputs": [],
   "source": [
    "from core_functions.hhsuite_functions import merge_hhsuite_search_results"
   ]
  },
  {
   "cell_type": "code",
   "execution_count": 73,
   "id": "1a266da0-ce47-4b27-8fd3-0590e2ca42ad",
   "metadata": {},
   "outputs": [],
   "source": [
    "search_root= \"/data/luojaa/polvir/processing/hhalign_out/\"\n",
    "output_name = \"/data/luojaa/polvir/processing/merged_hhalign\"\n",
    "chunk_no = 10\n",
    "pairwise_cov = .1\n",
    "probability = .1"
   ]
  },
  {
   "cell_type": "code",
   "execution_count": 75,
   "id": "f52e608f-b007-4098-a6b8-5c5762a85341",
   "metadata": {},
   "outputs": [],
   "source": [
    "#merge_hhsuite_search_results(search_root, output_name, write_tsv=True, filter_cov=pairwise_cov, filter_prob=probability)"
   ]
  },
  {
   "cell_type": "markdown",
   "id": "bdec973f-16ea-4c78-a486-8d06247fa95c",
   "metadata": {},
   "source": [
    "## tune alignment confidences and splice out larger insertions"
   ]
  },
  {
   "cell_type": "code",
   "execution_count": 76,
   "id": "b4c75a11-68cb-4e6b-84c3-2280343b7c83",
   "metadata": {},
   "outputs": [],
   "source": [
    "from Bio import PDB"
   ]
  },
  {
   "cell_type": "code",
   "execution_count": 77,
   "id": "3f005dad-f7b1-4e9e-b74e-5d6ab6dcfce9",
   "metadata": {},
   "outputs": [],
   "source": [
    "hhalign_merged = \"/data/luojaa/polvir/processing/merged_hhalign.tsv\"\n",
    "hhalign_raw = pd.read_csv(hhalign_merged, sep = \"\\t\")\n",
    "hhalign_df = hhalign_raw[hhalign_raw.Query != hhalign_raw.Target].reset_index()"
   ]
  },
  {
   "cell_type": "code",
   "execution_count": 85,
   "id": "95ab46a8-57bf-45c5-8218-07daab7d51c0",
   "metadata": {},
   "outputs": [],
   "source": [
    "def conf_encode(scores, target_seq):\n",
    "    arr_score, rv = np.array(list(scores)), np.array(list(scores))\n",
    "    arr_seq = np.array(list(target_seq))\n",
    "    querygap = list((arr_seq != \"-\") & (arr_score == \" \"))\n",
    "    targetgap = list(arr_seq == \"-\")\n",
    "    for i, deletion in enumerate(querygap):\n",
    "        if deletion:\n",
    "            rv[i] = '7'\n",
    "    for i, insertion in enumerate(targetgap):\n",
    "        if insertion:\n",
    "            rv[i] = '0'\n",
    "    return [int(i) > 5 for i in rv]"
   ]
  },
  {
   "cell_type": "code",
   "execution_count": 86,
   "id": "27f0c439-9d1d-4956-b0f9-85a3095df592",
   "metadata": {},
   "outputs": [],
   "source": [
    "hhalign_df[\"conf_encoded\"] = hhalign_df.apply(lambda x: conf_encode(x.Confidence, x.Target_sequence), axis = 1)"
   ]
  },
  {
   "cell_type": "code",
   "execution_count": 88,
   "id": "c527a0b6-61b3-449f-9149-d90ad7c1d87c",
   "metadata": {},
   "outputs": [],
   "source": [
    "def gap_bounds(bin_array):\n",
    "    # Convert the input to a NumPy array if it's not already\n",
    "    arr = np.array(bin_array, dtype=bool)\n",
    "    \n",
    "    # Find runs of False\n",
    "    runs = np.concatenate(([0], np.where(np.diff(arr))[0] + 1, [len(arr)]))\n",
    "    lengths = np.diff(runs)\n",
    "    \n",
    "    # Find long rungs\n",
    "    long_runs = np.where((lengths > 30) & (~arr[runs[:-1]]))[0]\n",
    "    \n",
    "    # Get start and end indices of long False runs\n",
    "    result = [(runs[i], runs[i+1]-1) for i in long_runs]\n",
    "    \n",
    "    return result"
   ]
  },
  {
   "cell_type": "code",
   "execution_count": 103,
   "id": "a17c7959-60c7-4c1b-9e3c-8569630d55b8",
   "metadata": {},
   "outputs": [],
   "source": [
    "hhalign_df[\"gap_bounds_inplace\"] = hhalign_df.conf_encoded.apply(lambda x: gap_bounds(x))\n",
    "hhalign_df[\"num_gaps\"] = hhalign_df.gap_bounds_inplace.apply(lambda x: len(x))\n",
    "#hhalign_df[\"gap_bounds_offset\"] = hhalign_df.apply(lambda x: [(t[0] + x['Query-HMM-start'], t[1] + x['Query-HMM-start']) for t in x[\"gap_bounds_inplace\"]], axis = 1)"
   ]
  },
  {
   "cell_type": "code",
   "execution_count": 125,
   "id": "89bb28dc-78dd-4d02-afc6-68081b12ff1a",
   "metadata": {},
   "outputs": [
    {
     "data": {
      "text/plain": [
       "[(121, 167),\n",
       " (246, 281),\n",
       " (339, 399),\n",
       " (443, 530),\n",
       " (665, 708),\n",
       " (710, 793),\n",
       " (812, 851),\n",
       " (927, 1014),\n",
       " (1033, 1106)]"
      ]
     },
     "execution_count": 125,
     "metadata": {},
     "output_type": "execute_result"
    }
   ],
   "source": [
    "hhalign_df.iloc[-1, -3]"
   ]
  },
  {
   "cell_type": "code",
   "execution_count": 119,
   "id": "e36a18f2-f2dc-401e-808c-be35ccbb95c4",
   "metadata": {},
   "outputs": [
    {
     "data": {
      "text/plain": [
       "70"
      ]
     },
     "execution_count": 119,
     "metadata": {},
     "output_type": "execute_result"
    }
   ],
   "source": [
    "hhalign_df.iloc[-1, -12]"
   ]
  },
  {
   "cell_type": "code",
   "execution_count": 131,
   "id": "07bc3a43-29d5-4825-9cd4-286a7cc832e5",
   "metadata": {},
   "outputs": [
    {
     "data": {
      "text/plain": [
       "'NLTDRKKCIEYVDRMNTELEMAGRRKMETASDDLGGGNYY'"
      ]
     },
     "execution_count": 131,
     "metadata": {},
     "output_type": "execute_result"
    }
   ],
   "source": [
    "\"RG-------LHFSSIKIVKLFKLHGFQK-EKSSYIRVQFNNLTDRKKCIEYVDRMNTELEMAGRRKMETASDDLGGGNYY\"[33+7:]"
   ]
  },
  {
   "cell_type": "code",
   "execution_count": 123,
   "id": "769be9f8-220a-4bdf-ba0c-191f7cffe61b",
   "metadata": {},
   "outputs": [],
   "source": [
    "def map_gaps(query_seq, query_offset):\n",
    "    j = query_offset - 1\n",
    "    gapmap = {}\n",
    "    for i, aa in enumerate(list(query_seq)):\n",
    "        if aa != \"-\":\n",
    "            j += 1\n",
    "        gapmap[i] = j\n",
    "    return gapmap\n",
    "\n",
    "gapmap_2 = map_gaps(hhalign_df.iloc[-1, -10], hhalign_df.iloc[-1, 12])"
   ]
  },
  {
   "cell_type": "code",
   "execution_count": 126,
   "id": "7298fa86-bce5-48e5-8425-90bd3a700553",
   "metadata": {},
   "outputs": [
    {
     "data": {
      "text/plain": [
       "177"
      ]
     },
     "execution_count": 126,
     "metadata": {},
     "output_type": "execute_result"
    }
   ],
   "source": [
    "gapmap_2[121]"
   ]
  },
  {
   "cell_type": "code",
   "execution_count": 180,
   "id": "51eb54a5-2e31-4faa-a204-7568b92eb2d8",
   "metadata": {},
   "outputs": [],
   "source": [
    "# def find_gaps(string):\n",
    "#     gaps = []\n",
    "#     in_gap = False\n",
    "#     start = 0\n",
    "#     for i, char in enumerate(string):\n",
    "#         if char == \"-\":\n",
    "#             if not in_gap:\n",
    "#                 start = i\n",
    "#                 in_gap = True\n",
    "#         else:\n",
    "#             if in_gap:\n",
    "#                 gaps.append((start, i))\n",
    "#                 in_gap = False\n",
    "#     if in_gap:\n",
    "#         gaps.append((start, len(string)))\n",
    "#     return gaps"
   ]
  },
  {
   "cell_type": "code",
   "execution_count": 179,
   "id": "a3a81059-6c3a-4fec-a897-8b9de36efbb2",
   "metadata": {},
   "outputs": [],
   "source": [
    "# hhalign_df[\"gaps_raw\"] = hhalign_df.Query_sequence.apply(lambda x: find_gaps(x))"
   ]
  },
  {
   "cell_type": "code",
   "execution_count": 189,
   "id": "37a31444-e619-45be-be44-55a036b79481",
   "metadata": {},
   "outputs": [],
   "source": [
    "def adjust_ranges(gaps_offset, query_str):\n",
    "    gaps = []\n",
    "    for t in gaps_offset:\n",
    "        start, end = t\n",
    "        start_offset = start - query_str[:start].count(\"-\")\n",
    "        end_offset = end - query_str[:end].count(\"-\")\n",
    "        gaps.append((start_offset, end_offset))\n",
    "    return gaps"
   ]
  },
  {
   "cell_type": "code",
   "execution_count": 190,
   "id": "56d7dd04-a1a7-4151-baec-3a6d503bc749",
   "metadata": {},
   "outputs": [],
   "source": [
    "hhalign_df[\"gap_bounds_adj\"] = hhalign_df.apply(lambda x: adjust_ranges(x[\"gap_bounds_offset\"],x[\"Query_sequence\"]), axis = 1)"
   ]
  },
  {
   "cell_type": "code",
   "execution_count": 191,
   "id": "36b2b8e0-fa12-49a8-a662-85619e76a358",
   "metadata": {},
   "outputs": [
    {
     "data": {
      "text/html": [
       "<div>\n",
       "<style scoped>\n",
       "    .dataframe tbody tr th:only-of-type {\n",
       "        vertical-align: middle;\n",
       "    }\n",
       "\n",
       "    .dataframe tbody tr th {\n",
       "        vertical-align: top;\n",
       "    }\n",
       "\n",
       "    .dataframe thead th {\n",
       "        text-align: right;\n",
       "    }\n",
       "</style>\n",
       "<table border=\"1\" class=\"dataframe\">\n",
       "  <thead>\n",
       "    <tr style=\"text-align: right;\">\n",
       "      <th></th>\n",
       "      <th>index</th>\n",
       "      <th>Query</th>\n",
       "      <th>Target</th>\n",
       "      <th>Prob</th>\n",
       "      <th>E-value</th>\n",
       "      <th>P-value</th>\n",
       "      <th>Score</th>\n",
       "      <th>SS</th>\n",
       "      <th>Cols</th>\n",
       "      <th>Identities</th>\n",
       "      <th>...</th>\n",
       "      <th>Matches</th>\n",
       "      <th>Target_consensus</th>\n",
       "      <th>Target_sequence</th>\n",
       "      <th>Confidence</th>\n",
       "      <th>conf_encoded</th>\n",
       "      <th>gap_bounds_inplace</th>\n",
       "      <th>num_gaps</th>\n",
       "      <th>gap_bounds_offset</th>\n",
       "      <th>true_gaps</th>\n",
       "      <th>gap_bounds_adj</th>\n",
       "    </tr>\n",
       "  </thead>\n",
       "  <tbody>\n",
       "    <tr>\n",
       "      <th>0</th>\n",
       "      <td>1</td>\n",
       "      <td>A3_AE009439.1_1100</td>\n",
       "      <td>ED_10228.pdb</td>\n",
       "      <td>100.0</td>\n",
       "      <td>4.100000e-72</td>\n",
       "      <td>4.100000e-72</td>\n",
       "      <td>572.2</td>\n",
       "      <td>0.0</td>\n",
       "      <td>762.0</td>\n",
       "      <td>29</td>\n",
       "      <td>...</td>\n",
       "      <td>.|-+-|.|-.++||...+-|.||-||||.++..+|++.....+......</td>\n",
       "      <td>~piiRlfGVT~~G~SV~~~Vhgf~PYfYv~~p~~~~~~~~~~~~~~...</td>\n",
       "      <td>VPIIRMFGVTKEQHTVICHIHGFAPYFYVEVPPTCQREECQLFQDD...</td>\n",
       "      <td>3455578999999999999999999999999999988777665433...</td>\n",
       "      <td>[False, False, False, False, False, True, True...</td>\n",
       "      <td>[(42, 83), (159, 198)]</td>\n",
       "      <td>2</td>\n",
       "      <td>[(56, 97), (173, 212)]</td>\n",
       "      <td>[(56, 80), (112, 117), (118, 119), (159, 161),...</td>\n",
       "      <td>[(56, 73), (135, 163)]</td>\n",
       "    </tr>\n",
       "    <tr>\n",
       "      <th>1</th>\n",
       "      <td>3</td>\n",
       "      <td>A3_AQRS01000042.1_3</td>\n",
       "      <td>ED_10228.pdb</td>\n",
       "      <td>100.0</td>\n",
       "      <td>2.400000e-50</td>\n",
       "      <td>2.400000e-50</td>\n",
       "      <td>401.4</td>\n",
       "      <td>0.0</td>\n",
       "      <td>764.0</td>\n",
       "      <td>25</td>\n",
       "      <td>...</td>\n",
       "      <td>+.=.++|+||...+-       -.+.|++|--|+ ..-|.+.-|.|...</td>\n",
       "      <td>~~fq~ldid~~~~~~~~~~~~~~~piiRlfGVT~~G~SV~~~Vhgf...</td>\n",
       "      <td>IIFQQLDMDYYLGSPVP-M-TGPVPIIRMFGVTKEQHTVICHIHGF...</td>\n",
       "      <td>344678999988762       345689998885 77899999999...</td>\n",
       "      <td>[False, False, False, True, True, True, True, ...</td>\n",
       "      <td>[(55, 108), (168, 207), (316, 349)]</td>\n",
       "      <td>3</td>\n",
       "      <td>[(61, 114), (174, 213), (322, 355)]</td>\n",
       "      <td>[(15, 22), (34, 35), (56, 58), (67, 71), (74, ...</td>\n",
       "      <td>[(51, 85), (139, 156), (253, 272)]</td>\n",
       "    </tr>\n",
       "    <tr>\n",
       "      <th>2</th>\n",
       "      <td>5</td>\n",
       "      <td>A3_BDTY01000048.1_2</td>\n",
       "      <td>ED_10228.pdb</td>\n",
       "      <td>100.0</td>\n",
       "      <td>4.700000e-77</td>\n",
       "      <td>4.700000e-77</td>\n",
       "      <td>608.6</td>\n",
       "      <td>0.0</td>\n",
       "      <td>765.0</td>\n",
       "      <td>30</td>\n",
       "      <td>...</td>\n",
       "      <td>-|++||||-+..        .-.+||+|--.+.|.-.+..-++|+|...</td>\n",
       "      <td>fq~ldid~~~~~~~~~~~~~~~piiRlfGVT~~G~SV~~~Vhgf~P...</td>\n",
       "      <td>FQQLDMDYYLGSPVP-M-TGPVPIIRMFGVTKEQHTVICHIHGFAP...</td>\n",
       "      <td>368999998775        56899999999999999999999999...</td>\n",
       "      <td>[False, True, True, True, True, True, True, Tr...</td>\n",
       "      <td>[(52, 84), (167, 202), (435, 466)]</td>\n",
       "      <td>3</td>\n",
       "      <td>[(55, 87), (170, 205), (438, 469)]</td>\n",
       "      <td>[(12, 20), (53, 54), (65, 66), (70, 82), (95, ...</td>\n",
       "      <td>[(46, 65), (137, 154), (365, 394)]</td>\n",
       "    </tr>\n",
       "    <tr>\n",
       "      <th>3</th>\n",
       "      <td>7</td>\n",
       "      <td>A3_LNJC01000017.1_12</td>\n",
       "      <td>ED_10228.pdb</td>\n",
       "      <td>100.0</td>\n",
       "      <td>5.700000e-71</td>\n",
       "      <td>5.700000e-71</td>\n",
       "      <td>560.8</td>\n",
       "      <td>0.0</td>\n",
       "      <td>733.0</td>\n",
       "      <td>26</td>\n",
       "      <td>...</td>\n",
       "      <td>...+-..-..|+||.|+-|+. .   ..+.-+ +|-+.++...   ...</td>\n",
       "      <td>G~SV~~~Vhgf~PYfYv~~p~~~~~~~~~~~~~~l~~~l~~~~~~~...</td>\n",
       "      <td>QHTVICHIHGFAPYFYVEVPPTCQREECQLFQDDLNKTVLNDFKSK...</td>\n",
       "      <td>445667778999999999983 2   222222 2222332211   ...</td>\n",
       "      <td>[False, False, False, True, True, True, True, ...</td>\n",
       "      <td>[(20, 69), (126, 175), (384, 427)]</td>\n",
       "      <td>3</td>\n",
       "      <td>[(44, 93), (150, 199), (408, 451)]</td>\n",
       "      <td>[(21, 22), (23, 26), (32, 33), (43, 46), (48, ...</td>\n",
       "      <td>[(38, 80), (124, 155), (337, 379)]</td>\n",
       "    </tr>\n",
       "    <tr>\n",
       "      <th>4</th>\n",
       "      <td>9</td>\n",
       "      <td>A3_MNVE01000009.1_147</td>\n",
       "      <td>ED_10228.pdb</td>\n",
       "      <td>100.0</td>\n",
       "      <td>4.000000e-57</td>\n",
       "      <td>4.000000e-57</td>\n",
       "      <td>454.5</td>\n",
       "      <td>0.0</td>\n",
       "      <td>728.0</td>\n",
       "      <td>26</td>\n",
       "      <td>...</td>\n",
       "      <td>-.||+||||..+|.    ..+.++..+...+....    ...++. ...</td>\n",
       "      <td>Vhgf~PYfYv~~p~~~~~~~~~~~~~~l~~~l~~~~~~~~~~~~~v...</td>\n",
       "      <td>IHGFAPYFYVEVPPTCQREECQLFQDDLNKTVLNDFKSK-KVSQAI...</td>\n",
       "      <td>34699999999994    24455554444333221    111122 ...</td>\n",
       "      <td>[False, False, True, True, True, True, True, T...</td>\n",
       "      <td>[(13, 62), (120, 167)]</td>\n",
       "      <td>2</td>\n",
       "      <td>[(54, 103), (161, 208)]</td>\n",
       "      <td>[(14, 18), (35, 39), (45, 46), (50, 52), (58, ...</td>\n",
       "      <td>[(43, 79), (118, 156)]</td>\n",
       "    </tr>\n",
       "    <tr>\n",
       "      <th>...</th>\n",
       "      <td>...</td>\n",
       "      <td>...</td>\n",
       "      <td>...</td>\n",
       "      <td>...</td>\n",
       "      <td>...</td>\n",
       "      <td>...</td>\n",
       "      <td>...</td>\n",
       "      <td>...</td>\n",
       "      <td>...</td>\n",
       "      <td>...</td>\n",
       "      <td>...</td>\n",
       "      <td>...</td>\n",
       "      <td>...</td>\n",
       "      <td>...</td>\n",
       "      <td>...</td>\n",
       "      <td>...</td>\n",
       "      <td>...</td>\n",
       "      <td>...</td>\n",
       "      <td>...</td>\n",
       "      <td>...</td>\n",
       "      <td>...</td>\n",
       "    </tr>\n",
       "    <tr>\n",
       "      <th>382</th>\n",
       "      <td>769</td>\n",
       "      <td>Pokke_GVMAG-S-3300009702-144.fna</td>\n",
       "      <td>ED_10228.pdb</td>\n",
       "      <td>99.5</td>\n",
       "      <td>4.400000e-22</td>\n",
       "      <td>4.400000e-22</td>\n",
       "      <td>192.0</td>\n",
       "      <td>0.0</td>\n",
       "      <td>598.0</td>\n",
       "      <td>20</td>\n",
       "      <td>...</td>\n",
       "      <td>+--|-+.|+.-+|..+-+-+-+..|||-+..|..--..        ...</td>\n",
       "      <td>~piiRlfGVT~~G~SV~~~Vhgf~PYfYv~~p~~~~~~--------...</td>\n",
       "      <td>VPIIRMFGVTKEQHTVICHIHGFAPYFYVEVPPTCQRE--------...</td>\n",
       "      <td>34466889999999999999999999999888321111        ...</td>\n",
       "      <td>[False, False, False, True, True, True, True, ...</td>\n",
       "      <td>[(32, 85), (104, 152), (160, 207), (318, 360),...</td>\n",
       "      <td>9</td>\n",
       "      <td>[(100, 153), (172, 220), (228, 275), (386, 428...</td>\n",
       "      <td>[(66, 71), (78, 79), (93, 94), (120, 128), (16...</td>\n",
       "      <td>[(93, 138), (152, 199), (207, 254), (361, 403)...</td>\n",
       "    </tr>\n",
       "    <tr>\n",
       "      <th>383</th>\n",
       "      <td>771</td>\n",
       "      <td>Pokke_SRX319064.32.dc.fa</td>\n",
       "      <td>ED_10228.pdb</td>\n",
       "      <td>99.7</td>\n",
       "      <td>4.200000e-25</td>\n",
       "      <td>4.200000e-25</td>\n",
       "      <td>215.9</td>\n",
       "      <td>0.0</td>\n",
       "      <td>608.0</td>\n",
       "      <td>20</td>\n",
       "      <td>...</td>\n",
       "      <td>.+.|..-|+++-....-        --+.+-|+|-.|.....-+.|...</td>\n",
       "      <td>~~~fq~ldid~~~~~~~~~~~~~~~piiRlfGVT~~G~SV~~~Vhg...</td>\n",
       "      <td>AIIFQQLDMDYYLGSPVP-M-TGPVPIIRMFGVTKEQHTVICHIHG...</td>\n",
       "      <td>45566666666555431        234578999999999999999...</td>\n",
       "      <td>[False, False, False, True, True, True, True, ...</td>\n",
       "      <td>[(56, 88), (116, 181), (192, 224), (328, 375),...</td>\n",
       "      <td>7</td>\n",
       "      <td>[(102, 134), (162, 227), (238, 270), (374, 421...</td>\n",
       "      <td>[(17, 25), (56, 57), (59, 61), (77, 82), (84, ...</td>\n",
       "      <td>[(84, 113), (135, 196), (207, 239), (342, 389)...</td>\n",
       "    </tr>\n",
       "    <tr>\n",
       "      <th>384</th>\n",
       "      <td>773</td>\n",
       "      <td>Pokke_SRX327722.61.dc.fa</td>\n",
       "      <td>ED_10228.pdb</td>\n",
       "      <td>100.0</td>\n",
       "      <td>1.400000e-38</td>\n",
       "      <td>1.400000e-38</td>\n",
       "      <td>319.2</td>\n",
       "      <td>0.0</td>\n",
       "      <td>816.0</td>\n",
       "      <td>23</td>\n",
       "      <td>...</td>\n",
       "      <td>..|+-|.+..-+..        ..|..--|.||||--.|-.+.+.|...</td>\n",
       "      <td>~~~~~fq~ldid~~~~~~~~~~~~~~~piiRlfGVT~~G~SV~~~V...</td>\n",
       "      <td>KDAIIFQQLDMDYYLGSPVP-M-TGPVPIIRMFGVTKEQHTVICHI...</td>\n",
       "      <td>35666655433222        235667789999999998888877...</td>\n",
       "      <td>[False, False, True, True, True, True, False, ...</td>\n",
       "      <td>[(59, 95), (119, 159), (182, 220), (326, 362),...</td>\n",
       "      <td>7</td>\n",
       "      <td>[(76, 112), (136, 176), (199, 237), (343, 379)...</td>\n",
       "      <td>[(14, 22), (47, 48), (64, 67), (77, 78), (81, ...</td>\n",
       "      <td>[(64, 92), (113, 148), (167, 202), (308, 344),...</td>\n",
       "    </tr>\n",
       "    <tr>\n",
       "      <th>385</th>\n",
       "      <td>775</td>\n",
       "      <td>Pokke_SRX802963.109.dc.fa</td>\n",
       "      <td>ED_10228.pdb</td>\n",
       "      <td>99.7</td>\n",
       "      <td>2.700000e-26</td>\n",
       "      <td>2.700000e-26</td>\n",
       "      <td>226.0</td>\n",
       "      <td>0.0</td>\n",
       "      <td>611.0</td>\n",
       "      <td>21</td>\n",
       "      <td>...</td>\n",
       "      <td>.+.|..||--+|.|.-..|+.             +-..|-+||.--...</td>\n",
       "      <td>~fq~ldid~~~~~~~~~~~~~-------------~~piiRlfGVT~...</td>\n",
       "      <td>IFQQLDMDYYLGSPVP-M-TG-------------PVPIIRMFGVTK...</td>\n",
       "      <td>355677777778776544332             234678999999...</td>\n",
       "      <td>[False, False, False, True, True, True, True, ...</td>\n",
       "      <td>[(67, 100), (127, 174), (182, 228), (329, 385)...</td>\n",
       "      <td>9</td>\n",
       "      <td>[(101, 134), (161, 208), (216, 262), (363, 419...</td>\n",
       "      <td>[(68, 70), (71, 72), (90, 96), (115, 116), (13...</td>\n",
       "      <td>[(92, 121), (143, 188), (196, 242), (342, 391)...</td>\n",
       "    </tr>\n",
       "    <tr>\n",
       "      <th>386</th>\n",
       "      <td>777</td>\n",
       "      <td>Pokke_SRX802982.1.dc.fa</td>\n",
       "      <td>ED_10228.pdb</td>\n",
       "      <td>99.4</td>\n",
       "      <td>3.200000e-21</td>\n",
       "      <td>3.200000e-21</td>\n",
       "      <td>183.9</td>\n",
       "      <td>0.0</td>\n",
       "      <td>795.0</td>\n",
       "      <td>23</td>\n",
       "      <td>...</td>\n",
       "      <td>.+..++|.-.|+-.-..-.    ..|---.|.|||.--.|...|+-...</td>\n",
       "      <td>~~~~~~fq~ldid~~~~~~~~~~~~~~~piiRlfGVT~~G~SV~~~...</td>\n",
       "      <td>NKDAIIFQQLDMDYYLGSPVP-M-TGPVPIIRMFGVTKEQHTVICH...</td>\n",
       "      <td>3456666666654333221    12444567789999999999999...</td>\n",
       "      <td>[False, False, False, True, True, True, True, ...</td>\n",
       "      <td>[(121, 167), (246, 299), (339, 399), (443, 530...</td>\n",
       "      <td>8</td>\n",
       "      <td>[(192, 238), (317, 370), (410, 470), (514, 601...</td>\n",
       "      <td>[(19, 23), (70, 73), (82, 89), (108, 109), (17...</td>\n",
       "      <td>[(169, 215), (293, 346), (386, 446), (490, 577...</td>\n",
       "    </tr>\n",
       "  </tbody>\n",
       "</table>\n",
       "<p>387 rows × 31 columns</p>\n",
       "</div>"
      ],
      "text/plain": [
       "     index                             Query        Target   Prob  \\\n",
       "0        1                A3_AE009439.1_1100  ED_10228.pdb  100.0   \n",
       "1        3               A3_AQRS01000042.1_3  ED_10228.pdb  100.0   \n",
       "2        5               A3_BDTY01000048.1_2  ED_10228.pdb  100.0   \n",
       "3        7              A3_LNJC01000017.1_12  ED_10228.pdb  100.0   \n",
       "4        9             A3_MNVE01000009.1_147  ED_10228.pdb  100.0   \n",
       "..     ...                               ...           ...    ...   \n",
       "382    769  Pokke_GVMAG-S-3300009702-144.fna  ED_10228.pdb   99.5   \n",
       "383    771          Pokke_SRX319064.32.dc.fa  ED_10228.pdb   99.7   \n",
       "384    773          Pokke_SRX327722.61.dc.fa  ED_10228.pdb  100.0   \n",
       "385    775         Pokke_SRX802963.109.dc.fa  ED_10228.pdb   99.7   \n",
       "386    777           Pokke_SRX802982.1.dc.fa  ED_10228.pdb   99.4   \n",
       "\n",
       "          E-value       P-value  Score   SS   Cols  Identities  ...  \\\n",
       "0    4.100000e-72  4.100000e-72  572.2  0.0  762.0          29  ...   \n",
       "1    2.400000e-50  2.400000e-50  401.4  0.0  764.0          25  ...   \n",
       "2    4.700000e-77  4.700000e-77  608.6  0.0  765.0          30  ...   \n",
       "3    5.700000e-71  5.700000e-71  560.8  0.0  733.0          26  ...   \n",
       "4    4.000000e-57  4.000000e-57  454.5  0.0  728.0          26  ...   \n",
       "..            ...           ...    ...  ...    ...         ...  ...   \n",
       "382  4.400000e-22  4.400000e-22  192.0  0.0  598.0          20  ...   \n",
       "383  4.200000e-25  4.200000e-25  215.9  0.0  608.0          20  ...   \n",
       "384  1.400000e-38  1.400000e-38  319.2  0.0  816.0          23  ...   \n",
       "385  2.700000e-26  2.700000e-26  226.0  0.0  611.0          21  ...   \n",
       "386  3.200000e-21  3.200000e-21  183.9  0.0  795.0          23  ...   \n",
       "\n",
       "                                               Matches  \\\n",
       "0    .|-+-|.|-.++||...+-|.||-||||.++..+|++.....+......   \n",
       "1    +.=.++|+||...+-       -.+.|++|--|+ ..-|.+.-|.|...   \n",
       "2    -|++||||-+..        .-.+||+|--.+.|.-.+..-++|+|...   \n",
       "3    ...+-..-..|+||.|+-|+. .   ..+.-+ +|-+.++...   ...   \n",
       "4    -.||+||||..+|.    ..+.++..+...+....    ...++. ...   \n",
       "..                                                 ...   \n",
       "382  +--|-+.|+.-+|..+-+-+-+..|||-+..|..--..        ...   \n",
       "383  .+.|..-|+++-....-        --+.+-|+|-.|.....-+.|...   \n",
       "384  ..|+-|.+..-+..        ..|..--|.||||--.|-.+.+.|...   \n",
       "385  .+.|..||--+|.|.-..|+.             +-..|-+||.--...   \n",
       "386  .+..++|.-.|+-.-..-.    ..|---.|.|||.--.|...|+-...   \n",
       "\n",
       "                                      Target_consensus  \\\n",
       "0    ~piiRlfGVT~~G~SV~~~Vhgf~PYfYv~~p~~~~~~~~~~~~~~...   \n",
       "1    ~~fq~ldid~~~~~~~~~~~~~~~piiRlfGVT~~G~SV~~~Vhgf...   \n",
       "2    fq~ldid~~~~~~~~~~~~~~~piiRlfGVT~~G~SV~~~Vhgf~P...   \n",
       "3    G~SV~~~Vhgf~PYfYv~~p~~~~~~~~~~~~~~l~~~l~~~~~~~...   \n",
       "4    Vhgf~PYfYv~~p~~~~~~~~~~~~~~l~~~l~~~~~~~~~~~~~v...   \n",
       "..                                                 ...   \n",
       "382  ~piiRlfGVT~~G~SV~~~Vhgf~PYfYv~~p~~~~~~--------...   \n",
       "383  ~~~fq~ldid~~~~~~~~~~~~~~~piiRlfGVT~~G~SV~~~Vhg...   \n",
       "384  ~~~~~fq~ldid~~~~~~~~~~~~~~~piiRlfGVT~~G~SV~~~V...   \n",
       "385  ~fq~ldid~~~~~~~~~~~~~-------------~~piiRlfGVT~...   \n",
       "386  ~~~~~~fq~ldid~~~~~~~~~~~~~~~piiRlfGVT~~G~SV~~~...   \n",
       "\n",
       "                                       Target_sequence  \\\n",
       "0    VPIIRMFGVTKEQHTVICHIHGFAPYFYVEVPPTCQREECQLFQDD...   \n",
       "1    IIFQQLDMDYYLGSPVP-M-TGPVPIIRMFGVTKEQHTVICHIHGF...   \n",
       "2    FQQLDMDYYLGSPVP-M-TGPVPIIRMFGVTKEQHTVICHIHGFAP...   \n",
       "3    QHTVICHIHGFAPYFYVEVPPTCQREECQLFQDDLNKTVLNDFKSK...   \n",
       "4    IHGFAPYFYVEVPPTCQREECQLFQDDLNKTVLNDFKSK-KVSQAI...   \n",
       "..                                                 ...   \n",
       "382  VPIIRMFGVTKEQHTVICHIHGFAPYFYVEVPPTCQRE--------...   \n",
       "383  AIIFQQLDMDYYLGSPVP-M-TGPVPIIRMFGVTKEQHTVICHIHG...   \n",
       "384  KDAIIFQQLDMDYYLGSPVP-M-TGPVPIIRMFGVTKEQHTVICHI...   \n",
       "385  IFQQLDMDYYLGSPVP-M-TG-------------PVPIIRMFGVTK...   \n",
       "386  NKDAIIFQQLDMDYYLGSPVP-M-TGPVPIIRMFGVTKEQHTVICH...   \n",
       "\n",
       "                                            Confidence  \\\n",
       "0    3455578999999999999999999999999999988777665433...   \n",
       "1    344678999988762       345689998885 77899999999...   \n",
       "2    368999998775        56899999999999999999999999...   \n",
       "3    445667778999999999983 2   222222 2222332211   ...   \n",
       "4    34699999999994    24455554444333221    111122 ...   \n",
       "..                                                 ...   \n",
       "382  34466889999999999999999999999888321111        ...   \n",
       "383  45566666666555431        234578999999999999999...   \n",
       "384  35666655433222        235667789999999998888877...   \n",
       "385  355677777778776544332             234678999999...   \n",
       "386  3456666666654333221    12444567789999999999999...   \n",
       "\n",
       "                                          conf_encoded  \\\n",
       "0    [False, False, False, False, False, True, True...   \n",
       "1    [False, False, False, True, True, True, True, ...   \n",
       "2    [False, True, True, True, True, True, True, Tr...   \n",
       "3    [False, False, False, True, True, True, True, ...   \n",
       "4    [False, False, True, True, True, True, True, T...   \n",
       "..                                                 ...   \n",
       "382  [False, False, False, True, True, True, True, ...   \n",
       "383  [False, False, False, True, True, True, True, ...   \n",
       "384  [False, False, True, True, True, True, False, ...   \n",
       "385  [False, False, False, True, True, True, True, ...   \n",
       "386  [False, False, False, True, True, True, True, ...   \n",
       "\n",
       "                                    gap_bounds_inplace  num_gaps  \\\n",
       "0                               [(42, 83), (159, 198)]         2   \n",
       "1                  [(55, 108), (168, 207), (316, 349)]         3   \n",
       "2                   [(52, 84), (167, 202), (435, 466)]         3   \n",
       "3                   [(20, 69), (126, 175), (384, 427)]         3   \n",
       "4                               [(13, 62), (120, 167)]         2   \n",
       "..                                                 ...       ...   \n",
       "382  [(32, 85), (104, 152), (160, 207), (318, 360),...         9   \n",
       "383  [(56, 88), (116, 181), (192, 224), (328, 375),...         7   \n",
       "384  [(59, 95), (119, 159), (182, 220), (326, 362),...         7   \n",
       "385  [(67, 100), (127, 174), (182, 228), (329, 385)...         9   \n",
       "386  [(121, 167), (246, 299), (339, 399), (443, 530...         8   \n",
       "\n",
       "                                     gap_bounds_offset  \\\n",
       "0                               [(56, 97), (173, 212)]   \n",
       "1                  [(61, 114), (174, 213), (322, 355)]   \n",
       "2                   [(55, 87), (170, 205), (438, 469)]   \n",
       "3                   [(44, 93), (150, 199), (408, 451)]   \n",
       "4                              [(54, 103), (161, 208)]   \n",
       "..                                                 ...   \n",
       "382  [(100, 153), (172, 220), (228, 275), (386, 428...   \n",
       "383  [(102, 134), (162, 227), (238, 270), (374, 421...   \n",
       "384  [(76, 112), (136, 176), (199, 237), (343, 379)...   \n",
       "385  [(101, 134), (161, 208), (216, 262), (363, 419...   \n",
       "386  [(192, 238), (317, 370), (410, 470), (514, 601...   \n",
       "\n",
       "                                             true_gaps  \\\n",
       "0    [(56, 80), (112, 117), (118, 119), (159, 161),...   \n",
       "1    [(15, 22), (34, 35), (56, 58), (67, 71), (74, ...   \n",
       "2    [(12, 20), (53, 54), (65, 66), (70, 82), (95, ...   \n",
       "3    [(21, 22), (23, 26), (32, 33), (43, 46), (48, ...   \n",
       "4    [(14, 18), (35, 39), (45, 46), (50, 52), (58, ...   \n",
       "..                                                 ...   \n",
       "382  [(66, 71), (78, 79), (93, 94), (120, 128), (16...   \n",
       "383  [(17, 25), (56, 57), (59, 61), (77, 82), (84, ...   \n",
       "384  [(14, 22), (47, 48), (64, 67), (77, 78), (81, ...   \n",
       "385  [(68, 70), (71, 72), (90, 96), (115, 116), (13...   \n",
       "386  [(19, 23), (70, 73), (82, 89), (108, 109), (17...   \n",
       "\n",
       "                                        gap_bounds_adj  \n",
       "0                               [(56, 73), (135, 163)]  \n",
       "1                   [(51, 85), (139, 156), (253, 272)]  \n",
       "2                   [(46, 65), (137, 154), (365, 394)]  \n",
       "3                   [(38, 80), (124, 155), (337, 379)]  \n",
       "4                               [(43, 79), (118, 156)]  \n",
       "..                                                 ...  \n",
       "382  [(93, 138), (152, 199), (207, 254), (361, 403)...  \n",
       "383  [(84, 113), (135, 196), (207, 239), (342, 389)...  \n",
       "384  [(64, 92), (113, 148), (167, 202), (308, 344),...  \n",
       "385  [(92, 121), (143, 188), (196, 242), (342, 391)...  \n",
       "386  [(169, 215), (293, 346), (386, 446), (490, 577...  \n",
       "\n",
       "[387 rows x 31 columns]"
      ]
     },
     "execution_count": 191,
     "metadata": {},
     "output_type": "execute_result"
    }
   ],
   "source": []
  },
  {
   "cell_type": "code",
   "execution_count": 142,
   "id": "e6db7228-b392-4777-8334-ee2f6e73c0d4",
   "metadata": {},
   "outputs": [
    {
     "data": {
      "text/plain": [
       "[(42, 83), (159, 198)]"
      ]
     },
     "execution_count": 142,
     "metadata": {},
     "output_type": "execute_result"
    }
   ],
   "source": [
    "hhalign_df.iloc[0,-3]"
   ]
  },
  {
   "cell_type": "code",
   "execution_count": 144,
   "id": "98205f22-251b-4042-949a-371b45090ce4",
   "metadata": {},
   "outputs": [
    {
     "data": {
      "text/plain": [
       "'66543322  222211                        12246'"
      ]
     },
     "execution_count": 144,
     "metadata": {},
     "output_type": "execute_result"
    }
   ],
   "source": [
    "hhalign_df.iloc[0,-5][40:85]"
   ]
  },
  {
   "cell_type": "code",
   "execution_count": 147,
   "id": "91999977-932a-4df1-8671-5a5449f5c7cd",
   "metadata": {},
   "outputs": [
    {
     "data": {
      "text/plain": [
       "80"
      ]
     },
     "execution_count": 147,
     "metadata": {},
     "output_type": "execute_result"
    }
   ],
   "source": [
    "len(\"PYGGDRVELLRIVATYPKVVPKLREQVKKLDG-----V-KEVYEADIPFVRRAAVDLNLPPASEVDVSDLDTGSWSGLP-\")"
   ]
  },
  {
   "cell_type": "code",
   "execution_count": 139,
   "id": "04cd3453-9fc5-4b65-b973-27dc6a3792cb",
   "metadata": {},
   "outputs": [],
   "source": [
    "input_file = \"/data/luojaa/polvir/af2_structures/A3_AE009439.pdb\"\n",
    "output_file = \"/data/luojaa/polvir/processing/A3_AE009439.test.pdb\"\n",
    "omit_regions = hhalign_df.iloc[0,-1]\n",
    "\n",
    "parser = PDB.PDBParser(QUIET=True)\n",
    "structure = parser.get_structure(\"protein\", input_file)\n",
    "\n",
    "# Create a new structure for the spliced portion\n",
    "new_structure = PDB.Structure.Structure(\"spliced_protein\")\n",
    "\n",
    "# Iterate through models, chains, and residues\n",
    "for model in structure:\n",
    "    new_model = PDB.Model.Model(model.id)\n",
    "    new_structure.add(new_model)\n",
    "    for chain in model:\n",
    "        new_chain = PDB.Chain.Chain(chain.id)\n",
    "        new_model.add(new_chain)\n",
    "        for residue in chain:\n",
    "            residue_num = residue.id[1]\n",
    "            if not any(start <= residue_num <= end for start, end in omit_regions):\n",
    "                new_chain.add(residue)\n",
    "\n",
    "# Save the new structure\n",
    "io = PDB.PDBIO()\n",
    "io.set_structure(new_structure)\n",
    "io.save(output_file)"
   ]
  },
  {
   "cell_type": "code",
   "execution_count": null,
   "id": "bdd254b2-ee47-4f99-a066-01819da4eae6",
   "metadata": {},
   "outputs": [],
   "source": []
  }
 ],
 "metadata": {
  "kernelspec": {
   "display_name": "default",
   "language": "python",
   "name": "default"
  },
  "language_info": {
   "codemirror_mode": {
    "name": "ipython",
    "version": 3
   },
   "file_extension": ".py",
   "mimetype": "text/x-python",
   "name": "python",
   "nbconvert_exporter": "python",
   "pygments_lexer": "ipython3",
   "version": "3.12.2"
  }
 },
 "nbformat": 4,
 "nbformat_minor": 5
}
