{
 "cells": [
  {
   "cell_type": "code",
   "execution_count": 3,
   "id": "fc859b28-6a5d-4aba-a7cd-b9b120d8c44e",
   "metadata": {},
   "outputs": [],
   "source": [
    "import os\n",
    "import sys\n",
    "import subprocess\n",
    "import numpy as np\n",
    "module_path = \"/data/luojaa/eukgen/\"\n",
    "sys.path.append(module_path)\n",
    "from core_functions.helper_functions import fasta_to_dict, dict_to_fasta, filter_by_entropy \n",
    "import pandas as pd\n",
    "from Bio import PDB\n",
    "from polvir.parseIcarus import *"
   ]
  },
  {
   "cell_type": "code",
   "execution_count": 16,
   "id": "71ddb9f8-5b0c-478c-ac72-121e4ebceb6a",
   "metadata": {},
   "outputs": [],
   "source": [
    "import os\n",
    "import subprocess\n",
    "import numpy as np\n",
    "import sys\n",
    "module_path = \"/data/luojaa/eukgen/\"\n",
    "sys.path.append(module_path)\n",
    "from core_functions.helper_functions import fasta_to_dict, dict_to_fasta, filter_by_entropy \n",
    "import pandas as pd\n",
    "# from core_functions.parse_icarus_align import *\n",
    "# from polvir.parseIcarus import *\n",
    "from Bio import AlignIO\n",
    "from Bio.Align import MultipleSeqAlignment\n",
    "from Bio.SeqRecord import SeqRecord\n",
    "from Bio.Seq import Seq\n",
    "import random\n",
    "\n",
    "alignment_root = \"/data/luojaa/polvir/alignments/icarus_cropped/\"\n",
    "alignment_file = \"icarus_380.muscle3D.entropy_filt.fasta\"\n",
    "msa_path = f\"{alignment_root}{alignment_file}\"\n",
    "outdir = \"shuffled\"\n",
    "out_root = f\"/data/luojaa/polvir/alignments/icarus_cropped/\"\n",
    "alignment = AlignIO.read(msa_path, \"fasta\")"
   ]
  },
  {
   "cell_type": "code",
   "execution_count": 17,
   "id": "2f3c362a-1940-4ac1-b13a-a38cb568a066",
   "metadata": {},
   "outputs": [
    {
     "name": "stdout",
     "output_type": "stream",
     "text": [
      "24.9 ms ± 244 µs per loop (mean ± std. dev. of 7 runs, 10 loops each)\n"
     ]
    }
   ],
   "source": [
    "%%timeit\n",
    "alignment_np = np.array([list(row.seq) for row in alignment])\n",
    "ncols = alignment_np.shape[1]\n",
    "n_replicates = 1"
   ]
  },
  {
   "cell_type": "code",
   "execution_count": null,
   "id": "cd688fa2-2f5f-4002-90ca-37f0d096c2b9",
   "metadata": {},
   "outputs": [],
   "source": []
  },
  {
   "cell_type": "code",
   "execution_count": 18,
   "id": "c5a1a2f6-2e5b-48a1-8322-7d9c6f381df6",
   "metadata": {},
   "outputs": [
    {
     "name": "stdout",
     "output_type": "stream",
     "text": [
      "CPU times: user 1.38 ms, sys: 33 µs, total: 1.41 ms\n",
      "Wall time: 1.37 ms\n"
     ]
    }
   ],
   "source": [
    "%%time \n",
    "\n",
    "\n",
    "for x in range(50,51):\n",
    "    nresample = int(ncols * x / 100) \n",
    "    for n in range(n_replicates):\n",
    "        alignment_shuffled = alignment_np.copy()\n",
    "        \n",
    "        # round down\n",
    "        ind_toreplace = set(random.sample(range(ncols), nresample))\n",
    "        ind_source = random.sample(sorted(set(range(ncols)) - ind_toreplace), nresample)\n",
    "        for target, source in zip(ind_toreplace, ind_source):\n",
    "            alignment_shuffled[:, target] = alignment_np[:, source]\n",
    "            \n",
    "        # convert back to MSA\n",
    "        records = []\n",
    "        # for i in range(alignment_np.shape[0]):\n",
    "        #     sequence = ''.join(alignment_shuffled[i])\n",
    "            \n",
    "        #     # Create sequence record\n",
    "        #     record = SeqRecord(\n",
    "        #         Seq(sequence),\n",
    "        #         id=alignment[0].id,\n",
    "        #         name=alignment[0].name,\n",
    "        #         description=alignment[0].description\n",
    "        #     )\n",
    "        #     records.append(record)\n",
    "        # outfile = alignment_file.replace(\".fasta\", f\".x{x}_rep{n}.fasta\")\n",
    "        # AlignIO.write(MultipleSeqAlignment(records), open(f\"{out_root}{outfile}\", \"w\"), \"fasta\")"
   ]
  },
  {
   "cell_type": "markdown",
   "id": "3b989928-8171-427a-873e-ce983f920378",
   "metadata": {},
   "source": [
    "## Parse icarus output"
   ]
  },
  {
   "cell_type": "code",
   "execution_count": 2,
   "id": "07e51a74-970e-44b2-8666-39b7ae70ba8d",
   "metadata": {},
   "outputs": [],
   "source": [
    "testdir = \"/data/luojaa/polvir/icarus_out_ED/\"\n",
    "test_seq = \"Pokke_SRX802963.109.dc\"\n",
    "# test_seqs = [\"ED_3702.AT5G63960\", \"AA2_NC_009464\", \"AS3_JAEOSZ010000031\", \"Mi_TARA_MED_NCLDV_00112_000000000008_2\"]\n",
    "# test_seq = \"EZ_5850\"\n",
    "# test_seq = \"A3_AE009439\"\n",
    "# test_seq = \"AA1_BA000048\"\n",
    "# test_seq = \"Mi_TARA_PSW_NCLDV_00051_000000000006_2\"\n",
    "pdb_og = f\"/data/luojaa/polvir/af2_structures/{test_seq}.pdb\"\n",
    "pdb_raw = f\"{testdir}{test_seq}/icarus_results_on_ED_38727.Pavir.Eb01025.1/models/{test_seq}.raw.pdb\"\n",
    "pdb_renum = f\"{testdir}{test_seq}/icarus_results_on_ED_38727.Pavir.Eb01025.1/models/{test_seq}.renum.pdb\"\n",
    "#icarus_out = f\"{testdir}{test_seq}/icarus_results_on_ED_38727.Pavir.Eb01025.1/data/{test_seq}.icarus\"\n",
    "struct_align = f\"{testdir}{test_seq}/icarus_results_on_ED_38727.Pavir.Eb01025.1/.icarus*/icarus_output/results/PDB1_and_PDB2/summary.txt\"\n"
   ]
  },
  {
   "cell_type": "code",
   "execution_count": 3,
   "id": "556d4934-b18d-4086-a8d9-38fb527e4e53",
   "metadata": {},
   "outputs": [],
   "source": [
    "# def parse_alignment_summary(text):\n",
    "#     # Get first BEST ALIGNMENT section\n",
    "#     section = text.split(\"BEST ALIGNMENT\")[1].split(\"Aligned distance\")[0]\n",
    "    \n",
    "#     # Initialize collectors for each row type\n",
    "#     collected = {\n",
    "#         'PUs': [],\n",
    "#         'ori. pos': [],\n",
    "#         'connect': [],\n",
    "#         'QUERY': [],\n",
    "#         'match': [],\n",
    "#         'TARGET': [],\n",
    "#         'dist': [],\n",
    "#         'ali. pos': []\n",
    "#     }\n",
    "    \n",
    "#     current_type = None\n",
    "    \n",
    "#     for line in section.split('\\n'):\n",
    "#         # Skip empty lines\n",
    "#         if not line.strip():\n",
    "#             continue\n",
    "            \n",
    "#         # Check for row type at the start of line\n",
    "#         for row_type in collected.keys():\n",
    "#             if line.strip().startswith(row_type):\n",
    "#                 current_type = row_type\n",
    "#                 # Extract the content after the label\n",
    "#                 content = line.split(':', 1)[1] if ':' in line else line[len(row_type):].strip()\n",
    "#                 collected[current_type].append(content)\n",
    "#                 break\n",
    "        \n",
    "#         # If we're in a current type and line starts with spaces, it's a continuation\n",
    "#         if current_type and line.startswith(' ' * 8) and not any(line.strip().startswith(t) for t in collected.keys()):\n",
    "#             collected[current_type][-1] += line.strip()\n",
    "\n",
    "#     # Join all lines for each type\n",
    "#     result = {key: ''.join(values) for key, values in collected.items()}\n",
    "    \n",
    "#     return result"
   ]
  },
  {
   "cell_type": "code",
   "execution_count": 4,
   "id": "185f4b99-76ec-41c9-b63d-e5f44f5583f0",
   "metadata": {
    "scrolled": true
   },
   "outputs": [],
   "source": [
    "alignment_data = parse_alignment_summary(struct_align)\n"
   ]
  },
  {
   "cell_type": "code",
   "execution_count": 5,
   "id": "e0920d5f-94f2-487f-b369-6930c5fd7708",
   "metadata": {},
   "outputs": [],
   "source": [
    "dists = alignment_data[\"dist\"]\n",
    "query = alignment_data[\"QUERY\"]"
   ]
  },
  {
   "cell_type": "code",
   "execution_count": 6,
   "id": "701a70d4-abe3-4e48-8dca-b41791a7177b",
   "metadata": {},
   "outputs": [],
   "source": [
    "dists_qinserts = \"\".join(list(np.array(list(dists))[(np.array(list(query)) != \"-\") & (np.array(list(query)) != \" \")]))\n",
    "query_contig = query.replace(\" \", \"\").replace(\"-\",\"\")"
   ]
  },
  {
   "cell_type": "code",
   "execution_count": 7,
   "id": "f32f1ef4-6125-40a5-bca8-fe2bcfbfc753",
   "metadata": {},
   "outputs": [],
   "source": [
    "# def define_gaps(alignment_data, mindist=4):\n",
    "#     window_size = 30\n",
    "#     results = []\n",
    "#     dists = alignment_data[\"dist\"]\n",
    "#     query = alignment_data[\"QUERY\"]\n",
    "#     dists_qinserts = \"\".join(list(np.array(list(dists))[(np.array(list(query)) != \"-\") & (np.array(list(query)) != \" \")]))\n",
    "    \n",
    "#     # For each position in string\n",
    "#     for i in range(len(dists_qinserts)):\n",
    "#         pos = dists_qinserts[i]\n",
    "\n",
    "\n",
    "#         isgap_pos = False\n",
    "#         if (pos.isdigit() and int(pos) > mindist) or (pos == \" \"):\n",
    "#             isgap_pos = True\n",
    "#         # Check all possible windows containing this position\n",
    "#         is_part_of_valid_window = False\n",
    "        \n",
    "#         # Start checking windows that contain current position\n",
    "#         start_range = max(0, i - window_size + 1)\n",
    "#         end_range = min(i+ 1, len(dists_qinserts) - window_size + 1)\n",
    "#         for start in range(start_range, end_range):\n",
    "#             window = dists_qinserts[start:start + window_size]\n",
    "#             count = sum(1 for c in window if c == ' ' or (c.isdigit() and int(c) > mindist))\n",
    "#             # single possibility of being part of gap = mark as gap\n",
    "#             if isgap_pos:\n",
    "#                 if (count / window_size) >= 0.85:\n",
    "#                     is_part_of_valid_window = True\n",
    "#                     break\n",
    "#             # single possibility of not being in a gap = mark as not gap\n",
    "#             elif (count / window_size) < 0.85:\n",
    "#                 break\n",
    "#         results.append(is_part_of_valid_window)\n",
    "#     # boolean array, true is gap position\n",
    "#     return results"
   ]
  },
  {
   "cell_type": "code",
   "execution_count": 8,
   "id": "ff0d7bce-56a9-477a-a6e7-613986ed80c7",
   "metadata": {},
   "outputs": [
    {
     "data": {
      "text/plain": [
       "'121100210000001114767   9              565211123476443 8  54 846 7462211101111110112135  41211100011111001100001120111111012 23343442232110011214730111100000010111111100001122112222111101111101112015 10111111111124211111122211236545651112121  211113524  4 852311111010011112314322223 2 32200000111122110010010000100111211000011111111111010000111111110112221222112111111 1 201334241445   6    6   11223345752513322254121012121001000011 20100001111111242223334444332212231221121011011101101101111111111111112221010012100001100100110110010002 232235621112210011111121111101000000000000000000010123 1211233435761111243       42111113        5 11000000000001112334432221110012 2                  42   21111111100012244200012 3  3   6                00111122111111011111   2  210001111000110000000010000123313 3 3111111221224322111001000101101 3142   6664333110333323332210011111443411222222222323412111002100000112          322111000111111212100112210233111101100121 30                     211111114334233244203235443202011     222222211111110022223344432221021111111011 22 2      '"
      ]
     },
     "execution_count": 8,
     "metadata": {},
     "output_type": "execute_result"
    }
   ],
   "source": [
    "gaps = define_gaps(alignment_data, 4)\n",
    "notgaps = [not gap for gap in gaps]\n",
    "dists_clean = \"\".join(list(np.array(list(dists_qinserts))[notgaps]))\n",
    "query_clean = \"\".join(list(np.array(list(query_contig))[notgaps]))\n",
    "dists_clean"
   ]
  },
  {
   "cell_type": "code",
   "execution_count": 9,
   "id": "38df7e25-5448-4d65-959a-eca77661e1a2",
   "metadata": {},
   "outputs": [
    {
     "data": {
      "text/plain": [
       "(1712, 1615, 1076)"
      ]
     },
     "execution_count": 9,
     "metadata": {},
     "output_type": "execute_result"
    }
   ],
   "source": [
    "len(query), len(query_contig), len(query_clean)"
   ]
  },
  {
   "cell_type": "code",
   "execution_count": 10,
   "id": "0bbc7506-4692-4215-9cbe-a301a077f239",
   "metadata": {},
   "outputs": [],
   "source": [
    "# def map_gaps(bool_arr):\n",
    "#     if sum(bool_arr) == 0:\n",
    "#         return [(0,0)] # null gap\n",
    "#     # Add sentinels \n",
    "#     padded = np.r_[False, bool_arr, False]\n",
    "    \n",
    "#     # Find transitions\n",
    "#     transitions = np.where(np.diff(padded))[0]\n",
    "    \n",
    "#     # Get ranges\n",
    "#     return list(zip(transitions[::2], transitions[1::2]))"
   ]
  },
  {
   "cell_type": "code",
   "execution_count": 11,
   "id": "8a5ffd58-06b2-403e-bc35-4434044a5e32",
   "metadata": {},
   "outputs": [],
   "source": [
    "gap_ranges = map_gaps(gaps)"
   ]
  },
  {
   "cell_type": "code",
   "execution_count": 12,
   "id": "854382e5-8bfa-4502-9d83-1bb8dd29b02e",
   "metadata": {},
   "outputs": [
    {
     "data": {
      "text/plain": [
       "'/data/luojaa/polvir/icarus_out_ED/Pokke_SRX802963.109.dc/icarus_results_on_ED_38727.Pavir.Eb01025.1/models/Pokke_SRX802963.109.dc.renum.pdb'"
      ]
     },
     "execution_count": 12,
     "metadata": {},
     "output_type": "execute_result"
    }
   ],
   "source": [
    "pdb_renum"
   ]
  },
  {
   "cell_type": "code",
   "execution_count": 13,
   "id": "104a9483-6d87-4605-93dd-9e554b5bd7a1",
   "metadata": {},
   "outputs": [],
   "source": [
    "%%capture\n",
    "output_file = \"/data/luojaa/polvir/processing/test.pdb\"\n",
    "parser = PDB.PDBParser()\n",
    "structure = parser.get_structure(\"protein\", pdb_renum)\n",
    "\n",
    "# Create a new structure for the spliced portion\n",
    "new_structure = PDB.Structure.Structure(\"spliced_protein\")\n",
    "\n",
    "# Iterate through models, chains, and residues\n",
    "start_number = 5000\n",
    "count_res = 0\n",
    "for model in structure:\n",
    "    new_model = PDB.Model.Model(model.id)\n",
    "    new_structure.add(new_model)\n",
    "    for chain in model:\n",
    "        new_chain = PDB.Chain.Chain(chain.id)\n",
    "        new_model.add(new_chain)\n",
    "        # renumber for each chain\n",
    "        new_resid = start_number\n",
    "        for residue in chain:\n",
    "            \n",
    "            # check if insertion or not\n",
    "            residue_num = residue.id[1]\n",
    "        \n",
    "            if not any(start <= residue_num - 1 < end for start, end in gap_ranges):\n",
    "                # renum\n",
    "                residue.id = (residue.id[0], new_resid, residue.id[2])\n",
    "                new_resid += 1\n",
    "                new_chain.add(residue)\n",
    "                count_res += 1\n",
    "            \n",
    "\n",
    "# Save the new structure\n",
    "io = PDB.PDBIO()\n",
    "io.set_structure(new_structure)\n",
    "io.save(output_file)"
   ]
  },
  {
   "cell_type": "code",
   "execution_count": 102,
   "id": "0cb5d9fe-f8a6-4e3f-a659-809446f7e88d",
   "metadata": {},
   "outputs": [],
   "source": [
    "# pdb_renum = f\"{testdir}{seq}/icarus_results_on_ED_38727.Pavir.Eb01025.1/models/{seq}.renum.pdb\"\n",
    "test_seq = \"Pokke_SRX802963.109.dc\"\n",
    "struct_align = f\"{testdir}{test_seq}/icarus_results_on_ED_38727.Pavir.Eb01025.1/.icarus*/icarus_output/results/PDB1_and_PDB2/summary.txt\"\n",
    "\n",
    "#example_text = subprocess.run(f\"cat {struct_align}\", shell = True, capture_output=True, text=True).stdout\n",
    "alignment_data = parse_alignment_summary(struct_align)\n",
    "\n",
    "\n",
    "\n",
    "gaps = define_gaps(alignment_data)\n",
    "gap_ranges = map_gaps(gaps)\n",
    "\n",
    "# write fastas\n",
    "dists = alignment_data[\"dist\"]\n",
    "query = alignment_data[\"QUERY\"]\n",
    "dists_qinserts = \"\".join(list(np.array(list(dists))[(np.array(list(query)) != \"-\") & (np.array(list(query)) != \" \")]))\n",
    "query_contig = query.replace(\" \", \"\").replace(\"-\",\"\")\n",
    "notgaps = [not gap for gap in gaps]\n",
    "dists_clean = \"\".join(list(np.array(list(dists_qinserts))[notgaps]))\n",
    "query_clean = \"\".join(list(np.array(list(query_contig))[notgaps]))\n"
   ]
  },
  {
   "cell_type": "code",
   "execution_count": 14,
   "id": "c9f99073-cc22-49c5-b5e3-a5e9e8e2d4f7",
   "metadata": {},
   "outputs": [
    {
     "data": {
      "text/plain": [
       "1076"
      ]
     },
     "execution_count": 14,
     "metadata": {},
     "output_type": "execute_result"
    }
   ],
   "source": [
    "len(query_clean)"
   ]
  },
  {
   "cell_type": "code",
   "execution_count": 15,
   "id": "51338372-20ca-49f7-8113-9d27a1c5dd9b",
   "metadata": {},
   "outputs": [
    {
     "data": {
      "text/plain": [
       "1076"
      ]
     },
     "execution_count": 15,
     "metadata": {},
     "output_type": "execute_result"
    }
   ],
   "source": [
    "count_res"
   ]
  },
  {
   "cell_type": "code",
   "execution_count": 16,
   "id": "4c6bc944-ba23-49f1-b7d5-64ba5e73243b",
   "metadata": {},
   "outputs": [
    {
     "data": {
      "text/plain": [
       "'/data/luojaa/polvir/icarus_out_ED/Pokke_SRX802963.109.dc/icarus_results_on_ED_38727.Pavir.Eb01025.1/models/Pokke_SRX802963.109.dc.renum.pdb'"
      ]
     },
     "execution_count": 16,
     "metadata": {},
     "output_type": "execute_result"
    }
   ],
   "source": [
    "pdb_renum"
   ]
  },
  {
   "cell_type": "code",
   "execution_count": 17,
   "id": "928b9dc4-a652-4763-8787-a52e96ef1dc7",
   "metadata": {},
   "outputs": [],
   "source": [
    "%%capture\n",
    "parser = PDB.PDBParser()\n",
    "test_seq = \"Pokke_SRX802963.109.dc\"\n",
    "# pdb_renum = f\"{testdir}{test_seq}/icarus_results_on_ED_38727.Pavir.Eb01025.1/models/{test_seq}.renum.pdb\"\n",
    "struct_align = f\"{testdir}{test_seq}/icarus_results_on_ED_38727.Pavir.Eb01025.1/.icarus*/icarus_output/results/PDB1_and_PDB2/summary.txt\"\n",
    "alignment_data = parse_alignment_summary(struct_align)\n",
    "gaps = define_gaps(alignment_data)\n",
    "gap_ranges = map_gaps(gaps)\n",
    "\n",
    "crop_pdb(\"/data/luojaa/polvir/icarus_out_ED/\", \"/data/luojaa/polvir/processing/\", test_seq, gap_ranges)"
   ]
  },
  {
   "cell_type": "code",
   "execution_count": 112,
   "id": "12e18e50-e039-452f-b522-f91a162b87d4",
   "metadata": {},
   "outputs": [],
   "source": [
    "%%capture\n",
    "test_seqs = [\"ED_3702.AT5G63960\", \"AA2_NC_009464\", \"AS3_JAEOSZ010000031\", \"Mi_TARA_MED_NCLDV_00112_000000000008_2\"]\n",
    "test_seqs = [\"EZ_5762.XP_002673282\"]\n",
    "test_seqs = os.listdir(\"/data/luojaa/polvir/icarus_out_ED/\")\n",
    "for seq in test_seqs:\n",
    "    #pdb_og = f\"/data/luojaa/polvir/af2_structures/{seq}.pdb\"\n",
    "    #pdb_raw = f\"{testdir}{seq}/icarus_results_on_ED_38727.Pavir.Eb01025.1/models/{seq}.raw.pdb\"\n",
    "    pdb_renum = f\"{testdir}{seq}/icarus_results_on_ED_38727.Pavir.Eb01025.1/models/{seq}.renum.pdb\"\n",
    "    struct_align = f\"{testdir}{seq}/icarus_results_on_ED_38727.Pavir.Eb01025.1/.icarus*/icarus_output/results/PDB1_and_PDB2/summary.txt\"\n",
    "    \n",
    "    #example_text = subprocess.run(f\"cat {struct_align}\", shell = True, capture_output=True, text=True).stdout\n",
    "    alignment_data = parse_alignment_summary(struct_align)\n",
    "    \n",
    "\n",
    "    \n",
    "    gaps = define_gaps(alignment_data)\n",
    "    gap_ranges = map_gaps(gaps)\n",
    "\n",
    "    # write fastas\n",
    "    dists = alignment_data[\"dist\"]\n",
    "    query = alignment_data[\"QUERY\"]\n",
    "    dists_qinserts = \"\".join(list(np.array(list(dists))[(np.array(list(query)) != \"-\") & (np.array(list(query)) != \" \")]))\n",
    "    query_contig = query.replace(\" \", \"\").replace(\"-\",\"\")\n",
    "    notgaps = [not gap for gap in gaps]\n",
    "    dists_clean = \"\".join(list(np.array(list(dists_qinserts))[notgaps]))\n",
    "    query_clean = \"\".join(list(np.array(list(query_contig))[notgaps]))\n",
    "    outfasta = f\"/data/luojaa/polvir/icarus_seqs/{seq}.fasta\"\n",
    "    with open(outfasta,\"w\") as outfile:\n",
    "        print(f\">{seq}\", file=outfile)\n",
    "        print(query_clean, file=outfile)\n",
    "    #done writing fastas\n",
    "    \n",
    "    output_file = f\"/data/luojaa/polvir/icarus_out_ED/{seq}/icarus_results_on_ED_38727.Pavir.Eb01025.1/models/{seq}.cropped.pdb\"\n",
    "    parser = PDB.PDBParser()\n",
    "    structure = parser.get_structure(\"protein\", pdb_renum)\n",
    "    \n",
    "    # Create a new structure for the spliced portion\n",
    "    new_structure = PDB.Structure.Structure(\"spliced_protein\")\n",
    "    \n",
    "    # Iterate through models, chains, and residues\n",
    "    start_number = 5000\n",
    "    # renumber for each model\n",
    "    new_resid = start_number\n",
    "    nchains = 0\n",
    "    for model in structure:\n",
    "        \n",
    "        print(seq)\n",
    "        new_model = PDB.Model.Model(model.id)\n",
    "        new_structure.add(new_model)\n",
    "        for chain in model:\n",
    "            nchains += 1\n",
    "            print(\"chain\")\n",
    "            new_chain = PDB.Chain.Chain(chain.id)\n",
    "            new_model.add(new_chain)\n",
    "            # # renumber for each chain\n",
    "            # new_resid = start_number\n",
    "            for residue in chain:\n",
    "                \n",
    "                # check if insertion or not\n",
    "                residue_num = residue.id[1]\n",
    "            \n",
    "                if not any(start <= residue_num - 1 < end for start, end in gap_ranges):\n",
    "                    # renum\n",
    "                    residue.id = (residue.id[0], new_resid, residue.id[2])\n",
    "                    new_resid += 1\n",
    "                    new_chain.add(residue)\n",
    "    # Save the new structure\n",
    "    io = PDB.PDBIO()\n",
    "    io.set_structure(new_structure)\n",
    "    io.save(output_file)"
   ]
  },
  {
   "cell_type": "markdown",
   "id": "3772e18f-effb-4605-a0cf-e1bf71ce16c8",
   "metadata": {},
   "source": [
    "## compare icarus outputs "
   ]
  },
  {
   "cell_type": "code",
   "execution_count": 114,
   "id": "0bbfd27d-0133-40c2-bc5c-0dea32db7a5e",
   "metadata": {},
   "outputs": [
    {
     "data": {
      "text/plain": [
       "'Pokke_SRX802963.109.dc'"
      ]
     },
     "execution_count": 114,
     "metadata": {},
     "output_type": "execute_result"
    }
   ],
   "source": [
    "test_seq"
   ]
  },
  {
   "cell_type": "code",
   "execution_count": 115,
   "id": "e4017088-d9e5-437c-9f74-ef82e4df2579",
   "metadata": {},
   "outputs": [],
   "source": [
    "# prep files to download locally\n",
    "file_bases = \"\"\"\n",
    "Pokke_GVMAG-M-3300027793-10\n",
    "EA_29176.XP_003885865\n",
    "NC_018874\n",
    "MW412419\n",
    "EZ_5850\n",
    "EA_5811\n",
    "\"\"\".strip().split(\"\\n\") + [test_seq]\n",
    "for file in file_bases:\n",
    "    renum = f\"{testdir}{file}/icarus_results_on_ED_38727.Pavir.Eb01025.1/models/{file}.renum.pdb\"\n",
    "    cropped = f\"{testdir}{file}/icarus_results_on_ED_38727.Pavir.Eb01025.1/models/{file}.cropped.pdb\"\n",
    "    raw = f\"/data/luojaa/polvir/af2_structures/{file}.pdb\"\n",
    "    destination = \"/data/luojaa/polvir/processing/icarus_sandbox/\"\n",
    "    os.system(f\"cp -t {destination} {renum} {cropped} {raw}\")"
   ]
  },
  {
   "cell_type": "markdown",
   "id": "c9f08a9b-58d1-4ac9-a240-10297737e896",
   "metadata": {},
   "source": [
    "## rename for muscle3d"
   ]
  },
  {
   "cell_type": "code",
   "execution_count": null,
   "id": "7116801b-41b0-4b40-a00e-724d438dd042",
   "metadata": {},
   "outputs": [],
   "source": [
    "## bash\n",
    "#find *.pdb -type f -name \"*.*.*\" -exec sh -c 'echo mv \"$1\" \"$(echo \"$1\" | sed \"s/\\./\\_/1\")\"' _ {} \\;"
   ]
  },
  {
   "cell_type": "markdown",
   "id": "eec5ba61-7e13-48a0-b6e9-7fd0dd58af02",
   "metadata": {},
   "source": [
    "## entropy filters"
   ]
  },
  {
   "cell_type": "code",
   "execution_count": 131,
   "id": "5af1ee78-d90e-43ff-bd35-3e21cbf648af",
   "metadata": {},
   "outputs": [],
   "source": [
    "from core_functions.helper_functions import fasta_to_dict, dict_to_fasta, filter_by_entropy "
   ]
  },
  {
   "cell_type": "code",
   "execution_count": 5,
   "id": "25c923b7-b421-4dd1-b58e-a76c7ab4f289",
   "metadata": {},
   "outputs": [],
   "source": [
    "poly = \"/data/luojaa/polvir/alignments/icarus_cropped/icarus_380.muscle_diversified_10.fasta\"\n",
    "poly_dict = fasta_to_dict(file = poly)\n",
    "poly_filter = filter_by_entropy(poly_dict, .2)\n",
    "#dict_to_fasta(poly_filter, write_file=\"/data/luojaa/polvir/alignments/icarus_cropped/icarus_380.muscle_diversified_10.entropy_filt.fasta\")"
   ]
  },
  {
   "cell_type": "code",
   "execution_count": 18,
   "id": "7c29cfdc-fb53-4c1e-9195-a44a1969e405",
   "metadata": {},
   "outputs": [
    {
     "name": "stdout",
     "output_type": "stream",
     "text": [
      "Wrote /data/luojaa/polvir/alignments/icarus_cropped/icarus_380.clustalo.entropy_filt.fasta\n",
      "Wrote /data/luojaa/polvir/alignments/icarus_cropped/icarus_380.famsa.entropy_filt.fasta\n",
      "Wrote /data/luojaa/polvir/alignments/icarus_cropped/icarus_380.foldmason_aa.entropy_filt.fasta\n",
      "Wrote /data/luojaa/polvir/alignments/icarus_cropped/icarus_380.mafft_linsi.entropy_filt.fasta\n",
      "Wrote /data/luojaa/polvir/alignments/icarus_cropped/icarus_380.muscle3d.entropy_filt.fasta\n"
     ]
    }
   ],
   "source": [
    "basepath = \"/data/luojaa/polvir/alignments/icarus_cropped/\"\n",
    "for f in os.listdir(basepath):\n",
    "    if f[-6:] == \".fasta\" and \"usalign\" not in f:\n",
    "        inpath = f\"{basepath}{f}\"\n",
    "        f_out = f.replace(\".fasta\", \".entropy_filt.fasta\")\n",
    "        outpath = f\"{basepath}{f_out}\"\n",
    "        poly_dict = fasta_to_dict(file = inpath)\n",
    "        poly_filter = filter_by_entropy(poly_dict, .2)\n",
    "        dict_to_fasta(poly_filter, write_file=outpath)"
   ]
  },
  {
   "cell_type": "code",
   "execution_count": null,
   "id": "501ce215-3ac5-4256-a201-5544112020a6",
   "metadata": {},
   "outputs": [],
   "source": []
  }
 ],
 "metadata": {
  "kernelspec": {
   "display_name": "default",
   "language": "python",
   "name": "default"
  },
  "language_info": {
   "codemirror_mode": {
    "name": "ipython",
    "version": 3
   },
   "file_extension": ".py",
   "mimetype": "text/x-python",
   "name": "python",
   "nbconvert_exporter": "python",
   "pygments_lexer": "ipython3",
   "version": "3.12.2"
  }
 },
 "nbformat": 4,
 "nbformat_minor": 5
}
