{
 "cells": [
  {
   "cell_type": "code",
   "execution_count": 21,
   "id": "d11ed9d5-cc36-444a-a00f-74176ccc32c4",
   "metadata": {},
   "outputs": [],
   "source": [
    "import os\n",
    "import subprocess\n",
    "import numpy as np\n",
    "import sys\n",
    "module_path = \"/data/luojaa/eukgen/\"\n",
    "sys.path.append(module_path)\n",
    "from core_functions.helper_functions import fasta_to_dict, dict_to_fasta, filter_by_entropy \n",
    "import pandas as pd\n",
    "# from core_functions.parse_icarus_align import *\n",
    "# from polvir.parseIcarus import *\n",
    "from Bio import AlignIO\n",
    "from Bio.Align import MultipleSeqAlignment\n",
    "from Bio.SeqRecord import SeqRecord\n",
    "from Bio.Seq import Seq\n",
    "import random\n",
    "from multiprocessing import Pool"
   ]
  },
  {
   "cell_type": "code",
   "execution_count": 3,
   "id": "47555ec8-255e-4706-9897-e6c6263bdd0a",
   "metadata": {},
   "outputs": [],
   "source": [
    "alignment_root = \"/data/luojaa/polvir/alignments/icarus_cropped/\"\n",
    "alignment_file = \"icarus_380.foldmason_aa.entropy_filt.fasta\"\n",
    "# alignment_root = \"/data/luojaa/polvir/alignments/uncropped/\"\n",
    "# alignment_file = \"poly_380.foldmason_aa.entropy_filt.fasta\"\n",
    "msa_path = f\"{alignment_root}{alignment_file}\"\n",
    "outdir = \"shuffled\"\n",
    "out_root = f\"{alignment_root}{outdir}/\"\n",
    "alignment = AlignIO.read(msa_path, \"fasta\")"
   ]
  },
  {
   "cell_type": "code",
   "execution_count": 5,
   "id": "e94aaa84-cb5d-4b69-a059-060921ead86a",
   "metadata": {},
   "outputs": [],
   "source": [
    "alignment_np = np.array([list(row.seq) for row in alignment])\n",
    "ncols = alignment_np.shape[1]\n",
    "n_replicates = 100\n",
    "\n",
    "for x in range(1,100):\n",
    "    nresample = int(ncols * x / 100)\n",
    "    for n in range(n_replicates):\n",
    "        alignment_shuffled = alignment_np.copy()\n",
    "        \n",
    "        # round down\n",
    "        ind_toreplace = set(random.sample(range(ncols), nresample))\n",
    "        ind_source = np.random.choice(sorted(set(range(ncols)) - ind_toreplace), size=nresample, replace=True)\n",
    "        for target, source in zip(ind_toreplace, ind_source):\n",
    "            alignment_shuffled[:, target] = alignment_np[:, source]\n",
    "            \n",
    "        # convert back to MSA\n",
    "        records = []\n",
    "        for i in range(alignment_np.shape[0]):\n",
    "            sequence = ''.join(alignment_shuffled[i])\n",
    "            \n",
    "            # Create sequence record\n",
    "            record = SeqRecord(\n",
    "                Seq(sequence),\n",
    "                id=alignment[i].id,\n",
    "                name=alignment[i].name,\n",
    "                description=alignment[i].description\n",
    "            )\n",
    "            records.append(record)\n",
    "        outfile = alignment_file.replace(\".fasta\", f\".x{x}_rep{n}.fasta\")\n",
    "        AlignIO.write(MultipleSeqAlignment(records), open(f\"{out_root}{outfile}\", \"w\"), \"fasta\")"
   ]
  },
  {
   "cell_type": "code",
   "execution_count": null,
   "id": "db5e3ed3-5def-4697-95ec-63a6e779b22d",
   "metadata": {},
   "outputs": [],
   "source": [
    "for x in range(1,100):\n",
    "    nresample = int(ncols * x / 100)\n",
    "    for n in range(n_replicates):\n",
    "        outfile = alignment_file.replace(\".fasta\", f\".x{x}_rep{n}.fasta\")"
   ]
  },
  {
   "cell_type": "code",
   "execution_count": 17,
   "id": "1fd586ff-0552-46a2-9960-6dddfee992fd",
   "metadata": {},
   "outputs": [],
   "source": [
    "shuffle_dir = f\"{alignment_root}shuffled/\"\n",
    "x_reps = subprocess.run(f\"ls {shuffle_dir}*entropy_filt.x*_rep*.fasta\", shell = True, capture_output=True, text=True).stdout.strip().split(\"\\n\")\n",
    "\n",
    "\n",
    "#cmd_iqtree = f\"iqtree -s {shuffle_dir}icarus_380.foldmason_aa.entropy_filt.{x_rep_}.fasta -m Q.pfam+F -te {icarus_crop_dir}/icarus_380.foldmason_aa.entropy_filt.fasta.treefile --fast --redo --lmap 10000\""
   ]
  },
  {
   "cell_type": "code",
   "execution_count": 20,
   "id": "eba28c50-32a5-46c7-8c09-9363c7f2dc4b",
   "metadata": {},
   "outputs": [
    {
     "data": {
      "text/plain": [
       "'/data/luojaa/polvir/alignments/icarus_cropped/'"
      ]
     },
     "execution_count": 20,
     "metadata": {},
     "output_type": "execute_result"
    }
   ],
   "source": [
    "alignment_root"
   ]
  },
  {
   "cell_type": "code",
   "execution_count": 26,
   "id": "ae224af2-dcea-45c7-af08-d7f6c9eaa30c",
   "metadata": {},
   "outputs": [],
   "source": [
    "def iqtree_single(shuffle_path):\n",
    "    shuffle_dir = f\"{alignment_root}shuffled/\"\n",
    "    cmd_iqtree = f\"iqtree -s {shuffle_path} -m Q.pfam+F -te {alignment_root}/icarus_380.foldmason_aa.entropy_filt.fasta.treefile --fast --redo --lmap 10000\"\n",
    "    subprocess.run(cmd_iqtree, shell = True)#, capture_output=True, text=True).stdout.strip().split(\"\\n\")\n"
   ]
  },
  {
   "cell_type": "code",
   "execution_count": 30,
   "id": "fe42db96-925a-4ccf-84a5-b820b0b6252b",
   "metadata": {},
   "outputs": [
    {
     "data": {
      "text/plain": [
       "['/data/luojaa/polvir/alignments/icarus_cropped/shuffled/icarus_380.foldmason_aa.entropy_filt.x10_rep12.fasta',\n",
       " '/data/luojaa/polvir/alignments/icarus_cropped/shuffled/icarus_380.foldmason_aa.entropy_filt.x10_rep13.fasta']"
      ]
     },
     "execution_count": 30,
     "metadata": {},
     "output_type": "execute_result"
    }
   ],
   "source": [
    "x_reps[3:5]"
   ]
  },
  {
   "cell_type": "code",
   "execution_count": 39,
   "id": "3ed91c69-780f-4364-89ef-39dd35284e13",
   "metadata": {},
   "outputs": [],
   "source": [
    "with Pool(processes=8) as pool:\n",
    "    # Map method\n",
    "    results = pool.imap_unordered(iqtree_single, x_reps[-10:])"
   ]
  },
  {
   "cell_type": "code",
   "execution_count": 40,
   "id": "52d90070-c8f8-4240-9cba-d52ebd505fcd",
   "metadata": {},
   "outputs": [
    {
     "data": {
      "text/plain": [
       "['/data/luojaa/polvir/alignments/icarus_cropped/shuffled/icarus_380.muscle3D.entropy_filt.x9_rep91.fasta',\n",
       " '/data/luojaa/polvir/alignments/icarus_cropped/shuffled/icarus_380.muscle3D.entropy_filt.x9_rep92.fasta',\n",
       " '/data/luojaa/polvir/alignments/icarus_cropped/shuffled/icarus_380.muscle3D.entropy_filt.x9_rep93.fasta',\n",
       " '/data/luojaa/polvir/alignments/icarus_cropped/shuffled/icarus_380.muscle3D.entropy_filt.x9_rep94.fasta',\n",
       " '/data/luojaa/polvir/alignments/icarus_cropped/shuffled/icarus_380.muscle3D.entropy_filt.x9_rep95.fasta',\n",
       " '/data/luojaa/polvir/alignments/icarus_cropped/shuffled/icarus_380.muscle3D.entropy_filt.x9_rep96.fasta',\n",
       " '/data/luojaa/polvir/alignments/icarus_cropped/shuffled/icarus_380.muscle3D.entropy_filt.x9_rep97.fasta',\n",
       " '/data/luojaa/polvir/alignments/icarus_cropped/shuffled/icarus_380.muscle3D.entropy_filt.x9_rep98.fasta',\n",
       " '/data/luojaa/polvir/alignments/icarus_cropped/shuffled/icarus_380.muscle3D.entropy_filt.x9_rep99.fasta',\n",
       " '/data/luojaa/polvir/alignments/icarus_cropped/shuffled/icarus_380.muscle3D.entropy_filt.x9_rep9.fasta']"
      ]
     },
     "execution_count": 40,
     "metadata": {},
     "output_type": "execute_result"
    }
   ],
   "source": [
    " x_reps[-10:]"
   ]
  },
  {
   "cell_type": "code",
   "execution_count": null,
   "id": "9b378789-318b-4236-be94-97933fa4c275",
   "metadata": {},
   "outputs": [],
   "source": []
  }
 ],
 "metadata": {
  "kernelspec": {
   "display_name": "default",
   "language": "python",
   "name": "default"
  },
  "language_info": {
   "codemirror_mode": {
    "name": "ipython",
    "version": 3
   },
   "file_extension": ".py",
   "mimetype": "text/x-python",
   "name": "python",
   "nbconvert_exporter": "python",
   "pygments_lexer": "ipython3",
   "version": "3.12.2"
  }
 },
 "nbformat": 4,
 "nbformat_minor": 5
}
