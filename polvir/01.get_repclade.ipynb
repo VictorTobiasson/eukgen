{
 "cells": [
  {
   "cell_type": "code",
   "execution_count": 2,
   "id": "b7fc01d7-3dd9-4ae4-9a2c-65cdb6350650",
   "metadata": {},
   "outputs": [],
   "source": [
    "import os\n",
    "import sys\n",
    "module_path = \"/data/luojaa/eukgen/\"\n",
    "sys.path.append(module_path)\n",
    "from core_functions.helper_functions import fasta_to_dict, dict_to_fasta, filter_by_entropy "
   ]
  },
  {
   "cell_type": "markdown",
   "id": "85009897-a323-4aa5-9741-772ead2bac7c",
   "metadata": {},
   "source": [
    "## entropy filter for fasttree"
   ]
  },
  {
   "cell_type": "code",
   "execution_count": 6,
   "id": "ebb13625-8707-49ac-86ce-a5c8f436460e",
   "metadata": {},
   "outputs": [
    {
     "ename": "FileNotFoundError",
     "evalue": "[Errno 2] No such file or directory: '/data/luojaa/polvir/muscle5/poly.diversified_10.muscle'",
     "output_type": "error",
     "traceback": [
      "\u001b[0;31m---------------------------------------------------------------------------\u001b[0m",
      "\u001b[0;31mFileNotFoundError\u001b[0m                         Traceback (most recent call last)",
      "Cell \u001b[0;32mIn[6], line 2\u001b[0m\n\u001b[1;32m      1\u001b[0m poly \u001b[38;5;241m=\u001b[39m \u001b[38;5;124m\"\u001b[39m\u001b[38;5;124m/data/luojaa/polvir/muscle5/poly.diversified_10.muscle\u001b[39m\u001b[38;5;124m\"\u001b[39m\n\u001b[0;32m----> 2\u001b[0m poly_dict \u001b[38;5;241m=\u001b[39m \u001b[43mfasta_to_dict\u001b[49m\u001b[43m(\u001b[49m\u001b[43mfile\u001b[49m\u001b[43m \u001b[49m\u001b[38;5;241;43m=\u001b[39;49m\u001b[43m \u001b[49m\u001b[43mpoly\u001b[49m\u001b[43m)\u001b[49m\n",
      "File \u001b[0;32m/data/luojaa/eukgen/core_functions/helper_functions.py:17\u001b[0m, in \u001b[0;36mfasta_to_dict\u001b[0;34m(fastastring, file)\u001b[0m\n\u001b[1;32m     15\u001b[0m \u001b[38;5;28;01mdef\u001b[39;00m \u001b[38;5;21mfasta_to_dict\u001b[39m(fastastring\u001b[38;5;241m=\u001b[39m\u001b[38;5;28;01mNone\u001b[39;00m, file\u001b[38;5;241m=\u001b[39m\u001b[38;5;28;01mNone\u001b[39;00m):\n\u001b[1;32m     16\u001b[0m     \u001b[38;5;28;01mif\u001b[39;00m file \u001b[38;5;241m!=\u001b[39m \u001b[38;5;28;01mNone\u001b[39;00m:\n\u001b[0;32m---> 17\u001b[0m         \u001b[38;5;28;01mwith\u001b[39;00m \u001b[38;5;28;43mopen\u001b[39;49m\u001b[43m(\u001b[49m\u001b[43mfile\u001b[49m\u001b[43m,\u001b[49m\u001b[43m \u001b[49m\u001b[38;5;124;43m'\u001b[39;49m\u001b[38;5;124;43mr\u001b[39;49m\u001b[38;5;124;43m'\u001b[39;49m\u001b[43m)\u001b[49m \u001b[38;5;28;01mas\u001b[39;00m fastafile:\n\u001b[1;32m     18\u001b[0m             fastalines \u001b[38;5;241m=\u001b[39m fastafile\u001b[38;5;241m.\u001b[39mreadlines()\n\u001b[1;32m     20\u001b[0m     \u001b[38;5;66;03m# trim everything after first space in line. Avoids pathologic cases of headers such as \"NR_XXXX (abc-->cd)\"\u001b[39;00m\n",
      "\u001b[0;31mFileNotFoundError\u001b[0m: [Errno 2] No such file or directory: '/data/luojaa/polvir/muscle5/poly.diversified_10.muscle'"
     ]
    }
   ],
   "source": [
    "poly = \"/data/luojaa/polvir/muscle5/poly.diversified_10.muscle\"\n",
    "poly_dict = fasta_to_dict(file = poly)"
   ]
  },
  {
   "cell_type": "code",
   "execution_count": 3,
   "id": "07a7f999-b0b2-41be-962d-16571273e16f",
   "metadata": {},
   "outputs": [
    {
     "ename": "NameError",
     "evalue": "name 'poly_dict' is not defined",
     "output_type": "error",
     "traceback": [
      "\u001b[0;31m---------------------------------------------------------------------------\u001b[0m",
      "\u001b[0;31mNameError\u001b[0m                                 Traceback (most recent call last)",
      "Cell \u001b[0;32mIn[3], line 1\u001b[0m\n\u001b[0;32m----> 1\u001b[0m poly_filter \u001b[38;5;241m=\u001b[39m filter_by_entropy(\u001b[43mpoly_dict\u001b[49m, \u001b[38;5;241m.2\u001b[39m)\n",
      "\u001b[0;31mNameError\u001b[0m: name 'poly_dict' is not defined"
     ]
    }
   ],
   "source": [
    "poly_filter = filter_by_entropy(poly_dict, .2)"
   ]
  },
  {
   "cell_type": "code",
   "execution_count": 4,
   "id": "65ac6741-5594-40ed-8231-9dd11374b9e6",
   "metadata": {},
   "outputs": [],
   "source": [
    "#dict_to_fasta(poly_filter, write_file=\"/data/luojaa/polvir/muscle5/poly.entropyfilt.muscle\")"
   ]
  },
  {
   "cell_type": "markdown",
   "id": "ae02862e-445c-405f-8cfc-12d3b3a38e49",
   "metadata": {},
   "source": [
    "## reroot fasttree and get representative clade"
   ]
  },
  {
   "cell_type": "code",
   "execution_count": 4,
   "id": "4a413c8d-7f9c-4486-b33b-30c74ad288a1",
   "metadata": {},
   "outputs": [
    {
     "data": {
      "text/plain": [
       "'/data/luojaa/polvir/alignments/icarus_cropped/icarus_380.msucle_diversified_10.entropy_filt.fasta.treefile'"
      ]
     },
     "execution_count": 4,
     "metadata": {},
     "output_type": "execute_result"
    }
   ],
   "source": [
    "f\"/data/luojaa/polvir/alignments/{croppath}.{alignment}.entropy_filt.fasta.treefile\""
   ]
  },
  {
   "cell_type": "code",
   "execution_count": 7,
   "id": "a87993fc-8a9c-4927-bdb8-4dc78cabe3ed",
   "metadata": {},
   "outputs": [
    {
     "data": {
      "text/plain": [
       "'/data/luojaa/polvir/alignments/uncropped/poly_380.msucle_diversified_10.entropy_filt.fasta.treefile'"
      ]
     },
     "execution_count": 7,
     "metadata": {},
     "output_type": "execute_result"
    }
   ],
   "source": [
    "f\"/data/luojaa/polvir/alignments/{croppath}.{alignment}.entropy_filt.fasta.treefile\""
   ]
  },
  {
   "cell_type": "code",
   "execution_count": 8,
   "id": "eb96175f-516c-423d-8572-3341acf2a905",
   "metadata": {},
   "outputs": [],
   "source": [
    "import ete3\n",
    "from ete3 import Tree, TreeStyle, TextFace\n",
    "from core_functions.microcosm_functions import color_tree\n",
    "from core_functions.tree_functions import weighted_midpoint_root\n",
    "for a in [\"clustalo\", \"famsa\", \"mafft_linsi\", \"muscle_diversified_10\", \"muscle3D\", \"usalign\"]:\n",
    "    alignment = a\n",
    "    croppath = \"uncropped/poly_380\"\n",
    "    tree = Tree(f\"/data/luojaa/polvir/alignments/{croppath}.{alignment}.entropy_filt.fasta.treefile\")\n",
    "    tree_rerooted = weighted_midpoint_root(tree)\n",
    "    tree_rerooted.ladderize()\n",
    "    tree_rerooted.write(format=1, outfile=f\"/data/luojaa/polvir/processing/{alignment}.uncropped_rerooted.treefile\")\n"
   ]
  },
  {
   "cell_type": "code",
   "execution_count": null,
   "id": "99e307b6-cd57-4737-b87d-83344ac3b06e",
   "metadata": {},
   "outputs": [],
   "source": [
    "for a in [\"clustalo\", \"famsa\", \"mafft_linsi\", \"muscle3D\"]:\n",
    "    alignment = a\n",
    "    croppath = \"icarus_cropped/icarus_380\"\n",
    "    tree = Tree(f\"/data/luojaa/polvir/alignments/{croppath}.{alignment}.entropy_filt.fasta.treefile\")\n",
    "    tree_rerooted = weighted_midpoint_root(tree)\n",
    "    tree_rerooted.ladderize()\n",
    "    tree_rerooted.write(format=1, outfile=f\"/data/luojaa/polvir/processing/{alignment}.icarus_rerooted.treefile\")\n"
   ]
  },
  {
   "cell_type": "code",
   "execution_count": null,
   "id": "0cbf7886-4ba1-4a30-a3bf-baf27d13e232",
   "metadata": {},
   "outputs": [],
   "source": [
    "tree_rerooted.show()"
   ]
  },
  {
   "cell_type": "code",
   "execution_count": 9,
   "id": "95e53be5-1a20-4619-81ef-bab6e2c2fa29",
   "metadata": {},
   "outputs": [
    {
     "data": {
      "text/plain": [
       "[Tree node '' (0x155519fe4a4), Tree node '' (0x155519fe48c)]"
      ]
     },
     "execution_count": 9,
     "metadata": {},
     "output_type": "execute_result"
    }
   ],
   "source": [
    "ref_node = tree_rerooted.children\n",
    "ref_node"
   ]
  },
  {
   "cell_type": "code",
   "execution_count": 18,
   "id": "73978393-5e44-426b-9e3b-a213a409c4a1",
   "metadata": {},
   "outputs": [],
   "source": [
    "ref_node = tree_rerooted.children[0].children[0]\n",
    "ref_leaves = ref_node.get_leaves()\n",
    "ref_clade = []\n",
    "for leaf in ref_leaves:\n",
    "    ref_clade.append(leaf.name)"
   ]
  },
  {
   "cell_type": "markdown",
   "id": "f82a86d8-1006-499b-8593-003dc71fab5e",
   "metadata": {},
   "source": [
    "## copy ref clade member structures over for usalign"
   ]
  },
  {
   "cell_type": "code",
   "execution_count": 83,
   "id": "0a9c0c11-dbb7-4caf-b4d2-e5cbc919d8ab",
   "metadata": {},
   "outputs": [],
   "source": [
    "import os\n",
    "import shutil\n",
    "\n",
    "source_dir = '/data/luojaa/polvir/af2_structures/'\n",
    "dest_dir = '/data/luojaa/polvir/af2_refclade/'\n",
    "\n",
    "for filename in os.listdir(source_dir):\n",
    "    # remove file extension\n",
    "    file_basename = \".\".join(filename.split(\".\")[:-1])\n",
    "    if any(file_basename in targetstr for targetstr in ref_clade):\n",
    "        source_file = os.path.join(source_dir, filename)\n",
    "        dest_file = os.path.join(dest_dir, filename)\n",
    "        \n",
    "        # Copy the file\n",
    "        #shutil.copy2(source_file, dest_file)"
   ]
  },
  {
   "cell_type": "markdown",
   "id": "1f22f975-1d87-484f-a05b-fae0661b369e",
   "metadata": {},
   "source": [
    "## entropy filter usalign refclade"
   ]
  },
  {
   "cell_type": "code",
   "execution_count": 6,
   "id": "a76b30a8-695d-4c5f-8ea6-36c111c776e9",
   "metadata": {},
   "outputs": [],
   "source": [
    "usalign = \"/data/luojaa/polvir/USalignDB/repclade.usalign_clean.fasta\"\n",
    "usalign_dict = fasta_to_dict(file = usalign)\n",
    "usalign_filter = filter_by_entropy(usalign_dict, .2)\n",
    "#dict_to_fasta(usalign_filter, write_file=\"/data/luojaa/polvir/USalignDB/repclade.usalign_clean.entropyfilt.fasta\")"
   ]
  },
  {
   "cell_type": "code",
   "execution_count": null,
   "id": "e253b07f-704f-46a7-b904-47c3be57a6c9",
   "metadata": {},
   "outputs": [],
   "source": []
  }
 ],
 "metadata": {
  "kernelspec": {
   "display_name": "default",
   "language": "python",
   "name": "default"
  },
  "language_info": {
   "codemirror_mode": {
    "name": "ipython",
    "version": 3
   },
   "file_extension": ".py",
   "mimetype": "text/x-python",
   "name": "python",
   "nbconvert_exporter": "python",
   "pygments_lexer": "ipython3",
   "version": "3.12.2"
  }
 },
 "nbformat": 4,
 "nbformat_minor": 5
}
