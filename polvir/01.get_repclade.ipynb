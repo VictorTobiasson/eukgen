{
 "cells": [
  {
   "cell_type": "code",
   "execution_count": 1,
   "id": "b7fc01d7-3dd9-4ae4-9a2c-65cdb6350650",
   "metadata": {},
   "outputs": [],
   "source": [
    "import os\n",
    "import sys\n",
    "module_path = \"/data/luojaa/eukgen/\"\n",
    "sys.path.append(module_path)\n",
    "from core_functions.helper_functions import fasta_to_dict, dict_to_fasta, filter_by_entropy "
   ]
  },
  {
   "cell_type": "markdown",
   "id": "85009897-a323-4aa5-9741-772ead2bac7c",
   "metadata": {},
   "source": [
    "## entropy filter for fasttree"
   ]
  },
  {
   "cell_type": "code",
   "execution_count": 2,
   "id": "ebb13625-8707-49ac-86ce-a5c8f436460e",
   "metadata": {},
   "outputs": [],
   "source": [
    "poly = \"/data/luojaa/polvir/muscle5/poly.diversified_10.muscle\"\n",
    "poly_dict = fasta_to_dict(file = poly)"
   ]
  },
  {
   "cell_type": "code",
   "execution_count": 3,
   "id": "07a7f999-b0b2-41be-962d-16571273e16f",
   "metadata": {},
   "outputs": [],
   "source": [
    "poly_filter = filter_by_entropy(poly_dict, .2)"
   ]
  },
  {
   "cell_type": "code",
   "execution_count": 4,
   "id": "65ac6741-5594-40ed-8231-9dd11374b9e6",
   "metadata": {},
   "outputs": [],
   "source": [
    "#dict_to_fasta(poly_filter, write_file=\"/data/luojaa/polvir/muscle5/poly.entropyfilt.muscle\")"
   ]
  },
  {
   "cell_type": "markdown",
   "id": "ae02862e-445c-405f-8cfc-12d3b3a38e49",
   "metadata": {},
   "source": [
    "## reroot fasttree and get representative clade"
   ]
  },
  {
   "cell_type": "code",
   "execution_count": 5,
   "id": "eb96175f-516c-423d-8572-3341acf2a905",
   "metadata": {},
   "outputs": [],
   "source": [
    "import ete3\n",
    "from ete3 import Tree, TreeStyle, TextFace\n",
    "from core_functions.microcosm_functions import color_tree\n",
    "from core_functions.tree_functions import weighted_midpoint_root\n",
    "tree = Tree(\"/data/luojaa/polvir/muscle5/poly.fasttree\")\n",
    "tree_rerooted = weighted_midpoint_root(tree)\n"
   ]
  },
  {
   "cell_type": "code",
   "execution_count": 6,
   "id": "95e53be5-1a20-4619-81ef-bab6e2c2fa29",
   "metadata": {},
   "outputs": [
    {
     "data": {
      "text/plain": [
       "[Tree node '' (0x15551bd67aa), Tree node '' (0x15551bd668a)]"
      ]
     },
     "execution_count": 6,
     "metadata": {},
     "output_type": "execute_result"
    }
   ],
   "source": [
    "ref_node = tree_rerooted.children\n",
    "ref_node"
   ]
  },
  {
   "cell_type": "code",
   "execution_count": 18,
   "id": "73978393-5e44-426b-9e3b-a213a409c4a1",
   "metadata": {},
   "outputs": [],
   "source": [
    "ref_node = tree_rerooted.children[0].children[0]\n",
    "ref_leaves = ref_node.get_leaves()\n",
    "ref_clade = []\n",
    "for leaf in ref_leaves:\n",
    "    ref_clade.append(leaf.name)"
   ]
  },
  {
   "cell_type": "markdown",
   "id": "f82a86d8-1006-499b-8593-003dc71fab5e",
   "metadata": {},
   "source": [
    "## copy ref clade member structures over for usalign"
   ]
  },
  {
   "cell_type": "code",
   "execution_count": 83,
   "id": "0a9c0c11-dbb7-4caf-b4d2-e5cbc919d8ab",
   "metadata": {},
   "outputs": [],
   "source": [
    "import os\n",
    "import shutil\n",
    "\n",
    "source_dir = '/data/luojaa/polvir/af2_structures/'\n",
    "dest_dir = '/data/luojaa/polvir/af2_refclade/'\n",
    "\n",
    "for filename in os.listdir(source_dir):\n",
    "    # remove file extension\n",
    "    file_basename = \".\".join(filename.split(\".\")[:-1])\n",
    "    if any(file_basename in targetstr for targetstr in ref_clade):\n",
    "        source_file = os.path.join(source_dir, filename)\n",
    "        dest_file = os.path.join(dest_dir, filename)\n",
    "        \n",
    "        # Copy the file\n",
    "        #shutil.copy2(source_file, dest_file)"
   ]
  },
  {
   "cell_type": "markdown",
   "id": "1f22f975-1d87-484f-a05b-fae0661b369e",
   "metadata": {},
   "source": [
    "## entropy filter usalign refclade"
   ]
  },
  {
   "cell_type": "code",
   "execution_count": 6,
   "id": "a76b30a8-695d-4c5f-8ea6-36c111c776e9",
   "metadata": {},
   "outputs": [],
   "source": [
    "usalign = \"/data/luojaa/polvir/USalignDB/repclade.usalign_clean.fasta\"\n",
    "usalign_dict = fasta_to_dict(file = usalign)\n",
    "usalign_filter = filter_by_entropy(usalign_dict, .2)\n",
    "#dict_to_fasta(usalign_filter, write_file=\"/data/luojaa/polvir/USalignDB/repclade.usalign_clean.entropyfilt.fasta\")"
   ]
  },
  {
   "cell_type": "code",
   "execution_count": null,
   "id": "e253b07f-704f-46a7-b904-47c3be57a6c9",
   "metadata": {},
   "outputs": [],
   "source": []
  }
 ],
 "metadata": {
  "kernelspec": {
   "display_name": "default",
   "language": "python",
   "name": "default"
  },
  "language_info": {
   "codemirror_mode": {
    "name": "ipython",
    "version": 3
   },
   "file_extension": ".py",
   "mimetype": "text/x-python",
   "name": "python",
   "nbconvert_exporter": "python",
   "pygments_lexer": "ipython3",
   "version": "3.12.2"
  }
 },
 "nbformat": 4,
 "nbformat_minor": 5
}
