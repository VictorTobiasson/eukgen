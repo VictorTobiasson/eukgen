{
 "cells": [
  {
   "cell_type": "code",
   "execution_count": 11,
   "id": "847292c0-bc39-478b-ba53-06bc912b05a0",
   "metadata": {
    "tags": []
   },
   "outputs": [],
   "source": [
    "import os\n",
    "import sys\n",
    "module_path = \"/data/luojaa/eukgen/\"\n",
    "if module_path not in sys.path:\n",
    "    sys.path.append(module_path)"
   ]
  },
  {
   "cell_type": "code",
   "execution_count": 12,
   "id": "ed4c465c-a177-42fe-8f59-878ddc7a5cbe",
   "metadata": {
    "tags": []
   },
   "outputs": [],
   "source": [
    "microcosm_dir = \"/data/luojaa/eukgen/processing/microcosm_dl_final/\"\n",
    "EC_KOGs = os.listdir(microcosm_dir)"
   ]
  },
  {
   "cell_type": "code",
   "execution_count": 13,
   "id": "c81be982-3b2c-451a-9522-12a453145d16",
   "metadata": {
    "tags": []
   },
   "outputs": [],
   "source": [
    "swarmfile = \"/data/luojaa/eukgen/processing/run_microcosm_dl_final.swarm\""
   ]
  },
  {
   "cell_type": "code",
   "execution_count": 14,
   "id": "65d4cfef-a127-4e6f-a9f0-953980b375d6",
   "metadata": {
    "tags": []
   },
   "outputs": [],
   "source": [
    "with open(swarmfile, \"w\") as outfile:\n",
    "    for ec_kog in EC_KOGs:\n",
    "        cmd = f\"source myconda; python -u /vf/users/luojaa/eukgen/microcosm_analysis.py --file_root /vf/users/luojaa/eukgen/processing/microcosm_dl_final/{ec_kog}/ --file_basename {ec_kog} --threads 8 --delete_intermediate_files\"\n",
    "        print(cmd, file=outfile)"
   ]
  },
  {
   "cell_type": "code",
   "execution_count": null,
   "id": "895fd311-ccac-44c4-be13-424bcc1dd6fb",
   "metadata": {},
   "outputs": [],
   "source": []
  }
 ],
 "metadata": {
  "kernelspec": {
   "display_name": "default",
   "language": "python",
   "name": "default"
  },
  "language_info": {
   "codemirror_mode": {
    "name": "ipython",
    "version": 3
   },
   "file_extension": ".py",
   "mimetype": "text/x-python",
   "name": "python",
   "nbconvert_exporter": "python",
   "pygments_lexer": "ipython3",
   "version": "3.12.2"
  }
 },
 "nbformat": 4,
 "nbformat_minor": 5
}
