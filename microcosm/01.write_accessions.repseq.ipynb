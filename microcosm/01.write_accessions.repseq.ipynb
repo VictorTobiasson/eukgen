{
 "cells": [
  {
   "cell_type": "code",
   "execution_count": 2,
   "id": "3aba89b7-b49f-4d19-87fe-94288e1bc72a",
   "metadata": {
    "tags": []
   },
   "outputs": [],
   "source": [
    "import pandas as pd\n",
    "import os"
   ]
  },
  {
   "cell_type": "code",
   "execution_count": 20,
   "id": "1a3e3c44-23ef-4033-ba8c-0cbfacd393aa",
   "metadata": {
    "tags": []
   },
   "outputs": [],
   "source": [
    "repseq_df = pd.read_csv(\"repseq.microcosms.tmp.tsv\", sep = \"\\t\")\n",
    "accessions_df = repseq_df.loc[:,[\"Query\", \"EC\", \"domain\"]]\n",
    "accessions_df[\"ISEUK\"] = accessions_df[\"domain\"].str.contains(\"euk\")\n",
    "\n",
    "prok_annot = pd.read_csv(\"prok_annot_hmm.permissive.repseq.tsv\", sep = \"\\t\")\n",
    "euk_annot = pd.read_csv(\"euk_annot_hmm.permissive.repseq.tsv\", sep = \"\\t\")\n",
    "kog_labels = pd.concat([prok_annot, euk_annot])"
   ]
  },
  {
   "cell_type": "code",
   "execution_count": 50,
   "id": "b4cf6035-dc9a-4846-a81a-de6f5f926421",
   "metadata": {},
   "outputs": [],
   "source": [
    "ec_koginfo = pd.read_csv(\"/data/luojaa/kegg_stats/KOG_merged.tsv\", sep = \"\\t\")\n",
    "ec_koginfo[\"EC_single\"] = ec_koginfo[\"EC\"].apply(lambda x: x.split(\"|\"))\n",
    "ec_koginfo = ec_koginfo.explode(\"EC_single\")\n",
    "ec_2kog = ec_koginfo[ec_koginfo.EC_single != \"none\" ].loc[:,[\"kogid\", \"name\", \"EC_single\"]]\n",
    "ec_2kogs = ec_2kog.groupby(\"EC_single\")[\"kogid\"].apply(lambda x: \"|\".join(set(x))).reset_index().rename(columns={\"EC_single\":\"EC\",\"kogid\":\"KOGS\"})\n",
    "# drop incomplete ec numbers\n",
    "ec_2kogs = ec_2kogs[~ec_2kogs.EC.str.contains(\"-\")]\n",
    "ec_2kog_dict = ec_2kogs.set_index(\"EC\").to_dict()[\"KOGS\"]\n",
    "ec_2kog_dict[\"3.6.4.12\"] = ec_2kog_dict[\"5.6.2.3\"]\n",
    "def skip_ec(ec):\n",
    "    try:\n",
    "        return ec_2kog_dict[ec]\n",
    "    except:\n",
    "        return \"None\""
   ]
  },
  {
   "cell_type": "code",
   "execution_count": 51,
   "id": "f9525cca-fc39-4212-af83-81f1154dec7d",
   "metadata": {},
   "outputs": [],
   "source": [
    "accessions_df[\"KOGS\"] = accessions_df.EC.apply(lambda x: skip_ec(x))\n"
   ]
  },
  {
   "cell_type": "code",
   "execution_count": 66,
   "id": "5099dc8d-4768-46f7-afa7-4fda2f75c02d",
   "metadata": {},
   "outputs": [],
   "source": [
    "accessions_df = accessions_df.set_index(\"Query\")\n",
    "kog_labels = kog_labels.set_index(\"Query\")"
   ]
  },
  {
   "cell_type": "code",
   "execution_count": 68,
   "id": "922679fb-c27c-4206-9ca5-23766a03cc2e",
   "metadata": {},
   "outputs": [],
   "source": [
    "accessions_df_eckog = pd.merge(accessions_df, kog_labels, left_index = True, right_index = True, how = \"left\")\n",
    "accessions_df_eckog = accessions_df_eckog.fillna(\"None\")"
   ]
  },
  {
   "cell_type": "code",
   "execution_count": 87,
   "id": "84e16496-ffec-449e-900d-db596091e883",
   "metadata": {},
   "outputs": [],
   "source": [
    "def top_kog(s1, s2):\n",
    "    rv = []\n",
    "    l1, l2 = list(s1), list(s2)\n",
    "    for i in range(len(s1)):\n",
    "        # to do - in future, if DL/UC 1:1 is not priority, allow l1 = None for 'discovery' of new microcosms\n",
    "        if (l1[i] == \"None\") or (l2[i] == \"None\"):\n",
    "            rv.append(\"None\")\n",
    "        else:\n",
    "            k = \"None\"\n",
    "            for kog in l2[i].split(\"|\"):\n",
    "                if kog in l1[i].split(\"|\"):\n",
    "                    k = kog\n",
    "                    break\n",
    "            rv.append(k)\n",
    "    return rv\n",
    "                "
   ]
  },
  {
   "cell_type": "code",
   "execution_count": 117,
   "id": "1e7c185d-f4b6-4de4-be47-df8c7cc2d819",
   "metadata": {},
   "outputs": [],
   "source": [
    "top_kogs = top_kog(accessions_df_eckog.KOGS, accessions_df_eckog.KOG)\n",
    "accessions_df_eckog[\"KOG_microcosm\"] = top_kogs\n",
    "accessions_df_eckog[\"EC_KOG\"] = accessions_df_eckog.EC + \"_\" + accessions_df_eckog.KOG_microcosm\n",
    "accessions_df_eckog = accessions_df_eckog.reset_index()"
   ]
  },
  {
   "cell_type": "code",
   "execution_count": 118,
   "id": "cb1d225b-fb9e-4b6d-af65-bdec11e66b49",
   "metadata": {
    "tags": []
   },
   "outputs": [],
   "source": [
    "acc_counts = accessions_df_eckog.groupby([\"EC_KOG\", \"ISEUK\"])[\"Query\"].count().reset_index()\n",
    "# filter out small clades\n",
    "acc_counts_filtered = acc_counts[((acc_counts[\"ISEUK\"] == True) & (acc_counts[\"Query\"] > 5)) | (\n",
    "                                    (acc_counts[\"ISEUK\"] == False) & (acc_counts[\"Query\"] > 3))]\n",
    "# require both euk and prok clades of proper size\n",
    "ec_bothdom = acc_counts_filtered.groupby(\"EC_KOG\")[\"ISEUK\"].apply(lambda x:len(x.unique()) == 2)\n",
    "ec_bothdom_list = list(ec_bothdom[ec_bothdom].index)\n",
    "accessions_df_rel = accessions_df_eckog[accessions_df_eckog[\"EC_KOG\"].isin(ec_bothdom_list)]"
   ]
  },
  {
   "cell_type": "code",
   "execution_count": 120,
   "id": "6ed20f06-c13b-4f69-b228-0da915227733",
   "metadata": {
    "tags": []
   },
   "outputs": [],
   "source": [
    "accessions_outdf = accessions_df_rel.groupby([\"EC_KOG\", \"ISEUK\"])[\"Query\"].apply(lambda x: \"\\n\".join(x)).reset_index()"
   ]
  },
  {
   "cell_type": "code",
   "execution_count": 124,
   "id": "c2a2df2e-c881-4416-97ed-6473bb687ccb",
   "metadata": {
    "tags": []
   },
   "outputs": [],
   "source": [
    "ecs = list(accessions_outdf[\"EC_KOG\"])\n",
    "iseuks = list(accessions_outdf[\"ISEUK\"])\n",
    "uids = list(accessions_outdf[\"Query\"])"
   ]
  },
  {
   "cell_type": "code",
   "execution_count": 126,
   "id": "ab665b75-1a6a-4692-9417-c824559b69a3",
   "metadata": {},
   "outputs": [],
   "source": [
    "outpathroot = \"/data/luojaa/eukgen/processing/microcosm_dl_minHGT/\"\n",
    "for i in range(len(accessions_outdf)):\n",
    "    ec, iseuk, uid = ecs[i], iseuks[i], uids[i]\n",
    "    if not iseuk:\n",
    "        os.system(f\"mkdir {outpathroot}{ec}\")\n",
    "        outpath = f\"{outpathroot}{ec}/{ec}.target.acc\"\n",
    "        with open(outpath, \"w\") as outfile:\n",
    "            print(uid, file=outfile)\n",
    "    else:\n",
    "        outpath = f\"{outpathroot}{ec}/{ec}.query.acc\"\n",
    "        with open(outpath, \"w\") as outfile:\n",
    "            print(uid, file=outfile)"
   ]
  }
 ],
 "metadata": {
  "kernelspec": {
   "display_name": "default",
   "language": "python",
   "name": "default"
  },
  "language_info": {
   "codemirror_mode": {
    "name": "ipython",
    "version": 3
   },
   "file_extension": ".py",
   "mimetype": "text/x-python",
   "name": "python",
   "nbconvert_exporter": "python",
   "pygments_lexer": "ipython3",
   "version": "3.12.2"
  }
 },
 "nbformat": 4,
 "nbformat_minor": 5
}
