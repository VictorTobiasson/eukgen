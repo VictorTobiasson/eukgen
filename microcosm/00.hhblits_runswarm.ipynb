{
 "cells": [
  {
   "cell_type": "code",
   "execution_count": 1,
   "id": "a9535a28-5d97-405f-9118-f3847dd99ab8",
   "metadata": {
    "tags": []
   },
   "outputs": [],
   "source": [
    "import os\n",
    "import sys\n",
    "module_path = \"/data/luojaa/eukgen/\"\n",
    "if module_path not in sys.path:\n",
    "    sys.path.append(module_path)"
   ]
  },
  {
   "cell_type": "code",
   "execution_count": 2,
   "id": "b5c729e3-2860-42fd-8c0d-3a0d00529ab9",
   "metadata": {
    "tags": []
   },
   "outputs": [],
   "source": [
    "from core_functions.hhsuite_functions import hhsuite_swarm_search"
   ]
  },
  {
   "cell_type": "code",
   "execution_count": 3,
   "id": "addadfe9-99e2-4c29-bfdb-5716d80a9bb2",
   "metadata": {
    "tags": []
   },
   "outputs": [],
   "source": [
    "from paths_and_parameters import hhblits_swarm_opts"
   ]
  },
  {
   "cell_type": "code",
   "execution_count": 4,
   "id": "01cff807-5233-4f0f-b330-53b0cabc7ef5",
   "metadata": {
    "tags": []
   },
   "outputs": [],
   "source": [
    "from paths_and_parameters import hhblits_search_opts"
   ]
  },
  {
   "cell_type": "code",
   "execution_count": null,
   "id": "4c768ca7-1bc9-436a-b743-1cdcb3892932",
   "metadata": {},
   "outputs": [],
   "source": []
  },
  {
   "cell_type": "code",
   "execution_count": 7,
   "id": "72818f51-e91c-4f55-b896-390c47830094",
   "metadata": {
    "tags": []
   },
   "outputs": [],
   "source": [
    "#queryDB =  \"/data/luojaa/kegg_db/query_seq/euk72_ep.repseq\"\n",
    "queryDB =  \"/data/luojaa/kegg_db/query_seq/prok2111_as.repseq\"\n",
    "targetDB = \"/data/luojaa/kegg_db/keggdb_both/kegg_all\"\n",
    "#output_root = \"/data/luojaa/kegg_db/search_eukseq_vsboth/\" \n",
    "output_root = \"/data/luojaa/kegg_db/search_prokseq_vsboth/\" \n",
    "threads = 8\n",
    "splits = 1000\n",
    "swarm_opts = hhblits_swarm_opts"
   ]
  },
  {
   "cell_type": "code",
   "execution_count": null,
   "id": "c9f52790-f590-4a9d-839a-228439eb7486",
   "metadata": {
    "tags": []
   },
   "outputs": [
    {
     "name": "stdout",
     "output_type": "stream",
     "text": [
      "Swarm: 24892411 Submitted\n",
      "Swarm: 24892411 | 2024-04-23 19:24:28\n",
      "1              PENDING\n",
      "Swarm: 24892411 | 2024-04-23 19:25:28\n",
      "1              PENDING\n",
      "Swarm: 24892411 | 2024-04-23 19:26:28\n",
      "1              PENDING\n",
      "Swarm: 24892411 | 2024-04-23 19:27:28\n",
      "1              PENDING\n"
     ]
    }
   ],
   "source": [
    "hhsuite_swarm_search(queryDB, targetDB, output_root, splits, swarm_opts, threads=8, search_opts = hhblits_search_opts)"
   ]
  },
  {
   "cell_type": "code",
   "execution_count": null,
   "id": "f3e2ec0a-74dd-4c68-88fb-abcc46c21815",
   "metadata": {},
   "outputs": [],
   "source": []
  }
 ],
 "metadata": {
  "kernelspec": {
   "display_name": "default",
   "language": "python",
   "name": "default"
  },
  "language_info": {
   "codemirror_mode": {
    "name": "ipython",
    "version": 3
   },
   "file_extension": ".py",
   "mimetype": "text/x-python",
   "name": "python",
   "nbconvert_exporter": "python",
   "pygments_lexer": "ipython3",
   "version": "3.12.2"
  }
 },
 "nbformat": 4,
 "nbformat_minor": 5
}
