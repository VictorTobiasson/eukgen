{
 "cells": [
  {
   "cell_type": "code",
   "execution_count": 48,
   "id": "b16b6602-3b83-44f7-8999-c38c6c3bc09c",
   "metadata": {
    "tags": []
   },
   "outputs": [],
   "source": [
    "import ete3\n",
    "import pandas as pd\n",
    "import numpy as np"
   ]
  },
  {
   "cell_type": "code",
   "execution_count": 19,
   "id": "3e359b07-e00a-4784-8c18-54c6e275418c",
   "metadata": {
    "tags": []
   },
   "outputs": [],
   "source": [
    "ncbi = ete3.NCBITaxa()"
   ]
  },
  {
   "cell_type": "code",
   "execution_count": 3,
   "id": "e94d613d-726e-446d-a7df-f41186432613",
   "metadata": {
    "tags": []
   },
   "outputs": [],
   "source": [
    "uid_taxid = \"/data/luojaa/uid_stats/uid2taxids.combined.tsv\""
   ]
  },
  {
   "cell_type": "code",
   "execution_count": 4,
   "id": "fa6def7a-4047-4ca2-a1df-efecca757d99",
   "metadata": {
    "tags": []
   },
   "outputs": [],
   "source": [
    "\n",
    "taxid_df = pd.read_csv(uid_taxid, sep=\"\\t\", header = None).rename(columns = {0:\"UID\", 1:\"taxid\"})\n",
    "taxids = taxid_df[\"taxid\"]\n",
    "lineages = ncbi.get_lineage_translator(taxids)\n"
   ]
  },
  {
   "cell_type": "code",
   "execution_count": 15,
   "id": "f6e4b518-9e48-4765-970d-50b31f29be4f",
   "metadata": {
    "tags": []
   },
   "outputs": [],
   "source": [
    "# # copy pasted taxid_tmp from google sheet\n",
    "# taxid_edges = [int(i) for i in taxid_tmp]\n",
    "# names_tmp = ncbi.get_taxid_translator(taxid_edges)\n",
    "# for taxid in taxid_edges:\n",
    "#     print(names_tmp[taxid])"
   ]
  },
  {
   "cell_type": "code",
   "execution_count": 16,
   "id": "08ab4f4b-ab45-422e-971f-ce28f5652402",
   "metadata": {
    "tags": []
   },
   "outputs": [],
   "source": []
  },
  {
   "cell_type": "code",
   "execution_count": 81,
   "id": "f30920a8-c11c-4e60-a741-1dd693a24fb1",
   "metadata": {
    "tags": []
   },
   "outputs": [],
   "source": [
    "def get_superkingdom(uid):\n",
    "    try:\n",
    "        lineage = lineages[uid]\n",
    "    except:\n",
    "        try:\n",
    "            lineage = ncbi.get_lineage(uid)\n",
    "        except ValueError:\n",
    "            print(f\"uid {uid} was not found nor translated\")\n",
    "            return np.nan\n",
    "    if 2 in lineage:\n",
    "        return \"Bacteria\"\n",
    "    elif 2759 in lineage:\n",
    "        return \"Eukaryota\"\n",
    "    elif 2157 in lineage:\n",
    "        return \"Archaea\"\n",
    "    elif 10239 in lineage:\n",
    "        return \"Viruses\"\n",
    "    else:\n",
    "        print(f\"uid {uid} was not mapped\")"
   ]
  },
  {
   "cell_type": "code",
   "execution_count": null,
   "id": "be667136-7f39-43ca-90a9-217661dbc252",
   "metadata": {},
   "outputs": [],
   "source": [
    "superkingdoms = taxid_df[\"taxid\"].apply(get_superkingdom)\n",
    "taxid_df[\"superkingdom\"] = superkingdoms\n",
    "taxid_df.fillna(\"None\")"
   ]
  },
  {
   "cell_type": "code",
   "execution_count": null,
   "id": "a4aab757-df7e-496f-afac-e17df8262c7e",
   "metadata": {},
   "outputs": [],
   "source": []
  },
  {
   "cell_type": "code",
   "execution_count": 108,
   "id": "2c1e2b37-758c-40c8-87c4-98c7907ca948",
   "metadata": {
    "tags": []
   },
   "outputs": [],
   "source": [
    "def rank_to_lineage(lineage2rank):\n",
    "    return dict((rank, taxid) for (taxid, rank) in lineage2rank.items())"
   ]
  },
  {
   "cell_type": "code",
   "execution_count": null,
   "id": "9e3d61a1-0c6f-47c2-b338-b2b6a80ba166",
   "metadata": {},
   "outputs": [],
   "source": [
    "uid2_rank2lineage = {}\n",
    "for uid in list(set(taxids)):\n",
    "    try:\n",
    "        lineage = lineages[uid]\n",
    "    except:\n",
    "        try:\n",
    "            lineage = ncbi.get_lineage(uid)\n",
    "        except ValueError:\n",
    "            print(f\"uid {uid} was not found nor translated\")\n",
    "            continue\n",
    "    lineage2rank = ncbi.get_rank(lineage)\n",
    "    rank2lineage = rank_to_lineage(lineage2rank)\n",
    "    uid2_rank2lineage[uid] = rank2lineage"
   ]
  },
  {
   "cell_type": "code",
   "execution_count": 241,
   "id": "64ce2269-4922-4637-8cf1-b9dc237bf54f",
   "metadata": {
    "tags": []
   },
   "outputs": [],
   "source": [
    "uids_nokingdom = list(set(taxid_df[taxid_df[\"superkingdom\"] == \"None\"][\"taxid\"]))\n",
    "uids_viruses= list(set(taxid_df[taxid_df[\"superkingdom\"] == \"Viruses\"][\"taxid\"]))"
   ]
  },
  {
   "cell_type": "code",
   "execution_count": null,
   "id": "d9ed3ae7-bd69-4ff8-b1a6-ffd0643a6bef",
   "metadata": {},
   "outputs": [],
   "source": []
  },
  {
   "cell_type": "code",
   "execution_count": 312,
   "id": "7334fa5e-7378-49e4-aaa6-06aa1f7fc955",
   "metadata": {
    "tags": []
   },
   "outputs": [
    {
     "data": {
      "text/html": [
       "<div>\n",
       "<style scoped>\n",
       "    .dataframe tbody tr th:only-of-type {\n",
       "        vertical-align: middle;\n",
       "    }\n",
       "\n",
       "    .dataframe tbody tr th {\n",
       "        vertical-align: top;\n",
       "    }\n",
       "\n",
       "    .dataframe thead th {\n",
       "        text-align: right;\n",
       "    }\n",
       "</style>\n",
       "<table border=\"1\" class=\"dataframe\">\n",
       "  <thead>\n",
       "    <tr style=\"text-align: right;\">\n",
       "      <th></th>\n",
       "      <th>taxid</th>\n",
       "      <th>org name</th>\n",
       "      <th>Proposed class label</th>\n",
       "    </tr>\n",
       "  </thead>\n",
       "  <tbody>\n",
       "    <tr>\n",
       "      <th>0</th>\n",
       "      <td>1238993</td>\n",
       "      <td>Mycoplasmoides pneumoniae M129-B7</td>\n",
       "      <td>Mycoplasmatota</td>\n",
       "    </tr>\n",
       "    <tr>\n",
       "      <th>1</th>\n",
       "      <td>1637999</td>\n",
       "      <td>Verrucomicrobia bacterium IMCC26134</td>\n",
       "      <td>Verrucomicrobiae</td>\n",
       "    </tr>\n",
       "    <tr>\n",
       "      <th>2</th>\n",
       "      <td>1779382</td>\n",
       "      <td>Rhodothermaceae bacterium RA</td>\n",
       "      <td>Rhodothermota</td>\n",
       "    </tr>\n",
       "    <tr>\n",
       "      <th>3</th>\n",
       "      <td>1540872</td>\n",
       "      <td>Candidatus Gracilibacteria bacterium HOT-871</td>\n",
       "      <td>incertae sedis</td>\n",
       "    </tr>\n",
       "    <tr>\n",
       "      <th>4</th>\n",
       "      <td>1911684</td>\n",
       "      <td>Tenericutes bacterium MO-XQ</td>\n",
       "      <td>Mycoplasmatota</td>\n",
       "    </tr>\n",
       "    <tr>\n",
       "      <th>...</th>\n",
       "      <td>...</td>\n",
       "      <td>...</td>\n",
       "      <td>...</td>\n",
       "    </tr>\n",
       "    <tr>\n",
       "      <th>263</th>\n",
       "      <td>1178016</td>\n",
       "      <td>1,2759,4751,6029,6032,6033,33154,36734,112252,...</td>\n",
       "      <td>Microsporidia</td>\n",
       "    </tr>\n",
       "    <tr>\n",
       "      <th>264</th>\n",
       "      <td>1538547</td>\n",
       "      <td>1,2157,131567,1538547,1655434,1655637,1935183,...</td>\n",
       "      <td>Asgard</td>\n",
       "    </tr>\n",
       "    <tr>\n",
       "      <th>265</th>\n",
       "      <td>1899017</td>\n",
       "      <td>1,2,131567,1783272,1798710,1798711,1897007,189...</td>\n",
       "      <td>incertae sedis</td>\n",
       "    </tr>\n",
       "    <tr>\n",
       "      <th>266</th>\n",
       "      <td>2259672</td>\n",
       "      <td>1,2157,131567,651137,651142,1783275,1825023,22...</td>\n",
       "      <td>Nitrososphaeria</td>\n",
       "    </tr>\n",
       "    <tr>\n",
       "      <th>267</th>\n",
       "      <td>294381</td>\n",
       "      <td>1,2759,5758,5759,33084,131567,294381,554915,55...</td>\n",
       "      <td>Evosea</td>\n",
       "    </tr>\n",
       "  </tbody>\n",
       "</table>\n",
       "<p>268 rows × 3 columns</p>\n",
       "</div>"
      ],
      "text/plain": [
       "       taxid                                           org name  \\\n",
       "0    1238993                  Mycoplasmoides pneumoniae M129-B7   \n",
       "1    1637999                Verrucomicrobia bacterium IMCC26134   \n",
       "2    1779382                       Rhodothermaceae bacterium RA   \n",
       "3    1540872       Candidatus Gracilibacteria bacterium HOT-871   \n",
       "4    1911684                        Tenericutes bacterium MO-XQ   \n",
       "..       ...                                                ...   \n",
       "263  1178016  1,2759,4751,6029,6032,6033,33154,36734,112252,...   \n",
       "264  1538547  1,2157,131567,1538547,1655434,1655637,1935183,...   \n",
       "265  1899017  1,2,131567,1783272,1798710,1798711,1897007,189...   \n",
       "266  2259672  1,2157,131567,651137,651142,1783275,1825023,22...   \n",
       "267   294381  1,2759,5758,5759,33084,131567,294381,554915,55...   \n",
       "\n",
       "    Proposed class label  \n",
       "0         Mycoplasmatota  \n",
       "1       Verrucomicrobiae  \n",
       "2          Rhodothermota  \n",
       "3         incertae sedis  \n",
       "4         Mycoplasmatota  \n",
       "..                   ...  \n",
       "263        Microsporidia  \n",
       "264               Asgard  \n",
       "265       incertae sedis  \n",
       "266      Nitrososphaeria  \n",
       "267               Evosea  \n",
       "\n",
       "[268 rows x 3 columns]"
      ]
     },
     "execution_count": 312,
     "metadata": {},
     "output_type": "execute_result"
    }
   ],
   "source": [
    "no_classes = pd.read_csv(\"/data/luojaa/taxids/class_edge_handling.tsv\", sep = \"\\t\")\n",
    "no_classes"
   ]
  },
  {
   "cell_type": "code",
   "execution_count": 313,
   "id": "ef9d21e0-fb9a-4981-a831-1b0b4a2e2032",
   "metadata": {
    "tags": []
   },
   "outputs": [],
   "source": [
    "taxids_edge = list(no_classes[\"taxid\"])\n",
    "class_edge = list(no_classes[\"Proposed class label\"])\n",
    "taxidsedge2label = {}\n",
    "for i in range(len(taxids_edge)):\n",
    "    taxid, classlabel = taxids_edge[i], class_edge[i]\n",
    "    taxidsedge2label[taxid] = classlabel\n"
   ]
  },
  {
   "cell_type": "code",
   "execution_count": 336,
   "id": "ece1ac1d-4639-4322-ab8a-472e309cbcba",
   "metadata": {
    "tags": []
   },
   "outputs": [
    {
     "name": "stderr",
     "output_type": "stream",
     "text": [
      "/data/luojaa/conda/envs/default/lib/python3.12/site-packages/ete3/ncbi_taxonomy/ncbiquery.py:243: UserWarning: taxid 1516075 was translated into 2849745\n",
      "  warnings.warn(\"taxid %s was translated into %s\" %(taxid, merged_conversion[taxid]))\n"
     ]
    }
   ],
   "source": [
    "uid2classid = {}\n",
    "with open(\"/data/luojaa/log/translate_uids.log\", \"w\") as logfile:\n",
    "    for uid in list(set(taxids)):\n",
    "        try:\n",
    "            rank2lineage = uid2_rank2lineage[uid]\n",
    "        except:\n",
    "            continue\n",
    "        try:\n",
    "            classid = rank2lineage[\"class\"]\n",
    "            uid2classid[uid] = classid\n",
    "        except:\n",
    "            try:\n",
    "                classname = taxidsedge2label[uid]\n",
    "                classid = ncbi.get_name_translator([classname])[classname][0]\n",
    "                uid2classid[uid] = classid\n",
    "            except:\n",
    "                lineage_dict = ncbi.get_taxid_translator(ncbi.get_lineage(uid))\n",
    "                if (uid not in uids_nokingdom) and (uid not in uids_viruses):\n",
    "                    print(\"\\t\".join([str(uid)] + [\",\".join([str(taxid) for taxid in list(lineage_dict.keys())] + list(lineage_dict.values()) + list(uid2_rank2lineage[uid].keys()))]), file=logfile)\n",
    "            \n"
   ]
  },
  {
   "cell_type": "code",
   "execution_count": 315,
   "id": "eaca67b9-facf-4d7e-94fa-90fc61ff62ce",
   "metadata": {
    "tags": []
   },
   "outputs": [],
   "source": [
    "classids2class = ncbi.get_taxid_translator(list(set(uid2classid.values())))\n"
   ]
  },
  {
   "cell_type": "code",
   "execution_count": 318,
   "id": "fb52b9ab-f5eb-4bc8-8217-3af880fc1b1f",
   "metadata": {
    "tags": []
   },
   "outputs": [
    {
     "data": {
      "text/plain": [
       "(10762, 236, 10651, 10559)"
      ]
     },
     "execution_count": 318,
     "metadata": {},
     "output_type": "execute_result"
    }
   ],
   "source": [
    "len(uid2_rank2lineage), len(classids2class), len(uid2classid), len(uid2class)"
   ]
  },
  {
   "cell_type": "code",
   "execution_count": 351,
   "id": "7d6c9b17-b2b1-4201-b7c2-fc9a73231b99",
   "metadata": {
    "tags": []
   },
   "outputs": [],
   "source": [
    "uid2class = {}\n",
    "for uid in list(set(taxids)):\n",
    "    try:\n",
    "        classid = uid2classid[uid]\n",
    "        classname = classids2class[classid]\n",
    "        uid2class[uid] = classname\n",
    "    except:\n",
    "        continue"
   ]
  },
  {
   "cell_type": "code",
   "execution_count": 348,
   "id": "18eff449-0684-4606-b503-23644bf5ec29",
   "metadata": {
    "tags": []
   },
   "outputs": [],
   "source": [
    "def get_class(uid):\n",
    "    try:\n",
    "        classname = uid2class[uid]\n",
    "        return classname\n",
    "    except:\n",
    "        try:\n",
    "            classname = taxidsedge2label[uid]\n",
    "            return classname\n",
    "        except:\n",
    "            return \"None\"\n",
    "\n"
   ]
  },
  {
   "cell_type": "code",
   "execution_count": 349,
   "id": "14248fda-87e4-4028-a452-440f28802ae8",
   "metadata": {
    "tags": []
   },
   "outputs": [],
   "source": [
    "classes = taxid_df[\"taxid\"].apply(get_class)\n",
    "taxid_df[\"class\"] = classes"
   ]
  },
  {
   "cell_type": "code",
   "execution_count": 322,
   "id": "0031f115-6fc8-4178-9b81-0f3f39e8ef31",
   "metadata": {
    "tags": []
   },
   "outputs": [
    {
     "data": {
      "text/html": [
       "<div>\n",
       "<style scoped>\n",
       "    .dataframe tbody tr th:only-of-type {\n",
       "        vertical-align: middle;\n",
       "    }\n",
       "\n",
       "    .dataframe tbody tr th {\n",
       "        vertical-align: top;\n",
       "    }\n",
       "\n",
       "    .dataframe thead th {\n",
       "        text-align: right;\n",
       "    }\n",
       "</style>\n",
       "<table border=\"1\" class=\"dataframe\">\n",
       "  <thead>\n",
       "    <tr style=\"text-align: right;\">\n",
       "      <th></th>\n",
       "      <th>UID</th>\n",
       "      <th>taxid</th>\n",
       "      <th>superkingdom</th>\n",
       "      <th>class</th>\n",
       "    </tr>\n",
       "  </thead>\n",
       "  <tbody>\n",
       "  </tbody>\n",
       "</table>\n",
       "</div>"
      ],
      "text/plain": [
       "Empty DataFrame\n",
       "Columns: [UID, taxid, superkingdom, class]\n",
       "Index: []"
      ]
     },
     "execution_count": 322,
     "metadata": {},
     "output_type": "execute_result"
    }
   ],
   "source": [
    "taxid_df[taxid_df[\"class\"].str.contains(\"Melaina\")]"
   ]
  },
  {
   "cell_type": "code",
   "execution_count": 323,
   "id": "52d35853-0254-4c33-afa4-e4c7c3312101",
   "metadata": {
    "tags": []
   },
   "outputs": [
    {
     "data": {
      "text/html": [
       "<div>\n",
       "<style scoped>\n",
       "    .dataframe tbody tr th:only-of-type {\n",
       "        vertical-align: middle;\n",
       "    }\n",
       "\n",
       "    .dataframe tbody tr th {\n",
       "        vertical-align: top;\n",
       "    }\n",
       "\n",
       "    .dataframe thead th {\n",
       "        text-align: right;\n",
       "    }\n",
       "</style>\n",
       "<table border=\"1\" class=\"dataframe\">\n",
       "  <thead>\n",
       "    <tr style=\"text-align: right;\">\n",
       "      <th></th>\n",
       "      <th>UID</th>\n",
       "      <th>taxid</th>\n",
       "      <th>superkingdom</th>\n",
       "      <th>class</th>\n",
       "    </tr>\n",
       "  </thead>\n",
       "  <tbody>\n",
       "    <tr>\n",
       "      <th>0</th>\n",
       "      <td>A0AA96VA13</td>\n",
       "      <td>3028294</td>\n",
       "      <td>Archaea</td>\n",
       "      <td>Methanomicrobia</td>\n",
       "    </tr>\n",
       "    <tr>\n",
       "      <th>1</th>\n",
       "      <td>Q46FD0</td>\n",
       "      <td>269797</td>\n",
       "      <td>Archaea</td>\n",
       "      <td>Methanomicrobia</td>\n",
       "    </tr>\n",
       "    <tr>\n",
       "      <th>2</th>\n",
       "      <td>Q469K8</td>\n",
       "      <td>269797</td>\n",
       "      <td>Archaea</td>\n",
       "      <td>Methanomicrobia</td>\n",
       "    </tr>\n",
       "    <tr>\n",
       "      <th>3</th>\n",
       "      <td>Q46FN1</td>\n",
       "      <td>269797</td>\n",
       "      <td>Archaea</td>\n",
       "      <td>Methanomicrobia</td>\n",
       "    </tr>\n",
       "    <tr>\n",
       "      <th>4</th>\n",
       "      <td>A6VJ99</td>\n",
       "      <td>426368</td>\n",
       "      <td>Archaea</td>\n",
       "      <td>Methanococci</td>\n",
       "    </tr>\n",
       "    <tr>\n",
       "      <th>...</th>\n",
       "      <td>...</td>\n",
       "      <td>...</td>\n",
       "      <td>...</td>\n",
       "      <td>...</td>\n",
       "    </tr>\n",
       "    <tr>\n",
       "      <th>12462199</th>\n",
       "      <td>Q27YE6</td>\n",
       "      <td>3052325</td>\n",
       "      <td>Viruses</td>\n",
       "      <td>Ellioviricetes</td>\n",
       "    </tr>\n",
       "    <tr>\n",
       "      <th>12462200</th>\n",
       "      <td>B0BLK7</td>\n",
       "      <td>3052322</td>\n",
       "      <td>Viruses</td>\n",
       "      <td>Ellioviricetes</td>\n",
       "    </tr>\n",
       "    <tr>\n",
       "      <th>12462201</th>\n",
       "      <td>B2MW50</td>\n",
       "      <td>3052323</td>\n",
       "      <td>Viruses</td>\n",
       "      <td>Ellioviricetes</td>\n",
       "    </tr>\n",
       "    <tr>\n",
       "      <th>12462202</th>\n",
       "      <td>Q6RSS3</td>\n",
       "      <td>3052324</td>\n",
       "      <td>Viruses</td>\n",
       "      <td>Ellioviricetes</td>\n",
       "    </tr>\n",
       "    <tr>\n",
       "      <th>12462203</th>\n",
       "      <td>A9JR22</td>\n",
       "      <td>3052329</td>\n",
       "      <td>Viruses</td>\n",
       "      <td>Ellioviricetes</td>\n",
       "    </tr>\n",
       "  </tbody>\n",
       "</table>\n",
       "<p>12462204 rows × 4 columns</p>\n",
       "</div>"
      ],
      "text/plain": [
       "                 UID    taxid superkingdom            class\n",
       "0         A0AA96VA13  3028294      Archaea  Methanomicrobia\n",
       "1             Q46FD0   269797      Archaea  Methanomicrobia\n",
       "2             Q469K8   269797      Archaea  Methanomicrobia\n",
       "3             Q46FN1   269797      Archaea  Methanomicrobia\n",
       "4             A6VJ99   426368      Archaea     Methanococci\n",
       "...              ...      ...          ...              ...\n",
       "12462199      Q27YE6  3052325      Viruses   Ellioviricetes\n",
       "12462200      B0BLK7  3052322      Viruses   Ellioviricetes\n",
       "12462201      B2MW50  3052323      Viruses   Ellioviricetes\n",
       "12462202      Q6RSS3  3052324      Viruses   Ellioviricetes\n",
       "12462203      A9JR22  3052329      Viruses   Ellioviricetes\n",
       "\n",
       "[12462204 rows x 4 columns]"
      ]
     },
     "execution_count": 323,
     "metadata": {},
     "output_type": "execute_result"
    }
   ],
   "source": [
    "taxid_df"
   ]
  },
  {
   "cell_type": "code",
   "execution_count": 362,
   "id": "31353384-092f-43e0-b90c-8302bd2c2c6d",
   "metadata": {
    "tags": []
   },
   "outputs": [],
   "source": [
    "taxid_df.to_csv(\"/data/luojaa/eukgen/mmseqs/taxids_classlabels.tsv\", sep = \"\\t\", header = None, index = None)"
   ]
  },
  {
   "cell_type": "markdown",
   "id": "5ed1f9d1-3c25-4aa0-826a-f1b8d9848d2c",
   "metadata": {},
   "source": [
    "### new class labels (cluster or delete stuff)"
   ]
  },
  {
   "cell_type": "code",
   "execution_count": 4,
   "id": "fce4f8e5-7e08-45eb-aaf2-3e1756146262",
   "metadata": {
    "tags": []
   },
   "outputs": [
    {
     "data": {
      "text/html": [
       "<div>\n",
       "<style scoped>\n",
       "    .dataframe tbody tr th:only-of-type {\n",
       "        vertical-align: middle;\n",
       "    }\n",
       "\n",
       "    .dataframe tbody tr th {\n",
       "        vertical-align: top;\n",
       "    }\n",
       "\n",
       "    .dataframe thead th {\n",
       "        text-align: right;\n",
       "    }\n",
       "</style>\n",
       "<table border=\"1\" class=\"dataframe\">\n",
       "  <thead>\n",
       "    <tr style=\"text-align: right;\">\n",
       "      <th></th>\n",
       "      <th>0</th>\n",
       "      <th>1</th>\n",
       "      <th>2</th>\n",
       "      <th>3</th>\n",
       "    </tr>\n",
       "  </thead>\n",
       "  <tbody>\n",
       "    <tr>\n",
       "      <th>0</th>\n",
       "      <td>A0AA96VA13</td>\n",
       "      <td>3028294</td>\n",
       "      <td>Archaea</td>\n",
       "      <td>Methanomicrobia</td>\n",
       "    </tr>\n",
       "    <tr>\n",
       "      <th>1</th>\n",
       "      <td>Q46FD0</td>\n",
       "      <td>269797</td>\n",
       "      <td>Archaea</td>\n",
       "      <td>Methanomicrobia</td>\n",
       "    </tr>\n",
       "    <tr>\n",
       "      <th>2</th>\n",
       "      <td>Q469K8</td>\n",
       "      <td>269797</td>\n",
       "      <td>Archaea</td>\n",
       "      <td>Methanomicrobia</td>\n",
       "    </tr>\n",
       "    <tr>\n",
       "      <th>3</th>\n",
       "      <td>Q46FN1</td>\n",
       "      <td>269797</td>\n",
       "      <td>Archaea</td>\n",
       "      <td>Methanomicrobia</td>\n",
       "    </tr>\n",
       "    <tr>\n",
       "      <th>4</th>\n",
       "      <td>A6VJ99</td>\n",
       "      <td>426368</td>\n",
       "      <td>Archaea</td>\n",
       "      <td>Methanococci</td>\n",
       "    </tr>\n",
       "    <tr>\n",
       "      <th>...</th>\n",
       "      <td>...</td>\n",
       "      <td>...</td>\n",
       "      <td>...</td>\n",
       "      <td>...</td>\n",
       "    </tr>\n",
       "    <tr>\n",
       "      <th>12462199</th>\n",
       "      <td>Q27YE6</td>\n",
       "      <td>3052325</td>\n",
       "      <td>Viruses</td>\n",
       "      <td>Ellioviricetes</td>\n",
       "    </tr>\n",
       "    <tr>\n",
       "      <th>12462200</th>\n",
       "      <td>B0BLK7</td>\n",
       "      <td>3052322</td>\n",
       "      <td>Viruses</td>\n",
       "      <td>Ellioviricetes</td>\n",
       "    </tr>\n",
       "    <tr>\n",
       "      <th>12462201</th>\n",
       "      <td>B2MW50</td>\n",
       "      <td>3052323</td>\n",
       "      <td>Viruses</td>\n",
       "      <td>Ellioviricetes</td>\n",
       "    </tr>\n",
       "    <tr>\n",
       "      <th>12462202</th>\n",
       "      <td>Q6RSS3</td>\n",
       "      <td>3052324</td>\n",
       "      <td>Viruses</td>\n",
       "      <td>Ellioviricetes</td>\n",
       "    </tr>\n",
       "    <tr>\n",
       "      <th>12462203</th>\n",
       "      <td>A9JR22</td>\n",
       "      <td>3052329</td>\n",
       "      <td>Viruses</td>\n",
       "      <td>Ellioviricetes</td>\n",
       "    </tr>\n",
       "  </tbody>\n",
       "</table>\n",
       "<p>12462204 rows × 4 columns</p>\n",
       "</div>"
      ],
      "text/plain": [
       "                   0        1        2                3\n",
       "0         A0AA96VA13  3028294  Archaea  Methanomicrobia\n",
       "1             Q46FD0   269797  Archaea  Methanomicrobia\n",
       "2             Q469K8   269797  Archaea  Methanomicrobia\n",
       "3             Q46FN1   269797  Archaea  Methanomicrobia\n",
       "4             A6VJ99   426368  Archaea     Methanococci\n",
       "...              ...      ...      ...              ...\n",
       "12462199      Q27YE6  3052325  Viruses   Ellioviricetes\n",
       "12462200      B0BLK7  3052322  Viruses   Ellioviricetes\n",
       "12462201      B2MW50  3052323  Viruses   Ellioviricetes\n",
       "12462202      Q6RSS3  3052324  Viruses   Ellioviricetes\n",
       "12462203      A9JR22  3052329  Viruses   Ellioviricetes\n",
       "\n",
       "[12462204 rows x 4 columns]"
      ]
     },
     "execution_count": 4,
     "metadata": {},
     "output_type": "execute_result"
    }
   ],
   "source": [
    "# same as taxid_df / taxids_classlabels.tsv\n",
    "oldtaxids = pd.read_csv(\"/data/luojaa/taxids/kegg_old_classes.mcrcsm.tsv\", sep = \"\\t\", header = None)\n",
    "oldtaxids"
   ]
  },
  {
   "cell_type": "code",
   "execution_count": 6,
   "id": "f21c7aa0-7568-4586-89e0-13e09aa13227",
   "metadata": {
    "tags": []
   },
   "outputs": [],
   "source": [
    "mapping_file = pd.read_csv(\"/data/luojaa/taxids/updated_taxid_mapping.tsv\", sep = \"\\t\")\n",
    "classmapping = dict(zip(mapping_file.ncbi_class, mapping_file.new_class))"
   ]
  },
  {
   "cell_type": "code",
   "execution_count": 33,
   "id": "522c6fb2-e770-4f6f-af7f-983d865384f8",
   "metadata": {
    "tags": []
   },
   "outputs": [],
   "source": [
    "def remap(oldclass):\n",
    "    try:\n",
    "        return classmapping[oldclass]\n",
    "    except:\n",
    "        return oldclass"
   ]
  },
  {
   "cell_type": "code",
   "execution_count": 34,
   "id": "8be28120-dbe6-4e2f-92ae-9623e5a93c07",
   "metadata": {
    "tags": []
   },
   "outputs": [],
   "source": [
    "newclasses = oldtaxids[3].apply(lambda x: remap(x))"
   ]
  },
  {
   "cell_type": "code",
   "execution_count": 35,
   "id": "10af9578-9904-47cd-89ad-42f95e67d249",
   "metadata": {
    "tags": []
   },
   "outputs": [
    {
     "data": {
      "text/plain": [
       "True"
      ]
     },
     "execution_count": 35,
     "metadata": {},
     "output_type": "execute_result"
    }
   ],
   "source": [
    "\"Myxococcia\" in list(oldtaxids[3])"
   ]
  },
  {
   "cell_type": "code",
   "execution_count": 46,
   "id": "40eaeacb-2264-4de1-a444-689fc0271e71",
   "metadata": {
    "tags": []
   },
   "outputs": [
    {
     "data": {
      "text/plain": [
       "True"
      ]
     },
     "execution_count": 46,
     "metadata": {},
     "output_type": "execute_result"
    }
   ],
   "source": [
    "\"Myxococcota\" in list(newtaxids[\"new_class\"])"
   ]
  },
  {
   "cell_type": "code",
   "execution_count": 50,
   "id": "b6053eeb-8c03-4a7f-92cb-c4c1d1743037",
   "metadata": {},
   "outputs": [
    {
     "data": {
      "text/plain": [
       "'Actinomycetota'"
      ]
     },
     "execution_count": 50,
     "metadata": {},
     "output_type": "execute_result"
    }
   ],
   "source": [
    "classmapping[\"Acidimicrobiia\"]"
   ]
  },
  {
   "cell_type": "code",
   "execution_count": 57,
   "id": "b5f71c4d-0d2f-491d-bf0f-ca1ac1ded5de",
   "metadata": {
    "tags": []
   },
   "outputs": [
    {
     "data": {
      "text/plain": [
       "array(['Thermoplasmata', 'Asgard', 'Methanonatronarchaeia', 'Nanobdellia',\n",
       "       'Microsporidia', 'Leotiomycetes', 'Pucciniomycetes',\n",
       "       'Heterolobosea', 'Malacostraca', 'Enoplea', 'Enteropneusta',\n",
       "       'Merostomata', 'Asteroidea', 'Choanoflagellata', 'Metamonada',\n",
       "       'Diplopoda', 'Caudoviricetes', 'Leviviricetes', 'Faserviricetes',\n",
       "       'Tectiliviricetes', 'Megaviricetes', 'Vidaverviricetes',\n",
       "       'Oomycota', 'Cryptophyceae', 'Gammaproteobacteria',\n",
       "       'Alphaproteobacteria', 'Chlamydiia', 'Betaproteobacteria',\n",
       "       'Mycoplasmatota', 'Thermotogae', 'Thermodesulfobiia',\n",
       "       'Deltaproteobacteria', 'Candidatus Bipolaricaulia', 'Nitrospinia',\n",
       "       'Thermosulfidibacteria', 'Armatimonadia', 'Candidatus Sumerlaeia',\n",
       "       'Candidatus Peribacteria', 'Cyanobacteriota', 'Chthonomonadetes',\n",
       "       'Candidatus Uabimicrobiia', 'Papovaviricetes', 'Repensiviricetes',\n",
       "       'Naldaviricetes', 'Pokkesviricetes', 'Herviviricetes',\n",
       "       'Revtraviricetes', 'Ellioviricetes', 'Alsuviricetes',\n",
       "       'Arfiviricetes', 'Quintoviricetes', 'Stelpaviricetes',\n",
       "       'Insthoviricetes', 'Tokiviricetes', 'Resentoviricetes',\n",
       "       'Duplopiviricetes', 'Pisoniviricetes', 'Monjiviricetes',\n",
       "       'Chrymotiviricetes', 'Flasuviricetes', 'Tolucaviricetes',\n",
       "       'Magsaviricetes', 'Miaviricetes', 'Howeltoviricetes',\n",
       "       'Laserviricetes', 'Huolimaviricetes', 'Amabiliviricetes',\n",
       "       'Dinophyceae', 'Euglenida'], dtype=object)"
      ]
     },
     "execution_count": 57,
     "metadata": {},
     "output_type": "execute_result"
    }
   ],
   "source": [
    "oldtaxids[oldtaxids[3] == oldtaxids[\"new_class\"]][3].unique()"
   ]
  },
  {
   "cell_type": "code",
   "execution_count": 52,
   "id": "3e172275-5f55-43e6-ac43-724a2daa5a5e",
   "metadata": {
    "tags": []
   },
   "outputs": [],
   "source": [
    "oldtaxids[\"new_class\"] = newclasses\n",
    "newtaxids = oldtaxids.loc[:, [0, 1, 2, \"new_class\"]]"
   ]
  },
  {
   "cell_type": "code",
   "execution_count": 47,
   "id": "1781df0a-ae72-4d03-9f3c-0c46b44a81cb",
   "metadata": {},
   "outputs": [],
   "source": [
    "newtaxids.to_csv(\"/data/luojaa/taxids/kegg_new_classes.mcrcsm.tsv\", sep = \"\\t\", header = None, index = None)"
   ]
  },
  {
   "cell_type": "code",
   "execution_count": 42,
   "id": "cc90614c-3d3e-4842-aee4-e3003c8d408b",
   "metadata": {
    "tags": []
   },
   "outputs": [
    {
     "data": {
      "text/html": [
       "<div>\n",
       "<style scoped>\n",
       "    .dataframe tbody tr th:only-of-type {\n",
       "        vertical-align: middle;\n",
       "    }\n",
       "\n",
       "    .dataframe tbody tr th {\n",
       "        vertical-align: top;\n",
       "    }\n",
       "\n",
       "    .dataframe thead th {\n",
       "        text-align: right;\n",
       "    }\n",
       "</style>\n",
       "<table border=\"1\" class=\"dataframe\">\n",
       "  <thead>\n",
       "    <tr style=\"text-align: right;\">\n",
       "      <th></th>\n",
       "      <th>0</th>\n",
       "      <th>1</th>\n",
       "      <th>2</th>\n",
       "      <th>new_class</th>\n",
       "    </tr>\n",
       "  </thead>\n",
       "  <tbody>\n",
       "    <tr>\n",
       "      <th>0</th>\n",
       "      <td>A0AA96VA13</td>\n",
       "      <td>3028294</td>\n",
       "      <td>Archaea</td>\n",
       "      <td>Euryarchaeota</td>\n",
       "    </tr>\n",
       "    <tr>\n",
       "      <th>1</th>\n",
       "      <td>Q46FD0</td>\n",
       "      <td>269797</td>\n",
       "      <td>Archaea</td>\n",
       "      <td>Euryarchaeota</td>\n",
       "    </tr>\n",
       "    <tr>\n",
       "      <th>2</th>\n",
       "      <td>Q469K8</td>\n",
       "      <td>269797</td>\n",
       "      <td>Archaea</td>\n",
       "      <td>Euryarchaeota</td>\n",
       "    </tr>\n",
       "    <tr>\n",
       "      <th>3</th>\n",
       "      <td>Q46FN1</td>\n",
       "      <td>269797</td>\n",
       "      <td>Archaea</td>\n",
       "      <td>Euryarchaeota</td>\n",
       "    </tr>\n",
       "    <tr>\n",
       "      <th>4</th>\n",
       "      <td>A6VJ99</td>\n",
       "      <td>426368</td>\n",
       "      <td>Archaea</td>\n",
       "      <td>Euryarchaeota</td>\n",
       "    </tr>\n",
       "    <tr>\n",
       "      <th>...</th>\n",
       "      <td>...</td>\n",
       "      <td>...</td>\n",
       "      <td>...</td>\n",
       "      <td>...</td>\n",
       "    </tr>\n",
       "    <tr>\n",
       "      <th>12462199</th>\n",
       "      <td>Q27YE6</td>\n",
       "      <td>3052325</td>\n",
       "      <td>Viruses</td>\n",
       "      <td>Ellioviricetes</td>\n",
       "    </tr>\n",
       "    <tr>\n",
       "      <th>12462200</th>\n",
       "      <td>B0BLK7</td>\n",
       "      <td>3052322</td>\n",
       "      <td>Viruses</td>\n",
       "      <td>Ellioviricetes</td>\n",
       "    </tr>\n",
       "    <tr>\n",
       "      <th>12462201</th>\n",
       "      <td>B2MW50</td>\n",
       "      <td>3052323</td>\n",
       "      <td>Viruses</td>\n",
       "      <td>Ellioviricetes</td>\n",
       "    </tr>\n",
       "    <tr>\n",
       "      <th>12462202</th>\n",
       "      <td>Q6RSS3</td>\n",
       "      <td>3052324</td>\n",
       "      <td>Viruses</td>\n",
       "      <td>Ellioviricetes</td>\n",
       "    </tr>\n",
       "    <tr>\n",
       "      <th>12462203</th>\n",
       "      <td>A9JR22</td>\n",
       "      <td>3052329</td>\n",
       "      <td>Viruses</td>\n",
       "      <td>Ellioviricetes</td>\n",
       "    </tr>\n",
       "  </tbody>\n",
       "</table>\n",
       "<p>12462204 rows × 4 columns</p>\n",
       "</div>"
      ],
      "text/plain": [
       "                   0        1        2       new_class\n",
       "0         A0AA96VA13  3028294  Archaea   Euryarchaeota\n",
       "1             Q46FD0   269797  Archaea   Euryarchaeota\n",
       "2             Q469K8   269797  Archaea   Euryarchaeota\n",
       "3             Q46FN1   269797  Archaea   Euryarchaeota\n",
       "4             A6VJ99   426368  Archaea   Euryarchaeota\n",
       "...              ...      ...      ...             ...\n",
       "12462199      Q27YE6  3052325  Viruses  Ellioviricetes\n",
       "12462200      B0BLK7  3052322  Viruses  Ellioviricetes\n",
       "12462201      B2MW50  3052323  Viruses  Ellioviricetes\n",
       "12462202      Q6RSS3  3052324  Viruses  Ellioviricetes\n",
       "12462203      A9JR22  3052329  Viruses  Ellioviricetes\n",
       "\n",
       "[12462204 rows x 4 columns]"
      ]
     },
     "execution_count": 42,
     "metadata": {},
     "output_type": "execute_result"
    }
   ],
   "source": [
    "newtaxids"
   ]
  },
  {
   "cell_type": "code",
   "execution_count": null,
   "id": "78868645-c808-4d3b-a1dc-ee50131c0d93",
   "metadata": {},
   "outputs": [],
   "source": []
  }
 ],
 "metadata": {
  "kernelspec": {
   "display_name": "default",
   "language": "python",
   "name": "default"
  },
  "language_info": {
   "codemirror_mode": {
    "name": "ipython",
    "version": 3
   },
   "file_extension": ".py",
   "mimetype": "text/x-python",
   "name": "python",
   "nbconvert_exporter": "python",
   "pygments_lexer": "ipython3",
   "version": "3.12.2"
  }
 },
 "nbformat": 4,
 "nbformat_minor": 5
}
