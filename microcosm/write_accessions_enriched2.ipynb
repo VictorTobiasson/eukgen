{
 "cells": [
  {
   "cell_type": "code",
   "execution_count": 1,
   "id": "c1953dfb-8e7b-4fd5-9859-6ae5ee425b6a",
   "metadata": {
    "tags": []
   },
   "outputs": [],
   "source": [
    "import os\n",
    "import sys\n",
    "module_path = os.path.abspath(os.path.join('/data/luojaa/eukgen/'))\n",
    "if module_path not in sys.path:\n",
    "    sys.path.append(module_path)"
   ]
  },
  {
   "cell_type": "code",
   "execution_count": 88,
   "id": "4033730c-dc3c-46fd-ba6e-409ab4aa1842",
   "metadata": {
    "tags": []
   },
   "outputs": [],
   "source": [
    "import pandas as pd\n",
    "import matplotlib.pyplot as plt\n",
    "from core_functions.altair_plots import plot_cumsum_counts"
   ]
  },
  {
   "cell_type": "markdown",
   "id": "30645854",
   "metadata": {
    "tags": []
   },
   "source": [
    "### compute prok search results"
   ]
  },
  {
   "cell_type": "code",
   "execution_count": 3,
   "id": "029c99f0-4188-4e35-8ad7-7f8e8206fbda",
   "metadata": {
    "tags": []
   },
   "outputs": [],
   "source": [
    "KOGS_w_both = \"/data/luojaa/uid_stats/KOGs_w_both.csv\"\n",
    "relevant_kogs = set(pd.read_csv(KOGS_w_both)[\"KOG\"])"
   ]
  },
  {
   "cell_type": "code",
   "execution_count": 4,
   "id": "5d9a8520-a4bd-4683-9180-ca672f739fca",
   "metadata": {
    "tags": []
   },
   "outputs": [],
   "source": [
    "hhresults_prok_tsv = \"/data/luojaa/kegg_db/search_prokseq_vsboth/prokseq_both_hits.tsv\"\n",
    "hhresults_prokdf = pd.read_csv(hhresults_prok_tsv, sep = \"\\t\")"
   ]
  },
  {
   "cell_type": "code",
   "execution_count": 5,
   "id": "27ab82c1-17bc-4cc3-8d85-251ffa03af60",
   "metadata": {
    "tags": []
   },
   "outputs": [],
   "source": [
    "hhresults_prok_knum = hhresults_prokdf[hhresults_prokdf[\"Query\"] != hhresults_prokdf[\"Target\"]]\n",
    "prok_kogs_set = set(hhresults_prok_knum[\"Target\"])"
   ]
  },
  {
   "cell_type": "code",
   "execution_count": 6,
   "id": "529fa280",
   "metadata": {
    "tags": []
   },
   "outputs": [],
   "source": [
    "prok_kogs_s = hhresults_prok_knum[\"Target\"].str.replace(r\"_prok\", \"\")"
   ]
  },
  {
   "cell_type": "code",
   "execution_count": 7,
   "id": "b9bb5e3f",
   "metadata": {
    "tags": []
   },
   "outputs": [],
   "source": [
    "prok_kogs_s = prok_kogs_s.str.replace(r\"_euk\", \"\")"
   ]
  },
  {
   "cell_type": "code",
   "execution_count": 8,
   "id": "6b68016c",
   "metadata": {
    "tags": []
   },
   "outputs": [
    {
     "name": "stderr",
     "output_type": "stream",
     "text": [
      "/tmp/ipykernel_1812359/3491479782.py:1: SettingWithCopyWarning: \n",
      "A value is trying to be set on a copy of a slice from a DataFrame.\n",
      "Try using .loc[row_indexer,col_indexer] = value instead\n",
      "\n",
      "See the caveats in the documentation: https://pandas.pydata.org/pandas-docs/stable/user_guide/indexing.html#returning-a-view-versus-a-copy\n",
      "  hhresults_prok_knum[\"KOG\"] = prok_kogs_s\n"
     ]
    }
   ],
   "source": [
    "hhresults_prok_knum[\"KOG\"] = prok_kogs_s"
   ]
  },
  {
   "cell_type": "code",
   "execution_count": 9,
   "id": "b1e26bc1",
   "metadata": {
    "tags": []
   },
   "outputs": [],
   "source": [
    "eukkog_s = hhresults_prok_knum[\"Target\"].str.contains(\"euk\")\n",
    "prokkog_s = hhresults_prok_knum[\"Target\"].str.contains(\"prok\")"
   ]
  },
  {
   "cell_type": "code",
   "execution_count": 10,
   "id": "d3982e4f",
   "metadata": {
    "tags": []
   },
   "outputs": [],
   "source": [
    "accessions_prok = hhresults_prok_knum.loc[:,[\"Query\", \"Target\", \"KOG\"]]"
   ]
  },
  {
   "cell_type": "code",
   "execution_count": 11,
   "id": "2dc87f73",
   "metadata": {
    "tags": []
   },
   "outputs": [],
   "source": [
    "accessions_prok[\"euktarget\"] = eukkog_s\n",
    "accessions_prok[\"proktarget\"] = prokkog_s"
   ]
  },
  {
   "cell_type": "code",
   "execution_count": 12,
   "id": "d724e1f1",
   "metadata": {
    "tags": []
   },
   "outputs": [
    {
     "name": "stderr",
     "output_type": "stream",
     "text": [
      "/tmp/ipykernel_1812359/3367171622.py:1: FutureWarning: The provided callable <built-in function sum> is currently using DataFrameGroupBy.sum. In a future version of pandas, the provided callable will be used directly. To keep current behavior pass the string \"sum\" instead.\n",
      "  prok_domainhits = accessions_prok.groupby([\"Query\", \"KOG\"])[[\"euktarget\", \"proktarget\"]].agg(sum).reset_index()\n"
     ]
    }
   ],
   "source": [
    "prok_domainhits = accessions_prok.groupby([\"Query\", \"KOG\"])[[\"euktarget\", \"proktarget\"]].agg(sum).reset_index()"
   ]
  },
  {
   "cell_type": "code",
   "execution_count": 13,
   "id": "9fd08755",
   "metadata": {
    "tags": []
   },
   "outputs": [],
   "source": [
    "prok_kogs_hit = set(prok_domainhits[\"KOG\"])"
   ]
  },
  {
   "cell_type": "code",
   "execution_count": 14,
   "id": "0bbabe3b",
   "metadata": {
    "tags": []
   },
   "outputs": [],
   "source": [
    "relevantkogs_hit_p = relevant_kogs.intersection(prok_kogs_hit)\n",
    "relevantkogs_missed_prok = relevant_kogs.difference(prok_kogs_hit)"
   ]
  },
  {
   "cell_type": "code",
   "execution_count": 19,
   "id": "0a501e29",
   "metadata": {
    "tags": []
   },
   "outputs": [],
   "source": [
    "rel_prok_domainhits = prok_domainhits[prok_domainhits[\"KOG\"].isin(relevant_kogs)]"
   ]
  },
  {
   "cell_type": "code",
   "execution_count": 20,
   "id": "4a3f5797",
   "metadata": {
    "tags": []
   },
   "outputs": [
    {
     "data": {
      "text/plain": [
       "4044406"
      ]
     },
     "execution_count": 20,
     "metadata": {},
     "output_type": "execute_result"
    }
   ],
   "source": [
    "sum(prok_domainhits[\"euktarget\"] & prok_domainhits[\"proktarget\"])"
   ]
  },
  {
   "cell_type": "markdown",
   "id": "1ba15009",
   "metadata": {},
   "source": [
    "### compute euk search results"
   ]
  },
  {
   "cell_type": "code",
   "execution_count": 120,
   "id": "1b5289b9-f74a-4b16-8549-8df6ddcdf286",
   "metadata": {
    "tags": []
   },
   "outputs": [
    {
     "data": {
      "text/html": [
       "<div>\n",
       "<style scoped>\n",
       "    .dataframe tbody tr th:only-of-type {\n",
       "        vertical-align: middle;\n",
       "    }\n",
       "\n",
       "    .dataframe tbody tr th {\n",
       "        vertical-align: top;\n",
       "    }\n",
       "\n",
       "    .dataframe thead th {\n",
       "        text-align: right;\n",
       "    }\n",
       "</style>\n",
       "<table border=\"1\" class=\"dataframe\">\n",
       "  <thead>\n",
       "    <tr style=\"text-align: right;\">\n",
       "      <th></th>\n",
       "      <th>Query</th>\n",
       "      <th>Target</th>\n",
       "      <th>Prob</th>\n",
       "      <th>E-value</th>\n",
       "      <th>P-value</th>\n",
       "      <th>Score</th>\n",
       "      <th>SS</th>\n",
       "      <th>Cols</th>\n",
       "      <th>Identities</th>\n",
       "      <th>Similarity</th>\n",
       "      <th>Sum_probs</th>\n",
       "      <th>Query-HMM-start</th>\n",
       "      <th>Query-HMM-end</th>\n",
       "      <th>Template-HMM-start</th>\n",
       "      <th>Template-HMM-end</th>\n",
       "      <th>Template_columns</th>\n",
       "      <th>Template_Neff</th>\n",
       "      <th>Pairwise_cov</th>\n",
       "    </tr>\n",
       "  </thead>\n",
       "  <tbody>\n",
       "    <tr>\n",
       "      <th>5011006</th>\n",
       "      <td>XP_026402186.1</td>\n",
       "      <td>XP_026402186.1</td>\n",
       "      <td>100.0</td>\n",
       "      <td>0.000000e+00</td>\n",
       "      <td>0.000000e+00</td>\n",
       "      <td>99999.0</td>\n",
       "      <td>0.0</td>\n",
       "      <td>500.0</td>\n",
       "      <td>100</td>\n",
       "      <td>100.000</td>\n",
       "      <td>99999.0</td>\n",
       "      <td>1</td>\n",
       "      <td>500.0</td>\n",
       "      <td>1</td>\n",
       "      <td>500.0</td>\n",
       "      <td>500.0</td>\n",
       "      <td>1.0</td>\n",
       "      <td>1.000000</td>\n",
       "    </tr>\n",
       "    <tr>\n",
       "      <th>5011007</th>\n",
       "      <td>XP_026402186.1</td>\n",
       "      <td>K18798_prok</td>\n",
       "      <td>100.0</td>\n",
       "      <td>1.200000e-45</td>\n",
       "      <td>1.600000e-49</td>\n",
       "      <td>352.4</td>\n",
       "      <td>0.0</td>\n",
       "      <td>393.0</td>\n",
       "      <td>39</td>\n",
       "      <td>0.606</td>\n",
       "      <td>352.7</td>\n",
       "      <td>80</td>\n",
       "      <td>476.0</td>\n",
       "      <td>25</td>\n",
       "      <td>495.0</td>\n",
       "      <td>496.0</td>\n",
       "      <td>1.1</td>\n",
       "      <td>0.800403</td>\n",
       "    </tr>\n",
       "  </tbody>\n",
       "</table>\n",
       "</div>"
      ],
      "text/plain": [
       "                  Query          Target   Prob       E-value       P-value  \\\n",
       "5011006  XP_026402186.1  XP_026402186.1  100.0  0.000000e+00  0.000000e+00   \n",
       "5011007  XP_026402186.1     K18798_prok  100.0  1.200000e-45  1.600000e-49   \n",
       "\n",
       "           Score   SS   Cols  Identities  Similarity  Sum_probs  \\\n",
       "5011006  99999.0  0.0  500.0         100     100.000    99999.0   \n",
       "5011007    352.4  0.0  393.0          39       0.606      352.7   \n",
       "\n",
       "         Query-HMM-start  Query-HMM-end  Template-HMM-start  Template-HMM-end  \\\n",
       "5011006                1          500.0                   1             500.0   \n",
       "5011007               80          476.0                  25             495.0   \n",
       "\n",
       "         Template_columns  Template_Neff  Pairwise_cov  \n",
       "5011006             500.0            1.0      1.000000  \n",
       "5011007             496.0            1.1      0.800403  "
      ]
     },
     "execution_count": 120,
     "metadata": {},
     "output_type": "execute_result"
    }
   ],
   "source": [
    "hhresults_eukdf[hhresults_eukdf[\"Query\"] == \"XP_026402186.1\"]"
   ]
  },
  {
   "cell_type": "code",
   "execution_count": 21,
   "id": "f13fbba4-d7e3-4651-b6c4-54b34d779166",
   "metadata": {
    "tags": []
   },
   "outputs": [],
   "source": [
    "hhresults_euk_tsv = \"/data/luojaa/kegg_db/search_eukseq_vsboth/eukseq_both_hits.tsv\"\n",
    "hhresults_eukdf = pd.read_csv(hhresults_euk_tsv, sep = \"\\t\")\n",
    "hhresults_euk_knum = hhresults_eukdf[hhresults_eukdf[\"Query\"] != hhresults_eukdf[\"Target\"]]\n",
    "euk_kogs_set = set(hhresults_euk_knum[\"Target\"])"
   ]
  },
  {
   "cell_type": "code",
   "execution_count": 22,
   "id": "40222e5b",
   "metadata": {
    "tags": []
   },
   "outputs": [
    {
     "name": "stderr",
     "output_type": "stream",
     "text": [
      "/tmp/ipykernel_1812359/1573041488.py:1: SettingWithCopyWarning: \n",
      "A value is trying to be set on a copy of a slice from a DataFrame.\n",
      "Try using .loc[row_indexer,col_indexer] = value instead\n",
      "\n",
      "See the caveats in the documentation: https://pandas.pydata.org/pandas-docs/stable/user_guide/indexing.html#returning-a-view-versus-a-copy\n",
      "  hhresults_euk_knum[\"KOG\"] = hhresults_euk_knum[\"Target\"].str.replace(r\"_prok\", \"\").str.replace(r\"_euk\", \"\")\n"
     ]
    }
   ],
   "source": [
    "hhresults_euk_knum[\"KOG\"] = hhresults_euk_knum[\"Target\"].str.replace(r\"_prok\", \"\").str.replace(r\"_euk\", \"\")"
   ]
  },
  {
   "cell_type": "code",
   "execution_count": 23,
   "id": "c943d6db",
   "metadata": {
    "tags": []
   },
   "outputs": [],
   "source": [
    "accessions_euk = hhresults_euk_knum.loc[:,[\"Query\", \"Target\", \"KOG\"]]\n",
    "accessions_euk[\"euktarget\"] = hhresults_euk_knum[\"Target\"].str.contains(\"euk\")\n",
    "accessions_euk[\"proktarget\"] = hhresults_euk_knum[\"Target\"].str.contains(\"prok\")"
   ]
  },
  {
   "cell_type": "code",
   "execution_count": 24,
   "id": "10f2ad03",
   "metadata": {
    "tags": []
   },
   "outputs": [
    {
     "data": {
      "text/html": [
       "<div>\n",
       "<style scoped>\n",
       "    .dataframe tbody tr th:only-of-type {\n",
       "        vertical-align: middle;\n",
       "    }\n",
       "\n",
       "    .dataframe tbody tr th {\n",
       "        vertical-align: top;\n",
       "    }\n",
       "\n",
       "    .dataframe thead th {\n",
       "        text-align: right;\n",
       "    }\n",
       "</style>\n",
       "<table border=\"1\" class=\"dataframe\">\n",
       "  <thead>\n",
       "    <tr style=\"text-align: right;\">\n",
       "      <th></th>\n",
       "      <th>Query</th>\n",
       "      <th>Target</th>\n",
       "      <th>KOG</th>\n",
       "      <th>euktarget</th>\n",
       "      <th>proktarget</th>\n",
       "    </tr>\n",
       "  </thead>\n",
       "  <tbody>\n",
       "    <tr>\n",
       "      <th>10</th>\n",
       "      <td>EP01006P012211</td>\n",
       "      <td>K07542_euk</td>\n",
       "      <td>K07542</td>\n",
       "      <td>True</td>\n",
       "      <td>False</td>\n",
       "    </tr>\n",
       "    <tr>\n",
       "      <th>36</th>\n",
       "      <td>EP00078P024431</td>\n",
       "      <td>K19501_euk</td>\n",
       "      <td>K19501</td>\n",
       "      <td>True</td>\n",
       "      <td>False</td>\n",
       "    </tr>\n",
       "    <tr>\n",
       "      <th>37</th>\n",
       "      <td>EP00078P024431</td>\n",
       "      <td>K19503_euk</td>\n",
       "      <td>K19503</td>\n",
       "      <td>True</td>\n",
       "      <td>False</td>\n",
       "    </tr>\n",
       "    <tr>\n",
       "      <th>41</th>\n",
       "      <td>EP00068P028775</td>\n",
       "      <td>K16745_euk</td>\n",
       "      <td>K16745</td>\n",
       "      <td>True</td>\n",
       "      <td>False</td>\n",
       "    </tr>\n",
       "    <tr>\n",
       "      <th>42</th>\n",
       "      <td>EP00068P028775</td>\n",
       "      <td>K16744_euk</td>\n",
       "      <td>K16744</td>\n",
       "      <td>True</td>\n",
       "      <td>False</td>\n",
       "    </tr>\n",
       "    <tr>\n",
       "      <th>...</th>\n",
       "      <td>...</td>\n",
       "      <td>...</td>\n",
       "      <td>...</td>\n",
       "      <td>...</td>\n",
       "      <td>...</td>\n",
       "    </tr>\n",
       "    <tr>\n",
       "      <th>36922180</th>\n",
       "      <td>EP01004P005612</td>\n",
       "      <td>K00032_prok</td>\n",
       "      <td>K00032</td>\n",
       "      <td>False</td>\n",
       "      <td>True</td>\n",
       "    </tr>\n",
       "    <tr>\n",
       "      <th>36922181</th>\n",
       "      <td>EP01004P005612</td>\n",
       "      <td>K15919_euk</td>\n",
       "      <td>K15919</td>\n",
       "      <td>True</td>\n",
       "      <td>False</td>\n",
       "    </tr>\n",
       "    <tr>\n",
       "      <th>36922182</th>\n",
       "      <td>EP01004P005612</td>\n",
       "      <td>K22229_prok</td>\n",
       "      <td>K22229</td>\n",
       "      <td>False</td>\n",
       "      <td>True</td>\n",
       "    </tr>\n",
       "    <tr>\n",
       "      <th>36922183</th>\n",
       "      <td>EP01004P005612</td>\n",
       "      <td>K25634_prok</td>\n",
       "      <td>K25634</td>\n",
       "      <td>False</td>\n",
       "      <td>True</td>\n",
       "    </tr>\n",
       "    <tr>\n",
       "      <th>36922190</th>\n",
       "      <td>EP00708P005804</td>\n",
       "      <td>K07918_euk</td>\n",
       "      <td>K07918</td>\n",
       "      <td>True</td>\n",
       "      <td>False</td>\n",
       "    </tr>\n",
       "  </tbody>\n",
       "</table>\n",
       "<p>11865863 rows × 5 columns</p>\n",
       "</div>"
      ],
      "text/plain": [
       "                   Query       Target     KOG  euktarget  proktarget\n",
       "10        EP01006P012211   K07542_euk  K07542       True       False\n",
       "36        EP00078P024431   K19501_euk  K19501       True       False\n",
       "37        EP00078P024431   K19503_euk  K19503       True       False\n",
       "41        EP00068P028775   K16745_euk  K16745       True       False\n",
       "42        EP00068P028775   K16744_euk  K16744       True       False\n",
       "...                  ...          ...     ...        ...         ...\n",
       "36922180  EP01004P005612  K00032_prok  K00032      False        True\n",
       "36922181  EP01004P005612   K15919_euk  K15919       True       False\n",
       "36922182  EP01004P005612  K22229_prok  K22229      False        True\n",
       "36922183  EP01004P005612  K25634_prok  K25634      False        True\n",
       "36922190  EP00708P005804   K07918_euk  K07918       True       False\n",
       "\n",
       "[11865863 rows x 5 columns]"
      ]
     },
     "execution_count": 24,
     "metadata": {},
     "output_type": "execute_result"
    }
   ],
   "source": [
    "accessions_euk"
   ]
  },
  {
   "cell_type": "code",
   "execution_count": 25,
   "id": "bf631883",
   "metadata": {
    "tags": []
   },
   "outputs": [
    {
     "name": "stderr",
     "output_type": "stream",
     "text": [
      "/tmp/ipykernel_1812359/2223746951.py:1: FutureWarning: The provided callable <built-in function sum> is currently using DataFrameGroupBy.sum. In a future version of pandas, the provided callable will be used directly. To keep current behavior pass the string \"sum\" instead.\n",
      "  euk_domainhits = accessions_euk.groupby([\"Query\", \"KOG\"])[[\"euktarget\", \"proktarget\"]].agg(sum).reset_index()\n"
     ]
    }
   ],
   "source": [
    "euk_domainhits = accessions_euk.groupby([\"Query\", \"KOG\"])[[\"euktarget\", \"proktarget\"]].agg(sum).reset_index()"
   ]
  },
  {
   "cell_type": "code",
   "execution_count": 26,
   "id": "8492ff11",
   "metadata": {
    "tags": []
   },
   "outputs": [
    {
     "data": {
      "text/html": [
       "<div>\n",
       "<style scoped>\n",
       "    .dataframe tbody tr th:only-of-type {\n",
       "        vertical-align: middle;\n",
       "    }\n",
       "\n",
       "    .dataframe tbody tr th {\n",
       "        vertical-align: top;\n",
       "    }\n",
       "\n",
       "    .dataframe thead th {\n",
       "        text-align: right;\n",
       "    }\n",
       "</style>\n",
       "<table border=\"1\" class=\"dataframe\">\n",
       "  <thead>\n",
       "    <tr style=\"text-align: right;\">\n",
       "      <th></th>\n",
       "      <th>Query</th>\n",
       "      <th>KOG</th>\n",
       "      <th>euktarget</th>\n",
       "      <th>proktarget</th>\n",
       "    </tr>\n",
       "  </thead>\n",
       "  <tbody>\n",
       "    <tr>\n",
       "      <th>0</th>\n",
       "      <td>2P0U_A</td>\n",
       "      <td>K00648</td>\n",
       "      <td>1</td>\n",
       "      <td>0</td>\n",
       "    </tr>\n",
       "    <tr>\n",
       "      <th>1</th>\n",
       "      <td>2P0U_A</td>\n",
       "      <td>K00660</td>\n",
       "      <td>1</td>\n",
       "      <td>0</td>\n",
       "    </tr>\n",
       "    <tr>\n",
       "      <th>2</th>\n",
       "      <td>2P0U_A</td>\n",
       "      <td>K12644</td>\n",
       "      <td>1</td>\n",
       "      <td>0</td>\n",
       "    </tr>\n",
       "    <tr>\n",
       "      <th>3</th>\n",
       "      <td>2P0U_A</td>\n",
       "      <td>K13231</td>\n",
       "      <td>1</td>\n",
       "      <td>0</td>\n",
       "    </tr>\n",
       "    <tr>\n",
       "      <th>4</th>\n",
       "      <td>2P0U_A</td>\n",
       "      <td>K13232</td>\n",
       "      <td>1</td>\n",
       "      <td>0</td>\n",
       "    </tr>\n",
       "    <tr>\n",
       "      <th>...</th>\n",
       "      <td>...</td>\n",
       "      <td>...</td>\n",
       "      <td>...</td>\n",
       "      <td>...</td>\n",
       "    </tr>\n",
       "    <tr>\n",
       "      <th>10964593</th>\n",
       "      <td>prf||1802278A</td>\n",
       "      <td>K04043</td>\n",
       "      <td>1</td>\n",
       "      <td>1</td>\n",
       "    </tr>\n",
       "    <tr>\n",
       "      <th>10964594</th>\n",
       "      <td>prf||1802278A</td>\n",
       "      <td>K04044</td>\n",
       "      <td>1</td>\n",
       "      <td>1</td>\n",
       "    </tr>\n",
       "    <tr>\n",
       "      <th>10964595</th>\n",
       "      <td>prf||1802278A</td>\n",
       "      <td>K04045</td>\n",
       "      <td>0</td>\n",
       "      <td>1</td>\n",
       "    </tr>\n",
       "    <tr>\n",
       "      <th>10964596</th>\n",
       "      <td>prf||1802278A</td>\n",
       "      <td>K09490</td>\n",
       "      <td>1</td>\n",
       "      <td>0</td>\n",
       "    </tr>\n",
       "    <tr>\n",
       "      <th>10964597</th>\n",
       "      <td>prf||1802278A</td>\n",
       "      <td>K26598</td>\n",
       "      <td>1</td>\n",
       "      <td>0</td>\n",
       "    </tr>\n",
       "  </tbody>\n",
       "</table>\n",
       "<p>10964598 rows × 4 columns</p>\n",
       "</div>"
      ],
      "text/plain": [
       "                  Query     KOG  euktarget  proktarget\n",
       "0                2P0U_A  K00648          1           0\n",
       "1                2P0U_A  K00660          1           0\n",
       "2                2P0U_A  K12644          1           0\n",
       "3                2P0U_A  K13231          1           0\n",
       "4                2P0U_A  K13232          1           0\n",
       "...                 ...     ...        ...         ...\n",
       "10964593  prf||1802278A  K04043          1           1\n",
       "10964594  prf||1802278A  K04044          1           1\n",
       "10964595  prf||1802278A  K04045          0           1\n",
       "10964596  prf||1802278A  K09490          1           0\n",
       "10964597  prf||1802278A  K26598          1           0\n",
       "\n",
       "[10964598 rows x 4 columns]"
      ]
     },
     "execution_count": 26,
     "metadata": {},
     "output_type": "execute_result"
    }
   ],
   "source": [
    "euk_domainhits"
   ]
  },
  {
   "cell_type": "code",
   "execution_count": 27,
   "id": "6bc35dbe",
   "metadata": {
    "tags": []
   },
   "outputs": [
    {
     "data": {
      "text/plain": [
       "874063"
      ]
     },
     "execution_count": 27,
     "metadata": {},
     "output_type": "execute_result"
    }
   ],
   "source": [
    "sum(euk_domainhits[\"euktarget\"] & euk_domainhits[\"proktarget\"])"
   ]
  },
  {
   "cell_type": "code",
   "execution_count": 28,
   "id": "43e6a45c",
   "metadata": {
    "tags": []
   },
   "outputs": [],
   "source": [
    "euk_kogs_hit = set(euk_domainhits[\"KOG\"])"
   ]
  },
  {
   "cell_type": "code",
   "execution_count": 29,
   "id": "3bfdb96c",
   "metadata": {
    "tags": []
   },
   "outputs": [],
   "source": [
    "relevantkogs_hit = relevant_kogs.intersection(euk_kogs_hit)\n",
    "relevantkogs_missed = relevant_kogs.difference(euk_kogs_hit)"
   ]
  },
  {
   "cell_type": "code",
   "execution_count": 30,
   "id": "2b618ed8",
   "metadata": {
    "tags": []
   },
   "outputs": [
    {
     "data": {
      "text/plain": [
       "{'K08592', 'K14651', 'K18626', 'K19719', 'K19720', 'K22909'}"
      ]
     },
     "execution_count": 30,
     "metadata": {},
     "output_type": "execute_result"
    }
   ],
   "source": [
    "relevantkogs_missed"
   ]
  },
  {
   "cell_type": "code",
   "execution_count": 31,
   "id": "348dc355",
   "metadata": {
    "tags": []
   },
   "outputs": [],
   "source": [
    "rel_euk_domainhits = euk_domainhits[euk_domainhits[\"KOG\"].isin(relevant_kogs)]"
   ]
  },
  {
   "cell_type": "code",
   "execution_count": 32,
   "id": "89012315",
   "metadata": {
    "tags": []
   },
   "outputs": [
    {
     "data": {
      "text/html": [
       "<div>\n",
       "<style scoped>\n",
       "    .dataframe tbody tr th:only-of-type {\n",
       "        vertical-align: middle;\n",
       "    }\n",
       "\n",
       "    .dataframe tbody tr th {\n",
       "        vertical-align: top;\n",
       "    }\n",
       "\n",
       "    .dataframe thead th {\n",
       "        text-align: right;\n",
       "    }\n",
       "</style>\n",
       "<table border=\"1\" class=\"dataframe\">\n",
       "  <thead>\n",
       "    <tr style=\"text-align: right;\">\n",
       "      <th></th>\n",
       "      <th>Query</th>\n",
       "      <th>KOG</th>\n",
       "      <th>euktarget</th>\n",
       "      <th>proktarget</th>\n",
       "    </tr>\n",
       "  </thead>\n",
       "  <tbody>\n",
       "    <tr>\n",
       "      <th>0</th>\n",
       "      <td>2P0U_A</td>\n",
       "      <td>K00648</td>\n",
       "      <td>1</td>\n",
       "      <td>0</td>\n",
       "    </tr>\n",
       "    <tr>\n",
       "      <th>18</th>\n",
       "      <td>4B0N_B</td>\n",
       "      <td>K00648</td>\n",
       "      <td>1</td>\n",
       "      <td>0</td>\n",
       "    </tr>\n",
       "    <tr>\n",
       "      <th>58</th>\n",
       "      <td>AAA03053.1</td>\n",
       "      <td>K00930</td>\n",
       "      <td>1</td>\n",
       "      <td>1</td>\n",
       "    </tr>\n",
       "    <tr>\n",
       "      <th>60</th>\n",
       "      <td>AAA03053.1</td>\n",
       "      <td>K06981</td>\n",
       "      <td>1</td>\n",
       "      <td>1</td>\n",
       "    </tr>\n",
       "    <tr>\n",
       "      <th>61</th>\n",
       "      <td>AAB22414.1</td>\n",
       "      <td>K02986</td>\n",
       "      <td>0</td>\n",
       "      <td>1</td>\n",
       "    </tr>\n",
       "    <tr>\n",
       "      <th>...</th>\n",
       "      <td>...</td>\n",
       "      <td>...</td>\n",
       "      <td>...</td>\n",
       "      <td>...</td>\n",
       "    </tr>\n",
       "    <tr>\n",
       "      <th>10964588</th>\n",
       "      <td>pir||S35986</td>\n",
       "      <td>K02358</td>\n",
       "      <td>1</td>\n",
       "      <td>1</td>\n",
       "    </tr>\n",
       "    <tr>\n",
       "      <th>10964589</th>\n",
       "      <td>pir||S35986</td>\n",
       "      <td>K03231</td>\n",
       "      <td>1</td>\n",
       "      <td>1</td>\n",
       "    </tr>\n",
       "    <tr>\n",
       "      <th>10964590</th>\n",
       "      <td>pir||S35986</td>\n",
       "      <td>K03242</td>\n",
       "      <td>0</td>\n",
       "      <td>1</td>\n",
       "    </tr>\n",
       "    <tr>\n",
       "      <th>10964593</th>\n",
       "      <td>prf||1802278A</td>\n",
       "      <td>K04043</td>\n",
       "      <td>1</td>\n",
       "      <td>1</td>\n",
       "    </tr>\n",
       "    <tr>\n",
       "      <th>10964594</th>\n",
       "      <td>prf||1802278A</td>\n",
       "      <td>K04044</td>\n",
       "      <td>1</td>\n",
       "      <td>1</td>\n",
       "    </tr>\n",
       "  </tbody>\n",
       "</table>\n",
       "<p>2087687 rows × 4 columns</p>\n",
       "</div>"
      ],
      "text/plain": [
       "                  Query     KOG  euktarget  proktarget\n",
       "0                2P0U_A  K00648          1           0\n",
       "18               4B0N_B  K00648          1           0\n",
       "58           AAA03053.1  K00930          1           1\n",
       "60           AAA03053.1  K06981          1           1\n",
       "61           AAB22414.1  K02986          0           1\n",
       "...                 ...     ...        ...         ...\n",
       "10964588    pir||S35986  K02358          1           1\n",
       "10964589    pir||S35986  K03231          1           1\n",
       "10964590    pir||S35986  K03242          0           1\n",
       "10964593  prf||1802278A  K04043          1           1\n",
       "10964594  prf||1802278A  K04044          1           1\n",
       "\n",
       "[2087687 rows x 4 columns]"
      ]
     },
     "execution_count": 32,
     "metadata": {},
     "output_type": "execute_result"
    }
   ],
   "source": [
    "rel_euk_domainhits"
   ]
  },
  {
   "cell_type": "code",
   "execution_count": 33,
   "id": "1c388913",
   "metadata": {
    "tags": []
   },
   "outputs": [
    {
     "data": {
      "text/plain": [
       "532856"
      ]
     },
     "execution_count": 33,
     "metadata": {},
     "output_type": "execute_result"
    }
   ],
   "source": [
    "sum(~rel_euk_domainhits[\"euktarget\"] & rel_euk_domainhits[\"proktarget\"])"
   ]
  },
  {
   "cell_type": "markdown",
   "id": "3c962df4",
   "metadata": {},
   "source": [
    "### find new relevant KOGs, write accessions"
   ]
  },
  {
   "cell_type": "code",
   "execution_count": 34,
   "id": "040c7e16",
   "metadata": {
    "tags": []
   },
   "outputs": [
    {
     "data": {
      "text/plain": [
       "(23316, 14613)"
      ]
     },
     "execution_count": 34,
     "metadata": {},
     "output_type": "execute_result"
    }
   ],
   "source": [
    "len(euk_kogs_hit), len(prok_kogs_hit)"
   ]
  },
  {
   "cell_type": "code",
   "execution_count": 40,
   "id": "db2a3526",
   "metadata": {
    "tags": []
   },
   "outputs": [
    {
     "data": {
      "text/plain": [
       "12926"
      ]
     },
     "execution_count": 40,
     "metadata": {},
     "output_type": "execute_result"
    }
   ],
   "source": [
    "len(kogs_hitby_both)"
   ]
  },
  {
   "cell_type": "code",
   "execution_count": 41,
   "id": "7fa0a569",
   "metadata": {
    "tags": []
   },
   "outputs": [],
   "source": [
    "kogs_hitby_both = euk_kogs_hit.intersection(prok_kogs_hit)"
   ]
  },
  {
   "cell_type": "code",
   "execution_count": 42,
   "id": "0039b116",
   "metadata": {
    "tags": []
   },
   "outputs": [],
   "source": [
    "accessions_prok_rel = accessions_prok[accessions_prok[\"KOG\"].isin(kogs_hitby_both)]\n",
    "accessions_euk_rel = accessions_euk[accessions_euk[\"KOG\"].isin(kogs_hitby_both)]"
   ]
  },
  {
   "cell_type": "code",
   "execution_count": 43,
   "id": "c6c62b33",
   "metadata": {
    "tags": []
   },
   "outputs": [],
   "source": [
    "accessions_prok_dedup = accessions_prok_rel[[\"Query\", \"KOG\"]].drop_duplicates()\n",
    "accessions_euk_dedup = accessions_euk_rel[[\"Query\", \"KOG\"]].drop_duplicates()"
   ]
  },
  {
   "cell_type": "code",
   "execution_count": 44,
   "id": "f8d64b1b",
   "metadata": {
    "tags": []
   },
   "outputs": [
    {
     "data": {
      "text/plain": [
       "7731888"
      ]
     },
     "execution_count": 44,
     "metadata": {},
     "output_type": "execute_result"
    }
   ],
   "source": [
    "len(set(accessions_prok_rel[\"Query\"]))"
   ]
  },
  {
   "cell_type": "code",
   "execution_count": 45,
   "id": "853c5847",
   "metadata": {
    "tags": []
   },
   "outputs": [
    {
     "data": {
      "text/plain": [
       "1643513"
      ]
     },
     "execution_count": 45,
     "metadata": {},
     "output_type": "execute_result"
    }
   ],
   "source": [
    "len(set(accessions_euk_rel[\"Query\"]))"
   ]
  },
  {
   "cell_type": "code",
   "execution_count": 46,
   "id": "a27b35c3",
   "metadata": {
    "tags": []
   },
   "outputs": [],
   "source": [
    "accessions_prok_out = accessions_prok_dedup.groupby(\"KOG\")[\"Query\"].apply(lambda x: \"\\n\".join(x)).reset_index()\n",
    "accessions_euk_out = accessions_euk_dedup.groupby(\"KOG\")[\"Query\"].apply(lambda x: \"\\n\".join(x)).reset_index()"
   ]
  },
  {
   "cell_type": "code",
   "execution_count": 47,
   "id": "13f3eeba",
   "metadata": {
    "tags": []
   },
   "outputs": [],
   "source": [
    "kogids = accessions_prok_out[\"KOG\"]\n",
    "queryids = accessions_prok_out[\"Query\"]\n",
    "for i in range(10925, len(accessions_prok_out)):\n",
    "    kogid, uid = kogids[i], queryids[i]\n",
    "    outpath = f\"/data/luojaa/eukgen/processing/microcosm_enriched2/{kogid}/{kogid}.target.acc\"\n",
    "    with open(outpath, \"w\") as outfile:\n",
    "        print(uid, file=outfile)"
   ]
  },
  {
   "cell_type": "code",
   "execution_count": 48,
   "id": "59d0ff21",
   "metadata": {
    "tags": []
   },
   "outputs": [],
   "source": [
    "kogids = accessions_euk_out[\"KOG\"]\n",
    "queryids = accessions_euk_out[\"Query\"]\n",
    "for i in range(len(accessions_euk_out)):\n",
    "    kogid, uid = kogids[i], queryids[i]\n",
    "    outpath = f\"/data/luojaa/eukgen/processing/microcosm_enriched2/{kogid}/{kogid}.query.acc\"\n",
    "    with open(outpath, \"w\") as outfile:\n",
    "        print(uid, file=outfile)"
   ]
  },
  {
   "cell_type": "markdown",
   "id": "0b41fde9-8cc9-4cef-9fc0-0d48f05718f3",
   "metadata": {},
   "source": [
    "### combine HMM investigation (run last)"
   ]
  },
  {
   "cell_type": "code",
   "execution_count": 85,
   "id": "824905b4",
   "metadata": {
    "tags": []
   },
   "outputs": [
    {
     "data": {
      "text/html": [
       "\n",
       "<style>\n",
       "  #altair-viz-211cdcd7ef314053bcaa13cb88c1ec7a.vega-embed {\n",
       "    width: 100%;\n",
       "    display: flex;\n",
       "  }\n",
       "\n",
       "  #altair-viz-211cdcd7ef314053bcaa13cb88c1ec7a.vega-embed details,\n",
       "  #altair-viz-211cdcd7ef314053bcaa13cb88c1ec7a.vega-embed details summary {\n",
       "    position: relative;\n",
       "  }\n",
       "</style>\n",
       "<div id=\"altair-viz-211cdcd7ef314053bcaa13cb88c1ec7a\"></div>\n",
       "<script type=\"text/javascript\">\n",
       "  var VEGA_DEBUG = (typeof VEGA_DEBUG == \"undefined\") ? {} : VEGA_DEBUG;\n",
       "  (function(spec, embedOpt){\n",
       "    let outputDiv = document.currentScript.previousElementSibling;\n",
       "    if (outputDiv.id !== \"altair-viz-211cdcd7ef314053bcaa13cb88c1ec7a\") {\n",
       "      outputDiv = document.getElementById(\"altair-viz-211cdcd7ef314053bcaa13cb88c1ec7a\");\n",
       "    }\n",
       "    const paths = {\n",
       "      \"vega\": \"https://cdn.jsdelivr.net/npm/vega@5?noext\",\n",
       "      \"vega-lib\": \"https://cdn.jsdelivr.net/npm/vega-lib?noext\",\n",
       "      \"vega-lite\": \"https://cdn.jsdelivr.net/npm/vega-lite@5.17.0?noext\",\n",
       "      \"vega-embed\": \"https://cdn.jsdelivr.net/npm/vega-embed@6?noext\",\n",
       "    };\n",
       "\n",
       "    function maybeLoadScript(lib, version) {\n",
       "      var key = `${lib.replace(\"-\", \"\")}_version`;\n",
       "      return (VEGA_DEBUG[key] == version) ?\n",
       "        Promise.resolve(paths[lib]) :\n",
       "        new Promise(function(resolve, reject) {\n",
       "          var s = document.createElement('script');\n",
       "          document.getElementsByTagName(\"head\")[0].appendChild(s);\n",
       "          s.async = true;\n",
       "          s.onload = () => {\n",
       "            VEGA_DEBUG[key] = version;\n",
       "            return resolve(paths[lib]);\n",
       "          };\n",
       "          s.onerror = () => reject(`Error loading script: ${paths[lib]}`);\n",
       "          s.src = paths[lib];\n",
       "        });\n",
       "    }\n",
       "\n",
       "    function showError(err) {\n",
       "      outputDiv.innerHTML = `<div class=\"error\" style=\"color:red;\">${err}</div>`;\n",
       "      throw err;\n",
       "    }\n",
       "\n",
       "    function displayChart(vegaEmbed) {\n",
       "      vegaEmbed(outputDiv, spec, embedOpt)\n",
       "        .catch(err => showError(`Javascript Error: ${err.message}<br>This usually means there's a typo in your chart specification. See the javascript console for the full traceback.`));\n",
       "    }\n",
       "\n",
       "    if(typeof define === \"function\" && define.amd) {\n",
       "      requirejs.config({paths});\n",
       "      require([\"vega-embed\"], displayChart, err => showError(`Error loading script: ${err.message}`));\n",
       "    } else {\n",
       "      maybeLoadScript(\"vega\", \"5\")\n",
       "        .then(() => maybeLoadScript(\"vega-lite\", \"5.17.0\"))\n",
       "        .then(() => maybeLoadScript(\"vega-embed\", \"6\"))\n",
       "        .catch(showError)\n",
       "        .then(() => displayChart(vegaEmbed));\n",
       "    }\n",
       "  })({\"config\": {\"view\": {\"continuousWidth\": 300, \"continuousHeight\": 300}}, \"layer\": [{\"mark\": {\"type\": \"line\", \"color\": \"#c4ced4\", \"strokeWidth\": 3}, \"encoding\": {\"color\": {\"field\": \"series_label\", \"type\": \"nominal\"}, \"tooltip\": [{\"field\": \"series_label\", \"type\": \"nominal\"}, {\"field\": \"promiscuous hits per KOG\", \"type\": \"quantitative\"}, {\"field\": \"count\", \"type\": \"quantitative\"}, {\"field\": \"frac_cumsum\", \"type\": \"quantitative\"}], \"x\": {\"field\": \"promiscuous hits per KOG\", \"scale\": {\"domain\": [1, 34971.0], \"type\": \"log\"}, \"title\": \"promiscuous hits per KOG\", \"type\": \"quantitative\"}, \"y\": {\"axis\": {\"labelAlign\": \"right\"}, \"field\": \"frac_cumsum\", \"scale\": {\"domain\": [0, 1]}, \"title\": \"Cumulative sum of count\", \"type\": \"quantitative\"}}, \"name\": \"view_1\", \"title\": \"distribution of promiscious hits among KOGs\"}], \"data\": {\"name\": \"data-b823a95a02ed655cb2f54158f6c5fe4c\"}, \"params\": [{\"name\": \"param_4\", \"select\": {\"type\": \"interval\", \"encodings\": [\"x\", \"y\"]}, \"bind\": \"scales\", \"views\": [\"view_1\"]}], \"resolve\": {\"scale\": {\"y\": \"independent\"}}, \"$schema\": \"https://vega.github.io/schema/vega-lite/v5.17.0.json\", \"datasets\": {\"data-b823a95a02ed655cb2f54158f6c5fe4c\": [{\"promiscuous hits per KOG\": 1.0, \"count\": 77, \"cumsum\": 77, \"frac_cumsum\": 0.03684210526315789, \"weighted_count\": 77.0, \"weighted_cumsum\": 77.0, \"weighted_frac_cumsum\": 0.00014473520975327345, \"series_label\": \"promiscuous euk hits\"}, {\"promiscuous hits per KOG\": 2.0, \"count\": 42, \"cumsum\": 119, \"frac_cumsum\": 0.056937799043062204, \"weighted_count\": 84.0, \"weighted_cumsum\": 161.0, \"weighted_frac_cumsum\": 0.0003026281658477536, \"series_label\": \"promiscuous euk hits\"}, {\"promiscuous hits per KOG\": 3.0, \"count\": 48, \"cumsum\": 167, \"frac_cumsum\": 0.0799043062200957, \"weighted_count\": 144.0, \"weighted_cumsum\": 305.0, \"weighted_frac_cumsum\": 0.0005733018048668624, \"series_label\": \"promiscuous euk hits\"}, {\"promiscuous hits per KOG\": 4.0, \"count\": 33, \"cumsum\": 200, \"frac_cumsum\": 0.09569377990430622, \"weighted_count\": 132.0, \"weighted_cumsum\": 437.0, \"weighted_frac_cumsum\": 0.0008214193073010455, \"series_label\": \"promiscuous euk hits\"}, {\"promiscuous hits per KOG\": 5.0, \"count\": 35, \"cumsum\": 235, \"frac_cumsum\": 0.11244019138755981, \"weighted_count\": 175.0, \"weighted_cumsum\": 612.0, \"weighted_frac_cumsum\": 0.0011503629658312124, \"series_label\": \"promiscuous euk hits\"}, {\"promiscuous hits per KOG\": 6.0, \"count\": 33, \"cumsum\": 268, \"frac_cumsum\": 0.12822966507177033, \"weighted_count\": 198.0, \"weighted_cumsum\": 810.0, \"weighted_frac_cumsum\": 0.0015225392194824871, \"series_label\": \"promiscuous euk hits\"}, {\"promiscuous hits per KOG\": 7.0, \"count\": 44, \"cumsum\": 312, \"frac_cumsum\": 0.1492822966507177, \"weighted_count\": 308.0, \"weighted_cumsum\": 1118.0, \"weighted_frac_cumsum\": 0.002101480058495581, \"series_label\": \"promiscuous euk hits\"}, {\"promiscuous hits per KOG\": 8.0, \"count\": 23, \"cumsum\": 335, \"frac_cumsum\": 0.16028708133971292, \"weighted_count\": 184.0, \"weighted_cumsum\": 1302.0, \"weighted_frac_cumsum\": 0.002447340819464442, \"series_label\": \"promiscuous euk hits\"}, {\"promiscuous hits per KOG\": 9.0, \"count\": 33, \"cumsum\": 368, \"frac_cumsum\": 0.17607655502392344, \"weighted_count\": 297.0, \"weighted_cumsum\": 1599.0, \"weighted_frac_cumsum\": 0.003005605199941354, \"series_label\": \"promiscuous euk hits\"}, {\"promiscuous hits per KOG\": 10.0, \"count\": 33, \"cumsum\": 401, \"frac_cumsum\": 0.19186602870813396, \"weighted_count\": 330.0, \"weighted_cumsum\": 1929.0, \"weighted_frac_cumsum\": 0.0036258989560268118, \"series_label\": \"promiscuous euk hits\"}, {\"promiscuous hits per KOG\": 11.0, \"count\": 30, \"cumsum\": 431, \"frac_cumsum\": 0.20622009569377991, \"weighted_count\": 330.0, \"weighted_cumsum\": 2259.0, \"weighted_frac_cumsum\": 0.0042461927121122695, \"series_label\": \"promiscuous euk hits\"}, {\"promiscuous hits per KOG\": 12.0, \"count\": 27, \"cumsum\": 458, \"frac_cumsum\": 0.21913875598086124, \"weighted_count\": 324.0, \"weighted_cumsum\": 2583.0, \"weighted_frac_cumsum\": 0.004855208399905264, \"series_label\": \"promiscuous euk hits\"}, {\"promiscuous hits per KOG\": 13.0, \"count\": 38, \"cumsum\": 496, \"frac_cumsum\": 0.23732057416267943, \"weighted_count\": 494.0, \"weighted_cumsum\": 3077.0, \"weighted_frac_cumsum\": 0.005783769355984707, \"series_label\": \"promiscuous euk hits\"}, {\"promiscuous hits per KOG\": 14.0, \"count\": 25, \"cumsum\": 521, \"frac_cumsum\": 0.24928229665071772, \"weighted_count\": 350.0, \"weighted_cumsum\": 3427.0, \"weighted_frac_cumsum\": 0.006441656673045041, \"series_label\": \"promiscuous euk hits\"}, {\"promiscuous hits per KOG\": 15.0, \"count\": 26, \"cumsum\": 547, \"frac_cumsum\": 0.2617224880382775, \"weighted_count\": 390.0, \"weighted_cumsum\": 3817.0, \"weighted_frac_cumsum\": 0.0071747311120551275, \"series_label\": \"promiscuous euk hits\"}, {\"promiscuous hits per KOG\": 16.0, \"count\": 31, \"cumsum\": 578, \"frac_cumsum\": 0.276555023923445, \"weighted_count\": 496.0, \"weighted_cumsum\": 4313.0, \"weighted_frac_cumsum\": 0.008107051424232058, \"series_label\": \"promiscuous euk hits\"}, {\"promiscuous hits per KOG\": 17.0, \"count\": 16, \"cumsum\": 594, \"frac_cumsum\": 0.28421052631578947, \"weighted_count\": 272.0, \"weighted_cumsum\": 4585.0, \"weighted_frac_cumsum\": 0.008618323853490375, \"series_label\": \"promiscuous euk hits\"}, {\"promiscuous hits per KOG\": 18.0, \"count\": 29, \"cumsum\": 623, \"frac_cumsum\": 0.2980861244019139, \"weighted_count\": 522.0, \"weighted_cumsum\": 5107.0, \"weighted_frac_cumsum\": 0.009599515794934644, \"series_label\": \"promiscuous euk hits\"}, {\"promiscuous hits per KOG\": 19.0, \"count\": 17, \"cumsum\": 640, \"frac_cumsum\": 0.3062200956937799, \"weighted_count\": 323.0, \"weighted_cumsum\": 5430.0, \"weighted_frac_cumsum\": 0.010206651804678895, \"series_label\": \"promiscuous euk hits\"}, {\"promiscuous hits per KOG\": 20.0, \"count\": 22, \"cumsum\": 662, \"frac_cumsum\": 0.3167464114832536, \"weighted_count\": 440.0, \"weighted_cumsum\": 5870.0, \"weighted_frac_cumsum\": 0.011033710146126172, \"series_label\": \"promiscuous euk hits\"}, {\"promiscuous hits per KOG\": 21.0, \"count\": 25, \"cumsum\": 687, \"frac_cumsum\": 0.3287081339712919, \"weighted_count\": 525.0, \"weighted_cumsum\": 6395.0, \"weighted_frac_cumsum\": 0.012020541121716672, \"series_label\": \"promiscuous euk hits\"}, {\"promiscuous hits per KOG\": 22.0, \"count\": 13, \"cumsum\": 700, \"frac_cumsum\": 0.3349282296650718, \"weighted_count\": 286.0, \"weighted_cumsum\": 6681.0, \"weighted_frac_cumsum\": 0.012558129043657402, \"series_label\": \"promiscuous euk hits\"}, {\"promiscuous hits per KOG\": 23.0, \"count\": 10, \"cumsum\": 710, \"frac_cumsum\": 0.3397129186602871, \"weighted_count\": 230.0, \"weighted_cumsum\": 6911.0, \"weighted_frac_cumsum\": 0.01299045499486848, \"series_label\": \"promiscuous euk hits\"}, {\"promiscuous hits per KOG\": 24.0, \"count\": 19, \"cumsum\": 729, \"frac_cumsum\": 0.34880382775119617, \"weighted_count\": 456.0, \"weighted_cumsum\": 7367.0, \"weighted_frac_cumsum\": 0.013847588185095657, \"series_label\": \"promiscuous euk hits\"}, {\"promiscuous hits per KOG\": 25.0, \"count\": 15, \"cumsum\": 744, \"frac_cumsum\": 0.3559808612440191, \"weighted_count\": 375.0, \"weighted_cumsum\": 7742.0, \"weighted_frac_cumsum\": 0.014552467453374586, \"series_label\": \"promiscuous euk hits\"}, {\"promiscuous hits per KOG\": 26.0, \"count\": 19, \"cumsum\": 763, \"frac_cumsum\": 0.3650717703349282, \"weighted_count\": 494.0, \"weighted_cumsum\": 8236.0, \"weighted_frac_cumsum\": 0.015481028409454029, \"series_label\": \"promiscuous euk hits\"}, {\"promiscuous hits per KOG\": 27.0, \"count\": 17, \"cumsum\": 780, \"frac_cumsum\": 0.37320574162679426, \"weighted_count\": 459.0, \"weighted_cumsum\": 8695.0, \"weighted_frac_cumsum\": 0.016343800633827437, \"series_label\": \"promiscuous euk hits\"}, {\"promiscuous hits per KOG\": 28.0, \"count\": 12, \"cumsum\": 792, \"frac_cumsum\": 0.37894736842105264, \"weighted_count\": 336.0, \"weighted_cumsum\": 9031.0, \"weighted_frac_cumsum\": 0.016975372458205358, \"series_label\": \"promiscuous euk hits\"}, {\"promiscuous hits per KOG\": 29.0, \"count\": 19, \"cumsum\": 811, \"frac_cumsum\": 0.38803827751196174, \"weighted_count\": 551.0, \"weighted_cumsum\": 9582.0, \"weighted_frac_cumsum\": 0.0180110750630632, \"series_label\": \"promiscuous euk hits\"}, {\"promiscuous hits per KOG\": 30.0, \"count\": 13, \"cumsum\": 824, \"frac_cumsum\": 0.39425837320574164, \"weighted_count\": 390.0, \"weighted_cumsum\": 9972.0, \"weighted_frac_cumsum\": 0.018744149502073284, \"series_label\": \"promiscuous euk hits\"}, {\"promiscuous hits per KOG\": 31.0, \"count\": 9, \"cumsum\": 833, \"frac_cumsum\": 0.3985645933014354, \"weighted_count\": 279.0, \"weighted_cumsum\": 10251.0, \"weighted_frac_cumsum\": 0.019268579677672808, \"series_label\": \"promiscuous euk hits\"}, {\"promiscuous hits per KOG\": 32.0, \"count\": 16, \"cumsum\": 849, \"frac_cumsum\": 0.4062200956937799, \"weighted_count\": 512.0, \"weighted_cumsum\": 10763.0, \"weighted_frac_cumsum\": 0.02023097483862964, \"series_label\": \"promiscuous euk hits\"}, {\"promiscuous hits per KOG\": 33.0, \"count\": 17, \"cumsum\": 866, \"frac_cumsum\": 0.4143540669856459, \"weighted_count\": 561.0, \"weighted_cumsum\": 11324.0, \"weighted_frac_cumsum\": 0.021285474223974917, \"series_label\": \"promiscuous euk hits\"}, {\"promiscuous hits per KOG\": 34.0, \"count\": 11, \"cumsum\": 877, \"frac_cumsum\": 0.4196172248803828, \"weighted_count\": 374.0, \"weighted_cumsum\": 11698.0, \"weighted_frac_cumsum\": 0.021988473814205104, \"series_label\": \"promiscuous euk hits\"}, {\"promiscuous hits per KOG\": 35.0, \"count\": 15, \"cumsum\": 892, \"frac_cumsum\": 0.4267942583732057, \"weighted_count\": 525.0, \"weighted_cumsum\": 12223.0, \"weighted_frac_cumsum\": 0.022975304789795602, \"series_label\": \"promiscuous euk hits\"}, {\"promiscuous hits per KOG\": 36.0, \"count\": 14, \"cumsum\": 906, \"frac_cumsum\": 0.43349282296650715, \"weighted_count\": 504.0, \"weighted_cumsum\": 12727.0, \"weighted_frac_cumsum\": 0.023922662526362486, \"series_label\": \"promiscuous euk hits\"}, {\"promiscuous hits per KOG\": 37.0, \"count\": 16, \"cumsum\": 922, \"frac_cumsum\": 0.4411483253588517, \"weighted_count\": 592.0, \"weighted_cumsum\": 13319.0, \"weighted_frac_cumsum\": 0.02503543193121882, \"series_label\": \"promiscuous euk hits\"}, {\"promiscuous hits per KOG\": 38.0, \"count\": 11, \"cumsum\": 933, \"frac_cumsum\": 0.44641148325358854, \"weighted_count\": 418.0, \"weighted_cumsum\": 13737.0, \"weighted_frac_cumsum\": 0.025821137355593732, \"series_label\": \"promiscuous euk hits\"}, {\"promiscuous hits per KOG\": 39.0, \"count\": 11, \"cumsum\": 944, \"frac_cumsum\": 0.45167464114832534, \"weighted_count\": 429.0, \"weighted_cumsum\": 14166.0, \"weighted_frac_cumsum\": 0.02662751923850483, \"series_label\": \"promiscuous euk hits\"}, {\"promiscuous hits per KOG\": 40.0, \"count\": 9, \"cumsum\": 953, \"frac_cumsum\": 0.45598086124401915, \"weighted_count\": 360.0, \"weighted_cumsum\": 14526.0, \"weighted_frac_cumsum\": 0.0273042033360526, \"series_label\": \"promiscuous euk hits\"}, {\"promiscuous hits per KOG\": 41.0, \"count\": 10, \"cumsum\": 963, \"frac_cumsum\": 0.46076555023923443, \"weighted_count\": 410.0, \"weighted_cumsum\": 14936.0, \"weighted_frac_cumsum\": 0.028074871336037564, \"series_label\": \"promiscuous euk hits\"}, {\"promiscuous hits per KOG\": 42.0, \"count\": 7, \"cumsum\": 970, \"frac_cumsum\": 0.46411483253588515, \"weighted_count\": 294.0, \"weighted_cumsum\": 15230.0, \"weighted_frac_cumsum\": 0.028627496682368244, \"series_label\": \"promiscuous euk hits\"}, {\"promiscuous hits per KOG\": 43.0, \"count\": 11, \"cumsum\": 981, \"frac_cumsum\": 0.469377990430622, \"weighted_count\": 473.0, \"weighted_cumsum\": 15703.0, \"weighted_frac_cumsum\": 0.029516584399424065, \"series_label\": \"promiscuous euk hits\"}, {\"promiscuous hits per KOG\": 44.0, \"count\": 7, \"cumsum\": 988, \"frac_cumsum\": 0.4727272727272727, \"weighted_count\": 308.0, \"weighted_cumsum\": 16011.0, \"weighted_frac_cumsum\": 0.03009552523843716, \"series_label\": \"promiscuous euk hits\"}, {\"promiscuous hits per KOG\": 45.0, \"count\": 9, \"cumsum\": 997, \"frac_cumsum\": 0.47703349282296653, \"weighted_count\": 405.0, \"weighted_cumsum\": 16416.0, \"weighted_frac_cumsum\": 0.030856794848178402, \"series_label\": \"promiscuous euk hits\"}, {\"promiscuous hits per KOG\": 46.0, \"count\": 9, \"cumsum\": 1006, \"frac_cumsum\": 0.4813397129186603, \"weighted_count\": 414.0, \"weighted_cumsum\": 16830.0, \"weighted_frac_cumsum\": 0.03163498156035834, \"series_label\": \"promiscuous euk hits\"}, {\"promiscuous hits per KOG\": 47.0, \"count\": 9, \"cumsum\": 1015, \"frac_cumsum\": 0.48564593301435405, \"weighted_count\": 423.0, \"weighted_cumsum\": 17253.0, \"weighted_frac_cumsum\": 0.03243008537497698, \"series_label\": \"promiscuous euk hits\"}, {\"promiscuous hits per KOG\": 48.0, \"count\": 10, \"cumsum\": 1025, \"frac_cumsum\": 0.4904306220095694, \"weighted_count\": 480.0, \"weighted_cumsum\": 17733.0, \"weighted_frac_cumsum\": 0.033332330838374, \"series_label\": \"promiscuous euk hits\"}, {\"promiscuous hits per KOG\": 49.0, \"count\": 16, \"cumsum\": 1041, \"frac_cumsum\": 0.49808612440191385, \"weighted_count\": 784.0, \"weighted_cumsum\": 18517.0, \"weighted_frac_cumsum\": 0.03480599842858915, \"series_label\": \"promiscuous euk hits\"}, {\"promiscuous hits per KOG\": 50.0, \"count\": 15, \"cumsum\": 1056, \"frac_cumsum\": 0.5052631578947369, \"weighted_count\": 750.0, \"weighted_cumsum\": 19267.0, \"weighted_frac_cumsum\": 0.03621575696514701, \"series_label\": \"promiscuous euk hits\"}, {\"promiscuous hits per KOG\": 51.0, \"count\": 6, \"cumsum\": 1062, \"frac_cumsum\": 0.508133971291866, \"weighted_count\": 306.0, \"weighted_cumsum\": 19573.0, \"weighted_frac_cumsum\": 0.03679093844806262, \"series_label\": \"promiscuous euk hits\"}, {\"promiscuous hits per KOG\": 52.0, \"count\": 14, \"cumsum\": 1076, \"frac_cumsum\": 0.5148325358851674, \"weighted_count\": 728.0, \"weighted_cumsum\": 20301.0, \"weighted_frac_cumsum\": 0.03815934406754811, \"series_label\": \"promiscuous euk hits\"}, {\"promiscuous hits per KOG\": 53.0, \"count\": 9, \"cumsum\": 1085, \"frac_cumsum\": 0.5191387559808612, \"weighted_count\": 477.0, \"weighted_cumsum\": 20778.0, \"weighted_frac_cumsum\": 0.03905595049679891, \"series_label\": \"promiscuous euk hits\"}, {\"promiscuous hits per KOG\": 54.0, \"count\": 5, \"cumsum\": 1090, \"frac_cumsum\": 0.5215311004784688, \"weighted_count\": 270.0, \"weighted_cumsum\": 21048.0, \"weighted_frac_cumsum\": 0.03956346356995974, \"series_label\": \"promiscuous euk hits\"}, {\"promiscuous hits per KOG\": 55.0, \"count\": 6, \"cumsum\": 1096, \"frac_cumsum\": 0.5244019138755981, \"weighted_count\": 330.0, \"weighted_cumsum\": 21378.0, \"weighted_frac_cumsum\": 0.0401837573260452, \"series_label\": \"promiscuous euk hits\"}, {\"promiscuous hits per KOG\": 56.0, \"count\": 5, \"cumsum\": 1101, \"frac_cumsum\": 0.5267942583732057, \"weighted_count\": 280.0, \"weighted_cumsum\": 21658.0, \"weighted_frac_cumsum\": 0.040710067179693464, \"series_label\": \"promiscuous euk hits\"}, {\"promiscuous hits per KOG\": 57.0, \"count\": 6, \"cumsum\": 1107, \"frac_cumsum\": 0.529665071770335, \"weighted_count\": 342.0, \"weighted_cumsum\": 22000.0, \"weighted_frac_cumsum\": 0.04135291707236385, \"series_label\": \"promiscuous euk hits\"}, {\"promiscuous hits per KOG\": 58.0, \"count\": 6, \"cumsum\": 1113, \"frac_cumsum\": 0.5325358851674641, \"weighted_count\": 348.0, \"weighted_cumsum\": 22348.0, \"weighted_frac_cumsum\": 0.04200704503332669, \"series_label\": \"promiscuous euk hits\"}, {\"promiscuous hits per KOG\": 59.0, \"count\": 10, \"cumsum\": 1123, \"frac_cumsum\": 0.5373205741626794, \"weighted_count\": 590.0, \"weighted_cumsum\": 22938.0, \"weighted_frac_cumsum\": 0.04311605508208554, \"series_label\": \"promiscuous euk hits\"}, {\"promiscuous hits per KOG\": 60.0, \"count\": 6, \"cumsum\": 1129, \"frac_cumsum\": 0.5401913875598087, \"weighted_count\": 360.0, \"weighted_cumsum\": 23298.0, \"weighted_frac_cumsum\": 0.04379273917963331, \"series_label\": \"promiscuous euk hits\"}, {\"promiscuous hits per KOG\": 61.0, \"count\": 3, \"cumsum\": 1132, \"frac_cumsum\": 0.5416267942583732, \"weighted_count\": 183.0, \"weighted_cumsum\": 23481.0, \"weighted_frac_cumsum\": 0.04413672026255343, \"series_label\": \"promiscuous euk hits\"}, {\"promiscuous hits per KOG\": 62.0, \"count\": 6, \"cumsum\": 1138, \"frac_cumsum\": 0.5444976076555024, \"weighted_count\": 372.0, \"weighted_cumsum\": 23853.0, \"weighted_frac_cumsum\": 0.04483596049668613, \"series_label\": \"promiscuous euk hits\"}, {\"promiscuous hits per KOG\": 63.0, \"count\": 11, \"cumsum\": 1149, \"frac_cumsum\": 0.5497607655502392, \"weighted_count\": 693.0, \"weighted_cumsum\": 24546.0, \"weighted_frac_cumsum\": 0.04613857738446559, \"series_label\": \"promiscuous euk hits\"}, {\"promiscuous hits per KOG\": 64.0, \"count\": 6, \"cumsum\": 1155, \"frac_cumsum\": 0.5526315789473685, \"weighted_count\": 384.0, \"weighted_cumsum\": 24930.0, \"weighted_frac_cumsum\": 0.04686037375518321, \"series_label\": \"promiscuous euk hits\"}, {\"promiscuous hits per KOG\": 65.0, \"count\": 9, \"cumsum\": 1164, \"frac_cumsum\": 0.5569377990430622, \"weighted_count\": 585.0, \"weighted_cumsum\": 25515.0, \"weighted_frac_cumsum\": 0.04795998541369834, \"series_label\": \"promiscuous euk hits\"}, {\"promiscuous hits per KOG\": 66.0, \"count\": 8, \"cumsum\": 1172, \"frac_cumsum\": 0.5607655502392345, \"weighted_count\": 528.0, \"weighted_cumsum\": 26043.0, \"weighted_frac_cumsum\": 0.04895245542343507, \"series_label\": \"promiscuous euk hits\"}, {\"promiscuous hits per KOG\": 67.0, \"count\": 9, \"cumsum\": 1181, \"frac_cumsum\": 0.5650717703349283, \"weighted_count\": 603.0, \"weighted_cumsum\": 26646.0, \"weighted_frac_cumsum\": 0.05008590128682759, \"series_label\": \"promiscuous euk hits\"}, {\"promiscuous hits per KOG\": 68.0, \"count\": 4, \"cumsum\": 1185, \"frac_cumsum\": 0.5669856459330144, \"weighted_count\": 272.0, \"weighted_cumsum\": 26918.0, \"weighted_frac_cumsum\": 0.05059717371608591, \"series_label\": \"promiscuous euk hits\"}, {\"promiscuous hits per KOG\": 69.0, \"count\": 7, \"cumsum\": 1192, \"frac_cumsum\": 0.570334928229665, \"weighted_count\": 483.0, \"weighted_cumsum\": 27401.0, \"weighted_frac_cumsum\": 0.05150505821362917, \"series_label\": \"promiscuous euk hits\"}, {\"promiscuous hits per KOG\": 70.0, \"count\": 3, \"cumsum\": 1195, \"frac_cumsum\": 0.5717703349282297, \"weighted_count\": 210.0, \"weighted_cumsum\": 27611.0, \"weighted_frac_cumsum\": 0.05189979060386537, \"series_label\": \"promiscuous euk hits\"}, {\"promiscuous hits per KOG\": 71.0, \"count\": 4, \"cumsum\": 1199, \"frac_cumsum\": 0.5736842105263158, \"weighted_count\": 284.0, \"weighted_cumsum\": 27895.0, \"weighted_frac_cumsum\": 0.05243361916970861, \"series_label\": \"promiscuous euk hits\"}, {\"promiscuous hits per KOG\": 72.0, \"count\": 6, \"cumsum\": 1205, \"frac_cumsum\": 0.5765550239234449, \"weighted_count\": 432.0, \"weighted_cumsum\": 28327.0, \"weighted_frac_cumsum\": 0.05324564008676594, \"series_label\": \"promiscuous euk hits\"}, {\"promiscuous hits per KOG\": 73.0, \"count\": 3, \"cumsum\": 1208, \"frac_cumsum\": 0.5779904306220096, \"weighted_count\": 219.0, \"weighted_cumsum\": 28546.0, \"weighted_frac_cumsum\": 0.05365728957944083, \"series_label\": \"promiscuous euk hits\"}, {\"promiscuous hits per KOG\": 74.0, \"count\": 6, \"cumsum\": 1214, \"frac_cumsum\": 0.5808612440191387, \"weighted_count\": 444.0, \"weighted_cumsum\": 28990.0, \"weighted_frac_cumsum\": 0.054491866633083086, \"series_label\": \"promiscuous euk hits\"}, {\"promiscuous hits per KOG\": 75.0, \"count\": 4, \"cumsum\": 1218, \"frac_cumsum\": 0.5827751196172248, \"weighted_count\": 300.0, \"weighted_cumsum\": 29290.0, \"weighted_frac_cumsum\": 0.05505577004770623, \"series_label\": \"promiscuous euk hits\"}, {\"promiscuous hits per KOG\": 76.0, \"count\": 3, \"cumsum\": 1221, \"frac_cumsum\": 0.5842105263157895, \"weighted_count\": 228.0, \"weighted_cumsum\": 29518.0, \"weighted_frac_cumsum\": 0.05548433664281982, \"series_label\": \"promiscuous euk hits\"}, {\"promiscuous hits per KOG\": 77.0, \"count\": 3, \"cumsum\": 1224, \"frac_cumsum\": 0.5856459330143541, \"weighted_count\": 231.0, \"weighted_cumsum\": 29749.0, \"weighted_frac_cumsum\": 0.05591854227207964, \"series_label\": \"promiscuous euk hits\"}, {\"promiscuous hits per KOG\": 78.0, \"count\": 10, \"cumsum\": 1234, \"frac_cumsum\": 0.5904306220095694, \"weighted_count\": 780.0, \"weighted_cumsum\": 30529.0, \"weighted_frac_cumsum\": 0.05738469115009981, \"series_label\": \"promiscuous euk hits\"}, {\"promiscuous hits per KOG\": 79.0, \"count\": 8, \"cumsum\": 1242, \"frac_cumsum\": 0.5942583732057416, \"weighted_count\": 632.0, \"weighted_cumsum\": 31161.0, \"weighted_frac_cumsum\": 0.0585726476769059, \"series_label\": \"promiscuous euk hits\"}, {\"promiscuous hits per KOG\": 80.0, \"count\": 4, \"cumsum\": 1246, \"frac_cumsum\": 0.5961722488038278, \"weighted_count\": 320.0, \"weighted_cumsum\": 31481.0, \"weighted_frac_cumsum\": 0.05917414465250392, \"series_label\": \"promiscuous euk hits\"}, {\"promiscuous hits per KOG\": 81.0, \"count\": 7, \"cumsum\": 1253, \"frac_cumsum\": 0.5995215311004785, \"weighted_count\": 567.0, \"weighted_cumsum\": 32048.0, \"weighted_frac_cumsum\": 0.06023992210614166, \"series_label\": \"promiscuous euk hits\"}, {\"promiscuous hits per KOG\": 82.0, \"count\": 6, \"cumsum\": 1259, \"frac_cumsum\": 0.6023923444976077, \"weighted_count\": 492.0, \"weighted_cumsum\": 32540.0, \"weighted_frac_cumsum\": 0.061164723706123615, \"series_label\": \"promiscuous euk hits\"}, {\"promiscuous hits per KOG\": 83.0, \"count\": 5, \"cumsum\": 1264, \"frac_cumsum\": 0.6047846889952153, \"weighted_count\": 415.0, \"weighted_cumsum\": 32955.0, \"weighted_frac_cumsum\": 0.061944790096352294, \"series_label\": \"promiscuous euk hits\"}, {\"promiscuous hits per KOG\": 84.0, \"count\": 6, \"cumsum\": 1270, \"frac_cumsum\": 0.6076555023923444, \"weighted_count\": 504.0, \"weighted_cumsum\": 33459.0, \"weighted_frac_cumsum\": 0.06289214783291917, \"series_label\": \"promiscuous euk hits\"}, {\"promiscuous hits per KOG\": 85.0, \"count\": 6, \"cumsum\": 1276, \"frac_cumsum\": 0.6105263157894737, \"weighted_count\": 510.0, \"weighted_cumsum\": 33969.0, \"weighted_frac_cumsum\": 0.06385078363777852, \"series_label\": \"promiscuous euk hits\"}, {\"promiscuous hits per KOG\": 86.0, \"count\": 7, \"cumsum\": 1283, \"frac_cumsum\": 0.6138755980861244, \"weighted_count\": 602.0, \"weighted_cumsum\": 34571.0, \"weighted_frac_cumsum\": 0.0649823498231223, \"series_label\": \"promiscuous euk hits\"}, {\"promiscuous hits per KOG\": 87.0, \"count\": 5, \"cumsum\": 1288, \"frac_cumsum\": 0.6162679425837321, \"weighted_count\": 435.0, \"weighted_cumsum\": 35006.0, \"weighted_frac_cumsum\": 0.06580000977432586, \"series_label\": \"promiscuous euk hits\"}, {\"promiscuous hits per KOG\": 88.0, \"count\": 7, \"cumsum\": 1295, \"frac_cumsum\": 0.6196172248803827, \"weighted_count\": 616.0, \"weighted_cumsum\": 35622.0, \"weighted_frac_cumsum\": 0.06695789145235204, \"series_label\": \"promiscuous euk hits\"}, {\"promiscuous hits per KOG\": 89.0, \"count\": 2, \"cumsum\": 1297, \"frac_cumsum\": 0.6205741626794259, \"weighted_count\": 178.0, \"weighted_cumsum\": 35800.0, \"weighted_frac_cumsum\": 0.06729247414502844, \"series_label\": \"promiscuous euk hits\"}, {\"promiscuous hits per KOG\": 90.0, \"count\": 3, \"cumsum\": 1300, \"frac_cumsum\": 0.6220095693779905, \"weighted_count\": 270.0, \"weighted_cumsum\": 36070.0, \"weighted_frac_cumsum\": 0.06779998721818926, \"series_label\": \"promiscuous euk hits\"}, {\"promiscuous hits per KOG\": 91.0, \"count\": 7, \"cumsum\": 1307, \"frac_cumsum\": 0.6253588516746411, \"weighted_count\": 637.0, \"weighted_cumsum\": 36707.0, \"weighted_frac_cumsum\": 0.06899734213523907, \"series_label\": \"promiscuous euk hits\"}, {\"promiscuous hits per KOG\": 92.0, \"count\": 6, \"cumsum\": 1313, \"frac_cumsum\": 0.6282296650717704, \"weighted_count\": 552.0, \"weighted_cumsum\": 37259.0, \"weighted_frac_cumsum\": 0.07003492441814566, \"series_label\": \"promiscuous euk hits\"}, {\"promiscuous hits per KOG\": 93.0, \"count\": 5, \"cumsum\": 1318, \"frac_cumsum\": 0.630622009569378, \"weighted_count\": 465.0, \"weighted_cumsum\": 37724.0, \"weighted_frac_cumsum\": 0.07090897471081153, \"series_label\": \"promiscuous euk hits\"}, {\"promiscuous hits per KOG\": 94.0, \"count\": 2, \"cumsum\": 1320, \"frac_cumsum\": 0.631578947368421, \"weighted_count\": 188.0, \"weighted_cumsum\": 37912.0, \"weighted_frac_cumsum\": 0.07126235418397536, \"series_label\": \"promiscuous euk hits\"}, {\"promiscuous hits per KOG\": 95.0, \"count\": 3, \"cumsum\": 1323, \"frac_cumsum\": 0.6330143540669857, \"weighted_count\": 285.0, \"weighted_cumsum\": 38197.0, \"weighted_frac_cumsum\": 0.07179806242786735, \"series_label\": \"promiscuous euk hits\"}, {\"promiscuous hits per KOG\": 96.0, \"count\": 3, \"cumsum\": 1326, \"frac_cumsum\": 0.6344497607655503, \"weighted_count\": 288.0, \"weighted_cumsum\": 38485.0, \"weighted_frac_cumsum\": 0.07233940970590558, \"series_label\": \"promiscuous euk hits\"}, {\"promiscuous hits per KOG\": 97.0, \"count\": 3, \"cumsum\": 1329, \"frac_cumsum\": 0.6358851674641148, \"weighted_count\": 291.0, \"weighted_cumsum\": 38776.0, \"weighted_frac_cumsum\": 0.07288639601809002, \"series_label\": \"promiscuous euk hits\"}, {\"promiscuous hits per KOG\": 98.0, \"count\": 4, \"cumsum\": 1333, \"frac_cumsum\": 0.6377990430622009, \"weighted_count\": 392.0, \"weighted_cumsum\": 39168.0, \"weighted_frac_cumsum\": 0.07362322981319759, \"series_label\": \"promiscuous euk hits\"}, {\"promiscuous hits per KOG\": 99.0, \"count\": 2, \"cumsum\": 1335, \"frac_cumsum\": 0.638755980861244, \"weighted_count\": 198.0, \"weighted_cumsum\": 39366.0, \"weighted_frac_cumsum\": 0.07399540606684887, \"series_label\": \"promiscuous euk hits\"}, {\"promiscuous hits per KOG\": 100.0, \"count\": 7, \"cumsum\": 1342, \"frac_cumsum\": 0.6421052631578947, \"weighted_count\": 700.0, \"weighted_cumsum\": 40066.0, \"weighted_frac_cumsum\": 0.07531118070096954, \"series_label\": \"promiscuous euk hits\"}, {\"promiscuous hits per KOG\": 101.0, \"count\": 4, \"cumsum\": 1346, \"frac_cumsum\": 0.6440191387559808, \"weighted_count\": 404.0, \"weighted_cumsum\": 40470.0, \"weighted_frac_cumsum\": 0.07607057063266204, \"series_label\": \"promiscuous euk hits\"}, {\"promiscuous hits per KOG\": 102.0, \"count\": 6, \"cumsum\": 1352, \"frac_cumsum\": 0.6468899521531101, \"weighted_count\": 612.0, \"weighted_cumsum\": 41082.0, \"weighted_frac_cumsum\": 0.07722093359849325, \"series_label\": \"promiscuous euk hits\"}, {\"promiscuous hits per KOG\": 103.0, \"count\": 3, \"cumsum\": 1355, \"frac_cumsum\": 0.6483253588516746, \"weighted_count\": 309.0, \"weighted_cumsum\": 41391.0, \"weighted_frac_cumsum\": 0.0778017541155551, \"series_label\": \"promiscuous euk hits\"}, {\"promiscuous hits per KOG\": 104.0, \"count\": 4, \"cumsum\": 1359, \"frac_cumsum\": 0.6502392344497607, \"weighted_count\": 416.0, \"weighted_cumsum\": 41807.0, \"weighted_frac_cumsum\": 0.07858370018383251, \"series_label\": \"promiscuous euk hits\"}, {\"promiscuous hits per KOG\": 105.0, \"count\": 3, \"cumsum\": 1362, \"frac_cumsum\": 0.6516746411483254, \"weighted_count\": 315.0, \"weighted_cumsum\": 42122.0, \"weighted_frac_cumsum\": 0.07917579876918682, \"series_label\": \"promiscuous euk hits\"}, {\"promiscuous hits per KOG\": 106.0, \"count\": 4, \"cumsum\": 1366, \"frac_cumsum\": 0.6535885167464115, \"weighted_count\": 424.0, \"weighted_cumsum\": 42546.0, \"weighted_frac_cumsum\": 0.07997278226185418, \"series_label\": \"promiscuous euk hits\"}, {\"promiscuous hits per KOG\": 107.0, \"count\": 4, \"cumsum\": 1370, \"frac_cumsum\": 0.6555023923444976, \"weighted_count\": 428.0, \"weighted_cumsum\": 42974.0, \"weighted_frac_cumsum\": 0.08077728446671655, \"series_label\": \"promiscuous euk hits\"}, {\"promiscuous hits per KOG\": 108.0, \"count\": 4, \"cumsum\": 1374, \"frac_cumsum\": 0.6574162679425838, \"weighted_count\": 432.0, \"weighted_cumsum\": 43406.0, \"weighted_frac_cumsum\": 0.08158930538377386, \"series_label\": \"promiscuous euk hits\"}, {\"promiscuous hits per KOG\": 109.0, \"count\": 6, \"cumsum\": 1380, \"frac_cumsum\": 0.6602870813397129, \"weighted_count\": 654.0, \"weighted_cumsum\": 44060.0, \"weighted_frac_cumsum\": 0.08281861482765232, \"series_label\": \"promiscuous euk hits\"}, {\"promiscuous hits per KOG\": 110.0, \"count\": 4, \"cumsum\": 1384, \"frac_cumsum\": 0.662200956937799, \"weighted_count\": 440.0, \"weighted_cumsum\": 44500.0, \"weighted_frac_cumsum\": 0.0836456731690996, \"series_label\": \"promiscuous euk hits\"}, {\"promiscuous hits per KOG\": 111.0, \"count\": 3, \"cumsum\": 1387, \"frac_cumsum\": 0.6636363636363637, \"weighted_count\": 333.0, \"weighted_cumsum\": 44833.0, \"weighted_frac_cumsum\": 0.08427160595933128, \"series_label\": \"promiscuous euk hits\"}, {\"promiscuous hits per KOG\": 112.0, \"count\": 2, \"cumsum\": 1389, \"frac_cumsum\": 0.6645933014354067, \"weighted_count\": 224.0, \"weighted_cumsum\": 45057.0, \"weighted_frac_cumsum\": 0.0846926538422499, \"series_label\": \"promiscuous euk hits\"}, {\"promiscuous hits per KOG\": 113.0, \"count\": 2, \"cumsum\": 1391, \"frac_cumsum\": 0.6655502392344498, \"weighted_count\": 226.0, \"weighted_cumsum\": 45283.0, \"weighted_frac_cumsum\": 0.085117461081266, \"series_label\": \"promiscuous euk hits\"}, {\"promiscuous hits per KOG\": 114.0, \"count\": 2, \"cumsum\": 1393, \"frac_cumsum\": 0.6665071770334928, \"weighted_count\": 228.0, \"weighted_cumsum\": 45511.0, \"weighted_frac_cumsum\": 0.08554602767637959, \"series_label\": \"promiscuous euk hits\"}, {\"promiscuous hits per KOG\": 115.0, \"count\": 5, \"cumsum\": 1398, \"frac_cumsum\": 0.6688995215311004, \"weighted_count\": 575.0, \"weighted_cumsum\": 46086.0, \"weighted_frac_cumsum\": 0.08662684255440728, \"series_label\": \"promiscuous euk hits\"}, {\"promiscuous hits per KOG\": 116.0, \"count\": 2, \"cumsum\": 1400, \"frac_cumsum\": 0.6698564593301436, \"weighted_count\": 232.0, \"weighted_cumsum\": 46318.0, \"weighted_frac_cumsum\": 0.08706292786171585, \"series_label\": \"promiscuous euk hits\"}, {\"promiscuous hits per KOG\": 117.0, \"count\": 6, \"cumsum\": 1406, \"frac_cumsum\": 0.6727272727272727, \"weighted_count\": 702.0, \"weighted_cumsum\": 47020.0, \"weighted_frac_cumsum\": 0.088382461851934, \"series_label\": \"promiscuous euk hits\"}, {\"promiscuous hits per KOG\": 118.0, \"count\": 2, \"cumsum\": 1408, \"frac_cumsum\": 0.6736842105263158, \"weighted_count\": 236.0, \"weighted_cumsum\": 47256.0, \"weighted_frac_cumsum\": 0.08882606587143754, \"series_label\": \"promiscuous euk hits\"}, {\"promiscuous hits per KOG\": 119.0, \"count\": 5, \"cumsum\": 1413, \"frac_cumsum\": 0.6760765550239235, \"weighted_count\": 595.0, \"weighted_cumsum\": 47851.0, \"weighted_frac_cumsum\": 0.08994447431044011, \"series_label\": \"promiscuous euk hits\"}, {\"promiscuous hits per KOG\": 120.0, \"count\": 4, \"cumsum\": 1417, \"frac_cumsum\": 0.6779904306220096, \"weighted_count\": 480.0, \"weighted_cumsum\": 48331.0, \"weighted_frac_cumsum\": 0.09084671977383714, \"series_label\": \"promiscuous euk hits\"}, {\"promiscuous hits per KOG\": 121.0, \"count\": 2, \"cumsum\": 1419, \"frac_cumsum\": 0.6789473684210526, \"weighted_count\": 242.0, \"weighted_cumsum\": 48573.0, \"weighted_frac_cumsum\": 0.09130160186163314, \"series_label\": \"promiscuous euk hits\"}, {\"promiscuous hits per KOG\": 122.0, \"count\": 3, \"cumsum\": 1422, \"frac_cumsum\": 0.6803827751196172, \"weighted_count\": 366.0, \"weighted_cumsum\": 48939.0, \"weighted_frac_cumsum\": 0.09198956402747338, \"series_label\": \"promiscuous euk hits\"}, {\"promiscuous hits per KOG\": 123.0, \"count\": 4, \"cumsum\": 1426, \"frac_cumsum\": 0.6822966507177034, \"weighted_count\": 492.0, \"weighted_cumsum\": 49431.0, \"weighted_frac_cumsum\": 0.09291436562745532, \"series_label\": \"promiscuous euk hits\"}, {\"promiscuous hits per KOG\": 124.0, \"count\": 3, \"cumsum\": 1429, \"frac_cumsum\": 0.683732057416268, \"weighted_count\": 372.0, \"weighted_cumsum\": 49803.0, \"weighted_frac_cumsum\": 0.09361360586158803, \"series_label\": \"promiscuous euk hits\"}, {\"promiscuous hits per KOG\": 125.0, \"count\": 5, \"cumsum\": 1434, \"frac_cumsum\": 0.6861244019138756, \"weighted_count\": 625.0, \"weighted_cumsum\": 50428.0, \"weighted_frac_cumsum\": 0.0947884046420529, \"series_label\": \"promiscuous euk hits\"}, {\"promiscuous hits per KOG\": 126.0, \"count\": 4, \"cumsum\": 1438, \"frac_cumsum\": 0.6880382775119617, \"weighted_count\": 504.0, \"weighted_cumsum\": 50932.0, \"weighted_frac_cumsum\": 0.09573576237861979, \"series_label\": \"promiscuous euk hits\"}, {\"promiscuous hits per KOG\": 127.0, \"count\": 5, \"cumsum\": 1443, \"frac_cumsum\": 0.6904306220095694, \"weighted_count\": 635.0, \"weighted_cumsum\": 51567.0, \"weighted_frac_cumsum\": 0.09692935793957211, \"series_label\": \"promiscuous euk hits\"}, {\"promiscuous hits per KOG\": 128.0, \"count\": 1, \"cumsum\": 1444, \"frac_cumsum\": 0.6909090909090909, \"weighted_count\": 128.0, \"weighted_cumsum\": 51695.0, \"weighted_frac_cumsum\": 0.09716995672981132, \"series_label\": \"promiscuous euk hits\"}, {\"promiscuous hits per KOG\": 129.0, \"count\": 5, \"cumsum\": 1449, \"frac_cumsum\": 0.6933014354066985, \"weighted_count\": 645.0, \"weighted_cumsum\": 52340.0, \"weighted_frac_cumsum\": 0.09838234907125108, \"series_label\": \"promiscuous euk hits\"}, {\"promiscuous hits per KOG\": 130.0, \"count\": 2, \"cumsum\": 1451, \"frac_cumsum\": 0.6942583732057416, \"weighted_count\": 260.0, \"weighted_cumsum\": 52600.0, \"weighted_frac_cumsum\": 0.09887106536392447, \"series_label\": \"promiscuous euk hits\"}, {\"promiscuous hits per KOG\": 131.0, \"count\": 1, \"cumsum\": 1452, \"frac_cumsum\": 0.6947368421052632, \"weighted_count\": 131.0, \"weighted_cumsum\": 52731.0, \"weighted_frac_cumsum\": 0.09911730318830991, \"series_label\": \"promiscuous euk hits\"}, {\"promiscuous hits per KOG\": 132.0, \"count\": 4, \"cumsum\": 1456, \"frac_cumsum\": 0.6966507177033493, \"weighted_count\": 528.0, \"weighted_cumsum\": 53259.0, \"weighted_frac_cumsum\": 0.10010977319804663, \"series_label\": \"promiscuous euk hits\"}, {\"promiscuous hits per KOG\": 133.0, \"count\": 4, \"cumsum\": 1460, \"frac_cumsum\": 0.6985645933014354, \"weighted_count\": 532.0, \"weighted_cumsum\": 53791.0, \"weighted_frac_cumsum\": 0.10110976191997835, \"series_label\": \"promiscuous euk hits\"}, {\"promiscuous hits per KOG\": 134.0, \"count\": 3, \"cumsum\": 1463, \"frac_cumsum\": 0.7, \"weighted_count\": 402.0, \"weighted_cumsum\": 54193.0, \"weighted_frac_cumsum\": 0.10186539249557336, \"series_label\": \"promiscuous euk hits\"}, {\"promiscuous hits per KOG\": 135.0, \"count\": 3, \"cumsum\": 1466, \"frac_cumsum\": 0.7014354066985646, \"weighted_count\": 405.0, \"weighted_cumsum\": 54598.0, \"weighted_frac_cumsum\": 0.1026266621053146, \"series_label\": \"promiscuous euk hits\"}, {\"promiscuous hits per KOG\": 136.0, \"count\": 6, \"cumsum\": 1472, \"frac_cumsum\": 0.7043062200956938, \"weighted_count\": 816.0, \"weighted_cumsum\": 55414.0, \"weighted_frac_cumsum\": 0.10416047939308955, \"series_label\": \"promiscuous euk hits\"}, {\"promiscuous hits per KOG\": 137.0, \"count\": 2, \"cumsum\": 1474, \"frac_cumsum\": 0.7052631578947368, \"weighted_count\": 274.0, \"weighted_cumsum\": 55688.0, \"weighted_frac_cumsum\": 0.10467551117844535, \"series_label\": \"promiscuous euk hits\"}, {\"promiscuous hits per KOG\": 138.0, \"count\": 1, \"cumsum\": 1475, \"frac_cumsum\": 0.7057416267942583, \"weighted_count\": 138.0, \"weighted_cumsum\": 55826.0, \"weighted_frac_cumsum\": 0.104934906749172, \"series_label\": \"promiscuous euk hits\"}, {\"promiscuous hits per KOG\": 140.0, \"count\": 6, \"cumsum\": 1481, \"frac_cumsum\": 0.7086124401913876, \"weighted_count\": 840.0, \"weighted_cumsum\": 56666.0, \"weighted_frac_cumsum\": 0.10651383631011681, \"series_label\": \"promiscuous euk hits\"}, {\"promiscuous hits per KOG\": 141.0, \"count\": 3, \"cumsum\": 1484, \"frac_cumsum\": 0.7100478468899522, \"weighted_count\": 423.0, \"weighted_cumsum\": 57089.0, \"weighted_frac_cumsum\": 0.10730894012473544, \"series_label\": \"promiscuous euk hits\"}, {\"promiscuous hits per KOG\": 142.0, \"count\": 2, \"cumsum\": 1486, \"frac_cumsum\": 0.7110047846889952, \"weighted_count\": 284.0, \"weighted_cumsum\": 57373.0, \"weighted_frac_cumsum\": 0.10784276869057868, \"series_label\": \"promiscuous euk hits\"}, {\"promiscuous hits per KOG\": 143.0, \"count\": 1, \"cumsum\": 1487, \"frac_cumsum\": 0.7114832535885167, \"weighted_count\": 143.0, \"weighted_cumsum\": 57516.0, \"weighted_frac_cumsum\": 0.10811156265154905, \"series_label\": \"promiscuous euk hits\"}, {\"promiscuous hits per KOG\": 144.0, \"count\": 3, \"cumsum\": 1490, \"frac_cumsum\": 0.7129186602870813, \"weighted_count\": 432.0, \"weighted_cumsum\": 57948.0, \"weighted_frac_cumsum\": 0.10892358356860637, \"series_label\": \"promiscuous euk hits\"}, {\"promiscuous hits per KOG\": 145.0, \"count\": 4, \"cumsum\": 1494, \"frac_cumsum\": 0.7148325358851675, \"weighted_count\": 580.0, \"weighted_cumsum\": 58528.0, \"weighted_frac_cumsum\": 0.11001379683687779, \"series_label\": \"promiscuous euk hits\"}, {\"promiscuous hits per KOG\": 146.0, \"count\": 2, \"cumsum\": 1496, \"frac_cumsum\": 0.7157894736842105, \"weighted_count\": 292.0, \"weighted_cumsum\": 58820.0, \"weighted_frac_cumsum\": 0.11056266282711097, \"series_label\": \"promiscuous euk hits\"}, {\"promiscuous hits per KOG\": 147.0, \"count\": 3, \"cumsum\": 1499, \"frac_cumsum\": 0.7172248803827751, \"weighted_count\": 441.0, \"weighted_cumsum\": 59261.0, \"weighted_frac_cumsum\": 0.11139160084660699, \"series_label\": \"promiscuous euk hits\"}, {\"promiscuous hits per KOG\": 149.0, \"count\": 2, \"cumsum\": 1501, \"frac_cumsum\": 0.7181818181818181, \"weighted_count\": 298.0, \"weighted_cumsum\": 59559.0, \"weighted_frac_cumsum\": 0.11195174490513266, \"series_label\": \"promiscuous euk hits\"}, {\"promiscuous hits per KOG\": 150.0, \"count\": 4, \"cumsum\": 1505, \"frac_cumsum\": 0.7200956937799043, \"weighted_count\": 600.0, \"weighted_cumsum\": 60159.0, \"weighted_frac_cumsum\": 0.11307955173437893, \"series_label\": \"promiscuous euk hits\"}, {\"promiscuous hits per KOG\": 151.0, \"count\": 2, \"cumsum\": 1507, \"frac_cumsum\": 0.7210526315789474, \"weighted_count\": 302.0, \"weighted_cumsum\": 60461.0, \"weighted_frac_cumsum\": 0.11364721450509957, \"series_label\": \"promiscuous euk hits\"}, {\"promiscuous hits per KOG\": 152.0, \"count\": 6, \"cumsum\": 1513, \"frac_cumsum\": 0.7239234449760765, \"weighted_count\": 912.0, \"weighted_cumsum\": 61373.0, \"weighted_frac_cumsum\": 0.11536148088555392, \"series_label\": \"promiscuous euk hits\"}, {\"promiscuous hits per KOG\": 153.0, \"count\": 8, \"cumsum\": 1521, \"frac_cumsum\": 0.7277511961722488, \"weighted_count\": 1224.0, \"weighted_cumsum\": 62597.0, \"weighted_frac_cumsum\": 0.11766220681721634, \"series_label\": \"promiscuous euk hits\"}, {\"promiscuous hits per KOG\": 154.0, \"count\": 1, \"cumsum\": 1522, \"frac_cumsum\": 0.7282296650717703, \"weighted_count\": 154.0, \"weighted_cumsum\": 62751.0, \"weighted_frac_cumsum\": 0.1179516772367229, \"series_label\": \"promiscuous euk hits\"}, {\"promiscuous hits per KOG\": 155.0, \"count\": 3, \"cumsum\": 1525, \"frac_cumsum\": 0.7296650717703349, \"weighted_count\": 465.0, \"weighted_cumsum\": 63216.0, \"weighted_frac_cumsum\": 0.11882572752938876, \"series_label\": \"promiscuous euk hits\"}, {\"promiscuous hits per KOG\": 156.0, \"count\": 1, \"cumsum\": 1526, \"frac_cumsum\": 0.7301435406698564, \"weighted_count\": 156.0, \"weighted_cumsum\": 63372.0, \"weighted_frac_cumsum\": 0.1191189573049928, \"series_label\": \"promiscuous euk hits\"}, {\"promiscuous hits per KOG\": 157.0, \"count\": 2, \"cumsum\": 1528, \"frac_cumsum\": 0.7311004784688995, \"weighted_count\": 314.0, \"weighted_cumsum\": 63686.0, \"weighted_frac_cumsum\": 0.11970917621229836, \"series_label\": \"promiscuous euk hits\"}, {\"promiscuous hits per KOG\": 158.0, \"count\": 3, \"cumsum\": 1531, \"frac_cumsum\": 0.7325358851674642, \"weighted_count\": 474.0, \"weighted_cumsum\": 64160.0, \"weighted_frac_cumsum\": 0.12060014360740293, \"series_label\": \"promiscuous euk hits\"}, {\"promiscuous hits per KOG\": 160.0, \"count\": 6, \"cumsum\": 1537, \"frac_cumsum\": 0.7354066985645933, \"weighted_count\": 960.0, \"weighted_cumsum\": 65120.0, \"weighted_frac_cumsum\": 0.12240463453419698, \"series_label\": \"promiscuous euk hits\"}, {\"promiscuous hits per KOG\": 161.0, \"count\": 1, \"cumsum\": 1538, \"frac_cumsum\": 0.7358851674641148, \"weighted_count\": 161.0, \"weighted_cumsum\": 65281.0, \"weighted_frac_cumsum\": 0.12270726270004474, \"series_label\": \"promiscuous euk hits\"}, {\"promiscuous hits per KOG\": 162.0, \"count\": 2, \"cumsum\": 1540, \"frac_cumsum\": 0.7368421052631579, \"weighted_count\": 324.0, \"weighted_cumsum\": 65605.0, \"weighted_frac_cumsum\": 0.12331627838783774, \"series_label\": \"promiscuous euk hits\"}, {\"promiscuous hits per KOG\": 163.0, \"count\": 1, \"cumsum\": 1541, \"frac_cumsum\": 0.7373205741626794, \"weighted_count\": 163.0, \"weighted_cumsum\": 65768.0, \"weighted_frac_cumsum\": 0.12362266590978298, \"series_label\": \"promiscuous euk hits\"}, {\"promiscuous hits per KOG\": 164.0, \"count\": 1, \"cumsum\": 1542, \"frac_cumsum\": 0.737799043062201, \"weighted_count\": 164.0, \"weighted_cumsum\": 65932.0, \"weighted_frac_cumsum\": 0.12393093310977696, \"series_label\": \"promiscuous euk hits\"}, {\"promiscuous hits per KOG\": 165.0, \"count\": 2, \"cumsum\": 1544, \"frac_cumsum\": 0.738755980861244, \"weighted_count\": 330.0, \"weighted_cumsum\": 66262.0, \"weighted_frac_cumsum\": 0.12455122686586241, \"series_label\": \"promiscuous euk hits\"}, {\"promiscuous hits per KOG\": 166.0, \"count\": 5, \"cumsum\": 1549, \"frac_cumsum\": 0.7411483253588517, \"weighted_count\": 830.0, \"weighted_cumsum\": 67092.0, \"weighted_frac_cumsum\": 0.12611135964631978, \"series_label\": \"promiscuous euk hits\"}, {\"promiscuous hits per KOG\": 167.0, \"count\": 1, \"cumsum\": 1550, \"frac_cumsum\": 0.7416267942583732, \"weighted_count\": 167.0, \"weighted_cumsum\": 67259.0, \"weighted_frac_cumsum\": 0.12642526588046, \"series_label\": \"promiscuous euk hits\"}, {\"promiscuous hits per KOG\": 168.0, \"count\": 1, \"cumsum\": 1551, \"frac_cumsum\": 0.7421052631578947, \"weighted_count\": 168.0, \"weighted_cumsum\": 67427.0, \"weighted_frac_cumsum\": 0.12674105179264897, \"series_label\": \"promiscuous euk hits\"}, {\"promiscuous hits per KOG\": 170.0, \"count\": 6, \"cumsum\": 1557, \"frac_cumsum\": 0.744976076555024, \"weighted_count\": 1020.0, \"weighted_cumsum\": 68447.0, \"weighted_frac_cumsum\": 0.12865832340236763, \"series_label\": \"promiscuous euk hits\"}, {\"promiscuous hits per KOG\": 172.0, \"count\": 2, \"cumsum\": 1559, \"frac_cumsum\": 0.745933014354067, \"weighted_count\": 344.0, \"weighted_cumsum\": 68791.0, \"weighted_frac_cumsum\": 0.12930493265113552, \"series_label\": \"promiscuous euk hits\"}, {\"promiscuous hits per KOG\": 173.0, \"count\": 1, \"cumsum\": 1560, \"frac_cumsum\": 0.7464114832535885, \"weighted_count\": 173.0, \"weighted_cumsum\": 68964.0, \"weighted_frac_cumsum\": 0.1296301169535682, \"series_label\": \"promiscuous euk hits\"}, {\"promiscuous hits per KOG\": 174.0, \"count\": 3, \"cumsum\": 1563, \"frac_cumsum\": 0.7478468899521531, \"weighted_count\": 522.0, \"weighted_cumsum\": 69486.0, \"weighted_frac_cumsum\": 0.13061130889501246, \"series_label\": \"promiscuous euk hits\"}, {\"promiscuous hits per KOG\": 175.0, \"count\": 1, \"cumsum\": 1564, \"frac_cumsum\": 0.7483253588516746, \"weighted_count\": 175.0, \"weighted_cumsum\": 69661.0, \"weighted_frac_cumsum\": 0.13094025255354264, \"series_label\": \"promiscuous euk hits\"}, {\"promiscuous hits per KOG\": 176.0, \"count\": 3, \"cumsum\": 1567, \"frac_cumsum\": 0.7497607655502392, \"weighted_count\": 528.0, \"weighted_cumsum\": 70189.0, \"weighted_frac_cumsum\": 0.13193272256327937, \"series_label\": \"promiscuous euk hits\"}, {\"promiscuous hits per KOG\": 177.0, \"count\": 1, \"cumsum\": 1568, \"frac_cumsum\": 0.7502392344497608, \"weighted_count\": 177.0, \"weighted_cumsum\": 70366.0, \"weighted_frac_cumsum\": 0.13226542557790702, \"series_label\": \"promiscuous euk hits\"}, {\"promiscuous hits per KOG\": 178.0, \"count\": 3, \"cumsum\": 1571, \"frac_cumsum\": 0.7516746411483254, \"weighted_count\": 534.0, \"weighted_cumsum\": 70900.0, \"weighted_frac_cumsum\": 0.1332691736559362, \"series_label\": \"promiscuous euk hits\"}, {\"promiscuous hits per KOG\": 179.0, \"count\": 1, \"cumsum\": 1572, \"frac_cumsum\": 0.7521531100478469, \"weighted_count\": 179.0, \"weighted_cumsum\": 71079.0, \"weighted_frac_cumsum\": 0.13360563602666134, \"series_label\": \"promiscuous euk hits\"}, {\"promiscuous hits per KOG\": 180.0, \"count\": 4, \"cumsum\": 1576, \"frac_cumsum\": 0.754066985645933, \"weighted_count\": 720.0, \"weighted_cumsum\": 71799.0, \"weighted_frac_cumsum\": 0.13495900422175688, \"series_label\": \"promiscuous euk hits\"}, {\"promiscuous hits per KOG\": 181.0, \"count\": 3, \"cumsum\": 1579, \"frac_cumsum\": 0.7555023923444976, \"weighted_count\": 543.0, \"weighted_cumsum\": 72342.0, \"weighted_frac_cumsum\": 0.13597966940222478, \"series_label\": \"promiscuous euk hits\"}, {\"promiscuous hits per KOG\": 182.0, \"count\": 4, \"cumsum\": 1583, \"frac_cumsum\": 0.7574162679425838, \"weighted_count\": 728.0, \"weighted_cumsum\": 73070.0, \"weighted_frac_cumsum\": 0.1373480750217103, \"series_label\": \"promiscuous euk hits\"}, {\"promiscuous hits per KOG\": 183.0, \"count\": 1, \"cumsum\": 1584, \"frac_cumsum\": 0.7578947368421053, \"weighted_count\": 183.0, \"weighted_cumsum\": 73253.0, \"weighted_frac_cumsum\": 0.1376920561046304, \"series_label\": \"promiscuous euk hits\"}, {\"promiscuous hits per KOG\": 184.0, \"count\": 2, \"cumsum\": 1586, \"frac_cumsum\": 0.7588516746411483, \"weighted_count\": 368.0, \"weighted_cumsum\": 73621.0, \"weighted_frac_cumsum\": 0.13838377762656812, \"series_label\": \"promiscuous euk hits\"}, {\"promiscuous hits per KOG\": 185.0, \"count\": 1, \"cumsum\": 1587, \"frac_cumsum\": 0.7593301435406699, \"weighted_count\": 185.0, \"weighted_cumsum\": 73806.0, \"weighted_frac_cumsum\": 0.13873151806558573, \"series_label\": \"promiscuous euk hits\"}, {\"promiscuous hits per KOG\": 186.0, \"count\": 3, \"cumsum\": 1590, \"frac_cumsum\": 0.7607655502392344, \"weighted_count\": 558.0, \"weighted_cumsum\": 74364.0, \"weighted_frac_cumsum\": 0.13978037841678478, \"series_label\": \"promiscuous euk hits\"}, {\"promiscuous hits per KOG\": 187.0, \"count\": 2, \"cumsum\": 1592, \"frac_cumsum\": 0.7617224880382775, \"weighted_count\": 374.0, \"weighted_cumsum\": 74738.0, \"weighted_frac_cumsum\": 0.14048337800701496, \"series_label\": \"promiscuous euk hits\"}, {\"promiscuous hits per KOG\": 188.0, \"count\": 1, \"cumsum\": 1593, \"frac_cumsum\": 0.762200956937799, \"weighted_count\": 188.0, \"weighted_cumsum\": 74926.0, \"weighted_frac_cumsum\": 0.1408367574801788, \"series_label\": \"promiscuous euk hits\"}, {\"promiscuous hits per KOG\": 189.0, \"count\": 1, \"cumsum\": 1594, \"frac_cumsum\": 0.7626794258373206, \"weighted_count\": 189.0, \"weighted_cumsum\": 75115.0, \"weighted_frac_cumsum\": 0.1411920166313914, \"series_label\": \"promiscuous euk hits\"}, {\"promiscuous hits per KOG\": 190.0, \"count\": 3, \"cumsum\": 1597, \"frac_cumsum\": 0.7641148325358852, \"weighted_count\": 570.0, \"weighted_cumsum\": 75685.0, \"weighted_frac_cumsum\": 0.14226343311917536, \"series_label\": \"promiscuous euk hits\"}, {\"promiscuous hits per KOG\": 191.0, \"count\": 1, \"cumsum\": 1598, \"frac_cumsum\": 0.7645933014354067, \"weighted_count\": 191.0, \"weighted_cumsum\": 75876.0, \"weighted_frac_cumsum\": 0.1426224516264854, \"series_label\": \"promiscuous euk hits\"}, {\"promiscuous hits per KOG\": 193.0, \"count\": 4, \"cumsum\": 1602, \"frac_cumsum\": 0.7665071770334928, \"weighted_count\": 772.0, \"weighted_cumsum\": 76648.0, \"weighted_frac_cumsum\": 0.14407356308011562, \"series_label\": \"promiscuous euk hits\"}, {\"promiscuous hits per KOG\": 194.0, \"count\": 3, \"cumsum\": 1605, \"frac_cumsum\": 0.7679425837320574, \"weighted_count\": 582.0, \"weighted_cumsum\": 77230.0, \"weighted_frac_cumsum\": 0.14516753570448454, \"series_label\": \"promiscuous euk hits\"}, {\"promiscuous hits per KOG\": 195.0, \"count\": 1, \"cumsum\": 1606, \"frac_cumsum\": 0.7684210526315789, \"weighted_count\": 195.0, \"weighted_cumsum\": 77425.0, \"weighted_frac_cumsum\": 0.14553407292398957, \"series_label\": \"promiscuous euk hits\"}, {\"promiscuous hits per KOG\": 196.0, \"count\": 4, \"cumsum\": 1610, \"frac_cumsum\": 0.7703349282296651, \"weighted_count\": 784.0, \"weighted_cumsum\": 78209.0, \"weighted_frac_cumsum\": 0.14700774051420473, \"series_label\": \"promiscuous euk hits\"}, {\"promiscuous hits per KOG\": 198.0, \"count\": 5, \"cumsum\": 1615, \"frac_cumsum\": 0.7727272727272727, \"weighted_count\": 990.0, \"weighted_cumsum\": 79199.0, \"weighted_frac_cumsum\": 0.1488686217824611, \"series_label\": \"promiscuous euk hits\"}, {\"promiscuous hits per KOG\": 201.0, \"count\": 2, \"cumsum\": 1617, \"frac_cumsum\": 0.7736842105263158, \"weighted_count\": 402.0, \"weighted_cumsum\": 79601.0, \"weighted_frac_cumsum\": 0.14962425235805613, \"series_label\": \"promiscuous euk hits\"}, {\"promiscuous hits per KOG\": 202.0, \"count\": 1, \"cumsum\": 1618, \"frac_cumsum\": 0.7741626794258373, \"weighted_count\": 202.0, \"weighted_cumsum\": 79803.0, \"weighted_frac_cumsum\": 0.15000394732390238, \"series_label\": \"promiscuous euk hits\"}, {\"promiscuous hits per KOG\": 203.0, \"count\": 1, \"cumsum\": 1619, \"frac_cumsum\": 0.7746411483253588, \"weighted_count\": 203.0, \"weighted_cumsum\": 80006.0, \"weighted_frac_cumsum\": 0.15038552196779736, \"series_label\": \"promiscuous euk hits\"}, {\"promiscuous hits per KOG\": 204.0, \"count\": 2, \"cumsum\": 1621, \"frac_cumsum\": 0.775598086124402, \"weighted_count\": 408.0, \"weighted_cumsum\": 80414.0, \"weighted_frac_cumsum\": 0.15115243061168482, \"series_label\": \"promiscuous euk hits\"}, {\"promiscuous hits per KOG\": 205.0, \"count\": 3, \"cumsum\": 1624, \"frac_cumsum\": 0.7770334928229665, \"weighted_count\": 615.0, \"weighted_cumsum\": 81029.0, \"weighted_frac_cumsum\": 0.15230843261166227, \"series_label\": \"promiscuous euk hits\"}, {\"promiscuous hits per KOG\": 206.0, \"count\": 2, \"cumsum\": 1626, \"frac_cumsum\": 0.7779904306220096, \"weighted_count\": 412.0, \"weighted_cumsum\": 81441.0, \"weighted_frac_cumsum\": 0.15308285996774473, \"series_label\": \"promiscuous euk hits\"}, {\"promiscuous hits per KOG\": 207.0, \"count\": 2, \"cumsum\": 1628, \"frac_cumsum\": 0.7789473684210526, \"weighted_count\": 414.0, \"weighted_cumsum\": 81855.0, \"weighted_frac_cumsum\": 0.15386104667992467, \"series_label\": \"promiscuous euk hits\"}, {\"promiscuous hits per KOG\": 208.0, \"count\": 2, \"cumsum\": 1630, \"frac_cumsum\": 0.7799043062200957, \"weighted_count\": 416.0, \"weighted_cumsum\": 82271.0, \"weighted_frac_cumsum\": 0.1546429927482021, \"series_label\": \"promiscuous euk hits\"}, {\"promiscuous hits per KOG\": 209.0, \"count\": 1, \"cumsum\": 1631, \"frac_cumsum\": 0.7803827751196172, \"weighted_count\": 209.0, \"weighted_cumsum\": 82480.0, \"weighted_frac_cumsum\": 0.15503584546038954, \"series_label\": \"promiscuous euk hits\"}, {\"promiscuous hits per KOG\": 210.0, \"count\": 1, \"cumsum\": 1632, \"frac_cumsum\": 0.7808612440191387, \"weighted_count\": 210.0, \"weighted_cumsum\": 82690.0, \"weighted_frac_cumsum\": 0.15543057785062575, \"series_label\": \"promiscuous euk hits\"}, {\"promiscuous hits per KOG\": 211.0, \"count\": 4, \"cumsum\": 1636, \"frac_cumsum\": 0.7827751196172249, \"weighted_count\": 844.0, \"weighted_cumsum\": 83534.0, \"weighted_frac_cumsum\": 0.15701702612376553, \"series_label\": \"promiscuous euk hits\"}, {\"promiscuous hits per KOG\": 212.0, \"count\": 1, \"cumsum\": 1637, \"frac_cumsum\": 0.7832535885167464, \"weighted_count\": 212.0, \"weighted_cumsum\": 83746.0, \"weighted_frac_cumsum\": 0.15741551787009922, \"series_label\": \"promiscuous euk hits\"}, {\"promiscuous hits per KOG\": 213.0, \"count\": 1, \"cumsum\": 1638, \"frac_cumsum\": 0.783732057416268, \"weighted_count\": 213.0, \"weighted_cumsum\": 83959.0, \"weighted_frac_cumsum\": 0.15781588929448165, \"series_label\": \"promiscuous euk hits\"}, {\"promiscuous hits per KOG\": 214.0, \"count\": 1, \"cumsum\": 1639, \"frac_cumsum\": 0.7842105263157895, \"weighted_count\": 214.0, \"weighted_cumsum\": 84173.0, \"weighted_frac_cumsum\": 0.15821814039691282, \"series_label\": \"promiscuous euk hits\"}, {\"promiscuous hits per KOG\": 215.0, \"count\": 3, \"cumsum\": 1642, \"frac_cumsum\": 0.785645933014354, \"weighted_count\": 645.0, \"weighted_cumsum\": 84818.0, \"weighted_frac_cumsum\": 0.1594305327383526, \"series_label\": \"promiscuous euk hits\"}, {\"promiscuous hits per KOG\": 217.0, \"count\": 3, \"cumsum\": 1645, \"frac_cumsum\": 0.7870813397129187, \"weighted_count\": 651.0, \"weighted_cumsum\": 85469.0, \"weighted_frac_cumsum\": 0.1606542031480848, \"series_label\": \"promiscuous euk hits\"}, {\"promiscuous hits per KOG\": 218.0, \"count\": 1, \"cumsum\": 1646, \"frac_cumsum\": 0.7875598086124402, \"weighted_count\": 218.0, \"weighted_cumsum\": 85687.0, \"weighted_frac_cumsum\": 0.16106397296271094, \"series_label\": \"promiscuous euk hits\"}, {\"promiscuous hits per KOG\": 219.0, \"count\": 1, \"cumsum\": 1647, \"frac_cumsum\": 0.7880382775119618, \"weighted_count\": 219.0, \"weighted_cumsum\": 85906.0, \"weighted_frac_cumsum\": 0.16147562245538585, \"series_label\": \"promiscuous euk hits\"}, {\"promiscuous hits per KOG\": 220.0, \"count\": 1, \"cumsum\": 1648, \"frac_cumsum\": 0.7885167464114833, \"weighted_count\": 220.0, \"weighted_cumsum\": 86126.0, \"weighted_frac_cumsum\": 0.16188915162610948, \"series_label\": \"promiscuous euk hits\"}, {\"promiscuous hits per KOG\": 222.0, \"count\": 2, \"cumsum\": 1650, \"frac_cumsum\": 0.7894736842105263, \"weighted_count\": 444.0, \"weighted_cumsum\": 86570.0, \"weighted_frac_cumsum\": 0.16272372867975174, \"series_label\": \"promiscuous euk hits\"}, {\"promiscuous hits per KOG\": 223.0, \"count\": 3, \"cumsum\": 1653, \"frac_cumsum\": 0.7909090909090909, \"weighted_count\": 669.0, \"weighted_cumsum\": 87239.0, \"weighted_frac_cumsum\": 0.16398123329436134, \"series_label\": \"promiscuous euk hits\"}, {\"promiscuous hits per KOG\": 224.0, \"count\": 3, \"cumsum\": 1656, \"frac_cumsum\": 0.7923444976076555, \"weighted_count\": 672.0, \"weighted_cumsum\": 87911.0, \"weighted_frac_cumsum\": 0.1652443769431172, \"series_label\": \"promiscuous euk hits\"}, {\"promiscuous hits per KOG\": 225.0, \"count\": 1, \"cumsum\": 1657, \"frac_cumsum\": 0.792822966507177, \"weighted_count\": 225.0, \"weighted_cumsum\": 88136.0, \"weighted_frac_cumsum\": 0.16566730450408454, \"series_label\": \"promiscuous euk hits\"}, {\"promiscuous hits per KOG\": 226.0, \"count\": 2, \"cumsum\": 1659, \"frac_cumsum\": 0.7937799043062201, \"weighted_count\": 452.0, \"weighted_cumsum\": 88588.0, \"weighted_frac_cumsum\": 0.16651691898211674, \"series_label\": \"promiscuous euk hits\"}, {\"promiscuous hits per KOG\": 228.0, \"count\": 2, \"cumsum\": 1661, \"frac_cumsum\": 0.7947368421052632, \"weighted_count\": 456.0, \"weighted_cumsum\": 89044.0, \"weighted_frac_cumsum\": 0.1673740521723439, \"series_label\": \"promiscuous euk hits\"}, {\"promiscuous hits per KOG\": 230.0, \"count\": 2, \"cumsum\": 1663, \"frac_cumsum\": 0.7956937799043062, \"weighted_count\": 460.0, \"weighted_cumsum\": 89504.0, \"weighted_frac_cumsum\": 0.16823870407476607, \"series_label\": \"promiscuous euk hits\"}, {\"promiscuous hits per KOG\": 231.0, \"count\": 2, \"cumsum\": 1665, \"frac_cumsum\": 0.7966507177033493, \"weighted_count\": 462.0, \"weighted_cumsum\": 89966.0, \"weighted_frac_cumsum\": 0.1691071153332857, \"series_label\": \"promiscuous euk hits\"}, {\"promiscuous hits per KOG\": 234.0, \"count\": 2, \"cumsum\": 1667, \"frac_cumsum\": 0.7976076555023923, \"weighted_count\": 468.0, \"weighted_cumsum\": 90434.0, \"weighted_frac_cumsum\": 0.16998680466009783, \"series_label\": \"promiscuous euk hits\"}, {\"promiscuous hits per KOG\": 235.0, \"count\": 1, \"cumsum\": 1668, \"frac_cumsum\": 0.7980861244019138, \"weighted_count\": 235.0, \"weighted_cumsum\": 90669.0, \"weighted_frac_cumsum\": 0.17042852900155261, \"series_label\": \"promiscuous euk hits\"}, {\"promiscuous hits per KOG\": 237.0, \"count\": 1, \"cumsum\": 1669, \"frac_cumsum\": 0.7985645933014354, \"weighted_count\": 237.0, \"weighted_cumsum\": 90906.0, \"weighted_frac_cumsum\": 0.1708740126991049, \"series_label\": \"promiscuous euk hits\"}, {\"promiscuous hits per KOG\": 239.0, \"count\": 2, \"cumsum\": 1671, \"frac_cumsum\": 0.7995215311004785, \"weighted_count\": 478.0, \"weighted_cumsum\": 91384.0, \"weighted_frac_cumsum\": 0.17177249880640444, \"series_label\": \"promiscuous euk hits\"}, {\"promiscuous hits per KOG\": 240.0, \"count\": 1, \"cumsum\": 1672, \"frac_cumsum\": 0.8, \"weighted_count\": 240.0, \"weighted_cumsum\": 91624.0, \"weighted_frac_cumsum\": 0.17222362153810294, \"series_label\": \"promiscuous euk hits\"}, {\"promiscuous hits per KOG\": 241.0, \"count\": 1, \"cumsum\": 1673, \"frac_cumsum\": 0.8004784688995216, \"weighted_count\": 241.0, \"weighted_cumsum\": 91865.0, \"weighted_frac_cumsum\": 0.17267662394785022, \"series_label\": \"promiscuous euk hits\"}, {\"promiscuous hits per KOG\": 242.0, \"count\": 1, \"cumsum\": 1674, \"frac_cumsum\": 0.8009569377990431, \"weighted_count\": 242.0, \"weighted_cumsum\": 92107.0, \"weighted_frac_cumsum\": 0.17313150603564623, \"series_label\": \"promiscuous euk hits\"}, {\"promiscuous hits per KOG\": 243.0, \"count\": 3, \"cumsum\": 1677, \"frac_cumsum\": 0.8023923444976077, \"weighted_count\": 729.0, \"weighted_cumsum\": 92836.0, \"weighted_frac_cumsum\": 0.17450179133318044, \"series_label\": \"promiscuous euk hits\"}, {\"promiscuous hits per KOG\": 244.0, \"count\": 1, \"cumsum\": 1678, \"frac_cumsum\": 0.8028708133971292, \"weighted_count\": 244.0, \"weighted_cumsum\": 93080.0, \"weighted_frac_cumsum\": 0.17496043277707393, \"series_label\": \"promiscuous euk hits\"}, {\"promiscuous hits per KOG\": 245.0, \"count\": 4, \"cumsum\": 1682, \"frac_cumsum\": 0.8047846889952153, \"weighted_count\": 980.0, \"weighted_cumsum\": 94060.0, \"weighted_frac_cumsum\": 0.1768025172648429, \"series_label\": \"promiscuous euk hits\"}, {\"promiscuous hits per KOG\": 246.0, \"count\": 1, \"cumsum\": 1683, \"frac_cumsum\": 0.8052631578947368, \"weighted_count\": 246.0, \"weighted_cumsum\": 94306.0, \"weighted_frac_cumsum\": 0.17726491806483385, \"series_label\": \"promiscuous euk hits\"}, {\"promiscuous hits per KOG\": 247.0, \"count\": 1, \"cumsum\": 1684, \"frac_cumsum\": 0.8057416267942584, \"weighted_count\": 247.0, \"weighted_cumsum\": 94553.0, \"weighted_frac_cumsum\": 0.17772919854287358, \"series_label\": \"promiscuous euk hits\"}, {\"promiscuous hits per KOG\": 249.0, \"count\": 1, \"cumsum\": 1685, \"frac_cumsum\": 0.80622009569378, \"weighted_count\": 249.0, \"weighted_cumsum\": 94802.0, \"weighted_frac_cumsum\": 0.1781972383770108, \"series_label\": \"promiscuous euk hits\"}, {\"promiscuous hits per KOG\": 251.0, \"count\": 1, \"cumsum\": 1686, \"frac_cumsum\": 0.8066985645933015, \"weighted_count\": 251.0, \"weighted_cumsum\": 95053.0, \"weighted_frac_cumsum\": 0.17866903756724548, \"series_label\": \"promiscuous euk hits\"}, {\"promiscuous hits per KOG\": 252.0, \"count\": 3, \"cumsum\": 1689, \"frac_cumsum\": 0.808133971291866, \"weighted_count\": 756.0, \"weighted_cumsum\": 95809.0, \"weighted_frac_cumsum\": 0.1800900741720958, \"series_label\": \"promiscuous euk hits\"}, {\"promiscuous hits per KOG\": 253.0, \"count\": 1, \"cumsum\": 1690, \"frac_cumsum\": 0.8086124401913876, \"weighted_count\": 253.0, \"weighted_cumsum\": 96062.0, \"weighted_frac_cumsum\": 0.180565632718428, \"series_label\": \"promiscuous euk hits\"}, {\"promiscuous hits per KOG\": 254.0, \"count\": 2, \"cumsum\": 1692, \"frac_cumsum\": 0.8095693779904306, \"weighted_count\": 508.0, \"weighted_cumsum\": 96570.0, \"weighted_frac_cumsum\": 0.18152050916718984, \"series_label\": \"promiscuous euk hits\"}, {\"promiscuous hits per KOG\": 255.0, \"count\": 1, \"cumsum\": 1693, \"frac_cumsum\": 0.8100478468899521, \"weighted_count\": 255.0, \"weighted_cumsum\": 96825.0, \"weighted_frac_cumsum\": 0.1819998270696195, \"series_label\": \"promiscuous euk hits\"}, {\"promiscuous hits per KOG\": 256.0, \"count\": 1, \"cumsum\": 1694, \"frac_cumsum\": 0.8105263157894737, \"weighted_count\": 256.0, \"weighted_cumsum\": 97081.0, \"weighted_frac_cumsum\": 0.18248102465009794, \"series_label\": \"promiscuous euk hits\"}, {\"promiscuous hits per KOG\": 257.0, \"count\": 1, \"cumsum\": 1695, \"frac_cumsum\": 0.8110047846889952, \"weighted_count\": 257.0, \"weighted_cumsum\": 97338.0, \"weighted_frac_cumsum\": 0.18296410190862508, \"series_label\": \"promiscuous euk hits\"}, {\"promiscuous hits per KOG\": 258.0, \"count\": 1, \"cumsum\": 1696, \"frac_cumsum\": 0.8114832535885167, \"weighted_count\": 258.0, \"weighted_cumsum\": 97596.0, \"weighted_frac_cumsum\": 0.183449058845201, \"series_label\": \"promiscuous euk hits\"}, {\"promiscuous hits per KOG\": 260.0, \"count\": 3, \"cumsum\": 1699, \"frac_cumsum\": 0.8129186602870814, \"weighted_count\": 780.0, \"weighted_cumsum\": 98376.0, \"weighted_frac_cumsum\": 0.18491520772322118, \"series_label\": \"promiscuous euk hits\"}, {\"promiscuous hits per KOG\": 261.0, \"count\": 3, \"cumsum\": 1702, \"frac_cumsum\": 0.8143540669856459, \"weighted_count\": 783.0, \"weighted_cumsum\": 99159.0, \"weighted_frac_cumsum\": 0.18638699563538758, \"series_label\": \"promiscuous euk hits\"}, {\"promiscuous hits per KOG\": 262.0, \"count\": 2, \"cumsum\": 1704, \"frac_cumsum\": 0.815311004784689, \"weighted_count\": 524.0, \"weighted_cumsum\": 99683.0, \"weighted_frac_cumsum\": 0.18737194693292933, \"series_label\": \"promiscuous euk hits\"}, {\"promiscuous hits per KOG\": 263.0, \"count\": 1, \"cumsum\": 1705, \"frac_cumsum\": 0.8157894736842105, \"weighted_count\": 263.0, \"weighted_cumsum\": 99946.0, \"weighted_frac_cumsum\": 0.18786630225974896, \"series_label\": \"promiscuous euk hits\"}, {\"promiscuous hits per KOG\": 264.0, \"count\": 1, \"cumsum\": 1706, \"frac_cumsum\": 0.816267942583732, \"weighted_count\": 264.0, \"weighted_cumsum\": 100210.0, \"weighted_frac_cumsum\": 0.18836253726461732, \"series_label\": \"promiscuous euk hits\"}, {\"promiscuous hits per KOG\": 265.0, \"count\": 1, \"cumsum\": 1707, \"frac_cumsum\": 0.8167464114832536, \"weighted_count\": 265.0, \"weighted_cumsum\": 100475.0, \"weighted_frac_cumsum\": 0.18886065194753443, \"series_label\": \"promiscuous euk hits\"}, {\"promiscuous hits per KOG\": 266.0, \"count\": 1, \"cumsum\": 1708, \"frac_cumsum\": 0.8172248803827751, \"weighted_count\": 266.0, \"weighted_cumsum\": 100741.0, \"weighted_frac_cumsum\": 0.18936064630850027, \"series_label\": \"promiscuous euk hits\"}, {\"promiscuous hits per KOG\": 267.0, \"count\": 1, \"cumsum\": 1709, \"frac_cumsum\": 0.8177033492822966, \"weighted_count\": 267.0, \"weighted_cumsum\": 101008.0, \"weighted_frac_cumsum\": 0.18986252034751488, \"series_label\": \"promiscuous euk hits\"}, {\"promiscuous hits per KOG\": 268.0, \"count\": 4, \"cumsum\": 1713, \"frac_cumsum\": 0.8196172248803828, \"weighted_count\": 1072.0, \"weighted_cumsum\": 102080.0, \"weighted_frac_cumsum\": 0.19187753521576825, \"series_label\": \"promiscuous euk hits\"}, {\"promiscuous hits per KOG\": 269.0, \"count\": 3, \"cumsum\": 1716, \"frac_cumsum\": 0.8210526315789474, \"weighted_count\": 807.0, \"weighted_cumsum\": 102887.0, \"weighted_frac_cumsum\": 0.1933944354011045, \"series_label\": \"promiscuous euk hits\"}, {\"promiscuous hits per KOG\": 271.0, \"count\": 3, \"cumsum\": 1719, \"frac_cumsum\": 0.8224880382775119, \"weighted_count\": 813.0, \"weighted_cumsum\": 103700.0, \"weighted_frac_cumsum\": 0.1949226136547332, \"series_label\": \"promiscuous euk hits\"}, {\"promiscuous hits per KOG\": 273.0, \"count\": 3, \"cumsum\": 1722, \"frac_cumsum\": 0.8239234449760765, \"weighted_count\": 819.0, \"weighted_cumsum\": 104519.0, \"weighted_frac_cumsum\": 0.19646206997665439, \"series_label\": \"promiscuous euk hits\"}, {\"promiscuous hits per KOG\": 274.0, \"count\": 1, \"cumsum\": 1723, \"frac_cumsum\": 0.8244019138755981, \"weighted_count\": 274.0, \"weighted_cumsum\": 104793.0, \"weighted_frac_cumsum\": 0.1969771017620102, \"series_label\": \"promiscuous euk hits\"}, {\"promiscuous hits per KOG\": 275.0, \"count\": 3, \"cumsum\": 1726, \"frac_cumsum\": 0.8258373205741627, \"weighted_count\": 825.0, \"weighted_cumsum\": 105618.0, \"weighted_frac_cumsum\": 0.19852783615222386, \"series_label\": \"promiscuous euk hits\"}, {\"promiscuous hits per KOG\": 276.0, \"count\": 4, \"cumsum\": 1730, \"frac_cumsum\": 0.8277511961722488, \"weighted_count\": 1104.0, \"weighted_cumsum\": 106722.0, \"weighted_frac_cumsum\": 0.20060300071803702, \"series_label\": \"promiscuous euk hits\"}, {\"promiscuous hits per KOG\": 277.0, \"count\": 1, \"cumsum\": 1731, \"frac_cumsum\": 0.8282296650717703, \"weighted_count\": 277.0, \"weighted_cumsum\": 106999.0, \"weighted_frac_cumsum\": 0.20112367153753904, \"series_label\": \"promiscuous euk hits\"}, {\"promiscuous hits per KOG\": 278.0, \"count\": 2, \"cumsum\": 1733, \"frac_cumsum\": 0.8291866028708134, \"weighted_count\": 556.0, \"weighted_cumsum\": 107555.0, \"weighted_frac_cumsum\": 0.20216877253264062, \"series_label\": \"promiscuous euk hits\"}, {\"promiscuous hits per KOG\": 279.0, \"count\": 2, \"cumsum\": 1735, \"frac_cumsum\": 0.8301435406698564, \"weighted_count\": 558.0, \"weighted_cumsum\": 108113.0, \"weighted_frac_cumsum\": 0.20321763288383965, \"series_label\": \"promiscuous euk hits\"}, {\"promiscuous hits per KOG\": 280.0, \"count\": 2, \"cumsum\": 1737, \"frac_cumsum\": 0.8311004784688996, \"weighted_count\": 560.0, \"weighted_cumsum\": 108673.0, \"weighted_frac_cumsum\": 0.20427025259113618, \"series_label\": \"promiscuous euk hits\"}, {\"promiscuous hits per KOG\": 281.0, \"count\": 1, \"cumsum\": 1738, \"frac_cumsum\": 0.8315789473684211, \"weighted_count\": 281.0, \"weighted_cumsum\": 108954.0, \"weighted_frac_cumsum\": 0.2047984421228332, \"series_label\": \"promiscuous euk hits\"}, {\"promiscuous hits per KOG\": 283.0, \"count\": 2, \"cumsum\": 1740, \"frac_cumsum\": 0.8325358851674641, \"weighted_count\": 566.0, \"weighted_cumsum\": 109520.0, \"weighted_frac_cumsum\": 0.2058623398984222, \"series_label\": \"promiscuous euk hits\"}, {\"promiscuous hits per KOG\": 284.0, \"count\": 1, \"cumsum\": 1741, \"frac_cumsum\": 0.8330143540669857, \"weighted_count\": 284.0, \"weighted_cumsum\": 109804.0, \"weighted_frac_cumsum\": 0.20639616846426545, \"series_label\": \"promiscuous euk hits\"}, {\"promiscuous hits per KOG\": 285.0, \"count\": 1, \"cumsum\": 1742, \"frac_cumsum\": 0.8334928229665072, \"weighted_count\": 285.0, \"weighted_cumsum\": 110089.0, \"weighted_frac_cumsum\": 0.20693187670815744, \"series_label\": \"promiscuous euk hits\"}, {\"promiscuous hits per KOG\": 286.0, \"count\": 1, \"cumsum\": 1743, \"frac_cumsum\": 0.8339712918660287, \"weighted_count\": 286.0, \"weighted_cumsum\": 110375.0, \"weighted_frac_cumsum\": 0.20746946463009816, \"series_label\": \"promiscuous euk hits\"}, {\"promiscuous hits per KOG\": 287.0, \"count\": 1, \"cumsum\": 1744, \"frac_cumsum\": 0.8344497607655502, \"weighted_count\": 287.0, \"weighted_cumsum\": 110662.0, \"weighted_frac_cumsum\": 0.20800893223008762, \"series_label\": \"promiscuous euk hits\"}, {\"promiscuous hits per KOG\": 288.0, \"count\": 4, \"cumsum\": 1748, \"frac_cumsum\": 0.8363636363636363, \"weighted_count\": 1152.0, \"weighted_cumsum\": 111814.0, \"weighted_frac_cumsum\": 0.2101743213422405, \"series_label\": \"promiscuous euk hits\"}, {\"promiscuous hits per KOG\": 290.0, \"count\": 1, \"cumsum\": 1749, \"frac_cumsum\": 0.8368421052631579, \"weighted_count\": 290.0, \"weighted_cumsum\": 112104.0, \"weighted_frac_cumsum\": 0.21071942797637622, \"series_label\": \"promiscuous euk hits\"}, {\"promiscuous hits per KOG\": 291.0, \"count\": 1, \"cumsum\": 1750, \"frac_cumsum\": 0.8373205741626795, \"weighted_count\": 291.0, \"weighted_cumsum\": 112395.0, \"weighted_frac_cumsum\": 0.21126641428856066, \"series_label\": \"promiscuous euk hits\"}, {\"promiscuous hits per KOG\": 293.0, \"count\": 2, \"cumsum\": 1752, \"frac_cumsum\": 0.8382775119617225, \"weighted_count\": 586.0, \"weighted_cumsum\": 112981.0, \"weighted_frac_cumsum\": 0.21236790562512453, \"series_label\": \"promiscuous euk hits\"}, {\"promiscuous hits per KOG\": 295.0, \"count\": 1, \"cumsum\": 1753, \"frac_cumsum\": 0.838755980861244, \"weighted_count\": 295.0, \"weighted_cumsum\": 113276.0, \"weighted_frac_cumsum\": 0.21292241064950396, \"series_label\": \"promiscuous euk hits\"}, {\"promiscuous hits per KOG\": 298.0, \"count\": 1, \"cumsum\": 1754, \"frac_cumsum\": 0.8392344497607656, \"weighted_count\": 298.0, \"weighted_cumsum\": 113574.0, \"weighted_frac_cumsum\": 0.2134825547080296, \"series_label\": \"promiscuous euk hits\"}, {\"promiscuous hits per KOG\": 299.0, \"count\": 1, \"cumsum\": 1755, \"frac_cumsum\": 0.8397129186602871, \"weighted_count\": 299.0, \"weighted_cumsum\": 113873.0, \"weighted_frac_cumsum\": 0.214044578444604, \"series_label\": \"promiscuous euk hits\"}, {\"promiscuous hits per KOG\": 300.0, \"count\": 1, \"cumsum\": 1756, \"frac_cumsum\": 0.8401913875598086, \"weighted_count\": 300.0, \"weighted_cumsum\": 114173.0, \"weighted_frac_cumsum\": 0.21460848185922715, \"series_label\": \"promiscuous euk hits\"}, {\"promiscuous hits per KOG\": 301.0, \"count\": 1, \"cumsum\": 1757, \"frac_cumsum\": 0.8406698564593301, \"weighted_count\": 301.0, \"weighted_cumsum\": 114474.0, \"weighted_frac_cumsum\": 0.21517426495189904, \"series_label\": \"promiscuous euk hits\"}, {\"promiscuous hits per KOG\": 302.0, \"count\": 3, \"cumsum\": 1760, \"frac_cumsum\": 0.8421052631578947, \"weighted_count\": 906.0, \"weighted_cumsum\": 115380.0, \"weighted_frac_cumsum\": 0.21687725326406093, \"series_label\": \"promiscuous euk hits\"}, {\"promiscuous hits per KOG\": 303.0, \"count\": 1, \"cumsum\": 1761, \"frac_cumsum\": 0.8425837320574162, \"weighted_count\": 303.0, \"weighted_cumsum\": 115683.0, \"weighted_frac_cumsum\": 0.2174467957128303, \"series_label\": \"promiscuous euk hits\"}, {\"promiscuous hits per KOG\": 308.0, \"count\": 1, \"cumsum\": 1762, \"frac_cumsum\": 0.8430622009569378, \"weighted_count\": 308.0, \"weighted_cumsum\": 115991.0, \"weighted_frac_cumsum\": 0.2180257365518434, \"series_label\": \"promiscuous euk hits\"}, {\"promiscuous hits per KOG\": 309.0, \"count\": 2, \"cumsum\": 1764, \"frac_cumsum\": 0.8440191387559809, \"weighted_count\": 618.0, \"weighted_cumsum\": 116609.0, \"weighted_frac_cumsum\": 0.21918737758596707, \"series_label\": \"promiscuous euk hits\"}, {\"promiscuous hits per KOG\": 310.0, \"count\": 1, \"cumsum\": 1765, \"frac_cumsum\": 0.8444976076555024, \"weighted_count\": 310.0, \"weighted_cumsum\": 116919.0, \"weighted_frac_cumsum\": 0.21977007778107766, \"series_label\": \"promiscuous euk hits\"}, {\"promiscuous hits per KOG\": 314.0, \"count\": 2, \"cumsum\": 1767, \"frac_cumsum\": 0.8454545454545455, \"weighted_count\": 628.0, \"weighted_cumsum\": 117547.0, \"weighted_frac_cumsum\": 0.22095051559568876, \"series_label\": \"promiscuous euk hits\"}, {\"promiscuous hits per KOG\": 315.0, \"count\": 2, \"cumsum\": 1769, \"frac_cumsum\": 0.8464114832535885, \"weighted_count\": 630.0, \"weighted_cumsum\": 118177.0, \"weighted_frac_cumsum\": 0.22213471276639737, \"series_label\": \"promiscuous euk hits\"}, {\"promiscuous hits per KOG\": 316.0, \"count\": 1, \"cumsum\": 1770, \"frac_cumsum\": 0.84688995215311, \"weighted_count\": 316.0, \"weighted_cumsum\": 118493.0, \"weighted_frac_cumsum\": 0.22272869102980042, \"series_label\": \"promiscuous euk hits\"}, {\"promiscuous hits per KOG\": 317.0, \"count\": 3, \"cumsum\": 1773, \"frac_cumsum\": 0.8483253588516746, \"weighted_count\": 951.0, \"weighted_cumsum\": 119444.0, \"weighted_frac_cumsum\": 0.22451626485415577, \"series_label\": \"promiscuous euk hits\"}, {\"promiscuous hits per KOG\": 319.0, \"count\": 1, \"cumsum\": 1774, \"frac_cumsum\": 0.8488038277511962, \"weighted_count\": 319.0, \"weighted_cumsum\": 119763.0, \"weighted_frac_cumsum\": 0.22511588215170505, \"series_label\": \"promiscuous euk hits\"}, {\"promiscuous hits per KOG\": 320.0, \"count\": 1, \"cumsum\": 1775, \"frac_cumsum\": 0.8492822966507177, \"weighted_count\": 320.0, \"weighted_cumsum\": 120083.0, \"weighted_frac_cumsum\": 0.22571737912730308, \"series_label\": \"promiscuous euk hits\"}, {\"promiscuous hits per KOG\": 321.0, \"count\": 1, \"cumsum\": 1776, \"frac_cumsum\": 0.8497607655502393, \"weighted_count\": 321.0, \"weighted_cumsum\": 120404.0, \"weighted_frac_cumsum\": 0.22632075578094984, \"series_label\": \"promiscuous euk hits\"}, {\"promiscuous hits per KOG\": 327.0, \"count\": 2, \"cumsum\": 1778, \"frac_cumsum\": 0.8507177033492823, \"weighted_count\": 654.0, \"weighted_cumsum\": 121058.0, \"weighted_frac_cumsum\": 0.2275500652248283, \"series_label\": \"promiscuous euk hits\"}, {\"promiscuous hits per KOG\": 332.0, \"count\": 2, \"cumsum\": 1780, \"frac_cumsum\": 0.8516746411483254, \"weighted_count\": 664.0, \"weighted_cumsum\": 121722.0, \"weighted_frac_cumsum\": 0.22879817144919418, \"series_label\": \"promiscuous euk hits\"}, {\"promiscuous hits per KOG\": 334.0, \"count\": 1, \"cumsum\": 1781, \"frac_cumsum\": 0.8521531100478469, \"weighted_count\": 334.0, \"weighted_cumsum\": 122056.0, \"weighted_frac_cumsum\": 0.22942598391747462, \"series_label\": \"promiscuous euk hits\"}, {\"promiscuous hits per KOG\": 335.0, \"count\": 1, \"cumsum\": 1782, \"frac_cumsum\": 0.8526315789473684, \"weighted_count\": 335.0, \"weighted_cumsum\": 122391.0, \"weighted_frac_cumsum\": 0.23005567606380378, \"series_label\": \"promiscuous euk hits\"}, {\"promiscuous hits per KOG\": 337.0, \"count\": 2, \"cumsum\": 1784, \"frac_cumsum\": 0.8535885167464115, \"weighted_count\": 674.0, \"weighted_cumsum\": 123065.0, \"weighted_frac_cumsum\": 0.2313225790686571, \"series_label\": \"promiscuous euk hits\"}, {\"promiscuous hits per KOG\": 341.0, \"count\": 1, \"cumsum\": 1785, \"frac_cumsum\": 0.854066985645933, \"weighted_count\": 341.0, \"weighted_cumsum\": 123406.0, \"weighted_frac_cumsum\": 0.23196354928327875, \"series_label\": \"promiscuous euk hits\"}, {\"promiscuous hits per KOG\": 344.0, \"count\": 1, \"cumsum\": 1786, \"frac_cumsum\": 0.8545454545454545, \"weighted_count\": 344.0, \"weighted_cumsum\": 123750.0, \"weighted_frac_cumsum\": 0.23261015853204664, \"series_label\": \"promiscuous euk hits\"}, {\"promiscuous hits per KOG\": 345.0, \"count\": 1, \"cumsum\": 1787, \"frac_cumsum\": 0.8550239234449761, \"weighted_count\": 345.0, \"weighted_cumsum\": 124095.0, \"weighted_frac_cumsum\": 0.23325864745886324, \"series_label\": \"promiscuous euk hits\"}, {\"promiscuous hits per KOG\": 346.0, \"count\": 1, \"cumsum\": 1788, \"frac_cumsum\": 0.8555023923444977, \"weighted_count\": 346.0, \"weighted_cumsum\": 124441.0, \"weighted_frac_cumsum\": 0.2339090160637286, \"series_label\": \"promiscuous euk hits\"}, {\"promiscuous hits per KOG\": 351.0, \"count\": 2, \"cumsum\": 1790, \"frac_cumsum\": 0.8564593301435407, \"weighted_count\": 702.0, \"weighted_cumsum\": 125143.0, \"weighted_frac_cumsum\": 0.23522855005394677, \"series_label\": \"promiscuous euk hits\"}, {\"promiscuous hits per KOG\": 354.0, \"count\": 1, \"cumsum\": 1791, \"frac_cumsum\": 0.8569377990430622, \"weighted_count\": 354.0, \"weighted_cumsum\": 125497.0, \"weighted_frac_cumsum\": 0.23589395608320207, \"series_label\": \"promiscuous euk hits\"}, {\"promiscuous hits per KOG\": 356.0, \"count\": 1, \"cumsum\": 1792, \"frac_cumsum\": 0.8574162679425837, \"weighted_count\": 356.0, \"weighted_cumsum\": 125853.0, \"weighted_frac_cumsum\": 0.23656312146855488, \"series_label\": \"promiscuous euk hits\"}, {\"promiscuous hits per KOG\": 357.0, \"count\": 1, \"cumsum\": 1793, \"frac_cumsum\": 0.8578947368421053, \"weighted_count\": 357.0, \"weighted_cumsum\": 126210.0, \"weighted_frac_cumsum\": 0.23723416653195642, \"series_label\": \"promiscuous euk hits\"}, {\"promiscuous hits per KOG\": 358.0, \"count\": 1, \"cumsum\": 1794, \"frac_cumsum\": 0.8583732057416268, \"weighted_count\": 358.0, \"weighted_cumsum\": 126568.0, \"weighted_frac_cumsum\": 0.2379070912734067, \"series_label\": \"promiscuous euk hits\"}, {\"promiscuous hits per KOG\": 359.0, \"count\": 1, \"cumsum\": 1795, \"frac_cumsum\": 0.8588516746411483, \"weighted_count\": 359.0, \"weighted_cumsum\": 126927.0, \"weighted_frac_cumsum\": 0.23858189569290572, \"series_label\": \"promiscuous euk hits\"}, {\"promiscuous hits per KOG\": 361.0, \"count\": 1, \"cumsum\": 1796, \"frac_cumsum\": 0.8593301435406698, \"weighted_count\": 361.0, \"weighted_cumsum\": 127288.0, \"weighted_frac_cumsum\": 0.23926045946850225, \"series_label\": \"promiscuous euk hits\"}, {\"promiscuous hits per KOG\": 365.0, \"count\": 1, \"cumsum\": 1797, \"frac_cumsum\": 0.8598086124401914, \"weighted_count\": 365.0, \"weighted_cumsum\": 127653.0, \"weighted_frac_cumsum\": 0.23994654195629372, \"series_label\": \"promiscuous euk hits\"}, {\"promiscuous hits per KOG\": 366.0, \"count\": 1, \"cumsum\": 1798, \"frac_cumsum\": 0.8602870813397129, \"weighted_count\": 366.0, \"weighted_cumsum\": 128019.0, \"weighted_frac_cumsum\": 0.24063450412213397, \"series_label\": \"promiscuous euk hits\"}, {\"promiscuous hits per KOG\": 367.0, \"count\": 1, \"cumsum\": 1799, \"frac_cumsum\": 0.8607655502392344, \"weighted_count\": 367.0, \"weighted_cumsum\": 128386.0, \"weighted_frac_cumsum\": 0.24132434596602295, \"series_label\": \"promiscuous euk hits\"}, {\"promiscuous hits per KOG\": 369.0, \"count\": 1, \"cumsum\": 1800, \"frac_cumsum\": 0.861244019138756, \"weighted_count\": 369.0, \"weighted_cumsum\": 128755.0, \"weighted_frac_cumsum\": 0.2420179471660094, \"series_label\": \"promiscuous euk hits\"}, {\"promiscuous hits per KOG\": 374.0, \"count\": 2, \"cumsum\": 1802, \"frac_cumsum\": 0.8622009569377991, \"weighted_count\": 748.0, \"weighted_cumsum\": 129503.0, \"weighted_frac_cumsum\": 0.24342394634646977, \"series_label\": \"promiscuous euk hits\"}, {\"promiscuous hits per KOG\": 377.0, \"count\": 3, \"cumsum\": 1805, \"frac_cumsum\": 0.8636363636363636, \"weighted_count\": 1131.0, \"weighted_cumsum\": 130634.0, \"weighted_frac_cumsum\": 0.245549862219599, \"series_label\": \"promiscuous euk hits\"}, {\"promiscuous hits per KOG\": 378.0, \"count\": 1, \"cumsum\": 1806, \"frac_cumsum\": 0.8641148325358852, \"weighted_count\": 378.0, \"weighted_cumsum\": 131012.0, \"weighted_frac_cumsum\": 0.24626038052202417, \"series_label\": \"promiscuous euk hits\"}, {\"promiscuous hits per KOG\": 379.0, \"count\": 1, \"cumsum\": 1807, \"frac_cumsum\": 0.8645933014354067, \"weighted_count\": 379.0, \"weighted_cumsum\": 131391.0, \"weighted_frac_cumsum\": 0.2469727785024981, \"series_label\": \"promiscuous euk hits\"}, {\"promiscuous hits per KOG\": 380.0, \"count\": 2, \"cumsum\": 1809, \"frac_cumsum\": 0.8655502392344497, \"weighted_count\": 760.0, \"weighted_cumsum\": 132151.0, \"weighted_frac_cumsum\": 0.24840133381954338, \"series_label\": \"promiscuous euk hits\"}, {\"promiscuous hits per KOG\": 382.0, \"count\": 1, \"cumsum\": 1810, \"frac_cumsum\": 0.8660287081339713, \"weighted_count\": 382.0, \"weighted_cumsum\": 132533.0, \"weighted_frac_cumsum\": 0.24911937083416352, \"series_label\": \"promiscuous euk hits\"}, {\"promiscuous hits per KOG\": 390.0, \"count\": 1, \"cumsum\": 1811, \"frac_cumsum\": 0.8665071770334928, \"weighted_count\": 390.0, \"weighted_cumsum\": 132923.0, \"weighted_frac_cumsum\": 0.2498524452731736, \"series_label\": \"promiscuous euk hits\"}, {\"promiscuous hits per KOG\": 391.0, \"count\": 1, \"cumsum\": 1812, \"frac_cumsum\": 0.8669856459330143, \"weighted_count\": 391.0, \"weighted_cumsum\": 133314.0, \"weighted_frac_cumsum\": 0.25058739939023245, \"series_label\": \"promiscuous euk hits\"}, {\"promiscuous hits per KOG\": 393.0, \"count\": 1, \"cumsum\": 1813, \"frac_cumsum\": 0.8674641148325359, \"weighted_count\": 393.0, \"weighted_cumsum\": 133707.0, \"weighted_frac_cumsum\": 0.25132611286338874, \"series_label\": \"promiscuous euk hits\"}, {\"promiscuous hits per KOG\": 401.0, \"count\": 1, \"cumsum\": 1814, \"frac_cumsum\": 0.8679425837320575, \"weighted_count\": 401.0, \"weighted_cumsum\": 134108.0, \"weighted_frac_cumsum\": 0.25207986376093505, \"series_label\": \"promiscuous euk hits\"}, {\"promiscuous hits per KOG\": 402.0, \"count\": 1, \"cumsum\": 1815, \"frac_cumsum\": 0.868421052631579, \"weighted_count\": 402.0, \"weighted_cumsum\": 134510.0, \"weighted_frac_cumsum\": 0.25283549433653, \"series_label\": \"promiscuous euk hits\"}, {\"promiscuous hits per KOG\": 406.0, \"count\": 1, \"cumsum\": 1816, \"frac_cumsum\": 0.8688995215311005, \"weighted_count\": 406.0, \"weighted_cumsum\": 134916.0, \"weighted_frac_cumsum\": 0.25359864362432005, \"series_label\": \"promiscuous euk hits\"}, {\"promiscuous hits per KOG\": 408.0, \"count\": 2, \"cumsum\": 1818, \"frac_cumsum\": 0.8698564593301435, \"weighted_count\": 816.0, \"weighted_cumsum\": 135732.0, \"weighted_frac_cumsum\": 0.25513246091209496, \"series_label\": \"promiscuous euk hits\"}, {\"promiscuous hits per KOG\": 414.0, \"count\": 2, \"cumsum\": 1820, \"frac_cumsum\": 0.8708133971291866, \"weighted_count\": 828.0, \"weighted_cumsum\": 136560.0, \"weighted_frac_cumsum\": 0.25668883433645484, \"series_label\": \"promiscuous euk hits\"}, {\"promiscuous hits per KOG\": 415.0, \"count\": 1, \"cumsum\": 1821, \"frac_cumsum\": 0.8712918660287081, \"weighted_count\": 415.0, \"weighted_cumsum\": 136975.0, \"weighted_frac_cumsum\": 0.25746890072668355, \"series_label\": \"promiscuous euk hits\"}, {\"promiscuous hits per KOG\": 416.0, \"count\": 1, \"cumsum\": 1822, \"frac_cumsum\": 0.8717703349282296, \"weighted_count\": 416.0, \"weighted_cumsum\": 137391.0, \"weighted_frac_cumsum\": 0.25825084679496096, \"series_label\": \"promiscuous euk hits\"}, {\"promiscuous hits per KOG\": 417.0, \"count\": 1, \"cumsum\": 1823, \"frac_cumsum\": 0.8722488038277512, \"weighted_count\": 417.0, \"weighted_cumsum\": 137808.0, \"weighted_frac_cumsum\": 0.25903467254128715, \"series_label\": \"promiscuous euk hits\"}, {\"promiscuous hits per KOG\": 419.0, \"count\": 2, \"cumsum\": 1825, \"frac_cumsum\": 0.8732057416267942, \"weighted_count\": 838.0, \"weighted_cumsum\": 138646.0, \"weighted_frac_cumsum\": 0.26060984274613447, \"series_label\": \"promiscuous euk hits\"}, {\"promiscuous hits per KOG\": 421.0, \"count\": 3, \"cumsum\": 1828, \"frac_cumsum\": 0.8746411483253589, \"weighted_count\": 1263.0, \"weighted_cumsum\": 139909.0, \"weighted_frac_cumsum\": 0.2629838761216979, \"series_label\": \"promiscuous euk hits\"}, {\"promiscuous hits per KOG\": 424.0, \"count\": 1, \"cumsum\": 1829, \"frac_cumsum\": 0.8751196172248804, \"weighted_count\": 424.0, \"weighted_cumsum\": 140333.0, \"weighted_frac_cumsum\": 0.26378085961436526, \"series_label\": \"promiscuous euk hits\"}, {\"promiscuous hits per KOG\": 425.0, \"count\": 1, \"cumsum\": 1830, \"frac_cumsum\": 0.8755980861244019, \"weighted_count\": 425.0, \"weighted_cumsum\": 140758.0, \"weighted_frac_cumsum\": 0.26457972278508135, \"series_label\": \"promiscuous euk hits\"}, {\"promiscuous hits per KOG\": 427.0, \"count\": 2, \"cumsum\": 1832, \"frac_cumsum\": 0.876555023923445, \"weighted_count\": 854.0, \"weighted_cumsum\": 141612.0, \"weighted_frac_cumsum\": 0.2661849678387086, \"series_label\": \"promiscuous euk hits\"}, {\"promiscuous hits per KOG\": 428.0, \"count\": 1, \"cumsum\": 1833, \"frac_cumsum\": 0.8770334928229665, \"weighted_count\": 428.0, \"weighted_cumsum\": 142040.0, \"weighted_frac_cumsum\": 0.26698947004357093, \"series_label\": \"promiscuous euk hits\"}, {\"promiscuous hits per KOG\": 432.0, \"count\": 3, \"cumsum\": 1836, \"frac_cumsum\": 0.8784688995215311, \"weighted_count\": 1296.0, \"weighted_cumsum\": 143336.0, \"weighted_frac_cumsum\": 0.2694255327947429, \"series_label\": \"promiscuous euk hits\"}, {\"promiscuous hits per KOG\": 436.0, \"count\": 1, \"cumsum\": 1837, \"frac_cumsum\": 0.8789473684210526, \"weighted_count\": 436.0, \"weighted_cumsum\": 143772.0, \"weighted_frac_cumsum\": 0.2702450724239952, \"series_label\": \"promiscuous euk hits\"}, {\"promiscuous hits per KOG\": 437.0, \"count\": 1, \"cumsum\": 1838, \"frac_cumsum\": 0.8794258373205741, \"weighted_count\": 437.0, \"weighted_cumsum\": 144209.0, \"weighted_frac_cumsum\": 0.27106649173129627, \"series_label\": \"promiscuous euk hits\"}, {\"promiscuous hits per KOG\": 438.0, \"count\": 2, \"cumsum\": 1840, \"frac_cumsum\": 0.8803827751196173, \"weighted_count\": 876.0, \"weighted_cumsum\": 145085.0, \"weighted_frac_cumsum\": 0.2727130897019958, \"series_label\": \"promiscuous euk hits\"}, {\"promiscuous hits per KOG\": 447.0, \"count\": 1, \"cumsum\": 1841, \"frac_cumsum\": 0.8808612440191388, \"weighted_count\": 447.0, \"weighted_cumsum\": 145532.0, \"weighted_frac_cumsum\": 0.2735533057897843, \"series_label\": \"promiscuous euk hits\"}, {\"promiscuous hits per KOG\": 452.0, \"count\": 1, \"cumsum\": 1842, \"frac_cumsum\": 0.8813397129186603, \"weighted_count\": 452.0, \"weighted_cumsum\": 145984.0, \"weighted_frac_cumsum\": 0.27440292026781654, \"series_label\": \"promiscuous euk hits\"}, {\"promiscuous hits per KOG\": 454.0, \"count\": 1, \"cumsum\": 1843, \"frac_cumsum\": 0.8818181818181818, \"weighted_count\": 454.0, \"weighted_cumsum\": 146438.0, \"weighted_frac_cumsum\": 0.27525629410194624, \"series_label\": \"promiscuous euk hits\"}, {\"promiscuous hits per KOG\": 455.0, \"count\": 2, \"cumsum\": 1845, \"frac_cumsum\": 0.8827751196172249, \"weighted_count\": 910.0, \"weighted_cumsum\": 147348.0, \"weighted_frac_cumsum\": 0.27696680112630306, \"series_label\": \"promiscuous euk hits\"}, {\"promiscuous hits per KOG\": 456.0, \"count\": 1, \"cumsum\": 1846, \"frac_cumsum\": 0.8832535885167464, \"weighted_count\": 456.0, \"weighted_cumsum\": 147804.0, \"weighted_frac_cumsum\": 0.27782393431653024, \"series_label\": \"promiscuous euk hits\"}, {\"promiscuous hits per KOG\": 462.0, \"count\": 2, \"cumsum\": 1848, \"frac_cumsum\": 0.8842105263157894, \"weighted_count\": 924.0, \"weighted_cumsum\": 148728.0, \"weighted_frac_cumsum\": 0.27956075683356957, \"series_label\": \"promiscuous euk hits\"}, {\"promiscuous hits per KOG\": 465.0, \"count\": 1, \"cumsum\": 1849, \"frac_cumsum\": 0.884688995215311, \"weighted_count\": 465.0, \"weighted_cumsum\": 149193.0, \"weighted_frac_cumsum\": 0.2804348071262354, \"series_label\": \"promiscuous euk hits\"}, {\"promiscuous hits per KOG\": 467.0, \"count\": 2, \"cumsum\": 1851, \"frac_cumsum\": 0.885645933014354, \"weighted_count\": 934.0, \"weighted_cumsum\": 150127.0, \"weighted_frac_cumsum\": 0.28219042642376213, \"series_label\": \"promiscuous euk hits\"}, {\"promiscuous hits per KOG\": 473.0, \"count\": 2, \"cumsum\": 1853, \"frac_cumsum\": 0.8866028708133972, \"weighted_count\": 946.0, \"weighted_cumsum\": 151073.0, \"weighted_frac_cumsum\": 0.28396860185787376, \"series_label\": \"promiscuous euk hits\"}, {\"promiscuous hits per KOG\": 476.0, \"count\": 3, \"cumsum\": 1856, \"frac_cumsum\": 0.8880382775119617, \"weighted_count\": 1428.0, \"weighted_cumsum\": 152501.0, \"weighted_frac_cumsum\": 0.28665278211147993, \"series_label\": \"promiscuous euk hits\"}, {\"promiscuous hits per KOG\": 477.0, \"count\": 1, \"cumsum\": 1857, \"frac_cumsum\": 0.8885167464114833, \"weighted_count\": 477.0, \"weighted_cumsum\": 152978.0, \"weighted_frac_cumsum\": 0.28754938854073075, \"series_label\": \"promiscuous euk hits\"}, {\"promiscuous hits per KOG\": 480.0, \"count\": 1, \"cumsum\": 1858, \"frac_cumsum\": 0.8889952153110048, \"weighted_count\": 480.0, \"weighted_cumsum\": 153458.0, \"weighted_frac_cumsum\": 0.28845163400412777, \"series_label\": \"promiscuous euk hits\"}, {\"promiscuous hits per KOG\": 481.0, \"count\": 1, \"cumsum\": 1859, \"frac_cumsum\": 0.8894736842105263, \"weighted_count\": 481.0, \"weighted_cumsum\": 153939.0, \"weighted_frac_cumsum\": 0.28935575914557354, \"series_label\": \"promiscuous euk hits\"}, {\"promiscuous hits per KOG\": 484.0, \"count\": 2, \"cumsum\": 1861, \"frac_cumsum\": 0.8904306220095694, \"weighted_count\": 968.0, \"weighted_cumsum\": 154907.0, \"weighted_frac_cumsum\": 0.29117528749675753, \"series_label\": \"promiscuous euk hits\"}, {\"promiscuous hits per KOG\": 489.0, \"count\": 1, \"cumsum\": 1862, \"frac_cumsum\": 0.8909090909090909, \"weighted_count\": 489.0, \"weighted_cumsum\": 155396.0, \"weighted_frac_cumsum\": 0.29209445006259327, \"series_label\": \"promiscuous euk hits\"}, {\"promiscuous hits per KOG\": 495.0, \"count\": 1, \"cumsum\": 1863, \"frac_cumsum\": 0.8913875598086124, \"weighted_count\": 495.0, \"weighted_cumsum\": 155891.0, \"weighted_frac_cumsum\": 0.29302489069672144, \"series_label\": \"promiscuous euk hits\"}, {\"promiscuous hits per KOG\": 497.0, \"count\": 2, \"cumsum\": 1865, \"frac_cumsum\": 0.8923444976076556, \"weighted_count\": 994.0, \"weighted_cumsum\": 156885.0, \"weighted_frac_cumsum\": 0.2948932906771728, \"series_label\": \"promiscuous euk hits\"}, {\"promiscuous hits per KOG\": 499.0, \"count\": 1, \"cumsum\": 1866, \"frac_cumsum\": 0.8928229665071771, \"weighted_count\": 499.0, \"weighted_cumsum\": 157384.0, \"weighted_frac_cumsum\": 0.295831250023496, \"series_label\": \"promiscuous euk hits\"}, {\"promiscuous hits per KOG\": 502.0, \"count\": 1, \"cumsum\": 1867, \"frac_cumsum\": 0.8933014354066986, \"weighted_count\": 502.0, \"weighted_cumsum\": 157886.0, \"weighted_frac_cumsum\": 0.29677484840396534, \"series_label\": \"promiscuous euk hits\"}, {\"promiscuous hits per KOG\": 503.0, \"count\": 1, \"cumsum\": 1868, \"frac_cumsum\": 0.8937799043062201, \"weighted_count\": 503.0, \"weighted_cumsum\": 158389.0, \"weighted_frac_cumsum\": 0.29772032646248353, \"series_label\": \"promiscuous euk hits\"}, {\"promiscuous hits per KOG\": 504.0, \"count\": 1, \"cumsum\": 1869, \"frac_cumsum\": 0.8942583732057416, \"weighted_count\": 504.0, \"weighted_cumsum\": 158893.0, \"weighted_frac_cumsum\": 0.2986676841990504, \"series_label\": \"promiscuous euk hits\"}, {\"promiscuous hits per KOG\": 505.0, \"count\": 1, \"cumsum\": 1870, \"frac_cumsum\": 0.8947368421052632, \"weighted_count\": 505.0, \"weighted_cumsum\": 159398.0, \"weighted_frac_cumsum\": 0.299616921613666, \"series_label\": \"promiscuous euk hits\"}, {\"promiscuous hits per KOG\": 512.0, \"count\": 1, \"cumsum\": 1871, \"frac_cumsum\": 0.8952153110047847, \"weighted_count\": 512.0, \"weighted_cumsum\": 159910.0, \"weighted_frac_cumsum\": 0.30057931677462285, \"series_label\": \"promiscuous euk hits\"}, {\"promiscuous hits per KOG\": 513.0, \"count\": 1, \"cumsum\": 1872, \"frac_cumsum\": 0.8956937799043062, \"weighted_count\": 513.0, \"weighted_cumsum\": 160423.0, \"weighted_frac_cumsum\": 0.3015435916136284, \"series_label\": \"promiscuous euk hits\"}, {\"promiscuous hits per KOG\": 517.0, \"count\": 1, \"cumsum\": 1873, \"frac_cumsum\": 0.8961722488038277, \"weighted_count\": 517.0, \"weighted_cumsum\": 160940.0, \"weighted_frac_cumsum\": 0.30251538516482895, \"series_label\": \"promiscuous euk hits\"}, {\"promiscuous hits per KOG\": 518.0, \"count\": 1, \"cumsum\": 1874, \"frac_cumsum\": 0.8966507177033493, \"weighted_count\": 518.0, \"weighted_cumsum\": 161458.0, \"weighted_frac_cumsum\": 0.30348905839407825, \"series_label\": \"promiscuous euk hits\"}, {\"promiscuous hits per KOG\": 524.0, \"count\": 1, \"cumsum\": 1875, \"frac_cumsum\": 0.8971291866028708, \"weighted_count\": 524.0, \"weighted_cumsum\": 161982.0, \"weighted_frac_cumsum\": 0.30447400969162003, \"series_label\": \"promiscuous euk hits\"}, {\"promiscuous hits per KOG\": 527.0, \"count\": 2, \"cumsum\": 1877, \"frac_cumsum\": 0.8980861244019138, \"weighted_count\": 1054.0, \"weighted_cumsum\": 163036.0, \"weighted_frac_cumsum\": 0.306455190354996, \"series_label\": \"promiscuous euk hits\"}, {\"promiscuous hits per KOG\": 534.0, \"count\": 2, \"cumsum\": 1879, \"frac_cumsum\": 0.899043062200957, \"weighted_count\": 1068.0, \"weighted_cumsum\": 164104.0, \"weighted_frac_cumsum\": 0.3084626865110544, \"series_label\": \"promiscuous euk hits\"}, {\"promiscuous hits per KOG\": 535.0, \"count\": 1, \"cumsum\": 1880, \"frac_cumsum\": 0.8995215311004785, \"weighted_count\": 535.0, \"weighted_cumsum\": 164639.0, \"weighted_frac_cumsum\": 0.30946831426713234, \"series_label\": \"promiscuous euk hits\"}, {\"promiscuous hits per KOG\": 536.0, \"count\": 1, \"cumsum\": 1881, \"frac_cumsum\": 0.9, \"weighted_count\": 536.0, \"weighted_cumsum\": 165175.0, \"weighted_frac_cumsum\": 0.31047582170125904, \"series_label\": \"promiscuous euk hits\"}, {\"promiscuous hits per KOG\": 537.0, \"count\": 1, \"cumsum\": 1882, \"frac_cumsum\": 0.9004784688995215, \"weighted_count\": 537.0, \"weighted_cumsum\": 165712.0, \"weighted_frac_cumsum\": 0.31148520881343444, \"series_label\": \"promiscuous euk hits\"}, {\"promiscuous hits per KOG\": 538.0, \"count\": 1, \"cumsum\": 1883, \"frac_cumsum\": 0.9009569377990431, \"weighted_count\": 538.0, \"weighted_cumsum\": 166250.0, \"weighted_frac_cumsum\": 0.3124964756036586, \"series_label\": \"promiscuous euk hits\"}, {\"promiscuous hits per KOG\": 540.0, \"count\": 1, \"cumsum\": 1884, \"frac_cumsum\": 0.9014354066985646, \"weighted_count\": 540.0, \"weighted_cumsum\": 166790.0, \"weighted_frac_cumsum\": 0.31351150174998027, \"series_label\": \"promiscuous euk hits\"}, {\"promiscuous hits per KOG\": 544.0, \"count\": 1, \"cumsum\": 1885, \"frac_cumsum\": 0.9019138755980861, \"weighted_count\": 544.0, \"weighted_cumsum\": 167334.0, \"weighted_frac_cumsum\": 0.3145340466084969, \"series_label\": \"promiscuous euk hits\"}, {\"promiscuous hits per KOG\": 549.0, \"count\": 1, \"cumsum\": 1886, \"frac_cumsum\": 0.9023923444976076, \"weighted_count\": 549.0, \"weighted_cumsum\": 167883.0, \"weighted_frac_cumsum\": 0.31556598985725726, \"series_label\": \"promiscuous euk hits\"}, {\"promiscuous hits per KOG\": 556.0, \"count\": 1, \"cumsum\": 1887, \"frac_cumsum\": 0.9028708133971292, \"weighted_count\": 556.0, \"weighted_cumsum\": 168439.0, \"weighted_frac_cumsum\": 0.31661109085235883, \"series_label\": \"promiscuous euk hits\"}, {\"promiscuous hits per KOG\": 559.0, \"count\": 1, \"cumsum\": 1888, \"frac_cumsum\": 0.9033492822966507, \"weighted_count\": 559.0, \"weighted_cumsum\": 168998.0, \"weighted_frac_cumsum\": 0.3176618308816066, \"series_label\": \"promiscuous euk hits\"}, {\"promiscuous hits per KOG\": 560.0, \"count\": 1, \"cumsum\": 1889, \"frac_cumsum\": 0.9038277511961722, \"weighted_count\": 560.0, \"weighted_cumsum\": 169558.0, \"weighted_frac_cumsum\": 0.31871445058890313, \"series_label\": \"promiscuous euk hits\"}, {\"promiscuous hits per KOG\": 562.0, \"count\": 2, \"cumsum\": 1891, \"frac_cumsum\": 0.9047846889952154, \"weighted_count\": 1124.0, \"weighted_cumsum\": 170682.0, \"weighted_frac_cumsum\": 0.3208272087156912, \"series_label\": \"promiscuous euk hits\"}, {\"promiscuous hits per KOG\": 563.0, \"count\": 1, \"cumsum\": 1892, \"frac_cumsum\": 0.9052631578947369, \"weighted_count\": 563.0, \"weighted_cumsum\": 171245.0, \"weighted_frac_cumsum\": 0.3218854674571339, \"series_label\": \"promiscuous euk hits\"}, {\"promiscuous hits per KOG\": 564.0, \"count\": 1, \"cumsum\": 1893, \"frac_cumsum\": 0.9057416267942584, \"weighted_count\": 564.0, \"weighted_cumsum\": 171809.0, \"weighted_frac_cumsum\": 0.32294560587662546, \"series_label\": \"promiscuous euk hits\"}, {\"promiscuous hits per KOG\": 566.0, \"count\": 1, \"cumsum\": 1894, \"frac_cumsum\": 0.9062200956937799, \"weighted_count\": 566.0, \"weighted_cumsum\": 172375.0, \"weighted_frac_cumsum\": 0.3240095036522144, \"series_label\": \"promiscuous euk hits\"}, {\"promiscuous hits per KOG\": 568.0, \"count\": 1, \"cumsum\": 1895, \"frac_cumsum\": 0.9066985645933014, \"weighted_count\": 568.0, \"weighted_cumsum\": 172943.0, \"weighted_frac_cumsum\": 0.3250771607839009, \"series_label\": \"promiscuous euk hits\"}, {\"promiscuous hits per KOG\": 569.0, \"count\": 1, \"cumsum\": 1896, \"frac_cumsum\": 0.907177033492823, \"weighted_count\": 569.0, \"weighted_cumsum\": 173512.0, \"weighted_frac_cumsum\": 0.3261466975936362, \"series_label\": \"promiscuous euk hits\"}, {\"promiscuous hits per KOG\": 574.0, \"count\": 1, \"cumsum\": 1897, \"frac_cumsum\": 0.9076555023923445, \"weighted_count\": 574.0, \"weighted_cumsum\": 174086.0, \"weighted_frac_cumsum\": 0.3272256327936151, \"series_label\": \"promiscuous euk hits\"}, {\"promiscuous hits per KOG\": 576.0, \"count\": 1, \"cumsum\": 1898, \"frac_cumsum\": 0.908133971291866, \"weighted_count\": 576.0, \"weighted_cumsum\": 174662.0, \"weighted_frac_cumsum\": 0.32830832734969156, \"series_label\": \"promiscuous euk hits\"}, {\"promiscuous hits per KOG\": 578.0, \"count\": 1, \"cumsum\": 1899, \"frac_cumsum\": 0.9086124401913875, \"weighted_count\": 578.0, \"weighted_cumsum\": 175240.0, \"weighted_frac_cumsum\": 0.32939478126186544, \"series_label\": \"promiscuous euk hits\"}, {\"promiscuous hits per KOG\": 579.0, \"count\": 1, \"cumsum\": 1900, \"frac_cumsum\": 0.9090909090909091, \"weighted_count\": 579.0, \"weighted_cumsum\": 175819.0, \"weighted_frac_cumsum\": 0.33048311485208814, \"series_label\": \"promiscuous euk hits\"}, {\"promiscuous hits per KOG\": 581.0, \"count\": 3, \"cumsum\": 1903, \"frac_cumsum\": 0.9105263157894737, \"weighted_count\": 1743.0, \"weighted_cumsum\": 177562.0, \"weighted_frac_cumsum\": 0.3337593936910486, \"series_label\": \"promiscuous euk hits\"}, {\"promiscuous hits per KOG\": 585.0, \"count\": 1, \"cumsum\": 1904, \"frac_cumsum\": 0.9110047846889953, \"weighted_count\": 585.0, \"weighted_cumsum\": 178147.0, \"weighted_frac_cumsum\": 0.33485900534956375, \"series_label\": \"promiscuous euk hits\"}, {\"promiscuous hits per KOG\": 587.0, \"count\": 1, \"cumsum\": 1905, \"frac_cumsum\": 0.9114832535885168, \"weighted_count\": 587.0, \"weighted_cumsum\": 178734.0, \"weighted_frac_cumsum\": 0.33596237636417636, \"series_label\": \"promiscuous euk hits\"}, {\"promiscuous hits per KOG\": 599.0, \"count\": 1, \"cumsum\": 1906, \"frac_cumsum\": 0.9119617224880383, \"weighted_count\": 599.0, \"weighted_cumsum\": 179333.0, \"weighted_frac_cumsum\": 0.3370883035153739, \"series_label\": \"promiscuous euk hits\"}, {\"promiscuous hits per KOG\": 602.0, \"count\": 1, \"cumsum\": 1907, \"frac_cumsum\": 0.9124401913875598, \"weighted_count\": 602.0, \"weighted_cumsum\": 179935.0, \"weighted_frac_cumsum\": 0.33821986970071766, \"series_label\": \"promiscuous euk hits\"}, {\"promiscuous hits per KOG\": 605.0, \"count\": 1, \"cumsum\": 1908, \"frac_cumsum\": 0.9129186602870814, \"weighted_count\": 605.0, \"weighted_cumsum\": 180540.0, \"weighted_frac_cumsum\": 0.33935707492020767, \"series_label\": \"promiscuous euk hits\"}, {\"promiscuous hits per KOG\": 607.0, \"count\": 1, \"cumsum\": 1909, \"frac_cumsum\": 0.9133971291866029, \"weighted_count\": 607.0, \"weighted_cumsum\": 181147.0, \"weighted_frac_cumsum\": 0.34049803949579516, \"series_label\": \"promiscuous euk hits\"}, {\"promiscuous hits per KOG\": 609.0, \"count\": 1, \"cumsum\": 1910, \"frac_cumsum\": 0.9138755980861244, \"weighted_count\": 609.0, \"weighted_cumsum\": 181756.0, \"weighted_frac_cumsum\": 0.3416427634274801, \"series_label\": \"promiscuous euk hits\"}, {\"promiscuous hits per KOG\": 614.0, \"count\": 1, \"cumsum\": 1911, \"frac_cumsum\": 0.9143540669856459, \"weighted_count\": 614.0, \"weighted_cumsum\": 182370.0, \"weighted_frac_cumsum\": 0.34279688574940886, \"series_label\": \"promiscuous euk hits\"}, {\"promiscuous hits per KOG\": 615.0, \"count\": 2, \"cumsum\": 1913, \"frac_cumsum\": 0.915311004784689, \"weighted_count\": 1230.0, \"weighted_cumsum\": 183600.0, \"weighted_frac_cumsum\": 0.3451088897493637, \"series_label\": \"promiscuous euk hits\"}, {\"promiscuous hits per KOG\": 618.0, \"count\": 1, \"cumsum\": 1914, \"frac_cumsum\": 0.9157894736842105, \"weighted_count\": 618.0, \"weighted_cumsum\": 184218.0, \"weighted_frac_cumsum\": 0.3462705307834874, \"series_label\": \"promiscuous euk hits\"}, {\"promiscuous hits per KOG\": 619.0, \"count\": 1, \"cumsum\": 1915, \"frac_cumsum\": 0.916267942583732, \"weighted_count\": 619.0, \"weighted_cumsum\": 184837.0, \"weighted_frac_cumsum\": 0.3474340514956598, \"series_label\": \"promiscuous euk hits\"}, {\"promiscuous hits per KOG\": 621.0, \"count\": 1, \"cumsum\": 1916, \"frac_cumsum\": 0.9167464114832536, \"weighted_count\": 621.0, \"weighted_cumsum\": 185458.0, \"weighted_frac_cumsum\": 0.34860133156392975, \"series_label\": \"promiscuous euk hits\"}, {\"promiscuous hits per KOG\": 623.0, \"count\": 1, \"cumsum\": 1917, \"frac_cumsum\": 0.9172248803827752, \"weighted_count\": 623.0, \"weighted_cumsum\": 186081.0, \"weighted_frac_cumsum\": 0.3497723709882971, \"series_label\": \"promiscuous euk hits\"}, {\"promiscuous hits per KOG\": 625.0, \"count\": 1, \"cumsum\": 1918, \"frac_cumsum\": 0.9177033492822967, \"weighted_count\": 625.0, \"weighted_cumsum\": 186706.0, \"weighted_frac_cumsum\": 0.350947169768762, \"series_label\": \"promiscuous euk hits\"}, {\"promiscuous hits per KOG\": 626.0, \"count\": 2, \"cumsum\": 1920, \"frac_cumsum\": 0.9186602870813397, \"weighted_count\": 1252.0, \"weighted_cumsum\": 187958.0, \"weighted_frac_cumsum\": 0.35330052668578926, \"series_label\": \"promiscuous euk hits\"}, {\"promiscuous hits per KOG\": 631.0, \"count\": 1, \"cumsum\": 1921, \"frac_cumsum\": 0.9191387559808613, \"weighted_count\": 631.0, \"weighted_cumsum\": 188589.0, \"weighted_frac_cumsum\": 0.3544866035345466, \"series_label\": \"promiscuous euk hits\"}, {\"promiscuous hits per KOG\": 637.0, \"count\": 1, \"cumsum\": 1922, \"frac_cumsum\": 0.9196172248803828, \"weighted_count\": 637.0, \"weighted_cumsum\": 189226.0, \"weighted_frac_cumsum\": 0.3556839584515964, \"series_label\": \"promiscuous euk hits\"}, {\"promiscuous hits per KOG\": 639.0, \"count\": 1, \"cumsum\": 1923, \"frac_cumsum\": 0.9200956937799043, \"weighted_count\": 639.0, \"weighted_cumsum\": 189865.0, \"weighted_frac_cumsum\": 0.3568850727247437, \"series_label\": \"promiscuous euk hits\"}, {\"promiscuous hits per KOG\": 648.0, \"count\": 1, \"cumsum\": 1924, \"frac_cumsum\": 0.9205741626794258, \"weighted_count\": 648.0, \"weighted_cumsum\": 190513.0, \"weighted_frac_cumsum\": 0.3581031041003297, \"series_label\": \"promiscuous euk hits\"}, {\"promiscuous hits per KOG\": 652.0, \"count\": 1, \"cumsum\": 1925, \"frac_cumsum\": 0.9210526315789473, \"weighted_count\": 652.0, \"weighted_cumsum\": 191165.0, \"weighted_frac_cumsum\": 0.35932865418811066, \"series_label\": \"promiscuous euk hits\"}, {\"promiscuous hits per KOG\": 660.0, \"count\": 1, \"cumsum\": 1926, \"frac_cumsum\": 0.9215311004784689, \"weighted_count\": 660.0, \"weighted_cumsum\": 191825.0, \"weighted_frac_cumsum\": 0.3605692417002816, \"series_label\": \"promiscuous euk hits\"}, {\"promiscuous hits per KOG\": 662.0, \"count\": 1, \"cumsum\": 1927, \"frac_cumsum\": 0.9220095693779904, \"weighted_count\": 662.0, \"weighted_cumsum\": 192487.0, \"weighted_frac_cumsum\": 0.36181358856855, \"series_label\": \"promiscuous euk hits\"}, {\"promiscuous hits per KOG\": 669.0, \"count\": 2, \"cumsum\": 1929, \"frac_cumsum\": 0.9229665071770335, \"weighted_count\": 1338.0, \"weighted_cumsum\": 193825.0, \"weighted_frac_cumsum\": 0.3643285977977692, \"series_label\": \"promiscuous euk hits\"}, {\"promiscuous hits per KOG\": 675.0, \"count\": 1, \"cumsum\": 1930, \"frac_cumsum\": 0.9234449760765551, \"weighted_count\": 675.0, \"weighted_cumsum\": 194500.0, \"weighted_frac_cumsum\": 0.36559738048067125, \"series_label\": \"promiscuous euk hits\"}, {\"promiscuous hits per KOG\": 676.0, \"count\": 2, \"cumsum\": 1932, \"frac_cumsum\": 0.9244019138755981, \"weighted_count\": 1352.0, \"weighted_cumsum\": 195852.0, \"weighted_frac_cumsum\": 0.3681387052025729, \"series_label\": \"promiscuous euk hits\"}, {\"promiscuous hits per KOG\": 686.0, \"count\": 1, \"cumsum\": 1933, \"frac_cumsum\": 0.9248803827751196, \"weighted_count\": 686.0, \"weighted_cumsum\": 196538.0, \"weighted_frac_cumsum\": 0.36942816434401116, \"series_label\": \"promiscuous euk hits\"}, {\"promiscuous hits per KOG\": 693.0, \"count\": 1, \"cumsum\": 1934, \"frac_cumsum\": 0.9253588516746412, \"weighted_count\": 693.0, \"weighted_cumsum\": 197231.0, \"weighted_frac_cumsum\": 0.3707307812317906, \"series_label\": \"promiscuous euk hits\"}, {\"promiscuous hits per KOG\": 695.0, \"count\": 1, \"cumsum\": 1935, \"frac_cumsum\": 0.9258373205741627, \"weighted_count\": 695.0, \"weighted_cumsum\": 197926.0, \"weighted_frac_cumsum\": 0.37203715747566757, \"series_label\": \"promiscuous euk hits\"}, {\"promiscuous hits per KOG\": 703.0, \"count\": 1, \"cumsum\": 1936, \"frac_cumsum\": 0.9263157894736842, \"weighted_count\": 703.0, \"weighted_cumsum\": 198629.0, \"weighted_frac_cumsum\": 0.37335857114393445, \"series_label\": \"promiscuous euk hits\"}, {\"promiscuous hits per KOG\": 708.0, \"count\": 1, \"cumsum\": 1937, \"frac_cumsum\": 0.9267942583732057, \"weighted_count\": 708.0, \"weighted_cumsum\": 199337.0, \"weighted_frac_cumsum\": 0.3746893832024451, \"series_label\": \"promiscuous euk hits\"}, {\"promiscuous hits per KOG\": 716.0, \"count\": 1, \"cumsum\": 1938, \"frac_cumsum\": 0.9272727272727272, \"weighted_count\": 716.0, \"weighted_cumsum\": 200053.0, \"weighted_frac_cumsum\": 0.37603523268534567, \"series_label\": \"promiscuous euk hits\"}, {\"promiscuous hits per KOG\": 727.0, \"count\": 1, \"cumsum\": 1939, \"frac_cumsum\": 0.9277511961722488, \"weighted_count\": 727.0, \"weighted_cumsum\": 200780.0, \"weighted_frac_cumsum\": 0.3774017586267824, \"series_label\": \"promiscuous euk hits\"}, {\"promiscuous hits per KOG\": 728.0, \"count\": 1, \"cumsum\": 1940, \"frac_cumsum\": 0.9282296650717703, \"weighted_count\": 728.0, \"weighted_cumsum\": 201508.0, \"weighted_frac_cumsum\": 0.3787701642462679, \"series_label\": \"promiscuous euk hits\"}, {\"promiscuous hits per KOG\": 731.0, \"count\": 2, \"cumsum\": 1942, \"frac_cumsum\": 0.9291866028708134, \"weighted_count\": 1462.0, \"weighted_cumsum\": 202970.0, \"weighted_frac_cumsum\": 0.38151825355353136, \"series_label\": \"promiscuous euk hits\"}, {\"promiscuous hits per KOG\": 732.0, \"count\": 1, \"cumsum\": 1943, \"frac_cumsum\": 0.929665071770335, \"weighted_count\": 732.0, \"weighted_cumsum\": 203702.0, \"weighted_frac_cumsum\": 0.3828941778852118, \"series_label\": \"promiscuous euk hits\"}, {\"promiscuous hits per KOG\": 745.0, \"count\": 1, \"cumsum\": 1944, \"frac_cumsum\": 0.9301435406698565, \"weighted_count\": 745.0, \"weighted_cumsum\": 204447.0, \"weighted_frac_cumsum\": 0.38429453803152597, \"series_label\": \"promiscuous euk hits\"}, {\"promiscuous hits per KOG\": 747.0, \"count\": 1, \"cumsum\": 1945, \"frac_cumsum\": 0.930622009569378, \"weighted_count\": 747.0, \"weighted_cumsum\": 205194.0, \"weighted_frac_cumsum\": 0.38569865753393756, \"series_label\": \"promiscuous euk hits\"}, {\"promiscuous hits per KOG\": 757.0, \"count\": 2, \"cumsum\": 1947, \"frac_cumsum\": 0.9315789473684211, \"weighted_count\": 1514.0, \"weighted_cumsum\": 206708.0, \"weighted_frac_cumsum\": 0.38854449009973574, \"series_label\": \"promiscuous euk hits\"}, {\"promiscuous hits per KOG\": 760.0, \"count\": 1, \"cumsum\": 1948, \"frac_cumsum\": 0.9320574162679426, \"weighted_count\": 760.0, \"weighted_cumsum\": 207468.0, \"weighted_frac_cumsum\": 0.389973045416781, \"series_label\": \"promiscuous euk hits\"}, {\"promiscuous hits per KOG\": 761.0, \"count\": 1, \"cumsum\": 1949, \"frac_cumsum\": 0.9325358851674641, \"weighted_count\": 761.0, \"weighted_cumsum\": 208229.0, \"weighted_frac_cumsum\": 0.39140348041187506, \"series_label\": \"promiscuous euk hits\"}, {\"promiscuous hits per KOG\": 767.0, \"count\": 2, \"cumsum\": 1951, \"frac_cumsum\": 0.9334928229665072, \"weighted_count\": 1534.0, \"weighted_cumsum\": 209763.0, \"weighted_frac_cumsum\": 0.39428690653864806, \"series_label\": \"promiscuous euk hits\"}, {\"promiscuous hits per KOG\": 771.0, \"count\": 1, \"cumsum\": 1952, \"frac_cumsum\": 0.9339712918660287, \"weighted_count\": 771.0, \"weighted_cumsum\": 210534.0, \"weighted_frac_cumsum\": 0.39573613831422955, \"series_label\": \"promiscuous euk hits\"}, {\"promiscuous hits per KOG\": 772.0, \"count\": 1, \"cumsum\": 1953, \"frac_cumsum\": 0.9344497607655502, \"weighted_count\": 772.0, \"weighted_cumsum\": 211306.0, \"weighted_frac_cumsum\": 0.39718724976785974, \"series_label\": \"promiscuous euk hits\"}, {\"promiscuous hits per KOG\": 776.0, \"count\": 1, \"cumsum\": 1954, \"frac_cumsum\": 0.9349282296650717, \"weighted_count\": 776.0, \"weighted_cumsum\": 212082.0, \"weighted_frac_cumsum\": 0.39864587993368494, \"series_label\": \"promiscuous euk hits\"}, {\"promiscuous hits per KOG\": 777.0, \"count\": 1, \"cumsum\": 1955, \"frac_cumsum\": 0.9354066985645934, \"weighted_count\": 777.0, \"weighted_cumsum\": 212859.0, \"weighted_frac_cumsum\": 0.4001063897775589, \"series_label\": \"promiscuous euk hits\"}, {\"promiscuous hits per KOG\": 778.0, \"count\": 1, \"cumsum\": 1956, \"frac_cumsum\": 0.9358851674641149, \"weighted_count\": 778.0, \"weighted_cumsum\": 213637.0, \"weighted_frac_cumsum\": 0.4015687792994816, \"series_label\": \"promiscuous euk hits\"}, {\"promiscuous hits per KOG\": 780.0, \"count\": 1, \"cumsum\": 1957, \"frac_cumsum\": 0.9363636363636364, \"weighted_count\": 780.0, \"weighted_cumsum\": 214417.0, \"weighted_frac_cumsum\": 0.40303492817750175, \"series_label\": \"promiscuous euk hits\"}, {\"promiscuous hits per KOG\": 781.0, \"count\": 1, \"cumsum\": 1958, \"frac_cumsum\": 0.9368421052631579, \"weighted_count\": 781.0, \"weighted_cumsum\": 215198.0, \"weighted_frac_cumsum\": 0.4045029567335707, \"series_label\": \"promiscuous euk hits\"}, {\"promiscuous hits per KOG\": 782.0, \"count\": 1, \"cumsum\": 1959, \"frac_cumsum\": 0.9373205741626794, \"weighted_count\": 782.0, \"weighted_cumsum\": 215980.0, \"weighted_frac_cumsum\": 0.4059728649676883, \"series_label\": \"promiscuous euk hits\"}, {\"promiscuous hits per KOG\": 795.0, \"count\": 1, \"cumsum\": 1960, \"frac_cumsum\": 0.937799043062201, \"weighted_count\": 795.0, \"weighted_cumsum\": 216775.0, \"weighted_frac_cumsum\": 0.4074672090164397, \"series_label\": \"promiscuous euk hits\"}, {\"promiscuous hits per KOG\": 798.0, \"count\": 1, \"cumsum\": 1961, \"frac_cumsum\": 0.9382775119617225, \"weighted_count\": 798.0, \"weighted_cumsum\": 217573.0, \"weighted_frac_cumsum\": 0.40896719209933724, \"series_label\": \"promiscuous euk hits\"}, {\"promiscuous hits per KOG\": 812.0, \"count\": 1, \"cumsum\": 1962, \"frac_cumsum\": 0.938755980861244, \"weighted_count\": 812.0, \"weighted_cumsum\": 218385.0, \"weighted_frac_cumsum\": 0.4104934906749172, \"series_label\": \"promiscuous euk hits\"}, {\"promiscuous hits per KOG\": 817.0, \"count\": 1, \"cumsum\": 1963, \"frac_cumsum\": 0.9392344497607655, \"weighted_count\": 817.0, \"weighted_cumsum\": 219202.0, \"weighted_frac_cumsum\": 0.41202918764074087, \"series_label\": \"promiscuous euk hits\"}, {\"promiscuous hits per KOG\": 818.0, \"count\": 1, \"cumsum\": 1964, \"frac_cumsum\": 0.939712918660287, \"weighted_count\": 818.0, \"weighted_cumsum\": 220020.0, \"weighted_frac_cumsum\": 0.4135667642846133, \"series_label\": \"promiscuous euk hits\"}, {\"promiscuous hits per KOG\": 819.0, \"count\": 1, \"cumsum\": 1965, \"frac_cumsum\": 0.9401913875598086, \"weighted_count\": 819.0, \"weighted_cumsum\": 220839.0, \"weighted_frac_cumsum\": 0.4151062206065345, \"series_label\": \"promiscuous euk hits\"}, {\"promiscuous hits per KOG\": 830.0, \"count\": 1, \"cumsum\": 1966, \"frac_cumsum\": 0.9406698564593301, \"weighted_count\": 830.0, \"weighted_cumsum\": 221669.0, \"weighted_frac_cumsum\": 0.4166663533869919, \"series_label\": \"promiscuous euk hits\"}, {\"promiscuous hits per KOG\": 842.0, \"count\": 1, \"cumsum\": 1967, \"frac_cumsum\": 0.9411483253588516, \"weighted_count\": 842.0, \"weighted_cumsum\": 222511.0, \"weighted_frac_cumsum\": 0.41824904230403415, \"series_label\": \"promiscuous euk hits\"}, {\"promiscuous hits per KOG\": 845.0, \"count\": 1, \"cumsum\": 1968, \"frac_cumsum\": 0.9416267942583733, \"weighted_count\": 845.0, \"weighted_cumsum\": 223356.0, \"weighted_frac_cumsum\": 0.41983737025522266, \"series_label\": \"promiscuous euk hits\"}, {\"promiscuous hits per KOG\": 846.0, \"count\": 1, \"cumsum\": 1969, \"frac_cumsum\": 0.9421052631578948, \"weighted_count\": 846.0, \"weighted_cumsum\": 224202.0, \"weighted_frac_cumsum\": 0.42142757788445995, \"series_label\": \"promiscuous euk hits\"}, {\"promiscuous hits per KOG\": 855.0, \"count\": 1, \"cumsum\": 1970, \"frac_cumsum\": 0.9425837320574163, \"weighted_count\": 855.0, \"weighted_cumsum\": 225057.0, \"weighted_frac_cumsum\": 0.4230347026161359, \"series_label\": \"promiscuous euk hits\"}, {\"promiscuous hits per KOG\": 859.0, \"count\": 1, \"cumsum\": 1971, \"frac_cumsum\": 0.9430622009569378, \"weighted_count\": 859.0, \"weighted_cumsum\": 225916.0, \"weighted_frac_cumsum\": 0.4246493460600068, \"series_label\": \"promiscuous euk hits\"}, {\"promiscuous hits per KOG\": 869.0, \"count\": 1, \"cumsum\": 1972, \"frac_cumsum\": 0.9435406698564593, \"weighted_count\": 869.0, \"weighted_cumsum\": 226785.0, \"weighted_frac_cumsum\": 0.4262827862843652, \"series_label\": \"promiscuous euk hits\"}, {\"promiscuous hits per KOG\": 870.0, \"count\": 1, \"cumsum\": 1973, \"frac_cumsum\": 0.9440191387559809, \"weighted_count\": 870.0, \"weighted_cumsum\": 227655.0, \"weighted_frac_cumsum\": 0.42791810618677234, \"series_label\": \"promiscuous euk hits\"}, {\"promiscuous hits per KOG\": 882.0, \"count\": 1, \"cumsum\": 1974, \"frac_cumsum\": 0.9444976076555024, \"weighted_count\": 882.0, \"weighted_cumsum\": 228537.0, \"weighted_frac_cumsum\": 0.4295759822257644, \"series_label\": \"promiscuous euk hits\"}, {\"promiscuous hits per KOG\": 896.0, \"count\": 1, \"cumsum\": 1975, \"frac_cumsum\": 0.9449760765550239, \"weighted_count\": 896.0, \"weighted_cumsum\": 229433.0, \"weighted_frac_cumsum\": 0.4312601737574388, \"series_label\": \"promiscuous euk hits\"}, {\"promiscuous hits per KOG\": 903.0, \"count\": 1, \"cumsum\": 1976, \"frac_cumsum\": 0.9454545454545454, \"weighted_count\": 903.0, \"weighted_cumsum\": 230336.0, \"weighted_frac_cumsum\": 0.4329575230354545, \"series_label\": \"promiscuous euk hits\"}, {\"promiscuous hits per KOG\": 907.0, \"count\": 1, \"cumsum\": 1977, \"frac_cumsum\": 0.945933014354067, \"weighted_count\": 907.0, \"weighted_cumsum\": 231243.0, \"weighted_frac_cumsum\": 0.4346623910256651, \"series_label\": \"promiscuous euk hits\"}, {\"promiscuous hits per KOG\": 932.0, \"count\": 1, \"cumsum\": 1978, \"frac_cumsum\": 0.9464114832535885, \"weighted_count\": 932.0, \"weighted_cumsum\": 232175.0, \"weighted_frac_cumsum\": 0.43641425096709435, \"series_label\": \"promiscuous euk hits\"}, {\"promiscuous hits per KOG\": 935.0, \"count\": 1, \"cumsum\": 1979, \"frac_cumsum\": 0.94688995215311, \"weighted_count\": 935.0, \"weighted_cumsum\": 233110.0, \"weighted_frac_cumsum\": 0.43817174994266983, \"series_label\": \"promiscuous euk hits\"}, {\"promiscuous hits per KOG\": 972.0, \"count\": 1, \"cumsum\": 1980, \"frac_cumsum\": 0.9473684210526315, \"weighted_count\": 972.0, \"weighted_cumsum\": 234082.0, \"weighted_frac_cumsum\": 0.4399987970060488, \"series_label\": \"promiscuous euk hits\"}, {\"promiscuous hits per KOG\": 973.0, \"count\": 1, \"cumsum\": 1981, \"frac_cumsum\": 0.9478468899521532, \"weighted_count\": 973.0, \"weighted_cumsum\": 235055.0, \"weighted_frac_cumsum\": 0.44182772374747653, \"series_label\": \"promiscuous euk hits\"}, {\"promiscuous hits per KOG\": 974.0, \"count\": 1, \"cumsum\": 1982, \"frac_cumsum\": 0.9483253588516747, \"weighted_count\": 974.0, \"weighted_cumsum\": 236029.0, \"weighted_frac_cumsum\": 0.443658530166953, \"series_label\": \"promiscuous euk hits\"}, {\"promiscuous hits per KOG\": 979.0, \"count\": 1, \"cumsum\": 1983, \"frac_cumsum\": 0.9488038277511962, \"weighted_count\": 979.0, \"weighted_cumsum\": 237008.0, \"weighted_frac_cumsum\": 0.4454987349766732, \"series_label\": \"promiscuous euk hits\"}, {\"promiscuous hits per KOG\": 981.0, \"count\": 1, \"cumsum\": 1984, \"frac_cumsum\": 0.9492822966507177, \"weighted_count\": 981.0, \"weighted_cumsum\": 237989.0, \"weighted_frac_cumsum\": 0.44734269914249086, \"series_label\": \"promiscuous euk hits\"}, {\"promiscuous hits per KOG\": 986.0, \"count\": 1, \"cumsum\": 1985, \"frac_cumsum\": 0.9497607655502392, \"weighted_count\": 986.0, \"weighted_cumsum\": 238975.0, \"weighted_frac_cumsum\": 0.44919606169855225, \"series_label\": \"promiscuous euk hits\"}, {\"promiscuous hits per KOG\": 1026.0, \"count\": 1, \"cumsum\": 1986, \"frac_cumsum\": 0.9502392344497608, \"weighted_count\": 1026.0, \"weighted_cumsum\": 240001.0, \"weighted_frac_cumsum\": 0.4511246113765634, \"series_label\": \"promiscuous euk hits\"}, {\"promiscuous hits per KOG\": 1027.0, \"count\": 1, \"cumsum\": 1987, \"frac_cumsum\": 0.9507177033492823, \"weighted_count\": 1027.0, \"weighted_cumsum\": 241028.0, \"weighted_frac_cumsum\": 0.4530550407326233, \"series_label\": \"promiscuous euk hits\"}, {\"promiscuous hits per KOG\": 1056.0, \"count\": 1, \"cumsum\": 1988, \"frac_cumsum\": 0.9511961722488038, \"weighted_count\": 1056.0, \"weighted_cumsum\": 242084.0, \"weighted_frac_cumsum\": 0.4550399807520968, \"series_label\": \"promiscuous euk hits\"}, {\"promiscuous hits per KOG\": 1058.0, \"count\": 1, \"cumsum\": 1989, \"frac_cumsum\": 0.9516746411483253, \"weighted_count\": 1058.0, \"weighted_cumsum\": 243142.0, \"weighted_frac_cumsum\": 0.45702868012766773, \"series_label\": \"promiscuous euk hits\"}, {\"promiscuous hits per KOG\": 1089.0, \"count\": 1, \"cumsum\": 1990, \"frac_cumsum\": 0.9521531100478469, \"weighted_count\": 1089.0, \"weighted_cumsum\": 244231.0, \"weighted_frac_cumsum\": 0.45907564952274976, \"series_label\": \"promiscuous euk hits\"}, {\"promiscuous hits per KOG\": 1106.0, \"count\": 1, \"cumsum\": 1991, \"frac_cumsum\": 0.9526315789473684, \"weighted_count\": 1106.0, \"weighted_cumsum\": 245337.0, \"weighted_frac_cumsum\": 0.4611545734446604, \"series_label\": \"promiscuous euk hits\"}, {\"promiscuous hits per KOG\": 1116.0, \"count\": 1, \"cumsum\": 1992, \"frac_cumsum\": 0.9531100478468899, \"weighted_count\": 1116.0, \"weighted_cumsum\": 246453.0, \"weighted_frac_cumsum\": 0.4632522941470585, \"series_label\": \"promiscuous euk hits\"}, {\"promiscuous hits per KOG\": 1119.0, \"count\": 1, \"cumsum\": 1993, \"frac_cumsum\": 0.9535885167464114, \"weighted_count\": 1119.0, \"weighted_cumsum\": 247572.0, \"weighted_frac_cumsum\": 0.46535565388360284, \"series_label\": \"promiscuous euk hits\"}, {\"promiscuous hits per KOG\": 1121.0, \"count\": 1, \"cumsum\": 1994, \"frac_cumsum\": 0.9540669856459331, \"weighted_count\": 1121.0, \"weighted_cumsum\": 248693.0, \"weighted_frac_cumsum\": 0.4674627729762446, \"series_label\": \"promiscuous euk hits\"}, {\"promiscuous hits per KOG\": 1135.0, \"count\": 1, \"cumsum\": 1995, \"frac_cumsum\": 0.9545454545454546, \"weighted_count\": 1135.0, \"weighted_cumsum\": 249828.0, \"weighted_frac_cumsum\": 0.46959620756156883, \"series_label\": \"promiscuous euk hits\"}, {\"promiscuous hits per KOG\": 1148.0, \"count\": 1, \"cumsum\": 1996, \"frac_cumsum\": 0.9550239234449761, \"weighted_count\": 1148.0, \"weighted_cumsum\": 250976.0, \"weighted_frac_cumsum\": 0.47175407796152674, \"series_label\": \"promiscuous euk hits\"}, {\"promiscuous hits per KOG\": 1149.0, \"count\": 1, \"cumsum\": 1997, \"frac_cumsum\": 0.9555023923444976, \"weighted_count\": 1149.0, \"weighted_cumsum\": 252125.0, \"weighted_frac_cumsum\": 0.4739138280395334, \"series_label\": \"promiscuous euk hits\"}, {\"promiscuous hits per KOG\": 1155.0, \"count\": 1, \"cumsum\": 1998, \"frac_cumsum\": 0.9559808612440192, \"weighted_count\": 1155.0, \"weighted_cumsum\": 253280.0, \"weighted_frac_cumsum\": 0.4760848561858325, \"series_label\": \"promiscuous euk hits\"}, {\"promiscuous hits per KOG\": 1178.0, \"count\": 1, \"cumsum\": 1999, \"frac_cumsum\": 0.9564593301435407, \"weighted_count\": 1178.0, \"weighted_cumsum\": 254458.0, \"weighted_frac_cumsum\": 0.4782991169272527, \"series_label\": \"promiscuous euk hits\"}, {\"promiscuous hits per KOG\": 1204.0, \"count\": 1, \"cumsum\": 2000, \"frac_cumsum\": 0.9569377990430622, \"weighted_count\": 1204.0, \"weighted_cumsum\": 255662.0, \"weighted_frac_cumsum\": 0.4805622492979402, \"series_label\": \"promiscuous euk hits\"}, {\"promiscuous hits per KOG\": 1206.0, \"count\": 1, \"cumsum\": 2001, \"frac_cumsum\": 0.9574162679425837, \"weighted_count\": 1206.0, \"weighted_cumsum\": 256868.0, \"weighted_frac_cumsum\": 0.4828291410247253, \"series_label\": \"promiscuous euk hits\"}, {\"promiscuous hits per KOG\": 1210.0, \"count\": 1, \"cumsum\": 2002, \"frac_cumsum\": 0.9578947368421052, \"weighted_count\": 1210.0, \"weighted_cumsum\": 258078.0, \"weighted_frac_cumsum\": 0.4851035514637053, \"series_label\": \"promiscuous euk hits\"}, {\"promiscuous hits per KOG\": 1216.0, \"count\": 1, \"cumsum\": 2003, \"frac_cumsum\": 0.9583732057416268, \"weighted_count\": 1216.0, \"weighted_cumsum\": 259294.0, \"weighted_frac_cumsum\": 0.4873892399709778, \"series_label\": \"promiscuous euk hits\"}, {\"promiscuous hits per KOG\": 1219.0, \"count\": 1, \"cumsum\": 2004, \"frac_cumsum\": 0.9588516746411483, \"weighted_count\": 1219.0, \"weighted_cumsum\": 260513.0, \"weighted_frac_cumsum\": 0.48968056751239647, \"series_label\": \"promiscuous euk hits\"}, {\"promiscuous hits per KOG\": 1223.0, \"count\": 1, \"cumsum\": 2005, \"frac_cumsum\": 0.9593301435406698, \"weighted_count\": 1223.0, \"weighted_cumsum\": 261736.0, \"weighted_frac_cumsum\": 0.4919794137660102, \"series_label\": \"promiscuous euk hits\"}, {\"promiscuous hits per KOG\": 1230.0, \"count\": 1, \"cumsum\": 2006, \"frac_cumsum\": 0.9598086124401913, \"weighted_count\": 1230.0, \"weighted_cumsum\": 262966.0, \"weighted_frac_cumsum\": 0.494291417765965, \"series_label\": \"promiscuous euk hits\"}, {\"promiscuous hits per KOG\": 1240.0, \"count\": 1, \"cumsum\": 2007, \"frac_cumsum\": 0.960287081339713, \"weighted_count\": 1240.0, \"weighted_cumsum\": 264206.0, \"weighted_frac_cumsum\": 0.49662221854640737, \"series_label\": \"promiscuous euk hits\"}, {\"promiscuous hits per KOG\": 1250.0, \"count\": 1, \"cumsum\": 2008, \"frac_cumsum\": 0.9607655502392345, \"weighted_count\": 1250.0, \"weighted_cumsum\": 265456.0, \"weighted_frac_cumsum\": 0.49897181610733715, \"series_label\": \"promiscuous euk hits\"}, {\"promiscuous hits per KOG\": 1294.0, \"count\": 1, \"cumsum\": 2009, \"frac_cumsum\": 0.961244019138756, \"weighted_count\": 1294.0, \"weighted_cumsum\": 266750.0, \"weighted_frac_cumsum\": 0.5014041195024116, \"series_label\": \"promiscuous euk hits\"}, {\"promiscuous hits per KOG\": 1322.0, \"count\": 1, \"cumsum\": 2010, \"frac_cumsum\": 0.9617224880382775, \"weighted_count\": 1322.0, \"weighted_cumsum\": 268072.0, \"weighted_frac_cumsum\": 0.503889053882851, \"series_label\": \"promiscuous euk hits\"}, {\"promiscuous hits per KOG\": 1366.0, \"count\": 1, \"cumsum\": 2011, \"frac_cumsum\": 0.9622009569377991, \"weighted_count\": 1366.0, \"weighted_cumsum\": 269438.0, \"weighted_frac_cumsum\": 0.506456694097435, \"series_label\": \"promiscuous euk hits\"}, {\"promiscuous hits per KOG\": 1371.0, \"count\": 1, \"cumsum\": 2012, \"frac_cumsum\": 0.9626794258373206, \"weighted_count\": 1371.0, \"weighted_cumsum\": 270809.0, \"weighted_frac_cumsum\": 0.5090337327022627, \"series_label\": \"promiscuous euk hits\"}, {\"promiscuous hits per KOG\": 1402.0, \"count\": 1, \"cumsum\": 2013, \"frac_cumsum\": 0.9631578947368421, \"weighted_count\": 1402.0, \"weighted_cumsum\": 272211.0, \"weighted_frac_cumsum\": 0.5116690413266016, \"series_label\": \"promiscuous euk hits\"}, {\"promiscuous hits per KOG\": 1404.0, \"count\": 1, \"cumsum\": 2014, \"frac_cumsum\": 0.9636363636363636, \"weighted_count\": 1404.0, \"weighted_cumsum\": 273615.0, \"weighted_frac_cumsum\": 0.5143081093070379, \"series_label\": \"promiscuous euk hits\"}, {\"promiscuous hits per KOG\": 1422.0, \"count\": 1, \"cumsum\": 2015, \"frac_cumsum\": 0.9641148325358851, \"weighted_count\": 1422.0, \"weighted_cumsum\": 275037.0, \"weighted_frac_cumsum\": 0.5169810114923515, \"series_label\": \"promiscuous euk hits\"}, {\"promiscuous hits per KOG\": 1430.0, \"count\": 1, \"cumsum\": 2016, \"frac_cumsum\": 0.9645933014354067, \"weighted_count\": 1430.0, \"weighted_cumsum\": 276467.0, \"weighted_frac_cumsum\": 0.5196689511020552, \"series_label\": \"promiscuous euk hits\"}, {\"promiscuous hits per KOG\": 1463.0, \"count\": 1, \"cumsum\": 2017, \"frac_cumsum\": 0.9650717703349282, \"weighted_count\": 1463.0, \"weighted_cumsum\": 277930.0, \"weighted_frac_cumsum\": 0.5224189200873675, \"series_label\": \"promiscuous euk hits\"}, {\"promiscuous hits per KOG\": 1480.0, \"count\": 1, \"cumsum\": 2018, \"frac_cumsum\": 0.9655502392344497, \"weighted_count\": 1480.0, \"weighted_cumsum\": 279410.0, \"weighted_frac_cumsum\": 0.5252008435995082, \"series_label\": \"promiscuous euk hits\"}, {\"promiscuous hits per KOG\": 1501.0, \"count\": 1, \"cumsum\": 2019, \"frac_cumsum\": 0.9660287081339712, \"weighted_count\": 1501.0, \"weighted_cumsum\": 280911.0, \"weighted_frac_cumsum\": 0.5280222403506727, \"series_label\": \"promiscuous euk hits\"}, {\"promiscuous hits per KOG\": 1502.0, \"count\": 1, \"cumsum\": 2020, \"frac_cumsum\": 0.9665071770334929, \"weighted_count\": 1502.0, \"weighted_cumsum\": 282413.0, \"weighted_frac_cumsum\": 0.5308455167798859, \"series_label\": \"promiscuous euk hits\"}, {\"promiscuous hits per KOG\": 1504.0, \"count\": 1, \"cumsum\": 2021, \"frac_cumsum\": 0.9669856459330144, \"weighted_count\": 1504.0, \"weighted_cumsum\": 283917.0, \"weighted_frac_cumsum\": 0.5336725525651966, \"series_label\": \"promiscuous euk hits\"}, {\"promiscuous hits per KOG\": 1584.0, \"count\": 1, \"cumsum\": 2022, \"frac_cumsum\": 0.9674641148325359, \"weighted_count\": 1584.0, \"weighted_cumsum\": 285501.0, \"weighted_frac_cumsum\": 0.5366499625944068, \"series_label\": \"promiscuous euk hits\"}, {\"promiscuous hits per KOG\": 1604.0, \"count\": 1, \"cumsum\": 2023, \"frac_cumsum\": 0.9679425837320574, \"weighted_count\": 1604.0, \"weighted_cumsum\": 287105.0, \"weighted_frac_cumsum\": 0.5396649661845919, \"series_label\": \"promiscuous euk hits\"}, {\"promiscuous hits per KOG\": 1611.0, \"count\": 1, \"cumsum\": 2024, \"frac_cumsum\": 0.968421052631579, \"weighted_count\": 1611.0, \"weighted_cumsum\": 288716.0, \"weighted_frac_cumsum\": 0.5426931275211182, \"series_label\": \"promiscuous euk hits\"}, {\"promiscuous hits per KOG\": 1613.0, \"count\": 1, \"cumsum\": 2025, \"frac_cumsum\": 0.9688995215311005, \"weighted_count\": 1613.0, \"weighted_cumsum\": 290329.0, \"weighted_frac_cumsum\": 0.5457250482137419, \"series_label\": \"promiscuous euk hits\"}, {\"promiscuous hits per KOG\": 1621.0, \"count\": 1, \"cumsum\": 2026, \"frac_cumsum\": 0.969377990430622, \"weighted_count\": 1621.0, \"weighted_cumsum\": 291950.0, \"weighted_frac_cumsum\": 0.5487720063307556, \"series_label\": \"promiscuous euk hits\"}, {\"promiscuous hits per KOG\": 1637.0, \"count\": 1, \"cumsum\": 2027, \"frac_cumsum\": 0.9698564593301435, \"weighted_count\": 1637.0, \"weighted_cumsum\": 293587.0, \"weighted_frac_cumsum\": 0.5518490392965493, \"series_label\": \"promiscuous euk hits\"}, {\"promiscuous hits per KOG\": 1680.0, \"count\": 1, \"cumsum\": 2028, \"frac_cumsum\": 0.970334928229665, \"weighted_count\": 1680.0, \"weighted_cumsum\": 295267.0, \"weighted_frac_cumsum\": 0.5550068984184389, \"series_label\": \"promiscuous euk hits\"}, {\"promiscuous hits per KOG\": 1755.0, \"count\": 1, \"cumsum\": 2029, \"frac_cumsum\": 0.9708133971291866, \"weighted_count\": 1755.0, \"weighted_cumsum\": 297022.0, \"weighted_frac_cumsum\": 0.5583057333939843, \"series_label\": \"promiscuous euk hits\"}, {\"promiscuous hits per KOG\": 1802.0, \"count\": 1, \"cumsum\": 2030, \"frac_cumsum\": 0.9712918660287081, \"weighted_count\": 1802.0, \"weighted_cumsum\": 298824.0, \"weighted_frac_cumsum\": 0.5616929132378207, \"series_label\": \"promiscuous euk hits\"}, {\"promiscuous hits per KOG\": 1816.0, \"count\": 1, \"cumsum\": 2031, \"frac_cumsum\": 0.9717703349282296, \"weighted_count\": 1816.0, \"weighted_cumsum\": 300640.0, \"weighted_frac_cumsum\": 0.5651064085743394, \"series_label\": \"promiscuous euk hits\"}, {\"promiscuous hits per KOG\": 1839.0, \"count\": 1, \"cumsum\": 2032, \"frac_cumsum\": 0.9722488038277513, \"weighted_count\": 1839.0, \"weighted_cumsum\": 302479.0, \"weighted_frac_cumsum\": 0.5685631365059792, \"series_label\": \"promiscuous euk hits\"}, {\"promiscuous hits per KOG\": 1868.0, \"count\": 1, \"cumsum\": 2033, \"frac_cumsum\": 0.9727272727272728, \"weighted_count\": 1868.0, \"weighted_cumsum\": 304347.0, \"weighted_frac_cumsum\": 0.5720743751010327, \"series_label\": \"promiscuous euk hits\"}, {\"promiscuous hits per KOG\": 1871.0, \"count\": 1, \"cumsum\": 2034, \"frac_cumsum\": 0.9732057416267943, \"weighted_count\": 1871.0, \"weighted_cumsum\": 306218.0, \"weighted_frac_cumsum\": 0.5755912527302324, \"series_label\": \"promiscuous euk hits\"}, {\"promiscuous hits per KOG\": 1877.0, \"count\": 1, \"cumsum\": 2035, \"frac_cumsum\": 0.9736842105263158, \"weighted_count\": 1877.0, \"weighted_cumsum\": 308095.0, \"weighted_frac_cumsum\": 0.5791194084277245, \"series_label\": \"promiscuous euk hits\"}, {\"promiscuous hits per KOG\": 1884.0, \"count\": 1, \"cumsum\": 2036, \"frac_cumsum\": 0.9741626794258373, \"weighted_count\": 1884.0, \"weighted_cumsum\": 309979.0, \"weighted_frac_cumsum\": 0.5826607218715578, \"series_label\": \"promiscuous euk hits\"}, {\"promiscuous hits per KOG\": 1898.0, \"count\": 1, \"cumsum\": 2037, \"frac_cumsum\": 0.9746411483253589, \"weighted_count\": 1898.0, \"weighted_cumsum\": 311877.0, \"weighted_frac_cumsum\": 0.5862283508080736, \"series_label\": \"promiscuous euk hits\"}, {\"promiscuous hits per KOG\": 1901.0, \"count\": 1, \"cumsum\": 2038, \"frac_cumsum\": 0.9751196172248804, \"weighted_count\": 1901.0, \"weighted_cumsum\": 313778.0, \"weighted_frac_cumsum\": 0.5898016187787356, \"series_label\": \"promiscuous euk hits\"}, {\"promiscuous hits per KOG\": 1927.0, \"count\": 1, \"cumsum\": 2039, \"frac_cumsum\": 0.9755980861244019, \"weighted_count\": 1927.0, \"weighted_cumsum\": 315705.0, \"weighted_frac_cumsum\": 0.5934237583786649, \"series_label\": \"promiscuous euk hits\"}, {\"promiscuous hits per KOG\": 1971.0, \"count\": 1, \"cumsum\": 2040, \"frac_cumsum\": 0.9760765550239234, \"weighted_count\": 1971.0, \"weighted_cumsum\": 317676.0, \"weighted_frac_cumsum\": 0.5971286038127389, \"series_label\": \"promiscuous euk hits\"}, {\"promiscuous hits per KOG\": 1974.0, \"count\": 1, \"cumsum\": 2041, \"frac_cumsum\": 0.976555023923445, \"weighted_count\": 1974.0, \"weighted_cumsum\": 319650.0, \"weighted_frac_cumsum\": 0.6008390882809592, \"series_label\": \"promiscuous euk hits\"}, {\"promiscuous hits per KOG\": 2085.0, \"count\": 1, \"cumsum\": 2042, \"frac_cumsum\": 0.9770334928229665, \"weighted_count\": 2085.0, \"weighted_cumsum\": 321735.0, \"weighted_frac_cumsum\": 0.6047582170125901, \"series_label\": \"promiscuous euk hits\"}, {\"promiscuous hits per KOG\": 2091.0, \"count\": 1, \"cumsum\": 2043, \"frac_cumsum\": 0.977511961722488, \"weighted_count\": 2091.0, \"weighted_cumsum\": 323826.0, \"weighted_frac_cumsum\": 0.6086886238125134, \"series_label\": \"promiscuous euk hits\"}, {\"promiscuous hits per KOG\": 2136.0, \"count\": 1, \"cumsum\": 2044, \"frac_cumsum\": 0.9779904306220095, \"weighted_count\": 2136.0, \"weighted_cumsum\": 325962.0, \"weighted_frac_cumsum\": 0.6127036161246302, \"series_label\": \"promiscuous euk hits\"}, {\"promiscuous hits per KOG\": 2171.0, \"count\": 1, \"cumsum\": 2045, \"frac_cumsum\": 0.9784688995215312, \"weighted_count\": 2171.0, \"weighted_cumsum\": 328133.0, \"weighted_frac_cumsum\": 0.616784397168453, \"series_label\": \"promiscuous euk hits\"}, {\"promiscuous hits per KOG\": 2326.0, \"count\": 1, \"cumsum\": 2046, \"frac_cumsum\": 0.9789473684210527, \"weighted_count\": 2326.0, \"weighted_cumsum\": 330459.0, \"weighted_frac_cumsum\": 0.6211565283098311, \"series_label\": \"promiscuous euk hits\"}, {\"promiscuous hits per KOG\": 2347.0, \"count\": 1, \"cumsum\": 2047, \"frac_cumsum\": 0.9794258373205742, \"weighted_count\": 2347.0, \"weighted_cumsum\": 332806.0, \"weighted_frac_cumsum\": 0.6255681326902328, \"series_label\": \"promiscuous euk hits\"}, {\"promiscuous hits per KOG\": 2392.0, \"count\": 1, \"cumsum\": 2048, \"frac_cumsum\": 0.9799043062200957, \"weighted_count\": 2392.0, \"weighted_cumsum\": 335198.0, \"weighted_frac_cumsum\": 0.630064322582828, \"series_label\": \"promiscuous euk hits\"}, {\"promiscuous hits per KOG\": 2398.0, \"count\": 1, \"cumsum\": 2049, \"frac_cumsum\": 0.9803827751196172, \"weighted_count\": 2398.0, \"weighted_cumsum\": 337596.0, \"weighted_frac_cumsum\": 0.6345717905437157, \"series_label\": \"promiscuous euk hits\"}, {\"promiscuous hits per KOG\": 2471.0, \"count\": 1, \"cumsum\": 2050, \"frac_cumsum\": 0.9808612440191388, \"weighted_count\": 2471.0, \"weighted_cumsum\": 340067.0, \"weighted_frac_cumsum\": 0.6392164750021616, \"series_label\": \"promiscuous euk hits\"}, {\"promiscuous hits per KOG\": 2495.0, \"count\": 1, \"cumsum\": 2051, \"frac_cumsum\": 0.9813397129186603, \"weighted_count\": 2495.0, \"weighted_cumsum\": 342562.0, \"weighted_frac_cumsum\": 0.6439062717337775, \"series_label\": \"promiscuous euk hits\"}, {\"promiscuous hits per KOG\": 2589.0, \"count\": 1, \"cumsum\": 2052, \"frac_cumsum\": 0.9818181818181818, \"weighted_count\": 2589.0, \"weighted_cumsum\": 345151.0, \"weighted_frac_cumsum\": 0.6487727582019752, \"series_label\": \"promiscuous euk hits\"}, {\"promiscuous hits per KOG\": 2659.0, \"count\": 1, \"cumsum\": 2053, \"frac_cumsum\": 0.9822966507177033, \"weighted_count\": 2659.0, \"weighted_cumsum\": 347810.0, \"weighted_frac_cumsum\": 0.653770822133585, \"series_label\": \"promiscuous euk hits\"}, {\"promiscuous hits per KOG\": 2782.0, \"count\": 1, \"cumsum\": 2054, \"frac_cumsum\": 0.9827751196172249, \"weighted_count\": 2782.0, \"weighted_cumsum\": 350592.0, \"weighted_frac_cumsum\": 0.6590000864651903, \"series_label\": \"promiscuous euk hits\"}, {\"promiscuous hits per KOG\": 2805.0, \"count\": 1, \"cumsum\": 2055, \"frac_cumsum\": 0.9832535885167464, \"weighted_count\": 2805.0, \"weighted_cumsum\": 353397.0, \"weighted_frac_cumsum\": 0.6642725833919166, \"series_label\": \"promiscuous euk hits\"}, {\"promiscuous hits per KOG\": 2900.0, \"count\": 1, \"cumsum\": 2056, \"frac_cumsum\": 0.9837320574162679, \"weighted_count\": 2900.0, \"weighted_cumsum\": 356297.0, \"weighted_frac_cumsum\": 0.6697236497332737, \"series_label\": \"promiscuous euk hits\"}, {\"promiscuous hits per KOG\": 2940.0, \"count\": 1, \"cumsum\": 2057, \"frac_cumsum\": 0.9842105263157894, \"weighted_count\": 2940.0, \"weighted_cumsum\": 359237.0, \"weighted_frac_cumsum\": 0.6752499031965805, \"series_label\": \"promiscuous euk hits\"}, {\"promiscuous hits per KOG\": 3004.0, \"count\": 1, \"cumsum\": 2058, \"frac_cumsum\": 0.9846889952153111, \"weighted_count\": 3004.0, \"weighted_cumsum\": 362241.0, \"weighted_frac_cumsum\": 0.6808964560550069, \"series_label\": \"promiscuous euk hits\"}, {\"promiscuous hits per KOG\": 3123.0, \"count\": 1, \"cumsum\": 2059, \"frac_cumsum\": 0.9851674641148326, \"weighted_count\": 3123.0, \"weighted_cumsum\": 365364.0, \"weighted_frac_cumsum\": 0.6867666906012339, \"series_label\": \"promiscuous euk hits\"}, {\"promiscuous hits per KOG\": 3190.0, \"count\": 1, \"cumsum\": 2060, \"frac_cumsum\": 0.9856459330143541, \"weighted_count\": 3190.0, \"weighted_cumsum\": 368554.0, \"weighted_frac_cumsum\": 0.6927628635767266, \"series_label\": \"promiscuous euk hits\"}, {\"promiscuous hits per KOG\": 3206.0, \"count\": 1, \"cumsum\": 2061, \"frac_cumsum\": 0.9861244019138756, \"weighted_count\": 3206.0, \"weighted_cumsum\": 371760.0, \"weighted_frac_cumsum\": 0.6987891114009992, \"series_label\": \"promiscuous euk hits\"}, {\"promiscuous hits per KOG\": 3210.0, \"count\": 1, \"cumsum\": 2062, \"frac_cumsum\": 0.9866028708133971, \"weighted_count\": 3210.0, \"weighted_cumsum\": 374970.0, \"weighted_frac_cumsum\": 0.7048228779374669, \"series_label\": \"promiscuous euk hits\"}, {\"promiscuous hits per KOG\": 3270.0, \"count\": 1, \"cumsum\": 2063, \"frac_cumsum\": 0.9870813397129187, \"weighted_count\": 3270.0, \"weighted_cumsum\": 378240.0, \"weighted_frac_cumsum\": 0.7109694251568591, \"series_label\": \"promiscuous euk hits\"}, {\"promiscuous hits per KOG\": 3282.0, \"count\": 1, \"cumsum\": 2064, \"frac_cumsum\": 0.9875598086124402, \"weighted_count\": 3282.0, \"weighted_cumsum\": 381522.0, \"weighted_frac_cumsum\": 0.7171385285128363, \"series_label\": \"promiscuous euk hits\"}, {\"promiscuous hits per KOG\": 3504.0, \"count\": 1, \"cumsum\": 2065, \"frac_cumsum\": 0.9880382775119617, \"weighted_count\": 3504.0, \"weighted_cumsum\": 385026.0, \"weighted_frac_cumsum\": 0.7237249203956346, \"series_label\": \"promiscuous euk hits\"}, {\"promiscuous hits per KOG\": 3540.0, \"count\": 1, \"cumsum\": 2066, \"frac_cumsum\": 0.9885167464114832, \"weighted_count\": 3540.0, \"weighted_cumsum\": 388566.0, \"weighted_frac_cumsum\": 0.7303789806881877, \"series_label\": \"promiscuous euk hits\"}, {\"promiscuous hits per KOG\": 3628.0, \"count\": 1, \"cumsum\": 2067, \"frac_cumsum\": 0.9889952153110048, \"weighted_count\": 3628.0, \"weighted_cumsum\": 392194.0, \"weighted_frac_cumsum\": 0.7371984526490303, \"series_label\": \"promiscuous euk hits\"}, {\"promiscuous hits per KOG\": 3678.0, \"count\": 1, \"cumsum\": 2068, \"frac_cumsum\": 0.9894736842105263, \"weighted_count\": 3678.0, \"weighted_cumsum\": 395872.0, \"weighted_frac_cumsum\": 0.74411190851231, \"series_label\": \"promiscuous euk hits\"}, {\"promiscuous hits per KOG\": 3752.0, \"count\": 1, \"cumsum\": 2069, \"frac_cumsum\": 0.9899521531100478, \"weighted_count\": 3752.0, \"weighted_cumsum\": 399624.0, \"weighted_frac_cumsum\": 0.7511644605511968, \"series_label\": \"promiscuous euk hits\"}, {\"promiscuous hits per KOG\": 4061.0, \"count\": 1, \"cumsum\": 2070, \"frac_cumsum\": 0.9904306220095693, \"weighted_count\": 4061.0, \"weighted_cumsum\": 403685.0, \"weighted_frac_cumsum\": 0.7587978331071454, \"series_label\": \"promiscuous euk hits\"}, {\"promiscuous hits per KOG\": 4202.0, \"count\": 1, \"cumsum\": 2071, \"frac_cumsum\": 0.990909090909091, \"weighted_count\": 4202.0, \"weighted_cumsum\": 407887.0, \"weighted_frac_cumsum\": 0.7666962402679669, \"series_label\": \"promiscuous euk hits\"}, {\"promiscuous hits per KOG\": 4377.0, \"count\": 1, \"cumsum\": 2072, \"frac_cumsum\": 0.9913875598086125, \"weighted_count\": 4377.0, \"weighted_cumsum\": 412264.0, \"weighted_frac_cumsum\": 0.7749235910873186, \"series_label\": \"promiscuous euk hits\"}, {\"promiscuous hits per KOG\": 4507.0, \"count\": 1, \"cumsum\": 2073, \"frac_cumsum\": 0.991866028708134, \"weighted_count\": 4507.0, \"weighted_cumsum\": 416771.0, \"weighted_frac_cumsum\": 0.783395300053007, \"series_label\": \"promiscuous euk hits\"}, {\"promiscuous hits per KOG\": 4589.0, \"count\": 1, \"cumsum\": 2074, \"frac_cumsum\": 0.9923444976076555, \"weighted_count\": 4589.0, \"weighted_cumsum\": 421360.0, \"weighted_frac_cumsum\": 0.7920211426186923, \"series_label\": \"promiscuous euk hits\"}, {\"promiscuous hits per KOG\": 4714.0, \"count\": 1, \"cumsum\": 2075, \"frac_cumsum\": 0.992822966507177, \"weighted_count\": 4714.0, \"weighted_cumsum\": 426074.0, \"weighted_frac_cumsum\": 0.8008819449404706, \"series_label\": \"promiscuous euk hits\"}, {\"promiscuous hits per KOG\": 4862.0, \"count\": 1, \"cumsum\": 2076, \"frac_cumsum\": 0.9933014354066986, \"weighted_count\": 4862.0, \"weighted_cumsum\": 430936.0, \"weighted_frac_cumsum\": 0.810020939613463, \"series_label\": \"promiscuous euk hits\"}, {\"promiscuous hits per KOG\": 4965.0, \"count\": 1, \"cumsum\": 2077, \"frac_cumsum\": 0.9937799043062201, \"weighted_count\": 4965.0, \"weighted_cumsum\": 435901.0, \"weighted_frac_cumsum\": 0.819353541125476, \"series_label\": \"promiscuous euk hits\"}, {\"promiscuous hits per KOG\": 5150.0, \"count\": 1, \"cumsum\": 2078, \"frac_cumsum\": 0.9942583732057416, \"weighted_count\": 5150.0, \"weighted_cumsum\": 441051.0, \"weighted_frac_cumsum\": 0.8290338830765066, \"series_label\": \"promiscuous euk hits\"}, {\"promiscuous hits per KOG\": 5716.0, \"count\": 1, \"cumsum\": 2079, \"frac_cumsum\": 0.9947368421052631, \"weighted_count\": 5716.0, \"weighted_cumsum\": 446767.0, \"weighted_frac_cumsum\": 0.8397781228031262, \"series_label\": \"promiscuous euk hits\"}, {\"promiscuous hits per KOG\": 6211.0, \"count\": 1, \"cumsum\": 2080, \"frac_cumsum\": 0.9952153110047847, \"weighted_count\": 6211.0, \"weighted_cumsum\": 452978.0, \"weighted_frac_cumsum\": 0.8514528031638741, \"series_label\": \"promiscuous euk hits\"}, {\"promiscuous hits per KOG\": 6626.0, \"count\": 1, \"cumsum\": 2081, \"frac_cumsum\": 0.9956937799043062, \"weighted_count\": 6626.0, \"weighted_cumsum\": 459604.0, \"weighted_frac_cumsum\": 0.8639075499148506, \"series_label\": \"promiscuous euk hits\"}, {\"promiscuous hits per KOG\": 6825.0, \"count\": 1, \"cumsum\": 2082, \"frac_cumsum\": 0.9961722488038277, \"weighted_count\": 6825.0, \"weighted_cumsum\": 466429.0, \"weighted_frac_cumsum\": 0.8767363525975271, \"series_label\": \"promiscuous euk hits\"}, {\"promiscuous hits per KOG\": 7059.0, \"count\": 1, \"cumsum\": 2083, \"frac_cumsum\": 0.9966507177033492, \"weighted_count\": 7059.0, \"weighted_cumsum\": 473488.0, \"weighted_frac_cumsum\": 0.8900049999436097, \"series_label\": \"promiscuous euk hits\"}, {\"promiscuous hits per KOG\": 7255.0, \"count\": 1, \"cumsum\": 2084, \"frac_cumsum\": 0.9971291866028709, \"weighted_count\": 7255.0, \"weighted_cumsum\": 480743.0, \"weighted_frac_cumsum\": 0.903642064187246, \"series_label\": \"promiscuous euk hits\"}, {\"promiscuous hits per KOG\": 7305.0, \"count\": 1, \"cumsum\": 2085, \"frac_cumsum\": 0.9976076555023924, \"weighted_count\": 7305.0, \"weighted_cumsum\": 488048.0, \"weighted_frac_cumsum\": 0.9173731123333195, \"series_label\": \"promiscuous euk hits\"}, {\"promiscuous hits per KOG\": 8160.0, \"count\": 1, \"cumsum\": 2086, \"frac_cumsum\": 0.9980861244019139, \"weighted_count\": 8160.0, \"weighted_cumsum\": 496208.0, \"weighted_frac_cumsum\": 0.932711285211069, \"series_label\": \"promiscuous euk hits\"}, {\"promiscuous hits per KOG\": 8254.0, \"count\": 1, \"cumsum\": 2087, \"frac_cumsum\": 0.9985645933014354, \"weighted_count\": 8254.0, \"weighted_cumsum\": 504462.0, \"weighted_frac_cumsum\": 0.9482261478254005, \"series_label\": \"promiscuous euk hits\"}, {\"promiscuous hits per KOG\": 8285.0, \"count\": 1, \"cumsum\": 2088, \"frac_cumsum\": 0.999043062200957, \"weighted_count\": 8285.0, \"weighted_cumsum\": 512747.0, \"weighted_frac_cumsum\": 0.9637992804592429, \"series_label\": \"promiscuous euk hits\"}, {\"promiscuous hits per KOG\": 9406.0, \"count\": 1, \"cumsum\": 2089, \"frac_cumsum\": 0.9995215311004785, \"weighted_count\": 9406.0, \"weighted_cumsum\": 522153.0, \"weighted_frac_cumsum\": 0.9814795321857273, \"series_label\": \"promiscuous euk hits\"}, {\"promiscuous hits per KOG\": 9853.0, \"count\": 1, \"cumsum\": 2090, \"frac_cumsum\": 1.0, \"weighted_count\": 9853.0, \"weighted_cumsum\": 532006.0, \"weighted_frac_cumsum\": 1.0, \"series_label\": \"promiscuous euk hits\"}, {\"promiscuous hits per KOG\": 1.0, \"count\": 131, \"cumsum\": 131, \"frac_cumsum\": 0.07963525835866261, \"weighted_count\": 131.0, \"weighted_cumsum\": 131.0, \"weighted_frac_cumsum\": 0.00015370066619265852, \"series_label\": \"promiscuous prok hits\"}, {\"promiscuous hits per KOG\": 2.0, \"count\": 84, \"cumsum\": 215, \"frac_cumsum\": 0.13069908814589665, \"weighted_count\": 168.0, \"weighted_cumsum\": 299.0, \"weighted_frac_cumsum\": 0.0003508129709282816, \"series_label\": \"promiscuous prok hits\"}, {\"promiscuous hits per KOG\": 3.0, \"count\": 50, \"cumsum\": 265, \"frac_cumsum\": 0.16109422492401215, \"weighted_count\": 150.0, \"weighted_cumsum\": 449.0, \"weighted_frac_cumsum\": 0.0005268061001565165, \"series_label\": \"promiscuous prok hits\"}, {\"promiscuous hits per KOG\": 4.0, \"count\": 39, \"cumsum\": 304, \"frac_cumsum\": 0.18480243161094226, \"weighted_count\": 156.0, \"weighted_cumsum\": 605.0, \"weighted_frac_cumsum\": 0.0007098389545538809, \"series_label\": \"promiscuous prok hits\"}, {\"promiscuous hits per KOG\": 5.0, \"count\": 56, \"cumsum\": 360, \"frac_cumsum\": 0.2188449848024316, \"weighted_count\": 280.0, \"weighted_cumsum\": 885.0, \"weighted_frac_cumsum\": 0.001038359462446586, \"series_label\": \"promiscuous prok hits\"}, {\"promiscuous hits per KOG\": 6.0, \"count\": 45, \"cumsum\": 405, \"frac_cumsum\": 0.24620060790273557, \"weighted_count\": 270.0, \"weighted_cumsum\": 1155.0, \"weighted_frac_cumsum\": 0.001355147095057409, \"series_label\": \"promiscuous prok hits\"}, {\"promiscuous hits per KOG\": 7.0, \"count\": 35, \"cumsum\": 440, \"frac_cumsum\": 0.2674772036474164, \"weighted_count\": 245.0, \"weighted_cumsum\": 1400.0, \"weighted_frac_cumsum\": 0.001642602539463526, \"series_label\": \"promiscuous prok hits\"}, {\"promiscuous hits per KOG\": 8.0, \"count\": 24, \"cumsum\": 464, \"frac_cumsum\": 0.28206686930091185, \"weighted_count\": 192.0, \"weighted_cumsum\": 1592.0, \"weighted_frac_cumsum\": 0.0018678737448756667, \"series_label\": \"promiscuous prok hits\"}, {\"promiscuous hits per KOG\": 9.0, \"count\": 21, \"cumsum\": 485, \"frac_cumsum\": 0.2948328267477204, \"weighted_count\": 189.0, \"weighted_cumsum\": 1781.0, \"weighted_frac_cumsum\": 0.0020896250877032426, \"series_label\": \"promiscuous prok hits\"}, {\"promiscuous hits per KOG\": 10.0, \"count\": 18, \"cumsum\": 503, \"frac_cumsum\": 0.3057750759878419, \"weighted_count\": 180.0, \"weighted_cumsum\": 1961.0, \"weighted_frac_cumsum\": 0.002300816842777125, \"series_label\": \"promiscuous prok hits\"}, {\"promiscuous hits per KOG\": 11.0, \"count\": 23, \"cumsum\": 526, \"frac_cumsum\": 0.31975683890577505, \"weighted_count\": 253.0, \"weighted_cumsum\": 2214.0, \"weighted_frac_cumsum\": 0.0025976585874087476, \"series_label\": \"promiscuous prok hits\"}, {\"promiscuous hits per KOG\": 12.0, \"count\": 18, \"cumsum\": 544, \"frac_cumsum\": 0.33069908814589666, \"weighted_count\": 216.0, \"weighted_cumsum\": 2430.0, \"weighted_frac_cumsum\": 0.0028510886934974057, \"series_label\": \"promiscuous prok hits\"}, {\"promiscuous hits per KOG\": 13.0, \"count\": 16, \"cumsum\": 560, \"frac_cumsum\": 0.3404255319148936, \"weighted_count\": 208.0, \"weighted_cumsum\": 2638.0, \"weighted_frac_cumsum\": 0.003095132499360558, \"series_label\": \"promiscuous prok hits\"}, {\"promiscuous hits per KOG\": 14.0, \"count\": 17, \"cumsum\": 577, \"frac_cumsum\": 0.3507598784194529, \"weighted_count\": 238.0, \"weighted_cumsum\": 2876.0, \"weighted_frac_cumsum\": 0.0033743749310693578, \"series_label\": \"promiscuous prok hits\"}, {\"promiscuous hits per KOG\": 15.0, \"count\": 21, \"cumsum\": 598, \"frac_cumsum\": 0.3635258358662614, \"weighted_count\": 315.0, \"weighted_cumsum\": 3191.0, \"weighted_frac_cumsum\": 0.003743960502448651, \"series_label\": \"promiscuous prok hits\"}, {\"promiscuous hits per KOG\": 16.0, \"count\": 17, \"cumsum\": 615, \"frac_cumsum\": 0.3738601823708207, \"weighted_count\": 272.0, \"weighted_cumsum\": 3463.0, \"weighted_frac_cumsum\": 0.00406309471011585, \"series_label\": \"promiscuous prok hits\"}, {\"promiscuous hits per KOG\": 17.0, \"count\": 17, \"cumsum\": 632, \"frac_cumsum\": 0.3841945288753799, \"weighted_count\": 289.0, \"weighted_cumsum\": 3752.0, \"weighted_frac_cumsum\": 0.0044021748057622495, \"series_label\": \"promiscuous prok hits\"}, {\"promiscuous hits per KOG\": 18.0, \"count\": 13, \"cumsum\": 645, \"frac_cumsum\": 0.39209726443769, \"weighted_count\": 234.0, \"weighted_cumsum\": 3986.0, \"weighted_frac_cumsum\": 0.004676724087358296, \"series_label\": \"promiscuous prok hits\"}, {\"promiscuous hits per KOG\": 19.0, \"count\": 8, \"cumsum\": 653, \"frac_cumsum\": 0.39696048632218844, \"weighted_count\": 152.0, \"weighted_cumsum\": 4138.0, \"weighted_frac_cumsum\": 0.004855063791642907, \"series_label\": \"promiscuous prok hits\"}, {\"promiscuous hits per KOG\": 20.0, \"count\": 8, \"cumsum\": 661, \"frac_cumsum\": 0.40182370820668695, \"weighted_count\": 160.0, \"weighted_cumsum\": 4298.0, \"weighted_frac_cumsum\": 0.005042789796153025, \"series_label\": \"promiscuous prok hits\"}, {\"promiscuous hits per KOG\": 21.0, \"count\": 11, \"cumsum\": 672, \"frac_cumsum\": 0.4085106382978723, \"weighted_count\": 231.0, \"weighted_cumsum\": 4529.0, \"weighted_frac_cumsum\": 0.005313819215164507, \"series_label\": \"promiscuous prok hits\"}, {\"promiscuous hits per KOG\": 22.0, \"count\": 10, \"cumsum\": 682, \"frac_cumsum\": 0.4145896656534954, \"weighted_count\": 220.0, \"weighted_cumsum\": 4749.0, \"weighted_frac_cumsum\": 0.0055719424713659175, \"series_label\": \"promiscuous prok hits\"}, {\"promiscuous hits per KOG\": 23.0, \"count\": 8, \"cumsum\": 690, \"frac_cumsum\": 0.4194528875379939, \"weighted_count\": 184.0, \"weighted_cumsum\": 4933.0, \"weighted_frac_cumsum\": 0.005787827376552553, \"series_label\": \"promiscuous prok hits\"}, {\"promiscuous hits per KOG\": 24.0, \"count\": 8, \"cumsum\": 698, \"frac_cumsum\": 0.4243161094224924, \"weighted_count\": 192.0, \"weighted_cumsum\": 5125.0, \"weighted_frac_cumsum\": 0.006013098581964693, \"series_label\": \"promiscuous prok hits\"}, {\"promiscuous hits per KOG\": 25.0, \"count\": 10, \"cumsum\": 708, \"frac_cumsum\": 0.43039513677811553, \"weighted_count\": 250.0, \"weighted_cumsum\": 5375.0, \"weighted_frac_cumsum\": 0.006306420464011752, \"series_label\": \"promiscuous prok hits\"}, {\"promiscuous hits per KOG\": 26.0, \"count\": 11, \"cumsum\": 719, \"frac_cumsum\": 0.4370820668693009, \"weighted_count\": 286.0, \"weighted_cumsum\": 5661.0, \"weighted_frac_cumsum\": 0.006641980697073586, \"series_label\": \"promiscuous prok hits\"}, {\"promiscuous hits per KOG\": 27.0, \"count\": 6, \"cumsum\": 725, \"frac_cumsum\": 0.44072948328267475, \"weighted_count\": 162.0, \"weighted_cumsum\": 5823.0, \"weighted_frac_cumsum\": 0.00683205327664008, \"series_label\": \"promiscuous prok hits\"}, {\"promiscuous hits per KOG\": 28.0, \"count\": 4, \"cumsum\": 729, \"frac_cumsum\": 0.443161094224924, \"weighted_count\": 112.0, \"weighted_cumsum\": 5935.0, \"weighted_frac_cumsum\": 0.006963461479797162, \"series_label\": \"promiscuous prok hits\"}, {\"promiscuous hits per KOG\": 29.0, \"count\": 18, \"cumsum\": 747, \"frac_cumsum\": 0.4541033434650456, \"weighted_count\": 522.0, \"weighted_cumsum\": 6457.0, \"weighted_frac_cumsum\": 0.0075759175695114195, \"series_label\": \"promiscuous prok hits\"}, {\"promiscuous hits per KOG\": 30.0, \"count\": 9, \"cumsum\": 756, \"frac_cumsum\": 0.4595744680851064, \"weighted_count\": 270.0, \"weighted_cumsum\": 6727.0, \"weighted_frac_cumsum\": 0.007892705202122242, \"series_label\": \"promiscuous prok hits\"}, {\"promiscuous hits per KOG\": 31.0, \"count\": 12, \"cumsum\": 768, \"frac_cumsum\": 0.4668693009118541, \"weighted_count\": 372.0, \"weighted_cumsum\": 7099.0, \"weighted_frac_cumsum\": 0.008329168162608265, \"series_label\": \"promiscuous prok hits\"}, {\"promiscuous hits per KOG\": 32.0, \"count\": 11, \"cumsum\": 779, \"frac_cumsum\": 0.4735562310030395, \"weighted_count\": 352.0, \"weighted_cumsum\": 7451.0, \"weighted_frac_cumsum\": 0.008742165372530523, \"series_label\": \"promiscuous prok hits\"}, {\"promiscuous hits per KOG\": 33.0, \"count\": 9, \"cumsum\": 788, \"frac_cumsum\": 0.4790273556231003, \"weighted_count\": 297.0, \"weighted_cumsum\": 7748.0, \"weighted_frac_cumsum\": 0.009090631768402429, \"series_label\": \"promiscuous prok hits\"}, {\"promiscuous hits per KOG\": 34.0, \"count\": 5, \"cumsum\": 793, \"frac_cumsum\": 0.48206686930091186, \"weighted_count\": 170.0, \"weighted_cumsum\": 7918.0, \"weighted_frac_cumsum\": 0.009290090648194428, \"series_label\": \"promiscuous prok hits\"}, {\"promiscuous hits per KOG\": 35.0, \"count\": 8, \"cumsum\": 801, \"frac_cumsum\": 0.4869300911854103, \"weighted_count\": 280.0, \"weighted_cumsum\": 8198.0, \"weighted_frac_cumsum\": 0.009618611156087134, \"series_label\": \"promiscuous prok hits\"}, {\"promiscuous hits per KOG\": 36.0, \"count\": 8, \"cumsum\": 809, \"frac_cumsum\": 0.4917933130699088, \"weighted_count\": 288.0, \"weighted_cumsum\": 8486.0, \"weighted_frac_cumsum\": 0.009956517964205344, \"series_label\": \"promiscuous prok hits\"}, {\"promiscuous hits per KOG\": 37.0, \"count\": 6, \"cumsum\": 815, \"frac_cumsum\": 0.49544072948328266, \"weighted_count\": 222.0, \"weighted_cumsum\": 8708.0, \"weighted_frac_cumsum\": 0.010216987795463131, \"series_label\": \"promiscuous prok hits\"}, {\"promiscuous hits per KOG\": 38.0, \"count\": 5, \"cumsum\": 820, \"frac_cumsum\": 0.49848024316109424, \"weighted_count\": 190.0, \"weighted_cumsum\": 8898.0, \"weighted_frac_cumsum\": 0.010439912425818897, \"series_label\": \"promiscuous prok hits\"}, {\"promiscuous hits per KOG\": 39.0, \"count\": 4, \"cumsum\": 824, \"frac_cumsum\": 0.5009118541033435, \"weighted_count\": 156.0, \"weighted_cumsum\": 9054.0, \"weighted_frac_cumsum\": 0.01062294528021626, \"series_label\": \"promiscuous prok hits\"}, {\"promiscuous hits per KOG\": 40.0, \"count\": 7, \"cumsum\": 831, \"frac_cumsum\": 0.5051671732522797, \"weighted_count\": 280.0, \"weighted_cumsum\": 9334.0, \"weighted_frac_cumsum\": 0.010951465788108966, \"series_label\": \"promiscuous prok hits\"}, {\"promiscuous hits per KOG\": 41.0, \"count\": 6, \"cumsum\": 837, \"frac_cumsum\": 0.5088145896656535, \"weighted_count\": 246.0, \"weighted_cumsum\": 9580.0, \"weighted_frac_cumsum\": 0.011240094520043271, \"series_label\": \"promiscuous prok hits\"}, {\"promiscuous hits per KOG\": 42.0, \"count\": 2, \"cumsum\": 839, \"frac_cumsum\": 0.5100303951367782, \"weighted_count\": 84.0, \"weighted_cumsum\": 9664.0, \"weighted_frac_cumsum\": 0.011338650672411082, \"series_label\": \"promiscuous prok hits\"}, {\"promiscuous hits per KOG\": 43.0, \"count\": 1, \"cumsum\": 840, \"frac_cumsum\": 0.5106382978723404, \"weighted_count\": 43.0, \"weighted_cumsum\": 9707.0, \"weighted_frac_cumsum\": 0.011389102036123177, \"series_label\": \"promiscuous prok hits\"}, {\"promiscuous hits per KOG\": 44.0, \"count\": 7, \"cumsum\": 847, \"frac_cumsum\": 0.5148936170212766, \"weighted_count\": 308.0, \"weighted_cumsum\": 10015.0, \"weighted_frac_cumsum\": 0.011750474594805152, \"series_label\": \"promiscuous prok hits\"}, {\"promiscuous hits per KOG\": 45.0, \"count\": 3, \"cumsum\": 850, \"frac_cumsum\": 0.5167173252279635, \"weighted_count\": 135.0, \"weighted_cumsum\": 10150.0, \"weighted_frac_cumsum\": 0.011908868411110564, \"series_label\": \"promiscuous prok hits\"}, {\"promiscuous hits per KOG\": 46.0, \"count\": 3, \"cumsum\": 853, \"frac_cumsum\": 0.5185410334346504, \"weighted_count\": 138.0, \"weighted_cumsum\": 10288.0, \"weighted_frac_cumsum\": 0.01207078209000054, \"series_label\": \"promiscuous prok hits\"}, {\"promiscuous hits per KOG\": 47.0, \"count\": 5, \"cumsum\": 858, \"frac_cumsum\": 0.521580547112462, \"weighted_count\": 235.0, \"weighted_cumsum\": 10523.0, \"weighted_frac_cumsum\": 0.012346504659124775, \"series_label\": \"promiscuous prok hits\"}, {\"promiscuous hits per KOG\": 48.0, \"count\": 6, \"cumsum\": 864, \"frac_cumsum\": 0.5252279635258359, \"weighted_count\": 288.0, \"weighted_cumsum\": 10811.0, \"weighted_frac_cumsum\": 0.012684411467242985, \"series_label\": \"promiscuous prok hits\"}, {\"promiscuous hits per KOG\": 49.0, \"count\": 5, \"cumsum\": 869, \"frac_cumsum\": 0.5282674772036474, \"weighted_count\": 245.0, \"weighted_cumsum\": 11056.0, \"weighted_frac_cumsum\": 0.012971866911649102, \"series_label\": \"promiscuous prok hits\"}, {\"promiscuous hits per KOG\": 50.0, \"count\": 9, \"cumsum\": 878, \"frac_cumsum\": 0.5337386018237082, \"weighted_count\": 450.0, \"weighted_cumsum\": 11506.0, \"weighted_frac_cumsum\": 0.013499846299333807, \"series_label\": \"promiscuous prok hits\"}, {\"promiscuous hits per KOG\": 51.0, \"count\": 3, \"cumsum\": 881, \"frac_cumsum\": 0.5355623100303951, \"weighted_count\": 153.0, \"weighted_cumsum\": 11659.0, \"weighted_frac_cumsum\": 0.013679359291146607, \"series_label\": \"promiscuous prok hits\"}, {\"promiscuous hits per KOG\": 52.0, \"count\": 7, \"cumsum\": 888, \"frac_cumsum\": 0.5398176291793313, \"weighted_count\": 364.0, \"weighted_cumsum\": 12023.0, \"weighted_frac_cumsum\": 0.014106435951407124, \"series_label\": \"promiscuous prok hits\"}, {\"promiscuous hits per KOG\": 53.0, \"count\": 8, \"cumsum\": 896, \"frac_cumsum\": 0.5446808510638298, \"weighted_count\": 424.0, \"weighted_cumsum\": 12447.0, \"weighted_frac_cumsum\": 0.014603909863358935, \"series_label\": \"promiscuous prok hits\"}, {\"promiscuous hits per KOG\": 54.0, \"count\": 3, \"cumsum\": 899, \"frac_cumsum\": 0.5465045592705167, \"weighted_count\": 162.0, \"weighted_cumsum\": 12609.0, \"weighted_frac_cumsum\": 0.014793982442925428, \"series_label\": \"promiscuous prok hits\"}, {\"promiscuous hits per KOG\": 55.0, \"count\": 4, \"cumsum\": 903, \"frac_cumsum\": 0.548936170212766, \"weighted_count\": 220.0, \"weighted_cumsum\": 12829.0, \"weighted_frac_cumsum\": 0.01505210569912684, \"series_label\": \"promiscuous prok hits\"}, {\"promiscuous hits per KOG\": 56.0, \"count\": 5, \"cumsum\": 908, \"frac_cumsum\": 0.5519756838905775, \"weighted_count\": 280.0, \"weighted_cumsum\": 13109.0, \"weighted_frac_cumsum\": 0.015380626207019545, \"series_label\": \"promiscuous prok hits\"}, {\"promiscuous hits per KOG\": 57.0, \"count\": 6, \"cumsum\": 914, \"frac_cumsum\": 0.5556231003039513, \"weighted_count\": 342.0, \"weighted_cumsum\": 13451.0, \"weighted_frac_cumsum\": 0.01578189054165992, \"series_label\": \"promiscuous prok hits\"}, {\"promiscuous hits per KOG\": 58.0, \"count\": 5, \"cumsum\": 919, \"frac_cumsum\": 0.5586626139817629, \"weighted_count\": 290.0, \"weighted_cumsum\": 13741.0, \"weighted_frac_cumsum\": 0.016122143924834506, \"series_label\": \"promiscuous prok hits\"}, {\"promiscuous hits per KOG\": 59.0, \"count\": 10, \"cumsum\": 929, \"frac_cumsum\": 0.564741641337386, \"weighted_count\": 590.0, \"weighted_cumsum\": 14331.0, \"weighted_frac_cumsum\": 0.016814383566465564, \"series_label\": \"promiscuous prok hits\"}, {\"promiscuous hits per KOG\": 60.0, \"count\": 1, \"cumsum\": 930, \"frac_cumsum\": 0.5653495440729484, \"weighted_count\": 60.0, \"weighted_cumsum\": 14391.0, \"weighted_frac_cumsum\": 0.01688478081815686, \"series_label\": \"promiscuous prok hits\"}, {\"promiscuous hits per KOG\": 61.0, \"count\": 2, \"cumsum\": 932, \"frac_cumsum\": 0.5665653495440729, \"weighted_count\": 122.0, \"weighted_cumsum\": 14513.0, \"weighted_frac_cumsum\": 0.017027921896595823, \"series_label\": \"promiscuous prok hits\"}, {\"promiscuous hits per KOG\": 62.0, \"count\": 2, \"cumsum\": 934, \"frac_cumsum\": 0.5677811550151975, \"weighted_count\": 124.0, \"weighted_cumsum\": 14637.0, \"weighted_frac_cumsum\": 0.017173409550091164, \"series_label\": \"promiscuous prok hits\"}, {\"promiscuous hits per KOG\": 63.0, \"count\": 5, \"cumsum\": 939, \"frac_cumsum\": 0.5708206686930091, \"weighted_count\": 315.0, \"weighted_cumsum\": 14952.0, \"weighted_frac_cumsum\": 0.017542995121470457, \"series_label\": \"promiscuous prok hits\"}, {\"promiscuous hits per KOG\": 64.0, \"count\": 4, \"cumsum\": 943, \"frac_cumsum\": 0.5732522796352584, \"weighted_count\": 256.0, \"weighted_cumsum\": 15208.0, \"weighted_frac_cumsum\": 0.017843356728686647, \"series_label\": \"promiscuous prok hits\"}, {\"promiscuous hits per KOG\": 65.0, \"count\": 6, \"cumsum\": 949, \"frac_cumsum\": 0.5768996960486322, \"weighted_count\": 390.0, \"weighted_cumsum\": 15598.0, \"weighted_frac_cumsum\": 0.018300938864680056, \"series_label\": \"promiscuous prok hits\"}, {\"promiscuous hits per KOG\": 66.0, \"count\": 4, \"cumsum\": 953, \"frac_cumsum\": 0.5793313069908814, \"weighted_count\": 264.0, \"weighted_cumsum\": 15862.0, \"weighted_frac_cumsum\": 0.01861068677212175, \"series_label\": \"promiscuous prok hits\"}, {\"promiscuous hits per KOG\": 67.0, \"count\": 5, \"cumsum\": 958, \"frac_cumsum\": 0.5823708206686931, \"weighted_count\": 335.0, \"weighted_cumsum\": 16197.0, \"weighted_frac_cumsum\": 0.019003738094064807, \"series_label\": \"promiscuous prok hits\"}, {\"promiscuous hits per KOG\": 68.0, \"count\": 4, \"cumsum\": 962, \"frac_cumsum\": 0.5848024316109423, \"weighted_count\": 272.0, \"weighted_cumsum\": 16469.0, \"weighted_frac_cumsum\": 0.019322872301732005, \"series_label\": \"promiscuous prok hits\"}, {\"promiscuous hits per KOG\": 69.0, \"count\": 1, \"cumsum\": 963, \"frac_cumsum\": 0.5854103343465046, \"weighted_count\": 69.0, \"weighted_cumsum\": 16538.0, \"weighted_frac_cumsum\": 0.019403829141176995, \"series_label\": \"promiscuous prok hits\"}, {\"promiscuous hits per KOG\": 70.0, \"count\": 2, \"cumsum\": 965, \"frac_cumsum\": 0.5866261398176292, \"weighted_count\": 140.0, \"weighted_cumsum\": 16678.0, \"weighted_frac_cumsum\": 0.019568089395123348, \"series_label\": \"promiscuous prok hits\"}, {\"promiscuous hits per KOG\": 71.0, \"count\": 6, \"cumsum\": 971, \"frac_cumsum\": 0.5902735562310031, \"weighted_count\": 426.0, \"weighted_cumsum\": 17104.0, \"weighted_frac_cumsum\": 0.020067909882131536, \"series_label\": \"promiscuous prok hits\"}, {\"promiscuous hits per KOG\": 72.0, \"count\": 1, \"cumsum\": 972, \"frac_cumsum\": 0.5908814589665653, \"weighted_count\": 72.0, \"weighted_cumsum\": 17176.0, \"weighted_frac_cumsum\": 0.02015238658416109, \"series_label\": \"promiscuous prok hits\"}, {\"promiscuous hits per KOG\": 73.0, \"count\": 1, \"cumsum\": 973, \"frac_cumsum\": 0.5914893617021276, \"weighted_count\": 73.0, \"weighted_cumsum\": 17249.0, \"weighted_frac_cumsum\": 0.02023803657371883, \"series_label\": \"promiscuous prok hits\"}, {\"promiscuous hits per KOG\": 74.0, \"count\": 4, \"cumsum\": 977, \"frac_cumsum\": 0.5939209726443769, \"weighted_count\": 296.0, \"weighted_cumsum\": 17545.0, \"weighted_frac_cumsum\": 0.020585329682062545, \"series_label\": \"promiscuous prok hits\"}, {\"promiscuous hits per KOG\": 75.0, \"count\": 4, \"cumsum\": 981, \"frac_cumsum\": 0.5963525835866261, \"weighted_count\": 300.0, \"weighted_cumsum\": 17845.0, \"weighted_frac_cumsum\": 0.020937315940519015, \"series_label\": \"promiscuous prok hits\"}, {\"promiscuous hits per KOG\": 76.0, \"count\": 5, \"cumsum\": 986, \"frac_cumsum\": 0.5993920972644377, \"weighted_count\": 380.0, \"weighted_cumsum\": 18225.0, \"weighted_frac_cumsum\": 0.021383165201230545, \"series_label\": \"promiscuous prok hits\"}, {\"promiscuous hits per KOG\": 77.0, \"count\": 2, \"cumsum\": 988, \"frac_cumsum\": 0.6006079027355623, \"weighted_count\": 154.0, \"weighted_cumsum\": 18379.0, \"weighted_frac_cumsum\": 0.021563851480571532, \"series_label\": \"promiscuous prok hits\"}, {\"promiscuous hits per KOG\": 78.0, \"count\": 6, \"cumsum\": 994, \"frac_cumsum\": 0.6042553191489362, \"weighted_count\": 468.0, \"weighted_cumsum\": 18847.0, \"weighted_frac_cumsum\": 0.022112950043763624, \"series_label\": \"promiscuous prok hits\"}, {\"promiscuous hits per KOG\": 79.0, \"count\": 2, \"cumsum\": 996, \"frac_cumsum\": 0.6054711246200608, \"weighted_count\": 158.0, \"weighted_cumsum\": 19005.0, \"weighted_frac_cumsum\": 0.022298329473217367, \"series_label\": \"promiscuous prok hits\"}, {\"promiscuous hits per KOG\": 80.0, \"count\": 3, \"cumsum\": 999, \"frac_cumsum\": 0.6072948328267477, \"weighted_count\": 240.0, \"weighted_cumsum\": 19245.0, \"weighted_frac_cumsum\": 0.02257991847998254, \"series_label\": \"promiscuous prok hits\"}, {\"promiscuous hits per KOG\": 81.0, \"count\": 2, \"cumsum\": 1001, \"frac_cumsum\": 0.6085106382978723, \"weighted_count\": 162.0, \"weighted_cumsum\": 19407.0, \"weighted_frac_cumsum\": 0.022769991059549036, \"series_label\": \"promiscuous prok hits\"}, {\"promiscuous hits per KOG\": 83.0, \"count\": 2, \"cumsum\": 1003, \"frac_cumsum\": 0.609726443768997, \"weighted_count\": 166.0, \"weighted_cumsum\": 19573.0, \"weighted_frac_cumsum\": 0.022964756789228283, \"series_label\": \"promiscuous prok hits\"}, {\"promiscuous hits per KOG\": 84.0, \"count\": 3, \"cumsum\": 1006, \"frac_cumsum\": 0.6115501519756839, \"weighted_count\": 252.0, \"weighted_cumsum\": 19825.0, \"weighted_frac_cumsum\": 0.023260425246331717, \"series_label\": \"promiscuous prok hits\"}, {\"promiscuous hits per KOG\": 85.0, \"count\": 1, \"cumsum\": 1007, \"frac_cumsum\": 0.6121580547112462, \"weighted_count\": 85.0, \"weighted_cumsum\": 19910.0, \"weighted_frac_cumsum\": 0.023360154686227718, \"series_label\": \"promiscuous prok hits\"}, {\"promiscuous hits per KOG\": 86.0, \"count\": 3, \"cumsum\": 1010, \"frac_cumsum\": 0.6139817629179332, \"weighted_count\": 258.0, \"weighted_cumsum\": 20168.0, \"weighted_frac_cumsum\": 0.023662862868500282, \"series_label\": \"promiscuous prok hits\"}, {\"promiscuous hits per KOG\": 87.0, \"count\": 1, \"cumsum\": 1011, \"frac_cumsum\": 0.6145896656534955, \"weighted_count\": 87.0, \"weighted_cumsum\": 20255.0, \"weighted_frac_cumsum\": 0.023764938883452658, \"series_label\": \"promiscuous prok hits\"}, {\"promiscuous hits per KOG\": 88.0, \"count\": 3, \"cumsum\": 1014, \"frac_cumsum\": 0.6164133738601824, \"weighted_count\": 264.0, \"weighted_cumsum\": 20519.0, \"weighted_frac_cumsum\": 0.02407468679089435, \"series_label\": \"promiscuous prok hits\"}, {\"promiscuous hits per KOG\": 89.0, \"count\": 2, \"cumsum\": 1016, \"frac_cumsum\": 0.617629179331307, \"weighted_count\": 178.0, \"weighted_cumsum\": 20697.0, \"weighted_frac_cumsum\": 0.024283531970911855, \"series_label\": \"promiscuous prok hits\"}, {\"promiscuous hits per KOG\": 90.0, \"count\": 4, \"cumsum\": 1020, \"frac_cumsum\": 0.6200607902735562, \"weighted_count\": 360.0, \"weighted_cumsum\": 21057.0, \"weighted_frac_cumsum\": 0.02470591548105962, \"series_label\": \"promiscuous prok hits\"}, {\"promiscuous hits per KOG\": 92.0, \"count\": 1, \"cumsum\": 1021, \"frac_cumsum\": 0.6206686930091185, \"weighted_count\": 92.0, \"weighted_cumsum\": 21149.0, \"weighted_frac_cumsum\": 0.024813857933652938, \"series_label\": \"promiscuous prok hits\"}, {\"promiscuous hits per KOG\": 93.0, \"count\": 2, \"cumsum\": 1023, \"frac_cumsum\": 0.6218844984802432, \"weighted_count\": 186.0, \"weighted_cumsum\": 21335.0, \"weighted_frac_cumsum\": 0.02503208941389595, \"series_label\": \"promiscuous prok hits\"}, {\"promiscuous hits per KOG\": 94.0, \"count\": 2, \"cumsum\": 1025, \"frac_cumsum\": 0.6231003039513677, \"weighted_count\": 188.0, \"weighted_cumsum\": 21523.0, \"weighted_frac_cumsum\": 0.025252667469195335, \"series_label\": \"promiscuous prok hits\"}, {\"promiscuous hits per KOG\": 95.0, \"count\": 3, \"cumsum\": 1028, \"frac_cumsum\": 0.6249240121580547, \"weighted_count\": 285.0, \"weighted_cumsum\": 21808.0, \"weighted_frac_cumsum\": 0.025587054414728982, \"series_label\": \"promiscuous prok hits\"}, {\"promiscuous hits per KOG\": 96.0, \"count\": 1, \"cumsum\": 1029, \"frac_cumsum\": 0.625531914893617, \"weighted_count\": 96.0, \"weighted_cumsum\": 21904.0, \"weighted_frac_cumsum\": 0.025699690017435054, \"series_label\": \"promiscuous prok hits\"}, {\"promiscuous hits per KOG\": 97.0, \"count\": 4, \"cumsum\": 1033, \"frac_cumsum\": 0.6279635258358662, \"weighted_count\": 388.0, \"weighted_cumsum\": 22292.0, \"weighted_frac_cumsum\": 0.026154925578372085, \"series_label\": \"promiscuous prok hits\"}, {\"promiscuous hits per KOG\": 98.0, \"count\": 4, \"cumsum\": 1037, \"frac_cumsum\": 0.6303951367781155, \"weighted_count\": 392.0, \"weighted_cumsum\": 22684.0, \"weighted_frac_cumsum\": 0.026614854289421876, \"series_label\": \"promiscuous prok hits\"}, {\"promiscuous hits per KOG\": 99.0, \"count\": 3, \"cumsum\": 1040, \"frac_cumsum\": 0.6322188449848024, \"weighted_count\": 297.0, \"weighted_cumsum\": 22981.0, \"weighted_frac_cumsum\": 0.02696332068529378, \"series_label\": \"promiscuous prok hits\"}, {\"promiscuous hits per KOG\": 101.0, \"count\": 2, \"cumsum\": 1042, \"frac_cumsum\": 0.6334346504559271, \"weighted_count\": 202.0, \"weighted_cumsum\": 23183.0, \"weighted_frac_cumsum\": 0.027200324765987802, \"series_label\": \"promiscuous prok hits\"}, {\"promiscuous hits per KOG\": 102.0, \"count\": 4, \"cumsum\": 1046, \"frac_cumsum\": 0.6358662613981763, \"weighted_count\": 408.0, \"weighted_cumsum\": 23591.0, \"weighted_frac_cumsum\": 0.0276790260774886, \"series_label\": \"promiscuous prok hits\"}, {\"promiscuous hits per KOG\": 104.0, \"count\": 2, \"cumsum\": 1048, \"frac_cumsum\": 0.6370820668693009, \"weighted_count\": 208.0, \"weighted_cumsum\": 23799.0, \"weighted_frac_cumsum\": 0.027923069883351755, \"series_label\": \"promiscuous prok hits\"}, {\"promiscuous hits per KOG\": 105.0, \"count\": 3, \"cumsum\": 1051, \"frac_cumsum\": 0.6389057750759879, \"weighted_count\": 315.0, \"weighted_cumsum\": 24114.0, \"weighted_frac_cumsum\": 0.028292655454731048, \"series_label\": \"promiscuous prok hits\"}, {\"promiscuous hits per KOG\": 107.0, \"count\": 4, \"cumsum\": 1055, \"frac_cumsum\": 0.6413373860182371, \"weighted_count\": 428.0, \"weighted_cumsum\": 24542.0, \"weighted_frac_cumsum\": 0.02879482251679561, \"series_label\": \"promiscuous prok hits\"}, {\"promiscuous hits per KOG\": 108.0, \"count\": 4, \"cumsum\": 1059, \"frac_cumsum\": 0.6437689969604863, \"weighted_count\": 432.0, \"weighted_cumsum\": 24974.0, \"weighted_frac_cumsum\": 0.029301682728972926, \"series_label\": \"promiscuous prok hits\"}, {\"promiscuous hits per KOG\": 110.0, \"count\": 2, \"cumsum\": 1061, \"frac_cumsum\": 0.6449848024316109, \"weighted_count\": 220.0, \"weighted_cumsum\": 25194.0, \"weighted_frac_cumsum\": 0.02955980598517434, \"series_label\": \"promiscuous prok hits\"}, {\"promiscuous hits per KOG\": 112.0, \"count\": 4, \"cumsum\": 1065, \"frac_cumsum\": 0.6474164133738601, \"weighted_count\": 448.0, \"weighted_cumsum\": 25642.0, \"weighted_frac_cumsum\": 0.030085438797802667, \"series_label\": \"promiscuous prok hits\"}, {\"promiscuous hits per KOG\": 113.0, \"count\": 3, \"cumsum\": 1068, \"frac_cumsum\": 0.6492401215805471, \"weighted_count\": 339.0, \"weighted_cumsum\": 25981.0, \"weighted_frac_cumsum\": 0.030483183269858476, \"series_label\": \"promiscuous prok hits\"}, {\"promiscuous hits per KOG\": 114.0, \"count\": 3, \"cumsum\": 1071, \"frac_cumsum\": 0.6510638297872341, \"weighted_count\": 342.0, \"weighted_cumsum\": 26323.0, \"weighted_frac_cumsum\": 0.030884447604498853, \"series_label\": \"promiscuous prok hits\"}, {\"promiscuous hits per KOG\": 115.0, \"count\": 1, \"cumsum\": 1072, \"frac_cumsum\": 0.6516717325227963, \"weighted_count\": 115.0, \"weighted_cumsum\": 26438.0, \"weighted_frac_cumsum\": 0.0310193756702405, \"series_label\": \"promiscuous prok hits\"}, {\"promiscuous hits per KOG\": 117.0, \"count\": 1, \"cumsum\": 1073, \"frac_cumsum\": 0.6522796352583586, \"weighted_count\": 117.0, \"weighted_cumsum\": 26555.0, \"weighted_frac_cumsum\": 0.031156650311038522, \"series_label\": \"promiscuous prok hits\"}, {\"promiscuous hits per KOG\": 118.0, \"count\": 2, \"cumsum\": 1075, \"frac_cumsum\": 0.6534954407294833, \"weighted_count\": 236.0, \"weighted_cumsum\": 26791.0, \"weighted_frac_cumsum\": 0.031433546167690944, \"series_label\": \"promiscuous prok hits\"}, {\"promiscuous hits per KOG\": 119.0, \"count\": 1, \"cumsum\": 1076, \"frac_cumsum\": 0.6541033434650456, \"weighted_count\": 119.0, \"weighted_cumsum\": 26910.0, \"weighted_frac_cumsum\": 0.03157316738354535, \"series_label\": \"promiscuous prok hits\"}, {\"promiscuous hits per KOG\": 120.0, \"count\": 2, \"cumsum\": 1078, \"frac_cumsum\": 0.6553191489361702, \"weighted_count\": 240.0, \"weighted_cumsum\": 27150.0, \"weighted_frac_cumsum\": 0.031854756390310525, \"series_label\": \"promiscuous prok hits\"}, {\"promiscuous hits per KOG\": 121.0, \"count\": 2, \"cumsum\": 1080, \"frac_cumsum\": 0.6565349544072948, \"weighted_count\": 242.0, \"weighted_cumsum\": 27392.0, \"weighted_frac_cumsum\": 0.03213869197213207, \"series_label\": \"promiscuous prok hits\"}, {\"promiscuous hits per KOG\": 122.0, \"count\": 2, \"cumsum\": 1082, \"frac_cumsum\": 0.6577507598784195, \"weighted_count\": 244.0, \"weighted_cumsum\": 27636.0, \"weighted_frac_cumsum\": 0.032424974129010006, \"series_label\": \"promiscuous prok hits\"}, {\"promiscuous hits per KOG\": 123.0, \"count\": 4, \"cumsum\": 1086, \"frac_cumsum\": 0.6601823708206687, \"weighted_count\": 492.0, \"weighted_cumsum\": 28128.0, \"weighted_frac_cumsum\": 0.033002231592878614, \"series_label\": \"promiscuous prok hits\"}, {\"promiscuous hits per KOG\": 124.0, \"count\": 2, \"cumsum\": 1088, \"frac_cumsum\": 0.6613981762917933, \"weighted_count\": 248.0, \"weighted_cumsum\": 28376.0, \"weighted_frac_cumsum\": 0.033293206899869296, \"series_label\": \"promiscuous prok hits\"}, {\"promiscuous hits per KOG\": 125.0, \"count\": 3, \"cumsum\": 1091, \"frac_cumsum\": 0.6632218844984803, \"weighted_count\": 375.0, \"weighted_cumsum\": 28751.0, \"weighted_frac_cumsum\": 0.033733189722939885, \"series_label\": \"promiscuous prok hits\"}, {\"promiscuous hits per KOG\": 127.0, \"count\": 4, \"cumsum\": 1095, \"frac_cumsum\": 0.6656534954407295, \"weighted_count\": 508.0, \"weighted_cumsum\": 29259.0, \"weighted_frac_cumsum\": 0.03432921978725951, \"series_label\": \"promiscuous prok hits\"}, {\"promiscuous hits per KOG\": 128.0, \"count\": 3, \"cumsum\": 1098, \"frac_cumsum\": 0.6674772036474164, \"weighted_count\": 384.0, \"weighted_cumsum\": 29643.0, \"weighted_frac_cumsum\": 0.034779762198083784, \"series_label\": \"promiscuous prok hits\"}, {\"promiscuous hits per KOG\": 130.0, \"count\": 2, \"cumsum\": 1100, \"frac_cumsum\": 0.668693009118541, \"weighted_count\": 260.0, \"weighted_cumsum\": 29903.0, \"weighted_frac_cumsum\": 0.035084816955412726, \"series_label\": \"promiscuous prok hits\"}, {\"promiscuous hits per KOG\": 131.0, \"count\": 4, \"cumsum\": 1104, \"frac_cumsum\": 0.6711246200607903, \"weighted_count\": 524.0, \"weighted_cumsum\": 30427.0, \"weighted_frac_cumsum\": 0.03569961962018336, \"series_label\": \"promiscuous prok hits\"}, {\"promiscuous hits per KOG\": 132.0, \"count\": 2, \"cumsum\": 1106, \"frac_cumsum\": 0.6723404255319149, \"weighted_count\": 264.0, \"weighted_cumsum\": 30691.0, \"weighted_frac_cumsum\": 0.036009367527625055, \"series_label\": \"promiscuous prok hits\"}, {\"promiscuous hits per KOG\": 133.0, \"count\": 2, \"cumsum\": 1108, \"frac_cumsum\": 0.6735562310030395, \"weighted_count\": 266.0, \"weighted_cumsum\": 30957.0, \"weighted_frac_cumsum\": 0.03632146201012312, \"series_label\": \"promiscuous prok hits\"}, {\"promiscuous hits per KOG\": 134.0, \"count\": 2, \"cumsum\": 1110, \"frac_cumsum\": 0.6747720364741642, \"weighted_count\": 268.0, \"weighted_cumsum\": 31225.0, \"weighted_frac_cumsum\": 0.03663590306767757, \"series_label\": \"promiscuous prok hits\"}, {\"promiscuous hits per KOG\": 135.0, \"count\": 1, \"cumsum\": 1111, \"frac_cumsum\": 0.6753799392097265, \"weighted_count\": 135.0, \"weighted_cumsum\": 31360.0, \"weighted_frac_cumsum\": 0.03679429688398298, \"series_label\": \"promiscuous prok hits\"}, {\"promiscuous hits per KOG\": 137.0, \"count\": 2, \"cumsum\": 1113, \"frac_cumsum\": 0.676595744680851, \"weighted_count\": 274.0, \"weighted_cumsum\": 31634.0, \"weighted_frac_cumsum\": 0.03711577766670656, \"series_label\": \"promiscuous prok hits\"}, {\"promiscuous hits per KOG\": 138.0, \"count\": 5, \"cumsum\": 1118, \"frac_cumsum\": 0.6796352583586626, \"weighted_count\": 690.0, \"weighted_cumsum\": 32324.0, \"weighted_frac_cumsum\": 0.03792534606115644, \"series_label\": \"promiscuous prok hits\"}, {\"promiscuous hits per KOG\": 139.0, \"count\": 2, \"cumsum\": 1120, \"frac_cumsum\": 0.6808510638297872, \"weighted_count\": 278.0, \"weighted_cumsum\": 32602.0, \"weighted_frac_cumsum\": 0.03825151999399277, \"series_label\": \"promiscuous prok hits\"}, {\"promiscuous hits per KOG\": 140.0, \"count\": 2, \"cumsum\": 1122, \"frac_cumsum\": 0.6820668693009119, \"weighted_count\": 280.0, \"weighted_cumsum\": 32882.0, \"weighted_frac_cumsum\": 0.038580040501885474, \"series_label\": \"promiscuous prok hits\"}, {\"promiscuous hits per KOG\": 141.0, \"count\": 3, \"cumsum\": 1125, \"frac_cumsum\": 0.6838905775075987, \"weighted_count\": 423.0, \"weighted_cumsum\": 33305.0, \"weighted_frac_cumsum\": 0.039076341126309096, \"series_label\": \"promiscuous prok hits\"}, {\"promiscuous hits per KOG\": 142.0, \"count\": 1, \"cumsum\": 1126, \"frac_cumsum\": 0.6844984802431611, \"weighted_count\": 142.0, \"weighted_cumsum\": 33447.0, \"weighted_frac_cumsum\": 0.03924294795531182, \"series_label\": \"promiscuous prok hits\"}, {\"promiscuous hits per KOG\": 143.0, \"count\": 1, \"cumsum\": 1127, \"frac_cumsum\": 0.6851063829787234, \"weighted_count\": 143.0, \"weighted_cumsum\": 33590.0, \"weighted_frac_cumsum\": 0.03941072807184274, \"series_label\": \"promiscuous prok hits\"}, {\"promiscuous hits per KOG\": 144.0, \"count\": 2, \"cumsum\": 1129, \"frac_cumsum\": 0.686322188449848, \"weighted_count\": 288.0, \"weighted_cumsum\": 33878.0, \"weighted_frac_cumsum\": 0.039748634879960956, \"series_label\": \"promiscuous prok hits\"}, {\"promiscuous hits per KOG\": 145.0, \"count\": 2, \"cumsum\": 1131, \"frac_cumsum\": 0.6875379939209726, \"weighted_count\": 290.0, \"weighted_cumsum\": 34168.0, \"weighted_frac_cumsum\": 0.04008888826313554, \"series_label\": \"promiscuous prok hits\"}, {\"promiscuous hits per KOG\": 146.0, \"count\": 5, \"cumsum\": 1136, \"frac_cumsum\": 0.6905775075987842, \"weighted_count\": 730.0, \"weighted_cumsum\": 34898.0, \"weighted_frac_cumsum\": 0.04094538815871295, \"series_label\": \"promiscuous prok hits\"}, {\"promiscuous hits per KOG\": 147.0, \"count\": 1, \"cumsum\": 1137, \"frac_cumsum\": 0.6911854103343466, \"weighted_count\": 147.0, \"weighted_cumsum\": 35045.0, \"weighted_frac_cumsum\": 0.041117861425356624, \"series_label\": \"promiscuous prok hits\"}, {\"promiscuous hits per KOG\": 148.0, \"count\": 1, \"cumsum\": 1138, \"frac_cumsum\": 0.6917933130699088, \"weighted_count\": 148.0, \"weighted_cumsum\": 35193.0, \"weighted_frac_cumsum\": 0.04129150797952848, \"series_label\": \"promiscuous prok hits\"}, {\"promiscuous hits per KOG\": 149.0, \"count\": 4, \"cumsum\": 1142, \"frac_cumsum\": 0.6942249240121581, \"weighted_count\": 596.0, \"weighted_cumsum\": 35789.0, \"weighted_frac_cumsum\": 0.04199078734632867, \"series_label\": \"promiscuous prok hits\"}, {\"promiscuous hits per KOG\": 150.0, \"count\": 1, \"cumsum\": 1143, \"frac_cumsum\": 0.6948328267477204, \"weighted_count\": 150.0, \"weighted_cumsum\": 35939.0, \"weighted_frac_cumsum\": 0.0421667804755569, \"series_label\": \"promiscuous prok hits\"}, {\"promiscuous hits per KOG\": 151.0, \"count\": 1, \"cumsum\": 1144, \"frac_cumsum\": 0.6954407294832827, \"weighted_count\": 151.0, \"weighted_cumsum\": 36090.0, \"weighted_frac_cumsum\": 0.04234394689231332, \"series_label\": \"promiscuous prok hits\"}, {\"promiscuous hits per KOG\": 152.0, \"count\": 3, \"cumsum\": 1147, \"frac_cumsum\": 0.6972644376899696, \"weighted_count\": 456.0, \"weighted_cumsum\": 36546.0, \"weighted_frac_cumsum\": 0.042878966005167156, \"series_label\": \"promiscuous prok hits\"}, {\"promiscuous hits per KOG\": 153.0, \"count\": 1, \"cumsum\": 1148, \"frac_cumsum\": 0.6978723404255319, \"weighted_count\": 153.0, \"weighted_cumsum\": 36699.0, \"weighted_frac_cumsum\": 0.04305847899697996, \"series_label\": \"promiscuous prok hits\"}, {\"promiscuous hits per KOG\": 154.0, \"count\": 1, \"cumsum\": 1149, \"frac_cumsum\": 0.6984802431610942, \"weighted_count\": 154.0, \"weighted_cumsum\": 36853.0, \"weighted_frac_cumsum\": 0.04323916527632095, \"series_label\": \"promiscuous prok hits\"}, {\"promiscuous hits per KOG\": 155.0, \"count\": 1, \"cumsum\": 1150, \"frac_cumsum\": 0.6990881458966566, \"weighted_count\": 155.0, \"weighted_cumsum\": 37008.0, \"weighted_frac_cumsum\": 0.043421024843190124, \"series_label\": \"promiscuous prok hits\"}, {\"promiscuous hits per KOG\": 156.0, \"count\": 1, \"cumsum\": 1151, \"frac_cumsum\": 0.6996960486322188, \"weighted_count\": 156.0, \"weighted_cumsum\": 37164.0, \"weighted_frac_cumsum\": 0.04360405769758749, \"series_label\": \"promiscuous prok hits\"}, {\"promiscuous hits per KOG\": 157.0, \"count\": 3, \"cumsum\": 1154, \"frac_cumsum\": 0.7015197568389058, \"weighted_count\": 471.0, \"weighted_cumsum\": 37635.0, \"weighted_frac_cumsum\": 0.044156676123364144, \"series_label\": \"promiscuous prok hits\"}, {\"promiscuous hits per KOG\": 158.0, \"count\": 1, \"cumsum\": 1155, \"frac_cumsum\": 0.7021276595744681, \"weighted_count\": 158.0, \"weighted_cumsum\": 37793.0, \"weighted_frac_cumsum\": 0.04434205555281789, \"series_label\": \"promiscuous prok hits\"}, {\"promiscuous hits per KOG\": 160.0, \"count\": 2, \"cumsum\": 1157, \"frac_cumsum\": 0.7033434650455928, \"weighted_count\": 320.0, \"weighted_cumsum\": 38113.0, \"weighted_frac_cumsum\": 0.04471750756183812, \"series_label\": \"promiscuous prok hits\"}, {\"promiscuous hits per KOG\": 161.0, \"count\": 3, \"cumsum\": 1160, \"frac_cumsum\": 0.7051671732522796, \"weighted_count\": 483.0, \"weighted_cumsum\": 38596.0, \"weighted_frac_cumsum\": 0.045284205437953036, \"series_label\": \"promiscuous prok hits\"}, {\"promiscuous hits per KOG\": 165.0, \"count\": 3, \"cumsum\": 1163, \"frac_cumsum\": 0.7069908814589666, \"weighted_count\": 495.0, \"weighted_cumsum\": 39091.0, \"weighted_frac_cumsum\": 0.04586498276440621, \"series_label\": \"promiscuous prok hits\"}, {\"promiscuous hits per KOG\": 166.0, \"count\": 3, \"cumsum\": 1166, \"frac_cumsum\": 0.7088145896656535, \"weighted_count\": 498.0, \"weighted_cumsum\": 39589.0, \"weighted_frac_cumsum\": 0.04644927995344395, \"series_label\": \"promiscuous prok hits\"}, {\"promiscuous hits per KOG\": 168.0, \"count\": 1, \"cumsum\": 1167, \"frac_cumsum\": 0.7094224924012158, \"weighted_count\": 168.0, \"weighted_cumsum\": 39757.0, \"weighted_frac_cumsum\": 0.04664639225817958, \"series_label\": \"promiscuous prok hits\"}, {\"promiscuous hits per KOG\": 169.0, \"count\": 2, \"cumsum\": 1169, \"frac_cumsum\": 0.7106382978723405, \"weighted_count\": 338.0, \"weighted_cumsum\": 40095.0, \"weighted_frac_cumsum\": 0.0470429634427072, \"series_label\": \"promiscuous prok hits\"}, {\"promiscuous hits per KOG\": 171.0, \"count\": 3, \"cumsum\": 1172, \"frac_cumsum\": 0.7124620060790273, \"weighted_count\": 513.0, \"weighted_cumsum\": 40608.0, \"weighted_frac_cumsum\": 0.04764485994466776, \"series_label\": \"promiscuous prok hits\"}, {\"promiscuous hits per KOG\": 172.0, \"count\": 1, \"cumsum\": 1173, \"frac_cumsum\": 0.7130699088145896, \"weighted_count\": 172.0, \"weighted_cumsum\": 40780.0, \"weighted_frac_cumsum\": 0.04784666539951614, \"series_label\": \"promiscuous prok hits\"}, {\"promiscuous hits per KOG\": 176.0, \"count\": 2, \"cumsum\": 1175, \"frac_cumsum\": 0.7142857142857143, \"weighted_count\": 352.0, \"weighted_cumsum\": 41132.0, \"weighted_frac_cumsum\": 0.0482596626094384, \"series_label\": \"promiscuous prok hits\"}, {\"promiscuous hits per KOG\": 179.0, \"count\": 2, \"cumsum\": 1177, \"frac_cumsum\": 0.715501519756839, \"weighted_count\": 358.0, \"weighted_cumsum\": 41490.0, \"weighted_frac_cumsum\": 0.04867969954452978, \"series_label\": \"promiscuous prok hits\"}, {\"promiscuous hits per KOG\": 180.0, \"count\": 2, \"cumsum\": 1179, \"frac_cumsum\": 0.7167173252279635, \"weighted_count\": 360.0, \"weighted_cumsum\": 41850.0, \"weighted_frac_cumsum\": 0.049102083054677545, \"series_label\": \"promiscuous prok hits\"}, {\"promiscuous hits per KOG\": 181.0, \"count\": 1, \"cumsum\": 1180, \"frac_cumsum\": 0.7173252279635258, \"weighted_count\": 181.0, \"weighted_cumsum\": 42031.0, \"weighted_frac_cumsum\": 0.04931444809727962, \"series_label\": \"promiscuous prok hits\"}, {\"promiscuous hits per KOG\": 183.0, \"count\": 1, \"cumsum\": 1181, \"frac_cumsum\": 0.7179331306990882, \"weighted_count\": 183.0, \"weighted_cumsum\": 42214.0, \"weighted_frac_cumsum\": 0.04952915971493806, \"series_label\": \"promiscuous prok hits\"}, {\"promiscuous hits per KOG\": 185.0, \"count\": 1, \"cumsum\": 1182, \"frac_cumsum\": 0.7185410334346505, \"weighted_count\": 185.0, \"weighted_cumsum\": 42399.0, \"weighted_frac_cumsum\": 0.049746217907652886, \"series_label\": \"promiscuous prok hits\"}, {\"promiscuous hits per KOG\": 186.0, \"count\": 1, \"cumsum\": 1183, \"frac_cumsum\": 0.7191489361702128, \"weighted_count\": 186.0, \"weighted_cumsum\": 42585.0, \"weighted_frac_cumsum\": 0.0499644493878959, \"series_label\": \"promiscuous prok hits\"}, {\"promiscuous hits per KOG\": 187.0, \"count\": 1, \"cumsum\": 1184, \"frac_cumsum\": 0.7197568389057751, \"weighted_count\": 187.0, \"weighted_cumsum\": 42772.0, \"weighted_frac_cumsum\": 0.0501838541556671, \"series_label\": \"promiscuous prok hits\"}, {\"promiscuous hits per KOG\": 188.0, \"count\": 2, \"cumsum\": 1186, \"frac_cumsum\": 0.7209726443768997, \"weighted_count\": 376.0, \"weighted_cumsum\": 43148.0, \"weighted_frac_cumsum\": 0.05062501026626587, \"series_label\": \"promiscuous prok hits\"}, {\"promiscuous hits per KOG\": 189.0, \"count\": 1, \"cumsum\": 1187, \"frac_cumsum\": 0.721580547112462, \"weighted_count\": 189.0, \"weighted_cumsum\": 43337.0, \"weighted_frac_cumsum\": 0.05084676160909345, \"series_label\": \"promiscuous prok hits\"}, {\"promiscuous hits per KOG\": 190.0, \"count\": 2, \"cumsum\": 1189, \"frac_cumsum\": 0.7227963525835867, \"weighted_count\": 380.0, \"weighted_cumsum\": 43717.0, \"weighted_frac_cumsum\": 0.051292610869804973, \"series_label\": \"promiscuous prok hits\"}, {\"promiscuous hits per KOG\": 191.0, \"count\": 2, \"cumsum\": 1191, \"frac_cumsum\": 0.7240121580547112, \"weighted_count\": 382.0, \"weighted_cumsum\": 44099.0, \"weighted_frac_cumsum\": 0.05174080670557288, \"series_label\": \"promiscuous prok hits\"}, {\"promiscuous hits per KOG\": 193.0, \"count\": 3, \"cumsum\": 1194, \"frac_cumsum\": 0.7258358662613982, \"weighted_count\": 579.0, \"weighted_cumsum\": 44678.0, \"weighted_frac_cumsum\": 0.052420140184393865, \"series_label\": \"promiscuous prok hits\"}, {\"promiscuous hits per KOG\": 194.0, \"count\": 2, \"cumsum\": 1196, \"frac_cumsum\": 0.7270516717325228, \"weighted_count\": 388.0, \"weighted_cumsum\": 45066.0, \"weighted_frac_cumsum\": 0.0528753757453309, \"series_label\": \"promiscuous prok hits\"}, {\"promiscuous hits per KOG\": 195.0, \"count\": 1, \"cumsum\": 1197, \"frac_cumsum\": 0.7276595744680852, \"weighted_count\": 195.0, \"weighted_cumsum\": 45261.0, \"weighted_frac_cumsum\": 0.05310416681332761, \"series_label\": \"promiscuous prok hits\"}, {\"promiscuous hits per KOG\": 196.0, \"count\": 1, \"cumsum\": 1198, \"frac_cumsum\": 0.7282674772036474, \"weighted_count\": 196.0, \"weighted_cumsum\": 45457.0, \"weighted_frac_cumsum\": 0.0533341311688525, \"series_label\": \"promiscuous prok hits\"}, {\"promiscuous hits per KOG\": 197.0, \"count\": 1, \"cumsum\": 1199, \"frac_cumsum\": 0.7288753799392097, \"weighted_count\": 197.0, \"weighted_cumsum\": 45654.0, \"weighted_frac_cumsum\": 0.053565268811905584, \"series_label\": \"promiscuous prok hits\"}, {\"promiscuous hits per KOG\": 198.0, \"count\": 1, \"cumsum\": 1200, \"frac_cumsum\": 0.729483282674772, \"weighted_count\": 198.0, \"weighted_cumsum\": 45852.0, \"weighted_frac_cumsum\": 0.053797579742486855, \"series_label\": \"promiscuous prok hits\"}, {\"promiscuous hits per KOG\": 204.0, \"count\": 1, \"cumsum\": 1201, \"frac_cumsum\": 0.7300911854103344, \"weighted_count\": 204.0, \"weighted_cumsum\": 46056.0, \"weighted_frac_cumsum\": 0.05403693039823725, \"series_label\": \"promiscuous prok hits\"}, {\"promiscuous hits per KOG\": 206.0, \"count\": 2, \"cumsum\": 1203, \"frac_cumsum\": 0.731306990881459, \"weighted_count\": 412.0, \"weighted_cumsum\": 46468.0, \"weighted_frac_cumsum\": 0.054520324859850804, \"series_label\": \"promiscuous prok hits\"}, {\"promiscuous hits per KOG\": 208.0, \"count\": 1, \"cumsum\": 1204, \"frac_cumsum\": 0.7319148936170212, \"weighted_count\": 208.0, \"weighted_cumsum\": 46676.0, \"weighted_frac_cumsum\": 0.05476436866571396, \"series_label\": \"promiscuous prok hits\"}, {\"promiscuous hits per KOG\": 210.0, \"count\": 1, \"cumsum\": 1205, \"frac_cumsum\": 0.7325227963525835, \"weighted_count\": 210.0, \"weighted_cumsum\": 46886.0, \"weighted_frac_cumsum\": 0.05501075904663349, \"series_label\": \"promiscuous prok hits\"}, {\"promiscuous hits per KOG\": 212.0, \"count\": 1, \"cumsum\": 1206, \"frac_cumsum\": 0.7331306990881459, \"weighted_count\": 212.0, \"weighted_cumsum\": 47098.0, \"weighted_frac_cumsum\": 0.05525949600260939, \"series_label\": \"promiscuous prok hits\"}, {\"promiscuous hits per KOG\": 213.0, \"count\": 1, \"cumsum\": 1207, \"frac_cumsum\": 0.7337386018237082, \"weighted_count\": 213.0, \"weighted_cumsum\": 47311.0, \"weighted_frac_cumsum\": 0.05550940624611349, \"series_label\": \"promiscuous prok hits\"}, {\"promiscuous hits per KOG\": 215.0, \"count\": 1, \"cumsum\": 1208, \"frac_cumsum\": 0.7343465045592705, \"weighted_count\": 215.0, \"weighted_cumsum\": 47526.0, \"weighted_frac_cumsum\": 0.05576166306467396, \"series_label\": \"promiscuous prok hits\"}, {\"promiscuous hits per KOG\": 217.0, \"count\": 1, \"cumsum\": 1209, \"frac_cumsum\": 0.7349544072948329, \"weighted_count\": 217.0, \"weighted_cumsum\": 47743.0, \"weighted_frac_cumsum\": 0.0560162664582908, \"series_label\": \"promiscuous prok hits\"}, {\"promiscuous hits per KOG\": 220.0, \"count\": 2, \"cumsum\": 1211, \"frac_cumsum\": 0.7361702127659574, \"weighted_count\": 440.0, \"weighted_cumsum\": 48183.0, \"weighted_frac_cumsum\": 0.05653251297069362, \"series_label\": \"promiscuous prok hits\"}, {\"promiscuous hits per KOG\": 222.0, \"count\": 1, \"cumsum\": 1212, \"frac_cumsum\": 0.7367781155015197, \"weighted_count\": 222.0, \"weighted_cumsum\": 48405.0, \"weighted_frac_cumsum\": 0.056792982801951414, \"series_label\": \"promiscuous prok hits\"}, {\"promiscuous hits per KOG\": 223.0, \"count\": 1, \"cumsum\": 1213, \"frac_cumsum\": 0.737386018237082, \"weighted_count\": 223.0, \"weighted_cumsum\": 48628.0, \"weighted_frac_cumsum\": 0.05705462592073739, \"series_label\": \"promiscuous prok hits\"}, {\"promiscuous hits per KOG\": 224.0, \"count\": 1, \"cumsum\": 1214, \"frac_cumsum\": 0.7379939209726444, \"weighted_count\": 224.0, \"weighted_cumsum\": 48852.0, \"weighted_frac_cumsum\": 0.05731744232705155, \"series_label\": \"promiscuous prok hits\"}, {\"promiscuous hits per KOG\": 226.0, \"count\": 1, \"cumsum\": 1215, \"frac_cumsum\": 0.7386018237082067, \"weighted_count\": 226.0, \"weighted_cumsum\": 49078.0, \"weighted_frac_cumsum\": 0.057582605308422095, \"series_label\": \"promiscuous prok hits\"}, {\"promiscuous hits per KOG\": 227.0, \"count\": 1, \"cumsum\": 1216, \"frac_cumsum\": 0.739209726443769, \"weighted_count\": 227.0, \"weighted_cumsum\": 49305.0, \"weighted_frac_cumsum\": 0.057848941577320824, \"series_label\": \"promiscuous prok hits\"}, {\"promiscuous hits per KOG\": 228.0, \"count\": 2, \"cumsum\": 1218, \"frac_cumsum\": 0.7404255319148936, \"weighted_count\": 456.0, \"weighted_cumsum\": 49761.0, \"weighted_frac_cumsum\": 0.05838396069017465, \"series_label\": \"promiscuous prok hits\"}, {\"promiscuous hits per KOG\": 230.0, \"count\": 2, \"cumsum\": 1220, \"frac_cumsum\": 0.7416413373860182, \"weighted_count\": 460.0, \"weighted_cumsum\": 50221.0, \"weighted_frac_cumsum\": 0.05892367295314124, \"series_label\": \"promiscuous prok hits\"}, {\"promiscuous hits per KOG\": 231.0, \"count\": 1, \"cumsum\": 1221, \"frac_cumsum\": 0.7422492401215806, \"weighted_count\": 231.0, \"weighted_cumsum\": 50452.0, \"weighted_frac_cumsum\": 0.05919470237215273, \"series_label\": \"promiscuous prok hits\"}, {\"promiscuous hits per KOG\": 232.0, \"count\": 1, \"cumsum\": 1222, \"frac_cumsum\": 0.7428571428571429, \"weighted_count\": 232.0, \"weighted_cumsum\": 50684.0, \"weighted_frac_cumsum\": 0.05946690507869239, \"series_label\": \"promiscuous prok hits\"}, {\"promiscuous hits per KOG\": 233.0, \"count\": 1, \"cumsum\": 1223, \"frac_cumsum\": 0.7434650455927052, \"weighted_count\": 233.0, \"weighted_cumsum\": 50917.0, \"weighted_frac_cumsum\": 0.059740281072760255, \"series_label\": \"promiscuous prok hits\"}, {\"promiscuous hits per KOG\": 235.0, \"count\": 1, \"cumsum\": 1224, \"frac_cumsum\": 0.7440729483282674, \"weighted_count\": 235.0, \"weighted_cumsum\": 51152.0, \"weighted_frac_cumsum\": 0.06001600364188449, \"series_label\": \"promiscuous prok hits\"}, {\"promiscuous hits per KOG\": 236.0, \"count\": 1, \"cumsum\": 1225, \"frac_cumsum\": 0.7446808510638298, \"weighted_count\": 236.0, \"weighted_cumsum\": 51388.0, \"weighted_frac_cumsum\": 0.06029289949853691, \"series_label\": \"promiscuous prok hits\"}, {\"promiscuous hits per KOG\": 237.0, \"count\": 1, \"cumsum\": 1226, \"frac_cumsum\": 0.7452887537993921, \"weighted_count\": 237.0, \"weighted_cumsum\": 51625.0, \"weighted_frac_cumsum\": 0.06057096864271752, \"series_label\": \"promiscuous prok hits\"}, {\"promiscuous hits per KOG\": 240.0, \"count\": 1, \"cumsum\": 1227, \"frac_cumsum\": 0.7458966565349544, \"weighted_count\": 240.0, \"weighted_cumsum\": 51865.0, \"weighted_frac_cumsum\": 0.0608525576494827, \"series_label\": \"promiscuous prok hits\"}, {\"promiscuous hits per KOG\": 241.0, \"count\": 1, \"cumsum\": 1228, \"frac_cumsum\": 0.7465045592705167, \"weighted_count\": 241.0, \"weighted_cumsum\": 52106.0, \"weighted_frac_cumsum\": 0.061135319943776065, \"series_label\": \"promiscuous prok hits\"}, {\"promiscuous hits per KOG\": 244.0, \"count\": 1, \"cumsum\": 1229, \"frac_cumsum\": 0.7471124620060791, \"weighted_count\": 244.0, \"weighted_cumsum\": 52350.0, \"weighted_frac_cumsum\": 0.06142160210065399, \"series_label\": \"promiscuous prok hits\"}, {\"promiscuous hits per KOG\": 245.0, \"count\": 1, \"cumsum\": 1230, \"frac_cumsum\": 0.7477203647416414, \"weighted_count\": 245.0, \"weighted_cumsum\": 52595.0, \"weighted_frac_cumsum\": 0.061709057545060106, \"series_label\": \"promiscuous prok hits\"}, {\"promiscuous hits per KOG\": 246.0, \"count\": 1, \"cumsum\": 1231, \"frac_cumsum\": 0.7483282674772036, \"weighted_count\": 246.0, \"weighted_cumsum\": 52841.0, \"weighted_frac_cumsum\": 0.06199768627699441, \"series_label\": \"promiscuous prok hits\"}, {\"promiscuous hits per KOG\": 247.0, \"count\": 4, \"cumsum\": 1235, \"frac_cumsum\": 0.7507598784194529, \"weighted_count\": 988.0, \"weighted_cumsum\": 53829.0, \"weighted_frac_cumsum\": 0.06315689435484438, \"series_label\": \"promiscuous prok hits\"}, {\"promiscuous hits per KOG\": 248.0, \"count\": 1, \"cumsum\": 1236, \"frac_cumsum\": 0.7513677811550152, \"weighted_count\": 248.0, \"weighted_cumsum\": 54077.0, \"weighted_frac_cumsum\": 0.06344786966183506, \"series_label\": \"promiscuous prok hits\"}, {\"promiscuous hits per KOG\": 250.0, \"count\": 1, \"cumsum\": 1237, \"frac_cumsum\": 0.7519756838905776, \"weighted_count\": 250.0, \"weighted_cumsum\": 54327.0, \"weighted_frac_cumsum\": 0.06374119154388212, \"series_label\": \"promiscuous prok hits\"}, {\"promiscuous hits per KOG\": 253.0, \"count\": 1, \"cumsum\": 1238, \"frac_cumsum\": 0.7525835866261398, \"weighted_count\": 253.0, \"weighted_cumsum\": 54580.0, \"weighted_frac_cumsum\": 0.06403803328851375, \"series_label\": \"promiscuous prok hits\"}, {\"promiscuous hits per KOG\": 254.0, \"count\": 1, \"cumsum\": 1239, \"frac_cumsum\": 0.7531914893617021, \"weighted_count\": 254.0, \"weighted_cumsum\": 54834.0, \"weighted_frac_cumsum\": 0.06433604832067356, \"series_label\": \"promiscuous prok hits\"}, {\"promiscuous hits per KOG\": 256.0, \"count\": 1, \"cumsum\": 1240, \"frac_cumsum\": 0.7537993920972644, \"weighted_count\": 256.0, \"weighted_cumsum\": 55090.0, \"weighted_frac_cumsum\": 0.06463640992788974, \"series_label\": \"promiscuous prok hits\"}, {\"promiscuous hits per KOG\": 257.0, \"count\": 1, \"cumsum\": 1241, \"frac_cumsum\": 0.7544072948328268, \"weighted_count\": 257.0, \"weighted_cumsum\": 55347.0, \"weighted_frac_cumsum\": 0.06493794482263412, \"series_label\": \"promiscuous prok hits\"}, {\"promiscuous hits per KOG\": 259.0, \"count\": 1, \"cumsum\": 1242, \"frac_cumsum\": 0.7550151975683891, \"weighted_count\": 259.0, \"weighted_cumsum\": 55606.0, \"weighted_frac_cumsum\": 0.06524182629243487, \"series_label\": \"promiscuous prok hits\"}, {\"promiscuous hits per KOG\": 261.0, \"count\": 1, \"cumsum\": 1243, \"frac_cumsum\": 0.7556231003039514, \"weighted_count\": 261.0, \"weighted_cumsum\": 55867.0, \"weighted_frac_cumsum\": 0.06554805433729201, \"series_label\": \"promiscuous prok hits\"}, {\"promiscuous hits per KOG\": 268.0, \"count\": 3, \"cumsum\": 1246, \"frac_cumsum\": 0.7574468085106383, \"weighted_count\": 804.0, \"weighted_cumsum\": 56671.0, \"weighted_frac_cumsum\": 0.06649137750995535, \"series_label\": \"promiscuous prok hits\"}, {\"promiscuous hits per KOG\": 269.0, \"count\": 3, \"cumsum\": 1249, \"frac_cumsum\": 0.7592705167173253, \"weighted_count\": 807.0, \"weighted_cumsum\": 57478.0, \"weighted_frac_cumsum\": 0.06743822054520325, \"series_label\": \"promiscuous prok hits\"}, {\"promiscuous hits per KOG\": 274.0, \"count\": 2, \"cumsum\": 1251, \"frac_cumsum\": 0.7604863221884498, \"weighted_count\": 548.0, \"weighted_cumsum\": 58026.0, \"weighted_frac_cumsum\": 0.0680811821106504, \"series_label\": \"promiscuous prok hits\"}, {\"promiscuous hits per KOG\": 275.0, \"count\": 5, \"cumsum\": 1256, \"frac_cumsum\": 0.7635258358662614, \"weighted_count\": 1375.0, \"weighted_cumsum\": 59401.0, \"weighted_frac_cumsum\": 0.06969445246190922, \"series_label\": \"promiscuous prok hits\"}, {\"promiscuous hits per KOG\": 276.0, \"count\": 2, \"cumsum\": 1258, \"frac_cumsum\": 0.764741641337386, \"weighted_count\": 552.0, \"weighted_cumsum\": 59953.0, \"weighted_frac_cumsum\": 0.07034210717746912, \"series_label\": \"promiscuous prok hits\"}, {\"promiscuous hits per KOG\": 277.0, \"count\": 2, \"cumsum\": 1260, \"frac_cumsum\": 0.7659574468085106, \"weighted_count\": 554.0, \"weighted_cumsum\": 60507.0, \"weighted_frac_cumsum\": 0.0709921084680854, \"series_label\": \"promiscuous prok hits\"}, {\"promiscuous hits per KOG\": 278.0, \"count\": 2, \"cumsum\": 1262, \"frac_cumsum\": 0.7671732522796353, \"weighted_count\": 556.0, \"weighted_cumsum\": 61063.0, \"weighted_frac_cumsum\": 0.07164445633375806, \"series_label\": \"promiscuous prok hits\"}, {\"promiscuous hits per KOG\": 282.0, \"count\": 1, \"cumsum\": 1263, \"frac_cumsum\": 0.7677811550151976, \"weighted_count\": 282.0, \"weighted_cumsum\": 61345.0, \"weighted_frac_cumsum\": 0.07197532341670715, \"series_label\": \"promiscuous prok hits\"}, {\"promiscuous hits per KOG\": 283.0, \"count\": 1, \"cumsum\": 1264, \"frac_cumsum\": 0.7683890577507598, \"weighted_count\": 283.0, \"weighted_cumsum\": 61628.0, \"weighted_frac_cumsum\": 0.07230736378718441, \"series_label\": \"promiscuous prok hits\"}, {\"promiscuous hits per KOG\": 286.0, \"count\": 1, \"cumsum\": 1265, \"frac_cumsum\": 0.7689969604863222, \"weighted_count\": 286.0, \"weighted_cumsum\": 61914.0, \"weighted_frac_cumsum\": 0.07264292402024625, \"series_label\": \"promiscuous prok hits\"}, {\"promiscuous hits per KOG\": 289.0, \"count\": 2, \"cumsum\": 1267, \"frac_cumsum\": 0.7702127659574468, \"weighted_count\": 578.0, \"weighted_cumsum\": 62492.0, \"weighted_frac_cumsum\": 0.07332108421153904, \"series_label\": \"promiscuous prok hits\"}, {\"promiscuous hits per KOG\": 290.0, \"count\": 1, \"cumsum\": 1268, \"frac_cumsum\": 0.7708206686930091, \"weighted_count\": 290.0, \"weighted_cumsum\": 62782.0, \"weighted_frac_cumsum\": 0.07366133759471363, \"series_label\": \"promiscuous prok hits\"}, {\"promiscuous hits per KOG\": 291.0, \"count\": 1, \"cumsum\": 1269, \"frac_cumsum\": 0.7714285714285715, \"weighted_count\": 291.0, \"weighted_cumsum\": 63073.0, \"weighted_frac_cumsum\": 0.07400276426541641, \"series_label\": \"promiscuous prok hits\"}, {\"promiscuous hits per KOG\": 293.0, \"count\": 2, \"cumsum\": 1271, \"frac_cumsum\": 0.772644376899696, \"weighted_count\": 586.0, \"weighted_cumsum\": 63659.0, \"weighted_frac_cumsum\": 0.07469031075693472, \"series_label\": \"promiscuous prok hits\"}, {\"promiscuous hits per KOG\": 294.0, \"count\": 1, \"cumsum\": 1272, \"frac_cumsum\": 0.7732522796352583, \"weighted_count\": 294.0, \"weighted_cumsum\": 63953.0, \"weighted_frac_cumsum\": 0.07503525729022206, \"series_label\": \"promiscuous prok hits\"}, {\"promiscuous hits per KOG\": 295.0, \"count\": 1, \"cumsum\": 1273, \"frac_cumsum\": 0.7738601823708207, \"weighted_count\": 295.0, \"weighted_cumsum\": 64248.0, \"weighted_frac_cumsum\": 0.07538137711103758, \"series_label\": \"promiscuous prok hits\"}, {\"promiscuous hits per KOG\": 297.0, \"count\": 1, \"cumsum\": 1274, \"frac_cumsum\": 0.774468085106383, \"weighted_count\": 297.0, \"weighted_cumsum\": 64545.0, \"weighted_frac_cumsum\": 0.07572984350690949, \"series_label\": \"promiscuous prok hits\"}, {\"promiscuous hits per KOG\": 301.0, \"count\": 1, \"cumsum\": 1275, \"frac_cumsum\": 0.7750759878419453, \"weighted_count\": 301.0, \"weighted_cumsum\": 64846.0, \"weighted_frac_cumsum\": 0.07608300305289414, \"series_label\": \"promiscuous prok hits\"}, {\"promiscuous hits per KOG\": 302.0, \"count\": 1, \"cumsum\": 1276, \"frac_cumsum\": 0.7756838905775076, \"weighted_count\": 302.0, \"weighted_cumsum\": 65148.0, \"weighted_frac_cumsum\": 0.076437335886407, \"series_label\": \"promiscuous prok hits\"}, {\"promiscuous hits per KOG\": 304.0, \"count\": 1, \"cumsum\": 1277, \"frac_cumsum\": 0.7762917933130699, \"weighted_count\": 304.0, \"weighted_cumsum\": 65452.0, \"weighted_frac_cumsum\": 0.07679401529497622, \"series_label\": \"promiscuous prok hits\"}, {\"promiscuous hits per KOG\": 306.0, \"count\": 1, \"cumsum\": 1278, \"frac_cumsum\": 0.7768996960486322, \"weighted_count\": 306.0, \"weighted_cumsum\": 65758.0, \"weighted_frac_cumsum\": 0.07715304127860181, \"series_label\": \"promiscuous prok hits\"}, {\"promiscuous hits per KOG\": 311.0, \"count\": 2, \"cumsum\": 1280, \"frac_cumsum\": 0.7781155015197568, \"weighted_count\": 622.0, \"weighted_cumsum\": 66380.0, \"weighted_frac_cumsum\": 0.0778828261211349, \"series_label\": \"promiscuous prok hits\"}, {\"promiscuous hits per KOG\": 314.0, \"count\": 1, \"cumsum\": 1281, \"frac_cumsum\": 0.7787234042553192, \"weighted_count\": 314.0, \"weighted_cumsum\": 66694.0, \"weighted_frac_cumsum\": 0.078251238404986, \"series_label\": \"promiscuous prok hits\"}, {\"promiscuous hits per KOG\": 315.0, \"count\": 2, \"cumsum\": 1283, \"frac_cumsum\": 0.7799392097264438, \"weighted_count\": 630.0, \"weighted_cumsum\": 67324.0, \"weighted_frac_cumsum\": 0.07899040954774458, \"series_label\": \"promiscuous prok hits\"}, {\"promiscuous hits per KOG\": 316.0, \"count\": 1, \"cumsum\": 1284, \"frac_cumsum\": 0.780547112462006, \"weighted_count\": 316.0, \"weighted_cumsum\": 67640.0, \"weighted_frac_cumsum\": 0.07936116840665207, \"series_label\": \"promiscuous prok hits\"}, {\"promiscuous hits per KOG\": 317.0, \"count\": 1, \"cumsum\": 1285, \"frac_cumsum\": 0.7811550151975684, \"weighted_count\": 317.0, \"weighted_cumsum\": 67957.0, \"weighted_frac_cumsum\": 0.07973310055308774, \"series_label\": \"promiscuous prok hits\"}, {\"promiscuous hits per KOG\": 318.0, \"count\": 3, \"cumsum\": 1288, \"frac_cumsum\": 0.7829787234042553, \"weighted_count\": 954.0, \"weighted_cumsum\": 68911.0, \"weighted_frac_cumsum\": 0.08085241685497932, \"series_label\": \"promiscuous prok hits\"}, {\"promiscuous hits per KOG\": 319.0, \"count\": 1, \"cumsum\": 1289, \"frac_cumsum\": 0.7835866261398177, \"weighted_count\": 319.0, \"weighted_cumsum\": 69230.0, \"weighted_frac_cumsum\": 0.08122669557647136, \"series_label\": \"promiscuous prok hits\"}, {\"promiscuous hits per KOG\": 320.0, \"count\": 1, \"cumsum\": 1290, \"frac_cumsum\": 0.78419452887538, \"weighted_count\": 320.0, \"weighted_cumsum\": 69550.0, \"weighted_frac_cumsum\": 0.0816021475854916, \"series_label\": \"promiscuous prok hits\"}, {\"promiscuous hits per KOG\": 321.0, \"count\": 3, \"cumsum\": 1293, \"frac_cumsum\": 0.7860182370820669, \"weighted_count\": 963.0, \"weighted_cumsum\": 70513.0, \"weighted_frac_cumsum\": 0.08273202347513686, \"series_label\": \"promiscuous prok hits\"}, {\"promiscuous hits per KOG\": 322.0, \"count\": 2, \"cumsum\": 1295, \"frac_cumsum\": 0.7872340425531915, \"weighted_count\": 644.0, \"weighted_cumsum\": 71157.0, \"weighted_frac_cumsum\": 0.08348762064329009, \"series_label\": \"promiscuous prok hits\"}, {\"promiscuous hits per KOG\": 324.0, \"count\": 1, \"cumsum\": 1296, \"frac_cumsum\": 0.7878419452887538, \"weighted_count\": 324.0, \"weighted_cumsum\": 71481.0, \"weighted_frac_cumsum\": 0.08386776580242307, \"series_label\": \"promiscuous prok hits\"}, {\"promiscuous hits per KOG\": 327.0, \"count\": 1, \"cumsum\": 1297, \"frac_cumsum\": 0.7884498480243161, \"weighted_count\": 327.0, \"weighted_cumsum\": 71808.0, \"weighted_frac_cumsum\": 0.08425143082414062, \"series_label\": \"promiscuous prok hits\"}, {\"promiscuous hits per KOG\": 328.0, \"count\": 1, \"cumsum\": 1298, \"frac_cumsum\": 0.7890577507598784, \"weighted_count\": 328.0, \"weighted_cumsum\": 72136.0, \"weighted_frac_cumsum\": 0.08463626913338637, \"series_label\": \"promiscuous prok hits\"}, {\"promiscuous hits per KOG\": 330.0, \"count\": 1, \"cumsum\": 1299, \"frac_cumsum\": 0.7896656534954407, \"weighted_count\": 330.0, \"weighted_cumsum\": 72466.0, \"weighted_frac_cumsum\": 0.08502345401768849, \"series_label\": \"promiscuous prok hits\"}, {\"promiscuous hits per KOG\": 331.0, \"count\": 1, \"cumsum\": 1300, \"frac_cumsum\": 0.790273556231003, \"weighted_count\": 331.0, \"weighted_cumsum\": 72797.0, \"weighted_frac_cumsum\": 0.0854118121895188, \"series_label\": \"promiscuous prok hits\"}, {\"promiscuous hits per KOG\": 334.0, \"count\": 1, \"cumsum\": 1301, \"frac_cumsum\": 0.7908814589665654, \"weighted_count\": 334.0, \"weighted_cumsum\": 73131.0, \"weighted_frac_cumsum\": 0.08580369022393365, \"series_label\": \"promiscuous prok hits\"}, {\"promiscuous hits per KOG\": 336.0, \"count\": 1, \"cumsum\": 1302, \"frac_cumsum\": 0.7914893617021277, \"weighted_count\": 336.0, \"weighted_cumsum\": 73467.0, \"weighted_frac_cumsum\": 0.0861979148334049, \"series_label\": \"promiscuous prok hits\"}, {\"promiscuous hits per KOG\": 343.0, \"count\": 1, \"cumsum\": 1303, \"frac_cumsum\": 0.79209726443769, \"weighted_count\": 343.0, \"weighted_cumsum\": 73810.0, \"weighted_frac_cumsum\": 0.08660035245557347, \"series_label\": \"promiscuous prok hits\"}, {\"promiscuous hits per KOG\": 344.0, \"count\": 2, \"cumsum\": 1305, \"frac_cumsum\": 0.7933130699088146, \"weighted_count\": 688.0, \"weighted_cumsum\": 74498.0, \"weighted_frac_cumsum\": 0.08740757427496697, \"series_label\": \"promiscuous prok hits\"}, {\"promiscuous hits per KOG\": 345.0, \"count\": 2, \"cumsum\": 1307, \"frac_cumsum\": 0.7945288753799392, \"weighted_count\": 690.0, \"weighted_cumsum\": 75188.0, \"weighted_frac_cumsum\": 0.08821714266941685, \"series_label\": \"promiscuous prok hits\"}, {\"promiscuous hits per KOG\": 350.0, \"count\": 1, \"cumsum\": 1308, \"frac_cumsum\": 0.7951367781155015, \"weighted_count\": 350.0, \"weighted_cumsum\": 75538.0, \"weighted_frac_cumsum\": 0.08862779330428273, \"series_label\": \"promiscuous prok hits\"}, {\"promiscuous hits per KOG\": 355.0, \"count\": 1, \"cumsum\": 1309, \"frac_cumsum\": 0.7957446808510639, \"weighted_count\": 355.0, \"weighted_cumsum\": 75893.0, \"weighted_frac_cumsum\": 0.08904431037678956, \"series_label\": \"promiscuous prok hits\"}, {\"promiscuous hits per KOG\": 357.0, \"count\": 1, \"cumsum\": 1310, \"frac_cumsum\": 0.7963525835866262, \"weighted_count\": 357.0, \"weighted_cumsum\": 76250.0, \"weighted_frac_cumsum\": 0.08946317402435276, \"series_label\": \"promiscuous prok hits\"}, {\"promiscuous hits per KOG\": 358.0, \"count\": 1, \"cumsum\": 1311, \"frac_cumsum\": 0.7969604863221884, \"weighted_count\": 358.0, \"weighted_cumsum\": 76608.0, \"weighted_frac_cumsum\": 0.08988321095944414, \"series_label\": \"promiscuous prok hits\"}, {\"promiscuous hits per KOG\": 359.0, \"count\": 2, \"cumsum\": 1313, \"frac_cumsum\": 0.7981762917933131, \"weighted_count\": 718.0, \"weighted_cumsum\": 77326.0, \"weighted_frac_cumsum\": 0.09072563140468329, \"series_label\": \"promiscuous prok hits\"}, {\"promiscuous hits per KOG\": 363.0, \"count\": 1, \"cumsum\": 1314, \"frac_cumsum\": 0.7987841945288754, \"weighted_count\": 363.0, \"weighted_cumsum\": 77689.0, \"weighted_frac_cumsum\": 0.09115153477741562, \"series_label\": \"promiscuous prok hits\"}, {\"promiscuous hits per KOG\": 365.0, \"count\": 2, \"cumsum\": 1316, \"frac_cumsum\": 0.8, \"weighted_count\": 730.0, \"weighted_cumsum\": 78419.0, \"weighted_frac_cumsum\": 0.09200803467299304, \"series_label\": \"promiscuous prok hits\"}, {\"promiscuous hits per KOG\": 367.0, \"count\": 3, \"cumsum\": 1319, \"frac_cumsum\": 0.8018237082066869, \"weighted_count\": 1101.0, \"weighted_cumsum\": 79520.0, \"weighted_frac_cumsum\": 0.09329982424152827, \"series_label\": \"promiscuous prok hits\"}, {\"promiscuous hits per KOG\": 369.0, \"count\": 1, \"cumsum\": 1320, \"frac_cumsum\": 0.8024316109422492, \"weighted_count\": 369.0, \"weighted_cumsum\": 79889.0, \"weighted_frac_cumsum\": 0.09373276733942973, \"series_label\": \"promiscuous prok hits\"}, {\"promiscuous hits per KOG\": 372.0, \"count\": 1, \"cumsum\": 1321, \"frac_cumsum\": 0.8030395136778116, \"weighted_count\": 372.0, \"weighted_cumsum\": 80261.0, \"weighted_frac_cumsum\": 0.09416923029991575, \"series_label\": \"promiscuous prok hits\"}, {\"promiscuous hits per KOG\": 373.0, \"count\": 1, \"cumsum\": 1322, \"frac_cumsum\": 0.8036474164133739, \"weighted_count\": 373.0, \"weighted_cumsum\": 80634.0, \"weighted_frac_cumsum\": 0.09460686654792996, \"series_label\": \"promiscuous prok hits\"}, {\"promiscuous hits per KOG\": 375.0, \"count\": 1, \"cumsum\": 1323, \"frac_cumsum\": 0.8042553191489362, \"weighted_count\": 375.0, \"weighted_cumsum\": 81009.0, \"weighted_frac_cumsum\": 0.09504684937100055, \"series_label\": \"promiscuous prok hits\"}, {\"promiscuous hits per KOG\": 376.0, \"count\": 2, \"cumsum\": 1325, \"frac_cumsum\": 0.8054711246200608, \"weighted_count\": 752.0, \"weighted_cumsum\": 81761.0, \"weighted_frac_cumsum\": 0.09592916159219811, \"series_label\": \"promiscuous prok hits\"}, {\"promiscuous hits per KOG\": 382.0, \"count\": 1, \"cumsum\": 1326, \"frac_cumsum\": 0.8060790273556231, \"weighted_count\": 382.0, \"weighted_cumsum\": 82143.0, \"weighted_frac_cumsum\": 0.096377357427966, \"series_label\": \"promiscuous prok hits\"}, {\"promiscuous hits per KOG\": 384.0, \"count\": 1, \"cumsum\": 1327, \"frac_cumsum\": 0.8066869300911854, \"weighted_count\": 384.0, \"weighted_cumsum\": 82527.0, \"weighted_frac_cumsum\": 0.0968278998387903, \"series_label\": \"promiscuous prok hits\"}, {\"promiscuous hits per KOG\": 386.0, \"count\": 1, \"cumsum\": 1328, \"frac_cumsum\": 0.8072948328267477, \"weighted_count\": 386.0, \"weighted_cumsum\": 82913.0, \"weighted_frac_cumsum\": 0.09728078882467095, \"series_label\": \"promiscuous prok hits\"}, {\"promiscuous hits per KOG\": 387.0, \"count\": 2, \"cumsum\": 1330, \"frac_cumsum\": 0.8085106382978723, \"weighted_count\": 774.0, \"weighted_cumsum\": 83687.0, \"weighted_frac_cumsum\": 0.09818891337148865, \"series_label\": \"promiscuous prok hits\"}, {\"promiscuous hits per KOG\": 388.0, \"count\": 1, \"cumsum\": 1331, \"frac_cumsum\": 0.8091185410334346, \"weighted_count\": 388.0, \"weighted_cumsum\": 84075.0, \"weighted_frac_cumsum\": 0.09864414893242568, \"series_label\": \"promiscuous prok hits\"}, {\"promiscuous hits per KOG\": 390.0, \"count\": 2, \"cumsum\": 1333, \"frac_cumsum\": 0.8103343465045593, \"weighted_count\": 780.0, \"weighted_cumsum\": 84855.0, \"weighted_frac_cumsum\": 0.0995593132044125, \"series_label\": \"promiscuous prok hits\"}, {\"promiscuous hits per KOG\": 393.0, \"count\": 1, \"cumsum\": 1334, \"frac_cumsum\": 0.8109422492401216, \"weighted_count\": 393.0, \"weighted_cumsum\": 85248.0, \"weighted_frac_cumsum\": 0.10002041520299047, \"series_label\": \"promiscuous prok hits\"}, {\"promiscuous hits per KOG\": 396.0, \"count\": 1, \"cumsum\": 1335, \"frac_cumsum\": 0.8115501519756839, \"weighted_count\": 396.0, \"weighted_cumsum\": 85644.0, \"weighted_frac_cumsum\": 0.10048503706415302, \"series_label\": \"promiscuous prok hits\"}, {\"promiscuous hits per KOG\": 397.0, \"count\": 1, \"cumsum\": 1336, \"frac_cumsum\": 0.8121580547112462, \"weighted_count\": 397.0, \"weighted_cumsum\": 86041.0, \"weighted_frac_cumsum\": 0.10095083221284375, \"series_label\": \"promiscuous prok hits\"}, {\"promiscuous hits per KOG\": 399.0, \"count\": 1, \"cumsum\": 1337, \"frac_cumsum\": 0.8127659574468085, \"weighted_count\": 399.0, \"weighted_cumsum\": 86440.0, \"weighted_frac_cumsum\": 0.10141897393659084, \"series_label\": \"promiscuous prok hits\"}, {\"promiscuous hits per KOG\": 400.0, \"count\": 1, \"cumsum\": 1338, \"frac_cumsum\": 0.8133738601823708, \"weighted_count\": 400.0, \"weighted_cumsum\": 86840.0, \"weighted_frac_cumsum\": 0.10188828894786614, \"series_label\": \"promiscuous prok hits\"}, {\"promiscuous hits per KOG\": 407.0, \"count\": 1, \"cumsum\": 1339, \"frac_cumsum\": 0.8139817629179331, \"weighted_count\": 407.0, \"weighted_cumsum\": 87247.0, \"weighted_frac_cumsum\": 0.10236581697183875, \"series_label\": \"promiscuous prok hits\"}, {\"promiscuous hits per KOG\": 411.0, \"count\": 1, \"cumsum\": 1340, \"frac_cumsum\": 0.8145896656534954, \"weighted_count\": 411.0, \"weighted_cumsum\": 87658.0, \"weighted_frac_cumsum\": 0.10284803814592412, \"series_label\": \"promiscuous prok hits\"}, {\"promiscuous hits per KOG\": 415.0, \"count\": 1, \"cumsum\": 1341, \"frac_cumsum\": 0.8151975683890578, \"weighted_count\": 415.0, \"weighted_cumsum\": 88073.0, \"weighted_frac_cumsum\": 0.10333495247012223, \"series_label\": \"promiscuous prok hits\"}, {\"promiscuous hits per KOG\": 419.0, \"count\": 1, \"cumsum\": 1342, \"frac_cumsum\": 0.8158054711246201, \"weighted_count\": 419.0, \"weighted_cumsum\": 88492.0, \"weighted_frac_cumsum\": 0.1038265599444331, \"series_label\": \"promiscuous prok hits\"}, {\"promiscuous hits per KOG\": 420.0, \"count\": 1, \"cumsum\": 1343, \"frac_cumsum\": 0.8164133738601824, \"weighted_count\": 420.0, \"weighted_cumsum\": 88912.0, \"weighted_frac_cumsum\": 0.10431934070627216, \"series_label\": \"promiscuous prok hits\"}, {\"promiscuous hits per KOG\": 422.0, \"count\": 1, \"cumsum\": 1344, \"frac_cumsum\": 0.8170212765957446, \"weighted_count\": 422.0, \"weighted_cumsum\": 89334.0, \"weighted_frac_cumsum\": 0.10481446804316759, \"series_label\": \"promiscuous prok hits\"}, {\"promiscuous hits per KOG\": 423.0, \"count\": 1, \"cumsum\": 1345, \"frac_cumsum\": 0.817629179331307, \"weighted_count\": 423.0, \"weighted_cumsum\": 89757.0, \"weighted_frac_cumsum\": 0.10531076866759122, \"series_label\": \"promiscuous prok hits\"}, {\"promiscuous hits per KOG\": 429.0, \"count\": 1, \"cumsum\": 1346, \"frac_cumsum\": 0.8182370820668693, \"weighted_count\": 429.0, \"weighted_cumsum\": 90186.0, \"weighted_frac_cumsum\": 0.10581410901718397, \"series_label\": \"promiscuous prok hits\"}, {\"promiscuous hits per KOG\": 432.0, \"count\": 2, \"cumsum\": 1348, \"frac_cumsum\": 0.819452887537994, \"weighted_count\": 864.0, \"weighted_cumsum\": 91050.0, \"weighted_frac_cumsum\": 0.1068278294415386, \"series_label\": \"promiscuous prok hits\"}, {\"promiscuous hits per KOG\": 433.0, \"count\": 1, \"cumsum\": 1349, \"frac_cumsum\": 0.8200607902735563, \"weighted_count\": 433.0, \"weighted_cumsum\": 91483.0, \"weighted_frac_cumsum\": 0.1073358629412441, \"series_label\": \"promiscuous prok hits\"}, {\"promiscuous hits per KOG\": 434.0, \"count\": 1, \"cumsum\": 1350, \"frac_cumsum\": 0.8206686930091185, \"weighted_count\": 434.0, \"weighted_cumsum\": 91917.0, \"weighted_frac_cumsum\": 0.1078450697284778, \"series_label\": \"promiscuous prok hits\"}, {\"promiscuous hits per KOG\": 435.0, \"count\": 1, \"cumsum\": 1351, \"frac_cumsum\": 0.8212765957446808, \"weighted_count\": 435.0, \"weighted_cumsum\": 92352.0, \"weighted_frac_cumsum\": 0.10835544980323968, \"series_label\": \"promiscuous prok hits\"}, {\"promiscuous hits per KOG\": 441.0, \"count\": 1, \"cumsum\": 1352, \"frac_cumsum\": 0.8218844984802431, \"weighted_count\": 441.0, \"weighted_cumsum\": 92793.0, \"weighted_frac_cumsum\": 0.10887286960317069, \"series_label\": \"promiscuous prok hits\"}, {\"promiscuous hits per KOG\": 442.0, \"count\": 2, \"cumsum\": 1354, \"frac_cumsum\": 0.8231003039513678, \"weighted_count\": 884.0, \"weighted_cumsum\": 93677.0, \"weighted_frac_cumsum\": 0.10991005577808909, \"series_label\": \"promiscuous prok hits\"}, {\"promiscuous hits per KOG\": 443.0, \"count\": 1, \"cumsum\": 1355, \"frac_cumsum\": 0.8237082066869301, \"weighted_count\": 443.0, \"weighted_cumsum\": 94120.0, \"weighted_frac_cumsum\": 0.11042982215307648, \"series_label\": \"promiscuous prok hits\"}, {\"promiscuous hits per KOG\": 446.0, \"count\": 1, \"cumsum\": 1356, \"frac_cumsum\": 0.8243161094224924, \"weighted_count\": 446.0, \"weighted_cumsum\": 94566.0, \"weighted_frac_cumsum\": 0.11095310839064843, \"series_label\": \"promiscuous prok hits\"}, {\"promiscuous hits per KOG\": 452.0, \"count\": 1, \"cumsum\": 1357, \"frac_cumsum\": 0.8249240121580547, \"weighted_count\": 452.0, \"weighted_cumsum\": 95018.0, \"weighted_frac_cumsum\": 0.1114834343533895, \"series_label\": \"promiscuous prok hits\"}, {\"promiscuous hits per KOG\": 458.0, \"count\": 1, \"cumsum\": 1358, \"frac_cumsum\": 0.825531914893617, \"weighted_count\": 458.0, \"weighted_cumsum\": 95476.0, \"weighted_frac_cumsum\": 0.11202080004129972, \"series_label\": \"promiscuous prok hits\"}, {\"promiscuous hits per KOG\": 461.0, \"count\": 1, \"cumsum\": 1359, \"frac_cumsum\": 0.8261398176291793, \"weighted_count\": 461.0, \"weighted_cumsum\": 95937.0, \"weighted_frac_cumsum\": 0.1125616855917945, \"series_label\": \"promiscuous prok hits\"}, {\"promiscuous hits per KOG\": 464.0, \"count\": 1, \"cumsum\": 1360, \"frac_cumsum\": 0.8267477203647416, \"weighted_count\": 464.0, \"weighted_cumsum\": 96401.0, \"weighted_frac_cumsum\": 0.11310609100487384, \"series_label\": \"promiscuous prok hits\"}, {\"promiscuous hits per KOG\": 465.0, \"count\": 1, \"cumsum\": 1361, \"frac_cumsum\": 0.827355623100304, \"weighted_count\": 465.0, \"weighted_cumsum\": 96866.0, \"weighted_frac_cumsum\": 0.11365166970548136, \"series_label\": \"promiscuous prok hits\"}, {\"promiscuous hits per KOG\": 466.0, \"count\": 1, \"cumsum\": 1362, \"frac_cumsum\": 0.8279635258358663, \"weighted_count\": 466.0, \"weighted_cumsum\": 97332.0, \"weighted_frac_cumsum\": 0.11419842169361707, \"series_label\": \"promiscuous prok hits\"}, {\"promiscuous hits per KOG\": 467.0, \"count\": 1, \"cumsum\": 1363, \"frac_cumsum\": 0.8285714285714286, \"weighted_count\": 467.0, \"weighted_cumsum\": 97799.0, \"weighted_frac_cumsum\": 0.11474634696928099, \"series_label\": \"promiscuous prok hits\"}, {\"promiscuous hits per KOG\": 468.0, \"count\": 1, \"cumsum\": 1364, \"frac_cumsum\": 0.8291793313069908, \"weighted_count\": 468.0, \"weighted_cumsum\": 98267.0, \"weighted_frac_cumsum\": 0.11529544553247308, \"series_label\": \"promiscuous prok hits\"}, {\"promiscuous hits per KOG\": 475.0, \"count\": 1, \"cumsum\": 1365, \"frac_cumsum\": 0.8297872340425532, \"weighted_count\": 475.0, \"weighted_cumsum\": 98742.0, \"weighted_frac_cumsum\": 0.11585275710836249, \"series_label\": \"promiscuous prok hits\"}, {\"promiscuous hits per KOG\": 476.0, \"count\": 1, \"cumsum\": 1366, \"frac_cumsum\": 0.8303951367781155, \"weighted_count\": 476.0, \"weighted_cumsum\": 99218.0, \"weighted_frac_cumsum\": 0.11641124197178009, \"series_label\": \"promiscuous prok hits\"}, {\"promiscuous hits per KOG\": 478.0, \"count\": 1, \"cumsum\": 1367, \"frac_cumsum\": 0.8310030395136778, \"weighted_count\": 478.0, \"weighted_cumsum\": 99696.0, \"weighted_frac_cumsum\": 0.11697207341025406, \"series_label\": \"promiscuous prok hits\"}, {\"promiscuous hits per KOG\": 479.0, \"count\": 1, \"cumsum\": 1368, \"frac_cumsum\": 0.8316109422492401, \"weighted_count\": 479.0, \"weighted_cumsum\": 100175.0, \"weighted_frac_cumsum\": 0.11753407813625623, \"series_label\": \"promiscuous prok hits\"}, {\"promiscuous hits per KOG\": 482.0, \"count\": 1, \"cumsum\": 1369, \"frac_cumsum\": 0.8322188449848025, \"weighted_count\": 482.0, \"weighted_cumsum\": 100657.0, \"weighted_frac_cumsum\": 0.11809960272484296, \"series_label\": \"promiscuous prok hits\"}, {\"promiscuous hits per KOG\": 484.0, \"count\": 1, \"cumsum\": 1370, \"frac_cumsum\": 0.8328267477203647, \"weighted_count\": 484.0, \"weighted_cumsum\": 101141.0, \"weighted_frac_cumsum\": 0.11866747388848606, \"series_label\": \"promiscuous prok hits\"}, {\"promiscuous hits per KOG\": 489.0, \"count\": 1, \"cumsum\": 1371, \"frac_cumsum\": 0.833434650455927, \"weighted_count\": 489.0, \"weighted_cumsum\": 101630.0, \"weighted_frac_cumsum\": 0.1192412114897701, \"series_label\": \"promiscuous prok hits\"}, {\"promiscuous hits per KOG\": 492.0, \"count\": 3, \"cumsum\": 1374, \"frac_cumsum\": 0.835258358662614, \"weighted_count\": 1476.0, \"weighted_cumsum\": 103106.0, \"weighted_frac_cumsum\": 0.12097298388137594, \"series_label\": \"promiscuous prok hits\"}, {\"promiscuous hits per KOG\": 493.0, \"count\": 1, \"cumsum\": 1375, \"frac_cumsum\": 0.8358662613981763, \"weighted_count\": 493.0, \"weighted_cumsum\": 103599.0, \"weighted_frac_cumsum\": 0.12155141463277273, \"series_label\": \"promiscuous prok hits\"}, {\"promiscuous hits per KOG\": 498.0, \"count\": 1, \"cumsum\": 1376, \"frac_cumsum\": 0.8364741641337387, \"weighted_count\": 498.0, \"weighted_cumsum\": 104097.0, \"weighted_frac_cumsum\": 0.12213571182181047, \"series_label\": \"promiscuous prok hits\"}, {\"promiscuous hits per KOG\": 499.0, \"count\": 1, \"cumsum\": 1377, \"frac_cumsum\": 0.8370820668693009, \"weighted_count\": 499.0, \"weighted_cumsum\": 104596.0, \"weighted_frac_cumsum\": 0.1227211822983764, \"series_label\": \"promiscuous prok hits\"}, {\"promiscuous hits per KOG\": 502.0, \"count\": 2, \"cumsum\": 1379, \"frac_cumsum\": 0.8382978723404255, \"weighted_count\": 1004.0, \"weighted_cumsum\": 105600.0, \"weighted_frac_cumsum\": 0.12389916297667738, \"series_label\": \"promiscuous prok hits\"}, {\"promiscuous hits per KOG\": 504.0, \"count\": 1, \"cumsum\": 1380, \"frac_cumsum\": 0.8389057750759878, \"weighted_count\": 504.0, \"weighted_cumsum\": 106104.0, \"weighted_frac_cumsum\": 0.12449049989088426, \"series_label\": \"promiscuous prok hits\"}, {\"promiscuous hits per KOG\": 505.0, \"count\": 1, \"cumsum\": 1381, \"frac_cumsum\": 0.8395136778115502, \"weighted_count\": 505.0, \"weighted_cumsum\": 106609.0, \"weighted_frac_cumsum\": 0.12508301009261932, \"series_label\": \"promiscuous prok hits\"}, {\"promiscuous hits per KOG\": 508.0, \"count\": 1, \"cumsum\": 1382, \"frac_cumsum\": 0.8401215805471125, \"weighted_count\": 508.0, \"weighted_cumsum\": 107117.0, \"weighted_frac_cumsum\": 0.12567904015693893, \"series_label\": \"promiscuous prok hits\"}, {\"promiscuous hits per KOG\": 513.0, \"count\": 1, \"cumsum\": 1383, \"frac_cumsum\": 0.8407294832826747, \"weighted_count\": 513.0, \"weighted_cumsum\": 107630.0, \"weighted_frac_cumsum\": 0.1262809366588995, \"series_label\": \"promiscuous prok hits\"}, {\"promiscuous hits per KOG\": 522.0, \"count\": 1, \"cumsum\": 1384, \"frac_cumsum\": 0.841337386018237, \"weighted_count\": 522.0, \"weighted_cumsum\": 108152.0, \"weighted_frac_cumsum\": 0.12689339274861375, \"series_label\": \"promiscuous prok hits\"}, {\"promiscuous hits per KOG\": 533.0, \"count\": 1, \"cumsum\": 1385, \"frac_cumsum\": 0.8419452887537994, \"weighted_count\": 533.0, \"weighted_cumsum\": 108685.0, \"weighted_frac_cumsum\": 0.1275187550011381, \"series_label\": \"promiscuous prok hits\"}, {\"promiscuous hits per KOG\": 537.0, \"count\": 1, \"cumsum\": 1386, \"frac_cumsum\": 0.8425531914893617, \"weighted_count\": 537.0, \"weighted_cumsum\": 109222.0, \"weighted_frac_cumsum\": 0.12814881040377518, \"series_label\": \"promiscuous prok hits\"}, {\"promiscuous hits per KOG\": 543.0, \"count\": 1, \"cumsum\": 1387, \"frac_cumsum\": 0.843161094224924, \"weighted_count\": 543.0, \"weighted_cumsum\": 109765.0, \"weighted_frac_cumsum\": 0.12878590553158137, \"series_label\": \"promiscuous prok hits\"}, {\"promiscuous hits per KOG\": 545.0, \"count\": 2, \"cumsum\": 1389, \"frac_cumsum\": 0.8443768996960487, \"weighted_count\": 1090.0, \"weighted_cumsum\": 110855.0, \"weighted_frac_cumsum\": 0.13006478893730655, \"series_label\": \"promiscuous prok hits\"}, {\"promiscuous hits per KOG\": 547.0, \"count\": 1, \"cumsum\": 1390, \"frac_cumsum\": 0.8449848024316109, \"weighted_count\": 547.0, \"weighted_cumsum\": 111402.0, \"weighted_frac_cumsum\": 0.13070657721522552, \"series_label\": \"promiscuous prok hits\"}, {\"promiscuous hits per KOG\": 548.0, \"count\": 2, \"cumsum\": 1392, \"frac_cumsum\": 0.8462006079027355, \"weighted_count\": 1096.0, \"weighted_cumsum\": 112498.0, \"weighted_frac_cumsum\": 0.1319925003461198, \"series_label\": \"promiscuous prok hits\"}, {\"promiscuous hits per KOG\": 552.0, \"count\": 1, \"cumsum\": 1393, \"frac_cumsum\": 0.8468085106382979, \"weighted_count\": 552.0, \"weighted_cumsum\": 113050.0, \"weighted_frac_cumsum\": 0.13264015506167973, \"series_label\": \"promiscuous prok hits\"}, {\"promiscuous hits per KOG\": 562.0, \"count\": 1, \"cumsum\": 1394, \"frac_cumsum\": 0.8474164133738602, \"weighted_count\": 562.0, \"weighted_cumsum\": 113612.0, \"weighted_frac_cumsum\": 0.1332995426525215, \"series_label\": \"promiscuous prok hits\"}, {\"promiscuous hits per KOG\": 566.0, \"count\": 1, \"cumsum\": 1395, \"frac_cumsum\": 0.8480243161094225, \"weighted_count\": 566.0, \"weighted_cumsum\": 114178.0, \"weighted_frac_cumsum\": 0.13396362339347606, \"series_label\": \"promiscuous prok hits\"}, {\"promiscuous hits per KOG\": 570.0, \"count\": 2, \"cumsum\": 1397, \"frac_cumsum\": 0.8492401215805471, \"weighted_count\": 1140.0, \"weighted_cumsum\": 115318.0, \"weighted_frac_cumsum\": 0.13530117117561064, \"series_label\": \"promiscuous prok hits\"}, {\"promiscuous hits per KOG\": 571.0, \"count\": 1, \"cumsum\": 1398, \"frac_cumsum\": 0.8498480243161094, \"weighted_count\": 571.0, \"weighted_cumsum\": 115889.0, \"weighted_frac_cumsum\": 0.1359711183542061, \"series_label\": \"promiscuous prok hits\"}, {\"promiscuous hits per KOG\": 579.0, \"count\": 1, \"cumsum\": 1399, \"frac_cumsum\": 0.8504559270516717, \"weighted_count\": 579.0, \"weighted_cumsum\": 116468.0, \"weighted_frac_cumsum\": 0.1366504518330271, \"series_label\": \"promiscuous prok hits\"}, {\"promiscuous hits per KOG\": 581.0, \"count\": 1, \"cumsum\": 1400, \"frac_cumsum\": 0.851063829787234, \"weighted_count\": 581.0, \"weighted_cumsum\": 117049.0, \"weighted_frac_cumsum\": 0.13733213188690446, \"series_label\": \"promiscuous prok hits\"}, {\"promiscuous hits per KOG\": 585.0, \"count\": 1, \"cumsum\": 1401, \"frac_cumsum\": 0.8516717325227964, \"weighted_count\": 585.0, \"weighted_cumsum\": 117634.0, \"weighted_frac_cumsum\": 0.13801850509089458, \"series_label\": \"promiscuous prok hits\"}, {\"promiscuous hits per KOG\": 587.0, \"count\": 1, \"cumsum\": 1402, \"frac_cumsum\": 0.8522796352583587, \"weighted_count\": 587.0, \"weighted_cumsum\": 118221.0, \"weighted_frac_cumsum\": 0.13870722486994108, \"series_label\": \"promiscuous prok hits\"}, {\"promiscuous hits per KOG\": 588.0, \"count\": 1, \"cumsum\": 1403, \"frac_cumsum\": 0.8528875379939209, \"weighted_count\": 588.0, \"weighted_cumsum\": 118809.0, \"weighted_frac_cumsum\": 0.13939711793651577, \"series_label\": \"promiscuous prok hits\"}, {\"promiscuous hits per KOG\": 596.0, \"count\": 1, \"cumsum\": 1404, \"frac_cumsum\": 0.8534954407294832, \"weighted_count\": 596.0, \"weighted_cumsum\": 119405.0, \"weighted_frac_cumsum\": 0.14009639730331594, \"series_label\": \"promiscuous prok hits\"}, {\"promiscuous hits per KOG\": 620.0, \"count\": 1, \"cumsum\": 1405, \"frac_cumsum\": 0.8541033434650456, \"weighted_count\": 620.0, \"weighted_cumsum\": 120025.0, \"weighted_frac_cumsum\": 0.14082383557079264, \"series_label\": \"promiscuous prok hits\"}, {\"promiscuous hits per KOG\": 625.0, \"count\": 1, \"cumsum\": 1406, \"frac_cumsum\": 0.8547112462006079, \"weighted_count\": 625.0, \"weighted_cumsum\": 120650.0, \"weighted_frac_cumsum\": 0.1415571402759103, \"series_label\": \"promiscuous prok hits\"}, {\"promiscuous hits per KOG\": 631.0, \"count\": 1, \"cumsum\": 1407, \"frac_cumsum\": 0.8553191489361702, \"weighted_count\": 631.0, \"weighted_cumsum\": 121281.0, \"weighted_frac_cumsum\": 0.14229748470619707, \"series_label\": \"promiscuous prok hits\"}, {\"promiscuous hits per KOG\": 657.0, \"count\": 1, \"cumsum\": 1408, \"frac_cumsum\": 0.8559270516717326, \"weighted_count\": 657.0, \"weighted_cumsum\": 121938.0, \"weighted_frac_cumsum\": 0.14306833461221674, \"series_label\": \"promiscuous prok hits\"}, {\"promiscuous hits per KOG\": 661.0, \"count\": 1, \"cumsum\": 1409, \"frac_cumsum\": 0.8565349544072949, \"weighted_count\": 661.0, \"weighted_cumsum\": 122599.0, \"weighted_frac_cumsum\": 0.14384387766834916, \"series_label\": \"promiscuous prok hits\"}, {\"promiscuous hits per KOG\": 666.0, \"count\": 1, \"cumsum\": 1410, \"frac_cumsum\": 0.8571428571428571, \"weighted_count\": 666.0, \"weighted_cumsum\": 123265.0, \"weighted_frac_cumsum\": 0.14462528716212253, \"series_label\": \"promiscuous prok hits\"}, {\"promiscuous hits per KOG\": 667.0, \"count\": 1, \"cumsum\": 1411, \"frac_cumsum\": 0.8577507598784194, \"weighted_count\": 667.0, \"weighted_cumsum\": 123932.0, \"weighted_frac_cumsum\": 0.14540786994342408, \"series_label\": \"promiscuous prok hits\"}, {\"promiscuous hits per KOG\": 668.0, \"count\": 2, \"cumsum\": 1413, \"frac_cumsum\": 0.8589665653495441, \"weighted_count\": 1336.0, \"weighted_cumsum\": 125268.0, \"weighted_frac_cumsum\": 0.14697538208108354, \"series_label\": \"promiscuous prok hits\"}, {\"promiscuous hits per KOG\": 681.0, \"count\": 2, \"cumsum\": 1415, \"frac_cumsum\": 0.8601823708206687, \"weighted_count\": 1362.0, \"weighted_cumsum\": 126630.0, \"weighted_frac_cumsum\": 0.14857339969447592, \"series_label\": \"promiscuous prok hits\"}, {\"promiscuous hits per KOG\": 682.0, \"count\": 2, \"cumsum\": 1417, \"frac_cumsum\": 0.8613981762917933, \"weighted_count\": 1364.0, \"weighted_cumsum\": 127994.0, \"weighted_frac_cumsum\": 0.15017376388292467, \"series_label\": \"promiscuous prok hits\"}, {\"promiscuous hits per KOG\": 683.0, \"count\": 1, \"cumsum\": 1418, \"frac_cumsum\": 0.8620060790273556, \"weighted_count\": 683.0, \"weighted_cumsum\": 128677.0, \"weighted_frac_cumsum\": 0.15097511926467724, \"series_label\": \"promiscuous prok hits\"}, {\"promiscuous hits per KOG\": 684.0, \"count\": 1, \"cumsum\": 1419, \"frac_cumsum\": 0.8626139817629179, \"weighted_count\": 684.0, \"weighted_cumsum\": 129361.0, \"weighted_frac_cumsum\": 0.15177764793395798, \"series_label\": \"promiscuous prok hits\"}, {\"promiscuous hits per KOG\": 692.0, \"count\": 2, \"cumsum\": 1421, \"frac_cumsum\": 0.8638297872340426, \"weighted_count\": 1384.0, \"weighted_cumsum\": 130745.0, \"weighted_frac_cumsum\": 0.1534014778729705, \"series_label\": \"promiscuous prok hits\"}, {\"promiscuous hits per KOG\": 694.0, \"count\": 2, \"cumsum\": 1423, \"frac_cumsum\": 0.8650455927051671, \"weighted_count\": 1388.0, \"weighted_cumsum\": 132133.0, \"weighted_frac_cumsum\": 0.15503000096209577, \"series_label\": \"promiscuous prok hits\"}, {\"promiscuous hits per KOG\": 700.0, \"count\": 1, \"cumsum\": 1424, \"frac_cumsum\": 0.8656534954407294, \"weighted_count\": 700.0, \"weighted_cumsum\": 132833.0, \"weighted_frac_cumsum\": 0.15585130223182753, \"series_label\": \"promiscuous prok hits\"}, {\"promiscuous hits per KOG\": 701.0, \"count\": 1, \"cumsum\": 1425, \"frac_cumsum\": 0.8662613981762918, \"weighted_count\": 701.0, \"weighted_cumsum\": 133534.0, \"weighted_frac_cumsum\": 0.15667377678908748, \"series_label\": \"promiscuous prok hits\"}, {\"promiscuous hits per KOG\": 709.0, \"count\": 1, \"cumsum\": 1426, \"frac_cumsum\": 0.8668693009118541, \"weighted_count\": 709.0, \"weighted_cumsum\": 134243.0, \"weighted_frac_cumsum\": 0.15750563764657294, \"series_label\": \"promiscuous prok hits\"}, {\"promiscuous hits per KOG\": 714.0, \"count\": 1, \"cumsum\": 1427, \"frac_cumsum\": 0.8674772036474164, \"weighted_count\": 714.0, \"weighted_cumsum\": 134957.0, \"weighted_frac_cumsum\": 0.15834336494169934, \"series_label\": \"promiscuous prok hits\"}, {\"promiscuous hits per KOG\": 716.0, \"count\": 1, \"cumsum\": 1428, \"frac_cumsum\": 0.8680851063829788, \"weighted_count\": 716.0, \"weighted_cumsum\": 135673.0, \"weighted_frac_cumsum\": 0.15918343881188213, \"series_label\": \"promiscuous prok hits\"}, {\"promiscuous hits per KOG\": 729.0, \"count\": 1, \"cumsum\": 1429, \"frac_cumsum\": 0.8686930091185411, \"weighted_count\": 729.0, \"weighted_cumsum\": 136402.0, \"weighted_frac_cumsum\": 0.16003876541993134, \"series_label\": \"promiscuous prok hits\"}, {\"promiscuous hits per KOG\": 730.0, \"count\": 1, \"cumsum\": 1430, \"frac_cumsum\": 0.8693009118541033, \"weighted_count\": 730.0, \"weighted_cumsum\": 137132.0, \"weighted_frac_cumsum\": 0.16089526531550874, \"series_label\": \"promiscuous prok hits\"}, {\"promiscuous hits per KOG\": 733.0, \"count\": 1, \"cumsum\": 1431, \"frac_cumsum\": 0.8699088145896656, \"weighted_count\": 733.0, \"weighted_cumsum\": 137865.0, \"weighted_frac_cumsum\": 0.16175528507367073, \"series_label\": \"promiscuous prok hits\"}, {\"promiscuous hits per KOG\": 736.0, \"count\": 1, \"cumsum\": 1432, \"frac_cumsum\": 0.870516717325228, \"weighted_count\": 736.0, \"weighted_cumsum\": 138601.0, \"weighted_frac_cumsum\": 0.16261882469441727, \"series_label\": \"promiscuous prok hits\"}, {\"promiscuous hits per KOG\": 737.0, \"count\": 1, \"cumsum\": 1433, \"frac_cumsum\": 0.8711246200607903, \"weighted_count\": 737.0, \"weighted_cumsum\": 139338.0, \"weighted_frac_cumsum\": 0.163483537602692, \"series_label\": \"promiscuous prok hits\"}, {\"promiscuous hits per KOG\": 739.0, \"count\": 1, \"cumsum\": 1434, \"frac_cumsum\": 0.8717325227963526, \"weighted_count\": 739.0, \"weighted_cumsum\": 140077.0, \"weighted_frac_cumsum\": 0.1643505970860231, \"series_label\": \"promiscuous prok hits\"}, {\"promiscuous hits per KOG\": 752.0, \"count\": 1, \"cumsum\": 1435, \"frac_cumsum\": 0.8723404255319149, \"weighted_count\": 752.0, \"weighted_cumsum\": 140829.0, \"weighted_frac_cumsum\": 0.16523290930722065, \"series_label\": \"promiscuous prok hits\"}, {\"promiscuous hits per KOG\": 754.0, \"count\": 1, \"cumsum\": 1436, \"frac_cumsum\": 0.8729483282674773, \"weighted_count\": 754.0, \"weighted_cumsum\": 141583.0, \"weighted_frac_cumsum\": 0.16611756810347458, \"series_label\": \"promiscuous prok hits\"}, {\"promiscuous hits per KOG\": 756.0, \"count\": 1, \"cumsum\": 1437, \"frac_cumsum\": 0.8735562310030395, \"weighted_count\": 756.0, \"weighted_cumsum\": 142339.0, \"weighted_frac_cumsum\": 0.16700457347478487, \"series_label\": \"promiscuous prok hits\"}, {\"promiscuous hits per KOG\": 759.0, \"count\": 1, \"cumsum\": 1438, \"frac_cumsum\": 0.8741641337386018, \"weighted_count\": 759.0, \"weighted_cumsum\": 143098.0, \"weighted_frac_cumsum\": 0.16789509870867975, \"series_label\": \"promiscuous prok hits\"}, {\"promiscuous hits per KOG\": 767.0, \"count\": 1, \"cumsum\": 1439, \"frac_cumsum\": 0.8747720364741641, \"weighted_count\": 767.0, \"weighted_cumsum\": 143865.0, \"weighted_frac_cumsum\": 0.1687950102428001, \"series_label\": \"promiscuous prok hits\"}, {\"promiscuous hits per KOG\": 773.0, \"count\": 1, \"cumsum\": 1440, \"frac_cumsum\": 0.8753799392097265, \"weighted_count\": 773.0, \"weighted_cumsum\": 144638.0, \"weighted_frac_cumsum\": 0.16970196150208963, \"series_label\": \"promiscuous prok hits\"}, {\"promiscuous hits per KOG\": 776.0, \"count\": 2, \"cumsum\": 1442, \"frac_cumsum\": 0.8765957446808511, \"weighted_count\": 1552.0, \"weighted_cumsum\": 146190.0, \"weighted_frac_cumsum\": 0.17152290374583776, \"series_label\": \"promiscuous prok hits\"}, {\"promiscuous hits per KOG\": 785.0, \"count\": 1, \"cumsum\": 1443, \"frac_cumsum\": 0.8772036474164133, \"weighted_count\": 785.0, \"weighted_cumsum\": 146975.0, \"weighted_frac_cumsum\": 0.17244393445546552, \"series_label\": \"promiscuous prok hits\"}, {\"promiscuous hits per KOG\": 787.0, \"count\": 1, \"cumsum\": 1444, \"frac_cumsum\": 0.8778115501519757, \"weighted_count\": 787.0, \"weighted_cumsum\": 147762.0, \"weighted_frac_cumsum\": 0.17336731174014966, \"series_label\": \"promiscuous prok hits\"}, {\"promiscuous hits per KOG\": 790.0, \"count\": 1, \"cumsum\": 1445, \"frac_cumsum\": 0.878419452887538, \"weighted_count\": 790.0, \"weighted_cumsum\": 148552.0, \"weighted_frac_cumsum\": 0.17429420888741837, \"series_label\": \"promiscuous prok hits\"}, {\"promiscuous hits per KOG\": 811.0, \"count\": 1, \"cumsum\": 1446, \"frac_cumsum\": 0.8790273556231003, \"weighted_count\": 811.0, \"weighted_cumsum\": 149363.0, \"weighted_frac_cumsum\": 0.175245745072779, \"series_label\": \"promiscuous prok hits\"}, {\"promiscuous hits per KOG\": 816.0, \"count\": 1, \"cumsum\": 1447, \"frac_cumsum\": 0.8796352583586626, \"weighted_count\": 816.0, \"weighted_cumsum\": 150179.0, \"weighted_frac_cumsum\": 0.17620314769578063, \"series_label\": \"promiscuous prok hits\"}, {\"promiscuous hits per KOG\": 818.0, \"count\": 1, \"cumsum\": 1448, \"frac_cumsum\": 0.880243161094225, \"weighted_count\": 818.0, \"weighted_cumsum\": 150997.0, \"weighted_frac_cumsum\": 0.1771628968938386, \"series_label\": \"promiscuous prok hits\"}, {\"promiscuous hits per KOG\": 824.0, \"count\": 1, \"cumsum\": 1449, \"frac_cumsum\": 0.8808510638297873, \"weighted_count\": 824.0, \"weighted_cumsum\": 151821.0, \"weighted_frac_cumsum\": 0.1781296858170657, \"series_label\": \"promiscuous prok hits\"}, {\"promiscuous hits per KOG\": 832.0, \"count\": 1, \"cumsum\": 1450, \"frac_cumsum\": 0.8814589665653495, \"weighted_count\": 832.0, \"weighted_cumsum\": 152653.0, \"weighted_frac_cumsum\": 0.17910586104051832, \"series_label\": \"promiscuous prok hits\"}, {\"promiscuous hits per KOG\": 837.0, \"count\": 1, \"cumsum\": 1451, \"frac_cumsum\": 0.8820668693009118, \"weighted_count\": 837.0, \"weighted_cumsum\": 153490.0, \"weighted_frac_cumsum\": 0.18008790270161187, \"series_label\": \"promiscuous prok hits\"}, {\"promiscuous hits per KOG\": 843.0, \"count\": 1, \"cumsum\": 1452, \"frac_cumsum\": 0.8826747720364742, \"weighted_count\": 843.0, \"weighted_cumsum\": 154333.0, \"weighted_frac_cumsum\": 0.18107698408787454, \"series_label\": \"promiscuous prok hits\"}, {\"promiscuous hits per KOG\": 848.0, \"count\": 2, \"cumsum\": 1454, \"frac_cumsum\": 0.8838905775075988, \"weighted_count\": 1696.0, \"weighted_cumsum\": 156029.0, \"weighted_frac_cumsum\": 0.18306687973568178, \"series_label\": \"promiscuous prok hits\"}, {\"promiscuous hits per KOG\": 860.0, \"count\": 1, \"cumsum\": 1455, \"frac_cumsum\": 0.8844984802431611, \"weighted_count\": 860.0, \"weighted_cumsum\": 156889.0, \"weighted_frac_cumsum\": 0.18407590700992366, \"series_label\": \"promiscuous prok hits\"}, {\"promiscuous hits per KOG\": 863.0, \"count\": 1, \"cumsum\": 1456, \"frac_cumsum\": 0.8851063829787233, \"weighted_count\": 863.0, \"weighted_cumsum\": 157752.0, \"weighted_frac_cumsum\": 0.1850884541467501, \"series_label\": \"promiscuous prok hits\"}, {\"promiscuous hits per KOG\": 864.0, \"count\": 1, \"cumsum\": 1457, \"frac_cumsum\": 0.8857142857142857, \"weighted_count\": 864.0, \"weighted_cumsum\": 158616.0, \"weighted_frac_cumsum\": 0.18610217457110476, \"series_label\": \"promiscuous prok hits\"}, {\"promiscuous hits per KOG\": 875.0, \"count\": 1, \"cumsum\": 1458, \"frac_cumsum\": 0.886322188449848, \"weighted_count\": 875.0, \"weighted_cumsum\": 159491.0, \"weighted_frac_cumsum\": 0.18712880115826944, \"series_label\": \"promiscuous prok hits\"}, {\"promiscuous hits per KOG\": 890.0, \"count\": 1, \"cumsum\": 1459, \"frac_cumsum\": 0.8869300911854103, \"weighted_count\": 890.0, \"weighted_cumsum\": 160381.0, \"weighted_frac_cumsum\": 0.18817302705835698, \"series_label\": \"promiscuous prok hits\"}, {\"promiscuous hits per KOG\": 908.0, \"count\": 1, \"cumsum\": 1460, \"frac_cumsum\": 0.8875379939209727, \"weighted_count\": 908.0, \"weighted_cumsum\": 161289.0, \"weighted_frac_cumsum\": 0.1892383721339519, \"series_label\": \"promiscuous prok hits\"}, {\"promiscuous hits per KOG\": 927.0, \"count\": 1, \"cumsum\": 1461, \"frac_cumsum\": 0.888145896656535, \"weighted_count\": 927.0, \"weighted_cumsum\": 162216.0, \"weighted_frac_cumsum\": 0.19032600967258237, \"series_label\": \"promiscuous prok hits\"}, {\"promiscuous hits per KOG\": 951.0, \"count\": 1, \"cumsum\": 1462, \"frac_cumsum\": 0.8887537993920973, \"weighted_count\": 951.0, \"weighted_cumsum\": 163167.0, \"weighted_frac_cumsum\": 0.19144180611188938, \"series_label\": \"promiscuous prok hits\"}, {\"promiscuous hits per KOG\": 959.0, \"count\": 1, \"cumsum\": 1463, \"frac_cumsum\": 0.8893617021276595, \"weighted_count\": 959.0, \"weighted_cumsum\": 164126.0, \"weighted_frac_cumsum\": 0.1925669888514219, \"series_label\": \"promiscuous prok hits\"}, {\"promiscuous hits per KOG\": 964.0, \"count\": 1, \"cumsum\": 1464, \"frac_cumsum\": 0.8899696048632219, \"weighted_count\": 964.0, \"weighted_cumsum\": 165090.0, \"weighted_frac_cumsum\": 0.19369803802859537, \"series_label\": \"promiscuous prok hits\"}, {\"promiscuous hits per KOG\": 971.0, \"count\": 1, \"cumsum\": 1465, \"frac_cumsum\": 0.8905775075987842, \"weighted_count\": 971.0, \"weighted_cumsum\": 166061.0, \"weighted_frac_cumsum\": 0.19483730021846613, \"series_label\": \"promiscuous prok hits\"}, {\"promiscuous hits per KOG\": 976.0, \"count\": 1, \"cumsum\": 1466, \"frac_cumsum\": 0.8911854103343465, \"weighted_count\": 976.0, \"weighted_cumsum\": 167037.0, \"weighted_frac_cumsum\": 0.19598242884597786, \"series_label\": \"promiscuous prok hits\"}, {\"promiscuous hits per KOG\": 979.0, \"count\": 1, \"cumsum\": 1467, \"frac_cumsum\": 0.8917933130699088, \"weighted_count\": 979.0, \"weighted_cumsum\": 168016.0, \"weighted_frac_cumsum\": 0.19713107733607413, \"series_label\": \"promiscuous prok hits\"}, {\"promiscuous hits per KOG\": 993.0, \"count\": 1, \"cumsum\": 1468, \"frac_cumsum\": 0.8924012158054712, \"weighted_count\": 993.0, \"weighted_cumsum\": 169009.0, \"weighted_frac_cumsum\": 0.19829615185156504, \"series_label\": \"promiscuous prok hits\"}, {\"promiscuous hits per KOG\": 995.0, \"count\": 1, \"cumsum\": 1469, \"frac_cumsum\": 0.8930091185410335, \"weighted_count\": 995.0, \"weighted_cumsum\": 170004.0, \"weighted_frac_cumsum\": 0.19946357294211234, \"series_label\": \"promiscuous prok hits\"}, {\"promiscuous hits per KOG\": 1008.0, \"count\": 1, \"cumsum\": 1470, \"frac_cumsum\": 0.8936170212765957, \"weighted_count\": 1008.0, \"weighted_cumsum\": 171012.0, \"weighted_frac_cumsum\": 0.2006462467705261, \"series_label\": \"promiscuous prok hits\"}, {\"promiscuous hits per KOG\": 1021.0, \"count\": 2, \"cumsum\": 1472, \"frac_cumsum\": 0.8948328267477204, \"weighted_count\": 2042.0, \"weighted_cumsum\": 173054.0, \"weighted_frac_cumsum\": 0.20304209990308644, \"series_label\": \"promiscuous prok hits\"}, {\"promiscuous hits per KOG\": 1023.0, \"count\": 1, \"cumsum\": 1473, \"frac_cumsum\": 0.8954407294832827, \"weighted_count\": 1023.0, \"weighted_cumsum\": 174077.0, \"weighted_frac_cumsum\": 0.20424237304442303, \"series_label\": \"promiscuous prok hits\"}, {\"promiscuous hits per KOG\": 1034.0, \"count\": 1, \"cumsum\": 1474, \"frac_cumsum\": 0.896048632218845, \"weighted_count\": 1034.0, \"weighted_cumsum\": 175111.0, \"weighted_frac_cumsum\": 0.20545555234856966, \"series_label\": \"promiscuous prok hits\"}, {\"promiscuous hits per KOG\": 1054.0, \"count\": 1, \"cumsum\": 1475, \"frac_cumsum\": 0.8966565349544073, \"weighted_count\": 1054.0, \"weighted_cumsum\": 176165.0, \"weighted_frac_cumsum\": 0.20669219740328004, \"series_label\": \"promiscuous prok hits\"}, {\"promiscuous hits per KOG\": 1056.0, \"count\": 1, \"cumsum\": 1476, \"frac_cumsum\": 0.8972644376899696, \"weighted_count\": 1056.0, \"weighted_cumsum\": 177221.0, \"weighted_frac_cumsum\": 0.2079311890330468, \"series_label\": \"promiscuous prok hits\"}, {\"promiscuous hits per KOG\": 1059.0, \"count\": 1, \"cumsum\": 1477, \"frac_cumsum\": 0.8978723404255319, \"weighted_count\": 1059.0, \"weighted_cumsum\": 178280.0, \"weighted_frac_cumsum\": 0.20917370052539816, \"series_label\": \"promiscuous prok hits\"}, {\"promiscuous hits per KOG\": 1068.0, \"count\": 1, \"cumsum\": 1478, \"frac_cumsum\": 0.8984802431610942, \"weighted_count\": 1068.0, \"weighted_cumsum\": 179348.0, \"weighted_frac_cumsum\": 0.2104267716055032, \"series_label\": \"promiscuous prok hits\"}, {\"promiscuous hits per KOG\": 1072.0, \"count\": 1, \"cumsum\": 1479, \"frac_cumsum\": 0.8990881458966565, \"weighted_count\": 1072.0, \"weighted_cumsum\": 180420.0, \"weighted_frac_cumsum\": 0.21168453583572097, \"series_label\": \"promiscuous prok hits\"}, {\"promiscuous hits per KOG\": 1089.0, \"count\": 1, \"cumsum\": 1480, \"frac_cumsum\": 0.8996960486322189, \"weighted_count\": 1089.0, \"weighted_cumsum\": 181509.0, \"weighted_frac_cumsum\": 0.21296224595391797, \"series_label\": \"promiscuous prok hits\"}, {\"promiscuous hits per KOG\": 1093.0, \"count\": 1, \"cumsum\": 1481, \"frac_cumsum\": 0.9003039513677812, \"weighted_count\": 1093.0, \"weighted_cumsum\": 182602.0, \"weighted_frac_cumsum\": 0.2142446492222277, \"series_label\": \"promiscuous prok hits\"}, {\"promiscuous hits per KOG\": 1121.0, \"count\": 1, \"cumsum\": 1482, \"frac_cumsum\": 0.9009118541033435, \"weighted_count\": 1121.0, \"weighted_cumsum\": 183723.0, \"weighted_frac_cumsum\": 0.2155599045413267, \"series_label\": \"promiscuous prok hits\"}, {\"promiscuous hits per KOG\": 1150.0, \"count\": 1, \"cumsum\": 1483, \"frac_cumsum\": 0.9015197568389057, \"weighted_count\": 1150.0, \"weighted_cumsum\": 184873.0, \"weighted_frac_cumsum\": 0.21690918519874317, \"series_label\": \"promiscuous prok hits\"}, {\"promiscuous hits per KOG\": 1159.0, \"count\": 1, \"cumsum\": 1484, \"frac_cumsum\": 0.902127659574468, \"weighted_count\": 1159.0, \"weighted_cumsum\": 186032.0, \"weighted_frac_cumsum\": 0.21826902544391333, \"series_label\": \"promiscuous prok hits\"}, {\"promiscuous hits per KOG\": 1179.0, \"count\": 1, \"cumsum\": 1485, \"frac_cumsum\": 0.9027355623100304, \"weighted_count\": 1179.0, \"weighted_cumsum\": 187211.0, \"weighted_frac_cumsum\": 0.21965233143964727, \"series_label\": \"promiscuous prok hits\"}, {\"promiscuous hits per KOG\": 1193.0, \"count\": 1, \"cumsum\": 1486, \"frac_cumsum\": 0.9033434650455927, \"weighted_count\": 1193.0, \"weighted_cumsum\": 188404.0, \"weighted_frac_cumsum\": 0.22105206346077583, \"series_label\": \"promiscuous prok hits\"}, {\"promiscuous hits per KOG\": 1194.0, \"count\": 1, \"cumsum\": 1487, \"frac_cumsum\": 0.903951367781155, \"weighted_count\": 1194.0, \"weighted_cumsum\": 189598.0, \"weighted_frac_cumsum\": 0.22245296876943257, \"series_label\": \"promiscuous prok hits\"}, {\"promiscuous hits per KOG\": 1196.0, \"count\": 1, \"cumsum\": 1488, \"frac_cumsum\": 0.9045592705167174, \"weighted_count\": 1196.0, \"weighted_cumsum\": 190794.0, \"weighted_frac_cumsum\": 0.2238562206531457, \"series_label\": \"promiscuous prok hits\"}, {\"promiscuous hits per KOG\": 1202.0, \"count\": 1, \"cumsum\": 1489, \"frac_cumsum\": 0.9051671732522797, \"weighted_count\": 1202.0, \"weighted_cumsum\": 191996.0, \"weighted_frac_cumsum\": 0.22526651226202796, \"series_label\": \"promiscuous prok hits\"}, {\"promiscuous hits per KOG\": 1210.0, \"count\": 1, \"cumsum\": 1490, \"frac_cumsum\": 0.9057750759878419, \"weighted_count\": 1210.0, \"weighted_cumsum\": 193206.0, \"weighted_frac_cumsum\": 0.22668619017113573, \"series_label\": \"promiscuous prok hits\"}, {\"promiscuous hits per KOG\": 1218.0, \"count\": 1, \"cumsum\": 1491, \"frac_cumsum\": 0.9063829787234042, \"weighted_count\": 1218.0, \"weighted_cumsum\": 194424.0, \"weighted_frac_cumsum\": 0.22811525438046898, \"series_label\": \"promiscuous prok hits\"}, {\"promiscuous hits per KOG\": 1226.0, \"count\": 1, \"cumsum\": 1492, \"frac_cumsum\": 0.9069908814589666, \"weighted_count\": 1226.0, \"weighted_cumsum\": 195650.0, \"weighted_frac_cumsum\": 0.22955370489002777, \"series_label\": \"promiscuous prok hits\"}, {\"promiscuous hits per KOG\": 1231.0, \"count\": 1, \"cumsum\": 1493, \"frac_cumsum\": 0.9075987841945289, \"weighted_count\": 1231.0, \"weighted_cumsum\": 196881.0, \"weighted_frac_cumsum\": 0.23099802183722748, \"series_label\": \"promiscuous prok hits\"}, {\"promiscuous hits per KOG\": 1238.0, \"count\": 1, \"cumsum\": 1494, \"frac_cumsum\": 0.9082066869300912, \"weighted_count\": 1238.0, \"weighted_cumsum\": 198119.0, \"weighted_frac_cumsum\": 0.2324505517971245, \"series_label\": \"promiscuous prok hits\"}, {\"promiscuous hits per KOG\": 1265.0, \"count\": 1, \"cumsum\": 1495, \"frac_cumsum\": 0.9088145896656535, \"weighted_count\": 1265.0, \"weighted_cumsum\": 199384.0, \"weighted_frac_cumsum\": 0.23393476052028261, \"series_label\": \"promiscuous prok hits\"}, {\"promiscuous hits per KOG\": 1267.0, \"count\": 1, \"cumsum\": 1496, \"frac_cumsum\": 0.9094224924012158, \"weighted_count\": 1267.0, \"weighted_cumsum\": 200651.0, \"weighted_frac_cumsum\": 0.23542131581849712, \"series_label\": \"promiscuous prok hits\"}, {\"promiscuous hits per KOG\": 1269.0, \"count\": 1, \"cumsum\": 1497, \"frac_cumsum\": 0.9100303951367781, \"weighted_count\": 1269.0, \"weighted_cumsum\": 201920.0, \"weighted_frac_cumsum\": 0.23691021769176798, \"series_label\": \"promiscuous prok hits\"}, {\"promiscuous hits per KOG\": 1273.0, \"count\": 1, \"cumsum\": 1498, \"frac_cumsum\": 0.9106382978723404, \"weighted_count\": 1273.0, \"weighted_cumsum\": 203193.0, \"weighted_frac_cumsum\": 0.2384038127151516, \"series_label\": \"promiscuous prok hits\"}, {\"promiscuous hits per KOG\": 1279.0, \"count\": 1, \"cumsum\": 1499, \"frac_cumsum\": 0.9112462006079027, \"weighted_count\": 1279.0, \"weighted_cumsum\": 204472.0, \"weighted_frac_cumsum\": 0.23990444746370435, \"series_label\": \"promiscuous prok hits\"}, {\"promiscuous hits per KOG\": 1290.0, \"count\": 1, \"cumsum\": 1500, \"frac_cumsum\": 0.9118541033434651, \"weighted_count\": 1290.0, \"weighted_cumsum\": 205762.0, \"weighted_frac_cumsum\": 0.24141798837506717, \"series_label\": \"promiscuous prok hits\"}, {\"promiscuous hits per KOG\": 1303.0, \"count\": 1, \"cumsum\": 1501, \"frac_cumsum\": 0.9124620060790274, \"weighted_count\": 1303.0, \"weighted_cumsum\": 207065.0, \"weighted_frac_cumsum\": 0.24294678202429643, \"series_label\": \"promiscuous prok hits\"}, {\"promiscuous hits per KOG\": 1313.0, \"count\": 1, \"cumsum\": 1502, \"frac_cumsum\": 0.9130699088145897, \"weighted_count\": 1313.0, \"weighted_cumsum\": 208378.0, \"weighted_frac_cumsum\": 0.2444873085488076, \"series_label\": \"promiscuous prok hits\"}, {\"promiscuous hits per KOG\": 1322.0, \"count\": 1, \"cumsum\": 1503, \"frac_cumsum\": 0.9136778115501519, \"weighted_count\": 1322.0, \"weighted_cumsum\": 209700.0, \"weighted_frac_cumsum\": 0.24603839466107244, \"series_label\": \"promiscuous prok hits\"}, {\"promiscuous hits per KOG\": 1345.0, \"count\": 1, \"cumsum\": 1504, \"frac_cumsum\": 0.9142857142857143, \"weighted_count\": 1345.0, \"weighted_cumsum\": 211045.0, \"weighted_frac_cumsum\": 0.2476164663864856, \"series_label\": \"promiscuous prok hits\"}, {\"promiscuous hits per KOG\": 1356.0, \"count\": 1, \"cumsum\": 1505, \"frac_cumsum\": 0.9148936170212766, \"weighted_count\": 1356.0, \"weighted_cumsum\": 212401.0, \"weighted_frac_cumsum\": 0.24920744427470884, \"series_label\": \"promiscuous prok hits\"}, {\"promiscuous hits per KOG\": 1357.0, \"count\": 1, \"cumsum\": 1506, \"frac_cumsum\": 0.9155015197568389, \"weighted_count\": 1357.0, \"weighted_cumsum\": 213758.0, \"weighted_frac_cumsum\": 0.25079959545046027, \"series_label\": \"promiscuous prok hits\"}, {\"promiscuous hits per KOG\": 1364.0, \"count\": 1, \"cumsum\": 1507, \"frac_cumsum\": 0.9161094224924012, \"weighted_count\": 1364.0, \"weighted_cumsum\": 215122.0, \"weighted_frac_cumsum\": 0.25239995963890904, \"series_label\": \"promiscuous prok hits\"}, {\"promiscuous hits per KOG\": 1366.0, \"count\": 1, \"cumsum\": 1508, \"frac_cumsum\": 0.9167173252279636, \"weighted_count\": 1366.0, \"weighted_cumsum\": 216488.0, \"weighted_frac_cumsum\": 0.25400267040241414, \"series_label\": \"promiscuous prok hits\"}, {\"promiscuous hits per KOG\": 1368.0, \"count\": 1, \"cumsum\": 1509, \"frac_cumsum\": 0.9173252279635259, \"weighted_count\": 1368.0, \"weighted_cumsum\": 217856.0, \"weighted_frac_cumsum\": 0.2556077277409757, \"series_label\": \"promiscuous prok hits\"}, {\"promiscuous hits per KOG\": 1374.0, \"count\": 1, \"cumsum\": 1510, \"frac_cumsum\": 0.9179331306990881, \"weighted_count\": 1374.0, \"weighted_cumsum\": 219230.0, \"weighted_frac_cumsum\": 0.2572198248047063, \"series_label\": \"promiscuous prok hits\"}, {\"promiscuous hits per KOG\": 1405.0, \"count\": 1, \"cumsum\": 1511, \"frac_cumsum\": 0.9185410334346504, \"weighted_count\": 1405.0, \"weighted_cumsum\": 220635.0, \"weighted_frac_cumsum\": 0.25886829378181075, \"series_label\": \"promiscuous prok hits\"}, {\"promiscuous hits per KOG\": 1417.0, \"count\": 1, \"cumsum\": 1512, \"frac_cumsum\": 0.9191489361702128, \"weighted_count\": 1417.0, \"weighted_cumsum\": 222052.0, \"weighted_frac_cumsum\": 0.2605308422092535, \"series_label\": \"promiscuous prok hits\"}, {\"promiscuous hits per KOG\": 1418.0, \"count\": 2, \"cumsum\": 1514, \"frac_cumsum\": 0.9203647416413374, \"weighted_count\": 2836.0, \"weighted_cumsum\": 224888.0, \"weighted_frac_cumsum\": 0.26385828563919533, \"series_label\": \"promiscuous prok hits\"}, {\"promiscuous hits per KOG\": 1421.0, \"count\": 1, \"cumsum\": 1515, \"frac_cumsum\": 0.9209726443768997, \"weighted_count\": 1421.0, \"weighted_cumsum\": 226309.0, \"weighted_frac_cumsum\": 0.26552552721675077, \"series_label\": \"promiscuous prok hits\"}, {\"promiscuous hits per KOG\": 1422.0, \"count\": 1, \"cumsum\": 1516, \"frac_cumsum\": 0.921580547112462, \"weighted_count\": 1422.0, \"weighted_cumsum\": 227731.0, \"weighted_frac_cumsum\": 0.26719394208183445, \"series_label\": \"promiscuous prok hits\"}, {\"promiscuous hits per KOG\": 1428.0, \"count\": 1, \"cumsum\": 1517, \"frac_cumsum\": 0.9221884498480243, \"weighted_count\": 1428.0, \"weighted_cumsum\": 229159.0, \"weighted_frac_cumsum\": 0.26886939667208726, \"series_label\": \"promiscuous prok hits\"}, {\"promiscuous hits per KOG\": 1441.0, \"count\": 1, \"cumsum\": 1518, \"frac_cumsum\": 0.9227963525835866, \"weighted_count\": 1441.0, \"weighted_cumsum\": 230600.0, \"weighted_frac_cumsum\": 0.2705601040002065, \"series_label\": \"promiscuous prok hits\"}, {\"promiscuous hits per KOG\": 1442.0, \"count\": 1, \"cumsum\": 1519, \"frac_cumsum\": 0.9234042553191489, \"weighted_count\": 1442.0, \"weighted_cumsum\": 232042.0, \"weighted_frac_cumsum\": 0.2722519846158539, \"series_label\": \"promiscuous prok hits\"}, {\"promiscuous hits per KOG\": 1451.0, \"count\": 2, \"cumsum\": 1521, \"frac_cumsum\": 0.9246200607902736, \"weighted_count\": 2902.0, \"weighted_cumsum\": 234944.0, \"weighted_frac_cumsum\": 0.2756568650226562, \"series_label\": \"promiscuous prok hits\"}, {\"promiscuous hits per KOG\": 1496.0, \"count\": 1, \"cumsum\": 1522, \"frac_cumsum\": 0.9252279635258359, \"weighted_count\": 1496.0, \"weighted_cumsum\": 236440.0, \"weighted_frac_cumsum\": 0.2774121031648258, \"series_label\": \"promiscuous prok hits\"}, {\"promiscuous hits per KOG\": 1509.0, \"count\": 1, \"cumsum\": 1523, \"frac_cumsum\": 0.9258358662613981, \"weighted_count\": 1509.0, \"weighted_cumsum\": 237949.0, \"weighted_frac_cumsum\": 0.27918259404486184, \"series_label\": \"promiscuous prok hits\"}, {\"promiscuous hits per KOG\": 1532.0, \"count\": 1, \"cumsum\": 1524, \"frac_cumsum\": 0.9264437689969605, \"weighted_count\": 1532.0, \"weighted_cumsum\": 239481.0, \"weighted_frac_cumsum\": 0.2809800705380462, \"series_label\": \"promiscuous prok hits\"}, {\"promiscuous hits per KOG\": 1551.0, \"count\": 1, \"cumsum\": 1525, \"frac_cumsum\": 0.9270516717325228, \"weighted_count\": 1551.0, \"weighted_cumsum\": 241032.0, \"weighted_frac_cumsum\": 0.2827998394942661, \"series_label\": \"promiscuous prok hits\"}, {\"promiscuous hits per KOG\": 1555.0, \"count\": 1, \"cumsum\": 1526, \"frac_cumsum\": 0.9276595744680851, \"weighted_count\": 1555.0, \"weighted_cumsum\": 242587.0, \"weighted_frac_cumsum\": 0.2846243016005989, \"series_label\": \"promiscuous prok hits\"}, {\"promiscuous hits per KOG\": 1557.0, \"count\": 1, \"cumsum\": 1527, \"frac_cumsum\": 0.9282674772036474, \"weighted_count\": 1557.0, \"weighted_cumsum\": 244144.0, \"weighted_frac_cumsum\": 0.28645111028198794, \"series_label\": \"promiscuous prok hits\"}, {\"promiscuous hits per KOG\": 1580.0, \"count\": 1, \"cumsum\": 1528, \"frac_cumsum\": 0.9288753799392098, \"weighted_count\": 1580.0, \"weighted_cumsum\": 245724.0, \"weighted_frac_cumsum\": 0.28830490457652536, \"series_label\": \"promiscuous prok hits\"}, {\"promiscuous hits per KOG\": 1607.0, \"count\": 1, \"cumsum\": 1529, \"frac_cumsum\": 0.929483282674772, \"weighted_count\": 1607.0, \"weighted_cumsum\": 247331.0, \"weighted_frac_cumsum\": 0.2901903776343238, \"series_label\": \"promiscuous prok hits\"}, {\"promiscuous hits per KOG\": 1623.0, \"count\": 1, \"cumsum\": 1530, \"frac_cumsum\": 0.9300911854103343, \"weighted_count\": 1623.0, \"weighted_cumsum\": 248954.0, \"weighted_frac_cumsum\": 0.29209462329257335, \"series_label\": \"promiscuous prok hits\"}, {\"promiscuous hits per KOG\": 1630.0, \"count\": 1, \"cumsum\": 1531, \"frac_cumsum\": 0.9306990881458966, \"weighted_count\": 1630.0, \"weighted_cumsum\": 250584.0, \"weighted_frac_cumsum\": 0.29400708196352016, \"series_label\": \"promiscuous prok hits\"}, {\"promiscuous hits per KOG\": 1640.0, \"count\": 1, \"cumsum\": 1532, \"frac_cumsum\": 0.931306990881459, \"weighted_count\": 1640.0, \"weighted_cumsum\": 252224.0, \"weighted_frac_cumsum\": 0.29593127350974885, \"series_label\": \"promiscuous prok hits\"}, {\"promiscuous hits per KOG\": 1641.0, \"count\": 1, \"cumsum\": 1533, \"frac_cumsum\": 0.9319148936170213, \"weighted_count\": 1641.0, \"weighted_cumsum\": 253865.0, \"weighted_frac_cumsum\": 0.29785663834350573, \"series_label\": \"promiscuous prok hits\"}, {\"promiscuous hits per KOG\": 1664.0, \"count\": 1, \"cumsum\": 1534, \"frac_cumsum\": 0.9325227963525836, \"weighted_count\": 1664.0, \"weighted_cumsum\": 255529.0, \"weighted_frac_cumsum\": 0.29980898879041096, \"series_label\": \"promiscuous prok hits\"}, {\"promiscuous hits per KOG\": 1677.0, \"count\": 1, \"cumsum\": 1535, \"frac_cumsum\": 0.9331306990881459, \"weighted_count\": 1677.0, \"weighted_cumsum\": 257206.0, \"weighted_frac_cumsum\": 0.30177659197518264, \"series_label\": \"promiscuous prok hits\"}, {\"promiscuous hits per KOG\": 1750.0, \"count\": 1, \"cumsum\": 1536, \"frac_cumsum\": 0.9337386018237082, \"weighted_count\": 1750.0, \"weighted_cumsum\": 258956.0, \"weighted_frac_cumsum\": 0.30382984514951206, \"series_label\": \"promiscuous prok hits\"}, {\"promiscuous hits per KOG\": 1791.0, \"count\": 1, \"cumsum\": 1537, \"frac_cumsum\": 0.9343465045592705, \"weighted_count\": 1791.0, \"weighted_cumsum\": 260747.0, \"weighted_frac_cumsum\": 0.30593120311249716, \"series_label\": \"promiscuous prok hits\"}, {\"promiscuous hits per KOG\": 1798.0, \"count\": 1, \"cumsum\": 1538, \"frac_cumsum\": 0.9349544072948328, \"weighted_count\": 1798.0, \"weighted_cumsum\": 262545.0, \"weighted_frac_cumsum\": 0.3080407740881796, \"series_label\": \"promiscuous prok hits\"}, {\"promiscuous hits per KOG\": 1838.0, \"count\": 1, \"cumsum\": 1539, \"frac_cumsum\": 0.9355623100303951, \"weighted_count\": 1838.0, \"weighted_cumsum\": 264383.0, \"weighted_frac_cumsum\": 0.3101972765649896, \"series_label\": \"promiscuous prok hits\"}, {\"promiscuous hits per KOG\": 1839.0, \"count\": 1, \"cumsum\": 1540, \"frac_cumsum\": 0.9361702127659575, \"weighted_count\": 1839.0, \"weighted_cumsum\": 266222.0, \"weighted_frac_cumsum\": 0.31235495232932775, \"series_label\": \"promiscuous prok hits\"}, {\"promiscuous hits per KOG\": 1865.0, \"count\": 1, \"cumsum\": 1541, \"frac_cumsum\": 0.9367781155015198, \"weighted_count\": 1865.0, \"weighted_cumsum\": 268087.0, \"weighted_frac_cumsum\": 0.3145431335693988, \"series_label\": \"promiscuous prok hits\"}, {\"promiscuous hits per KOG\": 1940.0, \"count\": 1, \"cumsum\": 1542, \"frac_cumsum\": 0.9373860182370821, \"weighted_count\": 1940.0, \"weighted_cumsum\": 270027.0, \"weighted_frac_cumsum\": 0.316819311374084, \"series_label\": \"promiscuous prok hits\"}, {\"promiscuous hits per KOG\": 1955.0, \"count\": 1, \"cumsum\": 1543, \"frac_cumsum\": 0.9379939209726443, \"weighted_count\": 1955.0, \"weighted_cumsum\": 271982.0, \"weighted_frac_cumsum\": 0.31911308849169195, \"series_label\": \"promiscuous prok hits\"}, {\"promiscuous hits per KOG\": 1974.0, \"count\": 1, \"cumsum\": 1544, \"frac_cumsum\": 0.9386018237082067, \"weighted_count\": 1974.0, \"weighted_cumsum\": 273956.0, \"weighted_frac_cumsum\": 0.3214291580723355, \"series_label\": \"promiscuous prok hits\"}, {\"promiscuous hits per KOG\": 1976.0, \"count\": 1, \"cumsum\": 1545, \"frac_cumsum\": 0.939209726443769, \"weighted_count\": 1976.0, \"weighted_cumsum\": 275932.0, \"weighted_frac_cumsum\": 0.32374757422803546, \"series_label\": \"promiscuous prok hits\"}, {\"promiscuous hits per KOG\": 1977.0, \"count\": 1, \"cumsum\": 1546, \"frac_cumsum\": 0.9398176291793313, \"weighted_count\": 1977.0, \"weighted_cumsum\": 277909.0, \"weighted_frac_cumsum\": 0.3260671636712636, \"series_label\": \"promiscuous prok hits\"}, {\"promiscuous hits per KOG\": 1998.0, \"count\": 1, \"cumsum\": 1547, \"frac_cumsum\": 0.9404255319148936, \"weighted_count\": 1998.0, \"weighted_cumsum\": 279907.0, \"weighted_frac_cumsum\": 0.3284113921525837, \"series_label\": \"promiscuous prok hits\"}, {\"promiscuous hits per KOG\": 2005.0, \"count\": 2, \"cumsum\": 1549, \"frac_cumsum\": 0.9416413373860182, \"weighted_count\": 4010.0, \"weighted_cumsum\": 283917.0, \"weighted_frac_cumsum\": 0.33311627514061853, \"series_label\": \"promiscuous prok hits\"}, {\"promiscuous hits per KOG\": 2007.0, \"count\": 1, \"cumsum\": 1550, \"frac_cumsum\": 0.9422492401215805, \"weighted_count\": 2007.0, \"weighted_cumsum\": 285924.0, \"weighted_frac_cumsum\": 0.3354710632096923, \"series_label\": \"promiscuous prok hits\"}, {\"promiscuous hits per KOG\": 2008.0, \"count\": 1, \"cumsum\": 1551, \"frac_cumsum\": 0.9428571428571428, \"weighted_count\": 2008.0, \"weighted_cumsum\": 287932.0, \"weighted_frac_cumsum\": 0.33782702456629427, \"series_label\": \"promiscuous prok hits\"}, {\"promiscuous hits per KOG\": 2022.0, \"count\": 1, \"cumsum\": 1552, \"frac_cumsum\": 0.9434650455927052, \"weighted_count\": 2022.0, \"weighted_cumsum\": 289954.0, \"weighted_frac_cumsum\": 0.3401994119482909, \"series_label\": \"promiscuous prok hits\"}, {\"promiscuous hits per KOG\": 2038.0, \"count\": 1, \"cumsum\": 1553, \"frac_cumsum\": 0.9440729483282675, \"weighted_count\": 2038.0, \"weighted_cumsum\": 291992.0, \"weighted_frac_cumsum\": 0.3425905719307385, \"series_label\": \"promiscuous prok hits\"}, {\"promiscuous hits per KOG\": 2050.0, \"count\": 1, \"cumsum\": 1554, \"frac_cumsum\": 0.9446808510638298, \"weighted_count\": 2050.0, \"weighted_cumsum\": 294042.0, \"weighted_frac_cumsum\": 0.34499581136352436, \"series_label\": \"promiscuous prok hits\"}, {\"promiscuous hits per KOG\": 2062.0, \"count\": 1, \"cumsum\": 1555, \"frac_cumsum\": 0.9452887537993921, \"weighted_count\": 2062.0, \"weighted_cumsum\": 296104.0, \"weighted_frac_cumsum\": 0.3474151302466485, \"series_label\": \"promiscuous prok hits\"}, {\"promiscuous hits per KOG\": 2063.0, \"count\": 1, \"cumsum\": 1556, \"frac_cumsum\": 0.9458966565349544, \"weighted_count\": 2063.0, \"weighted_cumsum\": 298167.0, \"weighted_frac_cumsum\": 0.3498356224173008, \"series_label\": \"promiscuous prok hits\"}, {\"promiscuous hits per KOG\": 2077.0, \"count\": 1, \"cumsum\": 1557, \"frac_cumsum\": 0.9465045592705167, \"weighted_count\": 2077.0, \"weighted_cumsum\": 300244.0, \"weighted_frac_cumsum\": 0.3522725406133478, \"series_label\": \"promiscuous prok hits\"}, {\"promiscuous hits per KOG\": 2080.0, \"count\": 1, \"cumsum\": 1558, \"frac_cumsum\": 0.947112462006079, \"weighted_count\": 2080.0, \"weighted_cumsum\": 302324.0, \"weighted_frac_cumsum\": 0.3547129786719793, \"series_label\": \"promiscuous prok hits\"}, {\"promiscuous hits per KOG\": 2083.0, \"count\": 1, \"cumsum\": 1559, \"frac_cumsum\": 0.9477203647416413, \"weighted_count\": 2083.0, \"weighted_cumsum\": 304407.0, \"weighted_frac_cumsum\": 0.3571569365931954, \"series_label\": \"promiscuous prok hits\"}, {\"promiscuous hits per KOG\": 2090.0, \"count\": 1, \"cumsum\": 1560, \"frac_cumsum\": 0.9483282674772037, \"weighted_count\": 2090.0, \"weighted_cumsum\": 306497.0, \"weighted_frac_cumsum\": 0.3596091075271088, \"series_label\": \"promiscuous prok hits\"}, {\"promiscuous hits per KOG\": 2091.0, \"count\": 1, \"cumsum\": 1561, \"frac_cumsum\": 0.948936170212766, \"weighted_count\": 2091.0, \"weighted_cumsum\": 308588.0, \"weighted_frac_cumsum\": 0.3620624517485504, \"series_label\": \"promiscuous prok hits\"}, {\"promiscuous hits per KOG\": 2095.0, \"count\": 1, \"cumsum\": 1562, \"frac_cumsum\": 0.9495440729483283, \"weighted_count\": 2095.0, \"weighted_cumsum\": 310683.0, \"weighted_frac_cumsum\": 0.36452048912010476, \"series_label\": \"promiscuous prok hits\"}, {\"promiscuous hits per KOG\": 2151.0, \"count\": 1, \"cumsum\": 1563, \"frac_cumsum\": 0.9501519756838905, \"weighted_count\": 2151.0, \"weighted_cumsum\": 312834.0, \"weighted_frac_cumsum\": 0.36704423059323765, \"series_label\": \"promiscuous prok hits\"}, {\"promiscuous hits per KOG\": 2154.0, \"count\": 1, \"cumsum\": 1564, \"frac_cumsum\": 0.9507598784194529, \"weighted_count\": 2154.0, \"weighted_cumsum\": 314988.0, \"weighted_frac_cumsum\": 0.3695714919289551, \"series_label\": \"promiscuous prok hits\"}, {\"promiscuous hits per KOG\": 2191.0, \"count\": 1, \"cumsum\": 1565, \"frac_cumsum\": 0.9513677811550152, \"weighted_count\": 2191.0, \"weighted_cumsum\": 317179.0, \"weighted_frac_cumsum\": 0.3721421649032155, \"series_label\": \"promiscuous prok hits\"}, {\"promiscuous hits per KOG\": 2207.0, \"count\": 1, \"cumsum\": 1566, \"frac_cumsum\": 0.9519756838905775, \"weighted_count\": 2207.0, \"weighted_cumsum\": 319386.0, \"weighted_frac_cumsum\": 0.37473161047792697, \"series_label\": \"promiscuous prok hits\"}, {\"promiscuous hits per KOG\": 2243.0, \"count\": 1, \"cumsum\": 1567, \"frac_cumsum\": 0.9525835866261398, \"weighted_count\": 2243.0, \"weighted_cumsum\": 321629.0, \"weighted_frac_cumsum\": 0.3773632944036531, \"series_label\": \"promiscuous prok hits\"}, {\"promiscuous hits per KOG\": 2274.0, \"count\": 1, \"cumsum\": 1568, \"frac_cumsum\": 0.9531914893617022, \"weighted_count\": 2274.0, \"weighted_cumsum\": 323903.0, \"weighted_frac_cumsum\": 0.3800313502427532, \"series_label\": \"promiscuous prok hits\"}, {\"promiscuous hits per KOG\": 2316.0, \"count\": 1, \"cumsum\": 1569, \"frac_cumsum\": 0.9537993920972644, \"weighted_count\": 2316.0, \"weighted_cumsum\": 326219.0, \"weighted_frac_cumsum\": 0.38274868415803714, \"series_label\": \"promiscuous prok hits\"}, {\"promiscuous hits per KOG\": 2329.0, \"count\": 1, \"cumsum\": 1570, \"frac_cumsum\": 0.9544072948328267, \"weighted_count\": 2329.0, \"weighted_cumsum\": 328548.0, \"weighted_frac_cumsum\": 0.38548127081118755, \"series_label\": \"promiscuous prok hits\"}, {\"promiscuous hits per KOG\": 2340.0, \"count\": 1, \"cumsum\": 1571, \"frac_cumsum\": 0.955015197568389, \"weighted_count\": 2340.0, \"weighted_cumsum\": 330888.0, \"weighted_frac_cumsum\": 0.388226763627148, \"series_label\": \"promiscuous prok hits\"}, {\"promiscuous hits per KOG\": 2365.0, \"count\": 1, \"cumsum\": 1572, \"frac_cumsum\": 0.9556231003039514, \"weighted_count\": 2365.0, \"weighted_cumsum\": 333253.0, \"weighted_frac_cumsum\": 0.3910015886313132, \"series_label\": \"promiscuous prok hits\"}, {\"promiscuous hits per KOG\": 2370.0, \"count\": 1, \"cumsum\": 1573, \"frac_cumsum\": 0.9562310030395137, \"weighted_count\": 2370.0, \"weighted_cumsum\": 335623.0, \"weighted_frac_cumsum\": 0.3937822800731193, \"series_label\": \"promiscuous prok hits\"}, {\"promiscuous hits per KOG\": 2392.0, \"count\": 1, \"cumsum\": 1574, \"frac_cumsum\": 0.956838905775076, \"weighted_count\": 2392.0, \"weighted_cumsum\": 338015.0, \"weighted_frac_cumsum\": 0.3965887838405455, \"series_label\": \"promiscuous prok hits\"}, {\"promiscuous hits per KOG\": 2393.0, \"count\": 1, \"cumsum\": 1575, \"frac_cumsum\": 0.9574468085106383, \"weighted_count\": 2393.0, \"weighted_cumsum\": 340408.0, \"weighted_frac_cumsum\": 0.39939646089549996, \"series_label\": \"promiscuous prok hits\"}, {\"promiscuous hits per KOG\": 2398.0, \"count\": 1, \"cumsum\": 1576, \"frac_cumsum\": 0.9580547112462006, \"weighted_count\": 2398.0, \"weighted_cumsum\": 342806.0, \"weighted_frac_cumsum\": 0.40221000438809534, \"series_label\": \"promiscuous prok hits\"}, {\"promiscuous hits per KOG\": 2428.0, \"count\": 1, \"cumsum\": 1577, \"frac_cumsum\": 0.9586626139817629, \"weighted_count\": 2428.0, \"weighted_cumsum\": 345234.0, \"weighted_frac_cumsum\": 0.4050587465065364, \"series_label\": \"promiscuous prok hits\"}, {\"promiscuous hits per KOG\": 2584.0, \"count\": 1, \"cumsum\": 1578, \"frac_cumsum\": 0.9592705167173252, \"weighted_count\": 2584.0, \"weighted_cumsum\": 347818.0, \"weighted_frac_cumsum\": 0.4080905214793748, \"series_label\": \"promiscuous prok hits\"}, {\"promiscuous hits per KOG\": 2679.0, \"count\": 1, \"cumsum\": 1579, \"frac_cumsum\": 0.9598784194528875, \"weighted_count\": 2679.0, \"weighted_cumsum\": 350497.0, \"weighted_frac_cumsum\": 0.41123375876739104, \"series_label\": \"promiscuous prok hits\"}, {\"promiscuous hits per KOG\": 2701.0, \"count\": 1, \"cumsum\": 1580, \"frac_cumsum\": 0.9604863221884499, \"weighted_count\": 2701.0, \"weighted_cumsum\": 353198.0, \"weighted_frac_cumsum\": 0.4144028083810275, \"series_label\": \"promiscuous prok hits\"}, {\"promiscuous hits per KOG\": 2739.0, \"count\": 1, \"cumsum\": 1581, \"frac_cumsum\": 0.9610942249240122, \"weighted_count\": 2739.0, \"weighted_cumsum\": 355937.0, \"weighted_frac_cumsum\": 0.417616442920735, \"series_label\": \"promiscuous prok hits\"}, {\"promiscuous hits per KOG\": 2751.0, \"count\": 1, \"cumsum\": 1582, \"frac_cumsum\": 0.9617021276595744, \"weighted_count\": 2751.0, \"weighted_cumsum\": 358688.0, \"weighted_frac_cumsum\": 0.42084415691078086, \"series_label\": \"promiscuous prok hits\"}, {\"promiscuous hits per KOG\": 2762.0, \"count\": 1, \"cumsum\": 1583, \"frac_cumsum\": 0.9623100303951367, \"weighted_count\": 2762.0, \"weighted_cumsum\": 361450.0, \"weighted_frac_cumsum\": 0.4240847770636368, \"series_label\": \"promiscuous prok hits\"}, {\"promiscuous hits per KOG\": 2781.0, \"count\": 1, \"cumsum\": 1584, \"frac_cumsum\": 0.9629179331306991, \"weighted_count\": 2781.0, \"weighted_cumsum\": 364231.0, \"weighted_frac_cumsum\": 0.42734768967952824, \"series_label\": \"promiscuous prok hits\"}, {\"promiscuous hits per KOG\": 2785.0, \"count\": 1, \"cumsum\": 1585, \"frac_cumsum\": 0.9635258358662614, \"weighted_count\": 2785.0, \"weighted_cumsum\": 367016.0, \"weighted_frac_cumsum\": 0.43061529544553245, \"series_label\": \"promiscuous prok hits\"}, {\"promiscuous hits per KOG\": 2805.0, \"count\": 1, \"cumsum\": 1586, \"frac_cumsum\": 0.9641337386018237, \"weighted_count\": 2805.0, \"weighted_cumsum\": 369821.0, \"weighted_frac_cumsum\": 0.43390636696210044, \"series_label\": \"promiscuous prok hits\"}, {\"promiscuous hits per KOG\": 2838.0, \"count\": 1, \"cumsum\": 1587, \"frac_cumsum\": 0.964741641337386, \"weighted_count\": 2838.0, \"weighted_cumsum\": 372659.0, \"weighted_frac_cumsum\": 0.43723615696709867, \"series_label\": \"promiscuous prok hits\"}, {\"promiscuous hits per KOG\": 2925.0, \"count\": 1, \"cumsum\": 1588, \"frac_cumsum\": 0.9653495440729484, \"weighted_count\": 2925.0, \"weighted_cumsum\": 375584.0, \"weighted_frac_cumsum\": 0.44066802298704927, \"series_label\": \"promiscuous prok hits\"}, {\"promiscuous hits per KOG\": 2978.0, \"count\": 1, \"cumsum\": 1589, \"frac_cumsum\": 0.9659574468085106, \"weighted_count\": 2978.0, \"weighted_cumsum\": 378562.0, \"weighted_frac_cumsum\": 0.4441620732459938, \"series_label\": \"promiscuous prok hits\"}, {\"promiscuous hits per KOG\": 2983.0, \"count\": 1, \"cumsum\": 1590, \"frac_cumsum\": 0.9665653495440729, \"weighted_count\": 2983.0, \"weighted_cumsum\": 381545.0, \"weighted_frac_cumsum\": 0.44766198994257933, \"series_label\": \"promiscuous prok hits\"}, {\"promiscuous hits per KOG\": 3030.0, \"count\": 1, \"cumsum\": 1591, \"frac_cumsum\": 0.9671732522796352, \"weighted_count\": 3030.0, \"weighted_cumsum\": 384575.0, \"weighted_frac_cumsum\": 0.45121705115298966, \"series_label\": \"promiscuous prok hits\"}, {\"promiscuous hits per KOG\": 3034.0, \"count\": 1, \"cumsum\": 1592, \"frac_cumsum\": 0.9677811550151976, \"weighted_count\": 3034.0, \"weighted_cumsum\": 387609.0, \"weighted_frac_cumsum\": 0.45477680551351274, \"series_label\": \"promiscuous prok hits\"}, {\"promiscuous hits per KOG\": 3121.0, \"count\": 1, \"cumsum\": 1593, \"frac_cumsum\": 0.9683890577507599, \"weighted_count\": 3121.0, \"weighted_cumsum\": 390730.0, \"weighted_frac_cumsum\": 0.4584386358889882, \"series_label\": \"promiscuous prok hits\"}, {\"promiscuous hits per KOG\": 3221.0, \"count\": 1, \"cumsum\": 1594, \"frac_cumsum\": 0.9689969604863222, \"weighted_count\": 3221.0, \"weighted_cumsum\": 393951.0, \"weighted_frac_cumsum\": 0.46221779501728255, \"series_label\": \"promiscuous prok hits\"}, {\"promiscuous hits per KOG\": 3269.0, \"count\": 1, \"cumsum\": 1595, \"frac_cumsum\": 0.9696048632218845, \"weighted_count\": 3269.0, \"weighted_cumsum\": 397220.0, \"weighted_frac_cumsum\": 0.46605327194692986, \"series_label\": \"promiscuous prok hits\"}, {\"promiscuous hits per KOG\": 3282.0, \"count\": 1, \"cumsum\": 1596, \"frac_cumsum\": 0.9702127659574468, \"weighted_count\": 3282.0, \"weighted_cumsum\": 400502.0, \"weighted_frac_cumsum\": 0.4699040016144436, \"series_label\": \"promiscuous prok hits\"}, {\"promiscuous hits per KOG\": 3340.0, \"count\": 1, \"cumsum\": 1597, \"frac_cumsum\": 0.9708206686930091, \"weighted_count\": 3340.0, \"weighted_cumsum\": 403842.0, \"weighted_frac_cumsum\": 0.47382278195859234, \"series_label\": \"promiscuous prok hits\"}, {\"promiscuous hits per KOG\": 3358.0, \"count\": 1, \"cumsum\": 1598, \"frac_cumsum\": 0.9714285714285714, \"weighted_count\": 3358.0, \"weighted_cumsum\": 407200.0, \"weighted_frac_cumsum\": 0.4777626814782484, \"series_label\": \"promiscuous prok hits\"}, {\"promiscuous hits per KOG\": 3463.0, \"count\": 1, \"cumsum\": 1599, \"frac_cumsum\": 0.9720364741641337, \"weighted_count\": 3463.0, \"weighted_cumsum\": 410663.0, \"weighted_frac_cumsum\": 0.48182577618836425, \"series_label\": \"promiscuous prok hits\"}, {\"promiscuous hits per KOG\": 3602.0, \"count\": 1, \"cumsum\": 1600, \"frac_cumsum\": 0.9726443768996961, \"weighted_count\": 3602.0, \"weighted_cumsum\": 414265.0, \"weighted_frac_cumsum\": 0.4860519578648983, \"series_label\": \"promiscuous prok hits\"}, {\"promiscuous hits per KOG\": 3645.0, \"count\": 1, \"cumsum\": 1601, \"frac_cumsum\": 0.9732522796352584, \"weighted_count\": 3645.0, \"weighted_cumsum\": 417910.0, \"weighted_frac_cumsum\": 0.4903285909051444, \"series_label\": \"promiscuous prok hits\"}, {\"promiscuous hits per KOG\": 3903.0, \"count\": 1, \"cumsum\": 1602, \"frac_cumsum\": 0.9738601823708206, \"weighted_count\": 3903.0, \"weighted_cumsum\": 421813.0, \"weighted_frac_cumsum\": 0.49490793212766304, \"series_label\": \"promiscuous prok hits\"}, {\"promiscuous hits per KOG\": 3928.0, \"count\": 1, \"cumsum\": 1603, \"frac_cumsum\": 0.9744680851063829, \"weighted_count\": 3928.0, \"weighted_cumsum\": 425741.0, \"weighted_frac_cumsum\": 0.49951660553838645, \"series_label\": \"promiscuous prok hits\"}, {\"promiscuous hits per KOG\": 4047.0, \"count\": 1, \"cumsum\": 1604, \"frac_cumsum\": 0.9750759878419453, \"weighted_count\": 4047.0, \"weighted_cumsum\": 429788.0, \"weighted_frac_cumsum\": 0.5042649001649643, \"series_label\": \"promiscuous prok hits\"}, {\"promiscuous hits per KOG\": 4206.0, \"count\": 2, \"cumsum\": 1606, \"frac_cumsum\": 0.9762917933130699, \"weighted_count\": 8412.0, \"weighted_cumsum\": 438200.0, \"weighted_frac_cumsum\": 0.5141345948520837, \"series_label\": \"promiscuous prok hits\"}, {\"promiscuous hits per KOG\": 4339.0, \"count\": 1, \"cumsum\": 1607, \"frac_cumsum\": 0.9768996960486322, \"weighted_count\": 4339.0, \"weighted_cumsum\": 442539.0, \"weighted_frac_cumsum\": 0.5192254894368924, \"series_label\": \"promiscuous prok hits\"}, {\"promiscuous hits per KOG\": 4394.0, \"count\": 1, \"cumsum\": 1608, \"frac_cumsum\": 0.9775075987841946, \"weighted_count\": 4394.0, \"weighted_cumsum\": 446933.0, \"weighted_frac_cumsum\": 0.5243809148357514, \"series_label\": \"promiscuous prok hits\"}, {\"promiscuous hits per KOG\": 4409.0, \"count\": 1, \"cumsum\": 1609, \"frac_cumsum\": 0.9781155015197568, \"weighted_count\": 4409.0, \"weighted_cumsum\": 451342.0, \"weighted_frac_cumsum\": 0.5295539395475334, \"series_label\": \"promiscuous prok hits\"}, {\"promiscuous hits per KOG\": 4412.0, \"count\": 1, \"cumsum\": 1610, \"frac_cumsum\": 0.9787234042553191, \"weighted_count\": 4412.0, \"weighted_cumsum\": 455754.0, \"weighted_frac_cumsum\": 0.5347304841218998, \"series_label\": \"promiscuous prok hits\"}, {\"promiscuous hits per KOG\": 4551.0, \"count\": 1, \"cumsum\": 1611, \"frac_cumsum\": 0.9793313069908814, \"weighted_count\": 4551.0, \"weighted_cumsum\": 460305.0, \"weighted_frac_cumsum\": 0.5400701156626845, \"series_label\": \"promiscuous prok hits\"}, {\"promiscuous hits per KOG\": 4566.0, \"count\": 1, \"cumsum\": 1612, \"frac_cumsum\": 0.9799392097264438, \"weighted_count\": 4566.0, \"weighted_cumsum\": 464871.0, \"weighted_frac_cumsum\": 0.545427346516392, \"series_label\": \"promiscuous prok hits\"}, {\"promiscuous hits per KOG\": 4598.0, \"count\": 1, \"cumsum\": 1613, \"frac_cumsum\": 0.9805471124620061, \"weighted_count\": 4598.0, \"weighted_cumsum\": 469469.0, \"weighted_frac_cumsum\": 0.5508221225710015, \"series_label\": \"promiscuous prok hits\"}, {\"promiscuous hits per KOG\": 4771.0, \"count\": 1, \"cumsum\": 1614, \"frac_cumsum\": 0.9811550151975684, \"weighted_count\": 4771.0, \"weighted_cumsum\": 474240.0, \"weighted_frac_cumsum\": 0.5564198773679876, \"series_label\": \"promiscuous prok hits\"}, {\"promiscuous hits per KOG\": 4928.0, \"count\": 1, \"cumsum\": 1615, \"frac_cumsum\": 0.9817629179331308, \"weighted_count\": 4928.0, \"weighted_cumsum\": 479168.0, \"weighted_frac_cumsum\": 0.5622018383068992, \"series_label\": \"promiscuous prok hits\"}, {\"promiscuous hits per KOG\": 4995.0, \"count\": 1, \"cumsum\": 1616, \"frac_cumsum\": 0.982370820668693, \"weighted_count\": 4995.0, \"weighted_cumsum\": 484163.0, \"weighted_frac_cumsum\": 0.5680624095101994, \"series_label\": \"promiscuous prok hits\"}, {\"promiscuous hits per KOG\": 5442.0, \"count\": 1, \"cumsum\": 1617, \"frac_cumsum\": 0.9829787234042553, \"weighted_count\": 5442.0, \"weighted_cumsum\": 489605.0, \"weighted_frac_cumsum\": 0.5744474402385997, \"series_label\": \"promiscuous prok hits\"}, {\"promiscuous hits per KOG\": 5638.0, \"count\": 1, \"cumsum\": 1618, \"frac_cumsum\": 0.9835866261398176, \"weighted_count\": 5638.0, \"weighted_cumsum\": 495243.0, \"weighted_frac_cumsum\": 0.581062435322525, \"series_label\": \"promiscuous prok hits\"}, {\"promiscuous hits per KOG\": 5773.0, \"count\": 1, \"cumsum\": 1619, \"frac_cumsum\": 0.98419452887538, \"weighted_count\": 5773.0, \"weighted_cumsum\": 501016.0, \"weighted_frac_cumsum\": 0.5878358242227557, \"series_label\": \"promiscuous prok hits\"}, {\"promiscuous hits per KOG\": 6340.0, \"count\": 1, \"cumsum\": 1620, \"frac_cumsum\": 0.9848024316109423, \"weighted_count\": 6340.0, \"weighted_cumsum\": 507356.0, \"weighted_frac_cumsum\": 0.595274467151469, \"series_label\": \"promiscuous prok hits\"}, {\"promiscuous hits per KOG\": 6403.0, \"count\": 1, \"cumsum\": 1621, \"frac_cumsum\": 0.9854103343465046, \"weighted_count\": 6403.0, \"weighted_cumsum\": 513759.0, \"weighted_frac_cumsum\": 0.6027870271944583, \"series_label\": \"promiscuous prok hits\"}, {\"promiscuous hits per KOG\": 7249.0, \"count\": 1, \"cumsum\": 1622, \"frac_cumsum\": 0.9860182370820668, \"weighted_count\": 7249.0, \"weighted_cumsum\": 521008.0, \"weighted_frac_cumsum\": 0.6112921884862949, \"series_label\": \"promiscuous prok hits\"}, {\"promiscuous hits per KOG\": 7872.0, \"count\": 1, \"cumsum\": 1623, \"frac_cumsum\": 0.9866261398176291, \"weighted_count\": 7872.0, \"weighted_cumsum\": 528880.0, \"weighted_frac_cumsum\": 0.6205283079081926, \"series_label\": \"promiscuous prok hits\"}, {\"promiscuous hits per KOG\": 8028.0, \"count\": 1, \"cumsum\": 1624, \"frac_cumsum\": 0.9872340425531915, \"weighted_count\": 8028.0, \"weighted_cumsum\": 536908.0, \"weighted_frac_cumsum\": 0.6299474601844878, \"series_label\": \"promiscuous prok hits\"}, {\"promiscuous hits per KOG\": 8114.0, \"count\": 1, \"cumsum\": 1625, \"frac_cumsum\": 0.9878419452887538, \"weighted_count\": 8114.0, \"weighted_cumsum\": 545022.0, \"weighted_frac_cumsum\": 0.6394675151882071, \"series_label\": \"promiscuous prok hits\"}, {\"promiscuous hits per KOG\": 8350.0, \"count\": 1, \"cumsum\": 1626, \"frac_cumsum\": 0.9884498480243161, \"weighted_count\": 8350.0, \"weighted_cumsum\": 553372.0, \"weighted_frac_cumsum\": 0.6492644660485788, \"series_label\": \"promiscuous prok hits\"}, {\"promiscuous hits per KOG\": 8398.0, \"count\": 1, \"cumsum\": 1627, \"frac_cumsum\": 0.9890577507598785, \"weighted_count\": 8398.0, \"weighted_cumsum\": 561770.0, \"weighted_frac_cumsum\": 0.6591177347103035, \"series_label\": \"promiscuous prok hits\"}, {\"promiscuous hits per KOG\": 8774.0, \"count\": 1, \"cumsum\": 1628, \"frac_cumsum\": 0.9896656534954408, \"weighted_count\": 8774.0, \"weighted_cumsum\": 570544.0, \"weighted_frac_cumsum\": 0.6694121594826271, \"series_label\": \"promiscuous prok hits\"}, {\"promiscuous hits per KOG\": 8960.0, \"count\": 1, \"cumsum\": 1629, \"frac_cumsum\": 0.990273556231003, \"weighted_count\": 8960.0, \"weighted_cumsum\": 579504.0, \"weighted_frac_cumsum\": 0.6799248157351937, \"series_label\": \"promiscuous prok hits\"}, {\"promiscuous hits per KOG\": 9265.0, \"count\": 1, \"cumsum\": 1630, \"frac_cumsum\": 0.9908814589665653, \"weighted_count\": 9265.0, \"weighted_cumsum\": 588769.0, \"weighted_frac_cumsum\": 0.6907953246838576, \"series_label\": \"promiscuous prok hits\"}, {\"promiscuous hits per KOG\": 9990.0, \"count\": 1, \"cumsum\": 1631, \"frac_cumsum\": 0.9914893617021276, \"weighted_count\": 9990.0, \"weighted_cumsum\": 598759.0, \"weighted_frac_cumsum\": 0.7025164670904581, \"series_label\": \"promiscuous prok hits\"}, {\"promiscuous hits per KOG\": 10137.0, \"count\": 1, \"cumsum\": 1632, \"frac_cumsum\": 0.99209726443769, \"weighted_count\": 10137.0, \"weighted_cumsum\": 608896.0, \"weighted_frac_cumsum\": 0.7144100827637022, \"series_label\": \"promiscuous prok hits\"}, {\"promiscuous hits per KOG\": 10237.0, \"count\": 1, \"cumsum\": 1633, \"frac_cumsum\": 0.9927051671732523, \"weighted_count\": 10237.0, \"weighted_cumsum\": 619133.0, \"weighted_frac_cumsum\": 0.7264210271897652, \"series_label\": \"promiscuous prok hits\"}, {\"promiscuous hits per KOG\": 12911.0, \"count\": 1, \"cumsum\": 1634, \"frac_cumsum\": 0.9933130699088146, \"weighted_count\": 12911.0, \"weighted_cumsum\": 632044.0, \"weighted_frac_cumsum\": 0.7415693424662034, \"series_label\": \"promiscuous prok hits\"}, {\"promiscuous hits per KOG\": 13808.0, \"count\": 1, \"cumsum\": 1635, \"frac_cumsum\": 0.993920972644377, \"weighted_count\": 13808.0, \"weighted_cumsum\": 645852.0, \"weighted_frac_cumsum\": 0.7577700966554266, \"series_label\": \"promiscuous prok hits\"}, {\"promiscuous hits per KOG\": 13898.0, \"count\": 1, \"cumsum\": 1636, \"frac_cumsum\": 0.9945288753799392, \"weighted_count\": 13898.0, \"weighted_cumsum\": 659750.0, \"weighted_frac_cumsum\": 0.7740764467221867, \"series_label\": \"promiscuous prok hits\"}, {\"promiscuous hits per KOG\": 14359.0, \"count\": 1, \"cumsum\": 1637, \"frac_cumsum\": 0.9951367781155015, \"weighted_count\": 14359.0, \"weighted_cumsum\": 674109.0, \"weighted_frac_cumsum\": 0.7909236823394414, \"series_label\": \"promiscuous prok hits\"}, {\"promiscuous hits per KOG\": 14997.0, \"count\": 1, \"cumsum\": 1638, \"frac_cumsum\": 0.9957446808510638, \"weighted_count\": 14997.0, \"weighted_cumsum\": 689106.0, \"weighted_frac_cumsum\": 0.8085194753996804, \"series_label\": \"promiscuous prok hits\"}, {\"promiscuous hits per KOG\": 15489.0, \"count\": 1, \"cumsum\": 1639, \"frac_cumsum\": 0.9963525835866262, \"weighted_count\": 15489.0, \"weighted_cumsum\": 704595.0, \"weighted_frac_cumsum\": 0.826692525923788, \"series_label\": \"promiscuous prok hits\"}, {\"promiscuous hits per KOG\": 15661.0, \"count\": 1, \"cumsum\": 1640, \"frac_cumsum\": 0.9969604863221885, \"weighted_count\": 15661.0, \"weighted_cumsum\": 720256.0, \"weighted_frac_cumsum\": 0.8450673819027439, \"series_label\": \"promiscuous prok hits\"}, {\"promiscuous hits per KOG\": 21143.0, \"count\": 1, \"cumsum\": 1641, \"frac_cumsum\": 0.9975683890577508, \"weighted_count\": 21143.0, \"weighted_cumsum\": 741399.0, \"weighted_frac_cumsum\": 0.8698742001112276, \"series_label\": \"promiscuous prok hits\"}, {\"promiscuous hits per KOG\": 21458.0, \"count\": 1, \"cumsum\": 1642, \"frac_cumsum\": 0.998176291793313, \"weighted_count\": 21458.0, \"weighted_cumsum\": 762857.0, \"weighted_frac_cumsum\": 0.8950506038910908, \"series_label\": \"promiscuous prok hits\"}, {\"promiscuous hits per KOG\": 24275.0, \"count\": 1, \"cumsum\": 1643, \"frac_cumsum\": 0.9987841945288753, \"weighted_count\": 24275.0, \"weighted_cumsum\": 787132.0, \"weighted_frac_cumsum\": 0.9235321586378601, \"series_label\": \"promiscuous prok hits\"}, {\"promiscuous hits per KOG\": 30203.0, \"count\": 1, \"cumsum\": 1644, \"frac_cumsum\": 0.9993920972644377, \"weighted_count\": 30203.0, \"weighted_cumsum\": 817335.0, \"weighted_frac_cumsum\": 0.9589689618517293, \"series_label\": \"promiscuous prok hits\"}, {\"promiscuous hits per KOG\": 34971.0, \"count\": 1, \"cumsum\": 1645, \"frac_cumsum\": 1.0, \"weighted_count\": 34971.0, \"weighted_cumsum\": 852306.0, \"weighted_frac_cumsum\": 1.0, \"series_label\": \"promiscuous prok hits\"}]}}, {\"mode\": \"vega-lite\"});\n",
       "</script>"
      ],
      "text/plain": [
       "alt.LayerChart(...)"
      ]
     },
     "execution_count": 85,
     "metadata": {},
     "output_type": "execute_result"
    }
   ],
   "source": [
    "plotX, dfX = plot_cumsum_counts(koghmm_eval_e[\"evp\"].sort_values(), x_min = 1, plot_type = \"default\", title = \"promiscuous euk hits\")\n",
    "plotY, dfY = plot_cumsum_counts(koghmm_eval_p[\"pve\"].sort_values(), x_min = 1, plot_type = \"default\", title = \"promiscuous prok hits\")\n",
    "unfiltered_data_prom = pd.concat([dfX, dfY])\n",
    "plot, data = plot_cumsum_counts(unfiltered_data_prom, formatted_data=True, title='distribution of promiscious hits among KOGs', plot_type='default', x_label = \"promiscuous hits per KOG\")\n",
    "plot"
   ]
  },
  {
   "cell_type": "code",
   "execution_count": 89,
   "id": "8455abd4-07f4-48e0-8ebe-de015398ab8d",
   "metadata": {
    "tags": []
   },
   "outputs": [
    {
     "data": {
      "text/plain": [
       "<matplotlib.legend.Legend at 0x1550fc8547a0>"
      ]
     },
     "execution_count": 89,
     "metadata": {},
     "output_type": "execute_result"
    },
    {
     "data": {
      "image/png": "[encoded data removed]",
      "text/plain": [
       "<Figure size 640x480 with 1 Axes>"
      ]
     },
     "metadata": {},
     "output_type": "display_data"
    }
   ],
   "source": [
    "plot_promhits_vs_frackogprom =  [sum(koghmm_eval_e[koghmm_eval_e[\"evp_norm\"] > i/20][\"evp\"]) / sum(koghmm_eval_e[\"evp\"]) for i in range(0, 20)]\n",
    "plot_promhits_prok_vs_frackogprom =  [sum(koghmm_eval_p[koghmm_eval_p[\"pve_norm\"] > i/20][\"pve\"]) / sum(koghmm_eval_p[\"pve\"])for i in range(0, 20)]\n",
    "plt.plot([i/20 for i in range(0,20)], plot_promhits_vs_frackogprom, label = \"total promisc euk hits that pass filter\")\n",
    "plt.plot([i/20 for i in range(0,20)], plot_promhits_prok_vs_frackogprom, label = \"total promisc prok hits that pass filter\")\n",
    "plt.xlabel(\"increasingly higher shares of promiscuous hits per KOG\")\n",
    "plt.ylabel(\"share of promiscious hits remaining\")\n",
    "plt.title(\"filtering out KOGs with lots of hits in general\")\n",
    "plt.legend()"
   ]
  },
  {
   "cell_type": "code",
   "execution_count": 162,
   "id": "142bbdec-d1cf-47af-b32b-0a22f7f5ba41",
   "metadata": {
    "tags": []
   },
   "outputs": [
    {
     "data": {
      "text/plain": [
       "<Axes: xlabel='KOG'>"
      ]
     },
     "execution_count": 162,
     "metadata": {},
     "output_type": "execute_result"
    },
    {
     "data": {
      "image/png": "[encoded data removed]",
      "text/plain": [
       "<Figure size 640x480 with 1 Axes>"
      ]
     },
     "metadata": {},
     "output_type": "display_data"
    }
   ],
   "source": [
    "cumsum_hits_norm_euk = koghmm_eval_e[\"evp\"].sort_values(ascending = False).cumsum()/sum(koghmm_eval_e[\"evp\"])\n",
    "#cumsum_hits_norm_euk.plot()\n",
    "cumsum_hits_norm_prok = koghmm_eval_p[\"pve\"].sort_values(ascending = False).cumsum()/sum(koghmm_eval_p[\"pve\"])\n",
    "cumsum_hits_norm_euk.plot(label = \"normalized cumsum of promiscious prokaryotic hits against euk kegg profiles\")\n",
    "cumsum_hits_norm_prok.plot()"
   ]
  },
  {
   "cell_type": "markdown",
   "id": "6e02647c-02e6-4fa7-a278-f7253d24bc9c",
   "metadata": {},
   "source": [
    "### merge dataframes"
   ]
  },
  {
   "cell_type": "code",
   "execution_count": 107,
   "id": "f1113d1a-0194-4b83-b803-16640dadd3e2",
   "metadata": {
    "tags": []
   },
   "outputs": [],
   "source": [
    "tmp_eval_both = pd.merge(tmp_eval, tmp_eval_e, on = \"KOG\", how = \"outer\").fillna(0).loc[:, [\"pvp\", \"pvboth\", \"pve\", \"pvp_norm\", \"pvboth_norm\", \"pve_norm\", \"evp\", \"evboth\", \"eve\", \"evp_norm\", \"evboth_norm\", \"eve_norm\"]]"
   ]
  },
  {
   "cell_type": "code",
   "execution_count": 153,
   "id": "c0c2cf1e-565d-4aae-9d2a-7481c11867f5",
   "metadata": {
    "tags": []
   },
   "outputs": [],
   "source": [
    "tmp_eval_both.to_csv(\"/data/luojaa/kegg_db/promisc_stats.search_both.tsv\", sep = \"\\t\")"
   ]
  },
  {
   "cell_type": "code",
   "execution_count": 128,
   "id": "6c371526-dedc-4136-baee-85ec8f6f5376",
   "metadata": {
    "tags": []
   },
   "outputs": [],
   "source": [
    "# look into eukaryotic profiles first (high pve_norm)\n",
    "eval_highpve = tmp_eval_both[tmp_eval_both[\"pve_norm\"] > .5]"
   ]
  },
  {
   "cell_type": "code",
   "execution_count": 125,
   "id": "85f9a58f-ae07-4c6f-b3de-ad341594bf5a",
   "metadata": {
    "tags": []
   },
   "outputs": [
    {
     "data": {
      "text/plain": [
       "pvp             149.000000\n",
       "pvboth          371.068966\n",
       "pve            2500.522167\n",
       "pvp_norm          0.080028\n",
       "pvboth_norm       0.097016\n",
       "pve_norm          0.822956\n",
       "evp              41.714286\n",
       "evboth          203.886700\n",
       "eve            1437.261084\n",
       "evp_norm          0.037687\n",
       "evboth_norm       0.157495\n",
       "eve_norm          0.804818\n",
       "dtype: float64"
      ]
     },
     "execution_count": 125,
     "metadata": {},
     "output_type": "execute_result"
    }
   ],
   "source": [
    "eval_highpve.mean()"
   ]
  },
  {
   "cell_type": "code",
   "execution_count": 155,
   "id": "94003963-9c26-4241-bef6-db12371b5230",
   "metadata": {
    "tags": []
   },
   "outputs": [
    {
     "data": {
      "text/html": [
       "<div>\n",
       "<style scoped>\n",
       "    .dataframe tbody tr th:only-of-type {\n",
       "        vertical-align: middle;\n",
       "    }\n",
       "\n",
       "    .dataframe tbody tr th {\n",
       "        vertical-align: top;\n",
       "    }\n",
       "\n",
       "    .dataframe thead th {\n",
       "        text-align: right;\n",
       "    }\n",
       "</style>\n",
       "<table border=\"1\" class=\"dataframe\">\n",
       "  <thead>\n",
       "    <tr style=\"text-align: right;\">\n",
       "      <th></th>\n",
       "      <th>pvp</th>\n",
       "      <th>pvboth</th>\n",
       "      <th>pve</th>\n",
       "      <th>pvp_norm</th>\n",
       "      <th>pvboth_norm</th>\n",
       "      <th>pve_norm</th>\n",
       "      <th>evp</th>\n",
       "      <th>evboth</th>\n",
       "      <th>eve</th>\n",
       "      <th>evp_norm</th>\n",
       "      <th>evboth_norm</th>\n",
       "      <th>eve_norm</th>\n",
       "    </tr>\n",
       "    <tr>\n",
       "      <th>KOG</th>\n",
       "      <th></th>\n",
       "      <th></th>\n",
       "      <th></th>\n",
       "      <th></th>\n",
       "      <th></th>\n",
       "      <th></th>\n",
       "      <th></th>\n",
       "      <th></th>\n",
       "      <th></th>\n",
       "      <th></th>\n",
       "      <th></th>\n",
       "      <th></th>\n",
       "    </tr>\n",
       "  </thead>\n",
       "  <tbody>\n",
       "    <tr>\n",
       "      <th>K00069</th>\n",
       "      <td>0.0</td>\n",
       "      <td>47.0</td>\n",
       "      <td>15489.0</td>\n",
       "      <td>0.000000</td>\n",
       "      <td>0.003025</td>\n",
       "      <td>0.996975</td>\n",
       "      <td>4.0</td>\n",
       "      <td>210.0</td>\n",
       "      <td>3721.0</td>\n",
       "      <td>0.001017</td>\n",
       "      <td>0.053367</td>\n",
       "      <td>0.945616</td>\n",
       "    </tr>\n",
       "    <tr>\n",
       "      <th>K00079</th>\n",
       "      <td>41.0</td>\n",
       "      <td>1954.0</td>\n",
       "      <td>6340.0</td>\n",
       "      <td>0.004919</td>\n",
       "      <td>0.234433</td>\n",
       "      <td>0.760648</td>\n",
       "      <td>193.0</td>\n",
       "      <td>2317.0</td>\n",
       "      <td>3304.0</td>\n",
       "      <td>0.033196</td>\n",
       "      <td>0.398521</td>\n",
       "      <td>0.568283</td>\n",
       "    </tr>\n",
       "    <tr>\n",
       "      <th>K00084</th>\n",
       "      <td>52.0</td>\n",
       "      <td>252.0</td>\n",
       "      <td>1977.0</td>\n",
       "      <td>0.022797</td>\n",
       "      <td>0.110478</td>\n",
       "      <td>0.866725</td>\n",
       "      <td>3.0</td>\n",
       "      <td>996.0</td>\n",
       "      <td>2295.0</td>\n",
       "      <td>0.000911</td>\n",
       "      <td>0.302368</td>\n",
       "      <td>0.696721</td>\n",
       "    </tr>\n",
       "    <tr>\n",
       "      <th>K00103</th>\n",
       "      <td>34.0</td>\n",
       "      <td>2334.0</td>\n",
       "      <td>4047.0</td>\n",
       "      <td>0.005300</td>\n",
       "      <td>0.363835</td>\n",
       "      <td>0.630865</td>\n",
       "      <td>56.0</td>\n",
       "      <td>1011.0</td>\n",
       "      <td>560.0</td>\n",
       "      <td>0.034419</td>\n",
       "      <td>0.621389</td>\n",
       "      <td>0.344192</td>\n",
       "    </tr>\n",
       "    <tr>\n",
       "      <th>K00109</th>\n",
       "      <td>6.0</td>\n",
       "      <td>0.0</td>\n",
       "      <td>8350.0</td>\n",
       "      <td>0.000718</td>\n",
       "      <td>0.000000</td>\n",
       "      <td>0.999282</td>\n",
       "      <td>18.0</td>\n",
       "      <td>0.0</td>\n",
       "      <td>1558.0</td>\n",
       "      <td>0.011421</td>\n",
       "      <td>0.000000</td>\n",
       "      <td>0.988579</td>\n",
       "    </tr>\n",
       "    <tr>\n",
       "      <th>...</th>\n",
       "      <td>...</td>\n",
       "      <td>...</td>\n",
       "      <td>...</td>\n",
       "      <td>...</td>\n",
       "      <td>...</td>\n",
       "      <td>...</td>\n",
       "      <td>...</td>\n",
       "      <td>...</td>\n",
       "      <td>...</td>\n",
       "      <td>...</td>\n",
       "      <td>...</td>\n",
       "      <td>...</td>\n",
       "    </tr>\n",
       "    <tr>\n",
       "      <th>K24510</th>\n",
       "      <td>1.0</td>\n",
       "      <td>0.0</td>\n",
       "      <td>16.0</td>\n",
       "      <td>0.058824</td>\n",
       "      <td>0.000000</td>\n",
       "      <td>0.941176</td>\n",
       "      <td>1.0</td>\n",
       "      <td>0.0</td>\n",
       "      <td>332.0</td>\n",
       "      <td>0.003003</td>\n",
       "      <td>0.000000</td>\n",
       "      <td>0.996997</td>\n",
       "    </tr>\n",
       "    <tr>\n",
       "      <th>K24745</th>\n",
       "      <td>10.0</td>\n",
       "      <td>0.0</td>\n",
       "      <td>429.0</td>\n",
       "      <td>0.022779</td>\n",
       "      <td>0.000000</td>\n",
       "      <td>0.977221</td>\n",
       "      <td>114.0</td>\n",
       "      <td>0.0</td>\n",
       "      <td>4805.0</td>\n",
       "      <td>0.023175</td>\n",
       "      <td>0.000000</td>\n",
       "      <td>0.976825</td>\n",
       "    </tr>\n",
       "    <tr>\n",
       "      <th>K24835</th>\n",
       "      <td>28.0</td>\n",
       "      <td>37.0</td>\n",
       "      <td>79.0</td>\n",
       "      <td>0.194444</td>\n",
       "      <td>0.256944</td>\n",
       "      <td>0.548611</td>\n",
       "      <td>35.0</td>\n",
       "      <td>84.0</td>\n",
       "      <td>345.0</td>\n",
       "      <td>0.075431</td>\n",
       "      <td>0.181034</td>\n",
       "      <td>0.743534</td>\n",
       "    </tr>\n",
       "    <tr>\n",
       "      <th>K25010</th>\n",
       "      <td>0.0</td>\n",
       "      <td>0.0</td>\n",
       "      <td>108.0</td>\n",
       "      <td>0.000000</td>\n",
       "      <td>0.000000</td>\n",
       "      <td>1.000000</td>\n",
       "      <td>0.0</td>\n",
       "      <td>0.0</td>\n",
       "      <td>17.0</td>\n",
       "      <td>0.000000</td>\n",
       "      <td>0.000000</td>\n",
       "      <td>1.000000</td>\n",
       "    </tr>\n",
       "    <tr>\n",
       "      <th>K26400</th>\n",
       "      <td>378.0</td>\n",
       "      <td>0.0</td>\n",
       "      <td>682.0</td>\n",
       "      <td>0.356604</td>\n",
       "      <td>0.000000</td>\n",
       "      <td>0.643396</td>\n",
       "      <td>6.0</td>\n",
       "      <td>0.0</td>\n",
       "      <td>53.0</td>\n",
       "      <td>0.101695</td>\n",
       "      <td>0.000000</td>\n",
       "      <td>0.898305</td>\n",
       "    </tr>\n",
       "  </tbody>\n",
       "</table>\n",
       "<p>203 rows × 12 columns</p>\n",
       "</div>"
      ],
      "text/plain": [
       "          pvp  pvboth      pve  pvp_norm  pvboth_norm  pve_norm    evp  \\\n",
       "KOG                                                                      \n",
       "K00069    0.0    47.0  15489.0  0.000000     0.003025  0.996975    4.0   \n",
       "K00079   41.0  1954.0   6340.0  0.004919     0.234433  0.760648  193.0   \n",
       "K00084   52.0   252.0   1977.0  0.022797     0.110478  0.866725    3.0   \n",
       "K00103   34.0  2334.0   4047.0  0.005300     0.363835  0.630865   56.0   \n",
       "K00109    6.0     0.0   8350.0  0.000718     0.000000  0.999282   18.0   \n",
       "...       ...     ...      ...       ...          ...       ...    ...   \n",
       "K24510    1.0     0.0     16.0  0.058824     0.000000  0.941176    1.0   \n",
       "K24745   10.0     0.0    429.0  0.022779     0.000000  0.977221  114.0   \n",
       "K24835   28.0    37.0     79.0  0.194444     0.256944  0.548611   35.0   \n",
       "K25010    0.0     0.0    108.0  0.000000     0.000000  1.000000    0.0   \n",
       "K26400  378.0     0.0    682.0  0.356604     0.000000  0.643396    6.0   \n",
       "\n",
       "        evboth     eve  evp_norm  evboth_norm  eve_norm  \n",
       "KOG                                                      \n",
       "K00069   210.0  3721.0  0.001017     0.053367  0.945616  \n",
       "K00079  2317.0  3304.0  0.033196     0.398521  0.568283  \n",
       "K00084   996.0  2295.0  0.000911     0.302368  0.696721  \n",
       "K00103  1011.0   560.0  0.034419     0.621389  0.344192  \n",
       "K00109     0.0  1558.0  0.011421     0.000000  0.988579  \n",
       "...        ...     ...       ...          ...       ...  \n",
       "K24510     0.0   332.0  0.003003     0.000000  0.996997  \n",
       "K24745     0.0  4805.0  0.023175     0.000000  0.976825  \n",
       "K24835    84.0   345.0  0.075431     0.181034  0.743534  \n",
       "K25010     0.0    17.0  0.000000     0.000000  1.000000  \n",
       "K26400     0.0    53.0  0.101695     0.000000  0.898305  \n",
       "\n",
       "[203 rows x 12 columns]"
      ]
     },
     "execution_count": 155,
     "metadata": {},
     "output_type": "execute_result"
    }
   ],
   "source": [
    "tmp_eval_both[\"pveuk_norm"
   ]
  },
  {
   "cell_type": "code",
   "execution_count": 156,
   "id": "88de57ab-b795-48e5-9fa8-26d045af7850",
   "metadata": {
    "tags": []
   },
   "outputs": [
    {
     "data": {
      "text/plain": [
       "Text(0, 0.5, 'share of euk hits vs KOG that are promisc')"
      ]
     },
     "execution_count": 156,
     "metadata": {},
     "output_type": "execute_result"
    },
    {
     "data": {
      "image/png": "[encoded data removed]",
      "text/plain": [
       "<Figure size 640x480 with 1 Axes>"
      ]
     },
     "metadata": {},
     "output_type": "display_data"
    }
   ],
   "source": [
    "plt.scatter(eval_highpve[\"pve_norm\"], eval_highpve[\"evp_norm\"])\n",
    "plt.xlabel(\"share of prok hits vs KOG that are promisc\")\n",
    "plt.ylabel(\"share of euk hits vs KOG that are promisc\")"
   ]
  },
  {
   "cell_type": "code",
   "execution_count": 127,
   "id": "0ba505f2-0a60-4a41-ab91-5a0818f18ccd",
   "metadata": {
    "tags": []
   },
   "outputs": [],
   "source": [
    "# look into prokaryotic profiles (high evp_norm)\n",
    "eval_highevp = tmp_eval_both[tmp_eval_both[\"evp_norm\"] > .5]"
   ]
  },
  {
   "cell_type": "code",
   "execution_count": 147,
   "id": "08ff8758-4477-4e39-802b-cb05d3a66ab8",
   "metadata": {
    "tags": []
   },
   "outputs": [
    {
     "data": {
      "text/html": [
       "<div>\n",
       "<style scoped>\n",
       "    .dataframe tbody tr th:only-of-type {\n",
       "        vertical-align: middle;\n",
       "    }\n",
       "\n",
       "    .dataframe tbody tr th {\n",
       "        vertical-align: top;\n",
       "    }\n",
       "\n",
       "    .dataframe thead th {\n",
       "        text-align: right;\n",
       "    }\n",
       "</style>\n",
       "<table border=\"1\" class=\"dataframe\">\n",
       "  <thead>\n",
       "    <tr style=\"text-align: right;\">\n",
       "      <th></th>\n",
       "      <th>pvp</th>\n",
       "      <th>pvboth</th>\n",
       "      <th>pve</th>\n",
       "      <th>pvp_norm</th>\n",
       "      <th>pvboth_norm</th>\n",
       "      <th>pve_norm</th>\n",
       "      <th>evp</th>\n",
       "      <th>evboth</th>\n",
       "      <th>eve</th>\n",
       "      <th>evp_norm</th>\n",
       "      <th>evboth_norm</th>\n",
       "      <th>eve_norm</th>\n",
       "    </tr>\n",
       "    <tr>\n",
       "      <th>KOG</th>\n",
       "      <th></th>\n",
       "      <th></th>\n",
       "      <th></th>\n",
       "      <th></th>\n",
       "      <th></th>\n",
       "      <th></th>\n",
       "      <th></th>\n",
       "      <th></th>\n",
       "      <th></th>\n",
       "      <th></th>\n",
       "      <th></th>\n",
       "      <th></th>\n",
       "    </tr>\n",
       "  </thead>\n",
       "  <tbody>\n",
       "    <tr>\n",
       "      <th>K00001</th>\n",
       "      <td>35050.0</td>\n",
       "      <td>5024.0</td>\n",
       "      <td>14.0</td>\n",
       "      <td>0.874326</td>\n",
       "      <td>0.125324</td>\n",
       "      <td>0.000349</td>\n",
       "      <td>8160.0</td>\n",
       "      <td>1243.0</td>\n",
       "      <td>181.0</td>\n",
       "      <td>0.851419</td>\n",
       "      <td>0.129695</td>\n",
       "      <td>0.018886</td>\n",
       "    </tr>\n",
       "    <tr>\n",
       "      <th>K00002</th>\n",
       "      <td>2116.0</td>\n",
       "      <td>20415.0</td>\n",
       "      <td>465.0</td>\n",
       "      <td>0.092016</td>\n",
       "      <td>0.887763</td>\n",
       "      <td>0.020221</td>\n",
       "      <td>1210.0</td>\n",
       "      <td>5727.0</td>\n",
       "      <td>457.0</td>\n",
       "      <td>0.163646</td>\n",
       "      <td>0.774547</td>\n",
       "      <td>0.061807</td>\n",
       "    </tr>\n",
       "    <tr>\n",
       "      <th>K00003</th>\n",
       "      <td>142.0</td>\n",
       "      <td>2127.0</td>\n",
       "      <td>400.0</td>\n",
       "      <td>0.053203</td>\n",
       "      <td>0.796928</td>\n",
       "      <td>0.149869</td>\n",
       "      <td>125.0</td>\n",
       "      <td>364.0</td>\n",
       "      <td>173.0</td>\n",
       "      <td>0.188822</td>\n",
       "      <td>0.549849</td>\n",
       "      <td>0.261329</td>\n",
       "    </tr>\n",
       "    <tr>\n",
       "      <th>K00004</th>\n",
       "      <td>28682.0</td>\n",
       "      <td>9548.0</td>\n",
       "      <td>66.0</td>\n",
       "      <td>0.748956</td>\n",
       "      <td>0.249321</td>\n",
       "      <td>0.001723</td>\n",
       "      <td>8254.0</td>\n",
       "      <td>1370.0</td>\n",
       "      <td>202.0</td>\n",
       "      <td>0.840016</td>\n",
       "      <td>0.139426</td>\n",
       "      <td>0.020558</td>\n",
       "    </tr>\n",
       "    <tr>\n",
       "      <th>K00005</th>\n",
       "      <td>3973.0</td>\n",
       "      <td>6134.0</td>\n",
       "      <td>40.0</td>\n",
       "      <td>0.391544</td>\n",
       "      <td>0.604514</td>\n",
       "      <td>0.003942</td>\n",
       "      <td>215.0</td>\n",
       "      <td>437.0</td>\n",
       "      <td>9.0</td>\n",
       "      <td>0.325265</td>\n",
       "      <td>0.661120</td>\n",
       "      <td>0.013616</td>\n",
       "    </tr>\n",
       "    <tr>\n",
       "      <th>...</th>\n",
       "      <td>...</td>\n",
       "      <td>...</td>\n",
       "      <td>...</td>\n",
       "      <td>...</td>\n",
       "      <td>...</td>\n",
       "      <td>...</td>\n",
       "      <td>...</td>\n",
       "      <td>...</td>\n",
       "      <td>...</td>\n",
       "      <td>...</td>\n",
       "      <td>...</td>\n",
       "      <td>...</td>\n",
       "    </tr>\n",
       "    <tr>\n",
       "      <th>K25767</th>\n",
       "      <td>2.0</td>\n",
       "      <td>47.0</td>\n",
       "      <td>48.0</td>\n",
       "      <td>0.020619</td>\n",
       "      <td>0.484536</td>\n",
       "      <td>0.494845</td>\n",
       "      <td>0.0</td>\n",
       "      <td>1.0</td>\n",
       "      <td>2.0</td>\n",
       "      <td>0.000000</td>\n",
       "      <td>0.333333</td>\n",
       "      <td>0.666667</td>\n",
       "    </tr>\n",
       "    <tr>\n",
       "      <th>K26273</th>\n",
       "      <td>192.0</td>\n",
       "      <td>0.0</td>\n",
       "      <td>0.0</td>\n",
       "      <td>1.000000</td>\n",
       "      <td>0.000000</td>\n",
       "      <td>0.000000</td>\n",
       "      <td>8.0</td>\n",
       "      <td>1.0</td>\n",
       "      <td>83.0</td>\n",
       "      <td>0.086957</td>\n",
       "      <td>0.010870</td>\n",
       "      <td>0.902174</td>\n",
       "    </tr>\n",
       "    <tr>\n",
       "      <th>K26400</th>\n",
       "      <td>378.0</td>\n",
       "      <td>0.0</td>\n",
       "      <td>682.0</td>\n",
       "      <td>0.356604</td>\n",
       "      <td>0.000000</td>\n",
       "      <td>0.643396</td>\n",
       "      <td>6.0</td>\n",
       "      <td>0.0</td>\n",
       "      <td>53.0</td>\n",
       "      <td>0.101695</td>\n",
       "      <td>0.000000</td>\n",
       "      <td>0.898305</td>\n",
       "    </tr>\n",
       "    <tr>\n",
       "      <th>K26731</th>\n",
       "      <td>5166.0</td>\n",
       "      <td>0.0</td>\n",
       "      <td>314.0</td>\n",
       "      <td>0.942701</td>\n",
       "      <td>0.000000</td>\n",
       "      <td>0.057299</td>\n",
       "      <td>315.0</td>\n",
       "      <td>0.0</td>\n",
       "      <td>416.0</td>\n",
       "      <td>0.430917</td>\n",
       "      <td>0.000000</td>\n",
       "      <td>0.569083</td>\n",
       "    </tr>\n",
       "    <tr>\n",
       "      <th>K26735</th>\n",
       "      <td>2966.0</td>\n",
       "      <td>0.0</td>\n",
       "      <td>0.0</td>\n",
       "      <td>1.000000</td>\n",
       "      <td>0.000000</td>\n",
       "      <td>0.000000</td>\n",
       "      <td>114.0</td>\n",
       "      <td>0.0</td>\n",
       "      <td>69.0</td>\n",
       "      <td>0.622951</td>\n",
       "      <td>0.000000</td>\n",
       "      <td>0.377049</td>\n",
       "    </tr>\n",
       "  </tbody>\n",
       "</table>\n",
       "<p>2333 rows × 12 columns</p>\n",
       "</div>"
      ],
      "text/plain": [
       "            pvp   pvboth    pve  pvp_norm  pvboth_norm  pve_norm     evp  \\\n",
       "KOG                                                                        \n",
       "K00001  35050.0   5024.0   14.0  0.874326     0.125324  0.000349  8160.0   \n",
       "K00002   2116.0  20415.0  465.0  0.092016     0.887763  0.020221  1210.0   \n",
       "K00003    142.0   2127.0  400.0  0.053203     0.796928  0.149869   125.0   \n",
       "K00004  28682.0   9548.0   66.0  0.748956     0.249321  0.001723  8254.0   \n",
       "K00005   3973.0   6134.0   40.0  0.391544     0.604514  0.003942   215.0   \n",
       "...         ...      ...    ...       ...          ...       ...     ...   \n",
       "K25767      2.0     47.0   48.0  0.020619     0.484536  0.494845     0.0   \n",
       "K26273    192.0      0.0    0.0  1.000000     0.000000  0.000000     8.0   \n",
       "K26400    378.0      0.0  682.0  0.356604     0.000000  0.643396     6.0   \n",
       "K26731   5166.0      0.0  314.0  0.942701     0.000000  0.057299   315.0   \n",
       "K26735   2966.0      0.0    0.0  1.000000     0.000000  0.000000   114.0   \n",
       "\n",
       "        evboth    eve  evp_norm  evboth_norm  eve_norm  \n",
       "KOG                                                     \n",
       "K00001  1243.0  181.0  0.851419     0.129695  0.018886  \n",
       "K00002  5727.0  457.0  0.163646     0.774547  0.061807  \n",
       "K00003   364.0  173.0  0.188822     0.549849  0.261329  \n",
       "K00004  1370.0  202.0  0.840016     0.139426  0.020558  \n",
       "K00005   437.0    9.0  0.325265     0.661120  0.013616  \n",
       "...        ...    ...       ...          ...       ...  \n",
       "K25767     1.0    2.0  0.000000     0.333333  0.666667  \n",
       "K26273     1.0   83.0  0.086957     0.010870  0.902174  \n",
       "K26400     0.0   53.0  0.101695     0.000000  0.898305  \n",
       "K26731     0.0  416.0  0.430917     0.000000  0.569083  \n",
       "K26735     0.0   69.0  0.622951     0.000000  0.377049  \n",
       "\n",
       "[2333 rows x 12 columns]"
      ]
     },
     "execution_count": 147,
     "metadata": {},
     "output_type": "execute_result"
    }
   ],
   "source": [
    "tmp_eval_both"
   ]
  },
  {
   "cell_type": "code",
   "execution_count": 157,
   "id": "6cdbe011-6394-4577-9813-96138de9e65a",
   "metadata": {
    "tags": []
   },
   "outputs": [
    {
     "data": {
      "text/plain": [
       "Text(0.5, 1.0, \"100 'relevant' KOGs with prokaryotic profiles receiving highest # of promisc hits\")"
      ]
     },
     "execution_count": 157,
     "metadata": {},
     "output_type": "execute_result"
    },
    {
     "data": {
      "image/png": "[encoded data removed]",
      "text/plain": [
       "<Figure size 640x480 with 1 Axes>"
      ]
     },
     "metadata": {},
     "output_type": "display_data"
    }
   ],
   "source": [
    "plt.scatter(tmp_eval_both.sort_values(\"evp\", ascending = False)[:100][\"evp_norm\"], tmp_eval_both.sort_values(\"evp\", ascending = False)[:100][\"pvp_norm\"])\n",
    "plt.xlabel(\"share of euk hits vs KOGs that are promisc\")\n",
    "plt.ylabel(\"share of prok hits vs KOGs that are faithful\")\n",
    "plt.title(\"100 'relevant' KOGs with prokaryotic profiles receiving highest # of promisc hits\")"
   ]
  },
  {
   "cell_type": "code",
   "execution_count": 149,
   "id": "8d28b938-33f4-4ec5-a739-8b945c61f31f",
   "metadata": {
    "tags": []
   },
   "outputs": [
    {
     "data": {
      "text/plain": [
       "287775.0"
      ]
     },
     "execution_count": 149,
     "metadata": {},
     "output_type": "execute_result"
    }
   ],
   "source": [
    "sum(tmp_eval_both.sort_values(\"evp\", ascending = False)[:100][\"evp\"])"
   ]
  },
  {
   "cell_type": "code",
   "execution_count": 135,
   "id": "a1d5e8d4-df36-4403-80bd-4949961594d0",
   "metadata": {
    "tags": []
   },
   "outputs": [
    {
     "data": {
      "text/plain": [
       "335983.0"
      ]
     },
     "execution_count": 135,
     "metadata": {},
     "output_type": "execute_result"
    }
   ],
   "source": [
    "sum(eval_highevp[\"evp\"])"
   ]
  },
  {
   "cell_type": "code",
   "execution_count": null,
   "id": "f47aa6ea-1d39-4f34-baf9-b787673d9812",
   "metadata": {},
   "outputs": [],
   "source": []
  },
  {
   "cell_type": "code",
   "execution_count": 160,
   "id": "f8adf847-8215-4de9-ab9a-0f3df667688e",
   "metadata": {
    "tags": []
   },
   "outputs": [
    {
     "data": {
      "text/html": [
       "<div>\n",
       "<style scoped>\n",
       "    .dataframe tbody tr th:only-of-type {\n",
       "        vertical-align: middle;\n",
       "    }\n",
       "\n",
       "    .dataframe tbody tr th {\n",
       "        vertical-align: top;\n",
       "    }\n",
       "\n",
       "    .dataframe thead th {\n",
       "        text-align: right;\n",
       "    }\n",
       "</style>\n",
       "<table border=\"1\" class=\"dataframe\">\n",
       "  <thead>\n",
       "    <tr style=\"text-align: right;\">\n",
       "      <th></th>\n",
       "      <th>pvp</th>\n",
       "      <th>pvboth</th>\n",
       "      <th>pve</th>\n",
       "      <th>pvp_norm</th>\n",
       "      <th>pvboth_norm</th>\n",
       "      <th>pve_norm</th>\n",
       "      <th>evp</th>\n",
       "      <th>evboth</th>\n",
       "      <th>eve</th>\n",
       "      <th>evp_norm</th>\n",
       "      <th>evboth_norm</th>\n",
       "      <th>eve_norm</th>\n",
       "    </tr>\n",
       "    <tr>\n",
       "      <th>KOG</th>\n",
       "      <th></th>\n",
       "      <th></th>\n",
       "      <th></th>\n",
       "      <th></th>\n",
       "      <th></th>\n",
       "      <th></th>\n",
       "      <th></th>\n",
       "      <th></th>\n",
       "      <th></th>\n",
       "      <th></th>\n",
       "      <th></th>\n",
       "      <th></th>\n",
       "    </tr>\n",
       "  </thead>\n",
       "  <tbody>\n",
       "    <tr>\n",
       "      <th>K00995</th>\n",
       "      <td>4611.0</td>\n",
       "      <td>0.0</td>\n",
       "      <td>2207.0</td>\n",
       "      <td>0.676298</td>\n",
       "      <td>0.000000</td>\n",
       "      <td>0.323702</td>\n",
       "      <td>155.0</td>\n",
       "      <td>0.0</td>\n",
       "      <td>148.0</td>\n",
       "      <td>0.511551</td>\n",
       "      <td>0.000000</td>\n",
       "      <td>0.488449</td>\n",
       "    </tr>\n",
       "    <tr>\n",
       "      <th>K01113</th>\n",
       "      <td>124.0</td>\n",
       "      <td>100.0</td>\n",
       "      <td>196.0</td>\n",
       "      <td>0.295238</td>\n",
       "      <td>0.238095</td>\n",
       "      <td>0.466667</td>\n",
       "      <td>132.0</td>\n",
       "      <td>7.0</td>\n",
       "      <td>26.0</td>\n",
       "      <td>0.800000</td>\n",
       "      <td>0.042424</td>\n",
       "      <td>0.157576</td>\n",
       "    </tr>\n",
       "    <tr>\n",
       "      <th>K03163</th>\n",
       "      <td>25.0</td>\n",
       "      <td>0.0</td>\n",
       "      <td>17.0</td>\n",
       "      <td>0.595238</td>\n",
       "      <td>0.000000</td>\n",
       "      <td>0.404762</td>\n",
       "      <td>127.0</td>\n",
       "      <td>7.0</td>\n",
       "      <td>43.0</td>\n",
       "      <td>0.717514</td>\n",
       "      <td>0.039548</td>\n",
       "      <td>0.242938</td>\n",
       "    </tr>\n",
       "    <tr>\n",
       "      <th>K19519</th>\n",
       "      <td>51.0</td>\n",
       "      <td>0.0</td>\n",
       "      <td>28.0</td>\n",
       "      <td>0.645570</td>\n",
       "      <td>0.000000</td>\n",
       "      <td>0.354430</td>\n",
       "      <td>135.0</td>\n",
       "      <td>0.0</td>\n",
       "      <td>125.0</td>\n",
       "      <td>0.519231</td>\n",
       "      <td>0.000000</td>\n",
       "      <td>0.480769</td>\n",
       "    </tr>\n",
       "    <tr>\n",
       "      <th>K22843</th>\n",
       "      <td>345.0</td>\n",
       "      <td>33.0</td>\n",
       "      <td>191.0</td>\n",
       "      <td>0.606327</td>\n",
       "      <td>0.057996</td>\n",
       "      <td>0.335677</td>\n",
       "      <td>133.0</td>\n",
       "      <td>6.0</td>\n",
       "      <td>38.0</td>\n",
       "      <td>0.751412</td>\n",
       "      <td>0.033898</td>\n",
       "      <td>0.214689</td>\n",
       "    </tr>\n",
       "  </tbody>\n",
       "</table>\n",
       "</div>"
      ],
      "text/plain": [
       "           pvp  pvboth     pve  pvp_norm  pvboth_norm  pve_norm    evp  \\\n",
       "KOG                                                                      \n",
       "K00995  4611.0     0.0  2207.0  0.676298     0.000000  0.323702  155.0   \n",
       "K01113   124.0   100.0   196.0  0.295238     0.238095  0.466667  132.0   \n",
       "K03163    25.0     0.0    17.0  0.595238     0.000000  0.404762  127.0   \n",
       "K19519    51.0     0.0    28.0  0.645570     0.000000  0.354430  135.0   \n",
       "K22843   345.0    33.0   191.0  0.606327     0.057996  0.335677  133.0   \n",
       "\n",
       "        evboth    eve  evp_norm  evboth_norm  eve_norm  \n",
       "KOG                                                     \n",
       "K00995     0.0  148.0  0.511551     0.000000  0.488449  \n",
       "K01113     7.0   26.0  0.800000     0.042424  0.157576  \n",
       "K03163     7.0   43.0  0.717514     0.039548  0.242938  \n",
       "K19519     0.0  125.0  0.519231     0.000000  0.480769  \n",
       "K22843     6.0   38.0  0.751412     0.033898  0.214689  "
      ]
     },
     "execution_count": 160,
     "metadata": {},
     "output_type": "execute_result"
    }
   ],
   "source": [
    "# weird inverted cases\n",
    "eval_highevp[eval_highevp[\"pve_norm\"] > .3]"
   ]
  },
  {
   "cell_type": "code",
   "execution_count": 158,
   "id": "1b90458a-768f-429b-85ed-207b1430a92b",
   "metadata": {
    "tags": []
   },
   "outputs": [
    {
     "data": {
      "text/plain": [
       "Text(0, 0.5, 'share of prok hits vs KOG that are promisc')"
      ]
     },
     "execution_count": 158,
     "metadata": {},
     "output_type": "execute_result"
    },
    {
     "data": {
      "image/png": "[encoded data removed]",
      "text/plain": [
       "<Figure size 640x480 with 1 Axes>"
      ]
     },
     "metadata": {},
     "output_type": "display_data"
    }
   ],
   "source": [
    "plt.scatter(eval_highevp[\"evp_norm\"], eval_highevp[\"pve_norm\"])\n",
    "plt.xlabel(\"share of euk hits vs KOG that are promisc\")\n",
    "plt.ylabel(\"share of prok hits vs KOG that are promisc\")"
   ]
  },
  {
   "cell_type": "code",
   "execution_count": 129,
   "id": "f33f800e-f23d-41a0-9637-536f2f8eb87c",
   "metadata": {
    "tags": []
   },
   "outputs": [
    {
     "data": {
      "text/plain": [
       "pvp            5832.332599\n",
       "pvboth         1118.444934\n",
       "pve              93.156388\n",
       "pvp_norm          0.873537\n",
       "pvboth_norm       0.107344\n",
       "pve_norm          0.016916\n",
       "evp             740.050661\n",
       "evboth          157.231278\n",
       "eve              83.077093\n",
       "evp_norm          0.752866\n",
       "evboth_norm       0.091725\n",
       "eve_norm          0.155409\n",
       "dtype: float64"
      ]
     },
     "execution_count": 129,
     "metadata": {},
     "output_type": "execute_result"
    }
   ],
   "source": [
    "eval_highevp.mean()"
   ]
  },
  {
   "cell_type": "code",
   "execution_count": 117,
   "id": "025ecd10-cdec-4ae8-92be-2e1e2ab52378",
   "metadata": {
    "tags": []
   },
   "outputs": [
    {
     "data": {
      "text/html": [
       "<div>\n",
       "<style scoped>\n",
       "    .dataframe tbody tr th:only-of-type {\n",
       "        vertical-align: middle;\n",
       "    }\n",
       "\n",
       "    .dataframe tbody tr th {\n",
       "        vertical-align: top;\n",
       "    }\n",
       "\n",
       "    .dataframe thead th {\n",
       "        text-align: right;\n",
       "    }\n",
       "</style>\n",
       "<table border=\"1\" class=\"dataframe\">\n",
       "  <thead>\n",
       "    <tr style=\"text-align: right;\">\n",
       "      <th></th>\n",
       "      <th>Query</th>\n",
       "      <th>KOG</th>\n",
       "      <th>euktarget</th>\n",
       "      <th>proktarget</th>\n",
       "    </tr>\n",
       "  </thead>\n",
       "  <tbody>\n",
       "    <tr>\n",
       "      <th>32174</th>\n",
       "      <td>EP00002P038413</td>\n",
       "      <td>K18798</td>\n",
       "      <td>1</td>\n",
       "      <td>1</td>\n",
       "    </tr>\n",
       "    <tr>\n",
       "      <th>57569</th>\n",
       "      <td>EP00004P022637</td>\n",
       "      <td>K18798</td>\n",
       "      <td>1</td>\n",
       "      <td>1</td>\n",
       "    </tr>\n",
       "    <tr>\n",
       "      <th>133338</th>\n",
       "      <td>EP00011P008034</td>\n",
       "      <td>K18798</td>\n",
       "      <td>1</td>\n",
       "      <td>1</td>\n",
       "    </tr>\n",
       "    <tr>\n",
       "      <th>138633</th>\n",
       "      <td>EP00012P000615</td>\n",
       "      <td>K18798</td>\n",
       "      <td>1</td>\n",
       "      <td>1</td>\n",
       "    </tr>\n",
       "    <tr>\n",
       "      <th>188976</th>\n",
       "      <td>EP00019P001914</td>\n",
       "      <td>K18798</td>\n",
       "      <td>1</td>\n",
       "      <td>0</td>\n",
       "    </tr>\n",
       "    <tr>\n",
       "      <th>...</th>\n",
       "      <td>...</td>\n",
       "      <td>...</td>\n",
       "      <td>...</td>\n",
       "      <td>...</td>\n",
       "    </tr>\n",
       "    <tr>\n",
       "      <th>10816776</th>\n",
       "      <td>XP_026402186.1</td>\n",
       "      <td>K18798</td>\n",
       "      <td>0</td>\n",
       "      <td>1</td>\n",
       "    </tr>\n",
       "    <tr>\n",
       "      <th>10874919</th>\n",
       "      <td>XP_030850674.1</td>\n",
       "      <td>K18798</td>\n",
       "      <td>1</td>\n",
       "      <td>1</td>\n",
       "    </tr>\n",
       "    <tr>\n",
       "      <th>10886632</th>\n",
       "      <td>XP_031480293.1</td>\n",
       "      <td>K18798</td>\n",
       "      <td>0</td>\n",
       "      <td>1</td>\n",
       "    </tr>\n",
       "    <tr>\n",
       "      <th>10929886</th>\n",
       "      <td>XP_629365.1</td>\n",
       "      <td>K18798</td>\n",
       "      <td>0</td>\n",
       "      <td>1</td>\n",
       "    </tr>\n",
       "    <tr>\n",
       "      <th>10957644</th>\n",
       "      <td>XP_957050.1</td>\n",
       "      <td>K18798</td>\n",
       "      <td>0</td>\n",
       "      <td>1</td>\n",
       "    </tr>\n",
       "  </tbody>\n",
       "</table>\n",
       "<p>691 rows × 4 columns</p>\n",
       "</div>"
      ],
      "text/plain": [
       "                   Query     KOG  euktarget  proktarget\n",
       "32174     EP00002P038413  K18798          1           1\n",
       "57569     EP00004P022637  K18798          1           1\n",
       "133338    EP00011P008034  K18798          1           1\n",
       "138633    EP00012P000615  K18798          1           1\n",
       "188976    EP00019P001914  K18798          1           0\n",
       "...                  ...     ...        ...         ...\n",
       "10816776  XP_026402186.1  K18798          0           1\n",
       "10874919  XP_030850674.1  K18798          1           1\n",
       "10886632  XP_031480293.1  K18798          0           1\n",
       "10929886     XP_629365.1  K18798          0           1\n",
       "10957644     XP_957050.1  K18798          0           1\n",
       "\n",
       "[691 rows x 4 columns]"
      ]
     },
     "execution_count": 117,
     "metadata": {},
     "output_type": "execute_result"
    }
   ],
   "source": [
    "euk_domainhits[euk_domainhits[\"KOG\"] == \"K18798\"]"
   ]
  },
  {
   "cell_type": "markdown",
   "id": "30640430",
   "metadata": {},
   "source": [
    "### investigate low quality euk HMMs"
   ]
  },
  {
   "cell_type": "code",
   "execution_count": 50,
   "id": "05e7c368",
   "metadata": {
    "tags": []
   },
   "outputs": [],
   "source": [
    "euk_bothdomainhits = euk_domainhits[euk_domainhits[\"euktarget\"].astype(bool) & euk_domainhits[\"proktarget\"].astype(bool)]\n",
    "euk_eukdomainhits = euk_domainhits[euk_domainhits[\"euktarget\"].astype(bool) & ~euk_domainhits[\"proktarget\"].astype(bool)]\n",
    "euk_prokdomainhits = euk_domainhits[~euk_domainhits[\"euktarget\"].astype(bool) & euk_domainhits[\"proktarget\"].astype(bool)]"
   ]
  },
  {
   "cell_type": "code",
   "execution_count": 51,
   "id": "98d677c8",
   "metadata": {
    "tags": []
   },
   "outputs": [],
   "source": [
    "euk_justeuk = euk_eukdomainhits[euk_eukdomainhits[\"KOG\"].isin(relevant_kogs)]\n",
    "euk_hitboth = euk_bothdomainhits[euk_bothdomainhits[\"KOG\"].isin(relevant_kogs)]\n",
    "euk_missedeuk = euk_prokdomainhits[euk_prokdomainhits[\"KOG\"].isin(relevant_kogs)]"
   ]
  },
  {
   "cell_type": "code",
   "execution_count": 52,
   "id": "f47b885a",
   "metadata": {
    "tags": []
   },
   "outputs": [],
   "source": [
    "evp_counts = euk_missedeuk[\"KOG\"].value_counts()\n",
    "evboth_counts = euk_hitboth[\"KOG\"].value_counts()\n",
    "eve_counts = euk_justeuk[\"KOG\"].value_counts()\n",
    "tmp_merge_e = pd.merge(eve_counts, evboth_counts, how = \"outer\", on = \"KOG\")\n",
    "tmp_eval_e = pd.merge(tmp_merge_e, evp_counts, how = \"outer\", on = \"KOG\").rename(columns={\"count_x\": \"eve\", \"count_y\": \"evboth\", \"count\": \"evp\"}).fillna(0)"
   ]
  },
  {
   "cell_type": "code",
   "execution_count": 65,
   "id": "21f05b9d",
   "metadata": {
    "tags": []
   },
   "outputs": [],
   "source": [
    "tmp_eval_e[\"evp_norm\"] = tmp_eval_e[\"evp\"] / (tmp_eval_e[\"evp\"] + tmp_eval_e[\"evboth\"] + tmp_eval_e[\"eve\"])\n",
    "tmp_eval_e[\"evboth_norm\"] = tmp_eval_e[\"evboth\"] / (tmp_eval_e[\"evp\"] + tmp_eval_e[\"evboth\"] + tmp_eval_e[\"eve\"])\n",
    "tmp_eval_e[\"eve_norm\"] = tmp_eval_e[\"eve\"] / (tmp_eval_e[\"evp\"] + tmp_eval_e[\"evboth\"] + tmp_eval_e[\"eve\"])"
   ]
  },
  {
   "cell_type": "code",
   "execution_count": 83,
   "id": "85e0e310-9652-4ea5-925b-83667163e4e7",
   "metadata": {
    "tags": []
   },
   "outputs": [
    {
     "data": {
      "text/html": [
       "<div>\n",
       "<style scoped>\n",
       "    .dataframe tbody tr th:only-of-type {\n",
       "        vertical-align: middle;\n",
       "    }\n",
       "\n",
       "    .dataframe tbody tr th {\n",
       "        vertical-align: top;\n",
       "    }\n",
       "\n",
       "    .dataframe thead th {\n",
       "        text-align: right;\n",
       "    }\n",
       "</style>\n",
       "<table border=\"1\" class=\"dataframe\">\n",
       "  <thead>\n",
       "    <tr style=\"text-align: right;\">\n",
       "      <th></th>\n",
       "      <th>eve</th>\n",
       "      <th>evboth</th>\n",
       "      <th>evp</th>\n",
       "      <th>evp_norm</th>\n",
       "      <th>evboth_norm</th>\n",
       "      <th>eve_norm</th>\n",
       "    </tr>\n",
       "    <tr>\n",
       "      <th>KOG</th>\n",
       "      <th></th>\n",
       "      <th></th>\n",
       "      <th></th>\n",
       "      <th></th>\n",
       "      <th></th>\n",
       "      <th></th>\n",
       "    </tr>\n",
       "  </thead>\n",
       "  <tbody>\n",
       "    <tr>\n",
       "      <th>K23617</th>\n",
       "      <td>5771.0</td>\n",
       "      <td>0.0</td>\n",
       "      <td>0.0</td>\n",
       "      <td>0.000000</td>\n",
       "      <td>0.000000</td>\n",
       "      <td>1.0</td>\n",
       "    </tr>\n",
       "    <tr>\n",
       "      <th>K01363</th>\n",
       "      <td>3224.0</td>\n",
       "      <td>0.0</td>\n",
       "      <td>0.0</td>\n",
       "      <td>0.000000</td>\n",
       "      <td>0.000000</td>\n",
       "      <td>1.0</td>\n",
       "    </tr>\n",
       "    <tr>\n",
       "      <th>K07873</th>\n",
       "      <td>2520.0</td>\n",
       "      <td>0.0</td>\n",
       "      <td>0.0</td>\n",
       "      <td>0.000000</td>\n",
       "      <td>0.000000</td>\n",
       "      <td>1.0</td>\n",
       "    </tr>\n",
       "    <tr>\n",
       "      <th>K01381</th>\n",
       "      <td>2009.0</td>\n",
       "      <td>0.0</td>\n",
       "      <td>0.0</td>\n",
       "      <td>0.000000</td>\n",
       "      <td>0.000000</td>\n",
       "      <td>1.0</td>\n",
       "    </tr>\n",
       "    <tr>\n",
       "      <th>K02943</th>\n",
       "      <td>1824.0</td>\n",
       "      <td>0.0</td>\n",
       "      <td>0.0</td>\n",
       "      <td>0.000000</td>\n",
       "      <td>0.000000</td>\n",
       "      <td>1.0</td>\n",
       "    </tr>\n",
       "    <tr>\n",
       "      <th>...</th>\n",
       "      <td>...</td>\n",
       "      <td>...</td>\n",
       "      <td>...</td>\n",
       "      <td>...</td>\n",
       "      <td>...</td>\n",
       "      <td>...</td>\n",
       "    </tr>\n",
       "    <tr>\n",
       "      <th>K20844</th>\n",
       "      <td>0.0</td>\n",
       "      <td>5.0</td>\n",
       "      <td>1.0</td>\n",
       "      <td>0.166667</td>\n",
       "      <td>0.833333</td>\n",
       "      <td>0.0</td>\n",
       "    </tr>\n",
       "    <tr>\n",
       "      <th>K21830</th>\n",
       "      <td>0.0</td>\n",
       "      <td>4.0</td>\n",
       "      <td>4.0</td>\n",
       "      <td>0.500000</td>\n",
       "      <td>0.500000</td>\n",
       "      <td>0.0</td>\n",
       "    </tr>\n",
       "    <tr>\n",
       "      <th>K22278</th>\n",
       "      <td>0.0</td>\n",
       "      <td>0.0</td>\n",
       "      <td>186.0</td>\n",
       "      <td>1.000000</td>\n",
       "      <td>0.000000</td>\n",
       "      <td>0.0</td>\n",
       "    </tr>\n",
       "    <tr>\n",
       "      <th>K22879</th>\n",
       "      <td>0.0</td>\n",
       "      <td>17.0</td>\n",
       "      <td>419.0</td>\n",
       "      <td>0.961009</td>\n",
       "      <td>0.038991</td>\n",
       "      <td>0.0</td>\n",
       "    </tr>\n",
       "    <tr>\n",
       "      <th>K24395</th>\n",
       "      <td>0.0</td>\n",
       "      <td>1.0</td>\n",
       "      <td>1.0</td>\n",
       "      <td>0.500000</td>\n",
       "      <td>0.500000</td>\n",
       "      <td>0.0</td>\n",
       "    </tr>\n",
       "  </tbody>\n",
       "</table>\n",
       "<p>2328 rows × 6 columns</p>\n",
       "</div>"
      ],
      "text/plain": [
       "           eve  evboth    evp  evp_norm  evboth_norm  eve_norm\n",
       "KOG                                                           \n",
       "K23617  5771.0     0.0    0.0  0.000000     0.000000       1.0\n",
       "K01363  3224.0     0.0    0.0  0.000000     0.000000       1.0\n",
       "K07873  2520.0     0.0    0.0  0.000000     0.000000       1.0\n",
       "K01381  2009.0     0.0    0.0  0.000000     0.000000       1.0\n",
       "K02943  1824.0     0.0    0.0  0.000000     0.000000       1.0\n",
       "...        ...     ...    ...       ...          ...       ...\n",
       "K20844     0.0     5.0    1.0  0.166667     0.833333       0.0\n",
       "K21830     0.0     4.0    4.0  0.500000     0.500000       0.0\n",
       "K22278     0.0     0.0  186.0  1.000000     0.000000       0.0\n",
       "K22879     0.0    17.0  419.0  0.961009     0.038991       0.0\n",
       "K24395     0.0     1.0    1.0  0.500000     0.500000       0.0\n",
       "\n",
       "[2328 rows x 6 columns]"
      ]
     },
     "execution_count": 83,
     "metadata": {},
     "output_type": "execute_result"
    }
   ],
   "source": [
    "koghmm_eval_e = tmp_eval_e.sort_values([\"eve_norm\", \"eve\"], ascending = False)\n",
    "koghmm_eval_e_asc = tmp_eval_e.sort_values([\"evp_norm\", \"evp\"])\n",
    "koghmm_eval_e"
   ]
  },
  {
   "cell_type": "code",
   "execution_count": 67,
   "id": "89b665e6",
   "metadata": {
    "tags": []
   },
   "outputs": [
    {
     "data": {
      "text/plain": [
       "293909.0"
      ]
     },
     "execution_count": 67,
     "metadata": {},
     "output_type": "execute_result"
    }
   ],
   "source": [
    "sum(koghmm_eval_p[koghmm_eval_p[\"pve_norm\"] > .9][\"pve\"])"
   ]
  },
  {
   "cell_type": "code",
   "execution_count": null,
   "id": "f4601298-a148-49d2-a80e-64ea6513fdbd",
   "metadata": {},
   "outputs": [],
   "source": []
  },
  {
   "cell_type": "code",
   "execution_count": 97,
   "id": "d7bd01db",
   "metadata": {
    "tags": []
   },
   "outputs": [],
   "source": [
    "koghmm_eval_e = tmp_eval_e.sort_values([\"eve_norm\", \"eve\"], ascending = False)\n",
    "koghmm_eval_e_asc = tmp_eval_e.sort_values([\"evp_norm\", \"evp\"])"
   ]
  },
  {
   "cell_type": "code",
   "execution_count": 95,
   "id": "e75a9279",
   "metadata": {
    "tags": []
   },
   "outputs": [
    {
     "data": {
      "text/plain": [
       "<Axes: xlabel='KOG'>"
      ]
     },
     "execution_count": 95,
     "metadata": {},
     "output_type": "execute_result"
    },
    {
     "data": {
      "image/png": "[encoded data removed]",
      "text/plain": [
       "<Figure size 640x480 with 1 Axes>"
      ]
     },
     "metadata": {},
     "output_type": "display_data"
    }
   ],
   "source": [
    "koghmm_eval_e_asc_vis = koghmm_eval_e_asc.loc[:, [\"eve_norm\", \"evboth_norm\", \"evp_norm\"]]\n",
    "koghmm_eval_e_asc_vis.plot.bar(rot=0, stacked=True)"
   ]
  },
  {
   "cell_type": "code",
   "execution_count": 96,
   "id": "c26ca732",
   "metadata": {
    "tags": []
   },
   "outputs": [
    {
     "data": {
      "text/plain": [
       "<Axes: xlabel='KOG'>"
      ]
     },
     "execution_count": 96,
     "metadata": {},
     "output_type": "execute_result"
    },
    {
     "data": {
      "image/png": "[encoded data removed]",
      "text/plain": [
       "<Figure size 640x480 with 1 Axes>"
      ]
     },
     "metadata": {},
     "output_type": "display_data"
    }
   ],
   "source": [
    "koghmm_eval_e_vis = koghmm_eval_e.loc[:, [\"eve_norm\", \"evboth_norm\", \"evp_norm\"]]\n",
    "koghmm_eval_e_vis.plot.bar(rot=0, stacked=True)"
   ]
  },
  {
   "cell_type": "markdown",
   "id": "f2c5674a",
   "metadata": {},
   "source": [
    "### investigate low quality prokaryotic HMMs"
   ]
  },
  {
   "cell_type": "code",
   "execution_count": 71,
   "id": "f9efbbbc",
   "metadata": {
    "tags": []
   },
   "outputs": [],
   "source": [
    "prok_bothdomainhits = prok_domainhits[prok_domainhits[\"euktarget\"].astype(bool) & prok_domainhits[\"proktarget\"].astype(bool)]\n",
    "prok_eukdomainhits = prok_domainhits[prok_domainhits[\"euktarget\"].astype(bool) & ~prok_domainhits[\"proktarget\"].astype(bool)]\n",
    "prok_prokdomainhits = prok_domainhits[~prok_domainhits[\"euktarget\"].astype(bool) & prok_domainhits[\"proktarget\"].astype(bool)]"
   ]
  },
  {
   "cell_type": "code",
   "execution_count": 72,
   "id": "e2b0a724",
   "metadata": {
    "tags": []
   },
   "outputs": [],
   "source": [
    "prok_missedprok = prok_eukdomainhits[prok_eukdomainhits[\"KOG\"].isin(relevant_kogs)]\n",
    "prok_hitboth = prok_bothdomainhits[prok_bothdomainhits[\"KOG\"].isin(relevant_kogs)]\n",
    "prok_justprok = prok_prokdomainhits[prok_prokdomainhits[\"KOG\"].isin(relevant_kogs)]"
   ]
  },
  {
   "cell_type": "code",
   "execution_count": 73,
   "id": "3b7f69b9",
   "metadata": {
    "tags": []
   },
   "outputs": [],
   "source": [
    "pvp_counts = prok_justprok[\"KOG\"].value_counts()\n",
    "pvboth_counts = prok_hitboth[\"KOG\"].value_counts()\n",
    "pve_counts = prok_missedprok[\"KOG\"].value_counts()\n",
    "tmp_merge = pd.merge(pvp_counts, pvboth_counts, how = \"outer\", on = \"KOG\")\n",
    "tmp_eval = pd.merge(tmp_merge, pve_counts, how = \"outer\", on = \"KOG\").rename(columns={\"count_x\": \"pvp\", \"count_y\": \"pvboth\", \"count\": \"pve\"}).fillna(0)"
   ]
  },
  {
   "cell_type": "code",
   "execution_count": 74,
   "id": "4da53587",
   "metadata": {
    "tags": []
   },
   "outputs": [],
   "source": [
    "tmp_eval[\"pvp_norm\"] = tmp_eval[\"pvp\"] / (tmp_eval[\"pvp\"] + tmp_eval[\"pvboth\"] + tmp_eval[\"pve\"])\n",
    "tmp_eval[\"pvboth_norm\"] = tmp_eval[\"pvboth\"] / (tmp_eval[\"pvp\"] + tmp_eval[\"pvboth\"] + tmp_eval[\"pve\"])\n",
    "tmp_eval[\"pve_norm\"] = tmp_eval[\"pve\"] / (tmp_eval[\"pvp\"] + tmp_eval[\"pvboth\"] + tmp_eval[\"pve\"])"
   ]
  },
  {
   "cell_type": "code",
   "execution_count": null,
   "id": "5971e186",
   "metadata": {},
   "outputs": [],
   "source": []
  },
  {
   "cell_type": "code",
   "execution_count": 77,
   "id": "424ef077",
   "metadata": {
    "tags": []
   },
   "outputs": [],
   "source": [
    "koghmm_eval_p = tmp_eval.sort_values([\"pvp_norm\", \"pvp\"], ascending = False)\n",
    "koghmm_eval_p_asc = tmp_eval.sort_values([\"pve_norm\", \"pve\"])"
   ]
  },
  {
   "cell_type": "code",
   "execution_count": 80,
   "id": "c43afe0c",
   "metadata": {
    "tags": []
   },
   "outputs": [
    {
     "data": {
      "text/plain": [
       "<Axes: xlabel='KOG'>"
      ]
     },
     "execution_count": 80,
     "metadata": {},
     "output_type": "execute_result"
    },
    {
     "data": {
      "image/png": "[encoded data removed]",
      "text/plain": [
       "<Figure size 640x480 with 1 Axes>"
      ]
     },
     "metadata": {},
     "output_type": "display_data"
    }
   ],
   "source": [
    "koghmm_eval_p_asc_vis = koghmm_eval_p_asc.loc[:, [\"pvp_norm\", \"pvboth_norm\", \"pve_norm\"]]\n",
    "koghmm_eval_p_asc_vis.plot.bar(rot=0, stacked=True)"
   ]
  },
  {
   "cell_type": "code",
   "execution_count": 81,
   "id": "214c8902",
   "metadata": {
    "tags": []
   },
   "outputs": [
    {
     "data": {
      "text/plain": [
       "<Axes: xlabel='KOG'>"
      ]
     },
     "execution_count": 81,
     "metadata": {},
     "output_type": "execute_result"
    },
    {
     "data": {
      "image/png": "[encoded data removed]",
      "text/plain": [
       "<Figure size 640x480 with 1 Axes>"
      ]
     },
     "metadata": {},
     "output_type": "display_data"
    }
   ],
   "source": [
    "koghmm_eval_p_vis = koghmm_eval_p.loc[:, [\"pvp_norm\", \"pvboth_norm\", \"pve_norm\"]]\n",
    "koghmm_eval_p_vis.plot.bar(rot=0, stacked=True)"
   ]
  },
  {
   "cell_type": "markdown",
   "id": "2e5b3429",
   "metadata": {},
   "source": [
    "### summary stats"
   ]
  },
  {
   "cell_type": "code",
   "execution_count": null,
   "id": "ab4af748-f0f7-442d-8714-b9cf6728785e",
   "metadata": {
    "tags": []
   },
   "outputs": [],
   "source": [
    "pvekog = accessions_prok_rel[accessions_prok_rel.euktarget == True][\"KOG\"].value_counts()\n",
    "pvpkog = accessions_prok_rel[accessions_prok_rel.proktarget == True][\"KOG\"].value_counts()\n",
    "evekog = accessions_euk_rel[accessions_euk_rel.euktarget == True][\"KOG\"].value_counts()\n",
    "evpkog = accessions_euk_rel[accessions_euk_rel.proktarget == True][\"KOG\"].value_counts()"
   ]
  },
  {
   "cell_type": "code",
   "execution_count": null,
   "id": "a207957c",
   "metadata": {
    "tags": []
   },
   "outputs": [],
   "source": [
    "pvallkog = pd.concat([pvekog, pvpkog])\n",
    "evallkog = pd.concat([evpkog, evekog])\n",
    "plotA, dfA = plot_cumsum_counts(pvallkog, x_min = 1, plot_type = \"default\", title = \"prok hits vs all kogs\")\n",
    "plotB, dfB = plot_cumsum_counts(evallkog, x_min = 1, plot_type = \"default\", title = \"euk hits vs all kogs\")\n",
    "unfiltered_data_vall = pd.concat([dfA, dfB])\n",
    "plot, data = plot_cumsum_counts(unfiltered_data_vall, formatted_data=True, title='microcosm size breakdown', plot_type='default', x_label = \"hits per kog\")\n",
    "plot"
   ]
  },
  {
   "cell_type": "code",
   "execution_count": null,
   "id": "f0b909ff",
   "metadata": {
    "tags": []
   },
   "outputs": [],
   "source": [
    "plot1, df1 = plot_cumsum_counts(pvekog, x_min = 1, plot_type = \"default\", title = \"prok hits vs euk kog\")\n",
    "plot2, df2 = plot_cumsum_counts(pvpkog, x_min = 1, plot_type = \"default\", title = \"prok hits vs prok kog\")\n",
    "plot3, df3 = plot_cumsum_counts(evekog, x_min = 1, plot_type = \"default\", title = \"euk hits vs euk kog\")\n",
    "plot4, df4 = plot_cumsum_counts(evpkog, x_min = 1, plot_type = \"default\", title = \"euk hits vs prok kog\")\n",
    "unfiltered_data = pd.concat([df1, df2, df3, df4])\n",
    "plot, data = plot_cumsum_counts(unfiltered_data, formatted_data=True, title='microcosm size breakdown', plot_type='default', x_label = \"hits per kog\")\n",
    "plot"
   ]
  },
  {
   "cell_type": "code",
   "execution_count": null,
   "id": "318adcaa-4425-4850-b2d9-b4930da25567",
   "metadata": {
    "tags": []
   },
   "outputs": [],
   "source": [
    "plot1, df1 = plot_cumsum_counts(pvekog, x_min = 1, plot_type = \"default\", title = \"prok hits vs euk kog\")\n",
    "plot2, df2 = plot_cumsum_counts(pvpkog, x_min = 1, plot_type = \"default\", title = \"prok hits vs prok kog\")\n",
    "plot3, df3 = plot_cumsum_counts(evekog, x_min = 1, plot_type = \"default\", title = \"euk hits vs euk kog\")\n",
    "plot4, df4 = plot_cumsum_counts(evpkog, x_min = 1, plot_type = \"default\", title = \"euk hits vs prok kog\")\n",
    "unfiltered_data = pd.concat([df1, df2, df3, df4])\n",
    "plot, data = plot_cumsum_counts(unfiltered_data, formatted_data=True, title='microcosm size breakdown', plot_type='default', x_label = \"hits per kog\")\n",
    "plot"
   ]
  },
  {
   "cell_type": "code",
   "execution_count": 25,
   "id": "358b7b09-ce01-441c-ba68-aa405d368edd",
   "metadata": {},
   "outputs": [],
   "source": [
    "# kogids = accessions_prok_out[\"Target\"]\n",
    "# queryids = accessions_prok_out[\"Query\"]\n",
    "# for i in range(len(accessions_prok_out)):\n",
    "#     kogid, uid = kogids[i], queryids[i]\n",
    "#     outpath = f\"/data/luojaa/eukgen/processing/microcosm_enriched/{kogid}/{kogid}.target.acc\"\n",
    "#     with open(outpath, \"w\") as outfile:\n",
    "#         print(uid, file=outfile)"
   ]
  },
  {
   "cell_type": "code",
   "execution_count": null,
   "id": "3d4f267c-87a4-44d3-8e6d-a2761c461212",
   "metadata": {},
   "outputs": [],
   "source": [
    "# kogids = accessions_euk_out[\"Target\"]\n",
    "# queryids = accessions_euk_out[\"Query\"]\n",
    "# for i in range(len(accessions_euk_out)):\n",
    "#     kogid, uid = kogids[i], queryids[i]\n",
    "#     outpath = f\"/data/luojaa/eukgen/processing/microcosm_enriched/{kogid}/{kogid}.query.acc\"\n",
    "#     try:\n",
    "#         # with open(outpath, \"w\") as outfile:\n",
    "#         #     print(uid, file=outfile)\n",
    "#         os.listdir(f\"/data/luojaa/eukgen/processing/microcosm_enriched/{kogid}\")\n",
    "#     except:\n",
    "#         print(kogid)"
   ]
  },
  {
   "cell_type": "code",
   "execution_count": 27,
   "id": "75133778-ca70-4aa0-9ca0-0bfe4fda36e8",
   "metadata": {
    "tags": []
   },
   "outputs": [],
   "source": [
    "prok_target_set = set(accessions_prok[\"Target\"])\n",
    "kogswboth_set = set(relevant_kogs)"
   ]
  },
  {
   "cell_type": "code",
   "execution_count": 46,
   "id": "38c47893-f246-4315-bea7-3b38fade26db",
   "metadata": {
    "tags": []
   },
   "outputs": [],
   "source": [
    "euk_target_set = set(accessions_euk[\"Target\"])\n",
    "noeuk = list(kogswboth_set.difference(euk_target_set))"
   ]
  },
  {
   "cell_type": "code",
   "execution_count": 28,
   "id": "6dc9b23b-be6e-4e25-b171-8739eec68aef",
   "metadata": {
    "tags": []
   },
   "outputs": [],
   "source": [
    "prok_allhits_set = set(hhresults_df[\"Target\"])"
   ]
  },
  {
   "cell_type": "code",
   "execution_count": 50,
   "id": "159e7cb1-af9c-4e25-998f-7e873cadb48b",
   "metadata": {
    "tags": []
   },
   "outputs": [
    {
     "name": "stderr",
     "output_type": "stream",
     "text": [
      "rm: cannot remove '/data/luojaa/eukgen/processing/microcosm_enriched/K19720/': No such file or directory\n"
     ]
    }
   ],
   "source": [
    "# for kogid in noeuk:\n",
    "#     os.system(f\"rm -R /data/luojaa/eukgen/processing/microcosm_enriched/{kogid}/\")"
   ]
  },
  {
   "cell_type": "code",
   "execution_count": 30,
   "id": "c21def71-14ef-4191-8a98-c82a600263d2",
   "metadata": {
    "tags": []
   },
   "outputs": [],
   "source": [
    "# for kogid in noprok:\n",
    "#     os.system(f\"rmdir /data/luojaa/eukgen/processing/microcosm_enriched/{kogid}/\")"
   ]
  },
  {
   "cell_type": "code",
   "execution_count": 29,
   "id": "f312c3d3-de1c-4185-ba05-3fdc09f6a32e",
   "metadata": {
    "tags": []
   },
   "outputs": [],
   "source": [
    "noprok = list(kogswboth_set.difference(prok_target_set))"
   ]
  },
  {
   "cell_type": "code",
   "execution_count": 86,
   "id": "e0e1b0ff-75e5-4d4a-8aff-1bc17afd9b57",
   "metadata": {
    "tags": []
   },
   "outputs": [],
   "source": [
    "kogswboth_hits_set = prok_target_set.intersection(euk_target_set)"
   ]
  },
  {
   "cell_type": "markdown",
   "id": "872d6664",
   "metadata": {},
   "source": [
    "### for taxonomy report\n"
   ]
  },
  {
   "cell_type": "code",
   "execution_count": 72,
   "id": "cc9bc931-0e55-4478-91fa-8f154b65c7df",
   "metadata": {
    "tags": []
   },
   "outputs": [],
   "source": [
    "# for taxonomy report\n",
    "\n",
    "euk_both = hhresults_euk_knum[hhresults_euk_knum[\"Target\"].isin(kogswboth_hits_set)]\n",
    "prok_both = hhresults_knum[hhresults_knum[\"Target\"].isin(kogswboth_hits_set)]"
   ]
  },
  {
   "cell_type": "code",
   "execution_count": 91,
   "id": "bcd2f97c-8c8f-4638-b21e-f67ea9987f57",
   "metadata": {
    "tags": []
   },
   "outputs": [],
   "source": [
    "euk_both_ids = set(euk_both[\"Query\"])\n",
    "prok_both_ids = set(prok_both[\"Query\"])"
   ]
  },
  {
   "cell_type": "code",
   "execution_count": 92,
   "id": "27f7d4e2-a4d0-468b-8217-a85af065afd7",
   "metadata": {},
   "outputs": [],
   "source": [
    "\n",
    "with open(\"/data/luojaa/eukgen/mmseqs_victor/ran_euk/bothdomains.ids\", \"w\") as outfile:\n",
    "    for queryid in euk_both_ids:\n",
    "        print(queryid,file=outfile)"
   ]
  },
  {
   "cell_type": "code",
   "execution_count": 95,
   "id": "28629209-93f7-4a27-b0c7-74def57fa94e",
   "metadata": {
    "tags": []
   },
   "outputs": [],
   "source": [
    "with open(\"/data/luojaa/eukgen/mmseqs_victor/ran_prok/bothdomains.ids\", \"w\") as outfile:\n",
    "    for queryid in prok_both_ids:\n",
    "        print(queryid,file=outfile)"
   ]
  },
  {
   "cell_type": "code",
   "execution_count": 101,
   "id": "61322919-11d4-4696-be35-dac8456d8889",
   "metadata": {
    "tags": []
   },
   "outputs": [
    {
     "data": {
      "text/plain": [
       "4492081"
      ]
     },
     "execution_count": 101,
     "metadata": {},
     "output_type": "execute_result"
    }
   ],
   "source": [
    "len(prok_both_ids)"
   ]
  },
  {
   "cell_type": "code",
   "execution_count": null,
   "id": "a41487dd-5d91-4c1a-b654-84893588bd84",
   "metadata": {},
   "outputs": [],
   "source": []
  }
 ],
 "metadata": {
  "kernelspec": {
   "display_name": "default",
   "language": "python",
   "name": "default"
  },
  "language_info": {
   "codemirror_mode": {
    "name": "ipython",
    "version": 3
   },
   "file_extension": ".py",
   "mimetype": "text/x-python",
   "name": "python",
   "nbconvert_exporter": "python",
   "pygments_lexer": "ipython3",
   "version": "3.12.2"
  }
 },
 "nbformat": 4,
 "nbformat_minor": 5
}
