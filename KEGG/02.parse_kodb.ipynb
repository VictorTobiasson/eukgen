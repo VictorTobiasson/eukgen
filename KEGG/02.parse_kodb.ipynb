{
 "cells": [
  {
   "cell_type": "code",
   "execution_count": 1,
   "id": "636b543c-7097-4b8f-b821-6b215d1efe24",
   "metadata": {},
   "outputs": [],
   "source": [
    "import pandas as pd\n",
    "import numpy as np\n",
    "from numpy import nan\n",
    "from collections import defaultdict \n",
    "import ast\n",
    "import regex as re\n",
    "import os"
   ]
  },
  {
   "cell_type": "code",
   "execution_count": 2,
   "id": "79f40c75-6101-4a5e-95ca-d69b52522eab",
   "metadata": {},
   "outputs": [],
   "source": [
    "def get_rowdict(infile):\n",
    "    entry_row, symbol_row, name_row, pathway_row = False, False, False, False\n",
    "    module_row, reaction_row, network_row, disease_row, brite_row, dblinks_row, gene_row, ref_row = False, False, False, False, False, False, False, False\n",
    "    with open(infile, \"r\") as f:\n",
    "        lines = f.readlines()\n",
    "        for row_ind in range(0, len(lines)):\n",
    "            line = lines[row_ind]\n",
    "            line = line.split(\"  \")\n",
    "            if line[0] == \"ENTRY\":\n",
    "                entry_row = row_ind\n",
    "            elif line[0] == \"SYMBOL\":\n",
    "                symbol_row = row_ind\n",
    "            elif line[0] == \"NAME\":\n",
    "                name_row = row_ind\n",
    "            elif line[0] == \"PATHWAY\":\n",
    "                pathway_row = row_ind\n",
    "            elif line[0] == \"MODULE\":\n",
    "                module_row = row_ind\n",
    "            elif line[0] == \"REACTION\":\n",
    "                reaction_row = row_ind\n",
    "            elif line[0] == \"NETWORK\":\n",
    "                network_row = row_ind\n",
    "            elif line[0] == \"DISEASE\":\n",
    "                disease_row = row_ind\n",
    "            elif line[0] == \"BRITE\":\n",
    "                brite_row = row_ind\n",
    "            elif line[0] == \"DBLINKS\":\n",
    "                dblinks_row = row_ind\n",
    "            elif line[0] == \"GENES\":\n",
    "                gene_row = row_ind\n",
    "            elif line[0] == \"REFERENCE\":\n",
    "                ref_row = row_ind\n",
    "                break\n",
    "        rows_dict = {\"pathway\": pathway_row, \"module\": module_row, \"reaction\": reaction_row, \"network\": network_row,\n",
    "             \"disease\": disease_row, \"brite\": brite_row, \"dblinks\": dblinks_row, \"gene\": gene_row, \"ref\": ref_row}\n",
    "        return rows_dict"
   ]
  },
  {
   "cell_type": "code",
   "execution_count": 3,
   "id": "cef5af4c-0aea-402b-a166-a80d4c6ba3dc",
   "metadata": {},
   "outputs": [],
   "source": [
    "def parse_entry(entry_row, lines, out_dict): # standard rows- 0:1\n",
    "    key = \"ENTRY\"\n",
    "    line_list = lines[entry_row][len(key):].strip().split(\" \")\n",
    "    entry = line_list[0]\n",
    "    out_dict[key].append(entry)\n",
    "    return entry\n",
    "    \n",
    "def parse_symbol_alias(symbol_row, lines, out_dict): # standard rows- 1:2\n",
    "    key1, key2 = \"SYMBOL\", \"ALIAS\"\n",
    "    line_list = lines[symbol_row][len(key1):].strip().split(\", \")\n",
    "    symbol = line_list[0]\n",
    "    if len(line_list) > 1:\n",
    "        alias = \", \".join(line_list[1:])\n",
    "    else:\n",
    "        alias = nan\n",
    "    out_dict[key1].append(symbol)\n",
    "    out_dict[key2].append(alias)\n",
    "    \n",
    "def parse_name(name_row, lines, out_dict): # standard rows- 2:3\n",
    "    key = \"NAME\"\n",
    "    name_ec = lines[name_row][len(key):].strip().split(\" [\") #\n",
    "    name = name_ec[0]\n",
    "    out_dict[key].append(name)\n",
    "\n",
    "def parse_pathway_id(lines, row_dict, out_dict): # if it exists, 3:4\n",
    "    key1, key2 = \"PATHWAY_ID\", \"PATHWAY_NAME\"\n",
    "    if not row_dict[\"pathway\"]:\n",
    "        out_dict[key1].append(nan)\n",
    "        out_dict[key2].append(nan)\n",
    "    else:\n",
    "        pathway_row = row_dict[\"pathway\"]\n",
    "        ordered_keys = [\"module\", \"reaction\", \"network\", \"disease\", \"brite\", \"dblinks\", \"gene\", \"ref\"]\n",
    "        ind = 0\n",
    "        next_section_row = row_dict[ordered_keys[ind]]\n",
    "        try:\n",
    "            while not next_section_row:\n",
    "                ind = ind + 1\n",
    "                next_section_row = row_dict[ordered_keys[ind]]\n",
    "        except: # pathway is the last key\n",
    "            next_section_row = len(lines) - 1 # iterates up to the second to last line\n",
    "        lines[pathway_row] = lines[pathway_row][7:] # remove \"PATHWAY\" header\n",
    "        ids, names = [], []\n",
    "        for line in lines[pathway_row:next_section_row]:\n",
    "            path_id, name = line.strip().split(\"  \")\n",
    "            ids.append(path_id)\n",
    "            names.append(name)\n",
    "        # get two columns, split into multiple rows later\n",
    "        out_dict[key1].append(\"DELIMITER?XD\".join(ids))\n",
    "        out_dict[key2].append(\"DELIMITER?XD\".join(names))"
   ]
  },
  {
   "cell_type": "code",
   "execution_count": 4,
   "id": "7bf71b26-e943-4f48-ba1c-81d43e561eb3",
   "metadata": {},
   "outputs": [],
   "source": [
    "# infile = \"Data/KO/K00001.txt\"\n",
    "# with open(infile, \"r\") as f:\n",
    "#     lines = f.readlines()\n",
    "#     row_dict = get_rowdict(infile)\n",
    "#     test_dict = defaultdict(list)\n",
    "#     entry = parse_entry(0, lines, test_dict)\n",
    "#     parse_symbol_alias(1, lines, test_dict)\n",
    "#     parse_name(2, lines, test_dict)\n",
    "#     parse_pathway_id(lines, row_dict, test_dict)\n",
    "\n",
    "# df_test = pd.DataFrame(test_dict)\n",
    "\n",
    "# df_test[\"PATHWAY_ID\"] = df_test[\"PATHWAY_ID\"].apply(lambda pathway: pathway.split(\"DELIMITER?XD\") if not pd.isnull(pathway) else nan)\n",
    "# df_test[\"PATHWAY_NAME\"] = df_test[\"PATHWAY_NAME\"].apply(lambda pathway: pathway.split(\"DELIMITER?XD\") if not pd.isnull(pathway) else nan)\n",
    "\n",
    "# df_test_full = df_test.explode([\"PATHWAY_ID\", \"PATHWAY_NAME\"])\n",
    "# df_test_full\n"
   ]
  },
  {
   "cell_type": "code",
   "execution_count": 6,
   "id": "6fc901d2-5d51-4a0e-985c-f5ab026026d9",
   "metadata": {},
   "outputs": [],
   "source": [
    "#K26474 requires encoding = latin-1, not default utf-8)\n",
    "infiles = [\"Data/KO/\" + file for file in os.listdir(\"Data/KO\")]\n",
    "infiles.remove(\"Data/KO/K26474.txt\")\n",
    "infiles.remove(\"Data/KO/.DS_Store\")\n",
    "infiles.remove(\"Data/KO/.ipynb_checkpoints\")\n",
    "infiles_1000 = infiles[:1000]\n",
    "\n",
    "# construct full sized dataframe dictionary\n",
    "full_out_dict = defaultdict(list)\n",
    "for infile in infiles_1000:\n",
    "    with open(infile, \"r\") as f:\n",
    "        lines = f.readlines()\n",
    "        row_dict = get_rowdict(infile)\n",
    "        entry = parse_entry(0, lines, full_out_dict)\n",
    "        parse_symbol_alias(1, lines, full_out_dict)\n",
    "        parse_name(2, lines, full_out_dict)\n",
    "        parse_pathway_id(lines, row_dict, full_out_dict)"
   ]
  },
  {
   "cell_type": "code",
   "execution_count": null,
   "id": "d0ca103b-6b3f-4738-84b2-8b8547bae799",
   "metadata": {},
   "outputs": [],
   "source": []
  },
  {
   "cell_type": "code",
   "execution_count": 10,
   "id": "be85f635-efa2-4e12-9374-8a8f1c25816d",
   "metadata": {},
   "outputs": [],
   "source": [
    "df_summary_full = pd.DataFrame(full_out_dict)"
   ]
  },
  {
   "cell_type": "code",
   "execution_count": 13,
   "id": "bd8a6a58-7c97-4c6d-a26f-3fa04f9bd42e",
   "metadata": {},
   "outputs": [
    {
     "data": {
      "text/html": [
       "<div>\n",
       "<style scoped>\n",
       "    .dataframe tbody tr th:only-of-type {\n",
       "        vertical-align: middle;\n",
       "    }\n",
       "\n",
       "    .dataframe tbody tr th {\n",
       "        vertical-align: top;\n",
       "    }\n",
       "\n",
       "    .dataframe thead th {\n",
       "        text-align: right;\n",
       "    }\n",
       "</style>\n",
       "<table border=\"1\" class=\"dataframe\">\n",
       "  <thead>\n",
       "    <tr style=\"text-align: right;\">\n",
       "      <th></th>\n",
       "      <th>ENTRY</th>\n",
       "      <th>SYMBOL</th>\n",
       "      <th>ALIAS</th>\n",
       "      <th>NAME</th>\n",
       "      <th>PATHWAY_ID</th>\n",
       "      <th>PATHWAY_NAME</th>\n",
       "    </tr>\n",
       "  </thead>\n",
       "  <tbody>\n",
       "    <tr>\n",
       "      <th>0</th>\n",
       "      <td>K20411</td>\n",
       "      <td>PRR5</td>\n",
       "      <td>PROTOR</td>\n",
       "      <td>proline-rich protein 5</td>\n",
       "      <td>map04150</td>\n",
       "      <td>mTOR signaling pathway</td>\n",
       "    </tr>\n",
       "    <tr>\n",
       "      <th>1</th>\n",
       "      <td>K11814</td>\n",
       "      <td>ebrA</td>\n",
       "      <td>NaN</td>\n",
       "      <td>multidrug resistance protein EbrA</td>\n",
       "      <td>NaN</td>\n",
       "      <td>NaN</td>\n",
       "    </tr>\n",
       "    <tr>\n",
       "      <th>2</th>\n",
       "      <td>K26060</td>\n",
       "      <td>gtd2</td>\n",
       "      <td>NaN</td>\n",
       "      <td>glucoside 3-dehydrogenase (cytochrome c) hitch...</td>\n",
       "      <td>NaN</td>\n",
       "      <td>NaN</td>\n",
       "    </tr>\n",
       "    <tr>\n",
       "      <th>3</th>\n",
       "      <td>K09083</td>\n",
       "      <td>ATOH1_7</td>\n",
       "      <td>NaN</td>\n",
       "      <td>atonal protein 1/7</td>\n",
       "      <td>NaN</td>\n",
       "      <td>NaN</td>\n",
       "    </tr>\n",
       "    <tr>\n",
       "      <th>4</th>\n",
       "      <td>K00919</td>\n",
       "      <td>ispE</td>\n",
       "      <td>NaN</td>\n",
       "      <td>4-diphosphocytidyl-2-C-methyl-D-erythritol kinase</td>\n",
       "      <td>map00900</td>\n",
       "      <td>Terpenoid backbone biosynthesis</td>\n",
       "    </tr>\n",
       "    <tr>\n",
       "      <th>...</th>\n",
       "      <td>...</td>\n",
       "      <td>...</td>\n",
       "      <td>...</td>\n",
       "      <td>...</td>\n",
       "      <td>...</td>\n",
       "      <td>...</td>\n",
       "    </tr>\n",
       "    <tr>\n",
       "      <th>997</th>\n",
       "      <td>K11785</td>\n",
       "      <td>mqnD</td>\n",
       "      <td>NaN</td>\n",
       "      <td>1,4-dihydroxy-6-naphthoate synthase</td>\n",
       "      <td>map01100</td>\n",
       "      <td>Metabolic pathways</td>\n",
       "    </tr>\n",
       "    <tr>\n",
       "      <th>997</th>\n",
       "      <td>K11785</td>\n",
       "      <td>mqnD</td>\n",
       "      <td>NaN</td>\n",
       "      <td>1,4-dihydroxy-6-naphthoate synthase</td>\n",
       "      <td>map01110</td>\n",
       "      <td>Biosynthesis of secondary metabolites</td>\n",
       "    </tr>\n",
       "    <tr>\n",
       "      <th>997</th>\n",
       "      <td>K11785</td>\n",
       "      <td>mqnD</td>\n",
       "      <td>NaN</td>\n",
       "      <td>1,4-dihydroxy-6-naphthoate synthase</td>\n",
       "      <td>map01240</td>\n",
       "      <td>Biosynthesis of cofactors</td>\n",
       "    </tr>\n",
       "    <tr>\n",
       "      <th>998</th>\n",
       "      <td>K26129</td>\n",
       "      <td>SHLD2</td>\n",
       "      <td>NaN</td>\n",
       "      <td>shieldin complex subunit 2</td>\n",
       "      <td>NaN</td>\n",
       "      <td>NaN</td>\n",
       "    </tr>\n",
       "    <tr>\n",
       "      <th>999</th>\n",
       "      <td>K21646</td>\n",
       "      <td>GCR1</td>\n",
       "      <td>NaN</td>\n",
       "      <td>glycolytic genes transcriptional activator GCR1</td>\n",
       "      <td>NaN</td>\n",
       "      <td>NaN</td>\n",
       "    </tr>\n",
       "  </tbody>\n",
       "</table>\n",
       "<p>2151 rows × 6 columns</p>\n",
       "</div>"
      ],
      "text/plain": [
       "      ENTRY   SYMBOL   ALIAS  \\\n",
       "0    K20411     PRR5  PROTOR   \n",
       "1    K11814     ebrA     NaN   \n",
       "2    K26060     gtd2     NaN   \n",
       "3    K09083  ATOH1_7     NaN   \n",
       "4    K00919     ispE     NaN   \n",
       "..      ...      ...     ...   \n",
       "997  K11785     mqnD     NaN   \n",
       "997  K11785     mqnD     NaN   \n",
       "997  K11785     mqnD     NaN   \n",
       "998  K26129    SHLD2     NaN   \n",
       "999  K21646     GCR1     NaN   \n",
       "\n",
       "                                                  NAME PATHWAY_ID  \\\n",
       "0                               proline-rich protein 5   map04150   \n",
       "1                    multidrug resistance protein EbrA        NaN   \n",
       "2    glucoside 3-dehydrogenase (cytochrome c) hitch...        NaN   \n",
       "3                                   atonal protein 1/7        NaN   \n",
       "4    4-diphosphocytidyl-2-C-methyl-D-erythritol kinase   map00900   \n",
       "..                                                 ...        ...   \n",
       "997                1,4-dihydroxy-6-naphthoate synthase   map01100   \n",
       "997                1,4-dihydroxy-6-naphthoate synthase   map01110   \n",
       "997                1,4-dihydroxy-6-naphthoate synthase   map01240   \n",
       "998                         shieldin complex subunit 2        NaN   \n",
       "999    glycolytic genes transcriptional activator GCR1        NaN   \n",
       "\n",
       "                              PATHWAY_NAME  \n",
       "0                   mTOR signaling pathway  \n",
       "1                                      NaN  \n",
       "2                                      NaN  \n",
       "3                                      NaN  \n",
       "4          Terpenoid backbone biosynthesis  \n",
       "..                                     ...  \n",
       "997                     Metabolic pathways  \n",
       "997  Biosynthesis of secondary metabolites  \n",
       "997              Biosynthesis of cofactors  \n",
       "998                                    NaN  \n",
       "999                                    NaN  \n",
       "\n",
       "[2151 rows x 6 columns]"
      ]
     },
     "execution_count": 13,
     "metadata": {},
     "output_type": "execute_result"
    }
   ],
   "source": [
    "df_summary_full_pathways"
   ]
  },
  {
   "cell_type": "code",
   "execution_count": 12,
   "id": "b16c9754-3d37-4379-808f-3a4179b53c52",
   "metadata": {},
   "outputs": [],
   "source": [
    "df_summary_full = pd.DataFrame(full_out_dict)\n",
    "df_summary_full[\"PATHWAY_ID\"] = df_summary_full[\"PATHWAY_ID\"].apply(lambda pathway: pathway.split(\"DELIMITER?XD\") if not pd.isnull(pathway) else nan)\n",
    "df_summary_full[\"PATHWAY_NAME\"] = df_summary_full[\"PATHWAY_NAME\"].apply(lambda pathway: pathway.split(\"DELIMITER?XD\") if not pd.isnull(pathway) else nan)\n",
    "\n",
    "df_summary_full_pathways = df_summary_full.explode([\"PATHWAY_ID\", \"PATHWAY_NAME\"])\n",
    "# df_summary_full_pathways.to_csv('kegg_pathways.58345.tsv', sep = \"\\t\", index = False)  \n"
   ]
  },
  {
   "cell_type": "code",
   "execution_count": 195,
   "id": "d8a00ec5-9f23-4d75-9204-72e6444fe048",
   "metadata": {},
   "outputs": [
    {
     "data": {
      "text/plain": [
       "'keratinocyte differentiation-associated protein'"
      ]
     },
     "execution_count": 195,
     "metadata": {},
     "output_type": "execute_result"
    }
   ],
   "source": [
    "df_summary_full_pathways.head(20).loc[:,\"NAME\"][7]"
   ]
  },
  {
   "cell_type": "markdown",
   "id": "0a85ed67-6023-414b-bae2-e0fb466ad4c5",
   "metadata": {},
   "source": [
    " ## start parsing genes"
   ]
  },
  {
   "cell_type": "code",
   "execution_count": 14,
   "id": "cfa5f599-d85e-4fd0-a5c1-21943d196607",
   "metadata": {},
   "outputs": [],
   "source": [
    "def parse_genes(lines, row_dict, gene_dict, entry):\n",
    "    gene_row = row_dict[\"gene\"]\n",
    "    if row_dict[\"ref\"]:\n",
    "        lines = lines[gene_row:row_dict[\"ref\"]]\n",
    "    else:\n",
    "        lines = lines[gene_row:-1] # ignore last line: ///\n",
    "    lines[0] = lines[0][6:] # strip header\n",
    "    for line in lines: # for each species\n",
    "        org, values = line.strip().split(\": \")\n",
    "        values = values.split(\" \")\n",
    "        for value in values:\n",
    "            try:\n",
    "                cds_alias = value.split(\"(\")\n",
    "                cds, alias = cds_alias[0], cds_alias[1][:-1] # strip close parenthesis\n",
    "            except:\n",
    "                cds = value\n",
    "                alias = nan\n",
    "            gene_dict[\"ENTRY\"].append(entry)\n",
    "            gene_dict[\"ALIAS\"].append(alias)\n",
    "            gene_dict[\"KEGG_CDS\"].append(cds)\n",
    "            gene_dict[\"KEGG_ORG\"].append(org)\n",
    "    "
   ]
  },
  {
   "cell_type": "code",
   "execution_count": 15,
   "id": "a7fbbb05-d11c-44a7-9ae1-ed37092a11db",
   "metadata": {},
   "outputs": [],
   "source": [
    "## test area\n",
    "# infile = \"Data/KO/K00001.txt\"\n",
    "# with open(infile, \"r\") as f:\n",
    "#     lines = f.readlines()\n",
    "#     row_dict = get_rowdict(infile)\n",
    "#     temp_dict = defaultdict(list)\n",
    "#     test_gene_dict = defaultdict(list)\n",
    "#     entry = parse_entry(0, lines, temp_dict)\n",
    "#     parse_genes(lines, row_dict, test_gene_dict, entry)"
   ]
  },
  {
   "cell_type": "code",
   "execution_count": 16,
   "id": "3b5c5839-660d-429c-bd7a-9fde2ce1141e",
   "metadata": {},
   "outputs": [
    {
     "data": {
      "text/plain": [
       "'Data/KO/K20411.txt'"
      ]
     },
     "execution_count": 16,
     "metadata": {},
     "output_type": "execute_result"
    }
   ],
   "source": [
    "infiles_1000[0]"
   ]
  },
  {
   "cell_type": "code",
   "execution_count": 23,
   "id": "a527b7fc-54d6-47c8-9a1b-5678b2eb200c",
   "metadata": {},
   "outputs": [],
   "source": [
    "gene_dict = defaultdict(list)\n",
    "for infile in infiles:\n",
    "    with open(infile, \"r\") as f:\n",
    "        lines = f.readlines()\n",
    "        row_dict = get_rowdict(infile)\n",
    "        temp_dict = defaultdict(list)\n",
    "        entry = parse_entry(0, lines, temp_dict)\n",
    "        parse_genes(lines, row_dict, gene_dict, entry)"
   ]
  },
  {
   "cell_type": "code",
   "execution_count": 45,
   "id": "6f49edf0-d932-4030-a2da-ad7a36168c38",
   "metadata": {},
   "outputs": [],
   "source": [
    "df_genes = pd.DataFrame(gene_dict)\n",
    "# df_genes[\"KEGG_ORG\"].value_counts()\n",
    "df_genes.to_csv('kegg_genes.27M.tsv', sep = \"\\t\", index = False)  "
   ]
  },
  {
   "cell_type": "markdown",
   "id": "5db350da-5627-454a-a0c5-c15646ba14a6",
   "metadata": {},
   "source": [
    "### get all kegg organisms to map ncbi ids (python script)\n",
    "#### complete df_genes in map_genes notebook"
   ]
  },
  {
   "cell_type": "code",
   "execution_count": 25,
   "id": "2edd112e-4725-4807-ab01-1fc51cb3289b",
   "metadata": {},
   "outputs": [],
   "source": [
    "with open(\"Data/kegg_orgs.txt\", \"a\") as outfile:\n",
    "    for orgid in set(df_genes[\"KEGG_ORG\"]):\n",
    "        print(orgid, file=outfile)"
   ]
  },
  {
   "cell_type": "code",
   "execution_count": 31,
   "id": "355f8cea-c078-4a5f-99fb-8f915217674c",
   "metadata": {},
   "outputs": [
    {
     "data": {
      "text/plain": [
       "27040763"
      ]
     },
     "execution_count": 31,
     "metadata": {},
     "output_type": "execute_result"
    }
   ],
   "source": [
    "len(set(df_genes[\"KEGG_CDS\"]))"
   ]
  },
  {
   "cell_type": "code",
   "execution_count": null,
   "id": "9655264d-2b6e-4052-8750-3a6e3097c243",
   "metadata": {},
   "outputs": [],
   "source": []
  }
 ],
 "metadata": {
  "kernelspec": {
   "display_name": "Python 3 (ipykernel)",
   "language": "python",
   "name": "python3"
  },
  "language_info": {
   "codemirror_mode": {
    "name": "ipython",
    "version": 3
   },
   "file_extension": ".py",
   "mimetype": "text/x-python",
   "name": "python",
   "nbconvert_exporter": "python",
   "pygments_lexer": "ipython3",
   "version": "3.12.2"
  }
 },
 "nbformat": 4,
 "nbformat_minor": 5
}
