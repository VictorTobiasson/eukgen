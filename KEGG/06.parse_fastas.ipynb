{
 "cells": [
  {
   "cell_type": "code",
   "execution_count": 18,
   "id": "cdeaf221-865b-4a54-9509-f5cd150d8cff",
   "metadata": {
    "tags": []
   },
   "outputs": [],
   "source": [
    "import ete3\n",
    "from Bio import SeqIO\n",
    "import regex as re\n",
    "import os\n",
    "import pandas as pd"
   ]
  },
  {
   "cell_type": "code",
   "execution_count": 2,
   "id": "8c7a7e78-3955-4217-82b6-e0ffea29d28e",
   "metadata": {
    "tags": []
   },
   "outputs": [],
   "source": [
    "# read single fasta as infile :/\n",
    "# extract uid from record.id and Tax= from record.description\n",
    "# check if uid in a kog\n",
    "# get taxid and write to uid_taxid file\n",
    "# get domain and write to kog-level fasta file"
   ]
  },
  {
   "cell_type": "code",
   "execution_count": 3,
   "id": "b39b2210-53d9-4fa5-8419-fc043f028af8",
   "metadata": {
    "tags": []
   },
   "outputs": [],
   "source": [
    "#uid2kog[\"A6QBT0\"]"
   ]
  },
  {
   "cell_type": "code",
   "execution_count": 20,
   "id": "a3b060d6-c95c-49ce-a66d-0db93588f526",
   "metadata": {
    "tags": []
   },
   "outputs": [],
   "source": [
    "uid2kog_df = pd.DataFrame(uid2kog.items())"
   ]
  },
  {
   "cell_type": "code",
   "execution_count": 23,
   "id": "ab490e3c-1a5e-4032-8049-783b0722eb13",
   "metadata": {
    "tags": []
   },
   "outputs": [],
   "source": [
    "uid2kog_df.rename(columns={0:\"uid\", 1:\"kog\"})\n",
    "uid2kog_df.to_csv(\"/data/luojaa/uid2kogs.csv\")"
   ]
  },
  {
   "cell_type": "code",
   "execution_count": 4,
   "id": "9cb32273-cff2-4079-a9c4-ae453a97f691",
   "metadata": {
    "tags": []
   },
   "outputs": [],
   "source": [
    "testpath = f\"/data/luojaa/kegg/kog_uid/K00001.tsv\"\n",
    "base = \"/data/luojaa/kegg/kog_uid/\"\n",
    "kog2uidpaths = [base + tsv for tsv in os.listdir(base)]\n",
    "uid2kog = {} \n",
    "for path in kog2uidpaths:\n",
    "    with open(path, \"r\") as f:\n",
    "        for line in f:\n",
    "            kog, uid, descriptor = line.strip().split(\"\\t\")\n",
    "            uid2kog[uid] = kog"
   ]
  },
  {
   "cell_type": "code",
   "execution_count": 5,
   "id": "78272859-9d8a-470f-9c48-92518c359df9",
   "metadata": {
    "tags": []
   },
   "outputs": [],
   "source": [
    "# def extract_taxa(instr):\n",
    "#     taxa = re.findall(r\"Tax=(.*)\\sRepID\", instr)[0]\n",
    "#     return taxa\n",
    "# def extract_uid(instr):\n",
    "#     uid = re.findall(r\"UniRef100_(.*)\", instr)[0]\n",
    "#     return uid\n",
    "def extract_taxa(instr):\n",
    "    taxa = re.findall(r\"OX=([0-9]+)\\s\", instr)[0]\n",
    "    return taxa\n",
    "def extract_uid(instr):\n",
    "    uid = instr.split(\"|\")[1]\n",
    "    return uid\n",
    "#extract_taxa(\"tr|F0Q046|F0Q046_PARA1 Chromosomal replication initiator protein DnaA OS=Paracidovorax avenae (strain ATCC 19860 / DSM 7227 / CCUG 15838 / JCM 20985 / LMG 2117 / NCPPB 1011) OX=643561 GN=dnaA PE=3 SV=1\")"
   ]
  },
  {
   "cell_type": "code",
   "execution_count": 6,
   "id": "3556b874-3032-4766-97fb-3ec0d24b5c0e",
   "metadata": {
    "tags": []
   },
   "outputs": [],
   "source": [
    "def check_uid_coverage(infasta):\n",
    "    uids =  set()\n",
    "    with open(infasta, \"r\") as handle:\n",
    "        for record in SeqIO.parse(handle, 'fasta'):\n",
    "            identifier = record.id\n",
    "            uid = extract_uid(identifier)\n",
    "            uids.add(uid)\n",
    "    return uids"
   ]
  },
  {
   "cell_type": "code",
   "execution_count": 5,
   "id": "258e2d3f-4e3c-4fd0-82f2-bca340cece10",
   "metadata": {
    "tags": []
   },
   "outputs": [],
   "source": [
    "#combined_set = check_uid_coverage(\"/data/luojaa/uniprot_combined.fasta\")\n",
    "#trembl_set = check_uid_coverage(\"/data/luojaa/uniprot_trembl.fasta\")\n",
    "#sprot_set = check_uid_coverage(\"/data/luojaa/uniprot_sprot.fasta\")"
   ]
  },
  {
   "cell_type": "code",
   "execution_count": 6,
   "id": "e7e85142-2ea0-43fc-b997-abd2f8e9125f",
   "metadata": {
    "tags": []
   },
   "outputs": [
    {
     "data": {
      "text/plain": [
       "(248805733, 248234451)"
      ]
     },
     "execution_count": 6,
     "metadata": {},
     "output_type": "execute_result"
    }
   ],
   "source": [
    "#len(combined_set), len(trembl_set)"
   ]
  },
  {
   "cell_type": "code",
   "execution_count": 104,
   "id": "3b49b717-9c0a-4a1d-a6f5-e89ca5a1ae9a",
   "metadata": {},
   "outputs": [
    {
     "data": {
      "text/plain": [
       "12462195"
      ]
     },
     "execution_count": 104,
     "metadata": {},
     "output_type": "execute_result"
    }
   ],
   "source": [
    "#len(uid2kog)"
   ]
  },
  {
   "cell_type": "code",
   "execution_count": 14,
   "id": "ac347236-1406-49ac-862a-432d23e31e86",
   "metadata": {
    "tags": []
   },
   "outputs": [],
   "source": [
    "# def taxa2taxid(taxa):\n",
    "#     ncbi = ete3.NCBITaxa()\n",
    "#     taxa2taxid = ncbi.get_name_translator([taxa])\n",
    "#     taxid = taxa2taxid[taxa][0]\n",
    "#     return taxid\n",
    "ncbi = ete3.NCBITaxa()\n",
    "def isEuk(taxid):\n",
    "    lineage_ids = ncbi.get_lineage(taxid)\n",
    "    if 2759 in lineage_ids:\n",
    "        return True\n",
    "    return False"
   ]
  },
  {
   "cell_type": "code",
   "execution_count": 26,
   "id": "2759a86f-0c24-4c9e-927f-507c25586857",
   "metadata": {
    "tags": []
   },
   "outputs": [
    {
     "data": {
      "text/plain": [
       "1932436"
      ]
     },
     "execution_count": 26,
     "metadata": {},
     "output_type": "execute_result"
    }
   ],
   "source": [
    "uidset, taxidset = set(), set()\n",
    "with open(\"/data/luojaa/uid2taxids.trembl.tsv\", \"r\") as f:\n",
    "    lines = f.readlines()\n",
    "    for line in lines:\n",
    "        uid, taxid = line.strip().split(\"\\t\")\n",
    "        uidset.add(uid)\n",
    "        taxidset.add(taxid)\n",
    "len(uidset)"
   ]
  },
  {
   "cell_type": "code",
   "execution_count": 15,
   "id": "ae893025-d239-46a9-9e1d-ddedc12848ee",
   "metadata": {
    "tags": []
   },
   "outputs": [
    {
     "name": "stderr",
     "output_type": "stream",
     "text": [
      "/data/luojaa/conda/envs/ete3/lib/python3.6/site-packages/ete3-3.1.3-py3.10.egg/ete3/ncbi_taxonomy/ncbiquery.py:243: UserWarning: taxid 103930 was translated into 47929\n",
      "  warnings.warn(\"taxid %s was translated into %s\" %(taxid, merged_conversion[taxid]))\n"
     ]
    }
   ],
   "source": [
    "test_fasta = \"/data/luojaa/uniprot_sprot.fasta\"\n",
    "#in_fasta = \"/data/luojaa/uniprot_trembl.fasta\"\n",
    "uid_taxids = \"/data/luojaa/uid2taxids.sprot.tsv\"\n",
    "log_path = \"/data/luojaa/log/parse_fastas.log\"\n",
    "records_count, log_count, euk_count = 0, 0, 0\n",
    "with open(test_fasta, \"r\") as handle, open(uid_taxids, \"w\") as outfile:\n",
    "    for record in SeqIO.parse(handle, 'fasta'):\n",
    "        if records_count % 100000 == 0:\n",
    "            with open(log_path, \"a\") as logfile:\n",
    "                print(\",\".join([str(records_count), \"records_considered\"]), file=logfile)\n",
    "        records_count += 1\n",
    "        identifier, description, sequence = record.id, record.description, record.seq\n",
    "        uid = extract_uid(identifier)\n",
    "        try:\n",
    "            kog = uid2kog[uid]\n",
    "            if log_count % 10000 == 0:\n",
    "                with open(log_path, \"a\") as logfile:\n",
    "                    print(\",\".join([str(log_count), \"uids_mapped\"]), file=logfile)\n",
    "            log_count +=1\n",
    "        except KeyError:\n",
    "            continue\n",
    "        taxid = extract_taxa(description)\n",
    "        print(\"\\t\".join([uid, taxid]), file=outfile)\n",
    "        if isEuk(taxid):\n",
    "            if euk_count % 1000 == 0:\n",
    "                with open(log_path, \"a\") as logfile:\n",
    "                    print(\",\".join([str(euk_count), \"euks_recorded\"]), file=logfile)\n",
    "            outfasta=f\"/data/luojaa/kogfastas/{kog}.fasta\"\n",
    "            with open(outfasta, \"a\") as cluster:\n",
    "                print(\">\" + uid, file=cluster)\n",
    "                print(sequence, file=cluster)\n",
    "            euk_count +=1\n",
    "        \n",
    "        "
   ]
  },
  {
   "cell_type": "code",
   "execution_count": null,
   "id": "66edf031-17eb-49d5-bac1-ae9644495d21",
   "metadata": {},
   "outputs": [],
   "source": []
  }
 ],
 "metadata": {
  "kernelspec": {
   "display_name": "default",
   "language": "python",
   "name": "default"
  },
  "language_info": {
   "codemirror_mode": {
    "name": "ipython",
    "version": 3
   },
   "file_extension": ".py",
   "mimetype": "text/x-python",
   "name": "python",
   "nbconvert_exporter": "python",
   "pygments_lexer": "ipython3",
   "version": "3.12.2"
  }
 },
 "nbformat": 4,
 "nbformat_minor": 5
}
