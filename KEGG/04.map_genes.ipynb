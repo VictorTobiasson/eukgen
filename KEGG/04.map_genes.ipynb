{
 "cells": [
  {
   "cell_type": "code",
   "execution_count": 68,
   "id": "d912cde0-3f72-46ea-ae63-1323d9b5b099",
   "metadata": {},
   "outputs": [],
   "source": [
    "import pandas as pd\n",
    "import os\n",
    "from collections import defaultdict"
   ]
  },
  {
   "cell_type": "code",
   "execution_count": 61,
   "id": "930a77da-b215-42f9-a9f3-e00346c5e478",
   "metadata": {},
   "outputs": [],
   "source": [
    "taxids_infile = \"Data/taxid_mappings.csv\"\n",
    "gene_df_infile = \"kegg_genes.27M.tsv\"\n",
    "uniprotid_dir = \"Data/Kegg2Uniprot/\"\n",
    "ncbiid_dir = \"Data/Uniprot2NCBI/\""
   ]
  },
  {
   "cell_type": "markdown",
   "id": "cedc15e9-6097-4f0d-8d51-0e4eb5719293",
   "metadata": {},
   "source": [
    "### 04. Create chunks of KEGG_IDs, send output to python scripts"
   ]
  },
  {
   "cell_type": "code",
   "execution_count": 52,
   "id": "f1f92f12-0192-408e-8cea-800da0c509e2",
   "metadata": {},
   "outputs": [],
   "source": [
    "# chunks = pd.read_csv(gene_df_infile, sep='\\t',header=(0), chunksize=100000)\n",
    "# cohort = 1\n",
    "# for chunk in chunks:\n",
    "#     datafile = \"Data/KEGG_CDS_chunks/chunk{}.txt\".format(str(cohort))\n",
    "#     with open(datafile, \"a\") as outfile:\n",
    "#         kid_list = []\n",
    "#         cdslist = list(chunk[\"KEGG_CDS\"])\n",
    "#         orglist = list(chunk[\"KEGG_ORG\"])\n",
    "#         for i in range(len(chunk[\"KEGG_CDS\"])):\n",
    "#             cds = cdslist[i]\n",
    "#             org = orglist[i].lower()\n",
    "#             kid_list.append(\":\".join([org, cds]))\n",
    "#         print(\" \".join(kid_list), file=outfile)\n",
    "#     cohort += 1\n",
    "    "
   ]
  },
  {
   "cell_type": "markdown",
   "id": "42927756-27ac-456c-99ad-19d0fd51474f",
   "metadata": {},
   "source": [
    "## Uniprot mappings"
   ]
  },
  {
   "cell_type": "code",
   "execution_count": 55,
   "id": "bdd17f8d-c803-4669-a0ce-9ba4b6f7882c",
   "metadata": {},
   "outputs": [],
   "source": [
    "gene_df = pd.read_csv(gene_df_infile, sep = '\\t')\n",
    "gene_df[\"KEGG_ID\"] = gene_df[\"KEGG_ORG\"].str.lower() + \":\" + gene_df[\"KEGG_CDS\"]\n",
    "gene_df = gene_df.set_index(\"KEGG_ID\")"
   ]
  },
  {
   "cell_type": "code",
   "execution_count": 77,
   "id": "6223b8e8-039b-4993-9ee5-b21057fcf6bb",
   "metadata": {},
   "outputs": [
    {
     "data": {
      "text/plain": [
       "'chunk143.83396d2a5a83561a9afeef858cb02e9f6c62f074'"
      ]
     },
     "execution_count": 77,
     "metadata": {},
     "output_type": "execute_result"
    }
   ],
   "source": [
    "uniprotid_mappings = os.listdir(uniprotid_dir)\n",
    "uniprotid_mappings.remove(\".DS_Store\")\n",
    "#uniprotid_mappings.remove(\".ipynb_checkpoints\")\n",
    "uniprotid_mappings[0]"
   ]
  },
  {
   "cell_type": "code",
   "execution_count": 78,
   "id": "9ee4506e-e4e9-435f-95bb-fe370531a24f",
   "metadata": {},
   "outputs": [],
   "source": [
    "kegg_uniprot_df_dict = defaultdict(list)\n",
    "for i in range(len(uniprotid_mappings)):\n",
    "    infile = uniprotid_dir + uniprotid_mappings[i]\n",
    "    with open(infile, \"r\") as f:\n",
    "        next(f)\n",
    "        lines = f.readlines()\n",
    "        for line in lines:\n",
    "            keggid, uniprotid = line.strip().split(\"\\t\")\n",
    "            kegg_uniprot_df_dict[\"KEGG_ID\"].append(keggid)\n",
    "            kegg_uniprot_df_dict[\"UNIPROT_ID\"].append(uniprotid)\n",
    "        "
   ]
  },
  {
   "cell_type": "code",
   "execution_count": 84,
   "id": "27f89cfb-292e-4b5c-9eed-16d8964b6556",
   "metadata": {},
   "outputs": [
    {
     "data": {
      "text/plain": [
       "12015898"
      ]
     },
     "execution_count": 84,
     "metadata": {},
     "output_type": "execute_result"
    }
   ],
   "source": [
    "len(set(kegg_uniprot_df[\"UNIPROT_ID\"]))"
   ]
  },
  {
   "cell_type": "code",
   "execution_count": null,
   "id": "719c589c-2748-4d06-ad24-d67156e943a9",
   "metadata": {},
   "outputs": [],
   "source": [
    "kegg_uniprot_df = pd.DataFrame(kegg_uniprot_df_dict)\n",
    "kegg_uniprot_df = kegg_uniprot_df.set_index(\"KEGG_ID\")"
   ]
  },
  {
   "cell_type": "code",
   "execution_count": 90,
   "id": "fffcc54a-649d-47f7-9085-f82c2043e092",
   "metadata": {},
   "outputs": [
    {
     "data": {
      "text/html": [
       "<div>\n",
       "<style scoped>\n",
       "    .dataframe tbody tr th:only-of-type {\n",
       "        vertical-align: middle;\n",
       "    }\n",
       "\n",
       "    .dataframe tbody tr th {\n",
       "        vertical-align: top;\n",
       "    }\n",
       "\n",
       "    .dataframe thead th {\n",
       "        text-align: right;\n",
       "    }\n",
       "</style>\n",
       "<table border=\"1\" class=\"dataframe\">\n",
       "  <thead>\n",
       "    <tr style=\"text-align: right;\">\n",
       "      <th></th>\n",
       "      <th>UNIPROT_ID</th>\n",
       "    </tr>\n",
       "    <tr>\n",
       "      <th>KEGG_ID</th>\n",
       "      <th></th>\n",
       "    </tr>\n",
       "  </thead>\n",
       "  <tbody>\n",
       "    <tr>\n",
       "      <th>hsa:118788</th>\n",
       "      <td>Q6ZUJ8</td>\n",
       "    </tr>\n",
       "    <tr>\n",
       "      <th>hsa:118788</th>\n",
       "      <td>Q86YV3</td>\n",
       "    </tr>\n",
       "    <tr>\n",
       "      <th>ptr:450646</th>\n",
       "      <td>A0A2I3REE2</td>\n",
       "    </tr>\n",
       "    <tr>\n",
       "      <th>ptr:450646</th>\n",
       "      <td>A0A6D2Y6X4</td>\n",
       "    </tr>\n",
       "    <tr>\n",
       "      <th>pps:100978197</th>\n",
       "      <td>A0A2R9CDX8</td>\n",
       "    </tr>\n",
       "    <tr>\n",
       "      <th>...</th>\n",
       "      <td>...</td>\n",
       "    </tr>\n",
       "    <tr>\n",
       "      <th>clb:Clo1100_0943</th>\n",
       "      <td>H2JDE9</td>\n",
       "    </tr>\n",
       "    <tr>\n",
       "      <th>csr:Cspa_c57810</th>\n",
       "      <td>M1N804</td>\n",
       "    </tr>\n",
       "    <tr>\n",
       "      <th>csb:CLSA_c33770</th>\n",
       "      <td>U5MUR5</td>\n",
       "    </tr>\n",
       "    <tr>\n",
       "      <th>cint:HZF06_13595</th>\n",
       "      <td>A0A7D6ZMV1</td>\n",
       "    </tr>\n",
       "    <tr>\n",
       "      <th>cale:FDN13_11600</th>\n",
       "      <td>A0A5B7TL48</td>\n",
       "    </tr>\n",
       "  </tbody>\n",
       "</table>\n",
       "<p>12324892 rows × 1 columns</p>\n",
       "</div>"
      ],
      "text/plain": [
       "                  UNIPROT_ID\n",
       "KEGG_ID                     \n",
       "hsa:118788            Q6ZUJ8\n",
       "hsa:118788            Q86YV3\n",
       "ptr:450646        A0A2I3REE2\n",
       "ptr:450646        A0A6D2Y6X4\n",
       "pps:100978197     A0A2R9CDX8\n",
       "...                      ...\n",
       "clb:Clo1100_0943      H2JDE9\n",
       "csr:Cspa_c57810       M1N804\n",
       "csb:CLSA_c33770       U5MUR5\n",
       "cint:HZF06_13595  A0A7D6ZMV1\n",
       "cale:FDN13_11600  A0A5B7TL48\n",
       "\n",
       "[12324892 rows x 1 columns]"
      ]
     },
     "execution_count": 90,
     "metadata": {},
     "output_type": "execute_result"
    }
   ],
   "source": [
    "kegg_uniprot_df "
   ]
  },
  {
   "cell_type": "code",
   "execution_count": null,
   "id": "641ff4be-22e8-494b-91ad-0ffa3f4f0275",
   "metadata": {},
   "outputs": [],
   "source": [
    "gene_uniprot_df = pd.merge(gene_df, kegg_uniprot_df, on = \"KEGG_ID\", how = \"outer\")"
   ]
  },
  {
   "cell_type": "code",
   "execution_count": null,
   "id": "dd753c4a-8334-40db-9f3e-e79a0312f9aa",
   "metadata": {},
   "outputs": [],
   "source": [
    "gene_uniprot_df"
   ]
  },
  {
   "cell_type": "code",
   "execution_count": 57,
   "id": "39565877-f841-44bf-96f0-5aecedeb1d3a",
   "metadata": {},
   "outputs": [
    {
     "data": {
      "text/html": [
       "<div>\n",
       "<style scoped>\n",
       "    .dataframe tbody tr th:only-of-type {\n",
       "        vertical-align: middle;\n",
       "    }\n",
       "\n",
       "    .dataframe tbody tr th {\n",
       "        vertical-align: top;\n",
       "    }\n",
       "\n",
       "    .dataframe thead th {\n",
       "        text-align: right;\n",
       "    }\n",
       "</style>\n",
       "<table border=\"1\" class=\"dataframe\">\n",
       "  <thead>\n",
       "    <tr style=\"text-align: right;\">\n",
       "      <th></th>\n",
       "      <th>ENTRY</th>\n",
       "      <th>ALIAS</th>\n",
       "      <th>KEGG_CDS</th>\n",
       "      <th>KEGG_ORG</th>\n",
       "      <th>KEGG_ID</th>\n",
       "    </tr>\n",
       "  </thead>\n",
       "  <tbody>\n",
       "    <tr>\n",
       "      <th>0</th>\n",
       "      <td>K20411</td>\n",
       "      <td>PRR5</td>\n",
       "      <td>55615</td>\n",
       "      <td>HSA</td>\n",
       "      <td>hsa:55615</td>\n",
       "    </tr>\n",
       "    <tr>\n",
       "      <th>1</th>\n",
       "      <td>K20411</td>\n",
       "      <td>PRR5L</td>\n",
       "      <td>79899</td>\n",
       "      <td>HSA</td>\n",
       "      <td>hsa:79899</td>\n",
       "    </tr>\n",
       "    <tr>\n",
       "      <th>2</th>\n",
       "      <td>K20411</td>\n",
       "      <td>PRR5</td>\n",
       "      <td>100612312</td>\n",
       "      <td>PTR</td>\n",
       "      <td>ptr:100612312</td>\n",
       "    </tr>\n",
       "    <tr>\n",
       "      <th>3</th>\n",
       "      <td>K20411</td>\n",
       "      <td>PRR5L</td>\n",
       "      <td>739925</td>\n",
       "      <td>PTR</td>\n",
       "      <td>ptr:739925</td>\n",
       "    </tr>\n",
       "    <tr>\n",
       "      <th>4</th>\n",
       "      <td>K20411</td>\n",
       "      <td>PRR5L</td>\n",
       "      <td>100984533</td>\n",
       "      <td>PPS</td>\n",
       "      <td>pps:100984533</td>\n",
       "    </tr>\n",
       "    <tr>\n",
       "      <th>...</th>\n",
       "      <td>...</td>\n",
       "      <td>...</td>\n",
       "      <td>...</td>\n",
       "      <td>...</td>\n",
       "      <td>...</td>\n",
       "    </tr>\n",
       "    <tr>\n",
       "      <th>27083020</th>\n",
       "      <td>K08384</td>\n",
       "      <td>spoVD</td>\n",
       "      <td>XF24_00017</td>\n",
       "      <td>SRG</td>\n",
       "      <td>srg:XF24_00017</td>\n",
       "    </tr>\n",
       "    <tr>\n",
       "      <th>27083021</th>\n",
       "      <td>K08384</td>\n",
       "      <td>NaN</td>\n",
       "      <td>UT28_C0001G0122</td>\n",
       "      <td>BBGW</td>\n",
       "      <td>bbgw:UT28_C0001G0122</td>\n",
       "    </tr>\n",
       "    <tr>\n",
       "      <th>27083022</th>\n",
       "      <td>K08384</td>\n",
       "      <td>NaN</td>\n",
       "      <td>UY43_C0001G0629</td>\n",
       "      <td>MIB</td>\n",
       "      <td>mib:UY43_C0001G0629</td>\n",
       "    </tr>\n",
       "    <tr>\n",
       "      <th>27083023</th>\n",
       "      <td>K08384</td>\n",
       "      <td>NaN</td>\n",
       "      <td>UR17_C0001G0885</td>\n",
       "      <td>WBA</td>\n",
       "      <td>wba:UR17_C0001G0885</td>\n",
       "    </tr>\n",
       "    <tr>\n",
       "      <th>27083024</th>\n",
       "      <td>K08384</td>\n",
       "      <td>NaN</td>\n",
       "      <td>Q2T83_01775</td>\n",
       "      <td>FSH</td>\n",
       "      <td>fsh:Q2T83_01775</td>\n",
       "    </tr>\n",
       "  </tbody>\n",
       "</table>\n",
       "<p>27083025 rows × 5 columns</p>\n",
       "</div>"
      ],
      "text/plain": [
       "           ENTRY  ALIAS         KEGG_CDS KEGG_ORG               KEGG_ID\n",
       "0         K20411   PRR5            55615      HSA             hsa:55615\n",
       "1         K20411  PRR5L            79899      HSA             hsa:79899\n",
       "2         K20411   PRR5        100612312      PTR         ptr:100612312\n",
       "3         K20411  PRR5L           739925      PTR            ptr:739925\n",
       "4         K20411  PRR5L        100984533      PPS         pps:100984533\n",
       "...          ...    ...              ...      ...                   ...\n",
       "27083020  K08384  spoVD       XF24_00017      SRG        srg:XF24_00017\n",
       "27083021  K08384    NaN  UT28_C0001G0122     BBGW  bbgw:UT28_C0001G0122\n",
       "27083022  K08384    NaN  UY43_C0001G0629      MIB   mib:UY43_C0001G0629\n",
       "27083023  K08384    NaN  UR17_C0001G0885      WBA   wba:UR17_C0001G0885\n",
       "27083024  K08384    NaN      Q2T83_01775      FSH       fsh:Q2T83_01775\n",
       "\n",
       "[27083025 rows x 5 columns]"
      ]
     },
     "execution_count": 57,
     "metadata": {},
     "output_type": "execute_result"
    }
   ],
   "source": [
    "gene_df"
   ]
  },
  {
   "cell_type": "code",
   "execution_count": null,
   "id": "99fc7dd8-1881-4ad6-adf7-463c7ccd9707",
   "metadata": {},
   "outputs": [],
   "source": []
  }
 ],
 "metadata": {
  "kernelspec": {
   "display_name": "Python 3 (ipykernel)",
   "language": "python",
   "name": "python3"
  },
  "language_info": {
   "codemirror_mode": {
    "name": "ipython",
    "version": 3
   },
   "file_extension": ".py",
   "mimetype": "text/x-python",
   "name": "python",
   "nbconvert_exporter": "python",
   "pygments_lexer": "ipython3",
   "version": "3.12.2"
  }
 },
 "nbformat": 4,
 "nbformat_minor": 5
}
