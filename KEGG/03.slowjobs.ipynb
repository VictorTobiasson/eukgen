{
 "cells": [
  {
   "cell_type": "code",
   "execution_count": 2,
   "id": "33ea7c23-c1a4-4434-ad42-02e971a81b17",
   "metadata": {
    "tags": []
   },
   "outputs": [],
   "source": [
    "import subprocess\n",
    "import regex as re\n",
    "import sys\n",
    "from collections import defaultdict\n",
    "\n",
    "knumbers_unfiltered = [\"K\" + str((5-len(str(i)))*\"0\") + str(i) for i in range(27110)]\n",
    "\n",
    "def concat_clusters(group_no, knumbers):\n",
    "    knumbers_range = knumbers[(group_no - 1) * 100: group_no * 100]\n",
    "    paths = [\"/data/luojaa/kegg/kog_uid/{}.tsv\".format(knumber) for knumber in knumbers_range]\n",
    "    outfilename = \"/data/luojaa/kegg/uid_groups/group{}.tsv\".format(group_no)\n",
    "    logfilename = \"/data/luojaa/kegg/uidsdisordered.log\"\n",
    "    with open(outfilename, \"a\") as outfile, open(logfilename, \"a\") as logfile:\n",
    "        for path in paths:\n",
    "            try:\n",
    "                with open(path, \"r\") as f:\n",
    "                    uidprev = \"00000\"\n",
    "                    lines = f.readlines()\n",
    "                    for line in lines:\n",
    "                        uid = line.strip().split(\"\\t\")[1]\n",
    "                        if uid < uidprev:\n",
    "                            print(group_no, file=logfile)\n",
    "                        print(uid, file=outfile)\n",
    "                        uid = uidprev\n",
    "            except:\n",
    "                continue\n",
    "def assign_batches(group_no):\n",
    "    batch_ids = defaultdict(list)\n",
    "    batch_id, ind = 1, 1\n",
    "    infilename = \"/data/luojaa/kegg/uid_groups/group{}.tsv\".format(group_no)\n",
    "    with open(infilename, \"r\") as f:\n",
    "        lines = f.readlines()\n",
    "        for line in lines:\n",
    "            if ind % 10000 == 0:\n",
    "                batch_id += 1\n",
    "            batch_ids[batch_id] += [line.strip()]\n",
    "            ind += 1\n",
    "    return batch_ids\n",
    "def run_batch(ids):\n",
    "    requesturl = \"https://rest.uniprot.org/idmapping/run\"\n",
    "    from_db = \"\\'from=\\\"UniProtKB_AC-ID\\\"\\'\"\n",
    "    to_db = \"\\'to=\\\"UniRef100\\\"\\'\"\n",
    "    idstr = \"\\'ids=\\\"\" + \",\".join(ids) + \"\\\"\\'\"\n",
    "    command = \"curl --request POST {} --form {} --form {} --form {}\".format(requesturl, from_db, to_db, idstr)\n",
    "    response = subprocess.run(command, text=True, stdout=subprocess.PIPE, check=True, shell=True)\n",
    "    print(command)\n",
    "    dict_str_out = response.stdout # str:{\"jobId\":\"62910de2cb548388eac8e873394b006e9c2c16de\"}\n",
    "    print(dict_str_out)\n",
    "    jobid = re.findall(r\"\\{\\\"jobId\\\"\\:\\\"(.+)\\\"\\}\", dict_str_out)[0]\n",
    "    return jobid\n",
    "\n",
    "def run_batches(groups):\n",
    "    for group_no in groups:\n",
    "        #concat_clusters(group_no, knumbers_unfiltered)\n",
    "        batches = assign_batches(group_no)\n",
    "        with open(\"/data/luojaa/kegg/batch_slowjobids.tsv\", \"a\") as outfile:\n",
    "            for batch in batches.keys():\n",
    "                uids = batches[batch]\n",
    "                jobid = run_batch(uids)\n",
    "                batch_id = \"{}.{}\".format(group_no, batch)\n",
    "                print(\"\\t\".join([batch_id, jobid]), file=outfile)\n",
    "                \n",
    "#start_group, end_group = 19, 20\n",
    "#groups = [i for i in range(start_group, end_group)]\n",
    "#run_batches(groups)\n",
    "\n",
    "\n",
    "\n"
   ]
  },
  {
   "cell_type": "code",
   "execution_count": 3,
   "id": "857080ab-9bd8-4bec-af69-d99fd09bb595",
   "metadata": {
    "tags": []
   },
   "outputs": [
    {
     "name": "stderr",
     "output_type": "stream",
     "text": [
      "  % Total    % Received % Xferd  Average Speed   Time    Time     Time  Current\n",
      "                                 Dload  Upload   Total   Spent    Left  Speed\n",
      "100    24    0    24    0     0     36      0 --:--:-- --:--:-- --:--:--    36\n",
      "  % Total    % Received % Xferd  Average Speed   Time    Time     Time  Current\n",
      "                                 Dload  Upload   Total   Spent    Left  Speed\n",
      "  0     0    0     0    0     0      0      0 --:--:-- --:--:-- --:--:--     0"
     ]
    },
    {
     "name": "stdout",
     "output_type": "stream",
     "text": [
      "FINISHED\n"
     ]
    },
    {
     "name": "stderr",
     "output_type": "stream",
     "text": [
      "100    24    0    24    0     0     61      0 --:--:-- --:--:-- --:--:--    61\n",
      "  % Total    % Received % Xferd  Average Speed   Time    Time     Time  Current\n",
      "                                 Dload  Upload   Total   Spent    Left  Speed\n",
      "  0     0    0     0    0     0      0      0 --:--:-- --:--:-- --:--:--     0"
     ]
    },
    {
     "name": "stdout",
     "output_type": "stream",
     "text": [
      "FINISHED\n"
     ]
    },
    {
     "name": "stderr",
     "output_type": "stream",
     "text": [
      "100    19    0    19    0     0     50      0 --:--:-- --:--:-- --:--:--    50\n",
      "  % Total    % Received % Xferd  Average Speed   Time    Time     Time  Current\n",
      "                                 Dload  Upload   Total   Spent    Left  Speed\n",
      "  0     0    0     0    0     0      0      0 --:--:-- --:--:-- --:--:--     0"
     ]
    },
    {
     "name": "stdout",
     "output_type": "stream",
     "text": [
      "NEW\n",
      "19.3\n"
     ]
    },
    {
     "name": "stderr",
     "output_type": "stream",
     "text": [
      "100    24    0    24    0     0     62      0 --:--:-- --:--:-- --:--:--    62\n",
      "  % Total    % Received % Xferd  Average Speed   Time    Time     Time  Current\n",
      "                                 Dload  Upload   Total   Spent    Left  Speed\n",
      "  0     0    0     0    0     0      0      0 --:--:-- --:--:-- --:--:--     0"
     ]
    },
    {
     "name": "stdout",
     "output_type": "stream",
     "text": [
      "FINISHED\n"
     ]
    },
    {
     "name": "stderr",
     "output_type": "stream",
     "text": [
      "100    24    0    24    0     0     62      0 --:--:-- --:--:-- --:--:--    62\n",
      "  % Total    % Received % Xferd  Average Speed   Time    Time     Time  Current\n",
      "                                 Dload  Upload   Total   Spent    Left  Speed\n",
      "  0     0    0     0    0     0      0      0 --:--:-- --:--:-- --:--:--     0"
     ]
    },
    {
     "name": "stdout",
     "output_type": "stream",
     "text": [
      "FINISHED\n"
     ]
    },
    {
     "name": "stderr",
     "output_type": "stream",
     "text": [
      "100    24    0    24    0     0     61      0 --:--:-- --:--:-- --:--:--    61\n",
      "  % Total    % Received % Xferd  Average Speed   Time    Time     Time  Current\n",
      "                                 Dload  Upload   Total   Spent    Left  Speed\n",
      "  0     0    0     0    0     0      0      0 --:--:-- --:--:-- --:--:--     0"
     ]
    },
    {
     "name": "stdout",
     "output_type": "stream",
     "text": [
      "FINISHED\n"
     ]
    },
    {
     "name": "stderr",
     "output_type": "stream",
     "text": [
      "100    24    0    24    0     0     61      0 --:--:-- --:--:-- --:--:--    61\n",
      "  % Total    % Received % Xferd  Average Speed   Time    Time     Time  Current\n",
      "                                 Dload  Upload   Total   Spent    Left  Speed\n",
      "  0     0    0     0    0     0      0      0 --:--:-- --:--:-- --:--:--     0"
     ]
    },
    {
     "name": "stdout",
     "output_type": "stream",
     "text": [
      "FINISHED\n"
     ]
    },
    {
     "name": "stderr",
     "output_type": "stream",
     "text": [
      "100    24    0    24    0     0     46      0 --:--:-- --:--:-- --:--:--    46\n",
      "  % Total    % Received % Xferd  Average Speed   Time    Time     Time  Current\n",
      "                                 Dload  Upload   Total   Spent    Left  Speed\n",
      "  0     0    0     0    0     0      0      0 --:--:-- --:--:-- --:--:--     0"
     ]
    },
    {
     "name": "stdout",
     "output_type": "stream",
     "text": [
      "FINISHED\n"
     ]
    },
    {
     "name": "stderr",
     "output_type": "stream",
     "text": [
      "100    19    0    19    0     0     51      0 --:--:-- --:--:-- --:--:--    51\n",
      "  % Total    % Received % Xferd  Average Speed   Time    Time     Time  Current\n",
      "                                 Dload  Upload   Total   Spent    Left  Speed\n",
      "  0     0    0     0    0     0      0      0 --:--:-- --:--:-- --:--:--     0"
     ]
    },
    {
     "name": "stdout",
     "output_type": "stream",
     "text": [
      "NEW\n",
      "19.9\n"
     ]
    },
    {
     "name": "stderr",
     "output_type": "stream",
     "text": [
      "100    24    0    24    0     0     61      0 --:--:-- --:--:-- --:--:--    61\n",
      "  % Total    % Received % Xferd  Average Speed   Time    Time     Time  Current\n",
      "                                 Dload  Upload   Total   Spent    Left  Speed\n",
      "  0     0    0     0    0     0      0      0 --:--:-- --:--:-- --:--:--     0"
     ]
    },
    {
     "name": "stdout",
     "output_type": "stream",
     "text": [
      "FINISHED\n"
     ]
    },
    {
     "name": "stderr",
     "output_type": "stream",
     "text": [
      "100    19    0    19    0     0     51      0 --:--:-- --:--:-- --:--:--    51\n",
      "  % Total    % Received % Xferd  Average Speed   Time    Time     Time  Current\n",
      "                                 Dload  Upload   Total   Spent    Left  Speed\n",
      "  0     0    0     0    0     0      0      0 --:--:-- --:--:-- --:--:--     0"
     ]
    },
    {
     "name": "stdout",
     "output_type": "stream",
     "text": [
      "NEW\n",
      "19.11\n"
     ]
    },
    {
     "name": "stderr",
     "output_type": "stream",
     "text": [
      "100    19    0    19    0     0     51      0 --:--:-- --:--:-- --:--:--    51\n",
      "  % Total    % Received % Xferd  Average Speed   Time    Time     Time  Current\n",
      "                                 Dload  Upload   Total   Spent    Left  Speed\n",
      "  0     0    0     0    0     0      0      0 --:--:-- --:--:-- --:--:--     0"
     ]
    },
    {
     "name": "stdout",
     "output_type": "stream",
     "text": [
      "NEW\n",
      "19.12\n"
     ]
    },
    {
     "name": "stderr",
     "output_type": "stream",
     "text": [
      "100    24    0    24    0     0     61      0 --:--:-- --:--:-- --:--:--    61\n",
      "  % Total    % Received % Xferd  Average Speed   Time    Time     Time  Current\n",
      "                                 Dload  Upload   Total   Spent    Left  Speed\n",
      "  0     0    0     0    0     0      0      0 --:--:-- --:--:-- --:--:--     0"
     ]
    },
    {
     "name": "stdout",
     "output_type": "stream",
     "text": [
      "FINISHED\n"
     ]
    },
    {
     "name": "stderr",
     "output_type": "stream",
     "text": [
      "100    23    0    23    0     0     61      0 --:--:-- --:--:-- --:--:--    61\n",
      "  % Total    % Received % Xferd  Average Speed   Time    Time     Time  Current\n",
      "                                 Dload  Upload   Total   Spent    Left  Speed\n",
      "  0     0    0     0    0     0      0      0 --:--:-- --:--:-- --:--:--     0"
     ]
    },
    {
     "name": "stdout",
     "output_type": "stream",
     "text": [
      "RUNNING\n",
      "19.14\n"
     ]
    },
    {
     "name": "stderr",
     "output_type": "stream",
     "text": [
      "100    19    0    19    0     0     51      0 --:--:-- --:--:-- --:--:--    51\n",
      "  % Total    % Received % Xferd  Average Speed   Time    Time     Time  Current\n",
      "                                 Dload  Upload   Total   Spent    Left  Speed\n",
      "  0     0    0     0    0     0      0      0 --:--:-- --:--:-- --:--:--     0"
     ]
    },
    {
     "name": "stdout",
     "output_type": "stream",
     "text": [
      "NEW\n",
      "19.15\n"
     ]
    },
    {
     "name": "stderr",
     "output_type": "stream",
     "text": [
      "100    24    0    24    0     0     60      0 --:--:-- --:--:-- --:--:--    60\n",
      "  % Total    % Received % Xferd  Average Speed   Time    Time     Time  Current\n",
      "                                 Dload  Upload   Total   Spent    Left  Speed\n",
      "  0     0    0     0    0     0      0      0 --:--:-- --:--:-- --:--:--     0"
     ]
    },
    {
     "name": "stdout",
     "output_type": "stream",
     "text": [
      "FINISHED\n"
     ]
    },
    {
     "name": "stderr",
     "output_type": "stream",
     "text": [
      "100    19    0    19    0     0     51      0 --:--:-- --:--:-- --:--:--    51\n",
      "  % Total    % Received % Xferd  Average Speed   Time    Time     Time  Current\n",
      "                                 Dload  Upload   Total   Spent    Left  Speed\n",
      "  0     0    0     0    0     0      0      0 --:--:-- --:--:-- --:--:--     0"
     ]
    },
    {
     "name": "stdout",
     "output_type": "stream",
     "text": [
      "NEW\n",
      "19.17\n"
     ]
    },
    {
     "name": "stderr",
     "output_type": "stream",
     "text": [
      "100    24    0    24    0     0     62      0 --:--:-- --:--:-- --:--:--    62\n",
      "  % Total    % Received % Xferd  Average Speed   Time    Time     Time  Current\n",
      "                                 Dload  Upload   Total   Spent    Left  Speed\n",
      "  0     0    0     0    0     0      0      0 --:--:-- --:--:-- --:--:--     0"
     ]
    },
    {
     "name": "stdout",
     "output_type": "stream",
     "text": [
      "FINISHED\n"
     ]
    },
    {
     "name": "stderr",
     "output_type": "stream",
     "text": [
      "100    24    0    24    0     0     62      0 --:--:-- --:--:-- --:--:--    62\n",
      "  % Total    % Received % Xferd  Average Speed   Time    Time     Time  Current\n",
      "                                 Dload  Upload   Total   Spent    Left  Speed\n",
      "  0     0    0     0    0     0      0      0 --:--:-- --:--:-- --:--:--     0"
     ]
    },
    {
     "name": "stdout",
     "output_type": "stream",
     "text": [
      "FINISHED\n"
     ]
    },
    {
     "name": "stderr",
     "output_type": "stream",
     "text": [
      "100    23    0    23    0     0     60      0 --:--:-- --:--:-- --:--:--    60\n",
      "  % Total    % Received % Xferd  Average Speed   Time    Time     Time  Current\n",
      "                                 Dload  Upload   Total   Spent    Left  Speed\n",
      "  0     0    0     0    0     0      0      0 --:--:-- --:--:-- --:--:--     0"
     ]
    },
    {
     "name": "stdout",
     "output_type": "stream",
     "text": [
      "RUNNING\n",
      "19.20\n"
     ]
    },
    {
     "name": "stderr",
     "output_type": "stream",
     "text": [
      "100    23    0    23    0     0     61      0 --:--:-- --:--:-- --:--:--    61\n",
      "  % Total    % Received % Xferd  Average Speed   Time    Time     Time  Current\n",
      "                                 Dload  Upload   Total   Spent    Left  Speed\n",
      "  0     0    0     0    0     0      0      0 --:--:-- --:--:-- --:--:--     0"
     ]
    },
    {
     "name": "stdout",
     "output_type": "stream",
     "text": [
      "RUNNING\n",
      "19.21\n"
     ]
    },
    {
     "name": "stderr",
     "output_type": "stream",
     "text": [
      "100    19    0    19    0     0     51      0 --:--:-- --:--:-- --:--:--    51\n",
      "  % Total    % Received % Xferd  Average Speed   Time    Time     Time  Current\n",
      "                                 Dload  Upload   Total   Spent    Left  Speed\n",
      "  0     0    0     0    0     0      0      0 --:--:-- --:--:-- --:--:--     0"
     ]
    },
    {
     "name": "stdout",
     "output_type": "stream",
     "text": [
      "NEW\n",
      "19.22\n",
      "FINISHED\n"
     ]
    },
    {
     "name": "stderr",
     "output_type": "stream",
     "text": [
      "100    24    0    24    0     0     63      0 --:--:-- --:--:-- --:--:--    63\n"
     ]
    }
   ],
   "source": [
    "jobid_file = f\"/data/luojaa/kegg/batch_slowjobids.tsv\"\n",
    "def check_jobstatus(jobid):\n",
    "    command = f\"curl -i 'https://rest.uniprot.org/idmapping/status/{jobid}'\"\n",
    "    response = subprocess.run(\n",
    "        command,\n",
    "        text=True,\n",
    "        stdout=subprocess.PIPE,\n",
    "        check=True,\n",
    "        shell = True)\n",
    "    return response.stdout\n",
    "\n",
    "with open(jobid_file, \"r\") as f:\n",
    "    lines = f.readlines()\n",
    "    for line in lines:\n",
    "        batch, jobid = line.strip().split(\"\\t\")\n",
    "        if float(batch) > 19:\n",
    "            status_out = check_jobstatus(jobid)\n",
    "            status = re.findall(r\"jobStatus\\\":\\\"(.*)\\\"}\", status_out)[0]\n",
    "            print(status)\n",
    "            if status != \"FINISHED\":\n",
    "                print(batch)"
   ]
  },
  {
   "cell_type": "code",
   "execution_count": 14,
   "id": "02007b23-0c24-4a83-bc1f-7546fe67960a",
   "metadata": {
    "tags": []
   },
   "outputs": [],
   "source": [
    "#run_batches(groups)"
   ]
  },
  {
   "cell_type": "code",
   "execution_count": null,
   "id": "2905ddd4-1357-4b3b-abdc-abddedc81a6c",
   "metadata": {},
   "outputs": [],
   "source": []
  }
 ],
 "metadata": {
  "kernelspec": {
   "display_name": "fastas",
   "language": "python",
   "name": "fastas"
  },
  "language_info": {
   "codemirror_mode": {
    "name": "ipython",
    "version": 3
   },
   "file_extension": ".py",
   "mimetype": "text/x-python",
   "name": "python",
   "nbconvert_exporter": "python",
   "pygments_lexer": "ipython3",
   "version": "3.12.2"
  }
 },
 "nbformat": 4,
 "nbformat_minor": 5
}
