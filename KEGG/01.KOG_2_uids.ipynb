{
 "cells": [
  {
   "cell_type": "code",
   "execution_count": 15,
   "id": "fdf1ede8-e4d8-42ff-a728-81281826e118",
   "metadata": {},
   "outputs": [],
   "source": [
    "import requests\n",
    "from bs4 import BeautifulSoup\n",
    "from pprint import pprint\n",
    "import regex as re\n",
    "from multiprocessing import Pool\n",
    "import sys"
   ]
  },
  {
   "cell_type": "code",
   "execution_count": 16,
   "id": "eff79d73-5b80-4ed2-8233-6758b294f4d6",
   "metadata": {},
   "outputs": [],
   "source": [
    "base_url = \"https://www.kegg.jp/kegg-bin/uniprot_list?ko=\" # append KO group to end of url\n",
    "def transform_int2knumber(knint):\n",
    "    knstr = str(knint)\n",
    "    while len(knstr) < 5:\n",
    "        knstr = \"0\" + knstr\n",
    "    return \"K\" + knstr\n",
    "not_kog_ids = []\n",
    "with open(\"not_knumber.log\", \"r\") as f:\n",
    "    lines = f.readlines()\n",
    "    for line in lines:\n",
    "        knumber = line.strip()\n",
    "        not_kog_ids.append(knumber)\n",
    "kog_ids_raw = [transform_int2knumber(k) for k in range(1, 27110)]\n",
    "kog_ids = [k for k in kog_ids_raw if k not in not_kog_ids]"
   ]
  },
  {
   "cell_type": "code",
   "execution_count": 148,
   "id": "add4d1e7-062c-4376-840b-0e318b34393e",
   "metadata": {},
   "outputs": [],
   "source": [
    "def extract_uid_htmlrow(rowtext):\n",
    "    uid = re.findall(r'\">(.*)<\\/a', rowtext)[0]\n",
    "    return uid\n",
    "def extract_descriptor_htmlrow(rowtext, altformat = False):\n",
    "    if altformat:\n",
    "        descriptor = re.findall(r'[^\\n].*$', descriptor_row)[0].split(\"\\xa0\")[-1]\n",
    "        return descriptor\n",
    "    descriptor = re.findall(r';\\s(.*)', rowtext)[0] \n",
    "    return descriptor"
   ]
  },
  {
   "cell_type": "code",
   "execution_count": 168,
   "id": "e168a6f1-ef90-4186-8ac9-476eb5d72983",
   "metadata": {},
   "outputs": [],
   "source": [
    "def get_uids(kogid): # also gets descriptor for KOG\n",
    "    uids = []\n",
    "    url = base_url + kogid\n",
    "    data = requests.get(url)\n",
    "    html = BeautifulSoup(data.text, 'html.parser')\n",
    "    try: \n",
    "        descriptor_row = html.div.text\n",
    "    except:\n",
    "        with open(\"not_knumber_anymore.log\", \"a\") as outfile:\n",
    "            print(kogid, file=outfile)\n",
    "            return\n",
    "    print(\"completed request for {}\".format(kogid))\n",
    "    try:\n",
    "        descriptor = extract_descriptor_htmlrow(descriptor_row)\n",
    "    except: # row is formated without \";\" separating the gene alias and descriptor\n",
    "        descriptor = extract_descriptor_htmlrow(descriptor_row, True)\n",
    "    print(\"got descriptor\")\n",
    "\n",
    "    all_tds = html.find_all(\"td\")\n",
    "    for i in range(2, len(html.find_all(\"td\")), 4):\n",
    "        rowtext = str(all_tds[i])\n",
    "        uid = extract_uid_htmlrow(rowtext)\n",
    "        uids.append(uid)\n",
    "\n",
    "    output = \"data/kog_uid/{}.tsv\".format(kogid)\n",
    "    with open(output, \"a\") as outfile:\n",
    "        for uid in uids:\n",
    "            print(\"\\t\".join([kogid, uid, descriptor]), file=outfile)\n",
    "#get_uids(\"K15032\")"
   ]
  },
  {
   "cell_type": "code",
   "execution_count": null,
   "id": "f3438c9f-c841-4992-9aa4-ad4807df73ea",
   "metadata": {},
   "outputs": [],
   "source": [
    "section, num_sections = sys.argv[1], sys.argv[2]"
   ]
  },
  {
   "cell_type": "code",
   "execution_count": 7,
   "id": "12290f6e-6e7e-4da5-bfbd-7b0706f3aa18",
   "metadata": {},
   "outputs": [
    {
     "name": "stdout",
     "output_type": "stream",
     "text": [
      "completed request for K00001\n",
      "completed request for K00002\n",
      "completed request for K00003\n",
      "completed request for K00004\n",
      "completed request for K00005\n",
      "completed request for K00006\n",
      "completed request for K00007\n",
      "completed request for K00008\n"
     ]
    }
   ],
   "source": [
    "for kog_id in kog_ids[:8]:\n",
    "    get_uids(kog_id)"
   ]
  },
  {
   "cell_type": "code",
   "execution_count": 10,
   "id": "3ad0e97a-a8b1-433d-b7b5-e36c381e92f5",
   "metadata": {},
   "outputs": [
    {
     "name": "stdout",
     "output_type": "stream",
     "text": [
      "0\n",
      "136\n",
      "272\n",
      "408\n",
      "544\n",
      "680\n",
      "816\n",
      "952\n",
      "1088\n"
     ]
    }
   ],
   "source": [
    "n = 1094\n",
    "section = 2\n",
    "sections = 8\n",
    "\n",
    "for i in range(0, 1094, int(1094/8)):\n",
    "    print(i)\n"
   ]
  },
  {
   "cell_type": "code",
   "execution_count": 71,
   "id": "552e1706-bf48-49a9-a09d-8319327f9989",
   "metadata": {},
   "outputs": [],
   "source": [
    "kog_ids_100 = kog_ids"
   ]
  },
  {
   "cell_type": "code",
   "execution_count": 85,
   "id": "9ba48bd0-b499-4310-b3d6-83edbdc80b57",
   "metadata": {},
   "outputs": [],
   "source": [
    "num_sections = 10\n",
    "section = 10"
   ]
  },
  {
   "cell_type": "code",
   "execution_count": 86,
   "id": "a9bb0fee-8a77-454b-af02-f5a13bf836e6",
   "metadata": {},
   "outputs": [
    {
     "data": {
      "text/plain": [
       "2644"
      ]
     },
     "execution_count": 86,
     "metadata": {},
     "output_type": "execute_result"
    }
   ],
   "source": [
    "len(kog_ids_100) // num_sections"
   ]
  },
  {
   "cell_type": "code",
   "execution_count": 87,
   "id": "e3e894b6-d05a-4950-aac2-563db60e3540",
   "metadata": {},
   "outputs": [],
   "source": [
    "section_indices = [i for i in range(0, len(kog_ids_100), len(kog_ids_100) // num_sections)]\n",
    "start_range = section_indices[section-1]\n",
    "if section == num_sections:\n",
    "    end_range = len(kog_ids_100)\n",
    "else:\n",
    "    end_range = section_indices[section]"
   ]
  },
  {
   "cell_type": "code",
   "execution_count": 95,
   "id": "d086f081-a682-425c-9395-c90b032fdc46",
   "metadata": {},
   "outputs": [
    {
     "data": {
      "text/plain": [
       "(23796, 26442)"
      ]
     },
     "execution_count": 95,
     "metadata": {},
     "output_type": "execute_result"
    }
   ],
   "source": [
    "start_range, end_range"
   ]
  },
  {
   "cell_type": "code",
   "execution_count": 97,
   "id": "1f138c64-d454-4ea2-a137-df9bc0521746",
   "metadata": {},
   "outputs": [
    {
     "ename": "IndexError",
     "evalue": "list index out of range",
     "output_type": "error",
     "traceback": [
      "\u001b[1;31m---------------------------------------------------------------------------\u001b[0m",
      "\u001b[1;31mIndexError\u001b[0m                                Traceback (most recent call last)",
      "Cell \u001b[1;32mIn[97], line 1\u001b[0m\n\u001b[1;32m----> 1\u001b[0m \u001b[43mkog_ids_100\u001b[49m\u001b[43m[\u001b[49m\u001b[38;5;28;43mlen\u001b[39;49m\u001b[43m(\u001b[49m\u001b[43mkog_ids_100\u001b[49m\u001b[43m)\u001b[49m\u001b[43m]\u001b[49m\n",
      "\u001b[1;31mIndexError\u001b[0m: list index out of range"
     ]
    }
   ],
   "source": [
    "kog_ids_100[len(kog_ids_100)]"
   ]
  },
  {
   "cell_type": "code",
   "execution_count": 94,
   "id": "f0ee9802-7d30-46f8-8d94-5f06e7e73049",
   "metadata": {},
   "outputs": [
    {
     "data": {
      "text/plain": [
       "26442"
      ]
     },
     "execution_count": 94,
     "metadata": {},
     "output_type": "execute_result"
    }
   ],
   "source": [
    "len(kog_ids_100)"
   ]
  },
  {
   "cell_type": "code",
   "execution_count": 99,
   "id": "f2937385-7c6e-42a0-90cc-292ea0492ff7",
   "metadata": {},
   "outputs": [
    {
     "ename": "IndexError",
     "evalue": "list index out of range",
     "output_type": "error",
     "traceback": [
      "\u001b[1;31m---------------------------------------------------------------------------\u001b[0m",
      "\u001b[1;31mIndexError\u001b[0m                                Traceback (most recent call last)",
      "Cell \u001b[1;32mIn[99], line 1\u001b[0m\n\u001b[1;32m----> 1\u001b[0m \u001b[43ma\u001b[49m\u001b[43m[\u001b[49m\u001b[38;5;28;43mlen\u001b[39;49m\u001b[43m(\u001b[49m\u001b[43ma\u001b[49m\u001b[43m)\u001b[49m\u001b[43m]\u001b[49m\n",
      "\u001b[1;31mIndexError\u001b[0m: list index out of range"
     ]
    }
   ],
   "source": [
    "a[len(a)]"
   ]
  },
  {
   "cell_type": "code",
   "execution_count": null,
   "id": "84b2bc9a-7ec6-4a95-a065-f8674e103497",
   "metadata": {},
   "outputs": [],
   "source": []
  }
 ],
 "metadata": {
  "kernelspec": {
   "display_name": "default",
   "language": "python",
   "name": "default"
  },
  "language_info": {
   "codemirror_mode": {
    "name": "ipython",
    "version": 3
   },
   "file_extension": ".py",
   "mimetype": "text/x-python",
   "name": "python",
   "nbconvert_exporter": "python",
   "pygments_lexer": "ipython3",
   "version": "3.12.2"
  }
 },
 "nbformat": 4,
 "nbformat_minor": 5
}
