{
 "cells": [
  {
   "cell_type": "code",
   "execution_count": 1,
   "id": "514e16e5-1286-4262-bddb-16201964ac5d",
   "metadata": {
    "tags": []
   },
   "outputs": [],
   "source": [
    "import pandas as pd"
   ]
  },
  {
   "cell_type": "code",
   "execution_count": 2,
   "id": "1e1ce466-366b-438f-87bd-3afc9245a286",
   "metadata": {
    "tags": []
   },
   "outputs": [],
   "source": [
    "hhblits_results = \"/data/luojaa/kegg_db/search/kegg_euk.tsv\"\n",
    "kog_descriptors = \"/data/luojaa/uid_stats/kogs_df_crucial.tsv\"\n"
   ]
  },
  {
   "cell_type": "code",
   "execution_count": 3,
   "id": "e76433ad-6969-4f98-b5c5-d427b22d8b34",
   "metadata": {
    "tags": []
   },
   "outputs": [],
   "source": [
    "results = pd.read_csv(hhblits_results, sep = \"\\t\")"
   ]
  },
  {
   "cell_type": "code",
   "execution_count": 4,
   "id": "af72b08b-e52a-427c-b6d1-264c55c89d9f",
   "metadata": {
    "tags": []
   },
   "outputs": [
    {
     "name": "stderr",
     "output_type": "stream",
     "text": [
      "/tmp/ipykernel_2685415/1515887136.py:1: DtypeWarning: Columns (0,2,7) have mixed types. Specify dtype option on import or set low_memory=False.\n",
      "  descriptors = pd.read_csv(kog_descriptors, sep = \"\\t\")\n"
     ]
    }
   ],
   "source": [
    "descriptors = pd.read_csv(kog_descriptors, sep = \"\\t\")"
   ]
  },
  {
   "cell_type": "code",
   "execution_count": 5,
   "id": "037b6e07-5f4b-4908-8489-421cb08a530d",
   "metadata": {
    "tags": []
   },
   "outputs": [
    {
     "data": {
      "text/html": [
       "<div>\n",
       "<style scoped>\n",
       "    .dataframe tbody tr th:only-of-type {\n",
       "        vertical-align: middle;\n",
       "    }\n",
       "\n",
       "    .dataframe tbody tr th {\n",
       "        vertical-align: top;\n",
       "    }\n",
       "\n",
       "    .dataframe thead th {\n",
       "        text-align: right;\n",
       "    }\n",
       "</style>\n",
       "<table border=\"1\" class=\"dataframe\">\n",
       "  <thead>\n",
       "    <tr style=\"text-align: right;\">\n",
       "      <th></th>\n",
       "      <th>header</th>\n",
       "    </tr>\n",
       "    <tr>\n",
       "      <th>Target</th>\n",
       "      <th></th>\n",
       "    </tr>\n",
       "  </thead>\n",
       "  <tbody>\n",
       "    <tr>\n",
       "      <th>K00001</th>\n",
       "      <td>alcohol dehydrogenase [EC:1.1.1.1]</td>\n",
       "    </tr>\n",
       "    <tr>\n",
       "      <th>K00002</th>\n",
       "      <td>alcohol dehydrogenase (NADP+) [EC:1.1.1.2]</td>\n",
       "    </tr>\n",
       "    <tr>\n",
       "      <th>K00003</th>\n",
       "      <td>homoserine dehydrogenase [EC:1.1.1.3]</td>\n",
       "    </tr>\n",
       "    <tr>\n",
       "      <th>K00004</th>\n",
       "      <td>(R,R)-butanediol dehydrogenase / meso-butanedi...</td>\n",
       "    </tr>\n",
       "    <tr>\n",
       "      <th>K00005</th>\n",
       "      <td>glycerol dehydrogenase [EC:1.1.1.6]</td>\n",
       "    </tr>\n",
       "    <tr>\n",
       "      <th>...</th>\n",
       "      <td>...</td>\n",
       "    </tr>\n",
       "    <tr>\n",
       "      <th>K27105</th>\n",
       "      <td>two-component system, NarL family, sensor hist...</td>\n",
       "    </tr>\n",
       "    <tr>\n",
       "      <th>K27106</th>\n",
       "      <td>zinc finger protein 668</td>\n",
       "    </tr>\n",
       "    <tr>\n",
       "      <th>K27107</th>\n",
       "      <td>TetR/AcrR family transcriptional regulator, mc...</td>\n",
       "    </tr>\n",
       "    <tr>\n",
       "      <th>K27108</th>\n",
       "      <td>epoxide hydrolase A/B [EC:3.3.2.-]</td>\n",
       "    </tr>\n",
       "    <tr>\n",
       "      <th>K27109</th>\n",
       "      <td>cytochrome c oxidase subunit IV [EC:7.1.1.9]</td>\n",
       "    </tr>\n",
       "  </tbody>\n",
       "</table>\n",
       "<p>25835 rows × 1 columns</p>\n",
       "</div>"
      ],
      "text/plain": [
       "                                                   header\n",
       "Target                                                   \n",
       "K00001                 alcohol dehydrogenase [EC:1.1.1.1]\n",
       "K00002         alcohol dehydrogenase (NADP+) [EC:1.1.1.2]\n",
       "K00003              homoserine dehydrogenase [EC:1.1.1.3]\n",
       "K00004  (R,R)-butanediol dehydrogenase / meso-butanedi...\n",
       "K00005                glycerol dehydrogenase [EC:1.1.1.6]\n",
       "...                                                   ...\n",
       "K27105  two-component system, NarL family, sensor hist...\n",
       "K27106                            zinc finger protein 668\n",
       "K27107  TetR/AcrR family transcriptional regulator, mc...\n",
       "K27108                 epoxide hydrolase A/B [EC:3.3.2.-]\n",
       "K27109       cytochrome c oxidase subunit IV [EC:7.1.1.9]\n",
       "\n",
       "[25835 rows x 1 columns]"
      ]
     },
     "execution_count": 5,
     "metadata": {},
     "output_type": "execute_result"
    }
   ],
   "source": [
    "descriptors_df = descriptors.loc[:, [\"KOGID\", \"FUNCTION\"]].rename(columns={\"FUNCTION\": \"header\", \"KOGID\": \"Target\"}).dropna().set_index(\"Target\")\n",
    "descriptors_df = descriptors_df[~descriptors_df.index.duplicated(keep='first')]\n",
    "descriptors_df"
   ]
  },
  {
   "cell_type": "code",
   "execution_count": 6,
   "id": "e536937d-cfd7-4c10-90fd-82f672f5dd05",
   "metadata": {
    "tags": []
   },
   "outputs": [],
   "source": [
    "results_df = results.loc[:, [\"Target\", \"Query\", \"Prob\", \"Pairwise_cov\"]].rename(columns={\"Query\":\"Target\", \"Target\":\"Query\"}).set_index(\"Target\")"
   ]
  },
  {
   "cell_type": "code",
   "execution_count": 7,
   "id": "4dd84686-e6b1-41bc-ad90-4cfa9ed0fe78",
   "metadata": {
    "tags": []
   },
   "outputs": [],
   "source": [
    "results_annot = pd.merge(results_df, descriptors_df, on = \"Target\", how = \"left\").reset_index().loc[:, [\"Query\", \"Target\", \"Prob\", \"Pairwise_cov\", \"header\"]]"
   ]
  },
  {
   "cell_type": "code",
   "execution_count": 69,
   "id": "b8ae4d14-b676-4e43-b329-5759fcfed0ce",
   "metadata": {
    "tags": []
   },
   "outputs": [],
   "source": [
    "outfile = \"/data/luojaa/kegg_db/search/kegg_euk.KEGG_annotation.tsv\"\n",
    "results_annot.to_csv(outfile, index = None, sep = \"\\t\")"
   ]
  },
  {
   "cell_type": "code",
   "execution_count": 8,
   "id": "66430f94-e508-4976-9371-9aa46f0ff134",
   "metadata": {
    "tags": []
   },
   "outputs": [
    {
     "data": {
      "text/html": [
       "<div>\n",
       "<style scoped>\n",
       "    .dataframe tbody tr th:only-of-type {\n",
       "        vertical-align: middle;\n",
       "    }\n",
       "\n",
       "    .dataframe tbody tr th {\n",
       "        vertical-align: top;\n",
       "    }\n",
       "\n",
       "    .dataframe thead th {\n",
       "        text-align: right;\n",
       "    }\n",
       "</style>\n",
       "<table border=\"1\" class=\"dataframe\">\n",
       "  <thead>\n",
       "    <tr style=\"text-align: right;\">\n",
       "      <th></th>\n",
       "      <th>Query</th>\n",
       "      <th>Target</th>\n",
       "      <th>Prob</th>\n",
       "      <th>Pairwise_cov</th>\n",
       "      <th>header</th>\n",
       "    </tr>\n",
       "  </thead>\n",
       "  <tbody>\n",
       "    <tr>\n",
       "      <th>0</th>\n",
       "      <td>K00006</td>\n",
       "      <td>K00006</td>\n",
       "      <td>100.0</td>\n",
       "      <td>1.000000</td>\n",
       "      <td>glycerol-3-phosphate dehydrogenase (NAD+) [EC:...</td>\n",
       "    </tr>\n",
       "    <tr>\n",
       "      <th>1</th>\n",
       "      <td>EP00200P001145</td>\n",
       "      <td>K00006</td>\n",
       "      <td>100.0</td>\n",
       "      <td>0.548644</td>\n",
       "      <td>glycerol-3-phosphate dehydrogenase (NAD+) [EC:...</td>\n",
       "    </tr>\n",
       "    <tr>\n",
       "      <th>2</th>\n",
       "      <td>EP00536P011563</td>\n",
       "      <td>K00006</td>\n",
       "      <td>100.0</td>\n",
       "      <td>0.907781</td>\n",
       "      <td>glycerol-3-phosphate dehydrogenase (NAD+) [EC:...</td>\n",
       "    </tr>\n",
       "    <tr>\n",
       "      <th>3</th>\n",
       "      <td>EP00437P014417</td>\n",
       "      <td>K00006</td>\n",
       "      <td>100.0</td>\n",
       "      <td>0.333659</td>\n",
       "      <td>glycerol-3-phosphate dehydrogenase (NAD+) [EC:...</td>\n",
       "    </tr>\n",
       "    <tr>\n",
       "      <th>4</th>\n",
       "      <td>EP00198P001540</td>\n",
       "      <td>K00006</td>\n",
       "      <td>100.0</td>\n",
       "      <td>0.910663</td>\n",
       "      <td>glycerol-3-phosphate dehydrogenase (NAD+) [EC:...</td>\n",
       "    </tr>\n",
       "    <tr>\n",
       "      <th>...</th>\n",
       "      <td>...</td>\n",
       "      <td>...</td>\n",
       "      <td>...</td>\n",
       "      <td>...</td>\n",
       "      <td>...</td>\n",
       "    </tr>\n",
       "    <tr>\n",
       "      <th>2470552</th>\n",
       "      <td>EP00279P021349</td>\n",
       "      <td>K00574</td>\n",
       "      <td>96.2</td>\n",
       "      <td>0.250000</td>\n",
       "      <td>cyclopropane-fatty-acyl-phospholipid synthase ...</td>\n",
       "    </tr>\n",
       "    <tr>\n",
       "      <th>2470553</th>\n",
       "      <td>EP00929P073521</td>\n",
       "      <td>K00574</td>\n",
       "      <td>96.2</td>\n",
       "      <td>0.214481</td>\n",
       "      <td>cyclopropane-fatty-acyl-phospholipid synthase ...</td>\n",
       "    </tr>\n",
       "    <tr>\n",
       "      <th>2470554</th>\n",
       "      <td>EP00092P030034</td>\n",
       "      <td>K00574</td>\n",
       "      <td>96.2</td>\n",
       "      <td>0.224044</td>\n",
       "      <td>cyclopropane-fatty-acyl-phospholipid synthase ...</td>\n",
       "    </tr>\n",
       "    <tr>\n",
       "      <th>2470555</th>\n",
       "      <td>EP00672P016470</td>\n",
       "      <td>K00574</td>\n",
       "      <td>96.2</td>\n",
       "      <td>0.209016</td>\n",
       "      <td>cyclopropane-fatty-acyl-phospholipid synthase ...</td>\n",
       "    </tr>\n",
       "    <tr>\n",
       "      <th>2470556</th>\n",
       "      <td>EP00802P033311</td>\n",
       "      <td>K00574</td>\n",
       "      <td>96.1</td>\n",
       "      <td>0.211749</td>\n",
       "      <td>cyclopropane-fatty-acyl-phospholipid synthase ...</td>\n",
       "    </tr>\n",
       "  </tbody>\n",
       "</table>\n",
       "<p>2470557 rows × 5 columns</p>\n",
       "</div>"
      ],
      "text/plain": [
       "                  Query  Target   Prob  Pairwise_cov  \\\n",
       "0                K00006  K00006  100.0      1.000000   \n",
       "1        EP00200P001145  K00006  100.0      0.548644   \n",
       "2        EP00536P011563  K00006  100.0      0.907781   \n",
       "3        EP00437P014417  K00006  100.0      0.333659   \n",
       "4        EP00198P001540  K00006  100.0      0.910663   \n",
       "...                 ...     ...    ...           ...   \n",
       "2470552  EP00279P021349  K00574   96.2      0.250000   \n",
       "2470553  EP00929P073521  K00574   96.2      0.214481   \n",
       "2470554  EP00092P030034  K00574   96.2      0.224044   \n",
       "2470555  EP00672P016470  K00574   96.2      0.209016   \n",
       "2470556  EP00802P033311  K00574   96.1      0.211749   \n",
       "\n",
       "                                                    header  \n",
       "0        glycerol-3-phosphate dehydrogenase (NAD+) [EC:...  \n",
       "1        glycerol-3-phosphate dehydrogenase (NAD+) [EC:...  \n",
       "2        glycerol-3-phosphate dehydrogenase (NAD+) [EC:...  \n",
       "3        glycerol-3-phosphate dehydrogenase (NAD+) [EC:...  \n",
       "4        glycerol-3-phosphate dehydrogenase (NAD+) [EC:...  \n",
       "...                                                    ...  \n",
       "2470552  cyclopropane-fatty-acyl-phospholipid synthase ...  \n",
       "2470553  cyclopropane-fatty-acyl-phospholipid synthase ...  \n",
       "2470554  cyclopropane-fatty-acyl-phospholipid synthase ...  \n",
       "2470555  cyclopropane-fatty-acyl-phospholipid synthase ...  \n",
       "2470556  cyclopropane-fatty-acyl-phospholipid synthase ...  \n",
       "\n",
       "[2470557 rows x 5 columns]"
      ]
     },
     "execution_count": 8,
     "metadata": {},
     "output_type": "execute_result"
    }
   ],
   "source": [
    "results_annot"
   ]
  },
  {
   "cell_type": "code",
   "execution_count": null,
   "id": "3f874b53-2179-4148-bc0c-0962da8fdb76",
   "metadata": {},
   "outputs": [],
   "source": []
  }
 ],
 "metadata": {
  "kernelspec": {
   "display_name": "default",
   "language": "python",
   "name": "default"
  },
  "language_info": {
   "codemirror_mode": {
    "name": "ipython",
    "version": 3
   },
   "file_extension": ".py",
   "mimetype": "text/x-python",
   "name": "python",
   "nbconvert_exporter": "python",
   "pygments_lexer": "ipython3",
   "version": "3.12.2"
  }
 },
 "nbformat": 4,
 "nbformat_minor": 5
}
