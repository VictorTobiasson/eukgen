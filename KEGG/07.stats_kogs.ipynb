{
 "cells": [
  {
   "cell_type": "code",
   "execution_count": 1,
   "id": "271780a4-8e68-4c8c-a9ea-b0e2c0ed3278",
   "metadata": {
    "tags": []
   },
   "outputs": [],
   "source": [
    "import os\n",
    "from Bio import SeqIO\n",
    "import pandas as pd\n",
    "import numpy as np"
   ]
  },
  {
   "cell_type": "code",
   "execution_count": 5,
   "id": "c5977841-c14d-4178-b44b-0f9331c254ff",
   "metadata": {
    "tags": []
   },
   "outputs": [],
   "source": [
    "# # forgot to combine these files earlier.\n",
    "# base = \"/data/luojaa/kegg/kog_uid/\"\n",
    "# kog2uidpaths = [base + tsv for tsv in os.listdir(base)]\n",
    "# with open(\"/data/luojaa/uid_stats/uid2descriptors.tsv\",\"w\") as outfile:\n",
    "#     for path in kog2uidpaths:\n",
    "#         with open(path, \"r\") as f:\n",
    "#             for line in f:\n",
    "#                 kog, uid, descriptor = line.strip().split(\"\\t\")\n",
    "#                 print(\"\\t\".join([uid, descriptor]), file=outfile)"
   ]
  },
  {
   "cell_type": "code",
   "execution_count": 6,
   "id": "f358eefb-9129-4642-8128-e2e05bb73bbb",
   "metadata": {
    "tags": []
   },
   "outputs": [],
   "source": [
    "base_stats = \"/data/luojaa/uid_stats/\"\n",
    "genes2uid = base_stats + \"kegg_genes.mappings.csv\"\n",
    "uid2kogs = base_stats + \"uid2kogs.csv\"\n",
    "uid2taxid = base_stats + \"uid2taxids.combined.tsv\"\n",
    "uid2descriptor = base_stats + \"uid2descriptors.tsv\"\n",
    "\n",
    "genes2uid_df = pd.read_csv(genes2uid).rename(columns={\"UNIPROT_ID\":\"UID\"}).set_index(\"UID\")\n",
    "# missing descriptors for genes w/o UID, and some UIDs lacking descriptors\n",
    "uid2kogs_df = pd.read_csv(uid2kogs).iloc[:, 1:].rename(columns = {\"0\":\"UID\",\"1\":\"KOG\"}).set_index(\"UID\")\n",
    "uid2taxid_df = pd.read_csv(uid2taxid, sep = \"\\t\", header = None).rename(columns={0:\"UID\",1:\"TAXID\"}).set_index(\"UID\")\n",
    "uid2desc_df = pd.read_csv(uid2descriptor, sep = \"\\t\", header = None).rename(columns={0:\"UID\",1:\"FUNCTION\"}).set_index(\"UID\")"
   ]
  },
  {
   "cell_type": "code",
   "execution_count": 46,
   "id": "e4333273-f80b-447c-91b1-bd9a28033d7a",
   "metadata": {
    "tags": []
   },
   "outputs": [
    {
     "data": {
      "text/plain": [
       "(12462195, 12015899)"
      ]
     },
     "execution_count": 46,
     "metadata": {},
     "output_type": "execute_result"
    }
   ],
   "source": [
    "# 400k uids from scraping don't appear in genes2uid because uniprot mapper isn't updated\n",
    "len(set(uid2kogs_df.index)), len(set(genes2uid_df.index))"
   ]
  },
  {
   "cell_type": "code",
   "execution_count": null,
   "id": "c387b0fb-0aff-4d7c-ac6f-d88a04fb4fea",
   "metadata": {},
   "outputs": [],
   "source": []
  },
  {
   "cell_type": "code",
   "execution_count": 72,
   "id": "6c4ce6f2-6192-4c09-a036-96d85ce69fdd",
   "metadata": {
    "tags": []
   },
   "outputs": [
    {
     "data": {
      "text/plain": [
       "(15055848, 14897628)"
      ]
     },
     "execution_count": 72,
     "metadata": {},
     "output_type": "execute_result"
    }
   ],
   "source": [
    "sum(kogs_df[\"KOG\"].isnull()), sum(kogs_df.index.isnull())"
   ]
  },
  {
   "cell_type": "code",
   "execution_count": 104,
   "id": "65b0d5f2-dba3-417c-96f5-ca07a179de6e",
   "metadata": {
    "tags": []
   },
   "outputs": [
    {
     "data": {
      "text/plain": [
       "15703492"
      ]
     },
     "execution_count": 104,
     "metadata": {},
     "output_type": "execute_result"
    }
   ],
   "source": [
    "sum(kogs_df[\"KOG\"] != kogs_df[\"ENTRY\"])"
   ]
  },
  {
   "cell_type": "code",
   "execution_count": 7,
   "id": "822a299e-4bcb-4d6f-8802-9298ab3234a5",
   "metadata": {},
   "outputs": [
    {
     "data": {
      "text/html": [
       "<div>\n",
       "<style scoped>\n",
       "    .dataframe tbody tr th:only-of-type {\n",
       "        vertical-align: middle;\n",
       "    }\n",
       "\n",
       "    .dataframe tbody tr th {\n",
       "        vertical-align: top;\n",
       "    }\n",
       "\n",
       "    .dataframe thead th {\n",
       "        text-align: right;\n",
       "    }\n",
       "</style>\n",
       "<table border=\"1\" class=\"dataframe\">\n",
       "  <thead>\n",
       "    <tr style=\"text-align: right;\">\n",
       "      <th></th>\n",
       "      <th>UID</th>\n",
       "      <th>KOG</th>\n",
       "      <th>KEGG_ID</th>\n",
       "      <th>ENTRY</th>\n",
       "      <th>ALIAS</th>\n",
       "      <th>KEGG_CDS</th>\n",
       "      <th>KEGG_ORG</th>\n",
       "      <th>TAXID</th>\n",
       "      <th>FUNCTION</th>\n",
       "      <th>KOGID</th>\n",
       "      <th>isnull</th>\n",
       "      <th>UIDS_MISSING</th>\n",
       "    </tr>\n",
       "  </thead>\n",
       "  <tbody>\n",
       "    <tr>\n",
       "      <th>0</th>\n",
       "      <td>A0A022Q707</td>\n",
       "      <td>K00001</td>\n",
       "      <td>egt:105975019</td>\n",
       "      <td>K00001</td>\n",
       "      <td>NaN</td>\n",
       "      <td>105975019</td>\n",
       "      <td>EGT</td>\n",
       "      <td>4155.0</td>\n",
       "      <td>alcohol dehydrogenase [EC:1.1.1.1]</td>\n",
       "      <td>K00001</td>\n",
       "      <td>False</td>\n",
       "      <td>1604</td>\n",
       "    </tr>\n",
       "    <tr>\n",
       "      <th>1</th>\n",
       "      <td>A0A022R7F5</td>\n",
       "      <td>K00001</td>\n",
       "      <td>egt:105960042</td>\n",
       "      <td>K00001</td>\n",
       "      <td>NaN</td>\n",
       "      <td>105960042</td>\n",
       "      <td>EGT</td>\n",
       "      <td>4155.0</td>\n",
       "      <td>alcohol dehydrogenase [EC:1.1.1.1]</td>\n",
       "      <td>K00001</td>\n",
       "      <td>False</td>\n",
       "      <td>1604</td>\n",
       "    </tr>\n",
       "    <tr>\n",
       "      <th>2</th>\n",
       "      <td>A0A059A4S5</td>\n",
       "      <td>K00001</td>\n",
       "      <td>egr:104425885</td>\n",
       "      <td>K00001</td>\n",
       "      <td>NaN</td>\n",
       "      <td>104425885</td>\n",
       "      <td>EGR</td>\n",
       "      <td>71139.0</td>\n",
       "      <td>alcohol dehydrogenase [EC:1.1.1.1]</td>\n",
       "      <td>K00001</td>\n",
       "      <td>False</td>\n",
       "      <td>1604</td>\n",
       "    </tr>\n",
       "    <tr>\n",
       "      <th>3</th>\n",
       "      <td>A0A059A5P0</td>\n",
       "      <td>K00001</td>\n",
       "      <td>egr:104425887</td>\n",
       "      <td>K00001</td>\n",
       "      <td>NaN</td>\n",
       "      <td>104425887</td>\n",
       "      <td>EGR</td>\n",
       "      <td>71139.0</td>\n",
       "      <td>alcohol dehydrogenase [EC:1.1.1.1]</td>\n",
       "      <td>K00001</td>\n",
       "      <td>False</td>\n",
       "      <td>1604</td>\n",
       "    </tr>\n",
       "    <tr>\n",
       "      <th>4</th>\n",
       "      <td>A0A059ZDV9</td>\n",
       "      <td>K00001</td>\n",
       "      <td>abw:BL01_05170</td>\n",
       "      <td>K00001</td>\n",
       "      <td>NaN</td>\n",
       "      <td>BL01_05170</td>\n",
       "      <td>ABW</td>\n",
       "      <td>470.0</td>\n",
       "      <td>alcohol dehydrogenase [EC:1.1.1.1]</td>\n",
       "      <td>K00001</td>\n",
       "      <td>False</td>\n",
       "      <td>1604</td>\n",
       "    </tr>\n",
       "    <tr>\n",
       "      <th>...</th>\n",
       "      <td>...</td>\n",
       "      <td>...</td>\n",
       "      <td>...</td>\n",
       "      <td>...</td>\n",
       "      <td>...</td>\n",
       "      <td>...</td>\n",
       "      <td>...</td>\n",
       "      <td>...</td>\n",
       "      <td>...</td>\n",
       "      <td>...</td>\n",
       "      <td>...</td>\n",
       "      <td>...</td>\n",
       "    </tr>\n",
       "    <tr>\n",
       "      <th>27895405</th>\n",
       "      <td>NaN</td>\n",
       "      <td>NaN</td>\n",
       "      <td>tpul:TPB0596_18180</td>\n",
       "      <td>K27109</td>\n",
       "      <td>ctaF</td>\n",
       "      <td>TPB0596_18180</td>\n",
       "      <td>TPUL</td>\n",
       "      <td>NaN</td>\n",
       "      <td>NaN</td>\n",
       "      <td>K27109</td>\n",
       "      <td>True</td>\n",
       "      <td>482</td>\n",
       "    </tr>\n",
       "    <tr>\n",
       "      <th>27895406</th>\n",
       "      <td>NaN</td>\n",
       "      <td>NaN</td>\n",
       "      <td>tsd:MTP03_30470</td>\n",
       "      <td>K27109</td>\n",
       "      <td>NaN</td>\n",
       "      <td>MTP03_30470</td>\n",
       "      <td>TSD</td>\n",
       "      <td>NaN</td>\n",
       "      <td>NaN</td>\n",
       "      <td>K27109</td>\n",
       "      <td>True</td>\n",
       "      <td>482</td>\n",
       "    </tr>\n",
       "    <tr>\n",
       "      <th>27895407</th>\n",
       "      <td>NaN</td>\n",
       "      <td>NaN</td>\n",
       "      <td>whr:OG579_04520</td>\n",
       "      <td>K27109</td>\n",
       "      <td>NaN</td>\n",
       "      <td>OG579_04520</td>\n",
       "      <td>WHR</td>\n",
       "      <td>NaN</td>\n",
       "      <td>NaN</td>\n",
       "      <td>K27109</td>\n",
       "      <td>True</td>\n",
       "      <td>482</td>\n",
       "    </tr>\n",
       "    <tr>\n",
       "      <th>27895408</th>\n",
       "      <td>NaN</td>\n",
       "      <td>NaN</td>\n",
       "      <td>yia:LO772_24195</td>\n",
       "      <td>K27109</td>\n",
       "      <td>NaN</td>\n",
       "      <td>LO772_24195</td>\n",
       "      <td>YIA</td>\n",
       "      <td>NaN</td>\n",
       "      <td>NaN</td>\n",
       "      <td>K27109</td>\n",
       "      <td>True</td>\n",
       "      <td>482</td>\n",
       "    </tr>\n",
       "    <tr>\n",
       "      <th>27895409</th>\n",
       "      <td>NaN</td>\n",
       "      <td>NaN</td>\n",
       "      <td>yim:J5M86_08950</td>\n",
       "      <td>K27109</td>\n",
       "      <td>NaN</td>\n",
       "      <td>J5M86_08950</td>\n",
       "      <td>YIM</td>\n",
       "      <td>NaN</td>\n",
       "      <td>NaN</td>\n",
       "      <td>K27109</td>\n",
       "      <td>True</td>\n",
       "      <td>482</td>\n",
       "    </tr>\n",
       "  </tbody>\n",
       "</table>\n",
       "<p>27895410 rows × 12 columns</p>\n",
       "</div>"
      ],
      "text/plain": [
       "                 UID     KOG             KEGG_ID   ENTRY ALIAS       KEGG_CDS  \\\n",
       "0         A0A022Q707  K00001       egt:105975019  K00001   NaN      105975019   \n",
       "1         A0A022R7F5  K00001       egt:105960042  K00001   NaN      105960042   \n",
       "2         A0A059A4S5  K00001       egr:104425885  K00001   NaN      104425885   \n",
       "3         A0A059A5P0  K00001       egr:104425887  K00001   NaN      104425887   \n",
       "4         A0A059ZDV9  K00001      abw:BL01_05170  K00001   NaN     BL01_05170   \n",
       "...              ...     ...                 ...     ...   ...            ...   \n",
       "27895405         NaN     NaN  tpul:TPB0596_18180  K27109  ctaF  TPB0596_18180   \n",
       "27895406         NaN     NaN     tsd:MTP03_30470  K27109   NaN    MTP03_30470   \n",
       "27895407         NaN     NaN     whr:OG579_04520  K27109   NaN    OG579_04520   \n",
       "27895408         NaN     NaN     yia:LO772_24195  K27109   NaN    LO772_24195   \n",
       "27895409         NaN     NaN     yim:J5M86_08950  K27109   NaN    J5M86_08950   \n",
       "\n",
       "         KEGG_ORG    TAXID                            FUNCTION   KOGID  \\\n",
       "0             EGT   4155.0  alcohol dehydrogenase [EC:1.1.1.1]  K00001   \n",
       "1             EGT   4155.0  alcohol dehydrogenase [EC:1.1.1.1]  K00001   \n",
       "2             EGR  71139.0  alcohol dehydrogenase [EC:1.1.1.1]  K00001   \n",
       "3             EGR  71139.0  alcohol dehydrogenase [EC:1.1.1.1]  K00001   \n",
       "4             ABW    470.0  alcohol dehydrogenase [EC:1.1.1.1]  K00001   \n",
       "...           ...      ...                                 ...     ...   \n",
       "27895405     TPUL      NaN                                 NaN  K27109   \n",
       "27895406      TSD      NaN                                 NaN  K27109   \n",
       "27895407      WHR      NaN                                 NaN  K27109   \n",
       "27895408      YIA      NaN                                 NaN  K27109   \n",
       "27895409      YIM      NaN                                 NaN  K27109   \n",
       "\n",
       "          isnull  UIDS_MISSING  \n",
       "0          False          1604  \n",
       "1          False          1604  \n",
       "2          False          1604  \n",
       "3          False          1604  \n",
       "4          False          1604  \n",
       "...          ...           ...  \n",
       "27895405    True           482  \n",
       "27895406    True           482  \n",
       "27895407    True           482  \n",
       "27895408    True           482  \n",
       "27895409    True           482  \n",
       "\n",
       "[27895410 rows x 12 columns]"
      ]
     },
     "execution_count": 7,
     "metadata": {},
     "output_type": "execute_result"
    }
   ],
   "source": [
    "kogs_df = pd.merge(uid2kogs_df, genes2uid_df, on=\"UID\", how = \"outer\")\n",
    "kogs_df = pd.merge(kogs_df, uid2taxid_df, on = \"UID\", how = \"outer\")\n",
    "kogs_df = pd.merge(kogs_df, uid2desc_df, on=\"UID\", how = \"outer\")\n",
    "# ENTRY is from KEGG gene scraping, and many of these genes don't have UIDs\n",
    "# 50% genes don't have \"KOGs\" for this reason, so fill in gaps with \"ENTRY\"\n",
    "# Also, ~600k \"KOGs\" map to UIDs that were \"discovered\", or not originally mapped from the KEGG gene scraping \n",
    "kogs_df[\"KOGID\"] = kogs_df[\"KOG\"].fillna(kogs_df[\"ENTRY\"]) \n",
    "\n",
    "kogs_df[\"isnull\"] = kogs_df.index.isnull()\n",
    "null_count = kogs_df.reset_index().loc[:,[\"isnull\", \"KOGID\"]].groupby(\"KOGID\").sum().astype(int).reset_index().rename(columns={\"isnull\":\"UIDS_MISSING\"})\n",
    "kogs_df = kogs_df.reset_index()\n",
    "kogs_df = pd.merge(kogs_df, null_count, on = \"KOGID\", how = \"outer\")\n",
    "\n",
    "kogs_df\n"
   ]
  },
  {
   "cell_type": "code",
   "execution_count": null,
   "id": "96b90ecf-a367-49a6-ae3a-a231ca79e1cf",
   "metadata": {},
   "outputs": [],
   "source": []
  },
  {
   "cell_type": "code",
   "execution_count": null,
   "id": "bb1d22ba-7c1e-4093-82d6-8a6d6e349bb8",
   "metadata": {},
   "outputs": [],
   "source": []
  },
  {
   "cell_type": "code",
   "execution_count": 9,
   "id": "fe7cec6e-213b-4df8-aacf-338b226363e6",
   "metadata": {
    "tags": []
   },
   "outputs": [],
   "source": [
    "kogs_df.to_csv(base_stats + \"kogs_df.tsv\", sep = \"\\t\", index=None)"
   ]
  },
  {
   "cell_type": "markdown",
   "id": "06738815-29af-461b-86ee-11f84491b2b5",
   "metadata": {
    "tags": []
   },
   "source": [
    "### map kogs to 3M uids that we include before realignment (eukaryotic)"
   ]
  },
  {
   "cell_type": "code",
   "execution_count": 2,
   "id": "763154be-54c5-4b67-a79b-7a83f76aa5b7",
   "metadata": {
    "tags": []
   },
   "outputs": [],
   "source": [
    "euk_uid2kogs = \"/data/luojaa/uid_stats/uid2kogs_fasta.csv\""
   ]
  },
  {
   "cell_type": "code",
   "execution_count": 3,
   "id": "00ae0fbe-9bc6-4b12-8577-0ea49a95675c",
   "metadata": {
    "tags": []
   },
   "outputs": [],
   "source": [
    "# kog_fastas_path = \"/data/luojaa/kog_fastas_backup/\"\n",
    "# kog_fastas = os.listdir(kog_fastas_path)\n",
    "# with open(\"/data/luojaa/uid_stats/uid2kogs_fasta.csv\", \"w\") as outfile:\n",
    "#     for file in kog_fastas:\n",
    "#         kog = file.strip(\".fasta\")\n",
    "#         with open(kog_fastas_path + file, \"r\") as handle:\n",
    "#             for record in SeqIO.parse(handle, 'fasta'):\n",
    "#                 uid = record.id\n",
    "#                 print(\",\".join([uid, kog]), file=outfile)"
   ]
  },
  {
   "cell_type": "code",
   "execution_count": 4,
   "id": "3ca8f236-b000-4551-b7c2-ca020661f7c2",
   "metadata": {
    "tags": []
   },
   "outputs": [],
   "source": [
    "euk_uid2kogs_df = pd.read_csv(euk_uid2kogs, header = None).rename(columns = {0:\"UID\", 1:\"KOGID\"}).set_index(\"UID\")\n",
    "euk_uid2kogs_df[\"ISEUK\"] = [True] * len(euk_uid2kogs_df)\n",
    "euk_uid2kogs_df = euk_uid2kogs_df.loc[:,\"ISEUK\"]"
   ]
  },
  {
   "cell_type": "code",
   "execution_count": 141,
   "id": "f0acbbc1-91ef-4a39-95af-25db5ce7f42c",
   "metadata": {
    "tags": []
   },
   "outputs": [
    {
     "name": "stderr",
     "output_type": "stream",
     "text": [
      "/tmp/ipykernel_2701790/1197042640.py:1: DtypeWarning: Columns (0,1,8) have mixed types. Specify dtype option on import or set low_memory=False.\n",
      "  kogs_df_summary_in = pd.read_csv(base_stats + \"kogs_df.tsv\", sep = \"\\t\").set_index(\"UID\")\n"
     ]
    }
   ],
   "source": [
    "kogs_df_summary_in = pd.read_csv(base_stats + \"kogs_df.tsv\", sep = \"\\t\").set_index(\"UID\")"
   ]
  },
  {
   "cell_type": "code",
   "execution_count": 149,
   "id": "113383ea-2c0d-4f88-bf3e-beafc9fe829f",
   "metadata": {
    "tags": []
   },
   "outputs": [],
   "source": [
    "kogs_df_iseuk = pd.merge(kogs_df_summary_in, euk_uid2kogs_df, on = \"UID\", how=\"outer\")\n",
    "kogs_df_iseuk.fillna({\"ISEUK\":False}, inplace = True)\n",
    "euk_count = kogs_df_iseuk.reset_index().loc[:,[\"ISEUK\", \"KOGID\"]].groupby(\"KOGID\").sum().astype(int).reset_index().rename(columns={\"ISEUK\":\"EUKCOUNT\"})\n",
    "\n",
    "kogs_df_iseuk = kogs_df_iseuk.reset_index()\n",
    "kogs_df_summary = pd.merge(kogs_df_iseuk, euk_count, on = \"KOGID\", how = \"outer\")"
   ]
  },
  {
   "cell_type": "code",
   "execution_count": 150,
   "id": "5c08f76f-2127-4f8a-8172-919eacf41283",
   "metadata": {
    "tags": []
   },
   "outputs": [
    {
     "data": {
      "text/html": [
       "<div>\n",
       "<style scoped>\n",
       "    .dataframe tbody tr th:only-of-type {\n",
       "        vertical-align: middle;\n",
       "    }\n",
       "\n",
       "    .dataframe tbody tr th {\n",
       "        vertical-align: top;\n",
       "    }\n",
       "\n",
       "    .dataframe thead th {\n",
       "        text-align: right;\n",
       "    }\n",
       "</style>\n",
       "<table border=\"1\" class=\"dataframe\">\n",
       "  <thead>\n",
       "    <tr style=\"text-align: right;\">\n",
       "      <th></th>\n",
       "      <th>UID</th>\n",
       "      <th>KOG</th>\n",
       "      <th>KEGG_ID</th>\n",
       "      <th>ENTRY</th>\n",
       "      <th>ALIAS</th>\n",
       "      <th>KEGG_CDS</th>\n",
       "      <th>KEGG_ORG</th>\n",
       "      <th>TAXID</th>\n",
       "      <th>FUNCTION</th>\n",
       "      <th>KOGID</th>\n",
       "      <th>isnull</th>\n",
       "      <th>UIDS_MISSING</th>\n",
       "      <th>ISEUK</th>\n",
       "      <th>EUKCOUNT</th>\n",
       "    </tr>\n",
       "  </thead>\n",
       "  <tbody>\n",
       "    <tr>\n",
       "      <th>0</th>\n",
       "      <td>A0A022Q707</td>\n",
       "      <td>K00001</td>\n",
       "      <td>egt:105975019</td>\n",
       "      <td>K00001</td>\n",
       "      <td>NaN</td>\n",
       "      <td>105975019</td>\n",
       "      <td>EGT</td>\n",
       "      <td>4155.0</td>\n",
       "      <td>alcohol dehydrogenase [EC:1.1.1.1]</td>\n",
       "      <td>K00001</td>\n",
       "      <td>False</td>\n",
       "      <td>1604</td>\n",
       "      <td>True</td>\n",
       "      <td>143</td>\n",
       "    </tr>\n",
       "    <tr>\n",
       "      <th>1</th>\n",
       "      <td>A0A022R7F5</td>\n",
       "      <td>K00001</td>\n",
       "      <td>egt:105960042</td>\n",
       "      <td>K00001</td>\n",
       "      <td>NaN</td>\n",
       "      <td>105960042</td>\n",
       "      <td>EGT</td>\n",
       "      <td>4155.0</td>\n",
       "      <td>alcohol dehydrogenase [EC:1.1.1.1]</td>\n",
       "      <td>K00001</td>\n",
       "      <td>False</td>\n",
       "      <td>1604</td>\n",
       "      <td>True</td>\n",
       "      <td>143</td>\n",
       "    </tr>\n",
       "    <tr>\n",
       "      <th>2</th>\n",
       "      <td>A0A059A4S5</td>\n",
       "      <td>K00001</td>\n",
       "      <td>egr:104425885</td>\n",
       "      <td>K00001</td>\n",
       "      <td>NaN</td>\n",
       "      <td>104425885</td>\n",
       "      <td>EGR</td>\n",
       "      <td>71139.0</td>\n",
       "      <td>alcohol dehydrogenase [EC:1.1.1.1]</td>\n",
       "      <td>K00001</td>\n",
       "      <td>False</td>\n",
       "      <td>1604</td>\n",
       "      <td>True</td>\n",
       "      <td>143</td>\n",
       "    </tr>\n",
       "    <tr>\n",
       "      <th>3</th>\n",
       "      <td>A0A059A5P0</td>\n",
       "      <td>K00001</td>\n",
       "      <td>egr:104425887</td>\n",
       "      <td>K00001</td>\n",
       "      <td>NaN</td>\n",
       "      <td>104425887</td>\n",
       "      <td>EGR</td>\n",
       "      <td>71139.0</td>\n",
       "      <td>alcohol dehydrogenase [EC:1.1.1.1]</td>\n",
       "      <td>K00001</td>\n",
       "      <td>False</td>\n",
       "      <td>1604</td>\n",
       "      <td>True</td>\n",
       "      <td>143</td>\n",
       "    </tr>\n",
       "    <tr>\n",
       "      <th>4</th>\n",
       "      <td>A0A059ZDV9</td>\n",
       "      <td>K00001</td>\n",
       "      <td>abw:BL01_05170</td>\n",
       "      <td>K00001</td>\n",
       "      <td>NaN</td>\n",
       "      <td>BL01_05170</td>\n",
       "      <td>ABW</td>\n",
       "      <td>470.0</td>\n",
       "      <td>alcohol dehydrogenase [EC:1.1.1.1]</td>\n",
       "      <td>K00001</td>\n",
       "      <td>False</td>\n",
       "      <td>1604</td>\n",
       "      <td>False</td>\n",
       "      <td>143</td>\n",
       "    </tr>\n",
       "    <tr>\n",
       "      <th>...</th>\n",
       "      <td>...</td>\n",
       "      <td>...</td>\n",
       "      <td>...</td>\n",
       "      <td>...</td>\n",
       "      <td>...</td>\n",
       "      <td>...</td>\n",
       "      <td>...</td>\n",
       "      <td>...</td>\n",
       "      <td>...</td>\n",
       "      <td>...</td>\n",
       "      <td>...</td>\n",
       "      <td>...</td>\n",
       "      <td>...</td>\n",
       "      <td>...</td>\n",
       "    </tr>\n",
       "    <tr>\n",
       "      <th>27895405</th>\n",
       "      <td>NaN</td>\n",
       "      <td>NaN</td>\n",
       "      <td>tpul:TPB0596_18180</td>\n",
       "      <td>K27109</td>\n",
       "      <td>ctaF</td>\n",
       "      <td>TPB0596_18180</td>\n",
       "      <td>TPUL</td>\n",
       "      <td>NaN</td>\n",
       "      <td>NaN</td>\n",
       "      <td>K27109</td>\n",
       "      <td>True</td>\n",
       "      <td>482</td>\n",
       "      <td>False</td>\n",
       "      <td>0</td>\n",
       "    </tr>\n",
       "    <tr>\n",
       "      <th>27895406</th>\n",
       "      <td>NaN</td>\n",
       "      <td>NaN</td>\n",
       "      <td>tsd:MTP03_30470</td>\n",
       "      <td>K27109</td>\n",
       "      <td>NaN</td>\n",
       "      <td>MTP03_30470</td>\n",
       "      <td>TSD</td>\n",
       "      <td>NaN</td>\n",
       "      <td>NaN</td>\n",
       "      <td>K27109</td>\n",
       "      <td>True</td>\n",
       "      <td>482</td>\n",
       "      <td>False</td>\n",
       "      <td>0</td>\n",
       "    </tr>\n",
       "    <tr>\n",
       "      <th>27895407</th>\n",
       "      <td>NaN</td>\n",
       "      <td>NaN</td>\n",
       "      <td>whr:OG579_04520</td>\n",
       "      <td>K27109</td>\n",
       "      <td>NaN</td>\n",
       "      <td>OG579_04520</td>\n",
       "      <td>WHR</td>\n",
       "      <td>NaN</td>\n",
       "      <td>NaN</td>\n",
       "      <td>K27109</td>\n",
       "      <td>True</td>\n",
       "      <td>482</td>\n",
       "      <td>False</td>\n",
       "      <td>0</td>\n",
       "    </tr>\n",
       "    <tr>\n",
       "      <th>27895408</th>\n",
       "      <td>NaN</td>\n",
       "      <td>NaN</td>\n",
       "      <td>yia:LO772_24195</td>\n",
       "      <td>K27109</td>\n",
       "      <td>NaN</td>\n",
       "      <td>LO772_24195</td>\n",
       "      <td>YIA</td>\n",
       "      <td>NaN</td>\n",
       "      <td>NaN</td>\n",
       "      <td>K27109</td>\n",
       "      <td>True</td>\n",
       "      <td>482</td>\n",
       "      <td>False</td>\n",
       "      <td>0</td>\n",
       "    </tr>\n",
       "    <tr>\n",
       "      <th>27895409</th>\n",
       "      <td>NaN</td>\n",
       "      <td>NaN</td>\n",
       "      <td>yim:J5M86_08950</td>\n",
       "      <td>K27109</td>\n",
       "      <td>NaN</td>\n",
       "      <td>J5M86_08950</td>\n",
       "      <td>YIM</td>\n",
       "      <td>NaN</td>\n",
       "      <td>NaN</td>\n",
       "      <td>K27109</td>\n",
       "      <td>True</td>\n",
       "      <td>482</td>\n",
       "      <td>False</td>\n",
       "      <td>0</td>\n",
       "    </tr>\n",
       "  </tbody>\n",
       "</table>\n",
       "<p>27895410 rows × 14 columns</p>\n",
       "</div>"
      ],
      "text/plain": [
       "                 UID     KOG             KEGG_ID   ENTRY ALIAS       KEGG_CDS  \\\n",
       "0         A0A022Q707  K00001       egt:105975019  K00001   NaN      105975019   \n",
       "1         A0A022R7F5  K00001       egt:105960042  K00001   NaN      105960042   \n",
       "2         A0A059A4S5  K00001       egr:104425885  K00001   NaN      104425885   \n",
       "3         A0A059A5P0  K00001       egr:104425887  K00001   NaN      104425887   \n",
       "4         A0A059ZDV9  K00001      abw:BL01_05170  K00001   NaN     BL01_05170   \n",
       "...              ...     ...                 ...     ...   ...            ...   \n",
       "27895405         NaN     NaN  tpul:TPB0596_18180  K27109  ctaF  TPB0596_18180   \n",
       "27895406         NaN     NaN     tsd:MTP03_30470  K27109   NaN    MTP03_30470   \n",
       "27895407         NaN     NaN     whr:OG579_04520  K27109   NaN    OG579_04520   \n",
       "27895408         NaN     NaN     yia:LO772_24195  K27109   NaN    LO772_24195   \n",
       "27895409         NaN     NaN     yim:J5M86_08950  K27109   NaN    J5M86_08950   \n",
       "\n",
       "         KEGG_ORG    TAXID                            FUNCTION   KOGID  \\\n",
       "0             EGT   4155.0  alcohol dehydrogenase [EC:1.1.1.1]  K00001   \n",
       "1             EGT   4155.0  alcohol dehydrogenase [EC:1.1.1.1]  K00001   \n",
       "2             EGR  71139.0  alcohol dehydrogenase [EC:1.1.1.1]  K00001   \n",
       "3             EGR  71139.0  alcohol dehydrogenase [EC:1.1.1.1]  K00001   \n",
       "4             ABW    470.0  alcohol dehydrogenase [EC:1.1.1.1]  K00001   \n",
       "...           ...      ...                                 ...     ...   \n",
       "27895405     TPUL      NaN                                 NaN  K27109   \n",
       "27895406      TSD      NaN                                 NaN  K27109   \n",
       "27895407      WHR      NaN                                 NaN  K27109   \n",
       "27895408      YIA      NaN                                 NaN  K27109   \n",
       "27895409      YIM      NaN                                 NaN  K27109   \n",
       "\n",
       "          isnull  UIDS_MISSING  ISEUK  EUKCOUNT  \n",
       "0          False          1604   True       143  \n",
       "1          False          1604   True       143  \n",
       "2          False          1604   True       143  \n",
       "3          False          1604   True       143  \n",
       "4          False          1604  False       143  \n",
       "...          ...           ...    ...       ...  \n",
       "27895405    True           482  False         0  \n",
       "27895406    True           482  False         0  \n",
       "27895407    True           482  False         0  \n",
       "27895408    True           482  False         0  \n",
       "27895409    True           482  False         0  \n",
       "\n",
       "[27895410 rows x 14 columns]"
      ]
     },
     "execution_count": 150,
     "metadata": {},
     "output_type": "execute_result"
    }
   ],
   "source": [
    "kogs_df_summary"
   ]
  },
  {
   "cell_type": "code",
   "execution_count": 23,
   "id": "2dae20f2-6e6b-4501-b7df-6dfbd2357d9d",
   "metadata": {
    "tags": []
   },
   "outputs": [],
   "source": [
    "nonunique_uids = list(kogs_df_summary[~kogs_df_summary.index.isnull()].index)"
   ]
  },
  {
   "cell_type": "code",
   "execution_count": 80,
   "id": "627c79eb-cd07-4edb-b150-803f858bc683",
   "metadata": {
    "tags": []
   },
   "outputs": [],
   "source": [
    "unique_uids = set(kogs_df_summary.index)"
   ]
  },
  {
   "cell_type": "code",
   "execution_count": 97,
   "id": "02b6dd6a-0ba6-486d-af70-5447453c0be8",
   "metadata": {
    "tags": []
   },
   "outputs": [
    {
     "data": {
      "text/plain": [
       "393217"
      ]
     },
     "execution_count": 97,
     "metadata": {},
     "output_type": "execute_result"
    }
   ],
   "source": [
    "nullind_set = set(kogs_df_summary[kogs_df_summary.index.isna()].index)\n",
    "len(nullind_set)"
   ]
  },
  {
   "cell_type": "code",
   "execution_count": 83,
   "id": "b3998e6d-ad41-46a7-acd6-1b2a38910d7b",
   "metadata": {
    "tags": []
   },
   "outputs": [
    {
     "data": {
      "text/plain": [
       "(12998877, 12997782, 12605660)"
      ]
     },
     "execution_count": 83,
     "metadata": {},
     "output_type": "execute_result"
    }
   ],
   "source": [
    "# sets fail to filter out ~400k nan values ...\n",
    "len(unique_uids), len(nonunique_uids), len(set(nonunique_uids))"
   ]
  },
  {
   "cell_type": "code",
   "execution_count": 85,
   "id": "3634c58d-888b-4b99-9435-0c575bf5f811",
   "metadata": {
    "tags": []
   },
   "outputs": [
    {
     "data": {
      "text/plain": [
       "393217"
      ]
     },
     "execution_count": 85,
     "metadata": {},
     "output_type": "execute_result"
    }
   ],
   "source": [
    "sum(pd.Series(list(unique_uids)).isnull())"
   ]
  },
  {
   "cell_type": "code",
   "execution_count": 25,
   "id": "615c1a37-307e-4b1b-abae-1dc35f6fd260",
   "metadata": {
    "tags": []
   },
   "outputs": [
    {
     "data": {
      "text/plain": [
       "['A1ALQ0', 'A0A6H3AE30', 'P36938']"
      ]
     },
     "execution_count": 25,
     "metadata": {},
     "output_type": "execute_result"
    }
   ],
   "source": [
    "# duplicate_uids = []\n",
    "# for i in set_nonunique_uids:\n",
    "#     if nonunique_uids.count(i) > 1:\n",
    "#          duplicate_uids.append(i)\n",
    "duplicate_uids # not a problem. some kegg genes are 100% redundant, but map to distinct NCBI entries? Usually from same/super similar species"
   ]
  },
  {
   "cell_type": "code",
   "execution_count": 29,
   "id": "3d631417-aed0-4d69-9fa4-c78cdc32216a",
   "metadata": {
    "tags": []
   },
   "outputs": [
    {
     "data": {
      "text/html": [
       "<div>\n",
       "<style scoped>\n",
       "    .dataframe tbody tr th:only-of-type {\n",
       "        vertical-align: middle;\n",
       "    }\n",
       "\n",
       "    .dataframe tbody tr th {\n",
       "        vertical-align: top;\n",
       "    }\n",
       "\n",
       "    .dataframe thead th {\n",
       "        text-align: right;\n",
       "    }\n",
       "</style>\n",
       "<table border=\"1\" class=\"dataframe\">\n",
       "  <thead>\n",
       "    <tr style=\"text-align: right;\">\n",
       "      <th></th>\n",
       "      <th>KOG</th>\n",
       "      <th>KEGG_ID</th>\n",
       "      <th>ENTRY</th>\n",
       "      <th>ALIAS</th>\n",
       "      <th>KEGG_CDS</th>\n",
       "      <th>KEGG_ORG</th>\n",
       "      <th>TAXID</th>\n",
       "      <th>FUNCTION</th>\n",
       "      <th>KOGID</th>\n",
       "      <th>isnull</th>\n",
       "      <th>UIDS_MISSING</th>\n",
       "      <th>ISEUK</th>\n",
       "    </tr>\n",
       "    <tr>\n",
       "      <th>UID</th>\n",
       "      <th></th>\n",
       "      <th></th>\n",
       "      <th></th>\n",
       "      <th></th>\n",
       "      <th></th>\n",
       "      <th></th>\n",
       "      <th></th>\n",
       "      <th></th>\n",
       "      <th></th>\n",
       "      <th></th>\n",
       "      <th></th>\n",
       "      <th></th>\n",
       "    </tr>\n",
       "  </thead>\n",
       "  <tbody>\n",
       "    <tr>\n",
       "      <th>P36938</th>\n",
       "      <td>K01835</td>\n",
       "      <td>ecj:JW0675</td>\n",
       "      <td>K01835</td>\n",
       "      <td>pgm</td>\n",
       "      <td>JW0675</td>\n",
       "      <td>ECJ</td>\n",
       "      <td>83333.0</td>\n",
       "      <td>phosphoglucomutase [EC:5.4.2.2]</td>\n",
       "      <td>K01835</td>\n",
       "      <td>False</td>\n",
       "      <td>3610</td>\n",
       "      <td>NaN</td>\n",
       "    </tr>\n",
       "    <tr>\n",
       "      <th>P36938</th>\n",
       "      <td>K01835</td>\n",
       "      <td>eco:b0688</td>\n",
       "      <td>K01835</td>\n",
       "      <td>pgm</td>\n",
       "      <td>b0688</td>\n",
       "      <td>ECO</td>\n",
       "      <td>83333.0</td>\n",
       "      <td>phosphoglucomutase [EC:5.4.2.2]</td>\n",
       "      <td>K01835</td>\n",
       "      <td>False</td>\n",
       "      <td>3610</td>\n",
       "      <td>NaN</td>\n",
       "    </tr>\n",
       "  </tbody>\n",
       "</table>\n",
       "</div>"
      ],
      "text/plain": [
       "           KOG     KEGG_ID   ENTRY ALIAS KEGG_CDS KEGG_ORG    TAXID  \\\n",
       "UID                                                                   \n",
       "P36938  K01835  ecj:JW0675  K01835   pgm   JW0675      ECJ  83333.0   \n",
       "P36938  K01835   eco:b0688  K01835   pgm    b0688      ECO  83333.0   \n",
       "\n",
       "                               FUNCTION   KOGID  isnull  UIDS_MISSING ISEUK  \n",
       "UID                                                                          \n",
       "P36938  phosphoglucomutase [EC:5.4.2.2]  K01835   False          3610   NaN  \n",
       "P36938  phosphoglucomutase [EC:5.4.2.2]  K01835   False          3610   NaN  "
      ]
     },
     "execution_count": 29,
     "metadata": {},
     "output_type": "execute_result"
    }
   ],
   "source": [
    "kogs_df_summary[kogs_df_summary.index ==\"P36938\"]"
   ]
  },
  {
   "cell_type": "code",
   "execution_count": 175,
   "id": "d0d97693-ac28-4209-8658-6457dfe6fa8a",
   "metadata": {
    "tags": []
   },
   "outputs": [],
   "source": [
    "fasta_stats_df = kogs_df_summary.loc[:,[\"KOGID\", \"UID\", \"UIDS_MISSING\", \"EUKCOUNT\"]].groupby([\"KOGID\",\"UIDS_MISSING\", \"EUKCOUNT\"]).count().reset_index().rename(columns={\"UID\":\"UID_COUNT\"}).set_index(\"KOGID\")\n",
    "cluster_size = pd.DataFrame(kogs_df_summary.loc[:,[\"KOGID\"]].groupby(\"KOGID\").size()).rename(columns={0:\"KOGSIZE\"})\n",
    "fasta_stats_out = pd.merge(cluster_size, fasta_stats_df, on = \"KOGID\", how = \"outer\").reset_index()"
   ]
  },
  {
   "cell_type": "code",
   "execution_count": 178,
   "id": "9aa987aa-f7b0-47c9-86a3-b4bd9df5fab7",
   "metadata": {
    "tags": []
   },
   "outputs": [],
   "source": [
    "fasta_stats_out[\"%chosen\"] = 100 * fasta_stats_out[\"EUKCOUNT\"]/fasta_stats_out[\"UID_COUNT\"]"
   ]
  },
  {
   "cell_type": "code",
   "execution_count": 186,
   "id": "13ceabf4-a7de-486d-b147-45ab30fbe4f0",
   "metadata": {
    "tags": []
   },
   "outputs": [
    {
     "data": {
      "text/html": [
       "<div>\n",
       "<style scoped>\n",
       "    .dataframe tbody tr th:only-of-type {\n",
       "        vertical-align: middle;\n",
       "    }\n",
       "\n",
       "    .dataframe tbody tr th {\n",
       "        vertical-align: top;\n",
       "    }\n",
       "\n",
       "    .dataframe thead th {\n",
       "        text-align: right;\n",
       "    }\n",
       "</style>\n",
       "<table border=\"1\" class=\"dataframe\">\n",
       "  <thead>\n",
       "    <tr style=\"text-align: right;\">\n",
       "      <th></th>\n",
       "      <th>UID</th>\n",
       "      <th>KOG</th>\n",
       "      <th>KEGG_ID</th>\n",
       "      <th>ENTRY</th>\n",
       "      <th>ALIAS</th>\n",
       "      <th>KEGG_CDS</th>\n",
       "      <th>KEGG_ORG</th>\n",
       "      <th>TAXID</th>\n",
       "      <th>FUNCTION</th>\n",
       "      <th>KOGID</th>\n",
       "      <th>isnull</th>\n",
       "      <th>UIDS_MISSING</th>\n",
       "      <th>ISEUK</th>\n",
       "      <th>EUKCOUNT</th>\n",
       "    </tr>\n",
       "  </thead>\n",
       "  <tbody>\n",
       "    <tr>\n",
       "      <th>150713</th>\n",
       "      <td>A0A088RW69</td>\n",
       "      <td>K00042</td>\n",
       "      <td>lpan:LPMP_300180</td>\n",
       "      <td>K00042</td>\n",
       "      <td>NaN</td>\n",
       "      <td>LPMP_300180</td>\n",
       "      <td>LPAN</td>\n",
       "      <td>5679.0</td>\n",
       "      <td>2-hydroxy-3-oxopropionate reductase [EC:1.1.1.60]</td>\n",
       "      <td>K00042</td>\n",
       "      <td>False</td>\n",
       "      <td>1248</td>\n",
       "      <td>True</td>\n",
       "      <td>10</td>\n",
       "    </tr>\n",
       "    <tr>\n",
       "      <th>151150</th>\n",
       "      <td>A0A3P3ZC87</td>\n",
       "      <td>K00042</td>\n",
       "      <td>lbz:LBRM_30_0180</td>\n",
       "      <td>K00042</td>\n",
       "      <td>NaN</td>\n",
       "      <td>LBRM_30_0180</td>\n",
       "      <td>LBZ</td>\n",
       "      <td>420245.0</td>\n",
       "      <td>2-hydroxy-3-oxopropionate reductase [EC:1.1.1.60]</td>\n",
       "      <td>K00042</td>\n",
       "      <td>False</td>\n",
       "      <td>1248</td>\n",
       "      <td>True</td>\n",
       "      <td>10</td>\n",
       "    </tr>\n",
       "    <tr>\n",
       "      <th>151156</th>\n",
       "      <td>A0A3Q8IFE7</td>\n",
       "      <td>K00042</td>\n",
       "      <td>ldo:LDBPK_300170</td>\n",
       "      <td>K00042</td>\n",
       "      <td>NaN</td>\n",
       "      <td>LDBPK_300170</td>\n",
       "      <td>LDO</td>\n",
       "      <td>5661.0</td>\n",
       "      <td>2-hydroxy-3-oxopropionate reductase [EC:1.1.1.60]</td>\n",
       "      <td>K00042</td>\n",
       "      <td>False</td>\n",
       "      <td>1248</td>\n",
       "      <td>True</td>\n",
       "      <td>10</td>\n",
       "    </tr>\n",
       "    <tr>\n",
       "      <th>151620</th>\n",
       "      <td>A4HHW2</td>\n",
       "      <td>K00042</td>\n",
       "      <td>lbz:LBRM_30_0180</td>\n",
       "      <td>K00042</td>\n",
       "      <td>NaN</td>\n",
       "      <td>LBRM_30_0180</td>\n",
       "      <td>LBZ</td>\n",
       "      <td>5660.0</td>\n",
       "      <td>2-hydroxy-3-oxopropionate reductase [EC:1.1.1.60]</td>\n",
       "      <td>K00042</td>\n",
       "      <td>False</td>\n",
       "      <td>1248</td>\n",
       "      <td>True</td>\n",
       "      <td>10</td>\n",
       "    </tr>\n",
       "    <tr>\n",
       "      <th>151621</th>\n",
       "      <td>A4I512</td>\n",
       "      <td>K00042</td>\n",
       "      <td>lif:LINJ_30_0170</td>\n",
       "      <td>K00042</td>\n",
       "      <td>NaN</td>\n",
       "      <td>LINJ_30_0170</td>\n",
       "      <td>LIF</td>\n",
       "      <td>5671.0</td>\n",
       "      <td>2-hydroxy-3-oxopropionate reductase [EC:1.1.1.60]</td>\n",
       "      <td>K00042</td>\n",
       "      <td>False</td>\n",
       "      <td>1248</td>\n",
       "      <td>True</td>\n",
       "      <td>10</td>\n",
       "    </tr>\n",
       "    <tr>\n",
       "      <th>151775</th>\n",
       "      <td>C9ZQG6</td>\n",
       "      <td>K00042</td>\n",
       "      <td>tbg:TbgDal_VI1240</td>\n",
       "      <td>K00042</td>\n",
       "      <td>NaN</td>\n",
       "      <td>TbgDal_VI1240</td>\n",
       "      <td>TBG</td>\n",
       "      <td>679716.0</td>\n",
       "      <td>2-hydroxy-3-oxopropionate reductase [EC:1.1.1.60]</td>\n",
       "      <td>K00042</td>\n",
       "      <td>False</td>\n",
       "      <td>1248</td>\n",
       "      <td>True</td>\n",
       "      <td>10</td>\n",
       "    </tr>\n",
       "    <tr>\n",
       "      <th>151843</th>\n",
       "      <td>E9B0E2</td>\n",
       "      <td>K00042</td>\n",
       "      <td>lmi:LMXM_29_0180</td>\n",
       "      <td>K00042</td>\n",
       "      <td>NaN</td>\n",
       "      <td>LMXM_29_0180</td>\n",
       "      <td>LMI</td>\n",
       "      <td>929439.0</td>\n",
       "      <td>2-hydroxy-3-oxopropionate reductase [EC:1.1.1.60]</td>\n",
       "      <td>K00042</td>\n",
       "      <td>False</td>\n",
       "      <td>1248</td>\n",
       "      <td>True</td>\n",
       "      <td>10</td>\n",
       "    </tr>\n",
       "    <tr>\n",
       "      <th>152005</th>\n",
       "      <td>Q4DFE2</td>\n",
       "      <td>K00042</td>\n",
       "      <td>tcr:507017.40</td>\n",
       "      <td>K00042</td>\n",
       "      <td>NaN</td>\n",
       "      <td>507017.40</td>\n",
       "      <td>TCR</td>\n",
       "      <td>353153.0</td>\n",
       "      <td>2-hydroxy-3-oxopropionate reductase [EC:1.1.1.60]</td>\n",
       "      <td>K00042</td>\n",
       "      <td>False</td>\n",
       "      <td>1248</td>\n",
       "      <td>True</td>\n",
       "      <td>10</td>\n",
       "    </tr>\n",
       "    <tr>\n",
       "      <th>152006</th>\n",
       "      <td>Q4DQH3</td>\n",
       "      <td>K00042</td>\n",
       "      <td>tcr:505807.180</td>\n",
       "      <td>K00042</td>\n",
       "      <td>NaN</td>\n",
       "      <td>505807.180</td>\n",
       "      <td>TCR</td>\n",
       "      <td>353153.0</td>\n",
       "      <td>2-hydroxy-3-oxopropionate reductase [EC:1.1.1.60]</td>\n",
       "      <td>K00042</td>\n",
       "      <td>False</td>\n",
       "      <td>1248</td>\n",
       "      <td>True</td>\n",
       "      <td>10</td>\n",
       "    </tr>\n",
       "    <tr>\n",
       "      <th>152009</th>\n",
       "      <td>Q4Q7T9</td>\n",
       "      <td>K00042</td>\n",
       "      <td>lma:LMJF_30_0180</td>\n",
       "      <td>K00042</td>\n",
       "      <td>NaN</td>\n",
       "      <td>LMJF_30_0180</td>\n",
       "      <td>LMA</td>\n",
       "      <td>5664.0</td>\n",
       "      <td>2-hydroxy-3-oxopropionate reductase [EC:1.1.1.60]</td>\n",
       "      <td>K00042</td>\n",
       "      <td>False</td>\n",
       "      <td>1248</td>\n",
       "      <td>True</td>\n",
       "      <td>10</td>\n",
       "    </tr>\n",
       "  </tbody>\n",
       "</table>\n",
       "</div>"
      ],
      "text/plain": [
       "               UID     KOG            KEGG_ID   ENTRY ALIAS       KEGG_CDS  \\\n",
       "150713  A0A088RW69  K00042   lpan:LPMP_300180  K00042   NaN    LPMP_300180   \n",
       "151150  A0A3P3ZC87  K00042   lbz:LBRM_30_0180  K00042   NaN   LBRM_30_0180   \n",
       "151156  A0A3Q8IFE7  K00042   ldo:LDBPK_300170  K00042   NaN   LDBPK_300170   \n",
       "151620      A4HHW2  K00042   lbz:LBRM_30_0180  K00042   NaN   LBRM_30_0180   \n",
       "151621      A4I512  K00042   lif:LINJ_30_0170  K00042   NaN   LINJ_30_0170   \n",
       "151775      C9ZQG6  K00042  tbg:TbgDal_VI1240  K00042   NaN  TbgDal_VI1240   \n",
       "151843      E9B0E2  K00042   lmi:LMXM_29_0180  K00042   NaN   LMXM_29_0180   \n",
       "152005      Q4DFE2  K00042      tcr:507017.40  K00042   NaN      507017.40   \n",
       "152006      Q4DQH3  K00042     tcr:505807.180  K00042   NaN     505807.180   \n",
       "152009      Q4Q7T9  K00042   lma:LMJF_30_0180  K00042   NaN   LMJF_30_0180   \n",
       "\n",
       "       KEGG_ORG     TAXID                                           FUNCTION  \\\n",
       "150713     LPAN    5679.0  2-hydroxy-3-oxopropionate reductase [EC:1.1.1.60]   \n",
       "151150      LBZ  420245.0  2-hydroxy-3-oxopropionate reductase [EC:1.1.1.60]   \n",
       "151156      LDO    5661.0  2-hydroxy-3-oxopropionate reductase [EC:1.1.1.60]   \n",
       "151620      LBZ    5660.0  2-hydroxy-3-oxopropionate reductase [EC:1.1.1.60]   \n",
       "151621      LIF    5671.0  2-hydroxy-3-oxopropionate reductase [EC:1.1.1.60]   \n",
       "151775      TBG  679716.0  2-hydroxy-3-oxopropionate reductase [EC:1.1.1.60]   \n",
       "151843      LMI  929439.0  2-hydroxy-3-oxopropionate reductase [EC:1.1.1.60]   \n",
       "152005      TCR  353153.0  2-hydroxy-3-oxopropionate reductase [EC:1.1.1.60]   \n",
       "152006      TCR  353153.0  2-hydroxy-3-oxopropionate reductase [EC:1.1.1.60]   \n",
       "152009      LMA    5664.0  2-hydroxy-3-oxopropionate reductase [EC:1.1.1.60]   \n",
       "\n",
       "         KOGID  isnull  UIDS_MISSING  ISEUK  EUKCOUNT  \n",
       "150713  K00042   False          1248   True        10  \n",
       "151150  K00042   False          1248   True        10  \n",
       "151156  K00042   False          1248   True        10  \n",
       "151620  K00042   False          1248   True        10  \n",
       "151621  K00042   False          1248   True        10  \n",
       "151775  K00042   False          1248   True        10  \n",
       "151843  K00042   False          1248   True        10  \n",
       "152005  K00042   False          1248   True        10  \n",
       "152006  K00042   False          1248   True        10  \n",
       "152009  K00042   False          1248   True        10  "
      ]
     },
     "execution_count": 186,
     "metadata": {},
     "output_type": "execute_result"
    }
   ],
   "source": [
    "K00042 = kogs_df_summary[kogs_df_summary[\"KOGID\"] == \"K00042\"]\n",
    "K00042[K00042[\"ISEUK\"]]"
   ]
  },
  {
   "cell_type": "code",
   "execution_count": 184,
   "id": "b6b9daaa-44bf-4cfc-9cc3-cca6de8d3409",
   "metadata": {
    "tags": []
   },
   "outputs": [
    {
     "data": {
      "text/html": [
       "<div>\n",
       "<style scoped>\n",
       "    .dataframe tbody tr th:only-of-type {\n",
       "        vertical-align: middle;\n",
       "    }\n",
       "\n",
       "    .dataframe tbody tr th {\n",
       "        vertical-align: top;\n",
       "    }\n",
       "\n",
       "    .dataframe thead th {\n",
       "        text-align: right;\n",
       "    }\n",
       "</style>\n",
       "<table border=\"1\" class=\"dataframe\">\n",
       "  <thead>\n",
       "    <tr style=\"text-align: right;\">\n",
       "      <th></th>\n",
       "      <th>KOGID</th>\n",
       "      <th>KOGSIZE</th>\n",
       "      <th>UIDS_MISSING</th>\n",
       "      <th>EUKCOUNT</th>\n",
       "      <th>UID_COUNT</th>\n",
       "      <th>%chosen</th>\n",
       "    </tr>\n",
       "  </thead>\n",
       "  <tbody>\n",
       "    <tr>\n",
       "      <th>4</th>\n",
       "      <td>K00005</td>\n",
       "      <td>1619</td>\n",
       "      <td>807</td>\n",
       "      <td>4</td>\n",
       "      <td>812</td>\n",
       "      <td>0.492611</td>\n",
       "    </tr>\n",
       "    <tr>\n",
       "      <th>22</th>\n",
       "      <td>K00024</td>\n",
       "      <td>6526</td>\n",
       "      <td>2619</td>\n",
       "      <td>10</td>\n",
       "      <td>3907</td>\n",
       "      <td>0.255951</td>\n",
       "    </tr>\n",
       "    <tr>\n",
       "      <th>40</th>\n",
       "      <td>K00042</td>\n",
       "      <td>2632</td>\n",
       "      <td>1248</td>\n",
       "      <td>10</td>\n",
       "      <td>1384</td>\n",
       "      <td>0.722543</td>\n",
       "    </tr>\n",
       "    <tr>\n",
       "      <th>55</th>\n",
       "      <td>K00060</td>\n",
       "      <td>2408</td>\n",
       "      <td>1034</td>\n",
       "      <td>1</td>\n",
       "      <td>1374</td>\n",
       "      <td>0.072780</td>\n",
       "    </tr>\n",
       "    <tr>\n",
       "      <th>62</th>\n",
       "      <td>K00067</td>\n",
       "      <td>7109</td>\n",
       "      <td>2835</td>\n",
       "      <td>1</td>\n",
       "      <td>4274</td>\n",
       "      <td>0.023397</td>\n",
       "    </tr>\n",
       "    <tr>\n",
       "      <th>...</th>\n",
       "      <td>...</td>\n",
       "      <td>...</td>\n",
       "      <td>...</td>\n",
       "      <td>...</td>\n",
       "      <td>...</td>\n",
       "      <td>...</td>\n",
       "    </tr>\n",
       "    <tr>\n",
       "      <th>25713</th>\n",
       "      <td>K26382</td>\n",
       "      <td>1</td>\n",
       "      <td>0</td>\n",
       "      <td>1</td>\n",
       "      <td>1</td>\n",
       "      <td>100.000000</td>\n",
       "    </tr>\n",
       "    <tr>\n",
       "      <th>25714</th>\n",
       "      <td>K26383</td>\n",
       "      <td>7</td>\n",
       "      <td>2</td>\n",
       "      <td>5</td>\n",
       "      <td>5</td>\n",
       "      <td>100.000000</td>\n",
       "    </tr>\n",
       "    <tr>\n",
       "      <th>25890</th>\n",
       "      <td>K26560</td>\n",
       "      <td>13</td>\n",
       "      <td>4</td>\n",
       "      <td>9</td>\n",
       "      <td>9</td>\n",
       "      <td>100.000000</td>\n",
       "    </tr>\n",
       "    <tr>\n",
       "      <th>26140</th>\n",
       "      <td>K26810</td>\n",
       "      <td>23</td>\n",
       "      <td>20</td>\n",
       "      <td>3</td>\n",
       "      <td>3</td>\n",
       "      <td>100.000000</td>\n",
       "    </tr>\n",
       "    <tr>\n",
       "      <th>26329</th>\n",
       "      <td>K26999</td>\n",
       "      <td>4</td>\n",
       "      <td>1</td>\n",
       "      <td>3</td>\n",
       "      <td>3</td>\n",
       "      <td>100.000000</td>\n",
       "    </tr>\n",
       "  </tbody>\n",
       "</table>\n",
       "<p>1158 rows × 6 columns</p>\n",
       "</div>"
      ],
      "text/plain": [
       "        KOGID  KOGSIZE  UIDS_MISSING  EUKCOUNT  UID_COUNT     %chosen\n",
       "4      K00005     1619           807         4        812    0.492611\n",
       "22     K00024     6526          2619        10       3907    0.255951\n",
       "40     K00042     2632          1248        10       1384    0.722543\n",
       "55     K00060     2408          1034         1       1374    0.072780\n",
       "62     K00067     7109          2835         1       4274    0.023397\n",
       "...       ...      ...           ...       ...        ...         ...\n",
       "25713  K26382        1             0         1          1  100.000000\n",
       "25714  K26383        7             2         5          5  100.000000\n",
       "25890  K26560       13             4         9          9  100.000000\n",
       "26140  K26810       23            20         3          3  100.000000\n",
       "26329  K26999        4             1         3          3  100.000000\n",
       "\n",
       "[1158 rows x 6 columns]"
      ]
     },
     "execution_count": 184,
     "metadata": {},
     "output_type": "execute_result"
    }
   ],
   "source": [
    "fasta_stats_out[fasta_stats_out[\"EUKCOUNT\"].between(1,10)]"
   ]
  },
  {
   "cell_type": "code",
   "execution_count": null,
   "id": "92dc275d-ca9d-4928-baac-9102bcce87a2",
   "metadata": {},
   "outputs": [],
   "source": []
  },
  {
   "cell_type": "code",
   "execution_count": 187,
   "id": "7ddeb8b0-433e-49ba-a2ad-a4ec09ab4e55",
   "metadata": {
    "tags": []
   },
   "outputs": [],
   "source": [
    "fasta_stats_out.to_csv(\"/data/luojaa/uid_stats/cluster_stats.csv\", sep = \",\", index = None)"
   ]
  },
  {
   "cell_type": "markdown",
   "id": "81d8e287-c769-493a-bdf4-fe2938f452c3",
   "metadata": {},
   "source": [
    "## 5. verify contents of trembl and sprot"
   ]
  },
  {
   "cell_type": "code",
   "execution_count": 13,
   "id": "ff41fa26-93c9-4ddd-91fe-e06edd61b9cf",
   "metadata": {
    "tags": []
   },
   "outputs": [],
   "source": [
    "testpath = f\"/data/luojaa/kegg/kog_uid/K00001.tsv\"\n",
    "base = \"/data/luojaa/kegg/kog_uid/\"\n",
    "kog2uidpaths = [base + tsv for tsv in os.listdir(base)]\n",
    "uid2kog = {} \n",
    "for path in kog2uidpaths:\n",
    "    with open(path, \"r\") as f:\n",
    "        for line in f:\n",
    "            kog, uid, descriptor = line.strip().split(\"\\t\")\n",
    "            uid2kog[uid] = kog"
   ]
  },
  {
   "cell_type": "code",
   "execution_count": 8,
   "id": "a1dd48f4-e7c2-48ad-b795-1d9cc2d1cad5",
   "metadata": {
    "tags": []
   },
   "outputs": [],
   "source": [
    "def extract_uid(instr):\n",
    "    uid = instr.split(\"|\")[1]\n",
    "    return uid\n",
    "def check_uid_coverage(infasta):\n",
    "    uids =  set()\n",
    "    with open(infasta, \"r\") as handle:\n",
    "        for record in SeqIO.parse(handle, 'fasta'):\n",
    "            identifier = record.id\n",
    "            uid = extract_uid(identifier)\n",
    "            uids.add(uid)\n",
    "    return uids\n",
    "sprot_set = check_uid_coverage(\"/data/luojaa/uniprot_sprot.fasta\")"
   ]
  },
  {
   "cell_type": "code",
   "execution_count": 15,
   "id": "175d639a-7d63-4d93-973b-a25c0821c74f",
   "metadata": {
    "tags": []
   },
   "outputs": [
    {
     "name": "stdout",
     "output_type": "stream",
     "text": [
      "418394\n"
     ]
    }
   ],
   "source": [
    "# uids_in_sprot = 0\n",
    "# for uid in uid2kog.keys():\n",
    "#     if uid in sprot_set:\n",
    "#         uids_in_sprot += 1\n",
    "# print(uids_in_sprot)"
   ]
  },
  {
   "cell_type": "code",
   "execution_count": 16,
   "id": "caf0bd42-10d0-4a6b-9b65-21a957c4334a",
   "metadata": {
    "tags": []
   },
   "outputs": [
    {
     "data": {
      "text/plain": [
       "571282"
      ]
     },
     "execution_count": 16,
     "metadata": {},
     "output_type": "execute_result"
    }
   ],
   "source": [
    "len(sprot_set)"
   ]
  },
  {
   "cell_type": "code",
   "execution_count": 14,
   "id": "79b25c47-5c79-40b9-b11c-4980735d4da7",
   "metadata": {
    "tags": []
   },
   "outputs": [
    {
     "data": {
      "text/plain": [
       "12462195"
      ]
     },
     "execution_count": 14,
     "metadata": {},
     "output_type": "execute_result"
    }
   ],
   "source": [
    "len(uid2kog)"
   ]
  },
  {
   "cell_type": "code",
   "execution_count": null,
   "id": "ffd33336-976d-49ef-8492-944eba0b7273",
   "metadata": {},
   "outputs": [],
   "source": []
  }
 ],
 "metadata": {
  "kernelspec": {
   "display_name": "default",
   "language": "python",
   "name": "default"
  },
  "language_info": {
   "codemirror_mode": {
    "name": "ipython",
    "version": 3
   },
   "file_extension": ".py",
   "mimetype": "text/x-python",
   "name": "python",
   "nbconvert_exporter": "python",
   "pygments_lexer": "ipython3",
   "version": "3.12.2"
  }
 },
 "nbformat": 4,
 "nbformat_minor": 5
}
