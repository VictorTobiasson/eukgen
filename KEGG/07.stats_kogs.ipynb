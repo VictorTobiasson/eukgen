{
 "cells": [
  {
   "cell_type": "code",
   "execution_count": 2,
   "id": "271780a4-8e68-4c8c-a9ea-b0e2c0ed3278",
   "metadata": {
    "tags": []
   },
   "outputs": [],
   "source": [
    "import os\n",
    "from Bio import SeqIO\n",
    "import pandas as pd\n",
    "import numpy as np\n",
    "import ete3\n",
    "\n",
    "base_stats = \"/data/luojaa/uid_stats/\""
   ]
  },
  {
   "cell_type": "code",
   "execution_count": 3,
   "id": "cc9d7d8a-411a-4133-8fa1-0a06ef5346a8",
   "metadata": {
    "tags": []
   },
   "outputs": [],
   "source": [
    "kogs_df_search = pd.read_csv(\"/data/luojaa/uid_stats/kogs_df_searchable.tsv\", sep = \"\\t\")"
   ]
  },
  {
   "cell_type": "code",
   "execution_count": 7,
   "id": "07d493fc-985a-4996-a189-7f5bbd540a4d",
   "metadata": {
    "tags": []
   },
   "outputs": [],
   "source": [
    "kogs_df_func = kogs_df_search[[\"KOGID\", \"FUNCTION\"]].dropna()\n",
    "kogs_df_func = kogs_df_func[kogs_df_func[\"FUNCTION\"] != \"none\"]"
   ]
  },
  {
   "cell_type": "code",
   "execution_count": 10,
   "id": "70b10572-8488-4afc-b770-0f871af42d8f",
   "metadata": {
    "tags": []
   },
   "outputs": [],
   "source": [
    "kogs_df_func_drep = kogs_df_func.drop_duplicates()"
   ]
  },
  {
   "cell_type": "code",
   "execution_count": 15,
   "id": "9c5192af-a7a7-4b1c-b0ad-c748821eed48",
   "metadata": {
    "tags": []
   },
   "outputs": [],
   "source": [
    "kogs_df_func_drep.to_csv(\"/data/luojaa/uid_stats/kog_functions.tsv\", sep = \"\\t\", index = None)"
   ]
  },
  {
   "cell_type": "code",
   "execution_count": 2,
   "id": "c5977841-c14d-4178-b44b-0f9331c254ff",
   "metadata": {
    "tags": []
   },
   "outputs": [],
   "source": [
    "# # forgot to combine these files earlier.\n",
    "# base = \"/data/luojaa/kegg/kog_uid/\"\n",
    "# kog2uidpaths = [base + tsv for tsv in os.listdir(base)]\n",
    "# with open(\"/data/luojaa/uid_stats/uid2descriptors.tsv\",\"w\") as outfile:\n",
    "#     for path in kog2uidpaths:\n",
    "#         with open(path, \"r\") as f:\n",
    "#             for line in f:\n",
    "#                 kog, uid, descriptor = line.strip().split(\"\\t\")\n",
    "#                 print(\"\\t\".join([uid, descriptor]), file=outfile)"
   ]
  },
  {
   "cell_type": "code",
   "execution_count": 3,
   "id": "f358eefb-9129-4642-8128-e2e05bb73bbb",
   "metadata": {
    "tags": []
   },
   "outputs": [],
   "source": [
    "#base_stats = \"/data/luojaa/uid_stats/\"\n",
    "genes2uid = base_stats + \"kegg_genes.mappings.csv\"\n",
    "uid2kogs = base_stats + \"uid2kogs.csv\"\n",
    "uid2taxid = base_stats + \"uid2taxids.combined.tsv\"\n",
    "uid2descriptor = base_stats + \"uid2descriptors.tsv\"\n",
    "\n",
    "genes2uid_df = pd.read_csv(genes2uid).rename(columns={\"UNIPROT_ID\":\"UID\"}).set_index(\"UID\")\n",
    "# missing descriptors for genes w/o UID, and some UIDs lacking descriptors\n",
    "uid2kogs_df = pd.read_csv(uid2kogs).iloc[:, 1:].rename(columns = {\"0\":\"UID\",\"1\":\"KOG\"}).set_index(\"UID\")\n",
    "uid2taxid_df = pd.read_csv(uid2taxid, sep = \"\\t\", header = None).rename(columns={0:\"UID\",1:\"TAXID\"}).set_index(\"UID\")\n",
    "uid2desc_df = pd.read_csv(uid2descriptor, sep = \"\\t\", header = None).rename(columns={0:\"UID\",1:\"NAME\"}).set_index(\"UID\")"
   ]
  },
  {
   "cell_type": "code",
   "execution_count": null,
   "id": "eadac6c5-b17e-47b5-8fe4-de9350fbb39f",
   "metadata": {},
   "outputs": [],
   "source": []
  },
  {
   "cell_type": "code",
   "execution_count": 4,
   "id": "c95e6aaa-d247-4a07-945c-e963662e40df",
   "metadata": {
    "tags": []
   },
   "outputs": [
    {
     "data": {
      "text/html": [
       "<div>\n",
       "<style scoped>\n",
       "    .dataframe tbody tr th:only-of-type {\n",
       "        vertical-align: middle;\n",
       "    }\n",
       "\n",
       "    .dataframe tbody tr th {\n",
       "        vertical-align: top;\n",
       "    }\n",
       "\n",
       "    .dataframe thead th {\n",
       "        text-align: right;\n",
       "    }\n",
       "</style>\n",
       "<table border=\"1\" class=\"dataframe\">\n",
       "  <thead>\n",
       "    <tr style=\"text-align: right;\">\n",
       "      <th></th>\n",
       "      <th>TAXID</th>\n",
       "      <th>iseuk</th>\n",
       "    </tr>\n",
       "    <tr>\n",
       "      <th>UID</th>\n",
       "      <th></th>\n",
       "      <th></th>\n",
       "    </tr>\n",
       "  </thead>\n",
       "  <tbody>\n",
       "    <tr>\n",
       "      <th>A0AA96VA13</th>\n",
       "      <td>3028294</td>\n",
       "      <td>False</td>\n",
       "    </tr>\n",
       "    <tr>\n",
       "      <th>Q46FD0</th>\n",
       "      <td>269797</td>\n",
       "      <td>False</td>\n",
       "    </tr>\n",
       "    <tr>\n",
       "      <th>Q469K8</th>\n",
       "      <td>269797</td>\n",
       "      <td>False</td>\n",
       "    </tr>\n",
       "    <tr>\n",
       "      <th>Q46FN1</th>\n",
       "      <td>269797</td>\n",
       "      <td>False</td>\n",
       "    </tr>\n",
       "    <tr>\n",
       "      <th>A6VJ99</th>\n",
       "      <td>426368</td>\n",
       "      <td>False</td>\n",
       "    </tr>\n",
       "    <tr>\n",
       "      <th>...</th>\n",
       "      <td>...</td>\n",
       "      <td>...</td>\n",
       "    </tr>\n",
       "    <tr>\n",
       "      <th>Q27YE6</th>\n",
       "      <td>3052325</td>\n",
       "      <td>False</td>\n",
       "    </tr>\n",
       "    <tr>\n",
       "      <th>B0BLK7</th>\n",
       "      <td>3052322</td>\n",
       "      <td>False</td>\n",
       "    </tr>\n",
       "    <tr>\n",
       "      <th>B2MW50</th>\n",
       "      <td>3052323</td>\n",
       "      <td>False</td>\n",
       "    </tr>\n",
       "    <tr>\n",
       "      <th>Q6RSS3</th>\n",
       "      <td>3052324</td>\n",
       "      <td>False</td>\n",
       "    </tr>\n",
       "    <tr>\n",
       "      <th>A9JR22</th>\n",
       "      <td>3052329</td>\n",
       "      <td>False</td>\n",
       "    </tr>\n",
       "  </tbody>\n",
       "</table>\n",
       "<p>12462182 rows × 2 columns</p>\n",
       "</div>"
      ],
      "text/plain": [
       "              TAXID  iseuk\n",
       "UID                       \n",
       "A0AA96VA13  3028294  False\n",
       "Q46FD0       269797  False\n",
       "Q469K8       269797  False\n",
       "Q46FN1       269797  False\n",
       "A6VJ99       426368  False\n",
       "...             ...    ...\n",
       "Q27YE6      3052325  False\n",
       "B0BLK7      3052322  False\n",
       "B2MW50      3052323  False\n",
       "Q6RSS3      3052324  False\n",
       "A9JR22      3052329  False\n",
       "\n",
       "[12462182 rows x 2 columns]"
      ]
     },
     "execution_count": 4,
     "metadata": {},
     "output_type": "execute_result"
    }
   ],
   "source": [
    "# which KOGs have genes in both euk and prok\n",
    "uid2kogs = base_stats + \"uid2kogs.csv\"\n",
    "uid2kogs_df = pd.read_csv(uid2kogs).iloc[:, 1:].rename(columns = {\"0\":\"UID\",\"1\":\"KOG\"}).set_index(\"UID\")\n",
    "\n",
    "uid2taxid_iseuk = base_stats + \"uid2taxids2iseuk.combined.tsv\"\n",
    "uid2taxid_iseuk_df = pd.read_csv(uid2taxid_iseuk, sep = \"\\t\", header = None).rename(columns={0:\"UID\",1:\"TAXID\",2:\"iseuk\"}).set_index(\"UID\")\n",
    "uid2taxid_iseuk_df"
   ]
  },
  {
   "cell_type": "code",
   "execution_count": 5,
   "id": "701bbca5-2a0e-4440-b120-26e937b5d1bd",
   "metadata": {
    "tags": []
   },
   "outputs": [],
   "source": [
    "kogs_domains = pd.merge(uid2taxid_iseuk_df, uid2kogs_df, on = \"UID\", how = \"left\")"
   ]
  },
  {
   "cell_type": "code",
   "execution_count": 6,
   "id": "d7ecef92-d293-4dba-8fb6-a82709085e42",
   "metadata": {},
   "outputs": [
    {
     "name": "stderr",
     "output_type": "stream",
     "text": [
      "/tmp/ipykernel_2685411/2090957409.py:2: DeprecationWarning: DataFrameGroupBy.apply operated on the grouping columns. This behavior is deprecated, and in a future version of pandas the grouping columns will be excluded from the operation. Either pass `include_groups=False` to exclude the groupings or explicitly select the grouping columns after groupby to silence this warning.\n",
      "  has_prok = kogs_domains.reset_index().loc[:,[\"KOG\",\"isprok\"]].groupby(\"KOG\").apply(lambda x: x.eq(True).any()).loc[:,[\"isprok\"]].rename(columns={\"isprok\":\"hasprok\"})\n",
      "/tmp/ipykernel_2685411/2090957409.py:3: DeprecationWarning: DataFrameGroupBy.apply operated on the grouping columns. This behavior is deprecated, and in a future version of pandas the grouping columns will be excluded from the operation. Either pass `include_groups=False` to exclude the groupings or explicitly select the grouping columns after groupby to silence this warning.\n",
      "  has_euk = kogs_domains.reset_index().loc[:,[\"KOG\",\"iseuk\"]].groupby(\"KOG\").apply(lambda x: x.eq(True).any()).loc[:,[\"iseuk\"]].rename(columns={\"iseuk\":\"haseuk\"})\n"
     ]
    }
   ],
   "source": [
    "kogs_domains[\"isprok\"] = ~kogs_domains[\"iseuk\"] \n",
    "has_prok = kogs_domains.reset_index().loc[:,[\"KOG\",\"isprok\"]].groupby(\"KOG\").apply(lambda x: x.eq(True).any()).loc[:,[\"isprok\"]].rename(columns={\"isprok\":\"hasprok\"})\n",
    "has_euk = kogs_domains.reset_index().loc[:,[\"KOG\",\"iseuk\"]].groupby(\"KOG\").apply(lambda x: x.eq(True).any()).loc[:,[\"iseuk\"]].rename(columns={\"iseuk\":\"haseuk\"})\n"
   ]
  },
  {
   "cell_type": "code",
   "execution_count": 83,
   "id": "15ac2a61-5ce2-4671-a9ed-580c34a190a8",
   "metadata": {
    "tags": []
   },
   "outputs": [],
   "source": [
    "kogs_domains = kogs_domains.reset_index().set_index(\"KOG\")"
   ]
  },
  {
   "cell_type": "code",
   "execution_count": 84,
   "id": "f33b9cfe-d521-43d7-8298-5a7d0c5695e0",
   "metadata": {
    "tags": []
   },
   "outputs": [],
   "source": [
    "kogs_hasdomains = pd.merge(kogs_domains, has_prok, on=\"KOG\", how = \"left\")"
   ]
  },
  {
   "cell_type": "code",
   "execution_count": 85,
   "id": "e9ace220-e2d4-41e8-bf6e-3833380f1e1d",
   "metadata": {
    "tags": []
   },
   "outputs": [],
   "source": [
    "kogs_hasdomains = pd.merge(kogs_hasdomains, has_euk, on=\"KOG\", how = \"left\")"
   ]
  },
  {
   "cell_type": "code",
   "execution_count": 86,
   "id": "011262a8-9d64-4c38-ad2f-cb6362586569",
   "metadata": {
    "tags": []
   },
   "outputs": [],
   "source": [
    "kogs_hasboth = kogs_hasdomains.loc[:,[\"hasprok\", \"haseuk\"]].reset_index().drop_duplicates()"
   ]
  },
  {
   "cell_type": "code",
   "execution_count": 87,
   "id": "e1655a32-641e-41a3-a053-45aa1b0c59af",
   "metadata": {
    "tags": []
   },
   "outputs": [],
   "source": [
    "kogs_hasboth[\"hasboth\"] = kogs_hasboth[\"hasprok\"] & kogs_hasboth[\"haseuk\"]\n",
    "kogs_hasboth[\"haseither\"] = kogs_hasboth[\"hasprok\"] | kogs_hasboth[\"haseuk\"]"
   ]
  },
  {
   "cell_type": "code",
   "execution_count": 97,
   "id": "c42f90cb-f695-4290-8259-5473f2588382",
   "metadata": {
    "tags": []
   },
   "outputs": [
    {
     "data": {
      "text/html": [
       "<div>\n",
       "<style scoped>\n",
       "    .dataframe tbody tr th:only-of-type {\n",
       "        vertical-align: middle;\n",
       "    }\n",
       "\n",
       "    .dataframe tbody tr th {\n",
       "        vertical-align: top;\n",
       "    }\n",
       "\n",
       "    .dataframe thead th {\n",
       "        text-align: right;\n",
       "    }\n",
       "</style>\n",
       "<table border=\"1\" class=\"dataframe\">\n",
       "  <thead>\n",
       "    <tr style=\"text-align: right;\">\n",
       "      <th></th>\n",
       "      <th>KOG</th>\n",
       "      <th>hasprok</th>\n",
       "      <th>haseuk</th>\n",
       "      <th>hasboth</th>\n",
       "      <th>haseither</th>\n",
       "    </tr>\n",
       "  </thead>\n",
       "  <tbody>\n",
       "    <tr>\n",
       "      <th>432395</th>\n",
       "      <td>K26400</td>\n",
       "      <td>True</td>\n",
       "      <td>True</td>\n",
       "      <td>True</td>\n",
       "      <td>True</td>\n",
       "    </tr>\n",
       "  </tbody>\n",
       "</table>\n",
       "</div>"
      ],
      "text/plain": [
       "           KOG  hasprok  haseuk  hasboth  haseither\n",
       "432395  K26400     True    True     True       True"
      ]
     },
     "execution_count": 97,
     "metadata": {},
     "output_type": "execute_result"
    }
   ],
   "source": [
    "kogs_hasboth[kogs_hasboth[\"KOG\"] == \"K26400\"]"
   ]
  },
  {
   "cell_type": "code",
   "execution_count": 63,
   "id": "a12ab5d7-1e7c-42da-9371-b0bfe3032dd7",
   "metadata": {
    "tags": []
   },
   "outputs": [],
   "source": [
    "KOGS_w_both = kogs_hasboth[kogs_hasboth[\"hasboth\"] == True][\"KOG\"]\n",
    "KOGS_w_both.to_csv(\"/data/luojaa/uid_stats/KOGs_w_both.csv\")"
   ]
  },
  {
   "cell_type": "code",
   "execution_count": null,
   "id": "01d311f0-0391-4757-bfd5-0acc4bf00adc",
   "metadata": {},
   "outputs": [
    {
     "data": {
      "text/plain": [
       "12510"
      ]
     },
     "execution_count": 58,
     "metadata": {},
     "output_type": "execute_result"
    }
   ],
   "source": [
    "sum(kogs_hasboth[\"hasprok\"])"
   ]
  },
  {
   "cell_type": "code",
   "execution_count": 57,
   "id": "5de3bb75-3b3f-430b-93e4-98e96398825b",
   "metadata": {
    "tags": []
   },
   "outputs": [
    {
     "data": {
      "text/plain": [
       "15658"
      ]
     },
     "execution_count": 57,
     "metadata": {},
     "output_type": "execute_result"
    }
   ],
   "source": [
    "sum(kogs_hasboth[\"haseuk\"])"
   ]
  },
  {
   "cell_type": "code",
   "execution_count": 55,
   "id": "37970b79-b16e-4bcc-ae4b-e73e24be512b",
   "metadata": {
    "tags": []
   },
   "outputs": [
    {
     "data": {
      "text/plain": [
       "2334"
      ]
     },
     "execution_count": 55,
     "metadata": {},
     "output_type": "execute_result"
    }
   ],
   "source": [
    "sum(kogs_hasboth[\"hasboth\"])"
   ]
  },
  {
   "cell_type": "code",
   "execution_count": 99,
   "id": "822a299e-4bcb-4d6f-8802-9298ab3234a5",
   "metadata": {},
   "outputs": [
    {
     "data": {
      "text/html": [
       "<div>\n",
       "<style scoped>\n",
       "    .dataframe tbody tr th:only-of-type {\n",
       "        vertical-align: middle;\n",
       "    }\n",
       "\n",
       "    .dataframe tbody tr th {\n",
       "        vertical-align: top;\n",
       "    }\n",
       "\n",
       "    .dataframe thead th {\n",
       "        text-align: right;\n",
       "    }\n",
       "</style>\n",
       "<table border=\"1\" class=\"dataframe\">\n",
       "  <thead>\n",
       "    <tr style=\"text-align: right;\">\n",
       "      <th></th>\n",
       "      <th>UID</th>\n",
       "      <th>KOG</th>\n",
       "      <th>KEGG_ID</th>\n",
       "      <th>ENTRY</th>\n",
       "      <th>ALIAS</th>\n",
       "      <th>KEGG_CDS</th>\n",
       "      <th>KEGG_ORG</th>\n",
       "      <th>TAXID</th>\n",
       "      <th>NAME</th>\n",
       "      <th>KOGID</th>\n",
       "      <th>isnull</th>\n",
       "      <th>UIDS_MISSING</th>\n",
       "    </tr>\n",
       "  </thead>\n",
       "  <tbody>\n",
       "    <tr>\n",
       "      <th>0</th>\n",
       "      <td>A0A022Q707</td>\n",
       "      <td>K00001</td>\n",
       "      <td>egt:105975019</td>\n",
       "      <td>K00001</td>\n",
       "      <td>NaN</td>\n",
       "      <td>105975019</td>\n",
       "      <td>EGT</td>\n",
       "      <td>4155.0</td>\n",
       "      <td>alcohol dehydrogenase [EC:1.1.1.1]</td>\n",
       "      <td>K00001</td>\n",
       "      <td>False</td>\n",
       "      <td>1604</td>\n",
       "    </tr>\n",
       "    <tr>\n",
       "      <th>1</th>\n",
       "      <td>A0A022R7F5</td>\n",
       "      <td>K00001</td>\n",
       "      <td>egt:105960042</td>\n",
       "      <td>K00001</td>\n",
       "      <td>NaN</td>\n",
       "      <td>105960042</td>\n",
       "      <td>EGT</td>\n",
       "      <td>4155.0</td>\n",
       "      <td>alcohol dehydrogenase [EC:1.1.1.1]</td>\n",
       "      <td>K00001</td>\n",
       "      <td>False</td>\n",
       "      <td>1604</td>\n",
       "    </tr>\n",
       "    <tr>\n",
       "      <th>2</th>\n",
       "      <td>A0A059A4S5</td>\n",
       "      <td>K00001</td>\n",
       "      <td>egr:104425885</td>\n",
       "      <td>K00001</td>\n",
       "      <td>NaN</td>\n",
       "      <td>104425885</td>\n",
       "      <td>EGR</td>\n",
       "      <td>71139.0</td>\n",
       "      <td>alcohol dehydrogenase [EC:1.1.1.1]</td>\n",
       "      <td>K00001</td>\n",
       "      <td>False</td>\n",
       "      <td>1604</td>\n",
       "    </tr>\n",
       "    <tr>\n",
       "      <th>3</th>\n",
       "      <td>A0A059A5P0</td>\n",
       "      <td>K00001</td>\n",
       "      <td>egr:104425887</td>\n",
       "      <td>K00001</td>\n",
       "      <td>NaN</td>\n",
       "      <td>104425887</td>\n",
       "      <td>EGR</td>\n",
       "      <td>71139.0</td>\n",
       "      <td>alcohol dehydrogenase [EC:1.1.1.1]</td>\n",
       "      <td>K00001</td>\n",
       "      <td>False</td>\n",
       "      <td>1604</td>\n",
       "    </tr>\n",
       "    <tr>\n",
       "      <th>4</th>\n",
       "      <td>A0A059ZDV9</td>\n",
       "      <td>K00001</td>\n",
       "      <td>abw:BL01_05170</td>\n",
       "      <td>K00001</td>\n",
       "      <td>NaN</td>\n",
       "      <td>BL01_05170</td>\n",
       "      <td>ABW</td>\n",
       "      <td>470.0</td>\n",
       "      <td>alcohol dehydrogenase [EC:1.1.1.1]</td>\n",
       "      <td>K00001</td>\n",
       "      <td>False</td>\n",
       "      <td>1604</td>\n",
       "    </tr>\n",
       "    <tr>\n",
       "      <th>...</th>\n",
       "      <td>...</td>\n",
       "      <td>...</td>\n",
       "      <td>...</td>\n",
       "      <td>...</td>\n",
       "      <td>...</td>\n",
       "      <td>...</td>\n",
       "      <td>...</td>\n",
       "      <td>...</td>\n",
       "      <td>...</td>\n",
       "      <td>...</td>\n",
       "      <td>...</td>\n",
       "      <td>...</td>\n",
       "    </tr>\n",
       "    <tr>\n",
       "      <th>27895405</th>\n",
       "      <td>NaN</td>\n",
       "      <td>NaN</td>\n",
       "      <td>tpul:TPB0596_18180</td>\n",
       "      <td>K27109</td>\n",
       "      <td>ctaF</td>\n",
       "      <td>TPB0596_18180</td>\n",
       "      <td>TPUL</td>\n",
       "      <td>NaN</td>\n",
       "      <td>NaN</td>\n",
       "      <td>K27109</td>\n",
       "      <td>True</td>\n",
       "      <td>482</td>\n",
       "    </tr>\n",
       "    <tr>\n",
       "      <th>27895406</th>\n",
       "      <td>NaN</td>\n",
       "      <td>NaN</td>\n",
       "      <td>tsd:MTP03_30470</td>\n",
       "      <td>K27109</td>\n",
       "      <td>NaN</td>\n",
       "      <td>MTP03_30470</td>\n",
       "      <td>TSD</td>\n",
       "      <td>NaN</td>\n",
       "      <td>NaN</td>\n",
       "      <td>K27109</td>\n",
       "      <td>True</td>\n",
       "      <td>482</td>\n",
       "    </tr>\n",
       "    <tr>\n",
       "      <th>27895407</th>\n",
       "      <td>NaN</td>\n",
       "      <td>NaN</td>\n",
       "      <td>whr:OG579_04520</td>\n",
       "      <td>K27109</td>\n",
       "      <td>NaN</td>\n",
       "      <td>OG579_04520</td>\n",
       "      <td>WHR</td>\n",
       "      <td>NaN</td>\n",
       "      <td>NaN</td>\n",
       "      <td>K27109</td>\n",
       "      <td>True</td>\n",
       "      <td>482</td>\n",
       "    </tr>\n",
       "    <tr>\n",
       "      <th>27895408</th>\n",
       "      <td>NaN</td>\n",
       "      <td>NaN</td>\n",
       "      <td>yia:LO772_24195</td>\n",
       "      <td>K27109</td>\n",
       "      <td>NaN</td>\n",
       "      <td>LO772_24195</td>\n",
       "      <td>YIA</td>\n",
       "      <td>NaN</td>\n",
       "      <td>NaN</td>\n",
       "      <td>K27109</td>\n",
       "      <td>True</td>\n",
       "      <td>482</td>\n",
       "    </tr>\n",
       "    <tr>\n",
       "      <th>27895409</th>\n",
       "      <td>NaN</td>\n",
       "      <td>NaN</td>\n",
       "      <td>yim:J5M86_08950</td>\n",
       "      <td>K27109</td>\n",
       "      <td>NaN</td>\n",
       "      <td>J5M86_08950</td>\n",
       "      <td>YIM</td>\n",
       "      <td>NaN</td>\n",
       "      <td>NaN</td>\n",
       "      <td>K27109</td>\n",
       "      <td>True</td>\n",
       "      <td>482</td>\n",
       "    </tr>\n",
       "  </tbody>\n",
       "</table>\n",
       "<p>27895410 rows × 12 columns</p>\n",
       "</div>"
      ],
      "text/plain": [
       "                 UID     KOG             KEGG_ID   ENTRY ALIAS       KEGG_CDS  \\\n",
       "0         A0A022Q707  K00001       egt:105975019  K00001   NaN      105975019   \n",
       "1         A0A022R7F5  K00001       egt:105960042  K00001   NaN      105960042   \n",
       "2         A0A059A4S5  K00001       egr:104425885  K00001   NaN      104425885   \n",
       "3         A0A059A5P0  K00001       egr:104425887  K00001   NaN      104425887   \n",
       "4         A0A059ZDV9  K00001      abw:BL01_05170  K00001   NaN     BL01_05170   \n",
       "...              ...     ...                 ...     ...   ...            ...   \n",
       "27895405         NaN     NaN  tpul:TPB0596_18180  K27109  ctaF  TPB0596_18180   \n",
       "27895406         NaN     NaN     tsd:MTP03_30470  K27109   NaN    MTP03_30470   \n",
       "27895407         NaN     NaN     whr:OG579_04520  K27109   NaN    OG579_04520   \n",
       "27895408         NaN     NaN     yia:LO772_24195  K27109   NaN    LO772_24195   \n",
       "27895409         NaN     NaN     yim:J5M86_08950  K27109   NaN    J5M86_08950   \n",
       "\n",
       "         KEGG_ORG    TAXID                                NAME   KOGID  \\\n",
       "0             EGT   4155.0  alcohol dehydrogenase [EC:1.1.1.1]  K00001   \n",
       "1             EGT   4155.0  alcohol dehydrogenase [EC:1.1.1.1]  K00001   \n",
       "2             EGR  71139.0  alcohol dehydrogenase [EC:1.1.1.1]  K00001   \n",
       "3             EGR  71139.0  alcohol dehydrogenase [EC:1.1.1.1]  K00001   \n",
       "4             ABW    470.0  alcohol dehydrogenase [EC:1.1.1.1]  K00001   \n",
       "...           ...      ...                                 ...     ...   \n",
       "27895405     TPUL      NaN                                 NaN  K27109   \n",
       "27895406      TSD      NaN                                 NaN  K27109   \n",
       "27895407      WHR      NaN                                 NaN  K27109   \n",
       "27895408      YIA      NaN                                 NaN  K27109   \n",
       "27895409      YIM      NaN                                 NaN  K27109   \n",
       "\n",
       "          isnull  UIDS_MISSING  \n",
       "0          False          1604  \n",
       "1          False          1604  \n",
       "2          False          1604  \n",
       "3          False          1604  \n",
       "4          False          1604  \n",
       "...          ...           ...  \n",
       "27895405    True           482  \n",
       "27895406    True           482  \n",
       "27895407    True           482  \n",
       "27895408    True           482  \n",
       "27895409    True           482  \n",
       "\n",
       "[27895410 rows x 12 columns]"
      ]
     },
     "execution_count": 99,
     "metadata": {},
     "output_type": "execute_result"
    }
   ],
   "source": [
    "kogs_df = pd.merge(uid2kogs_df, genes2uid_df, on=\"UID\", how = \"outer\")\n",
    "kogs_df = pd.merge(kogs_df, uid2taxid_df, on = \"UID\", how = \"outer\")\n",
    "kogs_df = pd.merge(kogs_df, uid2desc_df, on=\"UID\", how = \"outer\")\n",
    "# ENTRY is from KEGG gene scraping, and many of these genes don't have UIDs\n",
    "# 50% genes don't have \"KOGs\" for this reason, so fill in gaps with \"ENTRY\"\n",
    "# Also, ~600k \"KOGs\" map to UIDs that were \"discovered\", or not originally mapped from the KEGG gene scraping \n",
    "kogs_df[\"KOGID\"] = kogs_df[\"KOG\"].fillna(kogs_df[\"ENTRY\"]) \n",
    "\n",
    "kogs_df[\"isnull\"] = kogs_df.index.isnull()\n",
    "null_count = kogs_df.reset_index().loc[:,[\"isnull\", \"KOGID\"]].groupby(\"KOGID\").sum().astype(int).reset_index().rename(columns={\"isnull\":\"UIDS_MISSING\"})\n",
    "kogs_df = kogs_df.reset_index()\n",
    "kogs_df = pd.merge(kogs_df, null_count, on = \"KOGID\", how = \"outer\")\n",
    "\n",
    "kogs_df\n"
   ]
  },
  {
   "cell_type": "code",
   "execution_count": null,
   "id": "3bba319a-aa3c-4663-a5f1-21ecfe193859",
   "metadata": {},
   "outputs": [],
   "source": []
  },
  {
   "cell_type": "code",
   "execution_count": null,
   "id": "96b90ecf-a367-49a6-ae3a-a231ca79e1cf",
   "metadata": {},
   "outputs": [],
   "source": []
  },
  {
   "cell_type": "code",
   "execution_count": null,
   "id": "bb1d22ba-7c1e-4093-82d6-8a6d6e349bb8",
   "metadata": {},
   "outputs": [],
   "source": []
  },
  {
   "cell_type": "code",
   "execution_count": 9,
   "id": "fe7cec6e-213b-4df8-aacf-338b226363e6",
   "metadata": {
    "tags": []
   },
   "outputs": [],
   "source": [
    "kogs_df.to_csv(base_stats + \"kogs_df.tsv\", sep = \"\\t\", index=None)"
   ]
  },
  {
   "cell_type": "markdown",
   "id": "06738815-29af-461b-86ee-11f84491b2b5",
   "metadata": {
    "tags": []
   },
   "source": [
    "### map kogs to 3M uids that we include before realignment (eukaryotic)"
   ]
  },
  {
   "cell_type": "code",
   "execution_count": 100,
   "id": "763154be-54c5-4b67-a79b-7a83f76aa5b7",
   "metadata": {
    "tags": []
   },
   "outputs": [],
   "source": [
    "euk_uid2kogs = \"/data/luojaa/uid_stats/euk_uid2kogs.csv\""
   ]
  },
  {
   "cell_type": "code",
   "execution_count": 101,
   "id": "00ae0fbe-9bc6-4b12-8577-0ea49a95675c",
   "metadata": {
    "tags": []
   },
   "outputs": [],
   "source": [
    "# kog_fastas_path = \"/data/luojaa/kog_fastas_backup/\"\n",
    "# kog_fastas = os.listdir(kog_fastas_path)\n",
    "# with open(\"/data/luojaa/uid_stats/uid2kogs_fasta.csv\", \"w\") as outfile:\n",
    "#     for file in kog_fastas:\n",
    "#         kog = file.strip(\".fasta\")\n",
    "#         with open(kog_fastas_path + file, \"r\") as handle:\n",
    "#             for record in SeqIO.parse(handle, 'fasta'):\n",
    "#                 uid = record.id\n",
    "#                 print(\",\".join([uid, kog]), file=outfile)"
   ]
  },
  {
   "cell_type": "code",
   "execution_count": 102,
   "id": "3ca8f236-b000-4551-b7c2-ca020661f7c2",
   "metadata": {
    "tags": []
   },
   "outputs": [],
   "source": [
    "euk_uid2kogs_df = pd.read_csv(euk_uid2kogs, header = None).rename(columns = {0:\"UID\", 1:\"KOGID\"}).set_index(\"UID\")\n",
    "euk_uid2kogs_df[\"ISEUK\"] = [True] * len(euk_uid2kogs_df)\n",
    "euk_uid2kogs_df = euk_uid2kogs_df.loc[:,\"ISEUK\"]"
   ]
  },
  {
   "cell_type": "code",
   "execution_count": 103,
   "id": "f0acbbc1-91ef-4a39-95af-25db5ce7f42c",
   "metadata": {
    "tags": []
   },
   "outputs": [
    {
     "name": "stderr",
     "output_type": "stream",
     "text": [
      "/tmp/ipykernel_2863887/1197042640.py:1: DtypeWarning: Columns (0,1,8) have mixed types. Specify dtype option on import or set low_memory=False.\n",
      "  kogs_df_summary_in = pd.read_csv(base_stats + \"kogs_df.tsv\", sep = \"\\t\").set_index(\"UID\")\n"
     ]
    }
   ],
   "source": [
    "kogs_df_summary_in = pd.read_csv(base_stats + \"kogs_df.tsv\", sep = \"\\t\").set_index(\"UID\")"
   ]
  },
  {
   "cell_type": "code",
   "execution_count": 104,
   "id": "113383ea-2c0d-4f88-bf3e-beafc9fe829f",
   "metadata": {
    "tags": []
   },
   "outputs": [
    {
     "name": "stderr",
     "output_type": "stream",
     "text": [
      "/tmp/ipykernel_2863887/1860005714.py:2: FutureWarning: Downcasting object dtype arrays on .fillna, .ffill, .bfill is deprecated and will change in a future version. Call result.infer_objects(copy=False) instead. To opt-in to the future behavior, set `pd.set_option('future.no_silent_downcasting', True)`\n",
      "  kogs_df_iseuk.fillna({\"ISEUK\":False}, inplace = True)\n"
     ]
    }
   ],
   "source": [
    "kogs_df_iseuk = pd.merge(kogs_df_summary_in, euk_uid2kogs_df, on = \"UID\", how=\"outer\")\n",
    "kogs_df_iseuk.fillna({\"ISEUK\":False}, inplace = True)\n",
    "euk_count = kogs_df_iseuk.reset_index().loc[:,[\"ISEUK\", \"KOGID\"]].groupby(\"KOGID\").sum().astype(int).reset_index().rename(columns={\"ISEUK\":\"EUKCOUNT\"})\n",
    "\n",
    "kogs_df_iseuk = kogs_df_iseuk.reset_index()\n",
    "kogs_df_summary = pd.merge(kogs_df_iseuk, euk_count, on = \"KOGID\", how = \"outer\")"
   ]
  },
  {
   "cell_type": "code",
   "execution_count": 105,
   "id": "34d06b70-70bc-41e9-9816-3a875bf526f7",
   "metadata": {
    "tags": []
   },
   "outputs": [],
   "source": [
    "ncbi = ete3.NCBITaxa()"
   ]
  },
  {
   "cell_type": "code",
   "execution_count": 106,
   "id": "3ec6fda3-1c6a-4564-b064-e077dfdee549",
   "metadata": {
    "tags": []
   },
   "outputs": [],
   "source": [
    "taxids = list(kogs_df_summary[~kogs_df_summary[\"TAXID\"].isnull()][\"TAXID\"])\n",
    "taxid2name = ncbi.get_taxid_translator(taxids)"
   ]
  },
  {
   "cell_type": "code",
   "execution_count": 107,
   "id": "b750b9c7-73bb-40a3-b04b-4f2253244b5b",
   "metadata": {
    "tags": []
   },
   "outputs": [],
   "source": [
    "def translate_taxid(name, dic):\n",
    "    try:\n",
    "        return dic[name]\n",
    "    except:\n",
    "        return np.nan"
   ]
  },
  {
   "cell_type": "code",
   "execution_count": 108,
   "id": "7768075b-eac4-4f3d-a828-8b96f701180d",
   "metadata": {
    "tags": []
   },
   "outputs": [],
   "source": [
    "kogs_df_taxa = kogs_df_summary[\"TAXID\"].apply(lambda x: translate_taxid(x, taxid2name))"
   ]
  },
  {
   "cell_type": "code",
   "execution_count": 109,
   "id": "f368fc94-0a6c-4163-a8ed-b84491ddaa16",
   "metadata": {
    "tags": []
   },
   "outputs": [],
   "source": [
    "kogs_df_crucial = kogs_df_summary.loc[:, [\"UID\", \"KOGID\", \"FUNCTION\", \"ALIAS\", \"KEGG_ORG\", \"ISEUK\"]]\n",
    "kogs_df_crucial[\"TAXID\"] = kogs_df_summary[\"TAXID\"].fillna(0).astype(int)\n",
    "kogs_df_crucial[\"SPECIES\"] = kogs_df_taxa\n",
    "kogs_df_searchable = kogs_df_crucial.fillna(\"none\")"
   ]
  },
  {
   "cell_type": "code",
   "execution_count": 110,
   "id": "6d0a7b7e-884f-4fc2-82a8-165799297f2c",
   "metadata": {
    "tags": []
   },
   "outputs": [],
   "source": [
    "kogs_df_crucial.to_csv(base_stats + \"kogs_df_crucial.tsv\", sep = \"\\t\", index=None)\n",
    "kogs_df_searchable.to_csv(base_stats + \"kogs_df_searchable.tsv\", sep = \"\\t\", index=None)"
   ]
  },
  {
   "cell_type": "code",
   "execution_count": 111,
   "id": "2e79fd8f-d05c-48fa-8e1c-16ff092c5be2",
   "metadata": {
    "tags": []
   },
   "outputs": [
    {
     "data": {
      "text/html": [
       "<div>\n",
       "<style scoped>\n",
       "    .dataframe tbody tr th:only-of-type {\n",
       "        vertical-align: middle;\n",
       "    }\n",
       "\n",
       "    .dataframe tbody tr th {\n",
       "        vertical-align: top;\n",
       "    }\n",
       "\n",
       "    .dataframe thead th {\n",
       "        text-align: right;\n",
       "    }\n",
       "</style>\n",
       "<table border=\"1\" class=\"dataframe\">\n",
       "  <thead>\n",
       "    <tr style=\"text-align: right;\">\n",
       "      <th></th>\n",
       "      <th>UID</th>\n",
       "      <th>KOGID</th>\n",
       "      <th>FUNCTION</th>\n",
       "      <th>ALIAS</th>\n",
       "      <th>KEGG_ORG</th>\n",
       "      <th>ISEUK</th>\n",
       "      <th>TAXID</th>\n",
       "      <th>SPECIES</th>\n",
       "    </tr>\n",
       "  </thead>\n",
       "  <tbody>\n",
       "    <tr>\n",
       "      <th>0</th>\n",
       "      <td>A0A022Q707</td>\n",
       "      <td>K00001</td>\n",
       "      <td>alcohol dehydrogenase [EC:1.1.1.1]</td>\n",
       "      <td>none</td>\n",
       "      <td>EGT</td>\n",
       "      <td>True</td>\n",
       "      <td>4155</td>\n",
       "      <td>Erythranthe guttata</td>\n",
       "    </tr>\n",
       "    <tr>\n",
       "      <th>1</th>\n",
       "      <td>A0A022R7F5</td>\n",
       "      <td>K00001</td>\n",
       "      <td>alcohol dehydrogenase [EC:1.1.1.1]</td>\n",
       "      <td>none</td>\n",
       "      <td>EGT</td>\n",
       "      <td>True</td>\n",
       "      <td>4155</td>\n",
       "      <td>Erythranthe guttata</td>\n",
       "    </tr>\n",
       "    <tr>\n",
       "      <th>2</th>\n",
       "      <td>A0A059A4S5</td>\n",
       "      <td>K00001</td>\n",
       "      <td>alcohol dehydrogenase [EC:1.1.1.1]</td>\n",
       "      <td>none</td>\n",
       "      <td>EGR</td>\n",
       "      <td>True</td>\n",
       "      <td>71139</td>\n",
       "      <td>Eucalyptus grandis</td>\n",
       "    </tr>\n",
       "    <tr>\n",
       "      <th>3</th>\n",
       "      <td>A0A059A5P0</td>\n",
       "      <td>K00001</td>\n",
       "      <td>alcohol dehydrogenase [EC:1.1.1.1]</td>\n",
       "      <td>none</td>\n",
       "      <td>EGR</td>\n",
       "      <td>True</td>\n",
       "      <td>71139</td>\n",
       "      <td>Eucalyptus grandis</td>\n",
       "    </tr>\n",
       "    <tr>\n",
       "      <th>4</th>\n",
       "      <td>A0A059ZDV9</td>\n",
       "      <td>K00001</td>\n",
       "      <td>alcohol dehydrogenase [EC:1.1.1.1]</td>\n",
       "      <td>none</td>\n",
       "      <td>ABW</td>\n",
       "      <td>False</td>\n",
       "      <td>470</td>\n",
       "      <td>Acinetobacter baumannii</td>\n",
       "    </tr>\n",
       "    <tr>\n",
       "      <th>...</th>\n",
       "      <td>...</td>\n",
       "      <td>...</td>\n",
       "      <td>...</td>\n",
       "      <td>...</td>\n",
       "      <td>...</td>\n",
       "      <td>...</td>\n",
       "      <td>...</td>\n",
       "      <td>...</td>\n",
       "    </tr>\n",
       "    <tr>\n",
       "      <th>27895405</th>\n",
       "      <td>none</td>\n",
       "      <td>K27109</td>\n",
       "      <td>none</td>\n",
       "      <td>ctaF</td>\n",
       "      <td>TPUL</td>\n",
       "      <td>False</td>\n",
       "      <td>0</td>\n",
       "      <td>none</td>\n",
       "    </tr>\n",
       "    <tr>\n",
       "      <th>27895406</th>\n",
       "      <td>none</td>\n",
       "      <td>K27109</td>\n",
       "      <td>none</td>\n",
       "      <td>none</td>\n",
       "      <td>TSD</td>\n",
       "      <td>False</td>\n",
       "      <td>0</td>\n",
       "      <td>none</td>\n",
       "    </tr>\n",
       "    <tr>\n",
       "      <th>27895407</th>\n",
       "      <td>none</td>\n",
       "      <td>K27109</td>\n",
       "      <td>none</td>\n",
       "      <td>none</td>\n",
       "      <td>WHR</td>\n",
       "      <td>False</td>\n",
       "      <td>0</td>\n",
       "      <td>none</td>\n",
       "    </tr>\n",
       "    <tr>\n",
       "      <th>27895408</th>\n",
       "      <td>none</td>\n",
       "      <td>K27109</td>\n",
       "      <td>none</td>\n",
       "      <td>none</td>\n",
       "      <td>YIA</td>\n",
       "      <td>False</td>\n",
       "      <td>0</td>\n",
       "      <td>none</td>\n",
       "    </tr>\n",
       "    <tr>\n",
       "      <th>27895409</th>\n",
       "      <td>none</td>\n",
       "      <td>K27109</td>\n",
       "      <td>none</td>\n",
       "      <td>none</td>\n",
       "      <td>YIM</td>\n",
       "      <td>False</td>\n",
       "      <td>0</td>\n",
       "      <td>none</td>\n",
       "    </tr>\n",
       "  </tbody>\n",
       "</table>\n",
       "<p>27895410 rows × 8 columns</p>\n",
       "</div>"
      ],
      "text/plain": [
       "                 UID   KOGID                            FUNCTION ALIAS  \\\n",
       "0         A0A022Q707  K00001  alcohol dehydrogenase [EC:1.1.1.1]  none   \n",
       "1         A0A022R7F5  K00001  alcohol dehydrogenase [EC:1.1.1.1]  none   \n",
       "2         A0A059A4S5  K00001  alcohol dehydrogenase [EC:1.1.1.1]  none   \n",
       "3         A0A059A5P0  K00001  alcohol dehydrogenase [EC:1.1.1.1]  none   \n",
       "4         A0A059ZDV9  K00001  alcohol dehydrogenase [EC:1.1.1.1]  none   \n",
       "...              ...     ...                                 ...   ...   \n",
       "27895405        none  K27109                                none  ctaF   \n",
       "27895406        none  K27109                                none  none   \n",
       "27895407        none  K27109                                none  none   \n",
       "27895408        none  K27109                                none  none   \n",
       "27895409        none  K27109                                none  none   \n",
       "\n",
       "         KEGG_ORG  ISEUK  TAXID                  SPECIES  \n",
       "0             EGT   True   4155      Erythranthe guttata  \n",
       "1             EGT   True   4155      Erythranthe guttata  \n",
       "2             EGR   True  71139       Eucalyptus grandis  \n",
       "3             EGR   True  71139       Eucalyptus grandis  \n",
       "4             ABW  False    470  Acinetobacter baumannii  \n",
       "...           ...    ...    ...                      ...  \n",
       "27895405     TPUL  False      0                     none  \n",
       "27895406      TSD  False      0                     none  \n",
       "27895407      WHR  False      0                     none  \n",
       "27895408      YIA  False      0                     none  \n",
       "27895409      YIM  False      0                     none  \n",
       "\n",
       "[27895410 rows x 8 columns]"
      ]
     },
     "execution_count": 111,
     "metadata": {},
     "output_type": "execute_result"
    }
   ],
   "source": [
    "kogs_df_searchable"
   ]
  },
  {
   "cell_type": "markdown",
   "id": "7b3d8660-1e58-489e-acf0-3cf6d224db7c",
   "metadata": {},
   "source": [
    "### format cluster_stats"
   ]
  },
  {
   "cell_type": "code",
   "execution_count": null,
   "id": "af67f29a-a3c2-437a-8c56-0171a55ec78f",
   "metadata": {},
   "outputs": [],
   "source": [
    "fasta_stats_df = kogs_df_summary.loc[:,[\"KOGID\", \"UID\", \"UIDS_MISSING\", \"EUKCOUNT\"]].groupby([\"KOGID\",\"UIDS_MISSING\", \"EUKCOUNT\"]).count().reset_index().rename(columns={\"UID\":\"UID_COUNT\"}).set_index(\"KOGID\")\n",
    "cluster_size = pd.DataFrame(kogs_df_summary.loc[:,[\"KOGID\"]].groupby(\"KOGID\").size()).rename(columns={0:\"KOGSIZE\"})\n",
    "fasta_stats_out = pd.merge(cluster_size, fasta_stats_df, on = \"KOGID\", how = \"outer\").reset_index()\n",
    "fasta_stats_out[\"EUK_FRACTION\"] = 100 * fasta_stats_out[\"EUKCOUNT\"]/fasta_stats_out[\"UID_COUNT\"]"
   ]
  },
  {
   "cell_type": "code",
   "execution_count": null,
   "id": "b6b9daaa-44bf-4cfc-9cc3-cca6de8d3409",
   "metadata": {},
   "outputs": [
    {
     "data": {
      "text/html": [
       "<div>\n",
       "<style scoped>\n",
       "    .dataframe tbody tr th:only-of-type {\n",
       "        vertical-align: middle;\n",
       "    }\n",
       "\n",
       "    .dataframe tbody tr th {\n",
       "        vertical-align: top;\n",
       "    }\n",
       "\n",
       "    .dataframe thead th {\n",
       "        text-align: right;\n",
       "    }\n",
       "</style>\n",
       "<table border=\"1\" class=\"dataframe\">\n",
       "  <thead>\n",
       "    <tr style=\"text-align: right;\">\n",
       "      <th></th>\n",
       "      <th>KOGID</th>\n",
       "      <th>KOGSIZE</th>\n",
       "      <th>UIDS_MISSING</th>\n",
       "      <th>EUKCOUNT</th>\n",
       "      <th>UID_COUNT</th>\n",
       "      <th>%chosen</th>\n",
       "    </tr>\n",
       "  </thead>\n",
       "  <tbody>\n",
       "    <tr>\n",
       "      <th>4</th>\n",
       "      <td>K00005</td>\n",
       "      <td>1619</td>\n",
       "      <td>807</td>\n",
       "      <td>4</td>\n",
       "      <td>812</td>\n",
       "      <td>0.492611</td>\n",
       "    </tr>\n",
       "    <tr>\n",
       "      <th>22</th>\n",
       "      <td>K00024</td>\n",
       "      <td>6526</td>\n",
       "      <td>2619</td>\n",
       "      <td>10</td>\n",
       "      <td>3907</td>\n",
       "      <td>0.255951</td>\n",
       "    </tr>\n",
       "    <tr>\n",
       "      <th>40</th>\n",
       "      <td>K00042</td>\n",
       "      <td>2632</td>\n",
       "      <td>1248</td>\n",
       "      <td>10</td>\n",
       "      <td>1384</td>\n",
       "      <td>0.722543</td>\n",
       "    </tr>\n",
       "    <tr>\n",
       "      <th>55</th>\n",
       "      <td>K00060</td>\n",
       "      <td>2408</td>\n",
       "      <td>1034</td>\n",
       "      <td>1</td>\n",
       "      <td>1374</td>\n",
       "      <td>0.072780</td>\n",
       "    </tr>\n",
       "    <tr>\n",
       "      <th>62</th>\n",
       "      <td>K00067</td>\n",
       "      <td>7109</td>\n",
       "      <td>2835</td>\n",
       "      <td>1</td>\n",
       "      <td>4274</td>\n",
       "      <td>0.023397</td>\n",
       "    </tr>\n",
       "    <tr>\n",
       "      <th>...</th>\n",
       "      <td>...</td>\n",
       "      <td>...</td>\n",
       "      <td>...</td>\n",
       "      <td>...</td>\n",
       "      <td>...</td>\n",
       "      <td>...</td>\n",
       "    </tr>\n",
       "    <tr>\n",
       "      <th>25713</th>\n",
       "      <td>K26382</td>\n",
       "      <td>1</td>\n",
       "      <td>0</td>\n",
       "      <td>1</td>\n",
       "      <td>1</td>\n",
       "      <td>100.000000</td>\n",
       "    </tr>\n",
       "    <tr>\n",
       "      <th>25714</th>\n",
       "      <td>K26383</td>\n",
       "      <td>7</td>\n",
       "      <td>2</td>\n",
       "      <td>5</td>\n",
       "      <td>5</td>\n",
       "      <td>100.000000</td>\n",
       "    </tr>\n",
       "    <tr>\n",
       "      <th>25890</th>\n",
       "      <td>K26560</td>\n",
       "      <td>13</td>\n",
       "      <td>4</td>\n",
       "      <td>9</td>\n",
       "      <td>9</td>\n",
       "      <td>100.000000</td>\n",
       "    </tr>\n",
       "    <tr>\n",
       "      <th>26140</th>\n",
       "      <td>K26810</td>\n",
       "      <td>23</td>\n",
       "      <td>20</td>\n",
       "      <td>3</td>\n",
       "      <td>3</td>\n",
       "      <td>100.000000</td>\n",
       "    </tr>\n",
       "    <tr>\n",
       "      <th>26329</th>\n",
       "      <td>K26999</td>\n",
       "      <td>4</td>\n",
       "      <td>1</td>\n",
       "      <td>3</td>\n",
       "      <td>3</td>\n",
       "      <td>100.000000</td>\n",
       "    </tr>\n",
       "  </tbody>\n",
       "</table>\n",
       "<p>1158 rows × 6 columns</p>\n",
       "</div>"
      ],
      "text/plain": [
       "        KOGID  KOGSIZE  UIDS_MISSING  EUKCOUNT  UID_COUNT     %chosen\n",
       "4      K00005     1619           807         4        812    0.492611\n",
       "22     K00024     6526          2619        10       3907    0.255951\n",
       "40     K00042     2632          1248        10       1384    0.722543\n",
       "55     K00060     2408          1034         1       1374    0.072780\n",
       "62     K00067     7109          2835         1       4274    0.023397\n",
       "...       ...      ...           ...       ...        ...         ...\n",
       "25713  K26382        1             0         1          1  100.000000\n",
       "25714  K26383        7             2         5          5  100.000000\n",
       "25890  K26560       13             4         9          9  100.000000\n",
       "26140  K26810       23            20         3          3  100.000000\n",
       "26329  K26999        4             1         3          3  100.000000\n",
       "\n",
       "[1158 rows x 6 columns]"
      ]
     },
     "execution_count": 184,
     "metadata": {},
     "output_type": "execute_result"
    }
   ],
   "source": [
    "fasta_stats_out[fasta_stats_out[\"EUKCOUNT\"].between(1,10)]"
   ]
  },
  {
   "cell_type": "code",
   "execution_count": 187,
   "id": "7ddeb8b0-433e-49ba-a2ad-a4ec09ab4e55",
   "metadata": {
    "tags": []
   },
   "outputs": [],
   "source": [
    "fasta_stats_out.to_csv(\"/data/luojaa/uid_stats/cluster_stats.csv\", sep = \",\", index = None)"
   ]
  },
  {
   "cell_type": "markdown",
   "id": "1a9d17ff-99c4-4198-b0a6-16ac4142f76e",
   "metadata": {},
   "source": [
    "### format/explore  kegg \"CATEGORIES\"\n",
    "to do: stack on pathway/module/reaction info"
   ]
  },
  {
   "cell_type": "code",
   "execution_count": 70,
   "id": "cc9d8c02-f205-420d-ab2a-50104e14453b",
   "metadata": {
    "tags": []
   },
   "outputs": [],
   "source": [
    "kegg_pathways = pd.read_csv(\"/data/luojaa/kegg/kegg_pathways.58345.tsv\", sep = \"\\t\").loc[:,[\"ENTRY\", \"PATHWAY_ID\", \"PATHWAY_NAME\"]].rename(\n",
    "    columns = {\"PATHWAY_ID\":\"CATEGORY_ID\", \"PATHWAY_NAME\":\"CATEGORY_NAME\", \"ENTRY\":\"KOGID\"})\n",
    "\n",
    "kegg_rxns = pd.read_csv(\"/data/luojaa/kegg/kegg_reactions.tsv\", sep = \"\\t\").rename(columns = {\"REACTION_ID\":\"CATEGORY_ID\", \"REACTION_NAME\":\"CATEGORY_NAME\", \"ENTRY\":\"KOGID\"})\n",
    "kegg_modules = pd.read_csv(\"/data/luojaa/kegg/kegg_modules.tsv\", sep = \"\\t\").rename(columns = {\"MODULE_ID\":\"CATEGORY_ID\", \"MODULE_NAME\":\"CATEGORY_NAME\", \"ENTRY\":\"KOGID\"})\n",
    "\n",
    "# category: pathway/module/reaction; CID: map#####, CNAME: ___"
   ]
  },
  {
   "cell_type": "code",
   "execution_count": 74,
   "id": "bc86cc5e-84d0-42bd-8d8c-6b2862d78084",
   "metadata": {
    "tags": []
   },
   "outputs": [],
   "source": [
    "kegg_categories_df = pd.concat([kegg_pathways, kegg_rxns, kegg_modules], axis = 0).dropna().reset_index().iloc[:, 1:]"
   ]
  },
  {
   "cell_type": "code",
   "execution_count": 75,
   "id": "0978f3c7-c2b8-4c85-91c8-c56950470265",
   "metadata": {},
   "outputs": [],
   "source": [
    "kegg_categories_df.to_csv(\"/data/luojaa/kegg/kegg_categories.tsv\", sep = \"\\t\", index = None)"
   ]
  },
  {
   "cell_type": "markdown",
   "id": "1895d33e-6a9f-4952-ab60-c7e0d5790819",
   "metadata": {
    "tags": []
   },
   "source": [
    "### make kogs for each category easily retrievable"
   ]
  },
  {
   "cell_type": "code",
   "execution_count": 3,
   "id": "d2f1b66f-d965-41aa-9d8f-7b96a2919bb5",
   "metadata": {
    "tags": []
   },
   "outputs": [],
   "source": [
    "kegg_categories = pd.read_csv(\"/data/luojaa/kegg/kegg_categories.tsv\", sep = \"\\t\")"
   ]
  },
  {
   "cell_type": "code",
   "execution_count": 4,
   "id": "b90893be-f002-4436-bc6c-7c7ade593456",
   "metadata": {
    "tags": []
   },
   "outputs": [],
   "source": [
    "kegg_categories[\"KOGIDS\"] = kegg_categories.groupby([\"CATEGORY_NAME\", \"CATEGORY_ID\"])[\"KOGID\"].transform(lambda x: \",\".join(x))"
   ]
  },
  {
   "cell_type": "code",
   "execution_count": 5,
   "id": "657a2739-646a-4416-964e-c929d9e4e150",
   "metadata": {
    "tags": []
   },
   "outputs": [],
   "source": [
    "kegg_categories[\"NUM_KOGS\"] = kegg_categories.groupby([\"CATEGORY_ID\"]).transform(lambda x: len(x))[\"KOGID\"]"
   ]
  },
  {
   "cell_type": "code",
   "execution_count": 6,
   "id": "1ddb22f9-c7ea-4290-a8df-5af287822fad",
   "metadata": {
    "tags": []
   },
   "outputs": [],
   "source": [
    "kegg_categories_groups = kegg_categories.loc[:,[\"CATEGORY_NAME\", \"CATEGORY_ID\", \"KOGIDS\", \"NUM_KOGS\"]].drop_duplicates().dropna()"
   ]
  },
  {
   "cell_type": "code",
   "execution_count": 7,
   "id": "d3ceff3c-04c6-4a9b-b634-d6924c5af963",
   "metadata": {
    "tags": []
   },
   "outputs": [
    {
     "data": {
      "text/html": [
       "<div>\n",
       "<style scoped>\n",
       "    .dataframe tbody tr th:only-of-type {\n",
       "        vertical-align: middle;\n",
       "    }\n",
       "\n",
       "    .dataframe tbody tr th {\n",
       "        vertical-align: top;\n",
       "    }\n",
       "\n",
       "    .dataframe thead th {\n",
       "        text-align: right;\n",
       "    }\n",
       "</style>\n",
       "<table border=\"1\" class=\"dataframe\">\n",
       "  <thead>\n",
       "    <tr style=\"text-align: right;\">\n",
       "      <th></th>\n",
       "      <th>KOGID</th>\n",
       "      <th>CATEGORY_ID</th>\n",
       "      <th>CATEGORY_NAME</th>\n",
       "      <th>KOGIDS</th>\n",
       "      <th>NUM_KOGS</th>\n",
       "    </tr>\n",
       "  </thead>\n",
       "  <tbody>\n",
       "    <tr>\n",
       "      <th>0</th>\n",
       "      <td>K20411</td>\n",
       "      <td>map04150</td>\n",
       "      <td>mTOR signaling pathway</td>\n",
       "      <td>K20411,K20405,K00312,K14004,K13780,K01384,K204...</td>\n",
       "      <td>117</td>\n",
       "    </tr>\n",
       "    <tr>\n",
       "      <th>1</th>\n",
       "      <td>K00919</td>\n",
       "      <td>map00900</td>\n",
       "      <td>Terpenoid backbone biosynthesis</td>\n",
       "      <td>K00919,K01597,K21268,K12503,K11778,K06013,K000...</td>\n",
       "      <td>63</td>\n",
       "    </tr>\n",
       "    <tr>\n",
       "      <th>2</th>\n",
       "      <td>K00919</td>\n",
       "      <td>map01100</td>\n",
       "      <td>Metabolic pathways</td>\n",
       "      <td>K00919,K19290,K05861,K18824,K22574,K22212,K231...</td>\n",
       "      <td>4732</td>\n",
       "    </tr>\n",
       "    <tr>\n",
       "      <th>3</th>\n",
       "      <td>K00919</td>\n",
       "      <td>map01110</td>\n",
       "      <td>Biosynthesis of secondary metabolites</td>\n",
       "      <td>K00919,K21069,K22574,K20439,K00931,K00064,K219...</td>\n",
       "      <td>2115</td>\n",
       "    </tr>\n",
       "    <tr>\n",
       "      <th>4</th>\n",
       "      <td>K19290</td>\n",
       "      <td>map00051</td>\n",
       "      <td>Fructose and mannose metabolism</td>\n",
       "      <td>K19290,K11196,K18818,K00064,K01805,K01622,K017...</td>\n",
       "      <td>113</td>\n",
       "    </tr>\n",
       "    <tr>\n",
       "      <th>...</th>\n",
       "      <td>...</td>\n",
       "      <td>...</td>\n",
       "      <td>...</td>\n",
       "      <td>...</td>\n",
       "      <td>...</td>\n",
       "    </tr>\n",
       "    <tr>\n",
       "      <th>59355</th>\n",
       "      <td>K26491</td>\n",
       "      <td>M00971</td>\n",
       "      <td>QS-7 biosynthesis, 2,3-epoxysqualene =&gt; QS-7</td>\n",
       "      <td>K15813,K20667,K26481,K26482,K26483,K26484,K264...</td>\n",
       "      <td>15</td>\n",
       "    </tr>\n",
       "    <tr>\n",
       "      <th>59356</th>\n",
       "      <td>K26493</td>\n",
       "      <td>M00971</td>\n",
       "      <td>QS-7 biosynthesis, 2,3-epoxysqualene =&gt; QS-7</td>\n",
       "      <td>K15813,K20667,K26481,K26482,K26483,K26484,K264...</td>\n",
       "      <td>15</td>\n",
       "    </tr>\n",
       "    <tr>\n",
       "      <th>59357</th>\n",
       "      <td>K26494</td>\n",
       "      <td>M00971</td>\n",
       "      <td>QS-7 biosynthesis, 2,3-epoxysqualene =&gt; QS-7</td>\n",
       "      <td>K15813,K20667,K26481,K26482,K26483,K26484,K264...</td>\n",
       "      <td>15</td>\n",
       "    </tr>\n",
       "    <tr>\n",
       "      <th>59358</th>\n",
       "      <td>K26495</td>\n",
       "      <td>M00971</td>\n",
       "      <td>QS-7 biosynthesis, 2,3-epoxysqualene =&gt; QS-7</td>\n",
       "      <td>K15813,K20667,K26481,K26482,K26483,K26484,K264...</td>\n",
       "      <td>15</td>\n",
       "    </tr>\n",
       "    <tr>\n",
       "      <th>59359</th>\n",
       "      <td>K27109</td>\n",
       "      <td>M00155</td>\n",
       "      <td>Cytochrome c oxidase, prokaryotes</td>\n",
       "      <td>K02274,K02275,K02276,K02277,K15408,K27109</td>\n",
       "      <td>6</td>\n",
       "    </tr>\n",
       "  </tbody>\n",
       "</table>\n",
       "<p>59360 rows × 5 columns</p>\n",
       "</div>"
      ],
      "text/plain": [
       "        KOGID CATEGORY_ID                                 CATEGORY_NAME  \\\n",
       "0      K20411    map04150                        mTOR signaling pathway   \n",
       "1      K00919    map00900               Terpenoid backbone biosynthesis   \n",
       "2      K00919    map01100                            Metabolic pathways   \n",
       "3      K00919    map01110         Biosynthesis of secondary metabolites   \n",
       "4      K19290    map00051               Fructose and mannose metabolism   \n",
       "...       ...         ...                                           ...   \n",
       "59355  K26491      M00971  QS-7 biosynthesis, 2,3-epoxysqualene => QS-7   \n",
       "59356  K26493      M00971  QS-7 biosynthesis, 2,3-epoxysqualene => QS-7   \n",
       "59357  K26494      M00971  QS-7 biosynthesis, 2,3-epoxysqualene => QS-7   \n",
       "59358  K26495      M00971  QS-7 biosynthesis, 2,3-epoxysqualene => QS-7   \n",
       "59359  K27109      M00155             Cytochrome c oxidase, prokaryotes   \n",
       "\n",
       "                                                  KOGIDS  NUM_KOGS  \n",
       "0      K20411,K20405,K00312,K14004,K13780,K01384,K204...       117  \n",
       "1      K00919,K01597,K21268,K12503,K11778,K06013,K000...        63  \n",
       "2      K00919,K19290,K05861,K18824,K22574,K22212,K231...      4732  \n",
       "3      K00919,K21069,K22574,K20439,K00931,K00064,K219...      2115  \n",
       "4      K19290,K11196,K18818,K00064,K01805,K01622,K017...       113  \n",
       "...                                                  ...       ...  \n",
       "59355  K15813,K20667,K26481,K26482,K26483,K26484,K264...        15  \n",
       "59356  K15813,K20667,K26481,K26482,K26483,K26484,K264...        15  \n",
       "59357  K15813,K20667,K26481,K26482,K26483,K26484,K264...        15  \n",
       "59358  K15813,K20667,K26481,K26482,K26483,K26484,K264...        15  \n",
       "59359          K02274,K02275,K02276,K02277,K15408,K27109         6  \n",
       "\n",
       "[59360 rows x 5 columns]"
      ]
     },
     "execution_count": 7,
     "metadata": {},
     "output_type": "execute_result"
    }
   ],
   "source": [
    "kegg_categories"
   ]
  },
  {
   "cell_type": "code",
   "execution_count": 84,
   "id": "37cddc89-c0e4-4f2c-8f81-749bace00fd3",
   "metadata": {
    "tags": []
   },
   "outputs": [],
   "source": [
    "kegg_categories_groups.to_csv(\"/data/luojaa/kegg/kegg_categories_searchable.tsv\", sep = \"\\t\", index = None)"
   ]
  },
  {
   "cell_type": "code",
   "execution_count": 94,
   "id": "0da3a7fb-bbb6-453b-a9b5-3716a288555e",
   "metadata": {
    "tags": []
   },
   "outputs": [
    {
     "ename": "NameError",
     "evalue": "name 'kogs_df_searchable' is not defined",
     "output_type": "error",
     "traceback": [
      "\u001b[0;31m---------------------------------------------------------------------------\u001b[0m",
      "\u001b[0;31mNameError\u001b[0m                                 Traceback (most recent call last)",
      "Cell \u001b[0;32mIn[94], line 1\u001b[0m\n\u001b[0;32m----> 1\u001b[0m getkogs_wdescr(\u001b[43mkogs_df_searchable\u001b[49m, \u001b[38;5;124m\"\u001b[39m\u001b[38;5;124mmalate\u001b[39m\u001b[38;5;124m\"\u001b[39m)\n",
      "\u001b[0;31mNameError\u001b[0m: name 'kogs_df_searchable' is not defined"
     ]
    }
   ],
   "source": [
    "getkogs_wdescr(kogs_df_searchable, \"malate\")"
   ]
  },
  {
   "cell_type": "code",
   "execution_count": 93,
   "id": "55d6bdef-e9c1-4eba-96b1-ab7112690ed0",
   "metadata": {},
   "outputs": [
    {
     "data": {
      "text/plain": [
       "{'(S)-malate:NAD+ oxidoreductase': ['K00024', 'K00025', 'K00026'],\n",
       " '(S)-malate:NAD+ oxidoreductase (decarboxylating)': ['K00027', 'K00028'],\n",
       " '(S)-malate:NADP+ oxidoreductase(oxaloacetate-decarboxylating)': ['K00029'],\n",
       " '(S)-malate:NADP+ oxidoreductase': ['K00051'],\n",
       " '(2R,3S)-3-methylmalate:NAD+ oxidoreductase': ['K00052'],\n",
       " '(2R,3S)-3-isopropylmalate:NAD+ oxidoreductase': ['K00052', 'K21360'],\n",
       " '(S)-malate:oxygen oxidoreductase': ['K00116'],\n",
       " '(S)-malate:quinone oxidoreductase': ['K00116'],\n",
       " '(S)-malate:FAD oxidoreductase': ['K00116'],\n",
       " '(S)-malate hydro-lyase (fumarate-forming)': ['K01675',\n",
       "  'K01676',\n",
       "  'K01677',\n",
       "  'K01678',\n",
       "  'K01679',\n",
       "  'K01774'],\n",
       " '2-isopropylmalate hydro-lyase': ['K01702', 'K01703', 'K01704', 'K21359'],\n",
       " '3-isopropylmalate hydro-lyase': ['K01702', 'K01703', 'K01704', 'K21359'],\n",
       " '(2R,3S)-3-isopropylmalate hydro-lyase (2-isopropylmaleate-forming)': ['K01702',\n",
       "  'K01703',\n",
       "  'K01704',\n",
       "  'K21359'],\n",
       " '(R)-2-methylmalate hydro-lyase (2-methylmaleate-forming)': ['K01703',\n",
       "  'K01704'],\n",
       " \"2-(2'-methylthio)ethylmalate hydroxymutase\": ['K01703', 'K21359'],\n",
       " \"2-(3'-methylthio)propylmalate hydroxymutase\": ['K01703', 'K21359'],\n",
       " \"2-(3'-methylthio)butylmalate hydroxymutase\": ['K01703', 'K21359'],\n",
       " \"2-(3'-methylthio)pentylmalate hydroxymutase\": ['K01703', 'K21359'],\n",
       " \"2-(3'-methylthio)hexylmalate hydroxymutase\": ['K01703', 'K21359'],\n",
       " \"2-(3'-methylthio)heptylmalate hydroxymutase\": ['K01703', 'K21359'],\n",
       " '(R)-malate:NAD+ oxidoreductase (decarboxylating)': ['K07246'],\n",
       " '(S)-malate:CoA ligase (ADP-forming)': ['K08692', 'K14067'],\n",
       " '1-O-sinapoyl-beta-D-glucose:(S)-malate O-sinapoyltransferase': ['K09757'],\n",
       " 'succinyl-CoA:(S)-malate CoA-transferase': ['K14471', 'K14472'],\n",
       " 'succinyl-CoA:(S)-citramalate CoA-transferase': ['K14471',\n",
       "  'K14472',\n",
       "  'K18289'],\n",
       " '2-benzylmalate hydro-lyase (3-benzylmalate-forming)': ['K17749'],\n",
       " '3-benzylmalate:NAD+ oxidoreductase (decarboxylating)': ['K17750'],\n",
       " 'succinyl-CoA:(R)-citramalate CoA-transferase': ['K18313'],\n",
       " 'succinyl-CoA:(R)-malate CoA-transferase': ['K18313'],\n",
       " '(2R,3S)-2,3-dimethylmalate hydro-lyase (dimethylmaleate-forming)': ['K20452',\n",
       "  'K20453'],\n",
       " '2,3-dimethylmalate pyruvate-lyase': ['K20454'],\n",
       " '2-phosphinomethylmalate hydro-lyase [3-phosphinomethylmalate-forming]': ['K20930'],\n",
       " \"3-(2'-methylthio)ethylmalate:NAD+ oxidoreductase (decarboxylating)\": ['K21360'],\n",
       " \"3-(3'-methylthio)propylmalate:NAD+ oxidoreductase (decarboxylating)\": ['K21360'],\n",
       " \"3-(4'-methylthio)butylmalate:NAD+ oxidoreductase (decarboxylating)\": ['K21360'],\n",
       " \"3-(5'-methylthio)pentylmalate:NAD+ oxidoreductase (decarboxylating)\": ['K21360'],\n",
       " \"3-(6'-methylthio)hexylmalate:NAD+ oxidoreductase (decarboxylating)\": ['K21360'],\n",
       " \"3-(7'-methylthio)heptylmalate:NAD+ oxidoreductase (decarboxylating)\": ['K21360'],\n",
       " '(S)-malate carboxy-lyase': ['K22212']}"
      ]
     },
     "execution_count": 93,
     "metadata": {},
     "output_type": "execute_result"
    }
   ],
   "source": [
    "# explore dataframes\n",
    "def filter_iseuk_kogid(df, kogid):\n",
    "    return df[(df[\"KOGID\"] == kogid) & (df[\"ISEUK\"])]\n",
    "#filter_iseuk_kogid(kogs_df_searchable, \"K00029\")\n",
    "def getkogs_wdescr(df, descr):\n",
    "    return df[df[\"FUNCTION\"].str.contains(descr)][\"KOGID\"].value_counts()\n",
    "#getkogs_wdescr(kogs_df_searchable, \"malate dehydrogenase\")\n",
    "def getkogs_wcategory(df, category):\n",
    "    df_filtered = df[df[\"CATEGORY_NAME\"].str.contains(category)]\n",
    "    kogs_s = df_filtered[\"KOGIDS\"].str.split(\",\")\n",
    "    names_s = df_filtered[\"CATEGORY_NAME\"]\n",
    "    return dict(zip(names_s, kogs_s))\n",
    "getkogs_wcategory(kegg_categories_groups, \"malate\")"
   ]
  },
  {
   "cell_type": "code",
   "execution_count": null,
   "id": "dcd1bf6d-7811-41a2-986a-b13d5074d8b2",
   "metadata": {},
   "outputs": [],
   "source": []
  }
 ],
 "metadata": {
  "kernelspec": {
   "display_name": "default",
   "language": "python",
   "name": "default"
  },
  "language_info": {
   "codemirror_mode": {
    "name": "ipython",
    "version": 3
   },
   "file_extension": ".py",
   "mimetype": "text/x-python",
   "name": "python",
   "nbconvert_exporter": "python",
   "pygments_lexer": "ipython3",
   "version": "3.12.2"
  }
 },
 "nbformat": 4,
 "nbformat_minor": 5
}
