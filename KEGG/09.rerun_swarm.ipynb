{
 "cells": [
  {
   "cell_type": "code",
   "execution_count": 1,
   "id": "395da15b-eab8-4709-b21b-e311a40563ba",
   "metadata": {
    "tags": []
   },
   "outputs": [],
   "source": [
    "import os\n",
    "import sys\n",
    "module_path = os.path.abspath(os.path.join('..'))\n",
    "if module_path not in sys.path:\n",
    "    sys.path.append(module_path)"
   ]
  },
  {
   "cell_type": "code",
   "execution_count": 2,
   "id": "e6171242-9e5a-48ac-affb-d8ca488eec62",
   "metadata": {
    "tags": []
   },
   "outputs": [],
   "source": [
    "from core_functions.mmseqs_functions import realign_all_fastas_swarm_binned\n",
    "from paths_and_parameters import realignment_swarm_opts"
   ]
  },
  {
   "cell_type": "code",
   "execution_count": null,
   "id": "bb1f4601-6673-4a11-a643-ad8dcbacedc3",
   "metadata": {},
   "outputs": [],
   "source": [
    "# if the realignment script fails, K#####.fasta files missing \"-\"\n",
    "# other realigned fasta files may also lack \"-\"\n",
    "# these files may already by modified (cropped). This is good. Copy all such files from working directory to a new directory and rerun realignment script OR \n",
    "# remove all intermediate files and "
   ]
  },
  {
   "cell_type": "markdown",
   "id": "9fa94311-133a-46bc-8676-2993e5722a64",
   "metadata": {},
   "source": [
    "grep -H \"-\" /data/luojaa/kog_fastas/*.fasta | awk -F : ' { print $1 } ' | uniq | wc -l\n",
    "13858\n",
    "\n",
    "ls /data/luojaa/kog_fastas/*.fasta | wc -l\n",
    "15658\n",
    "\n",
    "there are cases where there are multiple maxxcc mergings per fasta, so this gives us an upper bound. the top command gives a lower bound.\n",
    "\n",
    "some maxxcc mergings also don't result in completed runs (no \"Wrote to fasta\" following mergings). /data/luojaa/kog_fastas/K19326.fasta\n",
    "\n",
    "for f in $(grep -L \"-\" /data/luojaa/kog_fastas/*.fasta); do cp $f /data/luojaa/unaligned_fastas/; done"
   ]
  }
 ],
 "metadata": {
  "kernelspec": {
   "display_name": "default",
   "language": "python",
   "name": "default"
  },
  "language_info": {
   "codemirror_mode": {
    "name": "ipython",
    "version": 3
   },
   "file_extension": ".py",
   "mimetype": "text/x-python",
   "name": "python",
   "nbconvert_exporter": "python",
   "pygments_lexer": "ipython3",
   "version": "3.12.2"
  }
 },
 "nbformat": 4,
 "nbformat_minor": 5
}
