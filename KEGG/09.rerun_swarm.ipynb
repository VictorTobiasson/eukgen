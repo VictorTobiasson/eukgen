{
 "cells": [
  {
   "cell_type": "code",
   "execution_count": 1,
   "id": "395da15b-eab8-4709-b21b-e311a40563ba",
   "metadata": {
    "tags": []
   },
   "outputs": [],
   "source": [
    "import os\n",
    "import sys\n",
    "module_path = os.path.abspath(os.path.join('..'))\n",
    "if module_path not in sys.path:\n",
    "    sys.path.append(module_path)"
   ]
  },
  {
   "cell_type": "code",
   "execution_count": 3,
   "id": "e6171242-9e5a-48ac-affb-d8ca488eec62",
   "metadata": {
    "tags": []
   },
   "outputs": [],
   "source": [
    "from core_functions.mmseqs_functions import realign_all_fastas_swarm_binned\n",
    "from paths_and_parameters import realignment_swarm_opts\n",
    "\n",
    "from core_functions.helper_functions import fasta_to_dict, dict_to_fasta, filter_by_entropy"
   ]
  },
  {
   "cell_type": "code",
   "execution_count": null,
   "id": "bb1f4601-6673-4a11-a643-ad8dcbacedc3",
   "metadata": {},
   "outputs": [],
   "source": [
    "# if the realignment script fails, K#####.fasta files missing \"-\"\n",
    "# other realigned fasta files may also lack \"-\"\n",
    "# these files may already by modified (cropped). This is good. Copy all such files from working directory to a new directory and rerun realignment script OR \n",
    "\n",
    "# if certain files fail to run or are super slow, just stop that swarm job and famsa the whole batch. \n",
    "\n",
    "# filter famsa alignments by entropy!"
   ]
  },
  {
   "cell_type": "code",
   "execution_count": 4,
   "id": "94923a88-6d05-43be-9ea0-32e4f53676f8",
   "metadata": {
    "tags": []
   },
   "outputs": [
    {
     "data": {
      "text/plain": [
       "['K01969.fasta',\n",
       " 'K01969.fasta.famsa',\n",
       " 'K03379.fasta',\n",
       " 'K03379.fasta.famsa',\n",
       " 'K04729.fasta',\n",
       " 'K04729.fasta.famsa',\n",
       " 'K09522.fasta',\n",
       " 'K09522.fasta.famsa',\n",
       " 'K12302.fasta',\n",
       " 'K12302.fasta.famsa',\n",
       " 'K12373.fasta',\n",
       " 'K12373.fasta.famsa',\n",
       " 'K12567.30.fasta',\n",
       " 'K12567.30.fasta.famsa',\n",
       " 'K13126.fasta',\n",
       " 'K13126.fasta.famsa',\n",
       " 'K14387.fasta',\n",
       " 'K14387.fasta.famsa',\n",
       " 'K16580.fasta',\n",
       " 'K16580.fasta.famsa',\n",
       " 'K18267.fasta',\n",
       " 'K18267.fasta.famsa',\n",
       " 'K19326.fasta',\n",
       " 'K19326.fasta.famsa',\n",
       " 'K19346.fasta',\n",
       " 'K19346.fasta.famsa',\n",
       " 'K23806.fasta',\n",
       " 'K23806.fasta.famsa',\n",
       " 'K24240.fasta',\n",
       " 'K24240.fasta.famsa',\n",
       " 'K24434.fasta',\n",
       " 'K24434.fasta.famsa']"
      ]
     },
     "execution_count": 4,
     "metadata": {},
     "output_type": "execute_result"
    }
   ],
   "source": [
    "os.listdir(\"/data/luojaa/famsa_fastas\")"
   ]
  },
  {
   "cell_type": "code",
   "execution_count": 10,
   "id": "d428efd8-8215-43de-9859-53e495c350ae",
   "metadata": {
    "tags": []
   },
   "outputs": [],
   "source": [
    "base_root = \"/data/luojaa/famsa_fastas/\""
   ]
  },
  {
   "cell_type": "code",
   "execution_count": 11,
   "id": "8377c86b-8cb9-4e92-8205-e47e5640366a",
   "metadata": {
    "tags": []
   },
   "outputs": [],
   "source": [
    "famsa_fastas = [f for f in os.listdir(base_root) if \".famsa\" in f]"
   ]
  },
  {
   "cell_type": "code",
   "execution_count": 16,
   "id": "1c99f50c-3a3b-461b-97d8-619856abc1dc",
   "metadata": {
    "tags": []
   },
   "outputs": [
    {
     "name": "stdout",
     "output_type": "stream",
     "text": [
      "Wrote /data/luojaa/famsa_fastas/K01969.fasta.famsa.filtered\n",
      "Wrote /data/luojaa/famsa_fastas/K03379.fasta.famsa.filtered\n",
      "Wrote /data/luojaa/famsa_fastas/K04729.fasta.famsa.filtered\n",
      "Wrote /data/luojaa/famsa_fastas/K09522.fasta.famsa.filtered\n",
      "Wrote /data/luojaa/famsa_fastas/K12302.fasta.famsa.filtered\n",
      "Wrote /data/luojaa/famsa_fastas/K12373.fasta.famsa.filtered\n",
      "Wrote /data/luojaa/famsa_fastas/K12567.30.fasta.famsa.filtered\n",
      "Wrote /data/luojaa/famsa_fastas/K13126.fasta.famsa.filtered\n",
      "Wrote /data/luojaa/famsa_fastas/K14387.fasta.famsa.filtered\n",
      "Wrote /data/luojaa/famsa_fastas/K16580.fasta.famsa.filtered\n",
      "Wrote /data/luojaa/famsa_fastas/K18267.fasta.famsa.filtered\n",
      "Wrote /data/luojaa/famsa_fastas/K19326.fasta.famsa.filtered\n",
      "Wrote /data/luojaa/famsa_fastas/K19346.fasta.famsa.filtered\n",
      "Wrote /data/luojaa/famsa_fastas/K23806.fasta.famsa.filtered\n",
      "Wrote /data/luojaa/famsa_fastas/K24240.fasta.famsa.filtered\n",
      "Wrote /data/luojaa/famsa_fastas/K24434.fasta.famsa.filtered\n"
     ]
    }
   ],
   "source": [
    "for famsa in famsa_fastas:\n",
    "    filepath = base_root + famsa\n",
    "    aln = fasta_to_dict(file=filepath)\n",
    "    aln_filter = filter_by_entropy(aln, .25)\n",
    "    outfasta = filepath + \".filtered\"\n",
    "    dict_to_fasta(aln_filter, write_file=outfasta)"
   ]
  },
  {
   "cell_type": "code",
   "execution_count": null,
   "id": "a8a74548-5beb-4672-9c4d-49d23570c1a9",
   "metadata": {},
   "outputs": [],
   "source": [
    "# aln = fasta_to_dict(file=muscle_fasta)\n",
    "# aln_filter = filter_by_entropy(aln, filter_entropy)\n",
    "\n",
    "# if save_intermediate_files:\n",
    "#     dict_to_fasta(aln_filter, write_file=f'{fasta}.aln')\n",
    "\n",
    "# else:\n",
    "#     dict_to_fasta(aln_filter, write_file=fasta)"
   ]
  },
  {
   "cell_type": "markdown",
   "id": "80b18dcd-ed8f-4aef-97b4-d61874609f4f",
   "metadata": {},
   "source": [
    "#### scratch "
   ]
  },
  {
   "cell_type": "markdown",
   "id": "9fa94311-133a-46bc-8676-2993e5722a64",
   "metadata": {},
   "source": [
    "grep -H \"-\" /data/luojaa/kog_fastas/*.fasta | awk -F : ' { print $1 } ' | uniq | wc -l\n",
    "13858\n",
    "\n",
    "ls /data/luojaa/kog_fastas/*.fasta | wc -l\n",
    "15658\n",
    "\n",
    "there are cases where there are multiple maxxcc mergings per fasta, so this gives us an upper bound. the top command gives a lower bound.\n",
    "\n",
    "some maxxcc mergings also don't result in completed runs (no \"Wrote to fasta\" following mergings). /data/luojaa/kog_fastas/K19326.fasta\n",
    "\n",
    "for f in $(grep -L \"-\" /data/luojaa/kog_fastas/*.fasta); do cp $f /data/luojaa/unaligned_fastas/; done"
   ]
  }
 ],
 "metadata": {
  "kernelspec": {
   "display_name": "default",
   "language": "python",
   "name": "default"
  },
  "language_info": {
   "codemirror_mode": {
    "name": "ipython",
    "version": 3
   },
   "file_extension": ".py",
   "mimetype": "text/x-python",
   "name": "python",
   "nbconvert_exporter": "python",
   "pygments_lexer": "ipython3",
   "version": "3.12.2"
  }
 },
 "nbformat": 4,
 "nbformat_minor": 5
}
